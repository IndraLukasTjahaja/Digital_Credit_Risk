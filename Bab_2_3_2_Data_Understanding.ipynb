{
  "nbformat": 4,
  "nbformat_minor": 0,
  "metadata": {
    "colab": {
      "name": "Bab_2.3.2_Data_Understanding.ipynb",
      "provenance": [],
      "authorship_tag": "ABX9TyPw8MI9fMJ7RROwLfMB+fpr",
      "include_colab_link": true
    },
    "kernelspec": {
      "name": "python3",
      "display_name": "Python 3"
    },
    "language_info": {
      "name": "python"
    }
  },
  "cells": [
    {
      "cell_type": "markdown",
      "metadata": {
        "id": "view-in-github",
        "colab_type": "text"
      },
      "source": [
        "<a href=\"https://colab.research.google.com/github/IndraLukasTjahaja/Digital_Credit_Risk/blob/main/Bab_2_3_2_Data_Understanding.ipynb\" target=\"_parent\"><img src=\"https://colab.research.google.com/assets/colab-badge.svg\" alt=\"Open In Colab\"/></a>"
      ]
    },
    {
      "cell_type": "code",
      "metadata": {
        "id": "lijleEyYl6gW"
      },
      "source": [
        "# 2.3.2.1 Persiapan data dan impor ke Python"
      ],
      "execution_count": 173,
      "outputs": []
    },
    {
      "cell_type": "code",
      "metadata": {
        "id": "X4yjdoBnl9Xv"
      },
      "source": [
        "# 2.3.2.2 Impor data di Python\n",
        "\n",
        "# library panda untuk menggunakan data frame\n",
        "import pandas as pd\n",
        "\n",
        "# Impor data dari excel xls ke Python\n",
        "# Pembaca dapat langsung menunjuk kepada file excel yang terletak di website pendamping buku ini\n",
        "# atau mengunduh terlebih dahulu dan menunjuk ke file excel di lokasi hard drive\n",
        "# contoh: df = pd.read_excel('C:\\User\\pembaca\\downloads\\Credit_Scoring_Dataset.xlsx')\n",
        "\n",
        "df = pd.read_excel('https://github.com/IndraLukasTjahaja/Digital_Credit_Risk/raw/main/Credit_Scoring_Dataset.xlsx')"
      ],
      "execution_count": 174,
      "outputs": []
    },
    {
      "cell_type": "code",
      "metadata": {
        "colab": {
          "base_uri": "https://localhost:8080/",
          "height": 435
        },
        "id": "xDekPk8lmZ3N",
        "outputId": "9e4af5a3-8cbb-46ce-b823-9f56af17260f"
      },
      "source": [
        "# 2.3.2.3 Struktur data\n",
        "\n",
        "# Melihat sample dari dataset\n",
        "df.head(10) # Menampilkan 10 baris teratas dari dataframe df"
      ],
      "execution_count": 175,
      "outputs": [
        {
          "output_type": "execute_result",
          "data": {
            "text/html": [
              "<div>\n",
              "<style scoped>\n",
              "    .dataframe tbody tr th:only-of-type {\n",
              "        vertical-align: middle;\n",
              "    }\n",
              "\n",
              "    .dataframe tbody tr th {\n",
              "        vertical-align: top;\n",
              "    }\n",
              "\n",
              "    .dataframe thead th {\n",
              "        text-align: right;\n",
              "    }\n",
              "</style>\n",
              "<table border=\"1\" class=\"dataframe\">\n",
              "  <thead>\n",
              "    <tr style=\"text-align: right;\">\n",
              "      <th></th>\n",
              "      <th>ID</th>\n",
              "      <th>gagal_bayar</th>\n",
              "      <th>Lama_Cicilan</th>\n",
              "      <th>Tujuan_Pinjaman</th>\n",
              "      <th>Jumlah_Pinjaman</th>\n",
              "      <th>Pekerjaan</th>\n",
              "      <th>Pendapatan_perbulan</th>\n",
              "      <th>Lama_Bekerja</th>\n",
              "      <th>Status</th>\n",
              "      <th>Kepemilikan_Rumah</th>\n",
              "      <th>Alamat_Rumah</th>\n",
              "      <th>Alamat_Kantor</th>\n",
              "      <th>Usia</th>\n",
              "      <th>Lama_tinggal_ditempat_sekarang</th>\n",
              "      <th>SLIK_Kolektibilitas</th>\n",
              "      <th>SLIK_Cicilan_Bulanan</th>\n",
              "      <th>SLIK_Outstanding_CC</th>\n",
              "      <th>API_CreditScore_Vendor_A</th>\n",
              "      <th>API_CreditScore_Vendor_B</th>\n",
              "      <th>Device_Type</th>\n",
              "      <th>Device_Apps_Installed</th>\n",
              "      <th>Device_Active_Since</th>\n",
              "      <th>Device_Apps_Segmentation</th>\n",
              "      <th>Mobile_Provider</th>\n",
              "      <th>Mobile_Number_Active_Since</th>\n",
              "      <th>Email_Domain_Type</th>\n",
              "    </tr>\n",
              "  </thead>\n",
              "  <tbody>\n",
              "    <tr>\n",
              "      <th>0</th>\n",
              "      <td>ABC0001</td>\n",
              "      <td>0_Bayar</td>\n",
              "      <td>1</td>\n",
              "      <td>peralatan_rumahtangga</td>\n",
              "      <td>500000</td>\n",
              "      <td>1_pegawai_tetap</td>\n",
              "      <td>5. &gt;20 juta</td>\n",
              "      <td>5_&gt;7_tahun_kerja</td>\n",
              "      <td>2_menikah</td>\n",
              "      <td>1_milik_sendiri</td>\n",
              "      <td>Daerah_3</td>\n",
              "      <td>Daerah_3</td>\n",
              "      <td>67.0</td>\n",
              "      <td>4_&gt;10_tahun</td>\n",
              "      <td>1.0</td>\n",
              "      <td>4.679660e+06</td>\n",
              "      <td>0.0</td>\n",
              "      <td>305</td>\n",
              "      <td>192</td>\n",
              "      <td>Android</td>\n",
              "      <td>16</td>\n",
              "      <td>2_1_ke_3_tahun</td>\n",
              "      <td>Social_Media</td>\n",
              "      <td>Telco_A</td>\n",
              "      <td>1_Kurang_1_bulan</td>\n",
              "      <td>Public_Domain</td>\n",
              "    </tr>\n",
              "    <tr>\n",
              "      <th>1</th>\n",
              "      <td>ABC0003</td>\n",
              "      <td>0_Bayar</td>\n",
              "      <td>2</td>\n",
              "      <td>liburan</td>\n",
              "      <td>1000000</td>\n",
              "      <td>3_wiraswasta</td>\n",
              "      <td>1. &lt; 1 juta</td>\n",
              "      <td>4_4-7_tahun_kerja</td>\n",
              "      <td>2_menikah</td>\n",
              "      <td>1_milik_sendiri</td>\n",
              "      <td>Daerah_2</td>\n",
              "      <td>Daerah_1</td>\n",
              "      <td>49.0</td>\n",
              "      <td>3_5-10_tahun</td>\n",
              "      <td>1.0</td>\n",
              "      <td>2.293974e+06</td>\n",
              "      <td>0.0</td>\n",
              "      <td>858</td>\n",
              "      <td>97</td>\n",
              "      <td>Android</td>\n",
              "      <td>108</td>\n",
              "      <td>3_Lebih_3_tahun</td>\n",
              "      <td>Games</td>\n",
              "      <td>Telco_A</td>\n",
              "      <td>2_Kurang_1_tahun</td>\n",
              "      <td>Public_Domain</td>\n",
              "    </tr>\n",
              "    <tr>\n",
              "      <th>2</th>\n",
              "      <td>ABC0010</td>\n",
              "      <td>1_Gagal</td>\n",
              "      <td>5</td>\n",
              "      <td>barang_baru</td>\n",
              "      <td>500000</td>\n",
              "      <td>4_tidak_bekerja</td>\n",
              "      <td>1. &lt; 1 juta</td>\n",
              "      <td>1_tidak_bekerja</td>\n",
              "      <td>3_bercerai</td>\n",
              "      <td>1_milik_sendiri</td>\n",
              "      <td>Daerah_2</td>\n",
              "      <td>Daerah_2</td>\n",
              "      <td>28.0</td>\n",
              "      <td>2_1-5_tahun</td>\n",
              "      <td>1.0</td>\n",
              "      <td>2.331354e+06</td>\n",
              "      <td>0.0</td>\n",
              "      <td>254</td>\n",
              "      <td>285</td>\n",
              "      <td>Android</td>\n",
              "      <td>51</td>\n",
              "      <td>3_Lebih_3_tahun</td>\n",
              "      <td>Social_Media</td>\n",
              "      <td>Telco_C</td>\n",
              "      <td>1_Kurang_1_bulan</td>\n",
              "      <td>Public_Domain</td>\n",
              "    </tr>\n",
              "    <tr>\n",
              "      <th>3</th>\n",
              "      <td>ABC0014</td>\n",
              "      <td>1_Gagal</td>\n",
              "      <td>4</td>\n",
              "      <td>barang_baru</td>\n",
              "      <td>500000</td>\n",
              "      <td>3_wiraswasta</td>\n",
              "      <td>1. &lt; 1 juta</td>\n",
              "      <td>5_&gt;7_tahun_kerja</td>\n",
              "      <td>2_menikah</td>\n",
              "      <td>1_milik_sendiri</td>\n",
              "      <td>Daerah_3</td>\n",
              "      <td>Daerah_2</td>\n",
              "      <td>60.0</td>\n",
              "      <td>4_&gt;10_tahun</td>\n",
              "      <td>1.0</td>\n",
              "      <td>3.226113e+06</td>\n",
              "      <td>0.0</td>\n",
              "      <td>915</td>\n",
              "      <td>95</td>\n",
              "      <td>Android</td>\n",
              "      <td>22</td>\n",
              "      <td>3_Lebih_3_tahun</td>\n",
              "      <td>Productivity</td>\n",
              "      <td>Telco_D</td>\n",
              "      <td>1_Kurang_1_bulan</td>\n",
              "      <td>Public_Domain</td>\n",
              "    </tr>\n",
              "    <tr>\n",
              "      <th>4</th>\n",
              "      <td>ABC0017</td>\n",
              "      <td>0_Bayar</td>\n",
              "      <td>4</td>\n",
              "      <td>peralatan_rumahtangga</td>\n",
              "      <td>1000000</td>\n",
              "      <td>1_pegawai_tetap</td>\n",
              "      <td>5. &gt;20 juta</td>\n",
              "      <td>5_&gt;7_tahun_kerja</td>\n",
              "      <td>2_menikah</td>\n",
              "      <td>1_milik_sendiri</td>\n",
              "      <td>Daerah_4</td>\n",
              "      <td>Daerah_3</td>\n",
              "      <td>53.0</td>\n",
              "      <td>4_&gt;10_tahun</td>\n",
              "      <td>1.0</td>\n",
              "      <td>4.667793e+06</td>\n",
              "      <td>0.0</td>\n",
              "      <td>837</td>\n",
              "      <td>231</td>\n",
              "      <td>IOS</td>\n",
              "      <td>81</td>\n",
              "      <td>3_Lebih_3_tahun</td>\n",
              "      <td>Games</td>\n",
              "      <td>Telco_C</td>\n",
              "      <td>4_2_ke_5_tahun</td>\n",
              "      <td>Public_Domain</td>\n",
              "    </tr>\n",
              "    <tr>\n",
              "      <th>5</th>\n",
              "      <td>ABC0021</td>\n",
              "      <td>0_Bayar</td>\n",
              "      <td>2</td>\n",
              "      <td>barang_baru</td>\n",
              "      <td>1000000</td>\n",
              "      <td>1_pegawai_tetap</td>\n",
              "      <td>1. &lt; 1 juta</td>\n",
              "      <td>3_1-4_tahun_kerja</td>\n",
              "      <td>2_menikah</td>\n",
              "      <td>1_milik_sendiri</td>\n",
              "      <td>Daerah_3</td>\n",
              "      <td>Daerah_3</td>\n",
              "      <td>48.0</td>\n",
              "      <td>4_&gt;10_tahun</td>\n",
              "      <td>1.0</td>\n",
              "      <td>3.518565e+05</td>\n",
              "      <td>0.0</td>\n",
              "      <td>720</td>\n",
              "      <td>63</td>\n",
              "      <td>Android</td>\n",
              "      <td>106</td>\n",
              "      <td>2_1_ke_3_tahun</td>\n",
              "      <td>Games</td>\n",
              "      <td>Telco_A</td>\n",
              "      <td>1_Kurang_1_bulan</td>\n",
              "      <td>Public_Domain</td>\n",
              "    </tr>\n",
              "    <tr>\n",
              "      <th>6</th>\n",
              "      <td>ABC0023</td>\n",
              "      <td>0_Bayar</td>\n",
              "      <td>2</td>\n",
              "      <td>barang_baru</td>\n",
              "      <td>1000000</td>\n",
              "      <td>3_wiraswasta</td>\n",
              "      <td>1. &lt; 1 juta</td>\n",
              "      <td>2_&lt;1_tahun_kerja</td>\n",
              "      <td>2_menikah</td>\n",
              "      <td>2_sewa</td>\n",
              "      <td>Daerah_1</td>\n",
              "      <td>Daerah_3</td>\n",
              "      <td>48.0</td>\n",
              "      <td>3_5-10_tahun</td>\n",
              "      <td>1.0</td>\n",
              "      <td>4.551689e+06</td>\n",
              "      <td>0.0</td>\n",
              "      <td>576</td>\n",
              "      <td>119</td>\n",
              "      <td>Android</td>\n",
              "      <td>69</td>\n",
              "      <td>1_Kurang_1_tahun</td>\n",
              "      <td>Games</td>\n",
              "      <td>Telco_A</td>\n",
              "      <td>3_1_ke_2_tahun</td>\n",
              "      <td>Public_Domain</td>\n",
              "    </tr>\n",
              "    <tr>\n",
              "      <th>7</th>\n",
              "      <td>ABC0024</td>\n",
              "      <td>0_Bayar</td>\n",
              "      <td>2</td>\n",
              "      <td>barang_bekas</td>\n",
              "      <td>500000</td>\n",
              "      <td>1_pegawai_tetap</td>\n",
              "      <td>2. 1 - 5 juta</td>\n",
              "      <td>2_&lt;1_tahun_kerja</td>\n",
              "      <td>2_menikah</td>\n",
              "      <td>1_milik_sendiri</td>\n",
              "      <td>Daerah_2</td>\n",
              "      <td>Daerah_2</td>\n",
              "      <td>44.0</td>\n",
              "      <td>4_&gt;10_tahun</td>\n",
              "      <td>1.0</td>\n",
              "      <td>1.918335e+06</td>\n",
              "      <td>0.0</td>\n",
              "      <td>116</td>\n",
              "      <td>173</td>\n",
              "      <td>Android</td>\n",
              "      <td>35</td>\n",
              "      <td>3_Lebih_3_tahun</td>\n",
              "      <td>Productivity</td>\n",
              "      <td>Telco_A</td>\n",
              "      <td>5_Lebih_5_tahun</td>\n",
              "      <td>Public_Domain</td>\n",
              "    </tr>\n",
              "    <tr>\n",
              "      <th>8</th>\n",
              "      <td>ABC0025</td>\n",
              "      <td>0_Bayar</td>\n",
              "      <td>2</td>\n",
              "      <td>elektronik</td>\n",
              "      <td>1000000</td>\n",
              "      <td>1_pegawai_tetap</td>\n",
              "      <td>5. &gt;20 juta</td>\n",
              "      <td>3_1-4_tahun_kerja</td>\n",
              "      <td>3_bercerai</td>\n",
              "      <td>1_milik_sendiri</td>\n",
              "      <td>Daerah_4</td>\n",
              "      <td>Daerah_1</td>\n",
              "      <td>26.0</td>\n",
              "      <td>1_&lt;1_tahun</td>\n",
              "      <td>1.0</td>\n",
              "      <td>3.521921e+06</td>\n",
              "      <td>0.0</td>\n",
              "      <td>730</td>\n",
              "      <td>333</td>\n",
              "      <td>Android</td>\n",
              "      <td>97</td>\n",
              "      <td>2_1_ke_3_tahun</td>\n",
              "      <td>Games</td>\n",
              "      <td>Telco_B</td>\n",
              "      <td>1_Kurang_1_bulan</td>\n",
              "      <td>Public_Domain</td>\n",
              "    </tr>\n",
              "    <tr>\n",
              "      <th>9</th>\n",
              "      <td>ABC0034</td>\n",
              "      <td>0_Bayar</td>\n",
              "      <td>2</td>\n",
              "      <td>buka_bisnis</td>\n",
              "      <td>500000</td>\n",
              "      <td>3_wiraswasta</td>\n",
              "      <td>5. &gt;20 juta</td>\n",
              "      <td>5_&gt;7_tahun_kerja</td>\n",
              "      <td>2_menikah</td>\n",
              "      <td>2_sewa</td>\n",
              "      <td>Daerah_1</td>\n",
              "      <td>Daerah_4</td>\n",
              "      <td>57.0</td>\n",
              "      <td>4_&gt;10_tahun</td>\n",
              "      <td>1.0</td>\n",
              "      <td>4.269425e+05</td>\n",
              "      <td>0.0</td>\n",
              "      <td>246</td>\n",
              "      <td>198</td>\n",
              "      <td>Android</td>\n",
              "      <td>75</td>\n",
              "      <td>3_Lebih_3_tahun</td>\n",
              "      <td>Social_Media</td>\n",
              "      <td>Telco_B</td>\n",
              "      <td>1_Kurang_1_bulan</td>\n",
              "      <td>Public_Domain</td>\n",
              "    </tr>\n",
              "  </tbody>\n",
              "</table>\n",
              "</div>"
            ],
            "text/plain": [
              "        ID gagal_bayar  ...  Mobile_Number_Active_Since Email_Domain_Type\n",
              "0  ABC0001     0_Bayar  ...            1_Kurang_1_bulan     Public_Domain\n",
              "1  ABC0003     0_Bayar  ...            2_Kurang_1_tahun     Public_Domain\n",
              "2  ABC0010     1_Gagal  ...            1_Kurang_1_bulan     Public_Domain\n",
              "3  ABC0014     1_Gagal  ...            1_Kurang_1_bulan     Public_Domain\n",
              "4  ABC0017     0_Bayar  ...              4_2_ke_5_tahun     Public_Domain\n",
              "5  ABC0021     0_Bayar  ...            1_Kurang_1_bulan     Public_Domain\n",
              "6  ABC0023     0_Bayar  ...              3_1_ke_2_tahun     Public_Domain\n",
              "7  ABC0024     0_Bayar  ...             5_Lebih_5_tahun     Public_Domain\n",
              "8  ABC0025     0_Bayar  ...            1_Kurang_1_bulan     Public_Domain\n",
              "9  ABC0034     0_Bayar  ...            1_Kurang_1_bulan     Public_Domain\n",
              "\n",
              "[10 rows x 26 columns]"
            ]
          },
          "metadata": {},
          "execution_count": 175
        }
      ]
    },
    {
      "cell_type": "code",
      "metadata": {
        "colab": {
          "base_uri": "https://localhost:8080/"
        },
        "id": "GrGQd7ePjIka",
        "outputId": "7347f56a-cd64-4e11-a415-96fbb2504de1"
      },
      "source": [
        "# Melihat penjelasan singkat dan tipe data\n",
        "df.info()"
      ],
      "execution_count": 176,
      "outputs": [
        {
          "output_type": "stream",
          "name": "stdout",
          "text": [
            "<class 'pandas.core.frame.DataFrame'>\n",
            "RangeIndex: 1000 entries, 0 to 999\n",
            "Data columns (total 26 columns):\n",
            " #   Column                          Non-Null Count  Dtype  \n",
            "---  ------                          --------------  -----  \n",
            " 0   ID                              999 non-null    object \n",
            " 1   gagal_bayar                     991 non-null    object \n",
            " 2   Lama_Cicilan                    1000 non-null   int64  \n",
            " 3   Tujuan_Pinjaman                 995 non-null    object \n",
            " 4   Jumlah_Pinjaman                 1000 non-null   int64  \n",
            " 5   Pekerjaan                       987 non-null    object \n",
            " 6   Pendapatan_perbulan             989 non-null    object \n",
            " 7   Lama_Bekerja                    972 non-null    object \n",
            " 8   Status                          995 non-null    object \n",
            " 9   Kepemilikan_Rumah               996 non-null    object \n",
            " 10  Alamat_Rumah                    1000 non-null   object \n",
            " 11  Alamat_Kantor                   1000 non-null   object \n",
            " 12  Usia                            998 non-null    float64\n",
            " 13  Lama_tinggal_ditempat_sekarang  997 non-null    object \n",
            " 14  SLIK_Kolektibilitas             947 non-null    float64\n",
            " 15  SLIK_Cicilan_Bulanan            1000 non-null   float64\n",
            " 16  SLIK_Outstanding_CC             1000 non-null   float64\n",
            " 17  API_CreditScore_Vendor_A        1000 non-null   int64  \n",
            " 18  API_CreditScore_Vendor_B        1000 non-null   int64  \n",
            " 19  Device_Type                     1000 non-null   object \n",
            " 20  Device_Apps_Installed           1000 non-null   int64  \n",
            " 21  Device_Active_Since             1000 non-null   object \n",
            " 22  Device_Apps_Segmentation        1000 non-null   object \n",
            " 23  Mobile_Provider                 1000 non-null   object \n",
            " 24  Mobile_Number_Active_Since      1000 non-null   object \n",
            " 25  Email_Domain_Type               1000 non-null   object \n",
            "dtypes: float64(4), int64(5), object(17)\n",
            "memory usage: 203.2+ KB\n"
          ]
        }
      ]
    },
    {
      "cell_type": "code",
      "metadata": {
        "id": "Mf2Ht_6cmehV"
      },
      "source": [
        "# 2.3.2.4 Tipe data\n",
        "\n",
        "# Merubah tipe data menjadi tipe karakter kategori\n",
        "df['ID'] = df.ID.astype('category')\n",
        "df['gagal_bayar'] = df.gagal_bayar.astype('category')\n",
        "df['Pekerjaan'] = df.Pekerjaan.astype('category')\n",
        "df['Tujuan_Pinjaman'] = df.Tujuan_Pinjaman.astype('category')\n",
        "df['Pendapatan_perbulan'] = df.Pendapatan_perbulan.astype('category')\n",
        "df['Lama_Bekerja'] = df.Lama_Bekerja.astype('category')\n",
        "df['Status'] = df.Status.astype('category')\n",
        "df['Kepemilikan_Rumah'] = df.Kepemilikan_Rumah.astype('category')\n",
        "df['Alamat_Rumah'] = df.Alamat_Rumah.astype('category')\n",
        "df['Alamat_Kantor'] = df.Alamat_Kantor.astype('category')\n",
        "df['Lama_tinggal_ditempat_sekarang'] = df.Lama_tinggal_ditempat_sekarang.astype('category')\n",
        "df['Device_Type'] = df.Device_Type.astype('category')\n",
        "df['Device_Active_Since'] = df.Device_Active_Since.astype('category')\n",
        "df['SLIK_Kolektibilitas'] = df.SLIK_Kolektibilitas.astype('category')\n",
        "df['Device_Apps_Segmentation'] = df.Device_Apps_Segmentation.astype('category')\n",
        "df['Mobile_Provider'] = df.Mobile_Provider.astype('category')\n",
        "df['Mobile_Number_Active_Since'] = df.Mobile_Number_Active_Since.astype('category')\n",
        "df['Email_Domain_Type'] = df.Email_Domain_Type.astype('category')\n",
        "\n",
        "# Merubah tipe data menjadi tipe karakter int64\n",
        "# Gunakan intger untuk angka bulat\n",
        "df['API_CreditScore_Vendor_A'] = df.API_CreditScore_Vendor_A.astype('int64')\n",
        "df['API_CreditScore_Vendor_B'] = df.API_CreditScore_Vendor_B.astype('int64')\n",
        "df['Device_Apps_Installed'] = df.Device_Apps_Installed.astype('int64')\n",
        "\n",
        "# Merubah tipe data menjadi tipe karakter float64\n",
        "# Gunakan intger untuk angka dengan koma\n",
        "# Jika dalam kolom tersebut terdapat null, maka harus di simpan dalam tipe float\n",
        "df['Lama_Cicilan'] = df.Lama_Cicilan.astype('float64')\n",
        "df['Usia'] = df.Usia.astype('float64')\n",
        "df['Jumlah_Pinjaman'] = df.Jumlah_Pinjaman.astype('float64')\n",
        "df['SLIK_Cicilan_Bulanan'] = df.SLIK_Cicilan_Bulanan.astype('float64')\n",
        "df['SLIK_Outstanding_CC'] = df.SLIK_Outstanding_CC.astype('float64')"
      ],
      "execution_count": 177,
      "outputs": []
    },
    {
      "cell_type": "code",
      "metadata": {
        "colab": {
          "base_uri": "https://localhost:8080/",
          "height": 283
        },
        "id": "WUD8I46sekc6",
        "outputId": "bd68f55f-5b01-40dc-8409-6d570b067177"
      },
      "source": [
        "# 2.3.2.5.3 Mengidentifikasi outlier dan validitas data\n",
        "\n",
        "df.boxplot(column=['Usia'])"
      ],
      "execution_count": 178,
      "outputs": [
        {
          "output_type": "execute_result",
          "data": {
            "text/plain": [
              "<matplotlib.axes._subplots.AxesSubplot at 0x7f8d71abfdd0>"
            ]
          },
          "metadata": {},
          "execution_count": 178
        },
        {
          "output_type": "display_data",
          "data": {
            "image/png": "[encoded data removed]",
            "text/plain": [
              "<Figure size 432x288 with 1 Axes>"
            ]
          },
          "metadata": {
            "needs_background": "light"
          }
        }
      ]
    },
    {
      "cell_type": "code",
      "metadata": {
        "colab": {
          "base_uri": "https://localhost:8080/"
        },
        "id": "w5L8DvciYr0X",
        "outputId": "cce7e116-e823-4e64-a774-56af1f5f618b"
      },
      "source": [
        "# 2.3.2.5.4.1 Imputasi baris data yang kosong dengan asumsi nilai\n",
        "\n",
        "# Koding berikut menggantikan missing value dari semua variabel dengan\n",
        "# nilai yang paling sering muncul (modus) untuk variabel kategori dan nilai rata-rata untuk variabel numerik\n",
        "\n",
        "# Memisahkan variabel kategori dengan variabel numerik\n",
        "df_numerik = df.select_dtypes(include=['float64','int64','int'])\n",
        "df_kategori = df.select_dtypes(exclude = ['float64','int64','int'])\n",
        "\n",
        "for kolom in df_numerik.columns:\n",
        "  df_numerik[kolom].fillna(df_numerik[kolom].mean(), inplace=True)\n",
        "\n",
        "for kolom in df_kategori.columns:\n",
        "  df_kategori[kolom].fillna(df_kategori[kolom].mode()[0], inplace=True)\n",
        "\n",
        "# Menggabungkan dataset variabel kategori dan dengan variabel numerik\n",
        "df_pembersihan_1 = pd.concat([df_numerik, df_kategori], axis = 1)"
      ],
      "execution_count": 179,
      "outputs": [
        {
          "output_type": "stream",
          "name": "stderr",
          "text": [
            "/usr/local/lib/python3.7/dist-packages/pandas/core/series.py:4536: SettingWithCopyWarning: \n",
            "A value is trying to be set on a copy of a slice from a DataFrame\n",
            "\n",
            "See the caveats in the documentation: https://pandas.pydata.org/pandas-docs/stable/user_guide/indexing.html#returning-a-view-versus-a-copy\n",
            "  downcast=downcast,\n"
          ]
        }
      ]
    },
    {
      "cell_type": "code",
      "metadata": {
        "id": "kX5J6yALYy48"
      },
      "source": [
        "# 2.3.2.5.4.2 Tidak menggunakan baris data yang kosong (Drop Data)\n",
        "\n",
        "# Menggunakan fungsi dropna() untuk menghapus semua baris yang memiliki data kosong\n",
        "df_pembersihan_2 = df.dropna()"
      ],
      "execution_count": 180,
      "outputs": []
    },
    {
      "cell_type": "code",
      "metadata": {
        "id": "GCNAZFB_Y6-G"
      },
      "source": [
        "# 2.3.2.5.4.3 Tidak menggunakan kolom data yang kosong (Drop Variable)\n",
        "\n",
        "# Menggunakan fungsi dropna() untuk menghapus kolom yang memiliki data kosong\n",
        "df_pembersihan_3 = df.dropna(axis='columns')"
      ],
      "execution_count": 181,
      "outputs": []
    },
    {
      "cell_type": "code",
      "metadata": {
        "colab": {
          "base_uri": "https://localhost:8080/"
        },
        "id": "y6J9LrueZIQS",
        "outputId": "10c03cbb-2b49-4217-dbae-f56ed708c00e"
      },
      "source": [
        "# 2.3.2.5.4.4 Kategorikan data yang kosong (Flag)\n",
        "\n",
        "# Koding berikut memberikan tanda flagging untuk baris data yang berisikan baris data kosong\n",
        "\n",
        "# Memisahkan variabel kategori dengan variabel numerik\n",
        "df_numerik = df.select_dtypes(include=['float64','int64','int'])\n",
        "df_kategori = df.select_dtypes(exclude = ['float64','int64','int'])\n",
        "\n",
        "for kolom in df_numerik.columns:\n",
        "  # Membuat kolom baru untuk baris data yang kosong\n",
        "  df_numerik[kolom+\"_missing\"] = df_numerik[kolom].isnull()\n",
        "  df_numerik[kolom].fillna(0, inplace=True)\n",
        "\n",
        "for kolom in df_kategori.columns:\n",
        "  # Kolom kategori harus secara eksplisit menambahkan data kategori baru\n",
        "  df_kategori[kolom] = df_kategori[kolom].cat.add_categories(\"00_Data_Kosong\")\n",
        "  df_kategori[kolom].fillna(\"00_Data_Kosong\", inplace=True)\n",
        "\n",
        "# Menggabungkan dataset variabel kategori dan dengan variabel numerik\n",
        "df_pembersihan_4 = pd.concat([df_numerik, df_kategori], axis = 1)"
      ],
      "execution_count": 182,
      "outputs": [
        {
          "output_type": "stream",
          "name": "stderr",
          "text": [
            "/usr/local/lib/python3.7/dist-packages/ipykernel_launcher.py:11: SettingWithCopyWarning: \n",
            "A value is trying to be set on a copy of a slice from a DataFrame.\n",
            "Try using .loc[row_indexer,col_indexer] = value instead\n",
            "\n",
            "See the caveats in the documentation: https://pandas.pydata.org/pandas-docs/stable/user_guide/indexing.html#returning-a-view-versus-a-copy\n",
            "  # This is added back by InteractiveShellApp.init_path()\n",
            "/usr/local/lib/python3.7/dist-packages/pandas/core/series.py:4536: SettingWithCopyWarning: \n",
            "A value is trying to be set on a copy of a slice from a DataFrame\n",
            "\n",
            "See the caveats in the documentation: https://pandas.pydata.org/pandas-docs/stable/user_guide/indexing.html#returning-a-view-versus-a-copy\n",
            "  downcast=downcast,\n",
            "/usr/local/lib/python3.7/dist-packages/ipykernel_launcher.py:16: SettingWithCopyWarning: \n",
            "A value is trying to be set on a copy of a slice from a DataFrame.\n",
            "Try using .loc[row_indexer,col_indexer] = value instead\n",
            "\n",
            "See the caveats in the documentation: https://pandas.pydata.org/pandas-docs/stable/user_guide/indexing.html#returning-a-view-versus-a-copy\n",
            "  app.launch_new_instance()\n"
          ]
        }
      ]
    },
    {
      "cell_type": "code",
      "metadata": {
        "id": "Fsj2A6lYZDgj"
      },
      "source": [
        "# Melanjutkan proses dengan asumsi bahwa baris data yang kosong tidak signifikan dan tidak akan terjadi baris data kosong lagi.\n",
        "df_clean = df_pembersihan_2"
      ],
      "execution_count": 183,
      "outputs": []
    },
    {
      "cell_type": "code",
      "metadata": {
        "id": "7AVgeSYIs6fQ",
        "colab": {
          "base_uri": "https://localhost:8080/",
          "height": 641
        },
        "outputId": "f163b94c-2797-4699-ce4d-ead51baab792"
      },
      "source": [
        "df_clean.info()\n",
        "# Untuk memudahkan membaca hasil, maka disimpan dalam bentuk csv dan didownload\n",
        "from google.colab import files\n",
        "df_clean.to_csv('df_clean.csv') \n",
        "files.download('df_clean.csv')"
      ],
      "execution_count": 221,
      "outputs": [
        {
          "output_type": "stream",
          "name": "stdout",
          "text": [
            "<class 'pandas.core.frame.DataFrame'>\n",
            "Int64Index: 889 entries, 0 to 946\n",
            "Data columns (total 29 columns):\n",
            " #   Column                          Non-Null Count  Dtype   \n",
            "---  ------                          --------------  -----   \n",
            " 0   ID                              889 non-null    category\n",
            " 1   gagal_bayar                     889 non-null    category\n",
            " 2   Lama_Cicilan                    889 non-null    float64 \n",
            " 3   Tujuan_Pinjaman                 889 non-null    category\n",
            " 4   Pekerjaan                       889 non-null    category\n",
            " 5   Pendapatan_perbulan             889 non-null    category\n",
            " 6   Lama_Bekerja                    889 non-null    category\n",
            " 7   Status                          889 non-null    category\n",
            " 8   Kepemilikan_Rumah               889 non-null    category\n",
            " 9   Alamat_Rumah                    889 non-null    category\n",
            " 10  Alamat_Kantor                   889 non-null    category\n",
            " 11  Usia                            889 non-null    float64 \n",
            " 12  Lama_tinggal_ditempat_sekarang  889 non-null    category\n",
            " 13  SLIK_Kolektibilitas             889 non-null    category\n",
            " 14  SLIK_Cicilan_Bulanan            889 non-null    float64 \n",
            " 15  SLIK_Outstanding_CC             889 non-null    float64 \n",
            " 16  API_CreditScore_Vendor_A        889 non-null    int64   \n",
            " 17  API_CreditScore_Vendor_B        889 non-null    int64   \n",
            " 18  Device_Type                     889 non-null    category\n",
            " 19  Device_Apps_Installed           889 non-null    int64   \n",
            " 20  Device_Active_Since             889 non-null    category\n",
            " 21  Device_Apps_Segmentation        889 non-null    category\n",
            " 22  Mobile_Provider                 889 non-null    category\n",
            " 23  Mobile_Number_Active_Since      889 non-null    category\n",
            " 24  Email_Domain_Type               889 non-null    category\n",
            " 25  default                         889 non-null    int64   \n",
            " 26  SLIK_Kolektibilitas_Bin         889 non-null    object  \n",
            " 27  Usia_Bin                        889 non-null    object  \n",
            " 28  Usia_Bin2                       889 non-null    object  \n",
            "dtypes: category(18), float64(4), int64(4), object(3)\n",
            "memory usage: 190.5+ KB\n"
          ]
        },
        {
          "output_type": "display_data",
          "data": {
            "application/javascript": [
              "\n",
              "    async function download(id, filename, size) {\n",
              "      if (!google.colab.kernel.accessAllowed) {\n",
              "        return;\n",
              "      }\n",
              "      const div = document.createElement('div');\n",
              "      const label = document.createElement('label');\n",
              "      label.textContent = `Downloading \"${filename}\": `;\n",
              "      div.appendChild(label);\n",
              "      const progress = document.createElement('progress');\n",
              "      progress.max = size;\n",
              "      div.appendChild(progress);\n",
              "      document.body.appendChild(div);\n",
              "\n",
              "      const buffers = [];\n",
              "      let downloaded = 0;\n",
              "\n",
              "      const channel = await google.colab.kernel.comms.open(id);\n",
              "      // Send a message to notify the kernel that we're ready.\n",
              "      channel.send({})\n",
              "\n",
              "      for await (const message of channel.messages) {\n",
              "        // Send a message to notify the kernel that we're ready.\n",
              "        channel.send({})\n",
              "        if (message.buffers) {\n",
              "          for (const buffer of message.buffers) {\n",
              "            buffers.push(buffer);\n",
              "            downloaded += buffer.byteLength;\n",
              "            progress.value = downloaded;\n",
              "          }\n",
              "        }\n",
              "      }\n",
              "      const blob = new Blob(buffers, {type: 'application/binary'});\n",
              "      const a = document.createElement('a');\n",
              "      a.href = window.URL.createObjectURL(blob);\n",
              "      a.download = filename;\n",
              "      div.appendChild(a);\n",
              "      a.click();\n",
              "      div.remove();\n",
              "    }\n",
              "  "
            ],
            "text/plain": [
              "<IPython.core.display.Javascript object>"
            ]
          },
          "metadata": {}
        },
        {
          "output_type": "display_data",
          "data": {
            "application/javascript": [
              "download(\"download_59939588-72b3-49d7-8a49-c369b390d567\", \"df_clean.csv\", 255451)"
            ],
            "text/plain": [
              "<IPython.core.display.Javascript object>"
            ]
          },
          "metadata": {}
        }
      ]
    },
    {
      "cell_type": "code",
      "metadata": {
        "colab": {
          "base_uri": "https://localhost:8080/"
        },
        "id": "qW5t7UwfES8v",
        "outputId": "99a94189-728a-47f0-f2e8-1ebd055e7fc1"
      },
      "source": [
        "# 2.3.2.5.5.1 EDA Analisa dasar variabel untuk gagal_bayar\n",
        "\n",
        "# Untuk melihat frekuensi dari variabel gagal_bayar\n",
        "print(df_clean['gagal_bayar'].value_counts())\n",
        "\n",
        "# Untuk melihat proporsi (dalam persentase) dari variabel gagal_bayar\n",
        "print(df_clean['gagal_bayar'].value_counts(normalize=True) * 100)"
      ],
      "execution_count": 185,
      "outputs": [
        {
          "output_type": "stream",
          "name": "stdout",
          "text": [
            "0_Bayar    638\n",
            "1_Gagal    251\n",
            "Name: gagal_bayar, dtype: int64\n",
            "0_Bayar    71.766029\n",
            "1_Gagal    28.233971\n",
            "Name: gagal_bayar, dtype: float64\n"
          ]
        }
      ]
    },
    {
      "cell_type": "code",
      "metadata": {
        "id": "zjuNAMQGE5L6",
        "colab": {
          "base_uri": "https://localhost:8080/"
        },
        "outputId": "b46435d2-3590-4fc4-e3b6-806a0412de97"
      },
      "source": [
        "# 2.3.2.5.5.2 Exploratory Data Analysis untuk SLIK_Kolektabilitas\n",
        "\n",
        "# Untuk melihat frekuensi dari variabel SLIK_Kolektabilitas\n",
        "print(df_clean['SLIK_Kolektibilitas'].value_counts())\n",
        "\n",
        "# Untuk melihat proporsi (dalam persentase) dari variabel SLIK_Kolektabilitas\n",
        "print(df_clean['SLIK_Kolektibilitas'].value_counts(normalize=True) * 100)"
      ],
      "execution_count": 220,
      "outputs": [
        {
          "output_type": "stream",
          "name": "stdout",
          "text": [
            "3.0    477\n",
            "1.0    269\n",
            "2.0     82\n",
            "5.0     47\n",
            "4.0     14\n",
            "Name: SLIK_Kolektibilitas, dtype: int64\n",
            "3.0    53.655793\n",
            "1.0    30.258718\n",
            "2.0     9.223847\n",
            "5.0     5.286839\n",
            "4.0     1.574803\n",
            "Name: SLIK_Kolektibilitas, dtype: float64\n"
          ]
        }
      ]
    },
    {
      "cell_type": "code",
      "metadata": {
        "id": "zESKaaoCOZO3",
        "colab": {
          "base_uri": "https://localhost:8080/"
        },
        "outputId": "2ed403bc-5938-49e0-91b9-0df25d54b3f9"
      },
      "source": [
        "# Berapa banyak yang gagal bayar dari masing-masing nilai SLIK Kolektabilitas\n",
        "print(pd.crosstab(df_clean['SLIK_Kolektibilitas'], df_clean['gagal_bayar']))\n",
        "\n",
        "# dalam proporsi persentase\n",
        "print(pd.crosstab(df_clean['SLIK_Kolektibilitas'],df_clean['gagal_bayar'],normalize='index',)*100)"
      ],
      "execution_count": 219,
      "outputs": [
        {
          "output_type": "stream",
          "name": "stdout",
          "text": [
            "gagal_bayar          0_Bayar  1_Gagal\n",
            "SLIK_Kolektibilitas                  \n",
            "1.0                      228       41\n",
            "2.0                       57       25\n",
            "3.0                      327      150\n",
            "4.0                        6        8\n",
            "5.0                       20       27\n",
            "gagal_bayar            0_Bayar    1_Gagal\n",
            "SLIK_Kolektibilitas                      \n",
            "1.0                  84.758364  15.241636\n",
            "2.0                  69.512195  30.487805\n",
            "3.0                  68.553459  31.446541\n",
            "4.0                  42.857143  57.142857\n",
            "5.0                  42.553191  57.446809\n"
          ]
        }
      ]
    },
    {
      "cell_type": "code",
      "metadata": {
        "colab": {
          "base_uri": "https://localhost:8080/",
          "height": 293
        },
        "id": "T7qwqbQUYFWm",
        "outputId": "9b7cff9a-1a3c-4dd0-becb-271ee43f9a57"
      },
      "source": [
        "# 2.3.2.5.5.2 SLIK_Kolektibilitas Data Visualisasi\n",
        "\n",
        "# Fungsi value_counts().plot(kind='bar')\n",
        "df_clean['SLIK_Kolektibilitas'].value_counts().plot(kind='bar')"
      ],
      "execution_count": 188,
      "outputs": [
        {
          "output_type": "execute_result",
          "data": {
            "text/plain": [
              "<matplotlib.axes._subplots.AxesSubplot at 0x7f8d71b15410>"
            ]
          },
          "metadata": {},
          "execution_count": 188
        },
        {
          "output_type": "display_data",
          "data": {
            "image/png": "[encoded data removed]",
            "text/plain": [
              "<Figure size 432x288 with 1 Axes>"
            ]
          },
          "metadata": {
            "needs_background": "light"
          }
        }
      ]
    },
    {
      "cell_type": "code",
      "metadata": {
        "colab": {
          "base_uri": "https://localhost:8080/",
          "height": 283
        },
        "id": "QEmk-BKSYpKH",
        "outputId": "cf4b1cac-370e-4695-f8f0-3774572cf85f"
      },
      "source": [
        "# Menampilkan plot bar secara horizontal\n",
        "df_clean['SLIK_Kolektibilitas'].value_counts().plot(kind='barh')"
      ],
      "execution_count": 189,
      "outputs": [
        {
          "output_type": "execute_result",
          "data": {
            "text/plain": [
              "<matplotlib.axes._subplots.AxesSubplot at 0x7f8d71f65d90>"
            ]
          },
          "metadata": {},
          "execution_count": 189
        },
        {
          "output_type": "display_data",
          "data": {
            "image/png": "[encoded data removed]",
            "text/plain": [
              "<Figure size 432x288 with 1 Axes>"
            ]
          },
          "metadata": {
            "needs_background": "light"
          }
        }
      ]
    },
    {
      "cell_type": "code",
      "metadata": {
        "colab": {
          "base_uri": "https://localhost:8080/",
          "height": 283
        },
        "id": "uILFhuMGZZRg",
        "outputId": "c9044ca1-a51b-4369-dbdd-5b191cfb8313"
      },
      "source": [
        "# Nilai variabel SLIK_Kolektibilitas dan proporsi default secara plot bar\n",
        "pd.crosstab(df_clean['SLIK_Kolektibilitas'], df_clean['gagal_bayar']).plot(kind='barh', stacked=True)"
      ],
      "execution_count": 190,
      "outputs": [
        {
          "output_type": "execute_result",
          "data": {
            "text/plain": [
              "<matplotlib.axes._subplots.AxesSubplot at 0x7f8d7207c410>"
            ]
          },
          "metadata": {},
          "execution_count": 190
        },
        {
          "output_type": "display_data",
          "data": {
            "image/png": "[encoded data removed]",
            "text/plain": [
              "<Figure size 432x288 with 1 Axes>"
            ]
          },
          "metadata": {
            "needs_background": "light"
          }
        }
      ]
    },
    {
      "cell_type": "code",
      "metadata": {
        "colab": {
          "base_uri": "https://localhost:8080/",
          "height": 283
        },
        "id": "s_i1FvMkZseF",
        "outputId": "45cbe0d4-2563-4a9f-d92e-ddf476d92d72"
      },
      "source": [
        "# Nilai variabel SLIK_Kolektibilitas dan proporsi default secara plot bar, secara proporsi\n",
        "pd.crosstab(df_clean['SLIK_Kolektibilitas'], df_clean['gagal_bayar'], normalize='index').plot(kind='barh', stacked=True)"
      ],
      "execution_count": 191,
      "outputs": [
        {
          "output_type": "execute_result",
          "data": {
            "text/plain": [
              "<matplotlib.axes._subplots.AxesSubplot at 0x7f8d72747250>"
            ]
          },
          "metadata": {},
          "execution_count": 191
        },
        {
          "output_type": "display_data",
          "data": {
            "image/png": "[encoded data removed]",
            "text/plain": [
              "<Figure size 432x288 with 1 Axes>"
            ]
          },
          "metadata": {
            "needs_background": "light"
          }
        }
      ]
    },
    {
      "cell_type": "code",
      "metadata": {
        "colab": {
          "base_uri": "https://localhost:8080/",
          "height": 299
        },
        "id": "90J2yiiUYmY-",
        "outputId": "96143f6b-3205-4a3d-eb70-be14ca2b6813"
      },
      "source": [
        "# 2.3.2.5.5.3 Exploratory Data Analysis untuk Usia\n",
        "\n",
        "# Rangkuman statistik untuk variabel numerik Usia\n",
        "print(df_clean['Usia'].describe())\n",
        "\n",
        "# Rangkuman statistik untuk variabel numerik Usia, berdasarkan default (gagal bayar atau tidak)\n",
        "df_clean.groupby('gagal_bayar')['Usia'].describe()"
      ],
      "execution_count": 192,
      "outputs": [
        {
          "output_type": "stream",
          "name": "stdout",
          "text": [
            "count    889.000000\n",
            "mean      35.710911\n",
            "std       11.440539\n",
            "min       19.000000\n",
            "25%       27.000000\n",
            "50%       33.000000\n",
            "75%       42.000000\n",
            "max       75.000000\n",
            "Name: Usia, dtype: float64\n"
          ]
        },
        {
          "output_type": "execute_result",
          "data": {
            "text/html": [
              "<div>\n",
              "<style scoped>\n",
              "    .dataframe tbody tr th:only-of-type {\n",
              "        vertical-align: middle;\n",
              "    }\n",
              "\n",
              "    .dataframe tbody tr th {\n",
              "        vertical-align: top;\n",
              "    }\n",
              "\n",
              "    .dataframe thead th {\n",
              "        text-align: right;\n",
              "    }\n",
              "</style>\n",
              "<table border=\"1\" class=\"dataframe\">\n",
              "  <thead>\n",
              "    <tr style=\"text-align: right;\">\n",
              "      <th></th>\n",
              "      <th>count</th>\n",
              "      <th>mean</th>\n",
              "      <th>std</th>\n",
              "      <th>min</th>\n",
              "      <th>25%</th>\n",
              "      <th>50%</th>\n",
              "      <th>75%</th>\n",
              "      <th>max</th>\n",
              "    </tr>\n",
              "    <tr>\n",
              "      <th>gagal_bayar</th>\n",
              "      <th></th>\n",
              "      <th></th>\n",
              "      <th></th>\n",
              "      <th></th>\n",
              "      <th></th>\n",
              "      <th></th>\n",
              "      <th></th>\n",
              "      <th></th>\n",
              "    </tr>\n",
              "  </thead>\n",
              "  <tbody>\n",
              "    <tr>\n",
              "      <th>0_Bayar</th>\n",
              "      <td>638.0</td>\n",
              "      <td>36.354232</td>\n",
              "      <td>11.383975</td>\n",
              "      <td>19.0</td>\n",
              "      <td>27.0</td>\n",
              "      <td>35.0</td>\n",
              "      <td>43.0</td>\n",
              "      <td>75.0</td>\n",
              "    </tr>\n",
              "    <tr>\n",
              "      <th>1_Gagal</th>\n",
              "      <td>251.0</td>\n",
              "      <td>34.075697</td>\n",
              "      <td>11.443699</td>\n",
              "      <td>19.0</td>\n",
              "      <td>25.0</td>\n",
              "      <td>31.0</td>\n",
              "      <td>40.0</td>\n",
              "      <td>74.0</td>\n",
              "    </tr>\n",
              "  </tbody>\n",
              "</table>\n",
              "</div>"
            ],
            "text/plain": [
              "             count       mean        std   min   25%   50%   75%   max\n",
              "gagal_bayar                                                           \n",
              "0_Bayar      638.0  36.354232  11.383975  19.0  27.0  35.0  43.0  75.0\n",
              "1_Gagal      251.0  34.075697  11.443699  19.0  25.0  31.0  40.0  74.0"
            ]
          },
          "metadata": {},
          "execution_count": 192
        }
      ]
    },
    {
      "cell_type": "code",
      "metadata": {
        "colab": {
          "base_uri": "https://localhost:8080/",
          "height": 965
        },
        "id": "V0mG8ys3aeq0",
        "outputId": "47141142-744e-4ffe-dbb3-3de2b66cac7c"
      },
      "source": [
        "# Fungsi distplot() dari library seaborn\n",
        "# Perhatikan bahwa distribusi plot harus tidak memiliki data kosong / missing value.\n",
        "# Oleh karena itu harus menambahkan fungsi dropna() untuk secara sementara tidak\n",
        "# mengikutsertakan missing value dalam pembuatan plot distribusi\n",
        "\n",
        "import matplotlib.pyplot as plt\n",
        "import seaborn as sns\n",
        "\n",
        "fig, ax = plt.subplots(figsize=(15,15))\n",
        "sns.distplot(df_clean['Usia'].dropna(), ax=ax).set_title('Distribution Plot')"
      ],
      "execution_count": 193,
      "outputs": [
        {
          "output_type": "stream",
          "name": "stderr",
          "text": [
            "/usr/local/lib/python3.7/dist-packages/seaborn/distributions.py:2619: FutureWarning: `distplot` is a deprecated function and will be removed in a future version. Please adapt your code to use either `displot` (a figure-level function with similar flexibility) or `histplot` (an axes-level function for histograms).\n",
            "  warnings.warn(msg, FutureWarning)\n"
          ]
        },
        {
          "output_type": "execute_result",
          "data": {
            "text/plain": [
              "Text(0.5, 1.0, 'Distribution Plot')"
            ]
          },
          "metadata": {},
          "execution_count": 193
        },
        {
          "output_type": "display_data",
          "data": {
            "image/png": "[encoded data removed]",
            "text/plain": [
              "<Figure size 1080x1080 with 1 Axes>"
            ]
          },
          "metadata": {
            "needs_background": "light"
          }
        }
      ]
    },
    {
      "cell_type": "code",
      "metadata": {
        "id": "K1JubColf4xI",
        "colab": {
          "base_uri": "https://localhost:8080/",
          "height": 375
        },
        "outputId": "9cd6aff0-2fb6-4ea0-e615-5b9ce1efb5be"
      },
      "source": [
        "# Menambahkan by di fungsi boxplot untuk membagi boxplot berdasarkan gagal_bayar\n",
        "df_clean.boxplot(by='gagal_bayar',column=['Usia'])"
      ],
      "execution_count": 194,
      "outputs": [
        {
          "output_type": "stream",
          "name": "stderr",
          "text": [
            "/usr/local/lib/python3.7/dist-packages/numpy/core/_asarray.py:83: VisibleDeprecationWarning: Creating an ndarray from ragged nested sequences (which is a list-or-tuple of lists-or-tuples-or ndarrays with different lengths or shapes) is deprecated. If you meant to do this, you must specify 'dtype=object' when creating the ndarray\n",
            "  return array(a, dtype, copy=False, order=order)\n"
          ]
        },
        {
          "output_type": "execute_result",
          "data": {
            "text/plain": [
              "<matplotlib.axes._subplots.AxesSubplot at 0x7f8d71922550>"
            ]
          },
          "metadata": {},
          "execution_count": 194
        },
        {
          "output_type": "display_data",
          "data": {
            "image/png": "[encoded data removed]",
            "text/plain": [
              "<Figure size 432x288 with 1 Axes>"
            ]
          },
          "metadata": {
            "needs_background": "light"
          }
        }
      ]
    },
    {
      "cell_type": "code",
      "metadata": {
        "id": "5lZPEAen-nxN",
        "colab": {
          "base_uri": "https://localhost:8080/"
        },
        "outputId": "38f8348d-6285-4651-c758-b4190c12e913"
      },
      "source": [
        "import numpy as np\n",
        "\n",
        "# Untuk dapat melakukan analisa statistik, harus mengubah variabel gagal_bayar dari string menjadi angka (integer)\n",
        "# Mengubah target variabel gagal_bayar menjadi angka 0 dan 1\n",
        "conditions = [\n",
        "             df_clean['gagal_bayar'] == '1_Gagal', \n",
        "             df_clean['gagal_bayar'] == '0_Bayar'\n",
        "             ]\n",
        "\n",
        "choices     = [\n",
        "             1,\n",
        "             0\n",
        "             ]\n",
        "df_clean['default'] = np.select(conditions,choices, default = 0)"
      ],
      "execution_count": 195,
      "outputs": [
        {
          "output_type": "stream",
          "name": "stderr",
          "text": [
            "/usr/local/lib/python3.7/dist-packages/ipykernel_launcher.py:14: SettingWithCopyWarning: \n",
            "A value is trying to be set on a copy of a slice from a DataFrame.\n",
            "Try using .loc[row_indexer,col_indexer] = value instead\n",
            "\n",
            "See the caveats in the documentation: https://pandas.pydata.org/pandas-docs/stable/user_guide/indexing.html#returning-a-view-versus-a-copy\n",
            "  \n"
          ]
        }
      ]
    },
    {
      "cell_type": "code",
      "metadata": {
        "id": "HNjGTaQp_BaM",
        "colab": {
          "base_uri": "https://localhost:8080/"
        },
        "outputId": "634c623d-c641-4c0a-9d88-cb7e8a43b93f"
      },
      "source": [
        "# Menghitung korelasi antara variabel API_CreditScore_Vendor_Adengan default\n",
        "print(df_clean['default'].corr(df_clean['Usia']))"
      ],
      "execution_count": 196,
      "outputs": [
        {
          "output_type": "stream",
          "name": "stdout",
          "text": [
            "-0.08970135786883077\n"
          ]
        }
      ]
    },
    {
      "cell_type": "code",
      "metadata": {
        "colab": {
          "base_uri": "https://localhost:8080/"
        },
        "id": "84joxnCJCThc",
        "outputId": "3345321d-3347-4c74-dcde-3da562787908"
      },
      "source": [
        "from scipy import stats\n",
        "\n",
        "# Uji coba hipotesis apakah ada perbedaan nilai rata-rata variabel \n",
        "# API_CreditScore_Vendor_A dengan default (gagal bayar dan tidak gagal bayar)\n",
        "stats.ttest_ind( df_clean[df_clean.default == 0].Usia,\n",
        "             \tdf_clean[df_clean.default == 1].Usia, nan_policy='omit')"
      ],
      "execution_count": 197,
      "outputs": [
        {
          "output_type": "execute_result",
          "data": {
            "text/plain": [
              "Ttest_indResult(statistic=2.6823480769340255, pvalue=0.0074466986902131235)"
            ]
          },
          "metadata": {},
          "execution_count": 197
        }
      ]
    },
    {
      "cell_type": "code",
      "metadata": {
        "colab": {
          "base_uri": "https://localhost:8080/",
          "height": 351
        },
        "id": "zeTbQamD1XoF",
        "outputId": "95fe8876-306a-4042-da66-1baea658c90c"
      },
      "source": [
        "# 2.3.2.5.6 Memahami korelasi antar variabel dan dengan target\n",
        "\n",
        "# Korelasi Antar semua Variabel numerik\n",
        "import seaborn as sns\n",
        "corr = df_clean.corr()\n",
        "corr"
      ],
      "execution_count": 198,
      "outputs": [
        {
          "output_type": "execute_result",
          "data": {
            "text/html": [
              "<div>\n",
              "<style scoped>\n",
              "    .dataframe tbody tr th:only-of-type {\n",
              "        vertical-align: middle;\n",
              "    }\n",
              "\n",
              "    .dataframe tbody tr th {\n",
              "        vertical-align: top;\n",
              "    }\n",
              "\n",
              "    .dataframe thead th {\n",
              "        text-align: right;\n",
              "    }\n",
              "</style>\n",
              "<table border=\"1\" class=\"dataframe\">\n",
              "  <thead>\n",
              "    <tr style=\"text-align: right;\">\n",
              "      <th></th>\n",
              "      <th>Lama_Cicilan</th>\n",
              "      <th>Jumlah_Pinjaman</th>\n",
              "      <th>Usia</th>\n",
              "      <th>SLIK_Cicilan_Bulanan</th>\n",
              "      <th>SLIK_Outstanding_CC</th>\n",
              "      <th>API_CreditScore_Vendor_A</th>\n",
              "      <th>API_CreditScore_Vendor_B</th>\n",
              "      <th>Device_Apps_Installed</th>\n",
              "      <th>default</th>\n",
              "    </tr>\n",
              "  </thead>\n",
              "  <tbody>\n",
              "    <tr>\n",
              "      <th>Lama_Cicilan</th>\n",
              "      <td>1.000000</td>\n",
              "      <td>0.541302</td>\n",
              "      <td>-0.048449</td>\n",
              "      <td>0.034171</td>\n",
              "      <td>0.053444</td>\n",
              "      <td>-0.042888</td>\n",
              "      <td>-0.052433</td>\n",
              "      <td>-0.017101</td>\n",
              "      <td>0.199501</td>\n",
              "    </tr>\n",
              "    <tr>\n",
              "      <th>Jumlah_Pinjaman</th>\n",
              "      <td>0.541302</td>\n",
              "      <td>1.000000</td>\n",
              "      <td>0.036001</td>\n",
              "      <td>0.005351</td>\n",
              "      <td>-0.000459</td>\n",
              "      <td>0.021987</td>\n",
              "      <td>-0.011107</td>\n",
              "      <td>-0.019922</td>\n",
              "      <td>0.115285</td>\n",
              "    </tr>\n",
              "    <tr>\n",
              "      <th>Usia</th>\n",
              "      <td>-0.048449</td>\n",
              "      <td>0.036001</td>\n",
              "      <td>1.000000</td>\n",
              "      <td>-0.046872</td>\n",
              "      <td>-0.109170</td>\n",
              "      <td>0.013616</td>\n",
              "      <td>0.018977</td>\n",
              "      <td>0.039842</td>\n",
              "      <td>-0.089701</td>\n",
              "    </tr>\n",
              "    <tr>\n",
              "      <th>SLIK_Cicilan_Bulanan</th>\n",
              "      <td>0.034171</td>\n",
              "      <td>0.005351</td>\n",
              "      <td>-0.046872</td>\n",
              "      <td>1.000000</td>\n",
              "      <td>0.347327</td>\n",
              "      <td>-0.044516</td>\n",
              "      <td>-0.069751</td>\n",
              "      <td>-0.040561</td>\n",
              "      <td>0.355454</td>\n",
              "    </tr>\n",
              "    <tr>\n",
              "      <th>SLIK_Outstanding_CC</th>\n",
              "      <td>0.053444</td>\n",
              "      <td>-0.000459</td>\n",
              "      <td>-0.109170</td>\n",
              "      <td>0.347327</td>\n",
              "      <td>1.000000</td>\n",
              "      <td>-0.087148</td>\n",
              "      <td>-0.090634</td>\n",
              "      <td>-0.090108</td>\n",
              "      <td>0.373545</td>\n",
              "    </tr>\n",
              "    <tr>\n",
              "      <th>API_CreditScore_Vendor_A</th>\n",
              "      <td>-0.042888</td>\n",
              "      <td>0.021987</td>\n",
              "      <td>0.013616</td>\n",
              "      <td>-0.044516</td>\n",
              "      <td>-0.087148</td>\n",
              "      <td>1.000000</td>\n",
              "      <td>-0.002517</td>\n",
              "      <td>0.025244</td>\n",
              "      <td>-0.036576</td>\n",
              "    </tr>\n",
              "    <tr>\n",
              "      <th>API_CreditScore_Vendor_B</th>\n",
              "      <td>-0.052433</td>\n",
              "      <td>-0.011107</td>\n",
              "      <td>0.018977</td>\n",
              "      <td>-0.069751</td>\n",
              "      <td>-0.090634</td>\n",
              "      <td>-0.002517</td>\n",
              "      <td>1.000000</td>\n",
              "      <td>0.003716</td>\n",
              "      <td>-0.157221</td>\n",
              "    </tr>\n",
              "    <tr>\n",
              "      <th>Device_Apps_Installed</th>\n",
              "      <td>-0.017101</td>\n",
              "      <td>-0.019922</td>\n",
              "      <td>0.039842</td>\n",
              "      <td>-0.040561</td>\n",
              "      <td>-0.090108</td>\n",
              "      <td>0.025244</td>\n",
              "      <td>0.003716</td>\n",
              "      <td>1.000000</td>\n",
              "      <td>-0.147242</td>\n",
              "    </tr>\n",
              "    <tr>\n",
              "      <th>default</th>\n",
              "      <td>0.199501</td>\n",
              "      <td>0.115285</td>\n",
              "      <td>-0.089701</td>\n",
              "      <td>0.355454</td>\n",
              "      <td>0.373545</td>\n",
              "      <td>-0.036576</td>\n",
              "      <td>-0.157221</td>\n",
              "      <td>-0.147242</td>\n",
              "      <td>1.000000</td>\n",
              "    </tr>\n",
              "  </tbody>\n",
              "</table>\n",
              "</div>"
            ],
            "text/plain": [
              "                          Lama_Cicilan  ...   default\n",
              "Lama_Cicilan                  1.000000  ...  0.199501\n",
              "Jumlah_Pinjaman               0.541302  ...  0.115285\n",
              "Usia                         -0.048449  ... -0.089701\n",
              "SLIK_Cicilan_Bulanan          0.034171  ...  0.355454\n",
              "SLIK_Outstanding_CC           0.053444  ...  0.373545\n",
              "API_CreditScore_Vendor_A     -0.042888  ... -0.036576\n",
              "API_CreditScore_Vendor_B     -0.052433  ... -0.157221\n",
              "Device_Apps_Installed        -0.017101  ... -0.147242\n",
              "default                       0.199501  ...  1.000000\n",
              "\n",
              "[9 rows x 9 columns]"
            ]
          },
          "metadata": {},
          "execution_count": 198
        }
      ]
    },
    {
      "cell_type": "code",
      "metadata": {
        "colab": {
          "base_uri": "https://localhost:8080/",
          "height": 407
        },
        "id": "L1bmRBmC8B9g",
        "outputId": "3ceedd18-3af6-49ed-fb3e-32205e5a7e9b"
      },
      "source": [
        "# Korelasi secara visualisasi\n",
        "sns.heatmap(corr, xticklabels=corr.columns.values, yticklabels=corr.columns.values)"
      ],
      "execution_count": 199,
      "outputs": [
        {
          "output_type": "execute_result",
          "data": {
            "text/plain": [
              "<matplotlib.axes._subplots.AxesSubplot at 0x7f8d7185d610>"
            ]
          },
          "metadata": {},
          "execution_count": 199
        },
        {
          "output_type": "display_data",
          "data": {
            "image/png": "[encoded data removed]",
            "text/plain": [
              "<Figure size 432x288 with 2 Axes>"
            ]
          },
          "metadata": {
            "needs_background": "light"
          }
        }
      ]
    },
    {
      "cell_type": "code",
      "metadata": {
        "id": "Fj3kIhUPCPYd",
        "colab": {
          "base_uri": "https://localhost:8080/"
        },
        "outputId": "da6568f0-aa1f-4a3b-f15a-02c9541af74d"
      },
      "source": [
        "df_clean.info()"
      ],
      "execution_count": 200,
      "outputs": [
        {
          "output_type": "stream",
          "name": "stdout",
          "text": [
            "<class 'pandas.core.frame.DataFrame'>\n",
            "Int64Index: 889 entries, 0 to 946\n",
            "Data columns (total 27 columns):\n",
            " #   Column                          Non-Null Count  Dtype   \n",
            "---  ------                          --------------  -----   \n",
            " 0   ID                              889 non-null    category\n",
            " 1   gagal_bayar                     889 non-null    category\n",
            " 2   Lama_Cicilan                    889 non-null    float64 \n",
            " 3   Tujuan_Pinjaman                 889 non-null    category\n",
            " 4   Jumlah_Pinjaman                 889 non-null    float64 \n",
            " 5   Pekerjaan                       889 non-null    category\n",
            " 6   Pendapatan_perbulan             889 non-null    category\n",
            " 7   Lama_Bekerja                    889 non-null    category\n",
            " 8   Status                          889 non-null    category\n",
            " 9   Kepemilikan_Rumah               889 non-null    category\n",
            " 10  Alamat_Rumah                    889 non-null    category\n",
            " 11  Alamat_Kantor                   889 non-null    category\n",
            " 12  Usia                            889 non-null    float64 \n",
            " 13  Lama_tinggal_ditempat_sekarang  889 non-null    category\n",
            " 14  SLIK_Kolektibilitas             889 non-null    category\n",
            " 15  SLIK_Cicilan_Bulanan            889 non-null    float64 \n",
            " 16  SLIK_Outstanding_CC             889 non-null    float64 \n",
            " 17  API_CreditScore_Vendor_A        889 non-null    int64   \n",
            " 18  API_CreditScore_Vendor_B        889 non-null    int64   \n",
            " 19  Device_Type                     889 non-null    category\n",
            " 20  Device_Apps_Installed           889 non-null    int64   \n",
            " 21  Device_Active_Since             889 non-null    category\n",
            " 22  Device_Apps_Segmentation        889 non-null    category\n",
            " 23  Mobile_Provider                 889 non-null    category\n",
            " 24  Mobile_Number_Active_Since      889 non-null    category\n",
            " 25  Email_Domain_Type               889 non-null    category\n",
            " 26  default                         889 non-null    int64   \n",
            "dtypes: category(18), float64(5), int64(4)\n",
            "memory usage: 136.7 KB\n"
          ]
        }
      ]
    },
    {
      "cell_type": "code",
      "metadata": {
        "id": "DINJuDJSjV3r",
        "colab": {
          "base_uri": "https://localhost:8080/",
          "height": 364
        },
        "outputId": "10c9fab6-c846-4a6f-9d3b-bdf451b19aad"
      },
      "source": [
        "# 2.3.2.5.6.2 Memahami korelasi antar variabel independent \n",
        "\n",
        "# Memisahkan variabel kategori dengan variabel numerik\n",
        "df_numerik = df_clean.select_dtypes(include=['float64','int64','int'])\n",
        "df_kategori = df_clean.select_dtypes(exclude = ['float64','int64','int'])\n",
        "\n",
        "# Menghapus kolom yang tidak berkaitan dengan korelasi antar variabel independent\n",
        "df_kategori.drop(columns=['ID', 'gagal_bayar'], inplace=True)\n",
        "\n",
        "from sklearn.feature_selection import chi2\n",
        "import numpy as np\n",
        "import pandas as pd\n",
        "import matplotlib.pyplot as plt\n",
        "import seaborn as sns\n",
        "\n",
        "df = pd.get_dummies(data = df_kategori)\n",
        "\n",
        "# Kode Python berdasarkan referensi dari https://www.analyticsvidhya.com/blog/2021/06/decoding-the-chi-square-test%E2%80%8A-%E2%80%8Ause-along-with-implementation-and-visualization/\n",
        "resultant = pd.DataFrame(data=[(0 for i in range(len(df.columns))) for i in range(len(df.columns))], \n",
        "                         columns=list(df.columns))\n",
        "resultant.set_index(pd.Index(list(df.columns)), inplace = True)\n",
        "for i in list(df.columns):\n",
        "    for j in list(df.columns):\n",
        "        if i != j:\n",
        "            chi2_val, p_val = chi2(np.array(df[i]).reshape(-1, 1), np.array(df[j]).reshape(-1, 1))\n",
        "            resultant.loc[i,j] = p_val\n",
        "print(resultant)\n",
        "\n",
        "# Untuk memudahkan membaca hasil, maka disimpan dalam bentuk csv dan didownload\n",
        "from google.colab import files\n",
        "df.to_csv('chi_square.csv') \n",
        "files.download('chi_square.csv')"
      ],
      "execution_count": 201,
      "outputs": [
        {
          "output_type": "stream",
          "name": "stderr",
          "text": [
            "/usr/local/lib/python3.7/dist-packages/pandas/core/frame.py:4174: SettingWithCopyWarning: \n",
            "A value is trying to be set on a copy of a slice from a DataFrame\n",
            "\n",
            "See the caveats in the documentation: https://pandas.pydata.org/pandas-docs/stable/user_guide/indexing.html#returning-a-view-versus-a-copy\n",
            "  errors=errors,\n"
          ]
        },
        {
          "output_type": "stream",
          "name": "stdout",
          "text": [
            "                                            Tujuan_Pinjaman_TV  ...  Email_Domain_Type_Public_Domain\n",
            "Tujuan_Pinjaman_TV                                    0.000000  ...                     4.874764e-02\n",
            "Tujuan_Pinjaman_barang_baru                           0.142781  ...                     3.357240e-01\n",
            "Tujuan_Pinjaman_barang_bekas                          0.326844  ...                     1.117741e-03\n",
            "Tujuan_Pinjaman_buka_bisnis                           0.371774  ...                     6.733690e-03\n",
            "Tujuan_Pinjaman_elektronik                            0.210968  ...                     1.951713e-01\n",
            "...                                                        ...  ...                              ...\n",
            "Mobile_Number_Active_Since_3_1_ke_2_tahun             0.228164  ...                     3.151883e-01\n",
            "Mobile_Number_Active_Since_4_2_ke_5_tahun             0.189927  ...                     1.354120e-01\n",
            "Mobile_Number_Active_Since_5_Lebih_5_tahun            0.610955  ...                     3.797454e-01\n",
            "Email_Domain_Type_Professional_Domain                 0.074241  ...                    4.917723e-159\n",
            "Email_Domain_Type_Public_Domain                       0.390597  ...                     0.000000e+00\n",
            "\n",
            "[69 rows x 69 columns]\n"
          ]
        },
        {
          "output_type": "display_data",
          "data": {
            "application/javascript": [
              "\n",
              "    async function download(id, filename, size) {\n",
              "      if (!google.colab.kernel.accessAllowed) {\n",
              "        return;\n",
              "      }\n",
              "      const div = document.createElement('div');\n",
              "      const label = document.createElement('label');\n",
              "      label.textContent = `Downloading \"${filename}\": `;\n",
              "      div.appendChild(label);\n",
              "      const progress = document.createElement('progress');\n",
              "      progress.max = size;\n",
              "      div.appendChild(progress);\n",
              "      document.body.appendChild(div);\n",
              "\n",
              "      const buffers = [];\n",
              "      let downloaded = 0;\n",
              "\n",
              "      const channel = await google.colab.kernel.comms.open(id);\n",
              "      // Send a message to notify the kernel that we're ready.\n",
              "      channel.send({})\n",
              "\n",
              "      for await (const message of channel.messages) {\n",
              "        // Send a message to notify the kernel that we're ready.\n",
              "        channel.send({})\n",
              "        if (message.buffers) {\n",
              "          for (const buffer of message.buffers) {\n",
              "            buffers.push(buffer);\n",
              "            downloaded += buffer.byteLength;\n",
              "            progress.value = downloaded;\n",
              "          }\n",
              "        }\n",
              "      }\n",
              "      const blob = new Blob(buffers, {type: 'application/binary'});\n",
              "      const a = document.createElement('a');\n",
              "      a.href = window.URL.createObjectURL(blob);\n",
              "      a.download = filename;\n",
              "      div.appendChild(a);\n",
              "      a.click();\n",
              "      div.remove();\n",
              "    }\n",
              "  "
            ],
            "text/plain": [
              "<IPython.core.display.Javascript object>"
            ]
          },
          "metadata": {}
        },
        {
          "output_type": "display_data",
          "data": {
            "application/javascript": [
              "download(\"download_7ff3c60a-7641-42ac-ae05-fe606cfc88e6\", \"chi_square.csv\", 128183)"
            ],
            "text/plain": [
              "<IPython.core.display.Javascript object>"
            ]
          },
          "metadata": {}
        }
      ]
    },
    {
      "cell_type": "code",
      "metadata": {
        "id": "G6xazzsGjY7v"
      },
      "source": [
        "# Menghindari multikolinearitas antara Lama_Cicilan dan Jumlah_Pinjaman\n",
        "df_clean.drop(columns=['Jumlah_Pinjaman'], inplace=True)"
      ],
      "execution_count": 202,
      "outputs": []
    },
    {
      "cell_type": "code",
      "metadata": {
        "id": "6YN3IBO10GRR",
        "colab": {
          "base_uri": "https://localhost:8080/",
          "height": 237
        },
        "outputId": "a65a64e0-8a42-4885-9926-4ad2ef3c9fdb"
      },
      "source": [
        "# 2.3.2.5.7.3 Penggunaan WOE dan IV dalam Scorecard\n",
        "# Reference https://stackoverflow.com/questions/60892714/how-to-get-the-weight-of-evidence-woe-and-information-value-iv-in-python-pan\n",
        "\n",
        "df_woe_iv = (pd.crosstab(df_clean['SLIK_Kolektibilitas'],df_clean['default'],normalize='columns')\n",
        "             .assign(woe=lambda dfx: np.log(dfx[1] / dfx[0]))\n",
        "             .assign(iv=lambda dfx: np.sum(dfx['woe']*\n",
        "                                           (dfx[1]-dfx[0]))))\n",
        "\n",
        "df_woe_iv"
      ],
      "execution_count": 203,
      "outputs": [
        {
          "output_type": "execute_result",
          "data": {
            "text/html": [
              "<div>\n",
              "<style scoped>\n",
              "    .dataframe tbody tr th:only-of-type {\n",
              "        vertical-align: middle;\n",
              "    }\n",
              "\n",
              "    .dataframe tbody tr th {\n",
              "        vertical-align: top;\n",
              "    }\n",
              "\n",
              "    .dataframe thead th {\n",
              "        text-align: right;\n",
              "    }\n",
              "</style>\n",
              "<table border=\"1\" class=\"dataframe\">\n",
              "  <thead>\n",
              "    <tr style=\"text-align: right;\">\n",
              "      <th>default</th>\n",
              "      <th>0</th>\n",
              "      <th>1</th>\n",
              "      <th>woe</th>\n",
              "      <th>iv</th>\n",
              "    </tr>\n",
              "    <tr>\n",
              "      <th>SLIK_Kolektibilitas</th>\n",
              "      <th></th>\n",
              "      <th></th>\n",
              "      <th></th>\n",
              "      <th></th>\n",
              "    </tr>\n",
              "  </thead>\n",
              "  <tbody>\n",
              "    <tr>\n",
              "      <th>1.0</th>\n",
              "      <td>0.357367</td>\n",
              "      <td>0.163347</td>\n",
              "      <td>-0.782888</td>\n",
              "      <td>0.287479</td>\n",
              "    </tr>\n",
              "    <tr>\n",
              "      <th>2.0</th>\n",
              "      <td>0.089342</td>\n",
              "      <td>0.099602</td>\n",
              "      <td>0.108710</td>\n",
              "      <td>0.287479</td>\n",
              "    </tr>\n",
              "    <tr>\n",
              "      <th>3.0</th>\n",
              "      <td>0.512539</td>\n",
              "      <td>0.597610</td>\n",
              "      <td>0.153560</td>\n",
              "      <td>0.287479</td>\n",
              "    </tr>\n",
              "    <tr>\n",
              "      <th>4.0</th>\n",
              "      <td>0.009404</td>\n",
              "      <td>0.031873</td>\n",
              "      <td>1.220567</td>\n",
              "      <td>0.287479</td>\n",
              "    </tr>\n",
              "    <tr>\n",
              "      <th>5.0</th>\n",
              "      <td>0.031348</td>\n",
              "      <td>0.107570</td>\n",
              "      <td>1.232990</td>\n",
              "      <td>0.287479</td>\n",
              "    </tr>\n",
              "  </tbody>\n",
              "</table>\n",
              "</div>"
            ],
            "text/plain": [
              "default                     0         1       woe        iv\n",
              "SLIK_Kolektibilitas                                        \n",
              "1.0                  0.357367  0.163347 -0.782888  0.287479\n",
              "2.0                  0.089342  0.099602  0.108710  0.287479\n",
              "3.0                  0.512539  0.597610  0.153560  0.287479\n",
              "4.0                  0.009404  0.031873  1.220567  0.287479\n",
              "5.0                  0.031348  0.107570  1.232990  0.287479"
            ]
          },
          "metadata": {},
          "execution_count": 203
        }
      ]
    },
    {
      "cell_type": "code",
      "metadata": {
        "id": "k7PpZqehERWC",
        "colab": {
          "base_uri": "https://localhost:8080/",
          "height": 175
        },
        "outputId": "80064d11-33fe-4b72-d573-5b0b21478d91"
      },
      "source": [
        "conditions = [\n",
        "             ( df_clean['SLIK_Kolektibilitas'] == 1 ),\n",
        "             ( df_clean['SLIK_Kolektibilitas'] == 2 ) | ( df_clean['SLIK_Kolektibilitas'] == 3 ),\n",
        "             ( df_clean['SLIK_Kolektibilitas'] == 4 ) | ( df_clean['SLIK_Kolektibilitas'] == 5 )\n",
        "             ]\n",
        "\n",
        "choices = [\n",
        "          '1',\n",
        "          '2&3',\n",
        "          '4&5'\n",
        "          ]\n",
        "\n",
        "df_clean['SLIK_Kolektibilitas_Bin'] = np.select(conditions, choices)\n",
        "\n",
        "df_woe_iv = (pd.crosstab(df_clean['SLIK_Kolektibilitas_Bin'],df_clean['default'],normalize='columns')\n",
        "             .assign(woe=lambda dfx: np.log(dfx[1] / dfx[0]))\n",
        "             .assign(iv=lambda dfx: np.sum(dfx['woe']*\n",
        "                                           (dfx[1]-dfx[0]))))\n",
        "\n",
        "df_woe_iv"
      ],
      "execution_count": 204,
      "outputs": [
        {
          "output_type": "execute_result",
          "data": {
            "text/html": [
              "<div>\n",
              "<style scoped>\n",
              "    .dataframe tbody tr th:only-of-type {\n",
              "        vertical-align: middle;\n",
              "    }\n",
              "\n",
              "    .dataframe tbody tr th {\n",
              "        vertical-align: top;\n",
              "    }\n",
              "\n",
              "    .dataframe thead th {\n",
              "        text-align: right;\n",
              "    }\n",
              "</style>\n",
              "<table border=\"1\" class=\"dataframe\">\n",
              "  <thead>\n",
              "    <tr style=\"text-align: right;\">\n",
              "      <th>default</th>\n",
              "      <th>0</th>\n",
              "      <th>1</th>\n",
              "      <th>woe</th>\n",
              "      <th>iv</th>\n",
              "    </tr>\n",
              "    <tr>\n",
              "      <th>SLIK_Kolektibilitas_Bin</th>\n",
              "      <th></th>\n",
              "      <th></th>\n",
              "      <th></th>\n",
              "      <th></th>\n",
              "    </tr>\n",
              "  </thead>\n",
              "  <tbody>\n",
              "    <tr>\n",
              "      <th>1</th>\n",
              "      <td>0.357367</td>\n",
              "      <td>0.163347</td>\n",
              "      <td>-0.782888</td>\n",
              "      <td>0.287314</td>\n",
              "    </tr>\n",
              "    <tr>\n",
              "      <th>2&amp;3</th>\n",
              "      <td>0.601881</td>\n",
              "      <td>0.697211</td>\n",
              "      <td>0.147029</td>\n",
              "      <td>0.287314</td>\n",
              "    </tr>\n",
              "    <tr>\n",
              "      <th>4&amp;5</th>\n",
              "      <td>0.040752</td>\n",
              "      <td>0.139442</td>\n",
              "      <td>1.230137</td>\n",
              "      <td>0.287314</td>\n",
              "    </tr>\n",
              "  </tbody>\n",
              "</table>\n",
              "</div>"
            ],
            "text/plain": [
              "default                         0         1       woe        iv\n",
              "SLIK_Kolektibilitas_Bin                                        \n",
              "1                        0.357367  0.163347 -0.782888  0.287314\n",
              "2&3                      0.601881  0.697211  0.147029  0.287314\n",
              "4&5                      0.040752  0.139442  1.230137  0.287314"
            ]
          },
          "metadata": {},
          "execution_count": 204
        }
      ]
    },
    {
      "cell_type": "code",
      "metadata": {
        "id": "BETSmws_CDAx",
        "colab": {
          "base_uri": "https://localhost:8080/",
          "height": 553
        },
        "outputId": "a1974996-a1e5-4f0c-c90b-71807bf522f6"
      },
      "source": [
        "conditions = [\n",
        "             ( df_clean['Usia'] <= 23 ),\n",
        "             ( df_clean['Usia'] >= 24 ) & ( df_clean['Usia'] <= 26 ),\n",
        "             ( df_clean['Usia'] >= 27 ) & ( df_clean['Usia'] <= 28 ),\n",
        "             ( df_clean['Usia'] >= 29 ) & ( df_clean['Usia'] <= 31 ),\n",
        "             ( df_clean['Usia'] >= 32 ) & ( df_clean['Usia'] <= 34 ),\n",
        "             ( df_clean['Usia'] >= 35 ) & ( df_clean['Usia'] <= 37 ),\n",
        "             ( df_clean['Usia'] >= 38 ) & ( df_clean['Usia'] <= 42 ),\n",
        "             ( df_clean['Usia'] >= 43 ) & ( df_clean['Usia'] <= 48 ),\n",
        "             ( df_clean['Usia'] >= 49 )\n",
        "             ]\n",
        "\n",
        "choices = [\n",
        "          '1.<=23',\n",
        "          '2.24-26',\n",
        "          '3.27-28',\n",
        "          '4.29-31',\n",
        "          '5.32-34',\n",
        "          '6.35-37',\n",
        "          '7.38-42',\n",
        "          '8.43-48',\n",
        "          '9.>=49'\n",
        "          ]\n",
        "df_clean['Usia_Bin'] = np.select(conditions, choices)\n",
        "\n",
        "print(pd.crosstab(df_clean['Usia_Bin'], df_clean['default']))\n",
        "\n",
        "df_woe_iv = (pd.crosstab(df_clean['Usia_Bin'],df_clean['default'],normalize='columns')\n",
        "             .assign(woe=lambda dfx: np.log(dfx[1] / dfx[0]))\n",
        "             .assign(iv=lambda dfx: np.sum(dfx['woe']*\n",
        "                                           (dfx[1]-dfx[0]))))\n",
        "\n",
        "df_woe_iv"
      ],
      "execution_count": 205,
      "outputs": [
        {
          "output_type": "stream",
          "name": "stdout",
          "text": [
            "default    0   1\n",
            "Usia_Bin        \n",
            "1.<=23    58  38\n",
            "2.24-26   77  43\n",
            "3.27-28   58  21\n",
            "4.29-31   69  29\n",
            "5.32-34   55  26\n",
            "6.35-37   80  16\n",
            "7.38-42   78  26\n",
            "8.43-48   66  23\n",
            "9.>=49    97  29\n"
          ]
        },
        {
          "output_type": "execute_result",
          "data": {
            "text/html": [
              "<div>\n",
              "<style scoped>\n",
              "    .dataframe tbody tr th:only-of-type {\n",
              "        vertical-align: middle;\n",
              "    }\n",
              "\n",
              "    .dataframe tbody tr th {\n",
              "        vertical-align: top;\n",
              "    }\n",
              "\n",
              "    .dataframe thead th {\n",
              "        text-align: right;\n",
              "    }\n",
              "</style>\n",
              "<table border=\"1\" class=\"dataframe\">\n",
              "  <thead>\n",
              "    <tr style=\"text-align: right;\">\n",
              "      <th>default</th>\n",
              "      <th>0</th>\n",
              "      <th>1</th>\n",
              "      <th>woe</th>\n",
              "      <th>iv</th>\n",
              "    </tr>\n",
              "    <tr>\n",
              "      <th>Usia_Bin</th>\n",
              "      <th></th>\n",
              "      <th></th>\n",
              "      <th></th>\n",
              "      <th></th>\n",
              "    </tr>\n",
              "  </thead>\n",
              "  <tbody>\n",
              "    <tr>\n",
              "      <th>1.&lt;=23</th>\n",
              "      <td>0.090909</td>\n",
              "      <td>0.151394</td>\n",
              "      <td>0.510028</td>\n",
              "      <td>0.109118</td>\n",
              "    </tr>\n",
              "    <tr>\n",
              "      <th>2.24-26</th>\n",
              "      <td>0.120690</td>\n",
              "      <td>0.171315</td>\n",
              "      <td>0.350280</td>\n",
              "      <td>0.109118</td>\n",
              "    </tr>\n",
              "    <tr>\n",
              "      <th>3.27-28</th>\n",
              "      <td>0.090909</td>\n",
              "      <td>0.083665</td>\n",
              "      <td>-0.083035</td>\n",
              "      <td>0.109118</td>\n",
              "    </tr>\n",
              "    <tr>\n",
              "      <th>4.29-31</th>\n",
              "      <td>0.108150</td>\n",
              "      <td>0.115538</td>\n",
              "      <td>0.066075</td>\n",
              "      <td>0.109118</td>\n",
              "    </tr>\n",
              "    <tr>\n",
              "      <th>5.32-34</th>\n",
              "      <td>0.086207</td>\n",
              "      <td>0.103586</td>\n",
              "      <td>0.183649</td>\n",
              "      <td>0.109118</td>\n",
              "    </tr>\n",
              "    <tr>\n",
              "      <th>6.35-37</th>\n",
              "      <td>0.125392</td>\n",
              "      <td>0.063745</td>\n",
              "      <td>-0.676553</td>\n",
              "      <td>0.109118</td>\n",
              "    </tr>\n",
              "    <tr>\n",
              "      <th>7.38-42</th>\n",
              "      <td>0.122257</td>\n",
              "      <td>0.103586</td>\n",
              "      <td>-0.165727</td>\n",
              "      <td>0.109118</td>\n",
              "    </tr>\n",
              "    <tr>\n",
              "      <th>8.43-48</th>\n",
              "      <td>0.103448</td>\n",
              "      <td>0.091633</td>\n",
              "      <td>-0.121275</td>\n",
              "      <td>0.109118</td>\n",
              "    </tr>\n",
              "    <tr>\n",
              "      <th>9.&gt;=49</th>\n",
              "      <td>0.152038</td>\n",
              "      <td>0.115538</td>\n",
              "      <td>-0.274530</td>\n",
              "      <td>0.109118</td>\n",
              "    </tr>\n",
              "  </tbody>\n",
              "</table>\n",
              "</div>"
            ],
            "text/plain": [
              "default          0         1       woe        iv\n",
              "Usia_Bin                                        \n",
              "1.<=23    0.090909  0.151394  0.510028  0.109118\n",
              "2.24-26   0.120690  0.171315  0.350280  0.109118\n",
              "3.27-28   0.090909  0.083665 -0.083035  0.109118\n",
              "4.29-31   0.108150  0.115538  0.066075  0.109118\n",
              "5.32-34   0.086207  0.103586  0.183649  0.109118\n",
              "6.35-37   0.125392  0.063745 -0.676553  0.109118\n",
              "7.38-42   0.122257  0.103586 -0.165727  0.109118\n",
              "8.43-48   0.103448  0.091633 -0.121275  0.109118\n",
              "9.>=49    0.152038  0.115538 -0.274530  0.109118"
            ]
          },
          "metadata": {},
          "execution_count": 205
        }
      ]
    },
    {
      "cell_type": "code",
      "metadata": {
        "id": "4e2996muDzy6",
        "colab": {
          "base_uri": "https://localhost:8080/",
          "height": 397
        },
        "outputId": "2746a8c1-384a-4fa7-fead-79bf6a389720"
      },
      "source": [
        "conditions = [\n",
        "             ( df_clean['Usia'] <= 23 ),\n",
        "             ( df_clean['Usia'] >= 24 ) & ( df_clean['Usia'] <= 26 ),\n",
        "             ( df_clean['Usia'] >= 27 ) & ( df_clean['Usia'] <= 34 ),\n",
        "             ( df_clean['Usia'] >= 35 )\n",
        "             ]\n",
        "\n",
        "choices = [\n",
        "          '1.<=23',\n",
        "          '2.24-26',\n",
        "          '3.27-34',\n",
        "          '4.>=35'\n",
        "          ]\n",
        "df_clean['Usia_Bin2'] = np.select(conditions, choices)\n",
        "\n",
        "print(pd.crosstab(df_clean['Usia_Bin'], df_clean['default']))\n",
        "\n",
        "df_woe_iv = (pd.crosstab(df_clean['Usia_Bin2'],df_clean['default'],normalize='columns')\n",
        "             .assign(woe=lambda dfx: np.log(dfx[1] / dfx[0]))\n",
        "             .assign(iv=lambda dfx: np.sum(dfx['woe']*\n",
        "                                           (dfx[1]-dfx[0]))))\n",
        "\n",
        "df_woe_iv"
      ],
      "execution_count": 206,
      "outputs": [
        {
          "output_type": "stream",
          "name": "stdout",
          "text": [
            "default    0   1\n",
            "Usia_Bin        \n",
            "1.<=23    58  38\n",
            "2.24-26   77  43\n",
            "3.27-28   58  21\n",
            "4.29-31   69  29\n",
            "5.32-34   55  26\n",
            "6.35-37   80  16\n",
            "7.38-42   78  26\n",
            "8.43-48   66  23\n",
            "9.>=49    97  29\n"
          ]
        },
        {
          "output_type": "execute_result",
          "data": {
            "text/html": [
              "<div>\n",
              "<style scoped>\n",
              "    .dataframe tbody tr th:only-of-type {\n",
              "        vertical-align: middle;\n",
              "    }\n",
              "\n",
              "    .dataframe tbody tr th {\n",
              "        vertical-align: top;\n",
              "    }\n",
              "\n",
              "    .dataframe thead th {\n",
              "        text-align: right;\n",
              "    }\n",
              "</style>\n",
              "<table border=\"1\" class=\"dataframe\">\n",
              "  <thead>\n",
              "    <tr style=\"text-align: right;\">\n",
              "      <th>default</th>\n",
              "      <th>0</th>\n",
              "      <th>1</th>\n",
              "      <th>woe</th>\n",
              "      <th>iv</th>\n",
              "    </tr>\n",
              "    <tr>\n",
              "      <th>Usia_Bin2</th>\n",
              "      <th></th>\n",
              "      <th></th>\n",
              "      <th></th>\n",
              "      <th></th>\n",
              "    </tr>\n",
              "  </thead>\n",
              "  <tbody>\n",
              "    <tr>\n",
              "      <th>1.&lt;=23</th>\n",
              "      <td>0.090909</td>\n",
              "      <td>0.151394</td>\n",
              "      <td>0.510028</td>\n",
              "      <td>0.087607</td>\n",
              "    </tr>\n",
              "    <tr>\n",
              "      <th>2.24-26</th>\n",
              "      <td>0.120690</td>\n",
              "      <td>0.171315</td>\n",
              "      <td>0.350280</td>\n",
              "      <td>0.087607</td>\n",
              "    </tr>\n",
              "    <tr>\n",
              "      <th>3.27-34</th>\n",
              "      <td>0.285266</td>\n",
              "      <td>0.302789</td>\n",
              "      <td>0.059612</td>\n",
              "      <td>0.087607</td>\n",
              "    </tr>\n",
              "    <tr>\n",
              "      <th>4.&gt;=35</th>\n",
              "      <td>0.503135</td>\n",
              "      <td>0.374502</td>\n",
              "      <td>-0.295261</td>\n",
              "      <td>0.087607</td>\n",
              "    </tr>\n",
              "  </tbody>\n",
              "</table>\n",
              "</div>"
            ],
            "text/plain": [
              "default           0         1       woe        iv\n",
              "Usia_Bin2                                        \n",
              "1.<=23     0.090909  0.151394  0.510028  0.087607\n",
              "2.24-26    0.120690  0.171315  0.350280  0.087607\n",
              "3.27-34    0.285266  0.302789  0.059612  0.087607\n",
              "4.>=35     0.503135  0.374502 -0.295261  0.087607"
            ]
          },
          "metadata": {},
          "execution_count": 206
        }
      ]
    },
    {
      "cell_type": "code",
      "metadata": {
        "id": "JfIGL2QLrioC",
        "colab": {
          "base_uri": "https://localhost:8080/"
        },
        "outputId": "04936045-001e-4680-8e63-54edeef322f3"
      },
      "source": [
        "df_score_manual = df_clean[['SLIK_Kolektibilitas_Bin','default']]\n",
        "\n",
        "conditions = [\n",
        "             ( df_clean['SLIK_Kolektibilitas'] == 1 ),\n",
        "             ( df_clean['SLIK_Kolektibilitas'] == 2 ) | ( df_clean['SLIK_Kolektibilitas'] == 3 ),\n",
        "             ( df_clean['SLIK_Kolektibilitas'] == 4 ) | ( df_clean['SLIK_Kolektibilitas'] == 5 )\n",
        "             ]\n",
        "choices = [\n",
        "          -0.801299,\n",
        "          0.152287,\n",
        "          1.223173\n",
        "          ]\n",
        "\n",
        "df_score_manual['SLIK_Kolektibilitas_WOE'] = np.select(conditions, choices)\n",
        "df_score_manual = df_score_manual[['SLIK_Kolektibilitas_WOE','default']]"
      ],
      "execution_count": 207,
      "outputs": [
        {
          "output_type": "stream",
          "name": "stderr",
          "text": [
            "/usr/local/lib/python3.7/dist-packages/ipykernel_launcher.py:14: SettingWithCopyWarning: \n",
            "A value is trying to be set on a copy of a slice from a DataFrame.\n",
            "Try using .loc[row_indexer,col_indexer] = value instead\n",
            "\n",
            "See the caveats in the documentation: https://pandas.pydata.org/pandas-docs/stable/user_guide/indexing.html#returning-a-view-versus-a-copy\n",
            "  \n"
          ]
        }
      ]
    },
    {
      "cell_type": "code",
      "metadata": {
        "id": "PX536cJfs5sI",
        "colab": {
          "base_uri": "https://localhost:8080/"
        },
        "outputId": "dc6e7ef2-c472-49ce-f25e-ae1557a8e602"
      },
      "source": [
        "y_train = df_score_manual.loc[:,'default']\n",
        "X_train = df_score_manual.loc[:,df_score_manual.columns != 'default']\n",
        "\n",
        "print(X_train)\n",
        "print(y_train)"
      ],
      "execution_count": 208,
      "outputs": [
        {
          "output_type": "stream",
          "name": "stdout",
          "text": [
            "     SLIK_Kolektibilitas_WOE\n",
            "0                  -0.801299\n",
            "1                  -0.801299\n",
            "2                  -0.801299\n",
            "3                  -0.801299\n",
            "4                  -0.801299\n",
            "..                       ...\n",
            "942                 1.223173\n",
            "943                 1.223173\n",
            "944                 1.223173\n",
            "945                 1.223173\n",
            "946                 1.223173\n",
            "\n",
            "[889 rows x 1 columns]\n",
            "0      0\n",
            "1      0\n",
            "2      1\n",
            "3      1\n",
            "4      0\n",
            "      ..\n",
            "942    1\n",
            "943    1\n",
            "944    1\n",
            "945    1\n",
            "946    0\n",
            "Name: default, Length: 889, dtype: int64\n"
          ]
        }
      ]
    },
    {
      "cell_type": "code",
      "metadata": {
        "id": "4ogRrGGQtHnd",
        "colab": {
          "base_uri": "https://localhost:8080/"
        },
        "outputId": "f19e0f8c-8f9c-4e74-c3f4-cd37533bec02"
      },
      "source": [
        "# Membuat scorecard dengan menggunakan algoritma logistic regression\n",
        "from sklearn.linear_model import LogisticRegression\n",
        "lr = LogisticRegression()\n",
        "lr.fit(X_train, y_train)\n",
        "\n",
        "print(lr.coef_)"
      ],
      "execution_count": 209,
      "outputs": [
        {
          "output_type": "stream",
          "name": "stdout",
          "text": [
            "[[0.96906367]]\n"
          ]
        }
      ]
    },
    {
      "cell_type": "code",
      "metadata": {
        "id": "PJQvue7xRdXo"
      },
      "source": [
        "# install scorecardpy\n",
        "!pip install -q scorecardpy\n",
        "#!pip install git+git://github.com/shichenxie/scorecardpy.git"
      ],
      "execution_count": 210,
      "outputs": []
    },
    {
      "cell_type": "code",
      "metadata": {
        "colab": {
          "base_uri": "https://localhost:8080/"
        },
        "id": "PG7T24hIwXTy",
        "outputId": "619ee8da-5f34-4a61-864f-7c6a6b2561b7"
      },
      "source": [
        "df_clean.info()"
      ],
      "execution_count": 211,
      "outputs": [
        {
          "output_type": "stream",
          "name": "stdout",
          "text": [
            "<class 'pandas.core.frame.DataFrame'>\n",
            "Int64Index: 889 entries, 0 to 946\n",
            "Data columns (total 29 columns):\n",
            " #   Column                          Non-Null Count  Dtype   \n",
            "---  ------                          --------------  -----   \n",
            " 0   ID                              889 non-null    category\n",
            " 1   gagal_bayar                     889 non-null    category\n",
            " 2   Lama_Cicilan                    889 non-null    float64 \n",
            " 3   Tujuan_Pinjaman                 889 non-null    category\n",
            " 4   Pekerjaan                       889 non-null    category\n",
            " 5   Pendapatan_perbulan             889 non-null    category\n",
            " 6   Lama_Bekerja                    889 non-null    category\n",
            " 7   Status                          889 non-null    category\n",
            " 8   Kepemilikan_Rumah               889 non-null    category\n",
            " 9   Alamat_Rumah                    889 non-null    category\n",
            " 10  Alamat_Kantor                   889 non-null    category\n",
            " 11  Usia                            889 non-null    float64 \n",
            " 12  Lama_tinggal_ditempat_sekarang  889 non-null    category\n",
            " 13  SLIK_Kolektibilitas             889 non-null    category\n",
            " 14  SLIK_Cicilan_Bulanan            889 non-null    float64 \n",
            " 15  SLIK_Outstanding_CC             889 non-null    float64 \n",
            " 16  API_CreditScore_Vendor_A        889 non-null    int64   \n",
            " 17  API_CreditScore_Vendor_B        889 non-null    int64   \n",
            " 18  Device_Type                     889 non-null    category\n",
            " 19  Device_Apps_Installed           889 non-null    int64   \n",
            " 20  Device_Active_Since             889 non-null    category\n",
            " 21  Device_Apps_Segmentation        889 non-null    category\n",
            " 22  Mobile_Provider                 889 non-null    category\n",
            " 23  Mobile_Number_Active_Since      889 non-null    category\n",
            " 24  Email_Domain_Type               889 non-null    category\n",
            " 25  default                         889 non-null    int64   \n",
            " 26  SLIK_Kolektibilitas_Bin         889 non-null    object  \n",
            " 27  Usia_Bin                        889 non-null    object  \n",
            " 28  Usia_Bin2                       889 non-null    object  \n",
            "dtypes: category(18), float64(4), int64(4), object(3)\n",
            "memory usage: 150.5+ KB\n"
          ]
        }
      ]
    },
    {
      "cell_type": "code",
      "metadata": {
        "id": "grWQnOiATS-S",
        "colab": {
          "base_uri": "https://localhost:8080/",
          "height": 381
        },
        "outputId": "7edbeab8-e0be-4d6e-8ed6-c1bd5f6d05c5"
      },
      "source": [
        "#df_score_test = df_clean[['SLIK_Kolektibilitas_Bin','default']]\n",
        "df_score_test = df_clean[['default','Pekerjaan','Tujuan_Pinjaman','Lama_Cicilan','Pendapatan_perbulan','SLIK_Kolektibilitas'\n",
        ",'Lama_Bekerja','Status','Kepemilikan_Rumah','Alamat_Rumah','Alamat_Kantor','Usia','Lama_tinggal_ditempat_sekarang'\n",
        ",'SLIK_Cicilan_Bulanan','SLIK_Outstanding_CC','API_CreditScore_Vendor_A','API_CreditScore_Vendor_B','Device_Type'\n",
        ",'Device_Apps_Installed','Device_Active_Since','Device_Apps_Segmentation','Mobile_Provider','Mobile_Number_Active_Since'\n",
        ",'Email_Domain_Type']]\n",
        "# isu SLIK_Kolektibilitas\n",
        "\n",
        "# Credit Scoring using logistic regression with library scorecardpy\n",
        "import scorecardpy as scpy\n",
        "\n",
        "# Melakukan WOE binning\n",
        "bins = scpy.woebin(df_score_test, y = 'default')\n",
        "scpy.woebin_plot(bins)"
      ],
      "execution_count": 218,
      "outputs": [
        {
          "output_type": "stream",
          "name": "stdout",
          "text": [
            "[INFO] creating woe binning ...\n"
          ]
        },
        {
          "output_type": "error",
          "ename": "TypeError",
          "evalue": "ignored",
          "traceback": [
            "\u001b[0;31m---------------------------------------------------------------------------\u001b[0m",
            "\u001b[0;31mTypeError\u001b[0m                                 Traceback (most recent call last)",
            "\u001b[0;32m<ipython-input-218-3a6b5ba82395>\u001b[0m in \u001b[0;36m<module>\u001b[0;34m()\u001b[0m\n\u001b[1;32m     11\u001b[0m \u001b[0;34m\u001b[0m\u001b[0m\n\u001b[1;32m     12\u001b[0m \u001b[0;31m# Melakukan WOE binning\u001b[0m\u001b[0;34m\u001b[0m\u001b[0;34m\u001b[0m\u001b[0;34m\u001b[0m\u001b[0m\n\u001b[0;32m---> 13\u001b[0;31m \u001b[0mbins\u001b[0m \u001b[0;34m=\u001b[0m \u001b[0mscpy\u001b[0m\u001b[0;34m.\u001b[0m\u001b[0mwoebin\u001b[0m\u001b[0;34m(\u001b[0m\u001b[0mdf_score_test\u001b[0m\u001b[0;34m,\u001b[0m \u001b[0my\u001b[0m \u001b[0;34m=\u001b[0m \u001b[0;34m'default'\u001b[0m\u001b[0;34m)\u001b[0m\u001b[0;34m\u001b[0m\u001b[0;34m\u001b[0m\u001b[0m\n\u001b[0m\u001b[1;32m     14\u001b[0m \u001b[0mscpy\u001b[0m\u001b[0;34m.\u001b[0m\u001b[0mwoebin_plot\u001b[0m\u001b[0;34m(\u001b[0m\u001b[0mbins\u001b[0m\u001b[0;34m)\u001b[0m\u001b[0;34m\u001b[0m\u001b[0;34m\u001b[0m\u001b[0m\n",
            "\u001b[0;32m/usr/local/lib/python3.7/dist-packages/scorecardpy/woebin.py\u001b[0m in \u001b[0;36mwoebin\u001b[0;34m(dt, y, x, var_skip, breaks_list, special_values, stop_limit, count_distr_limit, bin_num_limit, positive, no_cores, print_step, method, ignore_const_cols, ignore_datetime_cols, check_cate_num, replace_blank, save_breaks_list, **kwargs)\u001b[0m\n\u001b[1;32m    964\u001b[0m               \u001b[0mstop_limit\u001b[0m\u001b[0;34m=\u001b[0m\u001b[0mstop_limit\u001b[0m\u001b[0;34m,\u001b[0m\u001b[0;34m\u001b[0m\u001b[0;34m\u001b[0m\u001b[0m\n\u001b[1;32m    965\u001b[0m               \u001b[0mbin_num_limit\u001b[0m\u001b[0;34m=\u001b[0m\u001b[0mbin_num_limit\u001b[0m\u001b[0;34m,\u001b[0m\u001b[0;34m\u001b[0m\u001b[0;34m\u001b[0m\u001b[0m\n\u001b[0;32m--> 966\u001b[0;31m               \u001b[0mmethod\u001b[0m\u001b[0;34m=\u001b[0m\u001b[0mmethod\u001b[0m\u001b[0;34m\u001b[0m\u001b[0;34m\u001b[0m\u001b[0m\n\u001b[0m\u001b[1;32m    967\u001b[0m             )\n\u001b[1;32m    968\u001b[0m             \u001b[0;31m# try catch:\u001b[0m\u001b[0;34m\u001b[0m\u001b[0;34m\u001b[0m\u001b[0;34m\u001b[0m\u001b[0m\n",
            "\u001b[0;32m/usr/local/lib/python3.7/dist-packages/scorecardpy/woebin.py\u001b[0m in \u001b[0;36mwoebin2\u001b[0;34m(dtm, breaks, spl_val, init_count_distr, count_distr_limit, stop_limit, bin_num_limit, method)\u001b[0m\n\u001b[1;32m    722\u001b[0m                 bin_list = woebin2_tree(\n\u001b[1;32m    723\u001b[0m                   \u001b[0mdtm\u001b[0m\u001b[0;34m,\u001b[0m \u001b[0minit_count_distr\u001b[0m\u001b[0;34m=\u001b[0m\u001b[0minit_count_distr\u001b[0m\u001b[0;34m,\u001b[0m \u001b[0mcount_distr_limit\u001b[0m\u001b[0;34m=\u001b[0m\u001b[0mcount_distr_limit\u001b[0m\u001b[0;34m,\u001b[0m\u001b[0;34m\u001b[0m\u001b[0;34m\u001b[0m\u001b[0m\n\u001b[0;32m--> 724\u001b[0;31m                   stop_limit=stop_limit, bin_num_limit=bin_num_limit, breaks=breaks, spl_val=spl_val)\n\u001b[0m\u001b[1;32m    725\u001b[0m             \u001b[0;32melif\u001b[0m \u001b[0mmethod\u001b[0m \u001b[0;34m==\u001b[0m \u001b[0;34m\"chimerge\"\u001b[0m\u001b[0;34m:\u001b[0m\u001b[0;34m\u001b[0m\u001b[0;34m\u001b[0m\u001b[0m\n\u001b[1;32m    726\u001b[0m                 \u001b[0;31m# 2.chimerge optimal binning\u001b[0m\u001b[0;34m\u001b[0m\u001b[0;34m\u001b[0m\u001b[0;34m\u001b[0m\u001b[0m\n",
            "\u001b[0;32m/usr/local/lib/python3.7/dist-packages/scorecardpy/woebin.py\u001b[0m in \u001b[0;36mwoebin2_tree\u001b[0;34m(dtm, init_count_distr, count_distr_limit, stop_limit, bin_num_limit, breaks, spl_val)\u001b[0m\n\u001b[1;32m    496\u001b[0m     \u001b[0mbinning_tree\u001b[0m \u001b[0;34m=\u001b[0m \u001b[0;32mNone\u001b[0m\u001b[0;34m\u001b[0m\u001b[0;34m\u001b[0m\u001b[0m\n\u001b[1;32m    497\u001b[0m     \u001b[0;32mwhile\u001b[0m \u001b[0;34m(\u001b[0m\u001b[0mIVchg\u001b[0m \u001b[0;34m>=\u001b[0m \u001b[0mstop_limit\u001b[0m\u001b[0;34m)\u001b[0m \u001b[0;32mand\u001b[0m \u001b[0;34m(\u001b[0m\u001b[0mstep_num\u001b[0m\u001b[0;34m+\u001b[0m\u001b[0;36m1\u001b[0m \u001b[0;34m<=\u001b[0m \u001b[0mmin\u001b[0m\u001b[0;34m(\u001b[0m\u001b[0;34m[\u001b[0m\u001b[0mbin_num_limit\u001b[0m\u001b[0;34m,\u001b[0m \u001b[0mlen_brks\u001b[0m\u001b[0;34m]\u001b[0m\u001b[0;34m)\u001b[0m\u001b[0;34m)\u001b[0m\u001b[0;34m:\u001b[0m\u001b[0;34m\u001b[0m\u001b[0;34m\u001b[0m\u001b[0m\n\u001b[0;32m--> 498\u001b[0;31m         \u001b[0mbinning_tree\u001b[0m \u001b[0;34m=\u001b[0m \u001b[0mwoebin2_tree_add_1brkp\u001b[0m\u001b[0;34m(\u001b[0m\u001b[0mdtm\u001b[0m\u001b[0;34m,\u001b[0m \u001b[0minitial_binning\u001b[0m\u001b[0;34m,\u001b[0m \u001b[0mcount_distr_limit\u001b[0m\u001b[0;34m,\u001b[0m \u001b[0mbestbreaks\u001b[0m\u001b[0;34m)\u001b[0m\u001b[0;34m\u001b[0m\u001b[0;34m\u001b[0m\u001b[0m\n\u001b[0m\u001b[1;32m    499\u001b[0m         \u001b[0;31m# best breaks\u001b[0m\u001b[0;34m\u001b[0m\u001b[0;34m\u001b[0m\u001b[0;34m\u001b[0m\u001b[0m\n\u001b[1;32m    500\u001b[0m         \u001b[0mbestbreaks\u001b[0m \u001b[0;34m=\u001b[0m \u001b[0mbinning_tree\u001b[0m\u001b[0;34m.\u001b[0m\u001b[0mloc\u001b[0m\u001b[0;34m[\u001b[0m\u001b[0;32mlambda\u001b[0m \u001b[0mx\u001b[0m\u001b[0;34m:\u001b[0m \u001b[0mx\u001b[0m\u001b[0;34m[\u001b[0m\u001b[0;34m'bstbrkp'\u001b[0m\u001b[0;34m]\u001b[0m \u001b[0;34m!=\u001b[0m \u001b[0mfloat\u001b[0m\u001b[0;34m(\u001b[0m\u001b[0;34m'-inf'\u001b[0m\u001b[0;34m)\u001b[0m\u001b[0;34m,\u001b[0m \u001b[0;34m'bstbrkp'\u001b[0m\u001b[0;34m]\u001b[0m\u001b[0;34m.\u001b[0m\u001b[0mtolist\u001b[0m\u001b[0;34m(\u001b[0m\u001b[0;34m)\u001b[0m\u001b[0;34m\u001b[0m\u001b[0;34m\u001b[0m\u001b[0m\n",
            "\u001b[0;32m/usr/local/lib/python3.7/dist-packages/scorecardpy/woebin.py\u001b[0m in \u001b[0;36mwoebin2_tree_add_1brkp\u001b[0;34m(dtm, initial_binning, count_distr_limit, bestbreaks)\u001b[0m\n\u001b[1;32m    455\u001b[0m         \u001b[0mbestbreaks\u001b[0m \u001b[0;34m=\u001b[0m \u001b[0mbestbreaks\u001b[0m\u001b[0;34m+\u001b[0m\u001b[0;34m[\u001b[0m\u001b[0mbstbrk_maxiv\u001b[0m\u001b[0;34m]\u001b[0m \u001b[0;32mif\u001b[0m \u001b[0mbestbreaks\u001b[0m \u001b[0;32mis\u001b[0m \u001b[0;32mnot\u001b[0m \u001b[0;32mNone\u001b[0m \u001b[0;32melse\u001b[0m \u001b[0;34m[\u001b[0m\u001b[0mbstbrk_maxiv\u001b[0m\u001b[0;34m]\u001b[0m\u001b[0;34m\u001b[0m\u001b[0;34m\u001b[0m\u001b[0m\n\u001b[1;32m    456\u001b[0m     \u001b[0;31m# binning add 1best break\u001b[0m\u001b[0;34m\u001b[0m\u001b[0;34m\u001b[0m\u001b[0;34m\u001b[0m\u001b[0m\n\u001b[0;32m--> 457\u001b[0;31m     \u001b[0mbin_add_1bst\u001b[0m \u001b[0;34m=\u001b[0m \u001b[0mbinning_add_1bst\u001b[0m\u001b[0;34m(\u001b[0m\u001b[0minitial_binning\u001b[0m\u001b[0;34m,\u001b[0m \u001b[0mbestbreaks\u001b[0m\u001b[0;34m)\u001b[0m\u001b[0;34m\u001b[0m\u001b[0;34m\u001b[0m\u001b[0m\n\u001b[0m\u001b[1;32m    458\u001b[0m     \u001b[0;31m# return\u001b[0m\u001b[0;34m\u001b[0m\u001b[0;34m\u001b[0m\u001b[0;34m\u001b[0m\u001b[0m\n\u001b[1;32m    459\u001b[0m     \u001b[0;32mreturn\u001b[0m \u001b[0mbin_add_1bst\u001b[0m\u001b[0;34m\u001b[0m\u001b[0;34m\u001b[0m\u001b[0m\n",
            "\u001b[0;32m/usr/local/lib/python3.7/dist-packages/scorecardpy/woebin.py\u001b[0m in \u001b[0;36mbinning_add_1bst\u001b[0;34m(initial_binning, bestbreaks)\u001b[0m\n\u001b[1;32m    432\u001b[0m         \u001b[0;32melse\u001b[0m\u001b[0;34m:\u001b[0m\u001b[0;34m\u001b[0m\u001b[0;34m\u001b[0m\u001b[0m\n\u001b[1;32m    433\u001b[0m             \u001b[0mbinning_1bst_brk\u001b[0m \u001b[0;34m=\u001b[0m \u001b[0mbinning_1bst_brk\u001b[0m\u001b[0;34m.\u001b[0m\u001b[0mgroupby\u001b[0m\u001b[0;34m(\u001b[0m\u001b[0;34m[\u001b[0m\u001b[0;34m'variable'\u001b[0m\u001b[0;34m,\u001b[0m \u001b[0;34m'bstbin'\u001b[0m\u001b[0;34m]\u001b[0m\u001b[0;34m)\u001b[0m\u001b[0;31m\\\u001b[0m\u001b[0;34m\u001b[0m\u001b[0;34m\u001b[0m\u001b[0m\n\u001b[0;32m--> 434\u001b[0;31m             \u001b[0;34m.\u001b[0m\u001b[0magg\u001b[0m\u001b[0;34m(\u001b[0m\u001b[0;34m{\u001b[0m\u001b[0;34m'good'\u001b[0m\u001b[0;34m:\u001b[0m\u001b[0msum\u001b[0m\u001b[0;34m,\u001b[0m \u001b[0;34m'bad'\u001b[0m\u001b[0;34m:\u001b[0m\u001b[0msum\u001b[0m\u001b[0;34m,\u001b[0m \u001b[0;34m'bin'\u001b[0m\u001b[0;34m:\u001b[0m\u001b[0;32mlambda\u001b[0m \u001b[0mx\u001b[0m\u001b[0;34m:\u001b[0m\u001b[0;34m'%,%'\u001b[0m\u001b[0;34m.\u001b[0m\u001b[0mjoin\u001b[0m\u001b[0;34m(\u001b[0m\u001b[0mx\u001b[0m\u001b[0;34m)\u001b[0m\u001b[0;34m}\u001b[0m\u001b[0;34m)\u001b[0m\u001b[0;34m.\u001b[0m\u001b[0mreset_index\u001b[0m\u001b[0;34m(\u001b[0m\u001b[0;34m)\u001b[0m\u001b[0;31m\\\u001b[0m\u001b[0;34m\u001b[0m\u001b[0;34m\u001b[0m\u001b[0m\n\u001b[0m\u001b[1;32m    435\u001b[0m             \u001b[0;34m[\u001b[0m\u001b[0;34m[\u001b[0m\u001b[0;34m'bstbin'\u001b[0m\u001b[0;34m,\u001b[0m \u001b[0;34m'variable'\u001b[0m\u001b[0;34m,\u001b[0m \u001b[0;34m'bin'\u001b[0m\u001b[0;34m,\u001b[0m \u001b[0;34m'good'\u001b[0m\u001b[0;34m,\u001b[0m \u001b[0;34m'bad'\u001b[0m\u001b[0;34m]\u001b[0m\u001b[0;34m]\u001b[0m\u001b[0;34m\u001b[0m\u001b[0;34m\u001b[0m\u001b[0m\n\u001b[1;32m    436\u001b[0m         \u001b[0;31m# format\u001b[0m\u001b[0;34m\u001b[0m\u001b[0;34m\u001b[0m\u001b[0;34m\u001b[0m\u001b[0m\n",
            "\u001b[0;32m/usr/local/lib/python3.7/dist-packages/pandas/core/groupby/generic.py\u001b[0m in \u001b[0;36maggregate\u001b[0;34m(self, func, engine, engine_kwargs, *args, **kwargs)\u001b[0m\n\u001b[1;32m    949\u001b[0m         \u001b[0mfunc\u001b[0m \u001b[0;34m=\u001b[0m \u001b[0mmaybe_mangle_lambdas\u001b[0m\u001b[0;34m(\u001b[0m\u001b[0mfunc\u001b[0m\u001b[0;34m)\u001b[0m\u001b[0;34m\u001b[0m\u001b[0;34m\u001b[0m\u001b[0m\n\u001b[1;32m    950\u001b[0m \u001b[0;34m\u001b[0m\u001b[0m\n\u001b[0;32m--> 951\u001b[0;31m         \u001b[0mresult\u001b[0m\u001b[0;34m,\u001b[0m \u001b[0mhow\u001b[0m \u001b[0;34m=\u001b[0m \u001b[0mself\u001b[0m\u001b[0;34m.\u001b[0m\u001b[0m_aggregate\u001b[0m\u001b[0;34m(\u001b[0m\u001b[0mfunc\u001b[0m\u001b[0;34m,\u001b[0m \u001b[0;34m*\u001b[0m\u001b[0margs\u001b[0m\u001b[0;34m,\u001b[0m \u001b[0;34m**\u001b[0m\u001b[0mkwargs\u001b[0m\u001b[0;34m)\u001b[0m\u001b[0;34m\u001b[0m\u001b[0;34m\u001b[0m\u001b[0m\n\u001b[0m\u001b[1;32m    952\u001b[0m         \u001b[0;32mif\u001b[0m \u001b[0mhow\u001b[0m \u001b[0;32mis\u001b[0m \u001b[0;32mNone\u001b[0m\u001b[0;34m:\u001b[0m\u001b[0;34m\u001b[0m\u001b[0;34m\u001b[0m\u001b[0m\n\u001b[1;32m    953\u001b[0m             \u001b[0;32mreturn\u001b[0m \u001b[0mresult\u001b[0m\u001b[0;34m\u001b[0m\u001b[0;34m\u001b[0m\u001b[0m\n",
            "\u001b[0;32m/usr/local/lib/python3.7/dist-packages/pandas/core/base.py\u001b[0m in \u001b[0;36m_aggregate\u001b[0;34m(self, arg, *args, **kwargs)\u001b[0m\n\u001b[1;32m    414\u001b[0m \u001b[0;34m\u001b[0m\u001b[0m\n\u001b[1;32m    415\u001b[0m                 \u001b[0;32mtry\u001b[0m\u001b[0;34m:\u001b[0m\u001b[0;34m\u001b[0m\u001b[0;34m\u001b[0m\u001b[0m\n\u001b[0;32m--> 416\u001b[0;31m                     \u001b[0mresult\u001b[0m \u001b[0;34m=\u001b[0m \u001b[0m_agg\u001b[0m\u001b[0;34m(\u001b[0m\u001b[0marg\u001b[0m\u001b[0;34m,\u001b[0m \u001b[0m_agg_1dim\u001b[0m\u001b[0;34m)\u001b[0m\u001b[0;34m\u001b[0m\u001b[0;34m\u001b[0m\u001b[0m\n\u001b[0m\u001b[1;32m    417\u001b[0m                 \u001b[0;32mexcept\u001b[0m \u001b[0mSpecificationError\u001b[0m\u001b[0;34m:\u001b[0m\u001b[0;34m\u001b[0m\u001b[0;34m\u001b[0m\u001b[0m\n\u001b[1;32m    418\u001b[0m \u001b[0;34m\u001b[0m\u001b[0m\n",
            "\u001b[0;32m/usr/local/lib/python3.7/dist-packages/pandas/core/base.py\u001b[0m in \u001b[0;36m_agg\u001b[0;34m(arg, func)\u001b[0m\n\u001b[1;32m    381\u001b[0m                 \u001b[0mresult\u001b[0m \u001b[0;34m=\u001b[0m \u001b[0;34m{\u001b[0m\u001b[0;34m}\u001b[0m\u001b[0;34m\u001b[0m\u001b[0;34m\u001b[0m\u001b[0m\n\u001b[1;32m    382\u001b[0m                 \u001b[0;32mfor\u001b[0m \u001b[0mfname\u001b[0m\u001b[0;34m,\u001b[0m \u001b[0magg_how\u001b[0m \u001b[0;32min\u001b[0m \u001b[0marg\u001b[0m\u001b[0;34m.\u001b[0m\u001b[0mitems\u001b[0m\u001b[0;34m(\u001b[0m\u001b[0;34m)\u001b[0m\u001b[0;34m:\u001b[0m\u001b[0;34m\u001b[0m\u001b[0;34m\u001b[0m\u001b[0m\n\u001b[0;32m--> 383\u001b[0;31m                     \u001b[0mresult\u001b[0m\u001b[0;34m[\u001b[0m\u001b[0mfname\u001b[0m\u001b[0;34m]\u001b[0m \u001b[0;34m=\u001b[0m \u001b[0mfunc\u001b[0m\u001b[0;34m(\u001b[0m\u001b[0mfname\u001b[0m\u001b[0;34m,\u001b[0m \u001b[0magg_how\u001b[0m\u001b[0;34m)\u001b[0m\u001b[0;34m\u001b[0m\u001b[0;34m\u001b[0m\u001b[0m\n\u001b[0m\u001b[1;32m    384\u001b[0m                 \u001b[0;32mreturn\u001b[0m \u001b[0mresult\u001b[0m\u001b[0;34m\u001b[0m\u001b[0;34m\u001b[0m\u001b[0m\n\u001b[1;32m    385\u001b[0m \u001b[0;34m\u001b[0m\u001b[0m\n",
            "\u001b[0;32m/usr/local/lib/python3.7/dist-packages/pandas/core/base.py\u001b[0m in \u001b[0;36m_agg_1dim\u001b[0;34m(name, how, subset)\u001b[0m\n\u001b[1;32m    365\u001b[0m                         \u001b[0;34m\"nested dictionary is ambiguous in aggregation\"\u001b[0m\u001b[0;34m\u001b[0m\u001b[0;34m\u001b[0m\u001b[0m\n\u001b[1;32m    366\u001b[0m                     )\n\u001b[0;32m--> 367\u001b[0;31m                 \u001b[0;32mreturn\u001b[0m \u001b[0mcolg\u001b[0m\u001b[0;34m.\u001b[0m\u001b[0maggregate\u001b[0m\u001b[0;34m(\u001b[0m\u001b[0mhow\u001b[0m\u001b[0;34m)\u001b[0m\u001b[0;34m\u001b[0m\u001b[0;34m\u001b[0m\u001b[0m\n\u001b[0m\u001b[1;32m    368\u001b[0m \u001b[0;34m\u001b[0m\u001b[0m\n\u001b[1;32m    369\u001b[0m             \u001b[0;32mdef\u001b[0m \u001b[0m_agg_2dim\u001b[0m\u001b[0;34m(\u001b[0m\u001b[0mhow\u001b[0m\u001b[0;34m)\u001b[0m\u001b[0;34m:\u001b[0m\u001b[0;34m\u001b[0m\u001b[0;34m\u001b[0m\u001b[0m\n",
            "\u001b[0;32m/usr/local/lib/python3.7/dist-packages/pandas/core/groupby/generic.py\u001b[0m in \u001b[0;36maggregate\u001b[0;34m(self, func, engine, engine_kwargs, *args, **kwargs)\u001b[0m\n\u001b[1;32m    254\u001b[0m             \u001b[0;32mif\u001b[0m \u001b[0mself\u001b[0m\u001b[0;34m.\u001b[0m\u001b[0mgrouper\u001b[0m\u001b[0;34m.\u001b[0m\u001b[0mnkeys\u001b[0m \u001b[0;34m>\u001b[0m \u001b[0;36m1\u001b[0m\u001b[0;34m:\u001b[0m\u001b[0;34m\u001b[0m\u001b[0;34m\u001b[0m\u001b[0m\n\u001b[1;32m    255\u001b[0m                 return self._python_agg_general(\n\u001b[0;32m--> 256\u001b[0;31m                     \u001b[0mfunc\u001b[0m\u001b[0;34m,\u001b[0m \u001b[0;34m*\u001b[0m\u001b[0margs\u001b[0m\u001b[0;34m,\u001b[0m \u001b[0mengine\u001b[0m\u001b[0;34m=\u001b[0m\u001b[0mengine\u001b[0m\u001b[0;34m,\u001b[0m \u001b[0mengine_kwargs\u001b[0m\u001b[0;34m=\u001b[0m\u001b[0mengine_kwargs\u001b[0m\u001b[0;34m,\u001b[0m \u001b[0;34m**\u001b[0m\u001b[0mkwargs\u001b[0m\u001b[0;34m\u001b[0m\u001b[0;34m\u001b[0m\u001b[0m\n\u001b[0m\u001b[1;32m    257\u001b[0m                 )\n\u001b[1;32m    258\u001b[0m \u001b[0;34m\u001b[0m\u001b[0m\n",
            "\u001b[0;32m/usr/local/lib/python3.7/dist-packages/pandas/core/groupby/groupby.py\u001b[0m in \u001b[0;36m_python_agg_general\u001b[0;34m(self, func, engine, engine_kwargs, *args, **kwargs)\u001b[0m\n\u001b[1;32m   1092\u001b[0m \u001b[0;34m\u001b[0m\u001b[0m\n\u001b[1;32m   1093\u001b[0m         \u001b[0;32mif\u001b[0m \u001b[0mlen\u001b[0m\u001b[0;34m(\u001b[0m\u001b[0moutput\u001b[0m\u001b[0;34m)\u001b[0m \u001b[0;34m==\u001b[0m \u001b[0;36m0\u001b[0m\u001b[0;34m:\u001b[0m\u001b[0;34m\u001b[0m\u001b[0;34m\u001b[0m\u001b[0m\n\u001b[0;32m-> 1094\u001b[0;31m             \u001b[0;32mreturn\u001b[0m \u001b[0mself\u001b[0m\u001b[0;34m.\u001b[0m\u001b[0m_python_apply_general\u001b[0m\u001b[0;34m(\u001b[0m\u001b[0mf\u001b[0m\u001b[0;34m,\u001b[0m \u001b[0mself\u001b[0m\u001b[0;34m.\u001b[0m\u001b[0m_selected_obj\u001b[0m\u001b[0;34m)\u001b[0m\u001b[0;34m\u001b[0m\u001b[0;34m\u001b[0m\u001b[0m\n\u001b[0m\u001b[1;32m   1095\u001b[0m \u001b[0;34m\u001b[0m\u001b[0m\n\u001b[1;32m   1096\u001b[0m         \u001b[0;32mif\u001b[0m \u001b[0mself\u001b[0m\u001b[0;34m.\u001b[0m\u001b[0mgrouper\u001b[0m\u001b[0;34m.\u001b[0m\u001b[0m_filter_empty_groups\u001b[0m\u001b[0;34m:\u001b[0m\u001b[0;34m\u001b[0m\u001b[0;34m\u001b[0m\u001b[0m\n",
            "\u001b[0;32m/usr/local/lib/python3.7/dist-packages/pandas/core/groupby/groupby.py\u001b[0m in \u001b[0;36m_python_apply_general\u001b[0;34m(self, f, data)\u001b[0m\n\u001b[1;32m    890\u001b[0m             \u001b[0mdata\u001b[0m \u001b[0mafter\u001b[0m \u001b[0mapplying\u001b[0m \u001b[0mf\u001b[0m\u001b[0;34m\u001b[0m\u001b[0;34m\u001b[0m\u001b[0m\n\u001b[1;32m    891\u001b[0m         \"\"\"\n\u001b[0;32m--> 892\u001b[0;31m         \u001b[0mkeys\u001b[0m\u001b[0;34m,\u001b[0m \u001b[0mvalues\u001b[0m\u001b[0;34m,\u001b[0m \u001b[0mmutated\u001b[0m \u001b[0;34m=\u001b[0m \u001b[0mself\u001b[0m\u001b[0;34m.\u001b[0m\u001b[0mgrouper\u001b[0m\u001b[0;34m.\u001b[0m\u001b[0mapply\u001b[0m\u001b[0;34m(\u001b[0m\u001b[0mf\u001b[0m\u001b[0;34m,\u001b[0m \u001b[0mdata\u001b[0m\u001b[0;34m,\u001b[0m \u001b[0mself\u001b[0m\u001b[0;34m.\u001b[0m\u001b[0maxis\u001b[0m\u001b[0;34m)\u001b[0m\u001b[0;34m\u001b[0m\u001b[0;34m\u001b[0m\u001b[0m\n\u001b[0m\u001b[1;32m    893\u001b[0m \u001b[0;34m\u001b[0m\u001b[0m\n\u001b[1;32m    894\u001b[0m         return self._wrap_applied_output(\n",
            "\u001b[0;32m/usr/local/lib/python3.7/dist-packages/pandas/core/groupby/ops.py\u001b[0m in \u001b[0;36mapply\u001b[0;34m(self, f, data, axis)\u001b[0m\n\u001b[1;32m    218\u001b[0m             \u001b[0;31m# group might be modified\u001b[0m\u001b[0;34m\u001b[0m\u001b[0;34m\u001b[0m\u001b[0;34m\u001b[0m\u001b[0m\n\u001b[1;32m    219\u001b[0m             \u001b[0mgroup_axes\u001b[0m \u001b[0;34m=\u001b[0m \u001b[0mgroup\u001b[0m\u001b[0;34m.\u001b[0m\u001b[0maxes\u001b[0m\u001b[0;34m\u001b[0m\u001b[0;34m\u001b[0m\u001b[0m\n\u001b[0;32m--> 220\u001b[0;31m             \u001b[0mres\u001b[0m \u001b[0;34m=\u001b[0m \u001b[0mf\u001b[0m\u001b[0;34m(\u001b[0m\u001b[0mgroup\u001b[0m\u001b[0;34m)\u001b[0m\u001b[0;34m\u001b[0m\u001b[0;34m\u001b[0m\u001b[0m\n\u001b[0m\u001b[1;32m    221\u001b[0m             \u001b[0;32mif\u001b[0m \u001b[0;32mnot\u001b[0m \u001b[0m_is_indexed_like\u001b[0m\u001b[0;34m(\u001b[0m\u001b[0mres\u001b[0m\u001b[0;34m,\u001b[0m \u001b[0mgroup_axes\u001b[0m\u001b[0;34m)\u001b[0m\u001b[0;34m:\u001b[0m\u001b[0;34m\u001b[0m\u001b[0;34m\u001b[0m\u001b[0m\n\u001b[1;32m    222\u001b[0m                 \u001b[0mmutated\u001b[0m \u001b[0;34m=\u001b[0m \u001b[0;32mTrue\u001b[0m\u001b[0;34m\u001b[0m\u001b[0;34m\u001b[0m\u001b[0m\n",
            "\u001b[0;32m/usr/local/lib/python3.7/dist-packages/pandas/core/groupby/groupby.py\u001b[0m in \u001b[0;36m<lambda>\u001b[0;34m(x)\u001b[0m\n\u001b[1;32m   1060\u001b[0m         \u001b[0mfunc\u001b[0m \u001b[0;34m=\u001b[0m \u001b[0mself\u001b[0m\u001b[0;34m.\u001b[0m\u001b[0m_is_builtin_func\u001b[0m\u001b[0;34m(\u001b[0m\u001b[0mfunc\u001b[0m\u001b[0;34m)\u001b[0m\u001b[0;34m\u001b[0m\u001b[0;34m\u001b[0m\u001b[0m\n\u001b[1;32m   1061\u001b[0m         \u001b[0;32mif\u001b[0m \u001b[0mengine\u001b[0m \u001b[0;34m!=\u001b[0m \u001b[0;34m\"numba\"\u001b[0m\u001b[0;34m:\u001b[0m\u001b[0;34m\u001b[0m\u001b[0;34m\u001b[0m\u001b[0m\n\u001b[0;32m-> 1062\u001b[0;31m             \u001b[0mf\u001b[0m \u001b[0;34m=\u001b[0m \u001b[0;32mlambda\u001b[0m \u001b[0mx\u001b[0m\u001b[0;34m:\u001b[0m \u001b[0mfunc\u001b[0m\u001b[0;34m(\u001b[0m\u001b[0mx\u001b[0m\u001b[0;34m,\u001b[0m \u001b[0;34m*\u001b[0m\u001b[0margs\u001b[0m\u001b[0;34m,\u001b[0m \u001b[0;34m**\u001b[0m\u001b[0mkwargs\u001b[0m\u001b[0;34m)\u001b[0m\u001b[0;34m\u001b[0m\u001b[0;34m\u001b[0m\u001b[0m\n\u001b[0m\u001b[1;32m   1063\u001b[0m \u001b[0;34m\u001b[0m\u001b[0m\n\u001b[1;32m   1064\u001b[0m         \u001b[0;31m# iterate through \"columns\" ex exclusions to populate output dict\u001b[0m\u001b[0;34m\u001b[0m\u001b[0;34m\u001b[0m\u001b[0;34m\u001b[0m\u001b[0m\n",
            "\u001b[0;32m/usr/local/lib/python3.7/dist-packages/scorecardpy/woebin.py\u001b[0m in \u001b[0;36m<lambda>\u001b[0;34m(x)\u001b[0m\n\u001b[1;32m    432\u001b[0m         \u001b[0;32melse\u001b[0m\u001b[0;34m:\u001b[0m\u001b[0;34m\u001b[0m\u001b[0;34m\u001b[0m\u001b[0m\n\u001b[1;32m    433\u001b[0m             \u001b[0mbinning_1bst_brk\u001b[0m \u001b[0;34m=\u001b[0m \u001b[0mbinning_1bst_brk\u001b[0m\u001b[0;34m.\u001b[0m\u001b[0mgroupby\u001b[0m\u001b[0;34m(\u001b[0m\u001b[0;34m[\u001b[0m\u001b[0;34m'variable'\u001b[0m\u001b[0;34m,\u001b[0m \u001b[0;34m'bstbin'\u001b[0m\u001b[0;34m]\u001b[0m\u001b[0;34m)\u001b[0m\u001b[0;31m\\\u001b[0m\u001b[0;34m\u001b[0m\u001b[0;34m\u001b[0m\u001b[0m\n\u001b[0;32m--> 434\u001b[0;31m             \u001b[0;34m.\u001b[0m\u001b[0magg\u001b[0m\u001b[0;34m(\u001b[0m\u001b[0;34m{\u001b[0m\u001b[0;34m'good'\u001b[0m\u001b[0;34m:\u001b[0m\u001b[0msum\u001b[0m\u001b[0;34m,\u001b[0m \u001b[0;34m'bad'\u001b[0m\u001b[0;34m:\u001b[0m\u001b[0msum\u001b[0m\u001b[0;34m,\u001b[0m \u001b[0;34m'bin'\u001b[0m\u001b[0;34m:\u001b[0m\u001b[0;32mlambda\u001b[0m \u001b[0mx\u001b[0m\u001b[0;34m:\u001b[0m\u001b[0;34m'%,%'\u001b[0m\u001b[0;34m.\u001b[0m\u001b[0mjoin\u001b[0m\u001b[0;34m(\u001b[0m\u001b[0mx\u001b[0m\u001b[0;34m)\u001b[0m\u001b[0;34m}\u001b[0m\u001b[0;34m)\u001b[0m\u001b[0;34m.\u001b[0m\u001b[0mreset_index\u001b[0m\u001b[0;34m(\u001b[0m\u001b[0;34m)\u001b[0m\u001b[0;31m\\\u001b[0m\u001b[0;34m\u001b[0m\u001b[0;34m\u001b[0m\u001b[0m\n\u001b[0m\u001b[1;32m    435\u001b[0m             \u001b[0;34m[\u001b[0m\u001b[0;34m[\u001b[0m\u001b[0;34m'bstbin'\u001b[0m\u001b[0;34m,\u001b[0m \u001b[0;34m'variable'\u001b[0m\u001b[0;34m,\u001b[0m \u001b[0;34m'bin'\u001b[0m\u001b[0;34m,\u001b[0m \u001b[0;34m'good'\u001b[0m\u001b[0;34m,\u001b[0m \u001b[0;34m'bad'\u001b[0m\u001b[0;34m]\u001b[0m\u001b[0;34m]\u001b[0m\u001b[0;34m\u001b[0m\u001b[0;34m\u001b[0m\u001b[0m\n\u001b[1;32m    436\u001b[0m         \u001b[0;31m# format\u001b[0m\u001b[0;34m\u001b[0m\u001b[0;34m\u001b[0m\u001b[0;34m\u001b[0m\u001b[0m\n",
            "\u001b[0;31mTypeError\u001b[0m: sequence item 0: expected str instance, float found"
          ]
        }
      ]
    },
    {
      "cell_type": "code",
      "metadata": {
        "id": "l_4oFCg9T8ku"
      },
      "source": [
        "# converting train and test into woe values\n",
        "train_woe = scpy.woebin_ply(df_score_test, bins)\n",
        "\n",
        "y_train = train_woe.loc[:,'default']\n",
        "X_train = train_woe.loc[:,train_woe.columns != 'default']\n",
        "\n",
        "print(X_train)\n",
        "print(y_train)"
      ],
      "execution_count": null,
      "outputs": []
    },
    {
      "cell_type": "code",
      "metadata": {
        "id": "8fuClTgqXUzT"
      },
      "source": [
        "# Membuat scorecard dengan menggunakan algoritma logistic regression\n",
        "from sklearn.linear_model import LogisticRegression\n",
        "lr = LogisticRegression()\n",
        "lr.fit(X_train, y_train)\n",
        "\n",
        "print(lr.coef_)"
      ],
      "execution_count": null,
      "outputs": []
    },
    {
      "cell_type": "code",
      "metadata": {
        "id": "5ZeZoNpZXaVr"
      },
      "source": [
        "# For those that want to know the statistic modeling\n",
        "import numpy as np\n",
        "import statsmodels.api as sm\n",
        "\n",
        "model = sm.Logit(y_train, X_train.astype(float))\n",
        "result = model.fit()\n",
        "\n",
        "result.summary()"
      ],
      "execution_count": null,
      "outputs": []
    }
  ]
}