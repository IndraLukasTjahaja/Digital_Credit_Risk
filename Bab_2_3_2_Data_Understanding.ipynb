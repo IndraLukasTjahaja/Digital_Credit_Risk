{
  "nbformat": 4,
  "nbformat_minor": 0,
  "metadata": {
    "colab": {
      "name": "Bab_2.3.2_Data_Understanding.ipynb",
      "provenance": [],
      "authorship_tag": "ABX9TyPQppI4mzibOmtm4rASv4fM",
      "include_colab_link": true
    },
    "kernelspec": {
      "name": "python3",
      "display_name": "Python 3"
    },
    "language_info": {
      "name": "python"
    }
  },
  "cells": [
    {
      "cell_type": "markdown",
      "metadata": {
        "id": "view-in-github",
        "colab_type": "text"
      },
      "source": [
        "<a href=\"https://colab.research.google.com/github/IndraLukasTjahaja/Digital_Credit_Risk/blob/main/Bab_2_3_2_Data_Understanding.ipynb\" target=\"_parent\"><img src=\"https://colab.research.google.com/assets/colab-badge.svg\" alt=\"Open In Colab\"/></a>"
      ]
    },
    {
      "cell_type": "code",
      "metadata": {
        "id": "lijleEyYl6gW"
      },
      "source": [
        "# 2.3.2.1 Persiapan data dan impor ke Python"
      ],
      "execution_count": 1,
      "outputs": []
    },
    {
      "cell_type": "code",
      "metadata": {
        "id": "X4yjdoBnl9Xv"
      },
      "source": [
        "# 2.3.2.2 Impor data di Python\n",
        "\n",
        "# library panda untuk menggunakan data frame\n",
        "import pandas as pd\n",
        "\n",
        "# Impor data dari excel xls ke Python\n",
        "# Pembaca dapat langsung menunjuk kepada file excel yang terletak di website pendamping buku ini\n",
        "# atau mengunduh terlebih dahulu dan menunjuk ke file excel di lokasi hard drive\n",
        "# contoh: df = pd.read_excel('C:\\User\\pembaca\\downloads\\Credit_Scoring_Dataset.xlsx')\n",
        "\n",
        "df = pd.read_excel('https://github.com/IndraLukasTjahaja/Digital_Credit_Risk/raw/main/Credit_Scoring_Dataset.xlsx')"
      ],
      "execution_count": 2,
      "outputs": []
    },
    {
      "cell_type": "code",
      "metadata": {
        "colab": {
          "base_uri": "https://localhost:8080/",
          "height": 498
        },
        "id": "xDekPk8lmZ3N",
        "outputId": "1ce9abdb-2dfe-4593-8c79-a51d33521cf9"
      },
      "source": [
        "# 2.3.2.3 Struktur data\n",
        "\n",
        "# Melihat sample dari dataset\n",
        "df.head(10) # Menampilkan 10 baris teratas dari dataframe df"
      ],
      "execution_count": 3,
      "outputs": [
        {
          "output_type": "execute_result",
          "data": {
            "text/html": [
              "<div>\n",
              "<style scoped>\n",
              "    .dataframe tbody tr th:only-of-type {\n",
              "        vertical-align: middle;\n",
              "    }\n",
              "\n",
              "    .dataframe tbody tr th {\n",
              "        vertical-align: top;\n",
              "    }\n",
              "\n",
              "    .dataframe thead th {\n",
              "        text-align: right;\n",
              "    }\n",
              "</style>\n",
              "<table border=\"1\" class=\"dataframe\">\n",
              "  <thead>\n",
              "    <tr style=\"text-align: right;\">\n",
              "      <th></th>\n",
              "      <th>ID</th>\n",
              "      <th>gagal_bayar</th>\n",
              "      <th>Lama_Cicilan</th>\n",
              "      <th>Tujuan_Pinjaman</th>\n",
              "      <th>Jumlah_Pinjaman</th>\n",
              "      <th>Pekerjaan</th>\n",
              "      <th>Status_Rekening_Bank</th>\n",
              "      <th>Pendapatan_perbulan</th>\n",
              "      <th>Lama_Bekerja</th>\n",
              "      <th>Status</th>\n",
              "      <th>Kepemilikan_Rumah</th>\n",
              "      <th>Alamat_Rumah</th>\n",
              "      <th>Alamat_Kantor</th>\n",
              "      <th>Usia</th>\n",
              "      <th>Lama_tinggal_ditempat_sekarang</th>\n",
              "      <th>debt_burden_ratio</th>\n",
              "      <th>SLIK_Kolektibilitas</th>\n",
              "      <th>SLIK_Outstanding</th>\n",
              "      <th>API_CreditScore_Vendor_A</th>\n",
              "      <th>API_CreditScore_Vendor_B</th>\n",
              "      <th>Device_Type</th>\n",
              "      <th>Device_Apps_Installed</th>\n",
              "      <th>Device_Active_Since</th>\n",
              "      <th>Device_Apps_Segmentation</th>\n",
              "      <th>Mobile_Provider</th>\n",
              "      <th>Mobile_Number_Active_Since</th>\n",
              "      <th>Email_Domain_Type</th>\n",
              "    </tr>\n",
              "  </thead>\n",
              "  <tbody>\n",
              "    <tr>\n",
              "      <th>0</th>\n",
              "      <td>ABC0001</td>\n",
              "      <td>0_Bayar</td>\n",
              "      <td>6.0</td>\n",
              "      <td>peralatan_rumahtangga</td>\n",
              "      <td>1169000</td>\n",
              "      <td>1_pegawai_tetap</td>\n",
              "      <td>2_Tabungan_&lt;=_100_ribu</td>\n",
              "      <td>5. rahasia</td>\n",
              "      <td>5_&gt;7_tahun_kerja</td>\n",
              "      <td>2_menikah</td>\n",
              "      <td>1_milik_sendiri</td>\n",
              "      <td>Daerah_3</td>\n",
              "      <td>Daerah_3</td>\n",
              "      <td>67.0</td>\n",
              "      <td>4_&gt;10_tahun</td>\n",
              "      <td>1_0_ke_25%</td>\n",
              "      <td>1.0</td>\n",
              "      <td>0.000000e+00</td>\n",
              "      <td>305</td>\n",
              "      <td>192</td>\n",
              "      <td>Android</td>\n",
              "      <td>16</td>\n",
              "      <td>2_1_ke_3_tahun</td>\n",
              "      <td>Social_Media</td>\n",
              "      <td>Telco_A</td>\n",
              "      <td>1_Kurang_1_bulan</td>\n",
              "      <td>Public_Domain</td>\n",
              "    </tr>\n",
              "    <tr>\n",
              "      <th>1</th>\n",
              "      <td>ABC0002</td>\n",
              "      <td>1_Gagal</td>\n",
              "      <td>48.0</td>\n",
              "      <td>peralatan_rumahtangga</td>\n",
              "      <td>5951000</td>\n",
              "      <td>1_pegawai_tetap</td>\n",
              "      <td>3_Tabungan_&lt;=_2_juta</td>\n",
              "      <td>1. &lt; 1 juta</td>\n",
              "      <td>3_1-4_tahun_kerja</td>\n",
              "      <td>1_belum_menikah</td>\n",
              "      <td>1_milik_sendiri</td>\n",
              "      <td>Daerah_2</td>\n",
              "      <td>Daerah_2</td>\n",
              "      <td>22.0</td>\n",
              "      <td>2_1-5_tahun</td>\n",
              "      <td>2_25_ke_50%</td>\n",
              "      <td>3.0</td>\n",
              "      <td>3.718614e+06</td>\n",
              "      <td>252</td>\n",
              "      <td>86</td>\n",
              "      <td>IOS</td>\n",
              "      <td>26</td>\n",
              "      <td>3_Lebih_3_tahun</td>\n",
              "      <td>Games</td>\n",
              "      <td>Telco_E</td>\n",
              "      <td>1_Kurang_1_bulan</td>\n",
              "      <td>Public_Domain</td>\n",
              "    </tr>\n",
              "    <tr>\n",
              "      <th>2</th>\n",
              "      <td>ABC0003</td>\n",
              "      <td>0_Bayar</td>\n",
              "      <td>12.0</td>\n",
              "      <td>liburan</td>\n",
              "      <td>2096000</td>\n",
              "      <td>3_wiraswasta</td>\n",
              "      <td>1_Tidak_ada_Rekening</td>\n",
              "      <td>1. &lt; 1 juta</td>\n",
              "      <td>4_4-7_tahun_kerja</td>\n",
              "      <td>2_menikah</td>\n",
              "      <td>1_milik_sendiri</td>\n",
              "      <td>Daerah_2</td>\n",
              "      <td>Daerah_1</td>\n",
              "      <td>49.0</td>\n",
              "      <td>3_5-10_tahun</td>\n",
              "      <td>2_25_ke_50%</td>\n",
              "      <td>1.0</td>\n",
              "      <td>0.000000e+00</td>\n",
              "      <td>858</td>\n",
              "      <td>97</td>\n",
              "      <td>Android</td>\n",
              "      <td>108</td>\n",
              "      <td>3_Lebih_3_tahun</td>\n",
              "      <td>Games</td>\n",
              "      <td>Telco_A</td>\n",
              "      <td>2_Kurang_1_tahun</td>\n",
              "      <td>Public_Domain</td>\n",
              "    </tr>\n",
              "    <tr>\n",
              "      <th>3</th>\n",
              "      <td>ABC0004</td>\n",
              "      <td>0_Bayar</td>\n",
              "      <td>42.0</td>\n",
              "      <td>elektronik</td>\n",
              "      <td>7882000</td>\n",
              "      <td>1_pegawai_tetap</td>\n",
              "      <td>2_Tabungan_&lt;=_100_ribu</td>\n",
              "      <td>1. &lt; 1 juta</td>\n",
              "      <td>4_4-7_tahun_kerja</td>\n",
              "      <td>2_menikah</td>\n",
              "      <td>3_bersama_keluarga</td>\n",
              "      <td>Daerah_1</td>\n",
              "      <td>Daerah_1</td>\n",
              "      <td>45.0</td>\n",
              "      <td>4_&gt;10_tahun</td>\n",
              "      <td>2_25_ke_50%</td>\n",
              "      <td>3.0</td>\n",
              "      <td>2.216175e+06</td>\n",
              "      <td>108</td>\n",
              "      <td>159</td>\n",
              "      <td>Android</td>\n",
              "      <td>42</td>\n",
              "      <td>3_Lebih_3_tahun</td>\n",
              "      <td>Online_Lending</td>\n",
              "      <td>Telco_E</td>\n",
              "      <td>2_Kurang_1_tahun</td>\n",
              "      <td>Professional_Domain</td>\n",
              "    </tr>\n",
              "    <tr>\n",
              "      <th>4</th>\n",
              "      <td>ABC0005</td>\n",
              "      <td>1_Gagal</td>\n",
              "      <td>24.0</td>\n",
              "      <td>mobil_baru</td>\n",
              "      <td>4870000</td>\n",
              "      <td>1_pegawai_tetap</td>\n",
              "      <td>2_Tabungan_&lt;=_100_ribu</td>\n",
              "      <td>1. &lt; 1 juta</td>\n",
              "      <td>3_1-4_tahun_kerja</td>\n",
              "      <td>2_menikah</td>\n",
              "      <td>3_bersama_keluarga</td>\n",
              "      <td>Daerah_3</td>\n",
              "      <td>Daerah_3</td>\n",
              "      <td>53.0</td>\n",
              "      <td>4_&gt;10_tahun</td>\n",
              "      <td>3_50_ke_75%</td>\n",
              "      <td>2.0</td>\n",
              "      <td>5.102303e+05</td>\n",
              "      <td>487</td>\n",
              "      <td>63</td>\n",
              "      <td>Android</td>\n",
              "      <td>29</td>\n",
              "      <td>3_Lebih_3_tahun</td>\n",
              "      <td>Shopping</td>\n",
              "      <td>Telco_D</td>\n",
              "      <td>1_Kurang_1_bulan</td>\n",
              "      <td>Public_Domain</td>\n",
              "    </tr>\n",
              "    <tr>\n",
              "      <th>5</th>\n",
              "      <td>ABC0006</td>\n",
              "      <td>0_Bayar</td>\n",
              "      <td>36.0</td>\n",
              "      <td>liburan</td>\n",
              "      <td>5</td>\n",
              "      <td>3_wiraswasta</td>\n",
              "      <td>1_Tidak_ada_Rekening</td>\n",
              "      <td>5. rahasia</td>\n",
              "      <td>3_1-4_tahun_kerja</td>\n",
              "      <td>2_menikah</td>\n",
              "      <td>3_bersama_keluarga</td>\n",
              "      <td>Daerah_1</td>\n",
              "      <td>Daerah_2</td>\n",
              "      <td>35.0</td>\n",
              "      <td>4_&gt;10_tahun</td>\n",
              "      <td>2_25_ke_50%</td>\n",
              "      <td>3.0</td>\n",
              "      <td>2.403041e+06</td>\n",
              "      <td>595</td>\n",
              "      <td>200</td>\n",
              "      <td>Android</td>\n",
              "      <td>98</td>\n",
              "      <td>3_Lebih_3_tahun</td>\n",
              "      <td>Social_Media</td>\n",
              "      <td>Telco_E</td>\n",
              "      <td>2_Kurang_1_tahun</td>\n",
              "      <td>Public_Domain</td>\n",
              "    </tr>\n",
              "    <tr>\n",
              "      <th>6</th>\n",
              "      <td>ABC0007</td>\n",
              "      <td>0_Bayar</td>\n",
              "      <td>24.0</td>\n",
              "      <td>elektronik</td>\n",
              "      <td>5</td>\n",
              "      <td>1_pegawai_tetap</td>\n",
              "      <td>1_Tidak_ada_Rekening</td>\n",
              "      <td>3. 5 - 10 juta</td>\n",
              "      <td>5_&gt;7_tahun_kerja</td>\n",
              "      <td>2_menikah</td>\n",
              "      <td>1_milik_sendiri</td>\n",
              "      <td>Daerah_2</td>\n",
              "      <td>Daerah_3</td>\n",
              "      <td>53.0</td>\n",
              "      <td>4_&gt;10_tahun</td>\n",
              "      <td>3_50_ke_75%</td>\n",
              "      <td>3.0</td>\n",
              "      <td>6.676772e+05</td>\n",
              "      <td>334</td>\n",
              "      <td>172</td>\n",
              "      <td>Android</td>\n",
              "      <td>109</td>\n",
              "      <td>3_Lebih_3_tahun</td>\n",
              "      <td>Productivity</td>\n",
              "      <td>Telco_C</td>\n",
              "      <td>5_Lebih_5_tahun</td>\n",
              "      <td>Public_Domain</td>\n",
              "    </tr>\n",
              "    <tr>\n",
              "      <th>7</th>\n",
              "      <td>ABC0008</td>\n",
              "      <td>0_Bayar</td>\n",
              "      <td>36.0</td>\n",
              "      <td>mobil_bekas</td>\n",
              "      <td>5</td>\n",
              "      <td>4_tidak_bekerja</td>\n",
              "      <td>3_Tabungan_&lt;=_2_juta</td>\n",
              "      <td>1. &lt; 1 juta</td>\n",
              "      <td>3_1-4_tahun_kerja</td>\n",
              "      <td>2_menikah</td>\n",
              "      <td>2_sewa</td>\n",
              "      <td>Daerah_1</td>\n",
              "      <td>Daerah_1</td>\n",
              "      <td>35.0</td>\n",
              "      <td>2_1-5_tahun</td>\n",
              "      <td>2_25_ke_50%</td>\n",
              "      <td>3.0</td>\n",
              "      <td>1.921838e+06</td>\n",
              "      <td>107</td>\n",
              "      <td>186</td>\n",
              "      <td>Android</td>\n",
              "      <td>104</td>\n",
              "      <td>3_Lebih_3_tahun</td>\n",
              "      <td>Productivity</td>\n",
              "      <td>Telco_E</td>\n",
              "      <td>5_Lebih_5_tahun</td>\n",
              "      <td>Public_Domain</td>\n",
              "    </tr>\n",
              "    <tr>\n",
              "      <th>8</th>\n",
              "      <td>ABC0009</td>\n",
              "      <td>0_Bayar</td>\n",
              "      <td>12.0</td>\n",
              "      <td>peralatan_rumahtangga</td>\n",
              "      <td>5</td>\n",
              "      <td>3_wiraswasta</td>\n",
              "      <td>NaN</td>\n",
              "      <td>4. &gt; 10 juta</td>\n",
              "      <td>4_4-7_tahun_kerja</td>\n",
              "      <td>3_bercerai</td>\n",
              "      <td>1_milik_sendiri</td>\n",
              "      <td>Daerah_2</td>\n",
              "      <td>Daerah_1</td>\n",
              "      <td>61.0</td>\n",
              "      <td>4_&gt;10_tahun</td>\n",
              "      <td>2_25_ke_50%</td>\n",
              "      <td>3.0</td>\n",
              "      <td>2.639372e+06</td>\n",
              "      <td>45</td>\n",
              "      <td>235</td>\n",
              "      <td>IOS</td>\n",
              "      <td>51</td>\n",
              "      <td>3_Lebih_3_tahun</td>\n",
              "      <td>Social_Media</td>\n",
              "      <td>Telco_B</td>\n",
              "      <td>3_1_ke_2_tahun</td>\n",
              "      <td>Public_Domain</td>\n",
              "    </tr>\n",
              "    <tr>\n",
              "      <th>9</th>\n",
              "      <td>ABC0010</td>\n",
              "      <td>1_Gagal</td>\n",
              "      <td>30.0</td>\n",
              "      <td>mobil_baru</td>\n",
              "      <td>5</td>\n",
              "      <td>4_tidak_bekerja</td>\n",
              "      <td>NaN</td>\n",
              "      <td>1. &lt; 1 juta</td>\n",
              "      <td>1_tidak_bekerja</td>\n",
              "      <td>3_bercerai</td>\n",
              "      <td>1_milik_sendiri</td>\n",
              "      <td>Daerah_2</td>\n",
              "      <td>Daerah_2</td>\n",
              "      <td>28.0</td>\n",
              "      <td>2_1-5_tahun</td>\n",
              "      <td>1_0_ke_25%</td>\n",
              "      <td>1.0</td>\n",
              "      <td>0.000000e+00</td>\n",
              "      <td>254</td>\n",
              "      <td>285</td>\n",
              "      <td>Android</td>\n",
              "      <td>51</td>\n",
              "      <td>3_Lebih_3_tahun</td>\n",
              "      <td>Social_Media</td>\n",
              "      <td>Telco_C</td>\n",
              "      <td>1_Kurang_1_bulan</td>\n",
              "      <td>Public_Domain</td>\n",
              "    </tr>\n",
              "  </tbody>\n",
              "</table>\n",
              "</div>"
            ],
            "text/plain": [
              "        ID gagal_bayar  ...  Mobile_Number_Active_Since    Email_Domain_Type\n",
              "0  ABC0001     0_Bayar  ...            1_Kurang_1_bulan        Public_Domain\n",
              "1  ABC0002     1_Gagal  ...            1_Kurang_1_bulan        Public_Domain\n",
              "2  ABC0003     0_Bayar  ...            2_Kurang_1_tahun        Public_Domain\n",
              "3  ABC0004     0_Bayar  ...            2_Kurang_1_tahun  Professional_Domain\n",
              "4  ABC0005     1_Gagal  ...            1_Kurang_1_bulan        Public_Domain\n",
              "5  ABC0006     0_Bayar  ...            2_Kurang_1_tahun        Public_Domain\n",
              "6  ABC0007     0_Bayar  ...             5_Lebih_5_tahun        Public_Domain\n",
              "7  ABC0008     0_Bayar  ...             5_Lebih_5_tahun        Public_Domain\n",
              "8  ABC0009     0_Bayar  ...              3_1_ke_2_tahun        Public_Domain\n",
              "9  ABC0010     1_Gagal  ...            1_Kurang_1_bulan        Public_Domain\n",
              "\n",
              "[10 rows x 27 columns]"
            ]
          },
          "metadata": {},
          "execution_count": 3
        }
      ]
    },
    {
      "cell_type": "code",
      "metadata": {
        "colab": {
          "base_uri": "https://localhost:8080/"
        },
        "id": "GrGQd7ePjIka",
        "outputId": "8673f638-88f9-4005-f050-4eee65601c8d"
      },
      "source": [
        "# Melihat penjelasan singkat dan tipe data\n",
        "df.info()"
      ],
      "execution_count": 4,
      "outputs": [
        {
          "output_type": "stream",
          "name": "stdout",
          "text": [
            "<class 'pandas.core.frame.DataFrame'>\n",
            "RangeIndex: 1000 entries, 0 to 999\n",
            "Data columns (total 27 columns):\n",
            " #   Column                          Non-Null Count  Dtype  \n",
            "---  ------                          --------------  -----  \n",
            " 0   ID                              999 non-null    object \n",
            " 1   gagal_bayar                     991 non-null    object \n",
            " 2   Lama_Cicilan                    981 non-null    float64\n",
            " 3   Tujuan_Pinjaman                 995 non-null    object \n",
            " 4   Jumlah_Pinjaman                 1000 non-null   int64  \n",
            " 5   Pekerjaan                       987 non-null    object \n",
            " 6   Status_Rekening_Bank            989 non-null    object \n",
            " 7   Pendapatan_perbulan             989 non-null    object \n",
            " 8   Lama_Bekerja                    972 non-null    object \n",
            " 9   Status                          995 non-null    object \n",
            " 10  Kepemilikan_Rumah               996 non-null    object \n",
            " 11  Alamat_Rumah                    1000 non-null   object \n",
            " 12  Alamat_Kantor                   1000 non-null   object \n",
            " 13  Usia                            998 non-null    float64\n",
            " 14  Lama_tinggal_ditempat_sekarang  997 non-null    object \n",
            " 15  debt_burden_ratio               1000 non-null   object \n",
            " 16  SLIK_Kolektibilitas             947 non-null    float64\n",
            " 17  SLIK_Outstanding                960 non-null    float64\n",
            " 18  API_CreditScore_Vendor_A        1000 non-null   int64  \n",
            " 19  API_CreditScore_Vendor_B        1000 non-null   int64  \n",
            " 20  Device_Type                     1000 non-null   object \n",
            " 21  Device_Apps_Installed           1000 non-null   int64  \n",
            " 22  Device_Active_Since             1000 non-null   object \n",
            " 23  Device_Apps_Segmentation        1000 non-null   object \n",
            " 24  Mobile_Provider                 1000 non-null   object \n",
            " 25  Mobile_Number_Active_Since      1000 non-null   object \n",
            " 26  Email_Domain_Type               1000 non-null   object \n",
            "dtypes: float64(4), int64(4), object(19)\n",
            "memory usage: 211.1+ KB\n"
          ]
        }
      ]
    },
    {
      "cell_type": "code",
      "metadata": {
        "id": "Mf2Ht_6cmehV"
      },
      "source": [
        "# 2.3.2.4 Tipe data\n",
        "\n",
        "# Merubah tipe data menjadi tipe karakter kategori\n",
        "df['ID'] = df.ID.astype('category')\n",
        "df['gagal_bayar'] = df.gagal_bayar.astype('category')\n",
        "df['Pekerjaan'] = df.Pekerjaan.astype('category')\n",
        "df['Tujuan_Pinjaman'] = df.Tujuan_Pinjaman.astype('category')\n",
        "df['Status_Rekening_Bank'] = df.Status_Rekening_Bank.astype('category')\n",
        "df['Pendapatan_perbulan'] = df.Pendapatan_perbulan.astype('category')\n",
        "df['Lama_Bekerja'] = df.Lama_Bekerja.astype('category')\n",
        "df['Status'] = df.Status.astype('category')\n",
        "df['Kepemilikan_Rumah'] = df.Kepemilikan_Rumah.astype('category')\n",
        "df['Alamat_Rumah'] = df.Alamat_Rumah.astype('category')\n",
        "df['Alamat_Kantor'] = df.Alamat_Kantor.astype('category')\n",
        "df['Lama_tinggal_ditempat_sekarang'] = df.Lama_tinggal_ditempat_sekarang.astype('category')\n",
        "df['debt_burden_ratio'] = df.debt_burden_ratio.astype('category')\n",
        "df['Device_Type'] = df.Device_Type.astype('category')\n",
        "df['Device_Active_Since'] = df.Device_Active_Since.astype('category')\n",
        "df['SLIK_Kolektibilitas'] = df.SLIK_Kolektibilitas.astype('category')\n",
        "df['Device_Apps_Segmentation'] = df.Device_Apps_Segmentation.astype('category')\n",
        "df['Mobile_Provider'] = df.Mobile_Provider.astype('category')\n",
        "df['Mobile_Number_Active_Since'] = df.Mobile_Number_Active_Since.astype('category')\n",
        "df['Email_Domain_Type'] = df.Email_Domain_Type.astype('category')\n",
        "\n",
        "# Merubah tipe data menjadi tipe karakter int64\n",
        "# Gunakan intger untuk angka bulat\n",
        "df['API_CreditScore_Vendor_A'] = df.API_CreditScore_Vendor_A.astype('int64')\n",
        "df['API_CreditScore_Vendor_B'] = df.API_CreditScore_Vendor_B.astype('int64')\n",
        "df['Device_Apps_Installed'] = df.Device_Apps_Installed.astype('int64')\n",
        "\n",
        "# Merubah tipe data menjadi tipe karakter float64\n",
        "# Gunakan intger untuk angka dengan koma\n",
        "# Jika dalam kolom tersebut terdapat null, maka harus di simpan dalam tipe float\n",
        "df['Lama_Cicilan'] = df.Lama_Cicilan.astype('float64')\n",
        "df['Usia'] = df.Usia.astype('float64')\n",
        "df['Jumlah_Pinjaman'] = df.Jumlah_Pinjaman.astype('float64')\n",
        "df['SLIK_Outstanding'] = df.SLIK_Outstanding.astype('float64')"
      ],
      "execution_count": 5,
      "outputs": []
    },
    {
      "cell_type": "code",
      "metadata": {
        "colab": {
          "base_uri": "https://localhost:8080/",
          "height": 282
        },
        "id": "WUD8I46sekc6",
        "outputId": "aacd9d13-fc61-45c1-877c-088b5c0c0017"
      },
      "source": [
        "# 2.3.2.5.3 Mengidentifikasi outlier dan validitas data\n",
        "\n",
        "df.boxplot(column=['Usia'])"
      ],
      "execution_count": 6,
      "outputs": [
        {
          "output_type": "execute_result",
          "data": {
            "text/plain": [
              "<matplotlib.axes._subplots.AxesSubplot at 0x7fc3d8598b10>"
            ]
          },
          "metadata": {},
          "execution_count": 6
        },
        {
          "output_type": "display_data",
          "data": {
            "image/png": "[encoded data removed]",
            "text/plain": [
              "<Figure size 432x288 with 1 Axes>"
            ]
          },
          "metadata": {
            "needs_background": "light"
          }
        }
      ]
    },
    {
      "cell_type": "code",
      "metadata": {
        "colab": {
          "base_uri": "https://localhost:8080/"
        },
        "id": "w5L8DvciYr0X",
        "outputId": "5f53fac7-b798-442c-b061-d500ca0163ec"
      },
      "source": [
        "# 2.3.2.5.4.1 Imputasi baris data yang kosong dengan asumsi nilai\n",
        "\n",
        "# Koding berikut menggantikan missing value dari semua variabel dengan\n",
        "# nilai yang paling sering muncul (modus) untuk variabel kategori dan nilai rata-rata untuk variabel numerik\n",
        "\n",
        "# Memisahkan variabel kategori dengan variabel numerik\n",
        "df_numerik = df.select_dtypes(include=['float64','int64','int'])\n",
        "df_kategori = df.select_dtypes(exclude = ['float64','int64','int'])\n",
        "\n",
        "for kolom in df_numerik.columns:\n",
        "  df_numerik[kolom].fillna(df_numerik[kolom].mean(), inplace=True)\n",
        "\n",
        "for kolom in df_kategori.columns:\n",
        "  df_kategori[kolom].fillna(df_kategori[kolom].mode()[0], inplace=True)\n",
        "\n",
        "# Menggabungkan dataset variabel kategori dan dengan variabel numerik\n",
        "df_pembersihan_1 = pd.concat([df_numerik, df_kategori], axis = 1)"
      ],
      "execution_count": 7,
      "outputs": [
        {
          "output_type": "stream",
          "name": "stderr",
          "text": [
            "/usr/local/lib/python3.7/dist-packages/pandas/core/series.py:4536: SettingWithCopyWarning: \n",
            "A value is trying to be set on a copy of a slice from a DataFrame\n",
            "\n",
            "See the caveats in the documentation: https://pandas.pydata.org/pandas-docs/stable/user_guide/indexing.html#returning-a-view-versus-a-copy\n",
            "  downcast=downcast,\n"
          ]
        }
      ]
    },
    {
      "cell_type": "code",
      "metadata": {
        "id": "kX5J6yALYy48"
      },
      "source": [
        "# 2.3.2.5.4.2 Tidak menggunakan baris data yang kosong (Drop Data)\n",
        "\n",
        "# Menggunakan fungsi dropna() untuk menghapus semua baris yang memiliki data kosong\n",
        "df_pembersihan_2 = df.dropna()"
      ],
      "execution_count": 8,
      "outputs": []
    },
    {
      "cell_type": "code",
      "metadata": {
        "id": "GCNAZFB_Y6-G"
      },
      "source": [
        "# 2.3.2.5.4.3 Tidak menggunakan kolom data yang kosong (Drop Variable)\n",
        "\n",
        "# Menggunakan fungsi dropna() untuk menghapus kolom yang memiliki data kosong\n",
        "df_pembersihan_3 = df.dropna(axis='columns')"
      ],
      "execution_count": 9,
      "outputs": []
    },
    {
      "cell_type": "code",
      "metadata": {
        "colab": {
          "base_uri": "https://localhost:8080/"
        },
        "id": "y6J9LrueZIQS",
        "outputId": "4a75e04c-029d-4d06-d63f-5bd85dc3d6d2"
      },
      "source": [
        "# 2.3.2.5.4.4 Kategorikan data yang kosong (Flag)\n",
        "\n",
        "# Koding berikut memberikan tanda flagging untuk baris data yang berisikan baris data kosong\n",
        "\n",
        "# Memisahkan variabel kategori dengan variabel numerik\n",
        "df_numerik = df.select_dtypes(include=['float64','int64','int'])\n",
        "df_kategori = df.select_dtypes(exclude = ['float64','int64','int'])\n",
        "\n",
        "for kolom in df_numerik.columns:\n",
        "  # Membuat kolom baru untuk baris data yang kosong\n",
        "  df_numerik[kolom+\"_missing\"] = df_numerik[kolom].isnull()\n",
        "  df_numerik[kolom].fillna(0, inplace=True)\n",
        "\n",
        "for kolom in df_kategori.columns:\n",
        "  # Kolom kategori harus secara eksplisit menambahkan data kategori baru\n",
        "  df_kategori[kolom] = df_kategori[kolom].cat.add_categories(\"00_Data_Kosong\")\n",
        "  df_kategori[kolom].fillna(\"00_Data_Kosong\", inplace=True)\n",
        "\n",
        "# Menggabungkan dataset variabel kategori dan dengan variabel numerik\n",
        "df_pembersihan_4 = pd.concat([df_numerik, df_kategori], axis = 1)"
      ],
      "execution_count": 10,
      "outputs": [
        {
          "output_type": "stream",
          "name": "stderr",
          "text": [
            "/usr/local/lib/python3.7/dist-packages/ipykernel_launcher.py:11: SettingWithCopyWarning: \n",
            "A value is trying to be set on a copy of a slice from a DataFrame.\n",
            "Try using .loc[row_indexer,col_indexer] = value instead\n",
            "\n",
            "See the caveats in the documentation: https://pandas.pydata.org/pandas-docs/stable/user_guide/indexing.html#returning-a-view-versus-a-copy\n",
            "  # This is added back by InteractiveShellApp.init_path()\n",
            "/usr/local/lib/python3.7/dist-packages/pandas/core/series.py:4536: SettingWithCopyWarning: \n",
            "A value is trying to be set on a copy of a slice from a DataFrame\n",
            "\n",
            "See the caveats in the documentation: https://pandas.pydata.org/pandas-docs/stable/user_guide/indexing.html#returning-a-view-versus-a-copy\n",
            "  downcast=downcast,\n",
            "/usr/local/lib/python3.7/dist-packages/ipykernel_launcher.py:16: SettingWithCopyWarning: \n",
            "A value is trying to be set on a copy of a slice from a DataFrame.\n",
            "Try using .loc[row_indexer,col_indexer] = value instead\n",
            "\n",
            "See the caveats in the documentation: https://pandas.pydata.org/pandas-docs/stable/user_guide/indexing.html#returning-a-view-versus-a-copy\n",
            "  app.launch_new_instance()\n"
          ]
        }
      ]
    },
    {
      "cell_type": "code",
      "metadata": {
        "id": "Fsj2A6lYZDgj"
      },
      "source": [
        "# Melanjutkan proses dengan asumsi bahwa baris data yang kosong tidak signifikan dan tidak akan terjadi baris data kosong lagi.\n",
        "df_clean = df_pembersihan_2"
      ],
      "execution_count": 11,
      "outputs": []
    },
    {
      "cell_type": "code",
      "metadata": {
        "colab": {
          "base_uri": "https://localhost:8080/"
        },
        "id": "qW5t7UwfES8v",
        "outputId": "e86d8899-f9a9-4920-b957-2b164f0a48ca"
      },
      "source": [
        "# 2.3.2.5.5.1 EDA Analisa dasar variabel untuk gagal_bayar\n",
        "\n",
        "# Untuk melihat frekuensi dari variabel gagal_bayar\n",
        "print(df_clean['gagal_bayar'].value_counts())\n",
        "\n",
        "# Untuk melihat proporsi (dalam persentase) dari variabel gagal_bayar\n",
        "print(df_clean['gagal_bayar'].value_counts(normalize=True) * 100)"
      ],
      "execution_count": 12,
      "outputs": [
        {
          "output_type": "stream",
          "name": "stdout",
          "text": [
            "0_Bayar    626\n",
            "1_Gagal    248\n",
            "Name: gagal_bayar, dtype: int64\n",
            "0_Bayar    71.624714\n",
            "1_Gagal    28.375286\n",
            "Name: gagal_bayar, dtype: float64\n"
          ]
        }
      ]
    },
    {
      "cell_type": "code",
      "metadata": {
        "id": "zjuNAMQGE5L6",
        "colab": {
          "base_uri": "https://localhost:8080/"
        },
        "outputId": "7504b545-10b9-47b6-f737-d389f141e0f0"
      },
      "source": [
        "# 2.3.2.5.5.2 Exploratory Data Analysis untuk SLIK_Kolektabilitas\n",
        "\n",
        "# Untuk melihat frekuensi dari variabel SLIK_Kolektabilitas\n",
        "print(df_clean['SLIK_Kolektibilitas'].value_counts())\n",
        "\n",
        "# Untuk melihat proporsi (dalam persentase) dari variabel SLIK_Kolektabilitas\n",
        "print(df_clean['SLIK_Kolektibilitas'].value_counts(normalize=True) * 100)"
      ],
      "execution_count": 13,
      "outputs": [
        {
          "output_type": "stream",
          "name": "stdout",
          "text": [
            "3.0    468\n",
            "1.0    265\n",
            "2.0     80\n",
            "5.0     47\n",
            "4.0     14\n",
            "Name: SLIK_Kolektibilitas, dtype: int64\n",
            "3.0    53.546911\n",
            "1.0    30.320366\n",
            "2.0     9.153318\n",
            "5.0     5.377574\n",
            "4.0     1.601831\n",
            "Name: SLIK_Kolektibilitas, dtype: float64\n"
          ]
        }
      ]
    },
    {
      "cell_type": "code",
      "metadata": {
        "id": "zESKaaoCOZO3",
        "colab": {
          "base_uri": "https://localhost:8080/"
        },
        "outputId": "65720031-bf47-4ae3-dbd4-e298073691c2"
      },
      "source": [
        "# Berapa banyak yang gagal bayar dari masing-masing nilai SLIK Kolektabilitas\n",
        "print(pd.crosstab(df_clean['SLIK_Kolektibilitas'], df_clean['gagal_bayar']))\n",
        "\n",
        "# dalam proporsi persentase\n",
        "print(pd.crosstab(df_clean['SLIK_Kolektibilitas'],df_clean['gagal_bayar'],normalize='index',)*100)"
      ],
      "execution_count": 14,
      "outputs": [
        {
          "output_type": "stream",
          "name": "stdout",
          "text": [
            "gagal_bayar          0_Bayar  1_Gagal\n",
            "SLIK_Kolektibilitas                  \n",
            "1.0                      225       40\n",
            "2.0                       55       25\n",
            "3.0                      320      148\n",
            "4.0                        6        8\n",
            "5.0                       20       27\n",
            "gagal_bayar            0_Bayar    1_Gagal\n",
            "SLIK_Kolektibilitas                      \n",
            "1.0                  84.905660  15.094340\n",
            "2.0                  68.750000  31.250000\n",
            "3.0                  68.376068  31.623932\n",
            "4.0                  42.857143  57.142857\n",
            "5.0                  42.553191  57.446809\n"
          ]
        }
      ]
    },
    {
      "cell_type": "code",
      "metadata": {
        "colab": {
          "base_uri": "https://localhost:8080/",
          "height": 288
        },
        "id": "T7qwqbQUYFWm",
        "outputId": "824ae7f6-672d-4b8b-d657-8442d2e2ec91"
      },
      "source": [
        "# 2.3.2.5.5.2 SLIK_Kolektibilitas Data Visualisasi\n",
        "\n",
        "# Fungsi value_counts().plot(kind='bar')\n",
        "df_clean['SLIK_Kolektibilitas'].value_counts().plot(kind='bar')"
      ],
      "execution_count": 15,
      "outputs": [
        {
          "output_type": "execute_result",
          "data": {
            "text/plain": [
              "<matplotlib.axes._subplots.AxesSubplot at 0x7fc3d7c99910>"
            ]
          },
          "metadata": {},
          "execution_count": 15
        },
        {
          "output_type": "display_data",
          "data": {
            "image/png": "[encoded data removed]",
            "text/plain": [
              "<Figure size 432x288 with 1 Axes>"
            ]
          },
          "metadata": {
            "needs_background": "light"
          }
        }
      ]
    },
    {
      "cell_type": "code",
      "metadata": {
        "colab": {
          "base_uri": "https://localhost:8080/",
          "height": 282
        },
        "id": "QEmk-BKSYpKH",
        "outputId": "e046f9a7-63b6-4341-e6f1-796219882aa5"
      },
      "source": [
        "# Menampilkan plot bar secara horizontal\n",
        "df_clean['SLIK_Kolektibilitas'].value_counts().plot(kind='barh')"
      ],
      "execution_count": 16,
      "outputs": [
        {
          "output_type": "execute_result",
          "data": {
            "text/plain": [
              "<matplotlib.axes._subplots.AxesSubplot at 0x7fc3d7ba32d0>"
            ]
          },
          "metadata": {},
          "execution_count": 16
        },
        {
          "output_type": "display_data",
          "data": {
            "image/png": "[encoded data removed]",
            "text/plain": [
              "<Figure size 432x288 with 1 Axes>"
            ]
          },
          "metadata": {
            "needs_background": "light"
          }
        }
      ]
    },
    {
      "cell_type": "code",
      "metadata": {
        "colab": {
          "base_uri": "https://localhost:8080/",
          "height": 282
        },
        "id": "uILFhuMGZZRg",
        "outputId": "47f711c2-751f-455c-8475-077bf3d19436"
      },
      "source": [
        "# Nilai variabel SLIK_Kolektibilitas dan proporsi default secara plot bar\n",
        "pd.crosstab(df_clean['SLIK_Kolektibilitas'], df_clean['gagal_bayar']).plot(kind='barh', stacked=True)"
      ],
      "execution_count": 17,
      "outputs": [
        {
          "output_type": "execute_result",
          "data": {
            "text/plain": [
              "<matplotlib.axes._subplots.AxesSubplot at 0x7fc3d7b94f90>"
            ]
          },
          "metadata": {},
          "execution_count": 17
        },
        {
          "output_type": "display_data",
          "data": {
            "image/png": "[encoded data removed]",
            "text/plain": [
              "<Figure size 432x288 with 1 Axes>"
            ]
          },
          "metadata": {
            "needs_background": "light"
          }
        }
      ]
    },
    {
      "cell_type": "code",
      "metadata": {
        "colab": {
          "base_uri": "https://localhost:8080/",
          "height": 282
        },
        "id": "s_i1FvMkZseF",
        "outputId": "3e47bd67-77da-44e7-9a15-86469118b048"
      },
      "source": [
        "# Nilai variabel SLIK_Kolektibilitas dan proporsi default secara plot bar, secara proporsi\n",
        "pd.crosstab(df_clean['SLIK_Kolektibilitas'], df_clean['gagal_bayar'], normalize='index').plot(kind='barh', stacked=True)"
      ],
      "execution_count": 18,
      "outputs": [
        {
          "output_type": "execute_result",
          "data": {
            "text/plain": [
              "<matplotlib.axes._subplots.AxesSubplot at 0x7fc3d7aa6590>"
            ]
          },
          "metadata": {},
          "execution_count": 18
        },
        {
          "output_type": "display_data",
          "data": {
            "image/png": "[encoded data removed]",
            "text/plain": [
              "<Figure size 432x288 with 1 Axes>"
            ]
          },
          "metadata": {
            "needs_background": "light"
          }
        }
      ]
    },
    {
      "cell_type": "code",
      "metadata": {
        "colab": {
          "base_uri": "https://localhost:8080/",
          "height": 295
        },
        "id": "90J2yiiUYmY-",
        "outputId": "d2c77e07-39a1-4ca0-bba9-609912a1acc1"
      },
      "source": [
        "# 2.3.2.5.5.3 Exploratory Data Analysis untuk Usia\n",
        "\n",
        "# Rangkuman statistik untuk variabel numerik Usia\n",
        "print(df_clean['Usia'].describe())\n",
        "\n",
        "# Rangkuman statistik untuk variabel numerik Usia, berdasarkan default (gagal bayar atau tidak)\n",
        "df_clean.groupby('gagal_bayar')['Usia'].describe()"
      ],
      "execution_count": 19,
      "outputs": [
        {
          "output_type": "stream",
          "name": "stdout",
          "text": [
            "count    874.000000\n",
            "mean      35.770023\n",
            "std       11.457115\n",
            "min       19.000000\n",
            "25%       27.000000\n",
            "50%       33.500000\n",
            "75%       42.000000\n",
            "max       75.000000\n",
            "Name: Usia, dtype: float64\n"
          ]
        },
        {
          "output_type": "execute_result",
          "data": {
            "text/html": [
              "<div>\n",
              "<style scoped>\n",
              "    .dataframe tbody tr th:only-of-type {\n",
              "        vertical-align: middle;\n",
              "    }\n",
              "\n",
              "    .dataframe tbody tr th {\n",
              "        vertical-align: top;\n",
              "    }\n",
              "\n",
              "    .dataframe thead th {\n",
              "        text-align: right;\n",
              "    }\n",
              "</style>\n",
              "<table border=\"1\" class=\"dataframe\">\n",
              "  <thead>\n",
              "    <tr style=\"text-align: right;\">\n",
              "      <th></th>\n",
              "      <th>count</th>\n",
              "      <th>mean</th>\n",
              "      <th>std</th>\n",
              "      <th>min</th>\n",
              "      <th>25%</th>\n",
              "      <th>50%</th>\n",
              "      <th>75%</th>\n",
              "      <th>max</th>\n",
              "    </tr>\n",
              "    <tr>\n",
              "      <th>gagal_bayar</th>\n",
              "      <th></th>\n",
              "      <th></th>\n",
              "      <th></th>\n",
              "      <th></th>\n",
              "      <th></th>\n",
              "      <th></th>\n",
              "      <th></th>\n",
              "      <th></th>\n",
              "    </tr>\n",
              "  </thead>\n",
              "  <tbody>\n",
              "    <tr>\n",
              "      <th>0_Bayar</th>\n",
              "      <td>626.0</td>\n",
              "      <td>36.400958</td>\n",
              "      <td>11.398271</td>\n",
              "      <td>19.0</td>\n",
              "      <td>27.0</td>\n",
              "      <td>35.0</td>\n",
              "      <td>43.00</td>\n",
              "      <td>75.0</td>\n",
              "    </tr>\n",
              "    <tr>\n",
              "      <th>1_Gagal</th>\n",
              "      <td>248.0</td>\n",
              "      <td>34.177419</td>\n",
              "      <td>11.473644</td>\n",
              "      <td>19.0</td>\n",
              "      <td>25.0</td>\n",
              "      <td>31.0</td>\n",
              "      <td>40.25</td>\n",
              "      <td>74.0</td>\n",
              "    </tr>\n",
              "  </tbody>\n",
              "</table>\n",
              "</div>"
            ],
            "text/plain": [
              "             count       mean        std   min   25%   50%    75%   max\n",
              "gagal_bayar                                                            \n",
              "0_Bayar      626.0  36.400958  11.398271  19.0  27.0  35.0  43.00  75.0\n",
              "1_Gagal      248.0  34.177419  11.473644  19.0  25.0  31.0  40.25  74.0"
            ]
          },
          "metadata": {},
          "execution_count": 19
        }
      ]
    },
    {
      "cell_type": "code",
      "metadata": {
        "colab": {
          "base_uri": "https://localhost:8080/",
          "height": 964
        },
        "id": "V0mG8ys3aeq0",
        "outputId": "9aab7090-9295-4baf-d5a2-116a5433f984"
      },
      "source": [
        "# Fungsi distplot() dari library seaborn\n",
        "# Perhatikan bahwa distribusi plot harus tidak memiliki data kosong / missing value.\n",
        "# Oleh karena itu harus menambahkan fungsi dropna() untuk secara sementara tidak\n",
        "# mengikutsertakan missing value dalam pembuatan plot distribusi\n",
        "\n",
        "import matplotlib.pyplot as plt\n",
        "import seaborn as sns\n",
        "\n",
        "fig, ax = plt.subplots(figsize=(15,15))\n",
        "sns.distplot(df_clean['Usia'].dropna(), ax=ax).set_title('Distribution Plot')"
      ],
      "execution_count": 20,
      "outputs": [
        {
          "output_type": "stream",
          "name": "stderr",
          "text": [
            "/usr/local/lib/python3.7/dist-packages/seaborn/distributions.py:2557: FutureWarning: `distplot` is a deprecated function and will be removed in a future version. Please adapt your code to use either `displot` (a figure-level function with similar flexibility) or `histplot` (an axes-level function for histograms).\n",
            "  warnings.warn(msg, FutureWarning)\n"
          ]
        },
        {
          "output_type": "execute_result",
          "data": {
            "text/plain": [
              "Text(0.5, 1.0, 'Distribution Plot')"
            ]
          },
          "metadata": {},
          "execution_count": 20
        },
        {
          "output_type": "display_data",
          "data": {
            "image/png": "[encoded data removed]",
            "text/plain": [
              "<Figure size 1080x1080 with 1 Axes>"
            ]
          },
          "metadata": {
            "needs_background": "light"
          }
        }
      ]
    },
    {
      "cell_type": "code",
      "metadata": {
        "id": "K1JubColf4xI",
        "colab": {
          "base_uri": "https://localhost:8080/",
          "height": 374
        },
        "outputId": "10f3e459-4c7e-49c2-b852-3258da8eff2a"
      },
      "source": [
        "# Menambahkan by di fungsi boxplot untuk membagi boxplot berdasarkan gagal_bayar\n",
        "df_clean.boxplot(by='gagal_bayar',column=['Usia'])"
      ],
      "execution_count": 21,
      "outputs": [
        {
          "output_type": "stream",
          "name": "stderr",
          "text": [
            "/usr/local/lib/python3.7/dist-packages/numpy/core/_asarray.py:83: VisibleDeprecationWarning: Creating an ndarray from ragged nested sequences (which is a list-or-tuple of lists-or-tuples-or ndarrays with different lengths or shapes) is deprecated. If you meant to do this, you must specify 'dtype=object' when creating the ndarray\n",
            "  return array(a, dtype, copy=False, order=order)\n"
          ]
        },
        {
          "output_type": "execute_result",
          "data": {
            "text/plain": [
              "<matplotlib.axes._subplots.AxesSubplot at 0x7fc3c914c4d0>"
            ]
          },
          "metadata": {},
          "execution_count": 21
        },
        {
          "output_type": "display_data",
          "data": {
            "image/png": "[encoded data removed]",
            "text/plain": [
              "<Figure size 432x288 with 1 Axes>"
            ]
          },
          "metadata": {
            "needs_background": "light"
          }
        }
      ]
    },
    {
      "cell_type": "code",
      "metadata": {
        "id": "5lZPEAen-nxN",
        "colab": {
          "base_uri": "https://localhost:8080/"
        },
        "outputId": "5ad46866-b17d-481a-a0ff-5b77ba3e1dec"
      },
      "source": [
        "import numpy as np\n",
        "\n",
        "# Untuk dapat melakukan analisa statistik, harus mengubah variabel gagal_bayar dari string menjadi angka (integer)\n",
        "# Mengubah target variabel gagal_bayar menjadi angka 0 dan 1\n",
        "conditions = [\n",
        "             df_clean['gagal_bayar'] == '1_Gagal', \n",
        "             df_clean['gagal_bayar'] == '0_Bayar'\n",
        "             ]\n",
        "\n",
        "choices     = [\n",
        "             1,\n",
        "             0\n",
        "             ]\n",
        "df_clean['default'] = np.select(conditions,choices, default = 0)"
      ],
      "execution_count": 22,
      "outputs": [
        {
          "output_type": "stream",
          "name": "stderr",
          "text": [
            "/usr/local/lib/python3.7/dist-packages/ipykernel_launcher.py:14: SettingWithCopyWarning: \n",
            "A value is trying to be set on a copy of a slice from a DataFrame.\n",
            "Try using .loc[row_indexer,col_indexer] = value instead\n",
            "\n",
            "See the caveats in the documentation: https://pandas.pydata.org/pandas-docs/stable/user_guide/indexing.html#returning-a-view-versus-a-copy\n",
            "  \n"
          ]
        }
      ]
    },
    {
      "cell_type": "code",
      "metadata": {
        "id": "HNjGTaQp_BaM",
        "colab": {
          "base_uri": "https://localhost:8080/"
        },
        "outputId": "b74947b8-de6c-472e-8a1a-49621fb8ae1c"
      },
      "source": [
        "# Menghitung korelasi antara variabel API_CreditScore_Vendor_Adengan default\n",
        "print(df_clean['default'].corr(df_clean['Usia']))"
      ],
      "execution_count": 23,
      "outputs": [
        {
          "output_type": "stream",
          "name": "stdout",
          "text": [
            "-0.08754264342140397\n"
          ]
        }
      ]
    },
    {
      "cell_type": "code",
      "metadata": {
        "colab": {
          "base_uri": "https://localhost:8080/"
        },
        "id": "84joxnCJCThc",
        "outputId": "7fddbb6b-1202-4e6c-b31e-c6063adef786"
      },
      "source": [
        "from scipy import stats\n",
        "\n",
        "# Uji coba hipotesis apakah ada perbedaan nilai rata-rata variabel \n",
        "# API_CreditScore_Vendor_A dengan default (gagal bayar dan tidak gagal bayar)\n",
        "stats.ttest_ind( df_clean[df_clean.default == 0].Usia,\n",
        "             \tdf_clean[df_clean.default == 1].Usia, nan_policy='omit')"
      ],
      "execution_count": 24,
      "outputs": [
        {
          "output_type": "execute_result",
          "data": {
            "text/plain": [
              "Ttest_indResult(statistic=2.59506632950903, pvalue=0.009616154033831778)"
            ]
          },
          "metadata": {},
          "execution_count": 24
        }
      ]
    },
    {
      "cell_type": "code",
      "metadata": {
        "colab": {
          "base_uri": "https://localhost:8080/",
          "height": 297
        },
        "id": "zeTbQamD1XoF",
        "outputId": "350e2bac-bc72-4388-81e8-c785ebffb788"
      },
      "source": [
        "# 2.3.2.5.6 Memahami korelasi antar variabel dan dengan target\n",
        "\n",
        "# Korelasi Antar semua Variabel numerik\n",
        "import seaborn as sns\n",
        "corr = df_clean.corr()\n",
        "corr"
      ],
      "execution_count": 25,
      "outputs": [
        {
          "output_type": "execute_result",
          "data": {
            "text/html": [
              "<div>\n",
              "<style scoped>\n",
              "    .dataframe tbody tr th:only-of-type {\n",
              "        vertical-align: middle;\n",
              "    }\n",
              "\n",
              "    .dataframe tbody tr th {\n",
              "        vertical-align: top;\n",
              "    }\n",
              "\n",
              "    .dataframe thead th {\n",
              "        text-align: right;\n",
              "    }\n",
              "</style>\n",
              "<table border=\"1\" class=\"dataframe\">\n",
              "  <thead>\n",
              "    <tr style=\"text-align: right;\">\n",
              "      <th></th>\n",
              "      <th>Lama_Cicilan</th>\n",
              "      <th>Jumlah_Pinjaman</th>\n",
              "      <th>Usia</th>\n",
              "      <th>SLIK_Outstanding</th>\n",
              "      <th>API_CreditScore_Vendor_A</th>\n",
              "      <th>API_CreditScore_Vendor_B</th>\n",
              "      <th>Device_Apps_Installed</th>\n",
              "      <th>default</th>\n",
              "    </tr>\n",
              "  </thead>\n",
              "  <tbody>\n",
              "    <tr>\n",
              "      <th>Lama_Cicilan</th>\n",
              "      <td>1.000000</td>\n",
              "      <td>0.606132</td>\n",
              "      <td>-0.043291</td>\n",
              "      <td>0.085806</td>\n",
              "      <td>-0.047597</td>\n",
              "      <td>-0.043466</td>\n",
              "      <td>-0.018489</td>\n",
              "      <td>0.201927</td>\n",
              "    </tr>\n",
              "    <tr>\n",
              "      <th>Jumlah_Pinjaman</th>\n",
              "      <td>0.606132</td>\n",
              "      <td>1.000000</td>\n",
              "      <td>0.036817</td>\n",
              "      <td>0.004555</td>\n",
              "      <td>0.021837</td>\n",
              "      <td>-0.010770</td>\n",
              "      <td>-0.010018</td>\n",
              "      <td>0.144900</td>\n",
              "    </tr>\n",
              "    <tr>\n",
              "      <th>Usia</th>\n",
              "      <td>-0.043291</td>\n",
              "      <td>0.036817</td>\n",
              "      <td>1.000000</td>\n",
              "      <td>-0.185181</td>\n",
              "      <td>0.019138</td>\n",
              "      <td>0.016607</td>\n",
              "      <td>0.042908</td>\n",
              "      <td>-0.087543</td>\n",
              "    </tr>\n",
              "    <tr>\n",
              "      <th>SLIK_Outstanding</th>\n",
              "      <td>0.085806</td>\n",
              "      <td>0.004555</td>\n",
              "      <td>-0.185181</td>\n",
              "      <td>1.000000</td>\n",
              "      <td>-0.138387</td>\n",
              "      <td>-0.094038</td>\n",
              "      <td>-0.087114</td>\n",
              "      <td>0.502777</td>\n",
              "    </tr>\n",
              "    <tr>\n",
              "      <th>API_CreditScore_Vendor_A</th>\n",
              "      <td>-0.047597</td>\n",
              "      <td>0.021837</td>\n",
              "      <td>0.019138</td>\n",
              "      <td>-0.138387</td>\n",
              "      <td>1.000000</td>\n",
              "      <td>-0.006830</td>\n",
              "      <td>0.017581</td>\n",
              "      <td>-0.035224</td>\n",
              "    </tr>\n",
              "    <tr>\n",
              "      <th>API_CreditScore_Vendor_B</th>\n",
              "      <td>-0.043466</td>\n",
              "      <td>-0.010770</td>\n",
              "      <td>0.016607</td>\n",
              "      <td>-0.094038</td>\n",
              "      <td>-0.006830</td>\n",
              "      <td>1.000000</td>\n",
              "      <td>-0.004025</td>\n",
              "      <td>-0.156592</td>\n",
              "    </tr>\n",
              "    <tr>\n",
              "      <th>Device_Apps_Installed</th>\n",
              "      <td>-0.018489</td>\n",
              "      <td>-0.010018</td>\n",
              "      <td>0.042908</td>\n",
              "      <td>-0.087114</td>\n",
              "      <td>0.017581</td>\n",
              "      <td>-0.004025</td>\n",
              "      <td>1.000000</td>\n",
              "      <td>-0.149216</td>\n",
              "    </tr>\n",
              "    <tr>\n",
              "      <th>default</th>\n",
              "      <td>0.201927</td>\n",
              "      <td>0.144900</td>\n",
              "      <td>-0.087543</td>\n",
              "      <td>0.502777</td>\n",
              "      <td>-0.035224</td>\n",
              "      <td>-0.156592</td>\n",
              "      <td>-0.149216</td>\n",
              "      <td>1.000000</td>\n",
              "    </tr>\n",
              "  </tbody>\n",
              "</table>\n",
              "</div>"
            ],
            "text/plain": [
              "                          Lama_Cicilan  ...   default\n",
              "Lama_Cicilan                  1.000000  ...  0.201927\n",
              "Jumlah_Pinjaman               0.606132  ...  0.144900\n",
              "Usia                         -0.043291  ... -0.087543\n",
              "SLIK_Outstanding              0.085806  ...  0.502777\n",
              "API_CreditScore_Vendor_A     -0.047597  ... -0.035224\n",
              "API_CreditScore_Vendor_B     -0.043466  ... -0.156592\n",
              "Device_Apps_Installed        -0.018489  ... -0.149216\n",
              "default                       0.201927  ...  1.000000\n",
              "\n",
              "[8 rows x 8 columns]"
            ]
          },
          "metadata": {},
          "execution_count": 25
        }
      ]
    },
    {
      "cell_type": "code",
      "metadata": {
        "colab": {
          "base_uri": "https://localhost:8080/",
          "height": 407
        },
        "id": "L1bmRBmC8B9g",
        "outputId": "36a42153-05ac-48fc-eb04-39962dadaecc"
      },
      "source": [
        "# Korelasi secara visualisasi\n",
        "sns.heatmap(corr, xticklabels=corr.columns.values, yticklabels=corr.columns.values)"
      ],
      "execution_count": 26,
      "outputs": [
        {
          "output_type": "execute_result",
          "data": {
            "text/plain": [
              "<matplotlib.axes._subplots.AxesSubplot at 0x7fc3c6f50090>"
            ]
          },
          "metadata": {},
          "execution_count": 26
        },
        {
          "output_type": "display_data",
          "data": {
            "image/png": "[encoded data removed]",
            "text/plain": [
              "<Figure size 432x288 with 2 Axes>"
            ]
          },
          "metadata": {
            "needs_background": "light"
          }
        }
      ]
    },
    {
      "cell_type": "code",
      "metadata": {
        "id": "Fj3kIhUPCPYd",
        "outputId": "5f03ba80-5977-4de6-fefa-c100d6a04aec",
        "colab": {
          "base_uri": "https://localhost:8080/"
        }
      },
      "source": [
        "df_clean.info()"
      ],
      "execution_count": 27,
      "outputs": [
        {
          "output_type": "stream",
          "name": "stdout",
          "text": [
            "<class 'pandas.core.frame.DataFrame'>\n",
            "Int64Index: 874 entries, 0 to 999\n",
            "Data columns (total 28 columns):\n",
            " #   Column                          Non-Null Count  Dtype   \n",
            "---  ------                          --------------  -----   \n",
            " 0   ID                              874 non-null    category\n",
            " 1   gagal_bayar                     874 non-null    category\n",
            " 2   Lama_Cicilan                    874 non-null    float64 \n",
            " 3   Tujuan_Pinjaman                 874 non-null    category\n",
            " 4   Jumlah_Pinjaman                 874 non-null    float64 \n",
            " 5   Pekerjaan                       874 non-null    category\n",
            " 6   Status_Rekening_Bank            874 non-null    category\n",
            " 7   Pendapatan_perbulan             874 non-null    category\n",
            " 8   Lama_Bekerja                    874 non-null    category\n",
            " 9   Status                          874 non-null    category\n",
            " 10  Kepemilikan_Rumah               874 non-null    category\n",
            " 11  Alamat_Rumah                    874 non-null    category\n",
            " 12  Alamat_Kantor                   874 non-null    category\n",
            " 13  Usia                            874 non-null    float64 \n",
            " 14  Lama_tinggal_ditempat_sekarang  874 non-null    category\n",
            " 15  debt_burden_ratio               874 non-null    category\n",
            " 16  SLIK_Kolektibilitas             874 non-null    category\n",
            " 17  SLIK_Outstanding                874 non-null    float64 \n",
            " 18  API_CreditScore_Vendor_A        874 non-null    int64   \n",
            " 19  API_CreditScore_Vendor_B        874 non-null    int64   \n",
            " 20  Device_Type                     874 non-null    category\n",
            " 21  Device_Apps_Installed           874 non-null    int64   \n",
            " 22  Device_Active_Since             874 non-null    category\n",
            " 23  Device_Apps_Segmentation        874 non-null    category\n",
            " 24  Mobile_Provider                 874 non-null    category\n",
            " 25  Mobile_Number_Active_Since      874 non-null    category\n",
            " 26  Email_Domain_Type               874 non-null    category\n",
            " 27  default                         874 non-null    int64   \n",
            "dtypes: category(20), float64(4), int64(4)\n",
            "memory usage: 130.5 KB\n"
          ]
        }
      ]
    },
    {
      "cell_type": "code",
      "metadata": {
        "id": "DINJuDJSjV3r",
        "outputId": "a8074ffc-2c5d-4b83-ecac-117231e841ff",
        "colab": {
          "base_uri": "https://localhost:8080/"
        }
      },
      "source": [
        "# 2.3.2.5.6.2 Memahami korelasi antar variabel independent \n",
        "\n",
        "# Memisahkan variabel kategori dengan variabel numerik\n",
        "df_numerik = df_clean.select_dtypes(include=['float64','int64','int'])\n",
        "df_kategori = df_clean.select_dtypes(exclude = ['float64','int64','int'])\n",
        "\n",
        "# Menghapus kolom yang tidak berkaitan dengan korelasi antar variabel independent\n",
        "df_kategori.drop(columns=['ID', 'gagal_bayar'], inplace=True)\n",
        "\n"
      ],
      "execution_count": 34,
      "outputs": [
        {
          "output_type": "stream",
          "name": "stdout",
          "text": [
            "<class 'pandas.core.frame.DataFrame'>\n",
            "Int64Index: 874 entries, 0 to 999\n",
            "Data columns (total 18 columns):\n",
            " #   Column                          Non-Null Count  Dtype   \n",
            "---  ------                          --------------  -----   \n",
            " 0   Tujuan_Pinjaman                 874 non-null    category\n",
            " 1   Pekerjaan                       874 non-null    category\n",
            " 2   Status_Rekening_Bank            874 non-null    category\n",
            " 3   Pendapatan_perbulan             874 non-null    category\n",
            " 4   Lama_Bekerja                    874 non-null    category\n",
            " 5   Status                          874 non-null    category\n",
            " 6   Kepemilikan_Rumah               874 non-null    category\n",
            " 7   Alamat_Rumah                    874 non-null    category\n",
            " 8   Alamat_Kantor                   874 non-null    category\n",
            " 9   Lama_tinggal_ditempat_sekarang  874 non-null    category\n",
            " 10  debt_burden_ratio               874 non-null    category\n",
            " 11  SLIK_Kolektibilitas             874 non-null    category\n",
            " 12  Device_Type                     874 non-null    category\n",
            " 13  Device_Active_Since             874 non-null    category\n",
            " 14  Device_Apps_Segmentation        874 non-null    category\n",
            " 15  Mobile_Provider                 874 non-null    category\n",
            " 16  Mobile_Number_Active_Since      874 non-null    category\n",
            " 17  Email_Domain_Type               874 non-null    category\n",
            "dtypes: category(18)\n",
            "memory usage: 65.4 KB\n"
          ]
        },
        {
          "output_type": "stream",
          "name": "stderr",
          "text": [
            "/usr/local/lib/python3.7/dist-packages/pandas/core/frame.py:4174: SettingWithCopyWarning: \n",
            "A value is trying to be set on a copy of a slice from a DataFrame\n",
            "\n",
            "See the caveats in the documentation: https://pandas.pydata.org/pandas-docs/stable/user_guide/indexing.html#returning-a-view-versus-a-copy\n",
            "  errors=errors,\n"
          ]
        }
      ]
    },
    {
      "cell_type": "code",
      "metadata": {
        "id": "GG5zTnKRbfDV",
        "outputId": "e2346bc8-333c-4310-ce13-610253b3f3e1",
        "colab": {
          "base_uri": "https://localhost:8080/"
        }
      },
      "source": [
        "from sklearn.feature_selection import chi2\n",
        "import numpy as np\n",
        "import pandas as pd\n",
        "import matplotlib.pyplot as plt\n",
        "import seaborn as sns\n",
        "\n",
        "df = pd.get_dummies(data = df_kategori)\n",
        "\n",
        "# Resultant Dataframe will be a dataframe where the column names and Index will be the same\n",
        "# This is a matrix similar to correlation matrix which we get after df.corr()\n",
        "# Initialize the values in this matrix with 0\n",
        "resultant = pd.DataFrame(data=[(0 for i in range(len(df.columns))) for i in range(len(df.columns))], \n",
        "                         columns=list(df.columns))\n",
        "resultant.set_index(pd.Index(list(df.columns)), inplace = True)\n",
        "\n",
        "# Finding p_value for all columns and putting them in the resultant matrix\n",
        "for i in list(df.columns):\n",
        "    for j in list(df.columns):\n",
        "        if i != j:\n",
        "            chi2_val, p_val = chi2(np.array(df[i]).reshape(-1, 1), np.array(df[j]).reshape(-1, 1))\n",
        "            resultant.loc[i,j] = p_val\n",
        "print(resultant)"
      ],
      "execution_count": 37,
      "outputs": [
        {
          "output_type": "stream",
          "name": "stdout",
          "text": [
            "                                            Tujuan_Pinjaman_TV  ...  Email_Domain_Type_Public_Domain\n",
            "Tujuan_Pinjaman_TV                                    0.000000  ...                     5.001180e-02\n",
            "Tujuan_Pinjaman_buka_bisnis                           0.380235  ...                     7.311951e-03\n",
            "Tujuan_Pinjaman_elektronik                            0.210048  ...                     1.769377e-01\n",
            "Tujuan_Pinjaman_liburan                               0.489051  ...                     3.118684e-01\n",
            "Tujuan_Pinjaman_makanan                               0.656594  ...                     7.307766e-01\n",
            "...                                                        ...  ...                              ...\n",
            "Mobile_Number_Active_Since_3_1_ke_2_tahun             0.225811  ...                     3.202254e-01\n",
            "Mobile_Number_Active_Since_4_2_ke_5_tahun             0.190110  ...                     1.549275e-01\n",
            "Mobile_Number_Active_Since_5_Lebih_5_tahun            0.607531  ...                     4.678042e-01\n",
            "Email_Domain_Type_Professional_Domain                 0.076004  ...                    3.300751e-156\n",
            "Email_Domain_Type_Public_Domain                       0.392013  ...                     0.000000e+00\n",
            "\n",
            "[77 rows x 77 columns]\n"
          ]
        }
      ]
    },
    {
      "cell_type": "code",
      "metadata": {
        "id": "FqeR6Bgac8X2",
        "outputId": "25f16464-f72c-4c76-8a84-a8c8462e67c0",
        "colab": {
          "base_uri": "https://localhost:8080/",
          "height": 231
        }
      },
      "source": [
        "loan = df_kategori\n",
        "\n",
        "res.columns = ['Column', 'Hypothesis']\n",
        "check = {}\n",
        "for i in res[res['Hypothesis'] == 'Reject Null Hypothesis']['Column']:\n",
        "    dummies = pd.get_dummies(loan[i])\n",
        "    bon_p_value = 0.05/loan[i].nunique()\n",
        "    for series in dummies:\n",
        "        if chi2_contingency(pd.crosstab(loan['Loan_Status'], dummies[series]))[1] < bon_p_value:\n",
        "            check['{}-{}'.format(i, series)] = 'Reject Null Hypothesis'\n",
        "        else:\n",
        "            check['{}-{}'.format(i, series)] = 'Fail to Reject Null Hypothesis'\n",
        "res_chi_ph = pd.DataFrame(data = [check.keys(), check.values()]).T\n",
        "res_chi_ph.columns = ['Pair', 'Hypothesis']\n",
        "res_chi_ph"
      ],
      "execution_count": 39,
      "outputs": [
        {
          "output_type": "error",
          "ename": "NameError",
          "evalue": "ignored",
          "traceback": [
            "\u001b[0;31m---------------------------------------------------------------------------\u001b[0m",
            "\u001b[0;31mNameError\u001b[0m                                 Traceback (most recent call last)",
            "\u001b[0;32m<ipython-input-39-33b2d104982f>\u001b[0m in \u001b[0;36m<module>\u001b[0;34m()\u001b[0m\n\u001b[1;32m      1\u001b[0m \u001b[0mloan\u001b[0m \u001b[0;34m=\u001b[0m \u001b[0mdf_kategori\u001b[0m\u001b[0;34m\u001b[0m\u001b[0;34m\u001b[0m\u001b[0m\n\u001b[1;32m      2\u001b[0m \u001b[0;34m\u001b[0m\u001b[0m\n\u001b[0;32m----> 3\u001b[0;31m \u001b[0mres\u001b[0m\u001b[0;34m.\u001b[0m\u001b[0mcolumns\u001b[0m \u001b[0;34m=\u001b[0m \u001b[0;34m[\u001b[0m\u001b[0;34m'Column'\u001b[0m\u001b[0;34m,\u001b[0m \u001b[0;34m'Hypothesis'\u001b[0m\u001b[0;34m]\u001b[0m\u001b[0;34m\u001b[0m\u001b[0;34m\u001b[0m\u001b[0m\n\u001b[0m\u001b[1;32m      4\u001b[0m \u001b[0mcheck\u001b[0m \u001b[0;34m=\u001b[0m \u001b[0;34m{\u001b[0m\u001b[0;34m}\u001b[0m\u001b[0;34m\u001b[0m\u001b[0;34m\u001b[0m\u001b[0m\n\u001b[1;32m      5\u001b[0m \u001b[0;32mfor\u001b[0m \u001b[0mi\u001b[0m \u001b[0;32min\u001b[0m \u001b[0mres\u001b[0m\u001b[0;34m[\u001b[0m\u001b[0mres\u001b[0m\u001b[0;34m[\u001b[0m\u001b[0;34m'Hypothesis'\u001b[0m\u001b[0;34m]\u001b[0m \u001b[0;34m==\u001b[0m \u001b[0;34m'Reject Null Hypothesis'\u001b[0m\u001b[0;34m]\u001b[0m\u001b[0;34m[\u001b[0m\u001b[0;34m'Column'\u001b[0m\u001b[0;34m]\u001b[0m\u001b[0;34m:\u001b[0m\u001b[0;34m\u001b[0m\u001b[0;34m\u001b[0m\u001b[0m\n",
            "\u001b[0;31mNameError\u001b[0m: name 'res' is not defined"
          ]
        }
      ]
    },
    {
      "cell_type": "code",
      "metadata": {
        "id": "G6xazzsGjY7v"
      },
      "source": [
        "# 2.3.2.5.7.1 Weight of Evidence (WOE)"
      ],
      "execution_count": null,
      "outputs": []
    }
  ]
}