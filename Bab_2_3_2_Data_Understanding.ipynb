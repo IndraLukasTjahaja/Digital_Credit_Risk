{
  "nbformat": 4,
  "nbformat_minor": 0,
  "metadata": {
    "colab": {
      "name": "Bab_2.3.2_Data_Understanding.ipynb",
      "provenance": [],
      "authorship_tag": "ABX9TyOLkCM7Vx3UenPfKSyI5QdS",
      "include_colab_link": true
    },
    "kernelspec": {
      "name": "python3",
      "display_name": "Python 3"
    },
    "language_info": {
      "name": "python"
    }
  },
  "cells": [
    {
      "cell_type": "markdown",
      "metadata": {
        "id": "view-in-github",
        "colab_type": "text"
      },
      "source": [
        "<a href=\"https://colab.research.google.com/github/IndraLukasTjahaja/Digital_Credit_Risk/blob/main/Bab_2_3_2_Data_Understanding.ipynb\" target=\"_parent\"><img src=\"https://colab.research.google.com/assets/colab-badge.svg\" alt=\"Open In Colab\"/></a>"
      ]
    },
    {
      "cell_type": "code",
      "metadata": {
        "id": "lijleEyYl6gW"
      },
      "source": [
        "# 2.3.2.1 Persiapan data dan impor ke Python"
      ],
      "execution_count": 46,
      "outputs": []
    },
    {
      "cell_type": "code",
      "metadata": {
        "id": "X4yjdoBnl9Xv"
      },
      "source": [
        "# 2.3.2.2 Impor data di Python\n",
        "\n",
        "# library panda untuk menggunakan data frame\n",
        "import pandas as pd\n",
        "\n",
        "# Impor data dari excel xls ke Python\n",
        "# Pembaca dapat langsung menunjuk kepada file excel yang terletak di website pendamping buku ini\n",
        "# atau mengunduh terlebih dahulu dan menunjuk ke file excel di lokasi hard drive\n",
        "# contoh: df = pd.read_excel('C:\\User\\pembaca\\downloads\\German_credit.xls')\n",
        "\n",
        "df = pd.read_excel('https://github.com/IndraLukasTjahaja/Digital_Credit_Risk/raw/main/Credit_Scoring_Dataset.xlsx')"
      ],
      "execution_count": 47,
      "outputs": []
    },
    {
      "cell_type": "code",
      "metadata": {
        "colab": {
          "base_uri": "https://localhost:8080/",
          "height": 504
        },
        "id": "xDekPk8lmZ3N",
        "outputId": "141a4e5c-5b70-4ba2-ae3c-d1f582bdb69b"
      },
      "source": [
        "# 2.3.2.3 Struktur data\n",
        "\n",
        "# Melihat sample dari dataset\n",
        "df.head(10) # Menampilkan 10 baris teratas dari dataframe df"
      ],
      "execution_count": 48,
      "outputs": [
        {
          "output_type": "execute_result",
          "data": {
            "text/html": [
              "<div>\n",
              "<style scoped>\n",
              "    .dataframe tbody tr th:only-of-type {\n",
              "        vertical-align: middle;\n",
              "    }\n",
              "\n",
              "    .dataframe tbody tr th {\n",
              "        vertical-align: top;\n",
              "    }\n",
              "\n",
              "    .dataframe thead th {\n",
              "        text-align: right;\n",
              "    }\n",
              "</style>\n",
              "<table border=\"1\" class=\"dataframe\">\n",
              "  <thead>\n",
              "    <tr style=\"text-align: right;\">\n",
              "      <th></th>\n",
              "      <th>ID</th>\n",
              "      <th>gagal_bayar</th>\n",
              "      <th>Lama_Cicilan</th>\n",
              "      <th>Tujuan_Pinjaman</th>\n",
              "      <th>Jumlah_Pinjaman</th>\n",
              "      <th>Pekerjaan</th>\n",
              "      <th>Status_Rekening_Bank</th>\n",
              "      <th>Pendapatan_perbulan</th>\n",
              "      <th>Lama_Bekerja</th>\n",
              "      <th>Status</th>\n",
              "      <th>Kepemilikan_Rumah</th>\n",
              "      <th>Alamat_Rumah</th>\n",
              "      <th>Alamat_Kantor</th>\n",
              "      <th>Usia</th>\n",
              "      <th>Lama_tinggal_ditempat_sekarang</th>\n",
              "      <th>debt_burden_ratio</th>\n",
              "      <th>SLIK_Kolektibilitas</th>\n",
              "      <th>SLIK_Outstanding</th>\n",
              "      <th>API_CreditScore_Vendor_A</th>\n",
              "      <th>API_CreditScore_Vendor_B</th>\n",
              "      <th>Device_Type</th>\n",
              "      <th>Device_Apps_Installed</th>\n",
              "      <th>Device_Active_Since</th>\n",
              "      <th>Device_Apps_Segmentation</th>\n",
              "      <th>Mobile_Provider</th>\n",
              "      <th>Mobile_Number_Active_Since</th>\n",
              "      <th>Email_Domain_Type</th>\n",
              "    </tr>\n",
              "  </thead>\n",
              "  <tbody>\n",
              "    <tr>\n",
              "      <th>0</th>\n",
              "      <td>ABC0001</td>\n",
              "      <td>0_Bayar</td>\n",
              "      <td>6.0</td>\n",
              "      <td>peralatan_rumahtangga</td>\n",
              "      <td>1169000</td>\n",
              "      <td>1_pegawai_tetap</td>\n",
              "      <td>2_Tabungan_&lt;=_100_ribu</td>\n",
              "      <td>5. rahasia</td>\n",
              "      <td>5_&gt;7_tahun_kerja</td>\n",
              "      <td>2_menikah</td>\n",
              "      <td>1_milik_sendiri</td>\n",
              "      <td>Daerah_3</td>\n",
              "      <td>Daerah_3</td>\n",
              "      <td>67.0</td>\n",
              "      <td>4_&gt;10_tahun</td>\n",
              "      <td>1_0_ke_25%</td>\n",
              "      <td>1.0</td>\n",
              "      <td>0.000000e+00</td>\n",
              "      <td>305</td>\n",
              "      <td>192</td>\n",
              "      <td>Android</td>\n",
              "      <td>16</td>\n",
              "      <td>2_1_ke_3_tahun</td>\n",
              "      <td>Social_Media</td>\n",
              "      <td>Telco_A</td>\n",
              "      <td>1_Kurang_1_bulan</td>\n",
              "      <td>Public_Domain</td>\n",
              "    </tr>\n",
              "    <tr>\n",
              "      <th>1</th>\n",
              "      <td>ABC0002</td>\n",
              "      <td>1_Gagal</td>\n",
              "      <td>48.0</td>\n",
              "      <td>peralatan_rumahtangga</td>\n",
              "      <td>5951000</td>\n",
              "      <td>1_pegawai_tetap</td>\n",
              "      <td>3_Tabungan_&lt;=_2_juta</td>\n",
              "      <td>1. &lt; 1 juta</td>\n",
              "      <td>3_1-4_tahun_kerja</td>\n",
              "      <td>1_belum_menikah</td>\n",
              "      <td>1_milik_sendiri</td>\n",
              "      <td>Daerah_2</td>\n",
              "      <td>Daerah_2</td>\n",
              "      <td>22.0</td>\n",
              "      <td>2_1-5_tahun</td>\n",
              "      <td>2_25_ke_50%</td>\n",
              "      <td>3.0</td>\n",
              "      <td>3.718614e+06</td>\n",
              "      <td>252</td>\n",
              "      <td>86</td>\n",
              "      <td>IOS</td>\n",
              "      <td>26</td>\n",
              "      <td>3_Lebih_3_tahun</td>\n",
              "      <td>Games</td>\n",
              "      <td>Telco_E</td>\n",
              "      <td>1_Kurang_1_bulan</td>\n",
              "      <td>Public_Domain</td>\n",
              "    </tr>\n",
              "    <tr>\n",
              "      <th>2</th>\n",
              "      <td>ABC0003</td>\n",
              "      <td>0_Bayar</td>\n",
              "      <td>12.0</td>\n",
              "      <td>liburan</td>\n",
              "      <td>2096000</td>\n",
              "      <td>3_wiraswasta</td>\n",
              "      <td>1_Tidak_ada_Rekening</td>\n",
              "      <td>1. &lt; 1 juta</td>\n",
              "      <td>4_4-7_tahun_kerja</td>\n",
              "      <td>2_menikah</td>\n",
              "      <td>1_milik_sendiri</td>\n",
              "      <td>Daerah_2</td>\n",
              "      <td>Daerah_1</td>\n",
              "      <td>49.0</td>\n",
              "      <td>3_5-10_tahun</td>\n",
              "      <td>2_25_ke_50%</td>\n",
              "      <td>1.0</td>\n",
              "      <td>0.000000e+00</td>\n",
              "      <td>858</td>\n",
              "      <td>97</td>\n",
              "      <td>Android</td>\n",
              "      <td>108</td>\n",
              "      <td>3_Lebih_3_tahun</td>\n",
              "      <td>Games</td>\n",
              "      <td>Telco_A</td>\n",
              "      <td>2_Kurang_1_tahun</td>\n",
              "      <td>Public_Domain</td>\n",
              "    </tr>\n",
              "    <tr>\n",
              "      <th>3</th>\n",
              "      <td>ABC0004</td>\n",
              "      <td>0_Bayar</td>\n",
              "      <td>42.0</td>\n",
              "      <td>elektronik</td>\n",
              "      <td>7882000</td>\n",
              "      <td>1_pegawai_tetap</td>\n",
              "      <td>2_Tabungan_&lt;=_100_ribu</td>\n",
              "      <td>1. &lt; 1 juta</td>\n",
              "      <td>4_4-7_tahun_kerja</td>\n",
              "      <td>2_menikah</td>\n",
              "      <td>3_bersama_keluarga</td>\n",
              "      <td>Daerah_1</td>\n",
              "      <td>Daerah_1</td>\n",
              "      <td>45.0</td>\n",
              "      <td>4_&gt;10_tahun</td>\n",
              "      <td>2_25_ke_50%</td>\n",
              "      <td>3.0</td>\n",
              "      <td>2.216175e+06</td>\n",
              "      <td>108</td>\n",
              "      <td>159</td>\n",
              "      <td>Android</td>\n",
              "      <td>42</td>\n",
              "      <td>3_Lebih_3_tahun</td>\n",
              "      <td>Online_Lending</td>\n",
              "      <td>Telco_E</td>\n",
              "      <td>2_Kurang_1_tahun</td>\n",
              "      <td>Professional_Domain</td>\n",
              "    </tr>\n",
              "    <tr>\n",
              "      <th>4</th>\n",
              "      <td>ABC0005</td>\n",
              "      <td>1_Gagal</td>\n",
              "      <td>24.0</td>\n",
              "      <td>mobil_baru</td>\n",
              "      <td>4870000</td>\n",
              "      <td>1_pegawai_tetap</td>\n",
              "      <td>2_Tabungan_&lt;=_100_ribu</td>\n",
              "      <td>1. &lt; 1 juta</td>\n",
              "      <td>3_1-4_tahun_kerja</td>\n",
              "      <td>2_menikah</td>\n",
              "      <td>3_bersama_keluarga</td>\n",
              "      <td>Daerah_3</td>\n",
              "      <td>Daerah_3</td>\n",
              "      <td>53.0</td>\n",
              "      <td>4_&gt;10_tahun</td>\n",
              "      <td>3_50_ke_75%</td>\n",
              "      <td>2.0</td>\n",
              "      <td>5.102303e+05</td>\n",
              "      <td>487</td>\n",
              "      <td>63</td>\n",
              "      <td>Android</td>\n",
              "      <td>29</td>\n",
              "      <td>3_Lebih_3_tahun</td>\n",
              "      <td>Shopping</td>\n",
              "      <td>Telco_D</td>\n",
              "      <td>1_Kurang_1_bulan</td>\n",
              "      <td>Public_Domain</td>\n",
              "    </tr>\n",
              "    <tr>\n",
              "      <th>5</th>\n",
              "      <td>ABC0006</td>\n",
              "      <td>0_Bayar</td>\n",
              "      <td>36.0</td>\n",
              "      <td>liburan</td>\n",
              "      <td>5</td>\n",
              "      <td>3_wiraswasta</td>\n",
              "      <td>1_Tidak_ada_Rekening</td>\n",
              "      <td>5. rahasia</td>\n",
              "      <td>3_1-4_tahun_kerja</td>\n",
              "      <td>2_menikah</td>\n",
              "      <td>3_bersama_keluarga</td>\n",
              "      <td>Daerah_1</td>\n",
              "      <td>Daerah_2</td>\n",
              "      <td>35.0</td>\n",
              "      <td>4_&gt;10_tahun</td>\n",
              "      <td>2_25_ke_50%</td>\n",
              "      <td>3.0</td>\n",
              "      <td>2.403041e+06</td>\n",
              "      <td>595</td>\n",
              "      <td>200</td>\n",
              "      <td>Android</td>\n",
              "      <td>98</td>\n",
              "      <td>3_Lebih_3_tahun</td>\n",
              "      <td>Social_Media</td>\n",
              "      <td>Telco_E</td>\n",
              "      <td>2_Kurang_1_tahun</td>\n",
              "      <td>Public_Domain</td>\n",
              "    </tr>\n",
              "    <tr>\n",
              "      <th>6</th>\n",
              "      <td>ABC0007</td>\n",
              "      <td>0_Bayar</td>\n",
              "      <td>24.0</td>\n",
              "      <td>elektronik</td>\n",
              "      <td>5</td>\n",
              "      <td>1_pegawai_tetap</td>\n",
              "      <td>1_Tidak_ada_Rekening</td>\n",
              "      <td>3. 5 - 10 juta</td>\n",
              "      <td>5_&gt;7_tahun_kerja</td>\n",
              "      <td>2_menikah</td>\n",
              "      <td>1_milik_sendiri</td>\n",
              "      <td>Daerah_2</td>\n",
              "      <td>Daerah_3</td>\n",
              "      <td>53.0</td>\n",
              "      <td>4_&gt;10_tahun</td>\n",
              "      <td>3_50_ke_75%</td>\n",
              "      <td>3.0</td>\n",
              "      <td>6.676772e+05</td>\n",
              "      <td>334</td>\n",
              "      <td>172</td>\n",
              "      <td>Android</td>\n",
              "      <td>109</td>\n",
              "      <td>3_Lebih_3_tahun</td>\n",
              "      <td>Productivity</td>\n",
              "      <td>Telco_C</td>\n",
              "      <td>5_Lebih_5_tahun</td>\n",
              "      <td>Public_Domain</td>\n",
              "    </tr>\n",
              "    <tr>\n",
              "      <th>7</th>\n",
              "      <td>ABC0008</td>\n",
              "      <td>0_Bayar</td>\n",
              "      <td>36.0</td>\n",
              "      <td>mobil_bekas</td>\n",
              "      <td>5</td>\n",
              "      <td>4_tidak_bekerja</td>\n",
              "      <td>3_Tabungan_&lt;=_2_juta</td>\n",
              "      <td>1. &lt; 1 juta</td>\n",
              "      <td>3_1-4_tahun_kerja</td>\n",
              "      <td>2_menikah</td>\n",
              "      <td>2_sewa</td>\n",
              "      <td>Daerah_1</td>\n",
              "      <td>Daerah_1</td>\n",
              "      <td>35.0</td>\n",
              "      <td>2_1-5_tahun</td>\n",
              "      <td>2_25_ke_50%</td>\n",
              "      <td>3.0</td>\n",
              "      <td>1.921838e+06</td>\n",
              "      <td>107</td>\n",
              "      <td>186</td>\n",
              "      <td>Android</td>\n",
              "      <td>104</td>\n",
              "      <td>3_Lebih_3_tahun</td>\n",
              "      <td>Productivity</td>\n",
              "      <td>Telco_E</td>\n",
              "      <td>5_Lebih_5_tahun</td>\n",
              "      <td>Public_Domain</td>\n",
              "    </tr>\n",
              "    <tr>\n",
              "      <th>8</th>\n",
              "      <td>ABC0009</td>\n",
              "      <td>0_Bayar</td>\n",
              "      <td>12.0</td>\n",
              "      <td>peralatan_rumahtangga</td>\n",
              "      <td>5</td>\n",
              "      <td>3_wiraswasta</td>\n",
              "      <td>NaN</td>\n",
              "      <td>4. &gt; 10 juta</td>\n",
              "      <td>4_4-7_tahun_kerja</td>\n",
              "      <td>3_bercerai</td>\n",
              "      <td>1_milik_sendiri</td>\n",
              "      <td>Daerah_2</td>\n",
              "      <td>Daerah_1</td>\n",
              "      <td>61.0</td>\n",
              "      <td>4_&gt;10_tahun</td>\n",
              "      <td>2_25_ke_50%</td>\n",
              "      <td>3.0</td>\n",
              "      <td>2.639372e+06</td>\n",
              "      <td>45</td>\n",
              "      <td>235</td>\n",
              "      <td>IOS</td>\n",
              "      <td>51</td>\n",
              "      <td>3_Lebih_3_tahun</td>\n",
              "      <td>Social_Media</td>\n",
              "      <td>Telco_B</td>\n",
              "      <td>3_1_ke_2_tahun</td>\n",
              "      <td>Public_Domain</td>\n",
              "    </tr>\n",
              "    <tr>\n",
              "      <th>9</th>\n",
              "      <td>ABC0010</td>\n",
              "      <td>1_Gagal</td>\n",
              "      <td>30.0</td>\n",
              "      <td>mobil_baru</td>\n",
              "      <td>5</td>\n",
              "      <td>4_tidak_bekerja</td>\n",
              "      <td>NaN</td>\n",
              "      <td>1. &lt; 1 juta</td>\n",
              "      <td>1_tidak_bekerja</td>\n",
              "      <td>3_bercerai</td>\n",
              "      <td>1_milik_sendiri</td>\n",
              "      <td>Daerah_2</td>\n",
              "      <td>Daerah_2</td>\n",
              "      <td>28.0</td>\n",
              "      <td>2_1-5_tahun</td>\n",
              "      <td>1_0_ke_25%</td>\n",
              "      <td>1.0</td>\n",
              "      <td>0.000000e+00</td>\n",
              "      <td>254</td>\n",
              "      <td>285</td>\n",
              "      <td>Android</td>\n",
              "      <td>51</td>\n",
              "      <td>3_Lebih_3_tahun</td>\n",
              "      <td>Social_Media</td>\n",
              "      <td>Telco_C</td>\n",
              "      <td>1_Kurang_1_bulan</td>\n",
              "      <td>Public_Domain</td>\n",
              "    </tr>\n",
              "  </tbody>\n",
              "</table>\n",
              "</div>"
            ],
            "text/plain": [
              "        ID gagal_bayar  ...  Mobile_Number_Active_Since    Email_Domain_Type\n",
              "0  ABC0001     0_Bayar  ...            1_Kurang_1_bulan        Public_Domain\n",
              "1  ABC0002     1_Gagal  ...            1_Kurang_1_bulan        Public_Domain\n",
              "2  ABC0003     0_Bayar  ...            2_Kurang_1_tahun        Public_Domain\n",
              "3  ABC0004     0_Bayar  ...            2_Kurang_1_tahun  Professional_Domain\n",
              "4  ABC0005     1_Gagal  ...            1_Kurang_1_bulan        Public_Domain\n",
              "5  ABC0006     0_Bayar  ...            2_Kurang_1_tahun        Public_Domain\n",
              "6  ABC0007     0_Bayar  ...             5_Lebih_5_tahun        Public_Domain\n",
              "7  ABC0008     0_Bayar  ...             5_Lebih_5_tahun        Public_Domain\n",
              "8  ABC0009     0_Bayar  ...              3_1_ke_2_tahun        Public_Domain\n",
              "9  ABC0010     1_Gagal  ...            1_Kurang_1_bulan        Public_Domain\n",
              "\n",
              "[10 rows x 27 columns]"
            ]
          },
          "metadata": {},
          "execution_count": 48
        }
      ]
    },
    {
      "cell_type": "code",
      "metadata": {
        "colab": {
          "base_uri": "https://localhost:8080/"
        },
        "id": "GrGQd7ePjIka",
        "outputId": "a382b242-388a-4f77-f532-8c201e608a93"
      },
      "source": [
        "# Melihat penjelasan singkat dan tipe data\n",
        "df.info()"
      ],
      "execution_count": 49,
      "outputs": [
        {
          "output_type": "stream",
          "text": [
            "<class 'pandas.core.frame.DataFrame'>\n",
            "RangeIndex: 1000 entries, 0 to 999\n",
            "Data columns (total 27 columns):\n",
            " #   Column                          Non-Null Count  Dtype  \n",
            "---  ------                          --------------  -----  \n",
            " 0   ID                              999 non-null    object \n",
            " 1   gagal_bayar                     991 non-null    object \n",
            " 2   Lama_Cicilan                    981 non-null    float64\n",
            " 3   Tujuan_Pinjaman                 995 non-null    object \n",
            " 4   Jumlah_Pinjaman                 1000 non-null   int64  \n",
            " 5   Pekerjaan                       987 non-null    object \n",
            " 6   Status_Rekening_Bank            989 non-null    object \n",
            " 7   Pendapatan_perbulan             989 non-null    object \n",
            " 8   Lama_Bekerja                    972 non-null    object \n",
            " 9   Status                          995 non-null    object \n",
            " 10  Kepemilikan_Rumah               996 non-null    object \n",
            " 11  Alamat_Rumah                    1000 non-null   object \n",
            " 12  Alamat_Kantor                   1000 non-null   object \n",
            " 13  Usia                            998 non-null    float64\n",
            " 14  Lama_tinggal_ditempat_sekarang  997 non-null    object \n",
            " 15  debt_burden_ratio               1000 non-null   object \n",
            " 16  SLIK_Kolektibilitas             947 non-null    float64\n",
            " 17  SLIK_Outstanding                960 non-null    float64\n",
            " 18  API_CreditScore_Vendor_A        1000 non-null   int64  \n",
            " 19  API_CreditScore_Vendor_B        1000 non-null   int64  \n",
            " 20  Device_Type                     1000 non-null   object \n",
            " 21  Device_Apps_Installed           1000 non-null   int64  \n",
            " 22  Device_Active_Since             1000 non-null   object \n",
            " 23  Device_Apps_Segmentation        1000 non-null   object \n",
            " 24  Mobile_Provider                 1000 non-null   object \n",
            " 25  Mobile_Number_Active_Since      1000 non-null   object \n",
            " 26  Email_Domain_Type               1000 non-null   object \n",
            "dtypes: float64(4), int64(4), object(19)\n",
            "memory usage: 211.1+ KB\n"
          ],
          "name": "stdout"
        }
      ]
    },
    {
      "cell_type": "code",
      "metadata": {
        "id": "Mf2Ht_6cmehV"
      },
      "source": [
        "# 2.3.2.4 Tipe data\n",
        "\n",
        "# Merubah tipe data menjadi tipe karakter kategori\n",
        "df['gagal_bayar'] = df.gagal_bayar.astype('category')\n",
        "df['Tujuan_Pinjaman'] = df.Tujuan_Pinjaman.astype('category')\n",
        "df['Status_Rekening_Bank'] = df.Status_Rekening_Bank.astype('category')\n",
        "df['Pendapatan_perbulan'] = df.Pendapatan_perbulan.astype('category')\n",
        "df['Lama_Bekerja'] = df.Lama_Bekerja.astype('category')\n",
        "df['Status'] = df.Status.astype('category')\n",
        "df['Kepemilikan_Rumah'] = df.Kepemilikan_Rumah.astype('category')\n",
        "df['Alamat_Rumah'] = df.Alamat_Rumah.astype('category')\n",
        "df['Alamat_Kantor'] = df.Alamat_Kantor.astype('category')\n",
        "df['Lama_tinggal_ditempat_sekarang'] = df.Lama_tinggal_ditempat_sekarang.astype('category')\n",
        "df['debt_burden_ratio'] = df.debt_burden_ratio.astype('category')\n",
        "df['Device_Type'] = df.Device_Type.astype('category')\n",
        "df['Device_Active_Since'] = df.Device_Active_Since.astype('category')\n",
        "df['SLIK_Kolektibilitas'] = df.SLIK_Kolektibilitas.astype('category')\n",
        "\n",
        "# Merubah tipe data menjadi tipe karakter int64\n",
        "# Gunakan intger untuk angka bulat\n",
        "df['API_CreditScore_Vendor_A'] = df.API_CreditScore_Vendor_A.astype('int64')\n",
        "df['API_CreditScore_Vendor_B'] = df.API_CreditScore_Vendor_B.astype('int64')\n",
        "df['Device_Apps_Installed'] = df.Device_Apps_Installed.astype('int64')\n",
        "\n",
        "# Merubah tipe data menjadi tipe karakter float64\n",
        "# Gunakan intger untuk angka dengan koma\n",
        "# Jika dalam kolom tersebut terdapat null, maka harus di simpan dalam tipe float\n",
        "df['Lama_Cicilan'] = df.Lama_Cicilan.astype('float64')\n",
        "df['Usia'] = df.Usia.astype('float64')\n",
        "df['Jumlah_Pinjaman'] = df.Jumlah_Pinjaman.astype('float64')\n",
        "df['SLIK_Outstanding'] = df.SLIK_Outstanding.astype('float64')"
      ],
      "execution_count": 50,
      "outputs": []
    },
    {
      "cell_type": "code",
      "metadata": {
        "colab": {
          "base_uri": "https://localhost:8080/"
        },
        "id": "qW5t7UwfES8v",
        "outputId": "a2499700-a3a1-4df2-b052-35026dc59217"
      },
      "source": [
        "# 2.3.2.5.1 Exploratory Data Analysis untuk gagal_bayar\n",
        "\n",
        "# Untuk melihat frekuensi dari variabel gagal_bayar\n",
        "print(df['gagal_bayar'].value_counts())\n",
        "\n",
        "# Untuk melihat proporsi (dalam persentase) dari variabel gagal_bayar\n",
        "print(df['gagal_bayar'].value_counts(normalize=True) * 100)"
      ],
      "execution_count": 51,
      "outputs": [
        {
          "output_type": "stream",
          "text": [
            "0_Bayar    696\n",
            "1_Gagal    295\n",
            "Name: gagal_bayar, dtype: int64\n",
            "0_Bayar    70.232089\n",
            "1_Gagal    29.767911\n",
            "Name: gagal_bayar, dtype: float64\n"
          ],
          "name": "stdout"
        }
      ]
    },
    {
      "cell_type": "code",
      "metadata": {
        "id": "zjuNAMQGE5L6",
        "colab": {
          "base_uri": "https://localhost:8080/"
        },
        "outputId": "6619ad23-1672-4152-d203-5cd64eed74ae"
      },
      "source": [
        "# 2.3.2.5.2 Exploratory Data Analysis untuk SLIK_Kolektabilitas\n",
        "\n",
        "# Untuk melihat frekuensi dari variabel SLIK_Kolektabilitas\n",
        "print(df['SLIK_Kolektibilitas'].value_counts())\n",
        "\n",
        "# Untuk melihat proporsi (dalam persentase) dari variabel SLIK_Kolektabilitas\n",
        "print(df['SLIK_Kolektibilitas'].value_counts(normalize=True) * 100)"
      ],
      "execution_count": 52,
      "outputs": [
        {
          "output_type": "stream",
          "text": [
            "3.0    510\n",
            "1.0    286\n",
            "2.0     88\n",
            "5.0     49\n",
            "4.0     14\n",
            "Name: SLIK_Kolektibilitas, dtype: int64\n",
            "3.0    53.854277\n",
            "1.0    30.200634\n",
            "2.0     9.292503\n",
            "5.0     5.174234\n",
            "4.0     1.478353\n",
            "Name: SLIK_Kolektibilitas, dtype: float64\n"
          ],
          "name": "stdout"
        }
      ]
    },
    {
      "cell_type": "code",
      "metadata": {
        "id": "zESKaaoCOZO3",
        "colab": {
          "base_uri": "https://localhost:8080/"
        },
        "outputId": "7fa4ab6c-eb56-4a3d-cbd3-8171b5e5a2d7"
      },
      "source": [
        "# Berapa banyak yang gagal bayar dari masing-masing nilai SLIK Kolektabilitas\n",
        "print(pd.crosstab(df['SLIK_Kolektibilitas'], df['gagal_bayar']))\n",
        "\n",
        "# dalam proporsi persentase\n",
        "print(pd.crosstab(df['SLIK_Kolektibilitas'],df['gagal_bayar'],normalize='index',)*100)"
      ],
      "execution_count": 53,
      "outputs": [
        {
          "output_type": "stream",
          "text": [
            "gagal_bayar          0_Bayar  1_Gagal\n",
            "SLIK_Kolektibilitas                  \n",
            "1.0                      239       46\n",
            "2.0                       60       27\n",
            "3.0                      347      158\n",
            "4.0                        6        8\n",
            "5.0                       21       28\n",
            "gagal_bayar            0_Bayar    1_Gagal\n",
            "SLIK_Kolektibilitas                      \n",
            "1.0                  83.859649  16.140351\n",
            "2.0                  68.965517  31.034483\n",
            "3.0                  68.712871  31.287129\n",
            "4.0                  42.857143  57.142857\n",
            "5.0                  42.857143  57.142857\n"
          ],
          "name": "stdout"
        }
      ]
    },
    {
      "cell_type": "code",
      "metadata": {
        "colab": {
          "base_uri": "https://localhost:8080/",
          "height": 300
        },
        "id": "90J2yiiUYmY-",
        "outputId": "2a57aebb-5571-4b3c-8467-fe99cb390584"
      },
      "source": [
        "# 2.3.2.5.3 Exploratory Data Analysis untuk API_CreditScore_Vendor_A\n",
        "\n",
        "# Rangkuman statistik untuk variabel numerik API_CreditScore_Vendor_A\n",
        "print(df['API_CreditScore_Vendor_A'].describe())\n",
        "\n",
        "# Rangkuman statistik untuk variabel numerik API_CreditScore_Vendor_A, berdasarkan default (gagal bayar atau tidak)\n",
        "df.groupby('gagal_bayar')['API_CreditScore_Vendor_A'].describe()"
      ],
      "execution_count": 54,
      "outputs": [
        {
          "output_type": "stream",
          "text": [
            "count    1000.000000\n",
            "mean      409.997000\n",
            "std       251.237141\n",
            "min         0.000000\n",
            "25%       197.750000\n",
            "50%       393.500000\n",
            "75%       600.000000\n",
            "max       999.000000\n",
            "Name: API_CreditScore_Vendor_A, dtype: float64\n"
          ],
          "name": "stdout"
        },
        {
          "output_type": "execute_result",
          "data": {
            "text/html": [
              "<div>\n",
              "<style scoped>\n",
              "    .dataframe tbody tr th:only-of-type {\n",
              "        vertical-align: middle;\n",
              "    }\n",
              "\n",
              "    .dataframe tbody tr th {\n",
              "        vertical-align: top;\n",
              "    }\n",
              "\n",
              "    .dataframe thead th {\n",
              "        text-align: right;\n",
              "    }\n",
              "</style>\n",
              "<table border=\"1\" class=\"dataframe\">\n",
              "  <thead>\n",
              "    <tr style=\"text-align: right;\">\n",
              "      <th></th>\n",
              "      <th>count</th>\n",
              "      <th>mean</th>\n",
              "      <th>std</th>\n",
              "      <th>min</th>\n",
              "      <th>25%</th>\n",
              "      <th>50%</th>\n",
              "      <th>75%</th>\n",
              "      <th>max</th>\n",
              "    </tr>\n",
              "    <tr>\n",
              "      <th>gagal_bayar</th>\n",
              "      <th></th>\n",
              "      <th></th>\n",
              "      <th></th>\n",
              "      <th></th>\n",
              "      <th></th>\n",
              "      <th></th>\n",
              "      <th></th>\n",
              "      <th></th>\n",
              "    </tr>\n",
              "  </thead>\n",
              "  <tbody>\n",
              "    <tr>\n",
              "      <th>0_Bayar</th>\n",
              "      <td>696.0</td>\n",
              "      <td>417.708333</td>\n",
              "      <td>252.218741</td>\n",
              "      <td>0.0</td>\n",
              "      <td>210.0</td>\n",
              "      <td>402.0</td>\n",
              "      <td>608.75</td>\n",
              "      <td>999.0</td>\n",
              "    </tr>\n",
              "    <tr>\n",
              "      <th>1_Gagal</th>\n",
              "      <td>295.0</td>\n",
              "      <td>393.722034</td>\n",
              "      <td>246.710034</td>\n",
              "      <td>4.0</td>\n",
              "      <td>170.5</td>\n",
              "      <td>375.0</td>\n",
              "      <td>583.00</td>\n",
              "      <td>976.0</td>\n",
              "    </tr>\n",
              "  </tbody>\n",
              "</table>\n",
              "</div>"
            ],
            "text/plain": [
              "             count        mean         std  min    25%    50%     75%    max\n",
              "gagal_bayar                                                                 \n",
              "0_Bayar      696.0  417.708333  252.218741  0.0  210.0  402.0  608.75  999.0\n",
              "1_Gagal      295.0  393.722034  246.710034  4.0  170.5  375.0  583.00  976.0"
            ]
          },
          "metadata": {},
          "execution_count": 54
        }
      ]
    },
    {
      "cell_type": "code",
      "metadata": {
        "id": "5lZPEAen-nxN"
      },
      "source": [
        "import numpy as np\n",
        "\n",
        "# Untuk dapat melakukan analisa statistik, harus mengubah variabel gagal_bayar dari string menjadi angka (integer)\n",
        "# Mengubah target variabel gagal_bayar menjadi angka 0 dan 1\n",
        "conditions = [\n",
        "             df['gagal_bayar'] == '1_Gagal', \n",
        "             df['gagal_bayar'] == '0_Bayar'\n",
        "             ]\n",
        "\n",
        "choices     = [\n",
        "             1,\n",
        "             0\n",
        "             ]\n",
        "df['default'] = np.select(conditions,choices, default = 0)"
      ],
      "execution_count": 55,
      "outputs": []
    },
    {
      "cell_type": "code",
      "metadata": {
        "id": "HNjGTaQp_BaM",
        "colab": {
          "base_uri": "https://localhost:8080/"
        },
        "outputId": "0b8b5af3-0c69-46d9-91f4-e85aed2126a5"
      },
      "source": [
        "# Menghitung korelasi antara variabel API_CreditScore_Vendor_Adengan default\n",
        "print(df['default'].corr(df['API_CreditScore_Vendor_A']))"
      ],
      "execution_count": 56,
      "outputs": [
        {
          "output_type": "stream",
          "text": [
            "-0.04192469918495392\n"
          ],
          "name": "stdout"
        }
      ]
    },
    {
      "cell_type": "code",
      "metadata": {
        "colab": {
          "base_uri": "https://localhost:8080/"
        },
        "id": "84joxnCJCThc",
        "outputId": "41c21f07-6fbd-4160-9112-b71e0f95d54e"
      },
      "source": [
        "from scipy import stats\n",
        "\n",
        "# Uji coba hipotesis apakah ada perbedaan nilai rata-rata variabel \n",
        "# API_CreditScore_Vendor_A dengan default (gagal bayar dan tidak gagal bayar)\n",
        "stats.ttest_ind( df[df.default == 0].API_CreditScore_Vendor_A,\n",
        "             \tdf[df.default == 1].API_CreditScore_Vendor_A, nan_policy='omit')"
      ],
      "execution_count": 57,
      "outputs": [
        {
          "output_type": "execute_result",
          "data": {
            "text/plain": [
              "Ttest_indResult(statistic=1.3256144731368706, pvalue=0.18527078257469912)"
            ]
          },
          "metadata": {},
          "execution_count": 57
        }
      ]
    },
    {
      "cell_type": "code",
      "metadata": {
        "colab": {
          "base_uri": "https://localhost:8080/",
          "height": 288
        },
        "id": "T7qwqbQUYFWm",
        "outputId": "d4363b35-0dd4-490b-811e-1cd9a1d7412b"
      },
      "source": [
        "# 2.3.2.5 Data Visualisasi\n",
        "\n",
        "# Fungsi value_counts().plot(kind='bar')\n",
        "df['SLIK_Kolektibilitas'].value_counts().plot(kind='bar')"
      ],
      "execution_count": 58,
      "outputs": [
        {
          "output_type": "execute_result",
          "data": {
            "text/plain": [
              "<matplotlib.axes._subplots.AxesSubplot at 0x7fb5dbd5fc10>"
            ]
          },
          "metadata": {},
          "execution_count": 58
        },
        {
          "output_type": "display_data",
          "data": {
            "image/png": "[encoded data removed]",
            "text/plain": [
              "<Figure size 432x288 with 1 Axes>"
            ]
          },
          "metadata": {
            "needs_background": "light"
          }
        }
      ]
    },
    {
      "cell_type": "code",
      "metadata": {
        "colab": {
          "base_uri": "https://localhost:8080/",
          "height": 282
        },
        "id": "QEmk-BKSYpKH",
        "outputId": "978e8913-34d4-42f4-d164-e46c2656d2ca"
      },
      "source": [
        "# Menampilkan plot bar secara horizontal\n",
        "df['SLIK_Kolektibilitas'].value_counts().plot(kind='barh')"
      ],
      "execution_count": 59,
      "outputs": [
        {
          "output_type": "execute_result",
          "data": {
            "text/plain": [
              "<matplotlib.axes._subplots.AxesSubplot at 0x7fb5db78c950>"
            ]
          },
          "metadata": {},
          "execution_count": 59
        },
        {
          "output_type": "display_data",
          "data": {
            "image/png": "[encoded data removed]",
            "text/plain": [
              "<Figure size 432x288 with 1 Axes>"
            ]
          },
          "metadata": {
            "needs_background": "light"
          }
        }
      ]
    },
    {
      "cell_type": "code",
      "metadata": {
        "colab": {
          "base_uri": "https://localhost:8080/",
          "height": 282
        },
        "id": "uILFhuMGZZRg",
        "outputId": "12034510-b8fb-4d82-bb43-c97938bbe87c"
      },
      "source": [
        "# Nilai variabel SLIK_Kolektibilitas dan proporsi default secara plot bar\n",
        "pd.crosstab(df['SLIK_Kolektibilitas'], df['default']).plot(kind='barh', stacked=True)"
      ],
      "execution_count": 60,
      "outputs": [
        {
          "output_type": "execute_result",
          "data": {
            "text/plain": [
              "<matplotlib.axes._subplots.AxesSubplot at 0x7fb5db2ba510>"
            ]
          },
          "metadata": {},
          "execution_count": 60
        },
        {
          "output_type": "display_data",
          "data": {
            "image/png": "[encoded data removed]",
            "text/plain": [
              "<Figure size 432x288 with 1 Axes>"
            ]
          },
          "metadata": {
            "needs_background": "light"
          }
        }
      ]
    },
    {
      "cell_type": "code",
      "metadata": {
        "colab": {
          "base_uri": "https://localhost:8080/",
          "height": 282
        },
        "id": "s_i1FvMkZseF",
        "outputId": "da82af61-69c0-46dd-bcb9-18e13b2d9285"
      },
      "source": [
        "# Nilai variabel SLIK_Kolektibilitas dan proporsi default secara plot bar, secara proporsi\n",
        "pd.crosstab(df['SLIK_Kolektibilitas'], df['default'], normalize='index').plot(kind='barh', stacked=True)"
      ],
      "execution_count": 61,
      "outputs": [
        {
          "output_type": "execute_result",
          "data": {
            "text/plain": [
              "<matplotlib.axes._subplots.AxesSubplot at 0x7fb5db271550>"
            ]
          },
          "metadata": {},
          "execution_count": 61
        },
        {
          "output_type": "display_data",
          "data": {
            "image/png": "[encoded data removed]",
            "text/plain": [
              "<Figure size 432x288 with 1 Axes>"
            ]
          },
          "metadata": {
            "needs_background": "light"
          }
        }
      ]
    },
    {
      "cell_type": "code",
      "metadata": {
        "colab": {
          "base_uri": "https://localhost:8080/",
          "height": 946
        },
        "id": "V0mG8ys3aeq0",
        "outputId": "4b658254-f23e-40a5-9d44-5efea2b90e52"
      },
      "source": [
        "# Fungsi distplot() dari library seaborn\n",
        "# Perhatikan bahwa distribusi plot harus tidak memiliki data kosong / missing value.\n",
        "# Oleh karena itu harus menambahkan fungsi dropna() untuk secara sementara tidak\n",
        "# mengikutsertakan missing value dalam pembuatan plot distribusi\n",
        "\n",
        "import matplotlib.pyplot as plt\n",
        "import seaborn as sns\n",
        "\n",
        "fig, ax = plt.subplots(figsize=(15,15))\n",
        "sns.distplot(df['API_CreditScore_Vendor_A'].dropna(), ax=ax).set_title('Distribution Plot')"
      ],
      "execution_count": 62,
      "outputs": [
        {
          "output_type": "stream",
          "text": [
            "/usr/local/lib/python3.7/dist-packages/seaborn/distributions.py:2557: FutureWarning: `distplot` is a deprecated function and will be removed in a future version. Please adapt your code to use either `displot` (a figure-level function with similar flexibility) or `histplot` (an axes-level function for histograms).\n",
            "  warnings.warn(msg, FutureWarning)\n"
          ],
          "name": "stderr"
        },
        {
          "output_type": "execute_result",
          "data": {
            "text/plain": [
              "Text(0.5, 1.0, 'Distribution Plot')"
            ]
          },
          "metadata": {},
          "execution_count": 62
        },
        {
          "output_type": "display_data",
          "data": {
            "image/png": "[encoded data removed]",
            "text/plain": [
              "<Figure size 1080x1080 with 1 Axes>"
            ]
          },
          "metadata": {
            "needs_background": "light"
          }
        }
      ]
    },
    {
      "cell_type": "code",
      "metadata": {
        "colab": {
          "base_uri": "https://localhost:8080/",
          "height": 284
        },
        "id": "WUD8I46sekc6",
        "outputId": "5ac666db-b470-421e-85ae-e60675cb3c21"
      },
      "source": [
        "df.boxplot(column=['API_CreditScore_Vendor_A'])"
      ],
      "execution_count": 63,
      "outputs": [
        {
          "output_type": "execute_result",
          "data": {
            "text/plain": [
              "<matplotlib.axes._subplots.AxesSubplot at 0x7fb5db241610>"
            ]
          },
          "metadata": {},
          "execution_count": 63
        },
        {
          "output_type": "display_data",
          "data": {
            "image/png": "[encoded data removed]",
            "text/plain": [
              "<Figure size 432x288 with 1 Axes>"
            ]
          },
          "metadata": {
            "needs_background": "light"
          }
        }
      ]
    },
    {
      "cell_type": "code",
      "metadata": {
        "id": "K1JubColf4xI",
        "colab": {
          "base_uri": "https://localhost:8080/",
          "height": 373
        },
        "outputId": "4931b95f-78cf-4f28-de1a-a83af36aed1f"
      },
      "source": [
        "# Menambahkan by di fungsi boxplot\n",
        "df.boxplot(by='default',column=['API_CreditScore_Vendor_A'])"
      ],
      "execution_count": 64,
      "outputs": [
        {
          "output_type": "stream",
          "text": [
            "/usr/local/lib/python3.7/dist-packages/numpy/core/_asarray.py:83: VisibleDeprecationWarning: Creating an ndarray from ragged nested sequences (which is a list-or-tuple of lists-or-tuples-or ndarrays with different lengths or shapes) is deprecated. If you meant to do this, you must specify 'dtype=object' when creating the ndarray\n",
            "  return array(a, dtype, copy=False, order=order)\n"
          ],
          "name": "stderr"
        },
        {
          "output_type": "execute_result",
          "data": {
            "text/plain": [
              "<matplotlib.axes._subplots.AxesSubplot at 0x7fb5db0455d0>"
            ]
          },
          "metadata": {},
          "execution_count": 64
        },
        {
          "output_type": "display_data",
          "data": {
            "image/png": "[encoded data removed]",
            "text/plain": [
              "<Figure size 432x288 with 1 Axes>"
            ]
          },
          "metadata": {
            "needs_background": "light"
          }
        }
      ]
    },
    {
      "cell_type": "code",
      "metadata": {
        "colab": {
          "base_uri": "https://localhost:8080/",
          "height": 300
        },
        "id": "zeTbQamD1XoF",
        "outputId": "6be5835f-5250-4412-a7a2-bae3bcefa0e7"
      },
      "source": [
        "# Korelasi Antar semua Variabel numerik\n",
        "import seaborn as sns\n",
        "corr = df.corr()\n",
        "corr"
      ],
      "execution_count": 65,
      "outputs": [
        {
          "output_type": "execute_result",
          "data": {
            "text/html": [
              "<div>\n",
              "<style scoped>\n",
              "    .dataframe tbody tr th:only-of-type {\n",
              "        vertical-align: middle;\n",
              "    }\n",
              "\n",
              "    .dataframe tbody tr th {\n",
              "        vertical-align: top;\n",
              "    }\n",
              "\n",
              "    .dataframe thead th {\n",
              "        text-align: right;\n",
              "    }\n",
              "</style>\n",
              "<table border=\"1\" class=\"dataframe\">\n",
              "  <thead>\n",
              "    <tr style=\"text-align: right;\">\n",
              "      <th></th>\n",
              "      <th>Lama_Cicilan</th>\n",
              "      <th>Jumlah_Pinjaman</th>\n",
              "      <th>Usia</th>\n",
              "      <th>SLIK_Outstanding</th>\n",
              "      <th>API_CreditScore_Vendor_A</th>\n",
              "      <th>API_CreditScore_Vendor_B</th>\n",
              "      <th>Device_Apps_Installed</th>\n",
              "      <th>default</th>\n",
              "    </tr>\n",
              "  </thead>\n",
              "  <tbody>\n",
              "    <tr>\n",
              "      <th>Lama_Cicilan</th>\n",
              "      <td>1.000000</td>\n",
              "      <td>0.618087</td>\n",
              "      <td>-0.036513</td>\n",
              "      <td>0.072043</td>\n",
              "      <td>-0.056062</td>\n",
              "      <td>-0.052585</td>\n",
              "      <td>-0.019229</td>\n",
              "      <td>0.211794</td>\n",
              "    </tr>\n",
              "    <tr>\n",
              "      <th>Jumlah_Pinjaman</th>\n",
              "      <td>0.618087</td>\n",
              "      <td>1.000000</td>\n",
              "      <td>0.029987</td>\n",
              "      <td>0.013147</td>\n",
              "      <td>0.006741</td>\n",
              "      <td>-0.024167</td>\n",
              "      <td>-0.015120</td>\n",
              "      <td>0.165055</td>\n",
              "    </tr>\n",
              "    <tr>\n",
              "      <th>Usia</th>\n",
              "      <td>-0.036513</td>\n",
              "      <td>0.029987</td>\n",
              "      <td>1.000000</td>\n",
              "      <td>-0.177950</td>\n",
              "      <td>0.016964</td>\n",
              "      <td>0.022627</td>\n",
              "      <td>0.045096</td>\n",
              "      <td>-0.089643</td>\n",
              "    </tr>\n",
              "    <tr>\n",
              "      <th>SLIK_Outstanding</th>\n",
              "      <td>0.072043</td>\n",
              "      <td>0.013147</td>\n",
              "      <td>-0.177950</td>\n",
              "      <td>1.000000</td>\n",
              "      <td>-0.125095</td>\n",
              "      <td>-0.086232</td>\n",
              "      <td>-0.085913</td>\n",
              "      <td>0.485799</td>\n",
              "    </tr>\n",
              "    <tr>\n",
              "      <th>API_CreditScore_Vendor_A</th>\n",
              "      <td>-0.056062</td>\n",
              "      <td>0.006741</td>\n",
              "      <td>0.016964</td>\n",
              "      <td>-0.125095</td>\n",
              "      <td>1.000000</td>\n",
              "      <td>-0.002263</td>\n",
              "      <td>0.039218</td>\n",
              "      <td>-0.041925</td>\n",
              "    </tr>\n",
              "    <tr>\n",
              "      <th>API_CreditScore_Vendor_B</th>\n",
              "      <td>-0.052585</td>\n",
              "      <td>-0.024167</td>\n",
              "      <td>0.022627</td>\n",
              "      <td>-0.086232</td>\n",
              "      <td>-0.002263</td>\n",
              "      <td>1.000000</td>\n",
              "      <td>0.009100</td>\n",
              "      <td>-0.157163</td>\n",
              "    </tr>\n",
              "    <tr>\n",
              "      <th>Device_Apps_Installed</th>\n",
              "      <td>-0.019229</td>\n",
              "      <td>-0.015120</td>\n",
              "      <td>0.045096</td>\n",
              "      <td>-0.085913</td>\n",
              "      <td>0.039218</td>\n",
              "      <td>0.009100</td>\n",
              "      <td>1.000000</td>\n",
              "      <td>-0.152968</td>\n",
              "    </tr>\n",
              "    <tr>\n",
              "      <th>default</th>\n",
              "      <td>0.211794</td>\n",
              "      <td>0.165055</td>\n",
              "      <td>-0.089643</td>\n",
              "      <td>0.485799</td>\n",
              "      <td>-0.041925</td>\n",
              "      <td>-0.157163</td>\n",
              "      <td>-0.152968</td>\n",
              "      <td>1.000000</td>\n",
              "    </tr>\n",
              "  </tbody>\n",
              "</table>\n",
              "</div>"
            ],
            "text/plain": [
              "                          Lama_Cicilan  ...   default\n",
              "Lama_Cicilan                  1.000000  ...  0.211794\n",
              "Jumlah_Pinjaman               0.618087  ...  0.165055\n",
              "Usia                         -0.036513  ... -0.089643\n",
              "SLIK_Outstanding              0.072043  ...  0.485799\n",
              "API_CreditScore_Vendor_A     -0.056062  ... -0.041925\n",
              "API_CreditScore_Vendor_B     -0.052585  ... -0.157163\n",
              "Device_Apps_Installed        -0.019229  ... -0.152968\n",
              "default                       0.211794  ...  1.000000\n",
              "\n",
              "[8 rows x 8 columns]"
            ]
          },
          "metadata": {},
          "execution_count": 65
        }
      ]
    },
    {
      "cell_type": "code",
      "metadata": {
        "colab": {
          "base_uri": "https://localhost:8080/",
          "height": 408
        },
        "id": "L1bmRBmC8B9g",
        "outputId": "a7f67ade-22b2-4cf2-ca0b-4941cb356a4b"
      },
      "source": [
        "# Korelasi secara visualisasi\n",
        "sns.heatmap(corr, xticklabels=corr.columns.values, yticklabels=corr.columns.values)"
      ],
      "execution_count": 66,
      "outputs": [
        {
          "output_type": "execute_result",
          "data": {
            "text/plain": [
              "<matplotlib.axes._subplots.AxesSubplot at 0x7fb5db075950>"
            ]
          },
          "metadata": {},
          "execution_count": 66
        },
        {
          "output_type": "display_data",
          "data": {
            "image/png": "[encoded data removed]",
            "text/plain": [
              "<Figure size 432x288 with 2 Axes>"
            ]
          },
          "metadata": {
            "needs_background": "light"
          }
        }
      ]
    }
  ]
}