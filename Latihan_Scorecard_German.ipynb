{
  "nbformat": 4,
  "nbformat_minor": 0,
  "metadata": {
    "colab": {
      "name": "Bab 2 - Model Score Kredit dengan Python.ipynb",
      "provenance": [],
      "include_colab_link": true
    },
    "kernelspec": {
      "name": "python3",
      "display_name": "Python 3"
    },
    "language_info": {
      "name": "python"
    }
  },
  "cells": [
    {
      "cell_type": "markdown",
      "metadata": {
        "id": "view-in-github",
        "colab_type": "text"
      },
      "source": [
        "<a href=\"https://colab.research.google.com/github/IndraLukasTjahaja/Digital_Credit_Risk/blob/main/Latihan_Scorecard_German.ipynb\" target=\"_parent\"><img src=\"https://colab.research.google.com/assets/colab-badge.svg\" alt=\"Open In Colab\"/></a>"
      ]
    },
    {
      "cell_type": "markdown",
      "metadata": {
        "id": "cY2cb6kM055R"
      },
      "source": [
        "# Persiapan"
      ]
    },
    {
      "cell_type": "code",
      "metadata": {
        "id": "GlebNLne06za",
        "colab": {
          "base_uri": "https://localhost:8080/"
        },
        "outputId": "c108db2e-3145-46b9-f19d-14281aaa1f2b"
      },
      "source": [
        "# Memperbarui Library\n",
        "!pip install scikit-learn --upgrade\n",
        "\n",
        "import sklearn as skl\n",
        "print(skl. __version__) \n",
        "\n",
        "# Lalu restart ulang runtime nya"
      ],
      "execution_count": null,
      "outputs": [
        {
          "output_type": "stream",
          "name": "stdout",
          "text": [
            "Requirement already satisfied: scikit-learn in /usr/local/lib/python3.7/dist-packages (1.0.1)\n",
            "Requirement already satisfied: joblib>=0.11 in /usr/local/lib/python3.7/dist-packages (from scikit-learn) (1.1.0)\n",
            "Requirement already satisfied: threadpoolctl>=2.0.0 in /usr/local/lib/python3.7/dist-packages (from scikit-learn) (3.0.0)\n",
            "Requirement already satisfied: scipy>=1.1.0 in /usr/local/lib/python3.7/dist-packages (from scikit-learn) (1.4.1)\n",
            "Requirement already satisfied: numpy>=1.14.6 in /usr/local/lib/python3.7/dist-packages (from scikit-learn) (1.19.5)\n",
            "1.0.1\n"
          ]
        }
      ]
    },
    {
      "cell_type": "markdown",
      "metadata": {
        "id": "EDZ9tBVB9ziI"
      },
      "source": [
        "# Membaca Data"
      ]
    },
    {
      "cell_type": "markdown",
      "metadata": {
        "id": "63e2vWzFg-h7"
      },
      "source": [
        "## 2.3.2.1 Persiapan data dan impor ke Python\n",
        "\n",
        "Impor data yang akan digunakan untuk membuat model"
      ]
    },
    {
      "cell_type": "code",
      "metadata": {
        "id": "X4yjdoBnl9Xv"
      },
      "source": [
        "# library panda untuk menggunakan data frame\n",
        "import pandas as pd\n",
        "\n",
        "# Impor data dari excel xls ke Python\n",
        "# Pembaca dapat langsung menunjuk kepada file excel yang terletak di website pendamping buku ini\n",
        "# atau mengunduh terlebih dahulu dan menunjuk ke file excel di lokasi hard drive\n",
        "# contoh: df = pd.read_excel('C:\\User\\pembaca\\downloads\\Credit_Scoring_Dataset.xlsx')\n",
        "\n",
        "df = pd.read_excel('https://github.com/IndraLukasTjahaja/Digital_Credit_Risk/blob/main/Dataset/german_credit_easy.xlsx?raw=true')"
      ],
      "execution_count": 33,
      "outputs": []
    },
    {
      "cell_type": "markdown",
      "metadata": {
        "id": "V3eszqe1fhP_"
      },
      "source": [
        "## # 2.3.2.3 Struktur data"
      ]
    },
    {
      "cell_type": "code",
      "metadata": {
        "colab": {
          "base_uri": "https://localhost:8080/",
          "height": 981
        },
        "id": "xDekPk8lmZ3N",
        "outputId": "ed8e5efd-d57b-41b5-f867-ca82174ff741"
      },
      "source": [
        "# Melihat sample dari dataset\n",
        "df.head(125) # Menampilkan 10 baris teratas dari dataframe df"
      ],
      "execution_count": 34,
      "outputs": [
        {
          "output_type": "execute_result",
          "data": {
            "text/html": [
              "<div>\n",
              "<style scoped>\n",
              "    .dataframe tbody tr th:only-of-type {\n",
              "        vertical-align: middle;\n",
              "    }\n",
              "\n",
              "    .dataframe tbody tr th {\n",
              "        vertical-align: top;\n",
              "    }\n",
              "\n",
              "    .dataframe thead th {\n",
              "        text-align: right;\n",
              "    }\n",
              "</style>\n",
              "<table border=\"1\" class=\"dataframe\">\n",
              "  <thead>\n",
              "    <tr style=\"text-align: right;\">\n",
              "      <th></th>\n",
              "      <th>ID</th>\n",
              "      <th>default</th>\n",
              "      <th>account_check_status</th>\n",
              "      <th>duration_in_month</th>\n",
              "      <th>credit_history</th>\n",
              "      <th>purpose</th>\n",
              "      <th>credit_amount</th>\n",
              "      <th>savings</th>\n",
              "      <th>present_emp_since</th>\n",
              "      <th>installment_as_income_perc</th>\n",
              "      <th>personal_status_sex</th>\n",
              "      <th>other_debtors</th>\n",
              "      <th>present_res_since</th>\n",
              "      <th>property</th>\n",
              "      <th>age</th>\n",
              "      <th>other_installment_plans</th>\n",
              "      <th>housing</th>\n",
              "      <th>credits_this_bank</th>\n",
              "      <th>job</th>\n",
              "      <th>people_under_maintenance</th>\n",
              "      <th>telephone</th>\n",
              "      <th>foreign_worker</th>\n",
              "    </tr>\n",
              "  </thead>\n",
              "  <tbody>\n",
              "    <tr>\n",
              "      <th>0</th>\n",
              "      <td>ABC0001</td>\n",
              "      <td>0</td>\n",
              "      <td>&lt; 0 DM</td>\n",
              "      <td>6</td>\n",
              "      <td>critical account/ other credits existing (not ...</td>\n",
              "      <td>domestic appliances</td>\n",
              "      <td>1169</td>\n",
              "      <td>unknown/ no savings account</td>\n",
              "      <td>.. &gt;= 7 years</td>\n",
              "      <td>4</td>\n",
              "      <td>male : single</td>\n",
              "      <td>none</td>\n",
              "      <td>4</td>\n",
              "      <td>real estate</td>\n",
              "      <td>67</td>\n",
              "      <td>none</td>\n",
              "      <td>own</td>\n",
              "      <td>2</td>\n",
              "      <td>skilled employee / official</td>\n",
              "      <td>1</td>\n",
              "      <td>yes, registered under the customers name</td>\n",
              "      <td>yes</td>\n",
              "    </tr>\n",
              "    <tr>\n",
              "      <th>1</th>\n",
              "      <td>ABC0002</td>\n",
              "      <td>1</td>\n",
              "      <td>0 &lt;= ... &lt; 200 DM</td>\n",
              "      <td>48</td>\n",
              "      <td>existing credits paid back duly till now</td>\n",
              "      <td>domestic appliances</td>\n",
              "      <td>5951</td>\n",
              "      <td>... &lt; 100 DM</td>\n",
              "      <td>1 &lt;= ... &lt; 4 years</td>\n",
              "      <td>2</td>\n",
              "      <td>female : divorced/separated/married</td>\n",
              "      <td>none</td>\n",
              "      <td>2</td>\n",
              "      <td>real estate</td>\n",
              "      <td>22</td>\n",
              "      <td>none</td>\n",
              "      <td>own</td>\n",
              "      <td>1</td>\n",
              "      <td>skilled employee / official</td>\n",
              "      <td>1</td>\n",
              "      <td>none</td>\n",
              "      <td>yes</td>\n",
              "    </tr>\n",
              "    <tr>\n",
              "      <th>2</th>\n",
              "      <td>ABC0003</td>\n",
              "      <td>0</td>\n",
              "      <td>no checking account</td>\n",
              "      <td>12</td>\n",
              "      <td>critical account/ other credits existing (not ...</td>\n",
              "      <td>(vacation - does not exist?)</td>\n",
              "      <td>2096</td>\n",
              "      <td>... &lt; 100 DM</td>\n",
              "      <td>4 &lt;= ... &lt; 7 years</td>\n",
              "      <td>2</td>\n",
              "      <td>male : single</td>\n",
              "      <td>none</td>\n",
              "      <td>3</td>\n",
              "      <td>real estate</td>\n",
              "      <td>49</td>\n",
              "      <td>none</td>\n",
              "      <td>own</td>\n",
              "      <td>1</td>\n",
              "      <td>unskilled - resident</td>\n",
              "      <td>2</td>\n",
              "      <td>none</td>\n",
              "      <td>yes</td>\n",
              "    </tr>\n",
              "    <tr>\n",
              "      <th>3</th>\n",
              "      <td>ABC0004</td>\n",
              "      <td>0</td>\n",
              "      <td>&lt; 0 DM</td>\n",
              "      <td>42</td>\n",
              "      <td>existing credits paid back duly till now</td>\n",
              "      <td>radio/television</td>\n",
              "      <td>7882</td>\n",
              "      <td>... &lt; 100 DM</td>\n",
              "      <td>4 &lt;= ... &lt; 7 years</td>\n",
              "      <td>2</td>\n",
              "      <td>male : single</td>\n",
              "      <td>guarantor</td>\n",
              "      <td>4</td>\n",
              "      <td>if not A121 : building society savings agreeme...</td>\n",
              "      <td>45</td>\n",
              "      <td>none</td>\n",
              "      <td>for free</td>\n",
              "      <td>1</td>\n",
              "      <td>skilled employee / official</td>\n",
              "      <td>2</td>\n",
              "      <td>none</td>\n",
              "      <td>yes</td>\n",
              "    </tr>\n",
              "    <tr>\n",
              "      <th>4</th>\n",
              "      <td>ABC0005</td>\n",
              "      <td>1</td>\n",
              "      <td>&lt; 0 DM</td>\n",
              "      <td>24</td>\n",
              "      <td>delay in paying off in the past</td>\n",
              "      <td>car (new)</td>\n",
              "      <td>4870</td>\n",
              "      <td>... &lt; 100 DM</td>\n",
              "      <td>1 &lt;= ... &lt; 4 years</td>\n",
              "      <td>3</td>\n",
              "      <td>male : single</td>\n",
              "      <td>none</td>\n",
              "      <td>4</td>\n",
              "      <td>unknown / no property</td>\n",
              "      <td>53</td>\n",
              "      <td>none</td>\n",
              "      <td>for free</td>\n",
              "      <td>2</td>\n",
              "      <td>skilled employee / official</td>\n",
              "      <td>2</td>\n",
              "      <td>none</td>\n",
              "      <td>yes</td>\n",
              "    </tr>\n",
              "    <tr>\n",
              "      <th>...</th>\n",
              "      <td>...</td>\n",
              "      <td>...</td>\n",
              "      <td>...</td>\n",
              "      <td>...</td>\n",
              "      <td>...</td>\n",
              "      <td>...</td>\n",
              "      <td>...</td>\n",
              "      <td>...</td>\n",
              "      <td>...</td>\n",
              "      <td>...</td>\n",
              "      <td>...</td>\n",
              "      <td>...</td>\n",
              "      <td>...</td>\n",
              "      <td>...</td>\n",
              "      <td>...</td>\n",
              "      <td>...</td>\n",
              "      <td>...</td>\n",
              "      <td>...</td>\n",
              "      <td>...</td>\n",
              "      <td>...</td>\n",
              "      <td>...</td>\n",
              "      <td>...</td>\n",
              "    </tr>\n",
              "    <tr>\n",
              "      <th>120</th>\n",
              "      <td>ABC0121</td>\n",
              "      <td>1</td>\n",
              "      <td>&lt; 0 DM</td>\n",
              "      <td>21</td>\n",
              "      <td>existing credits paid back duly till now</td>\n",
              "      <td>domestic appliances</td>\n",
              "      <td>1835</td>\n",
              "      <td>... &lt; 100 DM</td>\n",
              "      <td>1 &lt;= ... &lt; 4 years</td>\n",
              "      <td>3</td>\n",
              "      <td>female : divorced/separated/married</td>\n",
              "      <td>none</td>\n",
              "      <td>2</td>\n",
              "      <td>real estate</td>\n",
              "      <td>25</td>\n",
              "      <td>none</td>\n",
              "      <td>own</td>\n",
              "      <td>2</td>\n",
              "      <td>skilled employee / official</td>\n",
              "      <td>1</td>\n",
              "      <td>yes, registered under the customers name</td>\n",
              "      <td>yes</td>\n",
              "    </tr>\n",
              "    <tr>\n",
              "      <th>121</th>\n",
              "      <td>ABC0122</td>\n",
              "      <td>0</td>\n",
              "      <td>no checking account</td>\n",
              "      <td>24</td>\n",
              "      <td>critical account/ other credits existing (not ...</td>\n",
              "      <td>car (used)</td>\n",
              "      <td>3868</td>\n",
              "      <td>... &lt; 100 DM</td>\n",
              "      <td>.. &gt;= 7 years</td>\n",
              "      <td>4</td>\n",
              "      <td>female : divorced/separated/married</td>\n",
              "      <td>none</td>\n",
              "      <td>2</td>\n",
              "      <td>if not A121/A122 : car or other, not in attrib...</td>\n",
              "      <td>41</td>\n",
              "      <td>none</td>\n",
              "      <td>rent</td>\n",
              "      <td>2</td>\n",
              "      <td>management/ self-employed/ highly qualified em...</td>\n",
              "      <td>1</td>\n",
              "      <td>yes, registered under the customers name</td>\n",
              "      <td>yes</td>\n",
              "    </tr>\n",
              "    <tr>\n",
              "      <th>122</th>\n",
              "      <td>ABC0123</td>\n",
              "      <td>0</td>\n",
              "      <td>no checking account</td>\n",
              "      <td>12</td>\n",
              "      <td>existing credits paid back duly till now</td>\n",
              "      <td>radio/television</td>\n",
              "      <td>1768</td>\n",
              "      <td>... &lt; 100 DM</td>\n",
              "      <td>1 &lt;= ... &lt; 4 years</td>\n",
              "      <td>3</td>\n",
              "      <td>male : single</td>\n",
              "      <td>none</td>\n",
              "      <td>2</td>\n",
              "      <td>real estate</td>\n",
              "      <td>24</td>\n",
              "      <td>none</td>\n",
              "      <td>rent</td>\n",
              "      <td>1</td>\n",
              "      <td>unskilled - resident</td>\n",
              "      <td>1</td>\n",
              "      <td>none</td>\n",
              "      <td>yes</td>\n",
              "    </tr>\n",
              "    <tr>\n",
              "      <th>123</th>\n",
              "      <td>ABC0124</td>\n",
              "      <td>0</td>\n",
              "      <td>&gt;= 200 DM / salary assignments for at least 1 ...</td>\n",
              "      <td>10</td>\n",
              "      <td>critical account/ other credits existing (not ...</td>\n",
              "      <td>car (new)</td>\n",
              "      <td>781</td>\n",
              "      <td>... &lt; 100 DM</td>\n",
              "      <td>.. &gt;= 7 years</td>\n",
              "      <td>4</td>\n",
              "      <td>male : single</td>\n",
              "      <td>none</td>\n",
              "      <td>4</td>\n",
              "      <td>unknown / no property</td>\n",
              "      <td>63</td>\n",
              "      <td>none</td>\n",
              "      <td>for free</td>\n",
              "      <td>2</td>\n",
              "      <td>skilled employee / official</td>\n",
              "      <td>1</td>\n",
              "      <td>yes, registered under the customers name</td>\n",
              "      <td>yes</td>\n",
              "    </tr>\n",
              "    <tr>\n",
              "      <th>124</th>\n",
              "      <td>ABC0125</td>\n",
              "      <td>1</td>\n",
              "      <td>0 &lt;= ... &lt; 200 DM</td>\n",
              "      <td>18</td>\n",
              "      <td>existing credits paid back duly till now</td>\n",
              "      <td>radio/television</td>\n",
              "      <td>1924</td>\n",
              "      <td>unknown/ no savings account</td>\n",
              "      <td>... &lt; 1 year</td>\n",
              "      <td>4</td>\n",
              "      <td>female : divorced/separated/married</td>\n",
              "      <td>none</td>\n",
              "      <td>3</td>\n",
              "      <td>real estate</td>\n",
              "      <td>27</td>\n",
              "      <td>none</td>\n",
              "      <td>rent</td>\n",
              "      <td>1</td>\n",
              "      <td>skilled employee / official</td>\n",
              "      <td>1</td>\n",
              "      <td>none</td>\n",
              "      <td>yes</td>\n",
              "    </tr>\n",
              "  </tbody>\n",
              "</table>\n",
              "<p>125 rows × 22 columns</p>\n",
              "</div>"
            ],
            "text/plain": [
              "          ID  default  ...                                  telephone  foreign_worker\n",
              "0    ABC0001        0  ...  yes, registered under the customers name              yes\n",
              "1    ABC0002        1  ...                                       none             yes\n",
              "2    ABC0003        0  ...                                       none             yes\n",
              "3    ABC0004        0  ...                                       none             yes\n",
              "4    ABC0005        1  ...                                       none             yes\n",
              "..       ...      ...  ...                                        ...             ...\n",
              "120  ABC0121        1  ...  yes, registered under the customers name              yes\n",
              "121  ABC0122        0  ...  yes, registered under the customers name              yes\n",
              "122  ABC0123        0  ...                                       none             yes\n",
              "123  ABC0124        0  ...  yes, registered under the customers name              yes\n",
              "124  ABC0125        1  ...                                       none             yes\n",
              "\n",
              "[125 rows x 22 columns]"
            ]
          },
          "metadata": {},
          "execution_count": 34
        }
      ]
    },
    {
      "cell_type": "code",
      "metadata": {
        "colab": {
          "base_uri": "https://localhost:8080/"
        },
        "id": "GrGQd7ePjIka",
        "outputId": "a1d9fbb6-b9d5-49a9-a26a-2542ff27638e"
      },
      "source": [
        "# Melihat penjelasan singkat dan tipe data\n",
        "df.info()"
      ],
      "execution_count": 35,
      "outputs": [
        {
          "output_type": "stream",
          "name": "stdout",
          "text": [
            "<class 'pandas.core.frame.DataFrame'>\n",
            "RangeIndex: 1000 entries, 0 to 999\n",
            "Data columns (total 22 columns):\n",
            " #   Column                      Non-Null Count  Dtype \n",
            "---  ------                      --------------  ----- \n",
            " 0   ID                          1000 non-null   object\n",
            " 1   default                     1000 non-null   int64 \n",
            " 2   account_check_status        1000 non-null   object\n",
            " 3   duration_in_month           1000 non-null   int64 \n",
            " 4   credit_history              1000 non-null   object\n",
            " 5   purpose                     1000 non-null   object\n",
            " 6   credit_amount               1000 non-null   int64 \n",
            " 7   savings                     1000 non-null   object\n",
            " 8   present_emp_since           1000 non-null   object\n",
            " 9   installment_as_income_perc  1000 non-null   int64 \n",
            " 10  personal_status_sex         1000 non-null   object\n",
            " 11  other_debtors               1000 non-null   object\n",
            " 12  present_res_since           1000 non-null   int64 \n",
            " 13  property                    1000 non-null   object\n",
            " 14  age                         1000 non-null   int64 \n",
            " 15  other_installment_plans     1000 non-null   object\n",
            " 16  housing                     1000 non-null   object\n",
            " 17  credits_this_bank           1000 non-null   int64 \n",
            " 18  job                         1000 non-null   object\n",
            " 19  people_under_maintenance    1000 non-null   int64 \n",
            " 20  telephone                   1000 non-null   object\n",
            " 21  foreign_worker              1000 non-null   object\n",
            "dtypes: int64(8), object(14)\n",
            "memory usage: 172.0+ KB\n"
          ]
        }
      ]
    },
    {
      "cell_type": "markdown",
      "source": [
        "## Mengubah Tipe Data"
      ],
      "metadata": {
        "id": "jaMRL028yjvE"
      }
    },
    {
      "cell_type": "code",
      "source": [
        "df['present_emp_since'] = df.present_emp_since.astype('object')\n",
        "df['present_res_since'] = df.present_res_since.astype('object')\n",
        "df['people_under_maintenance'] = df.people_under_maintenance.astype('object')\n",
        "df['credits_this_bank'] = df.credits_this_bank.astype('object')\n",
        "df['installment_as_income_perc'] = df.installment_as_income_perc.astype('object')"
      ],
      "metadata": {
        "id": "uJFCf5bpylrL"
      },
      "execution_count": 36,
      "outputs": []
    },
    {
      "cell_type": "markdown",
      "metadata": {
        "id": "r2dLfIxig1hP"
      },
      "source": [
        "# Missing Data Treatment (Apa yang harus dilakukan terhadap data yang kosong?)"
      ]
    },
    {
      "cell_type": "markdown",
      "metadata": {
        "id": "12H53azahbxl"
      },
      "source": [
        "## # 2.3.2.5.4.2 Tidak menggunakan baris data yang kosong (Drop Data)\n"
      ]
    },
    {
      "cell_type": "code",
      "metadata": {
        "id": "kX5J6yALYy48"
      },
      "source": [
        "# Menggunakan fungsi dropna() untuk menghapus semua baris yang memiliki data kosong\n",
        "df_pembersihan_2 = df.dropna()"
      ],
      "execution_count": 37,
      "outputs": []
    },
    {
      "cell_type": "code",
      "metadata": {
        "id": "Fsj2A6lYZDgj"
      },
      "source": [
        "# Melanjutkan proses dengan asumsi bahwa baris data yang kosong tidak signifikan dan tidak akan\n",
        "# terjadi baris data yang kosong lagi\n",
        "\n",
        "df_clean = df_pembersihan_2"
      ],
      "execution_count": 38,
      "outputs": []
    },
    {
      "cell_type": "code",
      "metadata": {
        "id": "NvdzMWh7H4Eo"
      },
      "source": [
        "# Menghapus indeks dari data yang telah dibuang\n",
        "# Langkah ini harus dilakukan karena penghapusan baris telah dilakukan, tapi indeks belum direset\n",
        "# Pembaca dapat verifikasi perbedaan total indeks sebelum dan sesudah reset, dengan menggunakan info\n",
        "# Jika reset tidak dilakukan, bisa terjadi kesalahan data di langkah-langkah berikutnya\n",
        "\n",
        "df_clean = df_clean.reset_index(drop=True)"
      ],
      "execution_count": 39,
      "outputs": []
    },
    {
      "cell_type": "markdown",
      "metadata": {
        "id": "ynlPrujPhrrt"
      },
      "source": [
        "# Data Eksplorasi (Explanatory Data Analysis atau EDA)"
      ]
    },
    {
      "cell_type": "markdown",
      "metadata": {
        "id": "S-MbaFDAhxHn"
      },
      "source": [
        "## 2.3.2.5.5.1 EDA Analisa dasar variabel untuk default"
      ]
    },
    {
      "cell_type": "code",
      "metadata": {
        "id": "qW5t7UwfES8v",
        "outputId": "2a3c9297-7ab3-48cb-a330-35b0165b2cd2",
        "colab": {
          "base_uri": "https://localhost:8080/"
        }
      },
      "source": [
        "# Untuk melihat frekuensi dari variabel gagal_bayar\n",
        "print(df_clean['default'].value_counts())\n",
        "\n",
        "# Untuk melihat proporsi (dalam persentase) dari variabel gagal_bayar\n",
        "print(df_clean['default'].value_counts(normalize=True) * 100)"
      ],
      "execution_count": 16,
      "outputs": [
        {
          "output_type": "stream",
          "name": "stdout",
          "text": [
            "0    700\n",
            "1    300\n",
            "Name: default, dtype: int64\n",
            "0    70.0\n",
            "1    30.0\n",
            "Name: default, dtype: float64\n"
          ]
        }
      ]
    },
    {
      "cell_type": "markdown",
      "metadata": {
        "id": "y-XqBSpJi9eh"
      },
      "source": [
        "## 2.3.2.5.5.2 Exploratory Data Analysis untuk credit_history\n"
      ]
    },
    {
      "cell_type": "code",
      "metadata": {
        "id": "zjuNAMQGE5L6",
        "outputId": "c9acf52f-ea93-41e9-fe9b-db90958f0a14",
        "colab": {
          "base_uri": "https://localhost:8080/"
        }
      },
      "source": [
        "# Untuk melihat frekuensi dari variabel credit_history\n",
        "print(df_clean['credit_history'].value_counts())\n",
        "\n",
        "# Untuk melihat proporsi (dalam persentase) dari variabel credit_history\n",
        "print(df_clean['credit_history'].value_counts(normalize=True) * 100)"
      ],
      "execution_count": 17,
      "outputs": [
        {
          "output_type": "stream",
          "name": "stdout",
          "text": [
            "existing credits paid back duly till now                       530\n",
            "critical account/ other credits existing (not at this bank)    293\n",
            "delay in paying off in the past                                 88\n",
            "all credits at this bank paid back duly                         49\n",
            "no credits taken/ all credits paid back duly                    40\n",
            "Name: credit_history, dtype: int64\n",
            "existing credits paid back duly till now                       53.0\n",
            "critical account/ other credits existing (not at this bank)    29.3\n",
            "delay in paying off in the past                                 8.8\n",
            "all credits at this bank paid back duly                         4.9\n",
            "no credits taken/ all credits paid back duly                    4.0\n",
            "Name: credit_history, dtype: float64\n"
          ]
        }
      ]
    },
    {
      "cell_type": "code",
      "metadata": {
        "id": "zESKaaoCOZO3",
        "outputId": "bb0b6a79-2f91-4223-b5a3-47d188511e44",
        "colab": {
          "base_uri": "https://localhost:8080/"
        }
      },
      "source": [
        "# Berapa banyak yang gagal bayar dari masing-masing nilai SLIK credit_history\n",
        "print(pd.crosstab(df_clean['credit_history'], df_clean['default']))\n",
        "\n",
        "# dalam proporsi persentase\n",
        "print(pd.crosstab(df_clean['credit_history'],df_clean['default'],normalize='index',)*100)"
      ],
      "execution_count": 18,
      "outputs": [
        {
          "output_type": "stream",
          "name": "stdout",
          "text": [
            "default                                               0    1\n",
            "credit_history                                              \n",
            "all credits at this bank paid back duly              21   28\n",
            "critical account/ other credits existing (not a...  243   50\n",
            "delay in paying off in the past                      60   28\n",
            "existing credits paid back duly till now            361  169\n",
            "no credits taken/ all credits paid back duly         15   25\n",
            "default                                                     0          1\n",
            "credit_history                                                          \n",
            "all credits at this bank paid back duly             42.857143  57.142857\n",
            "critical account/ other credits existing (not a...  82.935154  17.064846\n",
            "delay in paying off in the past                     68.181818  31.818182\n",
            "existing credits paid back duly till now            68.113208  31.886792\n",
            "no credits taken/ all credits paid back duly        37.500000  62.500000\n"
          ]
        }
      ]
    },
    {
      "cell_type": "markdown",
      "metadata": {
        "id": "wHjaPO4ejaqY"
      },
      "source": [
        "## Latihan EDA untuk variabel kategori"
      ]
    },
    {
      "cell_type": "code",
      "metadata": {
        "id": "S0EttoEU8l38"
      },
      "source": [
        "# Latihan EDA untuk variabel lainnya\n",
        "# Tulis kode disini\n",
        "\n"
      ],
      "execution_count": null,
      "outputs": []
    },
    {
      "cell_type": "markdown",
      "metadata": {
        "id": "Z8LtJ3gdjdX6"
      },
      "source": [
        "## 2.3.2.5.5.3 Exploratory Data Analysis untuk Age"
      ]
    },
    {
      "cell_type": "code",
      "metadata": {
        "id": "90J2yiiUYmY-",
        "outputId": "057db133-ea7d-4441-de39-09abc557ede5",
        "colab": {
          "base_uri": "https://localhost:8080/",
          "height": 299
        }
      },
      "source": [
        "# Rangkuman statistik untuk variabel numerik Age\n",
        "print(df_clean['age'].describe())\n",
        "\n",
        "# Rangkuman statistik untuk variabel numerik Age, berdasarkan default (gagal bayar atau tidak)\n",
        "df_clean.groupby('default')['age'].describe()"
      ],
      "execution_count": 19,
      "outputs": [
        {
          "output_type": "stream",
          "name": "stdout",
          "text": [
            "count    1000.000000\n",
            "mean       35.546000\n",
            "std        11.375469\n",
            "min        19.000000\n",
            "25%        27.000000\n",
            "50%        33.000000\n",
            "75%        42.000000\n",
            "max        75.000000\n",
            "Name: age, dtype: float64\n"
          ]
        },
        {
          "output_type": "execute_result",
          "data": {
            "text/html": [
              "<div>\n",
              "<style scoped>\n",
              "    .dataframe tbody tr th:only-of-type {\n",
              "        vertical-align: middle;\n",
              "    }\n",
              "\n",
              "    .dataframe tbody tr th {\n",
              "        vertical-align: top;\n",
              "    }\n",
              "\n",
              "    .dataframe thead th {\n",
              "        text-align: right;\n",
              "    }\n",
              "</style>\n",
              "<table border=\"1\" class=\"dataframe\">\n",
              "  <thead>\n",
              "    <tr style=\"text-align: right;\">\n",
              "      <th></th>\n",
              "      <th>count</th>\n",
              "      <th>mean</th>\n",
              "      <th>std</th>\n",
              "      <th>min</th>\n",
              "      <th>25%</th>\n",
              "      <th>50%</th>\n",
              "      <th>75%</th>\n",
              "      <th>max</th>\n",
              "    </tr>\n",
              "    <tr>\n",
              "      <th>default</th>\n",
              "      <th></th>\n",
              "      <th></th>\n",
              "      <th></th>\n",
              "      <th></th>\n",
              "      <th></th>\n",
              "      <th></th>\n",
              "      <th></th>\n",
              "      <th></th>\n",
              "    </tr>\n",
              "  </thead>\n",
              "  <tbody>\n",
              "    <tr>\n",
              "      <th>0</th>\n",
              "      <td>700.0</td>\n",
              "      <td>36.224286</td>\n",
              "      <td>11.381145</td>\n",
              "      <td>19.0</td>\n",
              "      <td>27.0</td>\n",
              "      <td>34.0</td>\n",
              "      <td>42.25</td>\n",
              "      <td>75.0</td>\n",
              "    </tr>\n",
              "    <tr>\n",
              "      <th>1</th>\n",
              "      <td>300.0</td>\n",
              "      <td>33.963333</td>\n",
              "      <td>11.222379</td>\n",
              "      <td>19.0</td>\n",
              "      <td>25.0</td>\n",
              "      <td>31.0</td>\n",
              "      <td>40.00</td>\n",
              "      <td>74.0</td>\n",
              "    </tr>\n",
              "  </tbody>\n",
              "</table>\n",
              "</div>"
            ],
            "text/plain": [
              "         count       mean        std   min   25%   50%    75%   max\n",
              "default                                                            \n",
              "0        700.0  36.224286  11.381145  19.0  27.0  34.0  42.25  75.0\n",
              "1        300.0  33.963333  11.222379  19.0  25.0  31.0  40.00  74.0"
            ]
          },
          "metadata": {},
          "execution_count": 19
        }
      ]
    },
    {
      "cell_type": "code",
      "metadata": {
        "id": "V0mG8ys3aeq0",
        "outputId": "d83a48d3-5785-4ae8-a675-5f34325a9d6f",
        "colab": {
          "base_uri": "https://localhost:8080/",
          "height": 965
        }
      },
      "source": [
        "# Fungsi distplot() dari library seaborn\n",
        "# Perhatikan bahwa distribusi plot harus tidak memiliki data kosong / missing value.\n",
        "# Oleh karena itu harus menambahkan fungsi dropna() untuk secara sementara tidak\n",
        "# mengikutsertakan missing value dalam pembuatan plot distribusi\n",
        "\n",
        "import matplotlib.pyplot as plt\n",
        "import seaborn as sns\n",
        "\n",
        "fig, ax = plt.subplots(figsize=(15,15))\n",
        "sns.distplot(df_clean['age'].dropna(), ax=ax).set_title('Distribution Plot')"
      ],
      "execution_count": 20,
      "outputs": [
        {
          "output_type": "stream",
          "name": "stderr",
          "text": [
            "/usr/local/lib/python3.7/dist-packages/seaborn/distributions.py:2619: FutureWarning: `distplot` is a deprecated function and will be removed in a future version. Please adapt your code to use either `displot` (a figure-level function with similar flexibility) or `histplot` (an axes-level function for histograms).\n",
            "  warnings.warn(msg, FutureWarning)\n"
          ]
        },
        {
          "output_type": "execute_result",
          "data": {
            "text/plain": [
              "Text(0.5, 1.0, 'Distribution Plot')"
            ]
          },
          "metadata": {},
          "execution_count": 20
        },
        {
          "output_type": "display_data",
          "data": {
            "image/png": "[encoded data removed]",
            "text/plain": [
              "<Figure size 1080x1080 with 1 Axes>"
            ]
          },
          "metadata": {
            "needs_background": "light"
          }
        }
      ]
    },
    {
      "cell_type": "code",
      "source": [
        "df_clean_0 = df_clean[df_clean.default == 0]\n",
        "df_clean_1 = df_clean[df_clean.default == 1]\n",
        "fig, ax = plt.subplots(figsize=(6.4, 4.8))\n",
        "sns.distplot(df_clean_1['age'], ax=ax).set_title('Distribution Plot') \n",
        "sns.distplot(df_clean_0['age'], ax=ax).set_title('Distribution Plot')\n",
        "ax.legend(labels=[\"Default\",\"Non-Default\"])"
      ],
      "metadata": {
        "id": "GwUJu2S00OBI",
        "outputId": "f5c1debe-e59c-42c4-fbc9-9316271c98d0",
        "colab": {
          "base_uri": "https://localhost:8080/",
          "height": 446
        }
      },
      "execution_count": 21,
      "outputs": [
        {
          "output_type": "stream",
          "name": "stderr",
          "text": [
            "/usr/local/lib/python3.7/dist-packages/seaborn/distributions.py:2619: FutureWarning: `distplot` is a deprecated function and will be removed in a future version. Please adapt your code to use either `displot` (a figure-level function with similar flexibility) or `histplot` (an axes-level function for histograms).\n",
            "  warnings.warn(msg, FutureWarning)\n",
            "/usr/local/lib/python3.7/dist-packages/seaborn/distributions.py:2619: FutureWarning: `distplot` is a deprecated function and will be removed in a future version. Please adapt your code to use either `displot` (a figure-level function with similar flexibility) or `histplot` (an axes-level function for histograms).\n",
            "  warnings.warn(msg, FutureWarning)\n"
          ]
        },
        {
          "output_type": "execute_result",
          "data": {
            "text/plain": [
              "<matplotlib.legend.Legend at 0x7fa035937a50>"
            ]
          },
          "metadata": {},
          "execution_count": 21
        },
        {
          "output_type": "display_data",
          "data": {
            "image/png": "[encoded data removed]",
            "text/plain": [
              "<Figure size 460.8x345.6 with 1 Axes>"
            ]
          },
          "metadata": {
            "needs_background": "light"
          }
        }
      ]
    },
    {
      "cell_type": "code",
      "metadata": {
        "id": "K1JubColf4xI",
        "outputId": "28f88480-c2b4-461c-a71b-449762706725",
        "colab": {
          "base_uri": "https://localhost:8080/",
          "height": 373
        }
      },
      "source": [
        "# Menambahkan by di fungsi boxplot untuk membagi boxplot berdasarkan gagal_bayar\n",
        "df_clean.boxplot(by='default',column=['age'])"
      ],
      "execution_count": 22,
      "outputs": [
        {
          "output_type": "stream",
          "name": "stderr",
          "text": [
            "/usr/local/lib/python3.7/dist-packages/numpy/core/_asarray.py:83: VisibleDeprecationWarning: Creating an ndarray from ragged nested sequences (which is a list-or-tuple of lists-or-tuples-or ndarrays with different lengths or shapes) is deprecated. If you meant to do this, you must specify 'dtype=object' when creating the ndarray\n",
            "  return array(a, dtype, copy=False, order=order)\n"
          ]
        },
        {
          "output_type": "execute_result",
          "data": {
            "text/plain": [
              "<matplotlib.axes._subplots.AxesSubplot at 0x7fa035821910>"
            ]
          },
          "metadata": {},
          "execution_count": 22
        },
        {
          "output_type": "display_data",
          "data": {
            "image/png": "[encoded data removed]",
            "text/plain": [
              "<Figure size 432x288 with 1 Axes>"
            ]
          },
          "metadata": {
            "needs_background": "light"
          }
        }
      ]
    },
    {
      "cell_type": "markdown",
      "metadata": {
        "id": "VRrUeXK_kdnC"
      },
      "source": [
        "## Latihan EDA untuk variabel Numerik"
      ]
    },
    {
      "cell_type": "code",
      "metadata": {
        "id": "AtuTbwnrTjmX"
      },
      "source": [
        "# Latihan untuk rangkuman analisa dan visualisasi untuk variabel numerik lainnya\n",
        "# Tulis kode disini\n",
        "\n"
      ],
      "execution_count": null,
      "outputs": []
    },
    {
      "cell_type": "markdown",
      "metadata": {
        "id": "mLdW1nh6lSri"
      },
      "source": [
        "## Korelasi"
      ]
    },
    {
      "cell_type": "code",
      "metadata": {
        "id": "HNjGTaQp_BaM",
        "outputId": "678ac971-cc04-42f2-8098-0dd144c2fdc2",
        "colab": {
          "base_uri": "https://localhost:8080/"
        }
      },
      "source": [
        "# Menghitung korelasi antara variabel Usia dengan default\n",
        "print(df_clean['default'].corr(df_clean['age']))"
      ],
      "execution_count": 23,
      "outputs": [
        {
          "output_type": "stream",
          "name": "stdout",
          "text": [
            "-0.09112740931949889\n"
          ]
        }
      ]
    },
    {
      "cell_type": "code",
      "metadata": {
        "id": "84joxnCJCThc",
        "outputId": "ff708c68-7752-4704-a19f-ae9a71509544",
        "colab": {
          "base_uri": "https://localhost:8080/"
        }
      },
      "source": [
        "from scipy import stats\n",
        "\n",
        "# Uji coba hipotesis apakah ada perbedaan nilai rata-rata variabel \n",
        "# Usia dengan default (gagal bayar dan tidak gagal bayar)\n",
        "stats.ttest_ind( df_clean[df_clean.default == 0].age,\n",
        "             \tdf_clean[df_clean.default == 1].age, nan_policy='omit')"
      ],
      "execution_count": 24,
      "outputs": [
        {
          "output_type": "execute_result",
          "data": {
            "text/plain": [
              "Ttest_indResult(statistic=2.890846677564194, pvalue=0.003925339398276282)"
            ]
          },
          "metadata": {},
          "execution_count": 24
        }
      ]
    },
    {
      "cell_type": "markdown",
      "metadata": {
        "id": "wm-kQAHrlfH8"
      },
      "source": [
        "## 2.3.2.5.6 Memahami korelasi antar variabel dan dengan target"
      ]
    },
    {
      "cell_type": "code",
      "metadata": {
        "id": "zeTbQamD1XoF",
        "outputId": "4e90dfea-c8d0-4d9a-d24d-b4ea3b3e0bd7",
        "colab": {
          "base_uri": "https://localhost:8080/",
          "height": 289
        }
      },
      "source": [
        "# Korelasi Antar semua Variabel numerik\n",
        "import seaborn as sns\n",
        "corr = df_clean.corr()\n",
        "corr"
      ],
      "execution_count": 25,
      "outputs": [
        {
          "output_type": "execute_result",
          "data": {
            "text/html": [
              "<div>\n",
              "<style scoped>\n",
              "    .dataframe tbody tr th:only-of-type {\n",
              "        vertical-align: middle;\n",
              "    }\n",
              "\n",
              "    .dataframe tbody tr th {\n",
              "        vertical-align: top;\n",
              "    }\n",
              "\n",
              "    .dataframe thead th {\n",
              "        text-align: right;\n",
              "    }\n",
              "</style>\n",
              "<table border=\"1\" class=\"dataframe\">\n",
              "  <thead>\n",
              "    <tr style=\"text-align: right;\">\n",
              "      <th></th>\n",
              "      <th>default</th>\n",
              "      <th>duration_in_month</th>\n",
              "      <th>credit_amount</th>\n",
              "      <th>installment_as_income_perc</th>\n",
              "      <th>age</th>\n",
              "      <th>credits_this_bank</th>\n",
              "      <th>people_under_maintenance</th>\n",
              "    </tr>\n",
              "  </thead>\n",
              "  <tbody>\n",
              "    <tr>\n",
              "      <th>default</th>\n",
              "      <td>1.000000</td>\n",
              "      <td>0.214927</td>\n",
              "      <td>0.154739</td>\n",
              "      <td>0.072404</td>\n",
              "      <td>-0.091127</td>\n",
              "      <td>-0.045732</td>\n",
              "      <td>-0.003015</td>\n",
              "    </tr>\n",
              "    <tr>\n",
              "      <th>duration_in_month</th>\n",
              "      <td>0.214927</td>\n",
              "      <td>1.000000</td>\n",
              "      <td>0.624984</td>\n",
              "      <td>0.074749</td>\n",
              "      <td>-0.036136</td>\n",
              "      <td>-0.011284</td>\n",
              "      <td>-0.023834</td>\n",
              "    </tr>\n",
              "    <tr>\n",
              "      <th>credit_amount</th>\n",
              "      <td>0.154739</td>\n",
              "      <td>0.624984</td>\n",
              "      <td>1.000000</td>\n",
              "      <td>-0.271316</td>\n",
              "      <td>0.032716</td>\n",
              "      <td>0.020795</td>\n",
              "      <td>0.017142</td>\n",
              "    </tr>\n",
              "    <tr>\n",
              "      <th>installment_as_income_perc</th>\n",
              "      <td>0.072404</td>\n",
              "      <td>0.074749</td>\n",
              "      <td>-0.271316</td>\n",
              "      <td>1.000000</td>\n",
              "      <td>0.058266</td>\n",
              "      <td>0.021669</td>\n",
              "      <td>-0.071207</td>\n",
              "    </tr>\n",
              "    <tr>\n",
              "      <th>age</th>\n",
              "      <td>-0.091127</td>\n",
              "      <td>-0.036136</td>\n",
              "      <td>0.032716</td>\n",
              "      <td>0.058266</td>\n",
              "      <td>1.000000</td>\n",
              "      <td>0.149254</td>\n",
              "      <td>0.118201</td>\n",
              "    </tr>\n",
              "    <tr>\n",
              "      <th>credits_this_bank</th>\n",
              "      <td>-0.045732</td>\n",
              "      <td>-0.011284</td>\n",
              "      <td>0.020795</td>\n",
              "      <td>0.021669</td>\n",
              "      <td>0.149254</td>\n",
              "      <td>1.000000</td>\n",
              "      <td>0.109667</td>\n",
              "    </tr>\n",
              "    <tr>\n",
              "      <th>people_under_maintenance</th>\n",
              "      <td>-0.003015</td>\n",
              "      <td>-0.023834</td>\n",
              "      <td>0.017142</td>\n",
              "      <td>-0.071207</td>\n",
              "      <td>0.118201</td>\n",
              "      <td>0.109667</td>\n",
              "      <td>1.000000</td>\n",
              "    </tr>\n",
              "  </tbody>\n",
              "</table>\n",
              "</div>"
            ],
            "text/plain": [
              "                             default  ...  people_under_maintenance\n",
              "default                     1.000000  ...                 -0.003015\n",
              "duration_in_month           0.214927  ...                 -0.023834\n",
              "credit_amount               0.154739  ...                  0.017142\n",
              "installment_as_income_perc  0.072404  ...                 -0.071207\n",
              "age                        -0.091127  ...                  0.118201\n",
              "credits_this_bank          -0.045732  ...                  0.109667\n",
              "people_under_maintenance   -0.003015  ...                  1.000000\n",
              "\n",
              "[7 rows x 7 columns]"
            ]
          },
          "metadata": {},
          "execution_count": 25
        }
      ]
    },
    {
      "cell_type": "code",
      "metadata": {
        "id": "L1bmRBmC8B9g",
        "outputId": "6d9bfe52-76a3-482d-d1d7-7e961dc19f0d",
        "colab": {
          "base_uri": "https://localhost:8080/",
          "height": 417
        }
      },
      "source": [
        "# Korelasi secara visualisasi\n",
        "sns.heatmap(corr, xticklabels=corr.columns.values, yticklabels=corr.columns.values)"
      ],
      "execution_count": 26,
      "outputs": [
        {
          "output_type": "execute_result",
          "data": {
            "text/plain": [
              "<matplotlib.axes._subplots.AxesSubplot at 0x7fa0357f4990>"
            ]
          },
          "metadata": {},
          "execution_count": 26
        },
        {
          "output_type": "display_data",
          "data": {
            "image/png": "[encoded data removed]",
            "text/plain": [
              "<Figure size 432x288 with 2 Axes>"
            ]
          },
          "metadata": {
            "needs_background": "light"
          }
        }
      ]
    },
    {
      "cell_type": "markdown",
      "metadata": {
        "id": "uPHUOv9lllM1"
      },
      "source": [
        "## Latihan Korelasi"
      ]
    },
    {
      "cell_type": "code",
      "metadata": {
        "id": "GYGvQAjevc21"
      },
      "source": [
        "# Latihan untuk korelasi untuk variabel API_CreditScore_Vendor_A dan Lama_Cicilan\n",
        "# Tulis kode disini\n",
        "# Kesimpulan yang didapatkan?\n"
      ],
      "execution_count": null,
      "outputs": []
    },
    {
      "cell_type": "code",
      "metadata": {
        "id": "iV4srE0Jyz54"
      },
      "source": [
        "# Latihan uji coba hipotesis untuk API_CreditScore_Vendor_A dan Lama_Cicilan\n",
        "# Tulis kode disini\n",
        "# Kesimpulan yang didapatkan?\n",
        "\n"
      ],
      "execution_count": null,
      "outputs": []
    },
    {
      "cell_type": "markdown",
      "metadata": {
        "id": "Fa1Y90PHlyyR"
      },
      "source": [
        "## 2.3.2.5.6.2 Memahami korelasi antar variabel independent kategori\n"
      ]
    },
    {
      "cell_type": "code",
      "metadata": {
        "id": "DINJuDJSjV3r",
        "outputId": "7bda729d-ca2c-43d5-a130-2acdf9fff236",
        "colab": {
          "base_uri": "https://localhost:8080/",
          "height": 1000
        }
      },
      "source": [
        "# Memisahkan variabel kategori dengan variabel numerik\n",
        "df_numerik = df_clean.select_dtypes(include=['float64','int64','int'])\n",
        "df_kategori = df_clean.select_dtypes(exclude = ['float64','int64','int'])\n",
        "\n",
        "# Menghapus kolom yang tidak berkaitan dengan korelasi antar variabel independent\n",
        "df_kategori.drop(columns=['ID'], inplace=True)\n",
        "\n",
        "from sklearn.feature_selection import chi2\n",
        "import numpy as np\n",
        "import pandas as pd\n",
        "import matplotlib.pyplot as plt\n",
        "import seaborn as sns\n",
        "\n",
        "df = pd.get_dummies(data = df_kategori)\n",
        "\n",
        "# Kode Python berdasarkan referensi dari https://www.analyticsvidhya.com/blog/2021/06/decoding-the-chi-square-test%E2%80%8A-%E2%80%8Ause-along-with-implementation-and-visualization/\n",
        "resultant = pd.DataFrame(data=[(0 for i in range(len(df.columns))) for i in range(len(df.columns))], \n",
        "                         columns=list(df.columns))\n",
        "resultant.set_index(pd.Index(list(df.columns)), inplace = True)\n",
        "for i in list(df.columns):\n",
        "    for j in list(df.columns):\n",
        "        if i != j:\n",
        "            chi2_val, p_val = chi2(np.array(df[i]).reshape(-1, 1), np.array(df[j]).reshape(-1, 1))\n",
        "            resultant.loc[i,j] = p_val\n",
        "print(resultant)\n",
        "\n",
        "# Untuk memudahkan membaca hasil, maka disimpan dalam bentuk csv dan didownload\n",
        "from google.colab import files\n",
        "resultant.to_csv('chi_square.csv') \n",
        "files.download('chi_square.csv')"
      ],
      "execution_count": 28,
      "outputs": [
        {
          "output_type": "stream",
          "name": "stderr",
          "text": [
            "/usr/local/lib/python3.7/dist-packages/pandas/core/frame.py:4174: SettingWithCopyWarning: \n",
            "A value is trying to be set on a copy of a slice from a DataFrame\n",
            "\n",
            "See the caveats in the documentation: https://pandas.pydata.org/pandas-docs/stable/user_guide/indexing.html#returning-a-view-versus-a-copy\n",
            "  errors=errors,\n"
          ]
        },
        {
          "output_type": "stream",
          "name": "stdout",
          "text": [
            "                                                    account_check_status_0 <= ... < 200 DM  ...  foreign_worker_yes\n",
            "account_check_status_0 <= ... < 200 DM                                        0.000000e+00  ...        1.096327e-01\n",
            "account_check_status_< 0 DM                                                   1.002773e-23  ...        1.196944e-01\n",
            "account_check_status_>= 200 DM / salary assignm...                            1.472699e-06  ...        2.652936e-01\n",
            "account_check_status_no checking account                                      2.160989e-33  ...        6.736398e-01\n",
            "credit_history_all credits at this bank paid ba...                            5.578735e-01  ...        5.383645e-01\n",
            "credit_history_critical account/ other credits ...                            1.702497e-03  ...        3.282270e-01\n",
            "credit_history_delay in paying off in the past                                6.465593e-03  ...        6.594800e-02\n",
            "credit_history_existing credits paid back duly ...                            7.368813e-01  ...        9.284895e-01\n",
            "credit_history_no credits taken/ all credits pa...                            9.836926e-03  ...        6.631477e-01\n",
            "purpose_(vacation - does not exist?)                                          8.858847e-01  ...        1.657377e-01\n",
            "purpose_business                                                              1.451090e-03  ...        1.637352e-01\n",
            "purpose_car (new)                                                             6.640705e-01  ...        1.917505e-05\n",
            "purpose_car (used)                                                            1.361443e-01  ...        3.444878e-01\n",
            "purpose_domestic appliances                                                   9.656013e-01  ...        8.970410e-02\n",
            "purpose_education                                                             1.383964e-01  ...        8.336041e-01\n",
            "purpose_furniture/equipment                                                   1.406748e-02  ...        3.951605e-01\n",
            "purpose_radio/television                                                      1.043608e-01  ...        7.837309e-01\n",
            "purpose_repairs                                                               4.240492e-01  ...        4.971294e-01\n",
            "purpose_retraining                                                            6.633928e-01  ...        5.565035e-01\n",
            "savings_.. >= 1000 DM                                                         7.232349e-01  ...        3.493054e-01\n",
            "savings_... < 100 DM                                                          3.485754e-01  ...        9.465064e-01\n",
            "savings_100 <= ... < 500 DM                                                   1.811599e-05  ...        9.214104e-01\n",
            "savings_500 <= ... < 1000 DM                                                  9.109785e-02  ...        3.743419e-01\n",
            "savings_unknown/ no savings account                                           4.810297e-01  ...        9.285415e-01\n",
            "present_emp_since_.. >= 7 years                                               6.414387e-02  ...        1.463666e-01\n",
            "present_emp_since_... < 1 year                                                1.821538e-02  ...        2.869674e-01\n",
            "present_emp_since_1 <= ... < 4 years                                          4.482870e-01  ...        3.198895e-01\n",
            "present_emp_since_4 <= ... < 7 years                                          8.904044e-01  ...        8.214282e-01\n",
            "present_emp_since_unemployed                                                  7.020195e-02  ...        1.227294e-01\n",
            "personal_status_sex_female : divorced/separated...                            7.381599e-01  ...        1.786348e-01\n",
            "personal_status_sex_male : divorced/separated                                 8.607611e-01  ...        5.242390e-01\n",
            "personal_status_sex_male : married/widowed                                    2.961225e-02  ...        1.516216e-01\n",
            "personal_status_sex_male : single                                             2.318196e-01  ...        5.375929e-01\n",
            "other_debtors_co-applicant                                                    4.748641e-01  ...        3.994350e-02\n",
            "other_debtors_guarantor                                                       1.742067e-03  ...        2.749312e-03\n",
            "other_debtors_none                                                            5.499993e-01  ...        2.485937e-01\n",
            "present_res_since_1                                                           1.122379e-01  ...        7.066519e-01\n",
            "present_res_since_2                                                           8.119007e-01  ...        4.620599e-02\n",
            "present_res_since_3                                                           2.011617e-01  ...        8.326067e-01\n",
            "present_res_since_4                                                           1.461343e-01  ...        1.015587e-01\n",
            "property_if not A121 : building society savings...                            2.727347e-01  ...        2.347866e-01\n",
            "property_if not A121/A122 : car or other, not i...                            7.390029e-01  ...        6.948430e-03\n",
            "property_real estate                                                          9.082707e-01  ...        2.546089e-03\n",
            "property_unknown / no property                                                3.111021e-01  ...        1.144108e-01\n",
            "other_installment_plans_bank                                                  1.455558e-01  ...        9.487663e-01\n",
            "other_installment_plans_none                                                  6.372415e-01  ...        7.267464e-01\n",
            "other_installment_plans_stores                                                5.888882e-01  ...        1.790111e-01\n",
            "housing_for free                                                              9.909970e-01  ...        4.164602e-02\n",
            "housing_own                                                                   9.863216e-01  ...        7.480518e-01\n",
            "housing_rent                                                                  9.796947e-01  ...        3.465949e-01\n",
            "job_management/ self-employed/ highly qualified...                            1.290669e-01  ...        1.301063e-01\n",
            "job_skilled employee / official                                               1.935804e-01  ...        3.629865e-01\n",
            "job_unemployed/ unskilled - non-resident                                      1.383964e-01  ...        1.803913e-01\n",
            "job_unskilled - resident                                                      6.098622e-01  ...        1.342174e-02\n",
            "telephone_none                                                                7.588086e-01  ...        3.087100e-02\n",
            "telephone_yes, registered under the customers n...                            7.091953e-01  ...        8.741791e-03\n",
            "foreign_worker_no                                                             6.632017e-02  ...       1.980998e-211\n",
            "foreign_worker_yes                                                            7.188981e-01  ...        0.000000e+00\n",
            "\n",
            "[58 rows x 58 columns]\n"
          ]
        },
        {
          "output_type": "display_data",
          "data": {
            "application/javascript": [
              "\n",
              "    async function download(id, filename, size) {\n",
              "      if (!google.colab.kernel.accessAllowed) {\n",
              "        return;\n",
              "      }\n",
              "      const div = document.createElement('div');\n",
              "      const label = document.createElement('label');\n",
              "      label.textContent = `Downloading \"${filename}\": `;\n",
              "      div.appendChild(label);\n",
              "      const progress = document.createElement('progress');\n",
              "      progress.max = size;\n",
              "      div.appendChild(progress);\n",
              "      document.body.appendChild(div);\n",
              "\n",
              "      const buffers = [];\n",
              "      let downloaded = 0;\n",
              "\n",
              "      const channel = await google.colab.kernel.comms.open(id);\n",
              "      // Send a message to notify the kernel that we're ready.\n",
              "      channel.send({})\n",
              "\n",
              "      for await (const message of channel.messages) {\n",
              "        // Send a message to notify the kernel that we're ready.\n",
              "        channel.send({})\n",
              "        if (message.buffers) {\n",
              "          for (const buffer of message.buffers) {\n",
              "            buffers.push(buffer);\n",
              "            downloaded += buffer.byteLength;\n",
              "            progress.value = downloaded;\n",
              "          }\n",
              "        }\n",
              "      }\n",
              "      const blob = new Blob(buffers, {type: 'application/binary'});\n",
              "      const a = document.createElement('a');\n",
              "      a.href = window.URL.createObjectURL(blob);\n",
              "      a.download = filename;\n",
              "      div.appendChild(a);\n",
              "      a.click();\n",
              "      div.remove();\n",
              "    }\n",
              "  "
            ],
            "text/plain": [
              "<IPython.core.display.Javascript object>"
            ]
          },
          "metadata": {}
        },
        {
          "output_type": "display_data",
          "data": {
            "application/javascript": [
              "download(\"download_dc8f31fe-195c-4d16-a6c9-452bb24a3875\", \"chi_square.csv\", 69330)"
            ],
            "text/plain": [
              "<IPython.core.display.Javascript object>"
            ]
          },
          "metadata": {}
        }
      ]
    },
    {
      "cell_type": "markdown",
      "metadata": {
        "id": "6Yrg5Vhw-tSS"
      },
      "source": [
        "# Modeling Scorecard dengan Library scorecardpy"
      ]
    },
    {
      "cell_type": "markdown",
      "metadata": {
        "id": "E1AjHWU5-x6T"
      },
      "source": [
        "## Instalasi library"
      ]
    },
    {
      "cell_type": "code",
      "metadata": {
        "id": "PJQvue7xRdXo",
        "outputId": "96a6c99f-b51a-4d52-ce15-3e418daa662a",
        "colab": {
          "base_uri": "https://localhost:8080/"
        }
      },
      "source": [
        "# install scorecardpy\n",
        "!pip install -q scorecardpy\n",
        "#!pip install git+git://github.com/shichenxie/scorecardpy.git"
      ],
      "execution_count": 29,
      "outputs": [
        {
          "output_type": "stream",
          "name": "stdout",
          "text": [
            "\u001b[?25l\r\u001b[K     |██████                          | 10 kB 25.6 MB/s eta 0:00:01\r\u001b[K     |███████████▉                    | 20 kB 28.3 MB/s eta 0:00:01\r\u001b[K     |█████████████████▊              | 30 kB 18.8 MB/s eta 0:00:01\r\u001b[K     |███████████████████████▋        | 40 kB 15.3 MB/s eta 0:00:01\r\u001b[K     |█████████████████████████████▌  | 51 kB 5.4 MB/s eta 0:00:01\r\u001b[K     |████████████████████████████████| 55 kB 2.2 MB/s \n",
            "\u001b[?25h  Building wheel for scorecardpy (setup.py) ... \u001b[?25l\u001b[?25hdone\n"
          ]
        }
      ]
    },
    {
      "cell_type": "markdown",
      "source": [
        "## Memilih variabel"
      ],
      "metadata": {
        "id": "w9HYt6fr1tb8"
      }
    },
    {
      "cell_type": "code",
      "source": [
        "#  ada variabel yang aneh: installment_as_income_perc, ,'present_res_since','credits_this_bank,people_under_maintenance\n",
        "df_all = df_clean.drop(columns=['ID','installment_as_income_perc'])\n",
        "df_all = df_clean [['default','account_check_status','duration_in_month','credit_history','purpose'\n",
        "                  ,'credit_amount','savings','present_emp_since','personal_status_sex','other_debtors'\n",
        "                  ,'property','age','other_installment_plans','housing','job','telephone','foreign_worker'\n",
        "                  ]]"
      ],
      "metadata": {
        "id": "aePv3o791u6Q"
      },
      "execution_count": 68,
      "outputs": []
    },
    {
      "cell_type": "code",
      "source": [
        "df_clean.info()"
      ],
      "metadata": {
        "colab": {
          "base_uri": "https://localhost:8080/"
        },
        "id": "7k8DmwTW2uiM",
        "outputId": "4ed91e02-307e-4738-aeaf-2e2ebbaf971a"
      },
      "execution_count": 61,
      "outputs": [
        {
          "output_type": "stream",
          "name": "stdout",
          "text": [
            "<class 'pandas.core.frame.DataFrame'>\n",
            "RangeIndex: 1000 entries, 0 to 999\n",
            "Data columns (total 22 columns):\n",
            " #   Column                      Non-Null Count  Dtype \n",
            "---  ------                      --------------  ----- \n",
            " 0   ID                          1000 non-null   object\n",
            " 1   default                     1000 non-null   int64 \n",
            " 2   account_check_status        1000 non-null   object\n",
            " 3   duration_in_month           1000 non-null   int64 \n",
            " 4   credit_history              1000 non-null   object\n",
            " 5   purpose                     1000 non-null   object\n",
            " 6   credit_amount               1000 non-null   int64 \n",
            " 7   savings                     1000 non-null   object\n",
            " 8   present_emp_since           1000 non-null   object\n",
            " 9   installment_as_income_perc  1000 non-null   object\n",
            " 10  personal_status_sex         1000 non-null   object\n",
            " 11  other_debtors               1000 non-null   object\n",
            " 12  present_res_since           1000 non-null   object\n",
            " 13  property                    1000 non-null   object\n",
            " 14  age                         1000 non-null   int64 \n",
            " 15  other_installment_plans     1000 non-null   object\n",
            " 16  housing                     1000 non-null   object\n",
            " 17  credits_this_bank           1000 non-null   object\n",
            " 18  job                         1000 non-null   object\n",
            " 19  people_under_maintenance    1000 non-null   object\n",
            " 20  telephone                   1000 non-null   object\n",
            " 21  foreign_worker              1000 non-null   object\n",
            "dtypes: int64(4), object(18)\n",
            "memory usage: 172.0+ KB\n"
          ]
        }
      ]
    },
    {
      "cell_type": "markdown",
      "metadata": {
        "id": "5jPy9YPc-0Mx"
      },
      "source": [
        "## Persiapan Modeling, train dan test dataset, pembuatan binning dan EDA"
      ]
    },
    {
      "cell_type": "code",
      "metadata": {
        "id": "grWQnOiATS-S",
        "outputId": "ac986b8a-6b3b-45f2-b0fe-fd9c60b474c1",
        "colab": {
          "base_uri": "https://localhost:8080/",
          "height": 1000
        }
      },
      "source": [
        "y = df_all.loc[:,'default']\n",
        "X = df_all.loc[:,df_all.columns != 'default']\n",
        "\n",
        "from sklearn.model_selection import train_test_split\n",
        "X_train, X_test, y_train, y_test = train_test_split(X, y, test_size=0.30, random_state=42)\n",
        "\n",
        "# Dalam bentuk dataframe lengkap\n",
        "df_train = pd.concat([X_train, y_train], axis = 1)\n",
        "df_test = pd.concat([X_test, y_test], axis = 1)\n",
        "\n",
        "# Menghapus indeks dari data yang telah dibuang\n",
        "df_train = df_train.reset_index(drop=True)\n",
        "df_test = df_test.reset_index(drop=True)\n",
        "\n",
        "# Credit Scoring using logistic regression with library scorecardpy\n",
        "import scorecardpy as scpy\n",
        "\n",
        "# Melakukan WOE binning\n",
        "bins = scpy.woebin(df_all, y = 'default')\n",
        "\n",
        "# Melakukan WOE binning dengan adjustment\n",
        "breaks_adj = {\n",
        "}\n",
        "bins_adj = scpy.woebin(df_all, y=\"default\", breaks_list=breaks_adj)\n",
        "\n",
        "scpy.woebin_plot(bins_adj)"
      ],
      "execution_count": 69,
      "outputs": [
        {
          "output_type": "stream",
          "name": "stdout",
          "text": [
            "[INFO] creating woe binning ...\n",
            "[INFO] creating woe binning ...\n"
          ]
        },
        {
          "output_type": "execute_result",
          "data": {
            "text/plain": [
              "{'account_check_status': <Figure size 432x288 with 2 Axes>,\n",
              " 'age': <Figure size 432x288 with 2 Axes>,\n",
              " 'credit_amount': <Figure size 432x288 with 2 Axes>,\n",
              " 'credit_history': <Figure size 432x288 with 2 Axes>,\n",
              " 'duration_in_month': <Figure size 432x288 with 2 Axes>,\n",
              " 'foreign_worker': <Figure size 432x288 with 2 Axes>,\n",
              " 'housing': <Figure size 432x288 with 2 Axes>,\n",
              " 'job': <Figure size 432x288 with 2 Axes>,\n",
              " 'other_debtors': <Figure size 432x288 with 2 Axes>,\n",
              " 'other_installment_plans': <Figure size 432x288 with 2 Axes>,\n",
              " 'personal_status_sex': <Figure size 432x288 with 2 Axes>,\n",
              " 'present_emp_since': <Figure size 432x288 with 2 Axes>,\n",
              " 'property': <Figure size 432x288 with 2 Axes>,\n",
              " 'purpose': <Figure size 432x288 with 2 Axes>,\n",
              " 'savings': <Figure size 432x288 with 2 Axes>,\n",
              " 'telephone': <Figure size 432x288 with 2 Axes>}"
            ]
          },
          "metadata": {},
          "execution_count": 69
        },
        {
          "output_type": "display_data",
          "data": {
            "image/png": "[encoded data removed]",
            "text/plain": [
              "<Figure size 432x288 with 2 Axes>"
            ]
          },
          "metadata": {
            "needs_background": "light"
          }
        },
        {
          "output_type": "display_data",
          "data": {
            "image/png": "[encoded data removed]",
            "text/plain": [
              "<Figure size 432x288 with 2 Axes>"
            ]
          },
          "metadata": {
            "needs_background": "light"
          }
        },
        {
          "output_type": "display_data",
          "data": {
            "image/png": "[encoded data removed]",
            "text/plain": [
              "<Figure size 432x288 with 2 Axes>"
            ]
          },
          "metadata": {
            "needs_background": "light"
          }
        },
        {
          "output_type": "display_data",
          "data": {
            "image/png": "[encoded data removed]",
            "text/plain": [
              "<Figure size 432x288 with 2 Axes>"
            ]
          },
          "metadata": {
            "needs_background": "light"
          }
        },
        {
          "output_type": "display_data",
          "data": {
            "image/png": "[encoded data removed]",
            "text/plain": [
              "<Figure size 432x288 with 2 Axes>"
            ]
          },
          "metadata": {
            "needs_background": "light"
          }
        },
        {
          "output_type": "display_data",
          "data": {
            "image/png": "[encoded data removed]",
            "text/plain": [
              "<Figure size 432x288 with 2 Axes>"
            ]
          },
          "metadata": {
            "needs_background": "light"
          }
        },
        {
          "output_type": "display_data",
          "data": {
            "image/png": "[encoded data removed]",
            "text/plain": [
              "<Figure size 432x288 with 2 Axes>"
            ]
          },
          "metadata": {
            "needs_background": "light"
          }
        },
        {
          "output_type": "display_data",
          "data": {
            "image/png": "[encoded data removed]",
            "text/plain": [
              "<Figure size 432x288 with 2 Axes>"
            ]
          },
          "metadata": {
            "needs_background": "light"
          }
        },
        {
          "output_type": "display_data",
          "data": {
            "image/png": "[encoded data removed]",
            "text/plain": [
              "<Figure size 432x288 with 2 Axes>"
            ]
          },
          "metadata": {
            "needs_background": "light"
          }
        },
        {
          "output_type": "display_data",
          "data": {
            "image/png": "[encoded data removed]",
            "text/plain": [
              "<Figure size 432x288 with 2 Axes>"
            ]
          },
          "metadata": {
            "needs_background": "light"
          }
        },
        {
          "output_type": "display_data",
          "data": {
            "image/png": "[encoded data removed]",
            "text/plain": [
              "<Figure size 432x288 with 2 Axes>"
            ]
          },
          "metadata": {
            "needs_background": "light"
          }
        },
        {
          "output_type": "display_data",
          "data": {
            "image/png": "[encoded data removed]",
            "text/plain": [
              "<Figure size 432x288 with 2 Axes>"
            ]
          },
          "metadata": {
            "needs_background": "light"
          }
        },
        {
          "output_type": "display_data",
          "data": {
            "image/png": "[encoded data removed]",
            "text/plain": [
              "<Figure size 432x288 with 2 Axes>"
            ]
          },
          "metadata": {
            "needs_background": "light"
          }
        },
        {
          "output_type": "display_data",
          "data": {
            "image/png": "[encoded data removed]",
            "text/plain": [
              "<Figure size 432x288 with 2 Axes>"
            ]
          },
          "metadata": {
            "needs_background": "light"
          }
        },
        {
          "output_type": "display_data",
          "data": {
            "image/png": "[encoded data removed]",
            "text/plain": [
              "<Figure size 432x288 with 2 Axes>"
            ]
          },
          "metadata": {
            "needs_background": "light"
          }
        },
        {
          "output_type": "display_data",
          "data": {
            "image/png": "[encoded data removed]",
            "text/plain": [
              "<Figure size 432x288 with 2 Axes>"
            ]
          },
          "metadata": {
            "needs_background": "light"
          }
        }
      ]
    },
    {
      "cell_type": "markdown",
      "metadata": {
        "id": "GVJTMVFh-8wx"
      },
      "source": [
        "## Pembuatan WOE secara otomatis"
      ]
    },
    {
      "cell_type": "code",
      "metadata": {
        "id": "l_4oFCg9T8ku",
        "outputId": "3d822e54-648e-419f-c731-7e489191478c",
        "colab": {
          "base_uri": "https://localhost:8080/"
        }
      },
      "source": [
        "# contoh pembuatan tanpa test\n",
        "train = df_train\n",
        "test = df_test\n",
        "\n",
        "# converting train and test into woe values\n",
        "train_woe = scpy.woebin_ply(train, bins_adj)\n",
        "test_woe = scpy.woebin_ply(test, bins_adj)\n",
        "\n",
        "y_train = train_woe.loc[:,'default']\n",
        "X_train = train_woe.loc[:,train_woe.columns != 'default']\n",
        "y_test = test_woe.loc[:,'default']\n",
        "X_test = test_woe.loc[:,train_woe.columns != 'default']\n",
        "\n",
        "print(X_train)\n",
        "print(y_train)"
      ],
      "execution_count": 70,
      "outputs": [
        {
          "output_type": "stream",
          "name": "stdout",
          "text": [
            "[INFO] converting into woe values ...\n",
            "[INFO] converting into woe values ...\n",
            "      job_woe  foreign_worker_woe  ...  property_woe  housing_woe\n",
            "0   -0.022780                 0.0  ...      0.586082     0.472604\n",
            "1    0.189242                 0.0  ...      0.034191    -0.194156\n",
            "2   -0.022780                 0.0  ...      0.028573     0.404445\n",
            "3   -0.097164                 0.0  ...     -0.461035    -0.194156\n",
            "4    0.189242                 0.0  ...      0.034191    -0.194156\n",
            "..        ...                 ...  ...           ...          ...\n",
            "695  0.189242                 0.0  ...      0.586082    -0.194156\n",
            "696 -0.022780                 0.0  ...      0.028573    -0.194156\n",
            "697 -0.022780                 0.0  ...     -0.461035    -0.194156\n",
            "698 -0.022780                 0.0  ...     -0.461035    -0.194156\n",
            "699 -0.022780                 0.0  ...     -0.461035    -0.194156\n",
            "\n",
            "[700 rows x 16 columns]\n",
            "0      0\n",
            "1      0\n",
            "2      0\n",
            "3      0\n",
            "4      0\n",
            "      ..\n",
            "695    1\n",
            "696    0\n",
            "697    0\n",
            "698    1\n",
            "699    0\n",
            "Name: default, Length: 700, dtype: int64\n"
          ]
        }
      ]
    },
    {
      "cell_type": "markdown",
      "metadata": {
        "id": "eqLAa1Sc_CC9"
      },
      "source": [
        "## Model dengan logistic regression dan hasil Scorecard"
      ]
    },
    {
      "cell_type": "code",
      "metadata": {
        "id": "8fuClTgqXUzT",
        "outputId": "01516edf-9a48-4207-9476-bcf99b0d36e2",
        "colab": {
          "base_uri": "https://localhost:8080/"
        }
      },
      "source": [
        "# Membuat scorecard dengan menggunakan algoritma logistic regression\n",
        "from sklearn.linear_model import LogisticRegression\n",
        "lr = LogisticRegression()\n",
        "lr.fit(X_train, y_train)\n",
        "\n",
        "print('Coefficient: ', lr.feature_names_in_, lr.coef_)\n",
        "print('Intercept: ', lr.intercept_)"
      ],
      "execution_count": 72,
      "outputs": [
        {
          "output_type": "stream",
          "name": "stdout",
          "text": [
            "Coefficient:  ['job_woe' 'foreign_worker_woe' 'credit_history_woe' 'purpose_woe'\n",
            " 'other_installment_plans_woe' 'present_emp_since_woe' 'telephone_woe'\n",
            " 'personal_status_sex_woe' 'credit_amount_woe' 'duration_in_month_woe'\n",
            " 'age_woe' 'savings_woe' 'account_check_status_woe' 'other_debtors_woe'\n",
            " 'property_woe' 'housing_woe'] [[-0.18073352  0.          0.68855732  0.84751739  0.4236357   0.32847133\n",
            "   0.699496    0.45219718  0.74331884  0.54055048  0.84806993  0.6016163\n",
            "   0.68274284  0.66246787  0.58566094  0.46019718]]\n",
            "Intercept:  [-0.84981742]\n"
          ]
        }
      ]
    },
    {
      "cell_type": "code",
      "metadata": {
        "id": "kaKJaG1q08UW",
        "outputId": "ce85420d-8c78-4f3a-95c5-5844dcb2f46a",
        "colab": {
          "base_uri": "https://localhost:8080/",
          "height": 967
        }
      },
      "source": [
        "# predicted probability\n",
        "# predicted proability\n",
        "train_pred = lr.predict_proba(X_train)[:,1]\n",
        "test_pred = lr.predict_proba(X_test)[:,1]\n",
        "\n",
        "# performance ks & roc ------\n",
        "train_perf = scpy.perf_eva(y_train, train_pred, title = \"train\")\n",
        "test_perf = scpy.perf_eva(y_test, test_pred, title = \"test\")\n",
        "\n",
        "# score ------\n",
        "card = scpy.scorecard(bins_adj, lr, X_train.columns, points0=600, odds0=1/4, pdo=50, basepoints_eq0=False)\n",
        "# credit score\n",
        "train_score = scpy.scorecard_ply(train, card, print_step=0)\n",
        "test_score = scpy.scorecard_ply(test, card, print_step=0)\n",
        "\n",
        "# psi\n",
        "scpy.perf_psi(\n",
        "  score = {'train':train_score, 'test':test_score},\n",
        "  label = {'train':y_train, 'test':y_test}\n",
        ")"
      ],
      "execution_count": 73,
      "outputs": [
        {
          "output_type": "display_data",
          "data": {
            "image/png": "[encoded data removed]",
            "text/plain": [
              "<Figure size 432x288 with 2 Axes>"
            ]
          },
          "metadata": {
            "needs_background": "light"
          }
        },
        {
          "output_type": "display_data",
          "data": {
            "image/png": "[encoded data removed]",
            "text/plain": [
              "<Figure size 432x288 with 2 Axes>"
            ]
          },
          "metadata": {
            "needs_background": "light"
          }
        },
        {
          "output_type": "stream",
          "name": "stderr",
          "text": [
            "/usr/local/lib/python3.7/dist-packages/pandas/core/indexing.py:1596: SettingWithCopyWarning: \n",
            "A value is trying to be set on a copy of a slice from a DataFrame.\n",
            "Try using .loc[row_indexer,col_indexer] = value instead\n",
            "\n",
            "See the caveats in the documentation: https://pandas.pydata.org/pandas-docs/stable/user_guide/indexing.html#returning-a-view-versus-a-copy\n",
            "  self.obj[key] = _infer_fill_value(value)\n",
            "/usr/local/lib/python3.7/dist-packages/pandas/core/indexing.py:1781: SettingWithCopyWarning: \n",
            "A value is trying to be set on a copy of a slice from a DataFrame.\n",
            "Try using .loc[row_indexer,col_indexer] = value instead\n",
            "\n",
            "See the caveats in the documentation: https://pandas.pydata.org/pandas-docs/stable/user_guide/indexing.html#returning-a-view-versus-a-copy\n",
            "  self.obj[item_labels[indexer[info_axis]]] = value\n"
          ]
        },
        {
          "output_type": "display_data",
          "data": {
            "image/png": "[encoded data removed]",
            "text/plain": [
              "<Figure size 432x288 with 2 Axes>"
            ]
          },
          "metadata": {
            "needs_background": "light"
          }
        },
        {
          "output_type": "execute_result",
          "data": {
            "text/plain": [
              "{'pic': {'score': <Figure size 432x288 with 2 Axes>},\n",
              " 'psi':   variable       PSI\n",
              " 0    score  0.036759}"
            ]
          },
          "metadata": {},
          "execution_count": 73
        }
      ]
    },
    {
      "cell_type": "code",
      "metadata": {
        "id": "KOzZ-ips3QHo",
        "outputId": "eb7332e3-a8b8-4307-a490-110e7c205e38",
        "colab": {
          "base_uri": "https://localhost:8080/",
          "height": 17
        }
      },
      "source": [
        "df_train_prob = pd.DataFrame(train_pred, columns=['Probability'])\n",
        "train_scorecard = pd.concat([train_score, df_train_prob], axis = 1)\n",
        "\n",
        "# Untuk memudahkan membaca hasil, maka disimpan dalam bentuk csv dan didownload\n",
        "from google.colab import files\n",
        "train_scorecard.to_csv('train_scorecard.csv') \n",
        "files.download('train_scorecard.csv')\n",
        "\n",
        "test_score.to_csv('test_score.csv') \n",
        "files.download('test_score.csv')"
      ],
      "execution_count": null,
      "outputs": [
        {
          "output_type": "display_data",
          "data": {
            "application/javascript": [
              "\n",
              "    async function download(id, filename, size) {\n",
              "      if (!google.colab.kernel.accessAllowed) {\n",
              "        return;\n",
              "      }\n",
              "      const div = document.createElement('div');\n",
              "      const label = document.createElement('label');\n",
              "      label.textContent = `Downloading \"${filename}\": `;\n",
              "      div.appendChild(label);\n",
              "      const progress = document.createElement('progress');\n",
              "      progress.max = size;\n",
              "      div.appendChild(progress);\n",
              "      document.body.appendChild(div);\n",
              "\n",
              "      const buffers = [];\n",
              "      let downloaded = 0;\n",
              "\n",
              "      const channel = await google.colab.kernel.comms.open(id);\n",
              "      // Send a message to notify the kernel that we're ready.\n",
              "      channel.send({})\n",
              "\n",
              "      for await (const message of channel.messages) {\n",
              "        // Send a message to notify the kernel that we're ready.\n",
              "        channel.send({})\n",
              "        if (message.buffers) {\n",
              "          for (const buffer of message.buffers) {\n",
              "            buffers.push(buffer);\n",
              "            downloaded += buffer.byteLength;\n",
              "            progress.value = downloaded;\n",
              "          }\n",
              "        }\n",
              "      }\n",
              "      const blob = new Blob(buffers, {type: 'application/binary'});\n",
              "      const a = document.createElement('a');\n",
              "      a.href = window.URL.createObjectURL(blob);\n",
              "      a.download = filename;\n",
              "      div.appendChild(a);\n",
              "      a.click();\n",
              "      div.remove();\n",
              "    }\n",
              "  "
            ],
            "text/plain": [
              "<IPython.core.display.Javascript object>"
            ]
          },
          "metadata": {}
        },
        {
          "output_type": "display_data",
          "data": {
            "application/javascript": [
              "download(\"download_68a428c2-fb36-4d4c-ac97-fc1313b0ebd7\", \"train_scorecard.csv\", 19473)"
            ],
            "text/plain": [
              "<IPython.core.display.Javascript object>"
            ]
          },
          "metadata": {}
        },
        {
          "output_type": "display_data",
          "data": {
            "application/javascript": [
              "\n",
              "    async function download(id, filename, size) {\n",
              "      if (!google.colab.kernel.accessAllowed) {\n",
              "        return;\n",
              "      }\n",
              "      const div = document.createElement('div');\n",
              "      const label = document.createElement('label');\n",
              "      label.textContent = `Downloading \"${filename}\": `;\n",
              "      div.appendChild(label);\n",
              "      const progress = document.createElement('progress');\n",
              "      progress.max = size;\n",
              "      div.appendChild(progress);\n",
              "      document.body.appendChild(div);\n",
              "\n",
              "      const buffers = [];\n",
              "      let downloaded = 0;\n",
              "\n",
              "      const channel = await google.colab.kernel.comms.open(id);\n",
              "      // Send a message to notify the kernel that we're ready.\n",
              "      channel.send({})\n",
              "\n",
              "      for await (const message of channel.messages) {\n",
              "        // Send a message to notify the kernel that we're ready.\n",
              "        channel.send({})\n",
              "        if (message.buffers) {\n",
              "          for (const buffer of message.buffers) {\n",
              "            buffers.push(buffer);\n",
              "            downloaded += buffer.byteLength;\n",
              "            progress.value = downloaded;\n",
              "          }\n",
              "        }\n",
              "      }\n",
              "      const blob = new Blob(buffers, {type: 'application/binary'});\n",
              "      const a = document.createElement('a');\n",
              "      a.href = window.URL.createObjectURL(blob);\n",
              "      a.download = filename;\n",
              "      div.appendChild(a);\n",
              "      a.click();\n",
              "      div.remove();\n",
              "    }\n",
              "  "
            ],
            "text/plain": [
              "<IPython.core.display.Javascript object>"
            ]
          },
          "metadata": {}
        },
        {
          "output_type": "display_data",
          "data": {
            "application/javascript": [
              "download(\"download_8f0c29e6-d830-4e48-826b-d014e279aa24\", \"test_score.csv\", 2747)"
            ],
            "text/plain": [
              "<IPython.core.display.Javascript object>"
            ]
          },
          "metadata": {}
        }
      ]
    },
    {
      "cell_type": "markdown",
      "source": [
        "# Modeling Scorecardpy hanya dengan tiga variabel dengan IV tertinggi"
      ],
      "metadata": {
        "id": "zW7IPyxU5ho0"
      }
    },
    {
      "cell_type": "markdown",
      "source": [
        "## Memilih variabel"
      ],
      "metadata": {
        "id": "PkomiPPU5ny9"
      }
    },
    {
      "cell_type": "code",
      "source": [
        "#  ada variabel yang aneh: installment_as_income_perc, ,'present_res_since','credits_this_bank,people_under_maintenance\n",
        "df_3_var = df_clean [['default','account_check_status','duration_in_month','credit_history']]"
      ],
      "metadata": {
        "id": "a70E38Qg5ny9"
      },
      "execution_count": 75,
      "outputs": []
    },
    {
      "cell_type": "markdown",
      "metadata": {
        "id": "yAmQi7lP5ny-"
      },
      "source": [
        "## Persiapan Modeling, train dan test dataset, pembuatan binning dan EDA"
      ]
    },
    {
      "cell_type": "code",
      "metadata": {
        "outputId": "fcd51673-e61c-4458-9147-2f11442eb05a",
        "colab": {
          "base_uri": "https://localhost:8080/",
          "height": 896
        },
        "id": "gO-jhd2r5ny-"
      },
      "source": [
        "y = df_3_var.loc[:,'default']\n",
        "X = df_3_var.loc[:,df_3_var.columns != 'default']\n",
        "\n",
        "from sklearn.model_selection import train_test_split\n",
        "X_train, X_test, y_train, y_test = train_test_split(X, y, test_size=0.30, random_state=42)\n",
        "\n",
        "# Dalam bentuk dataframe lengkap\n",
        "df_train = pd.concat([X_train, y_train], axis = 1)\n",
        "df_test = pd.concat([X_test, y_test], axis = 1)\n",
        "\n",
        "# Menghapus indeks dari data yang telah dibuang\n",
        "df_train = df_train.reset_index(drop=True)\n",
        "df_test = df_test.reset_index(drop=True)\n",
        "\n",
        "# Credit Scoring using logistic regression with library scorecardpy\n",
        "import scorecardpy as scpy\n",
        "\n",
        "# Melakukan WOE binning\n",
        "bins = scpy.woebin(df_3_var, y = 'default')\n",
        "\n",
        "# Melakukan WOE binning dengan adjustment\n",
        "breaks_adj = {\n",
        "}\n",
        "bins_adj = scpy.woebin(df_3_var, y=\"default\", breaks_list=breaks_adj)\n",
        "\n",
        "scpy.woebin_plot(bins_adj)"
      ],
      "execution_count": 76,
      "outputs": [
        {
          "output_type": "stream",
          "name": "stdout",
          "text": [
            "[INFO] creating woe binning ...\n",
            "[INFO] creating woe binning ...\n"
          ]
        },
        {
          "output_type": "execute_result",
          "data": {
            "text/plain": [
              "{'account_check_status': <Figure size 432x288 with 2 Axes>,\n",
              " 'credit_history': <Figure size 432x288 with 2 Axes>,\n",
              " 'duration_in_month': <Figure size 432x288 with 2 Axes>}"
            ]
          },
          "metadata": {},
          "execution_count": 76
        },
        {
          "output_type": "display_data",
          "data": {
            "image/png": "[encoded data removed]",
            "text/plain": [
              "<Figure size 432x288 with 2 Axes>"
            ]
          },
          "metadata": {
            "needs_background": "light"
          }
        },
        {
          "output_type": "display_data",
          "data": {
            "image/png": "[encoded data removed]",
            "text/plain": [
              "<Figure size 432x288 with 2 Axes>"
            ]
          },
          "metadata": {
            "needs_background": "light"
          }
        },
        {
          "output_type": "display_data",
          "data": {
            "image/png": "[encoded data removed]",
            "text/plain": [
              "<Figure size 432x288 with 2 Axes>"
            ]
          },
          "metadata": {
            "needs_background": "light"
          }
        }
      ]
    },
    {
      "cell_type": "markdown",
      "metadata": {
        "id": "eKr42vG45ny-"
      },
      "source": [
        "## Pembuatan WOE secara otomatis"
      ]
    },
    {
      "cell_type": "code",
      "metadata": {
        "outputId": "e5db66f1-1a26-48c8-8098-2d2f2b420313",
        "colab": {
          "base_uri": "https://localhost:8080/"
        },
        "id": "x94kiYEq5ny-"
      },
      "source": [
        "# contoh pembuatan tanpa test\n",
        "train = df_train\n",
        "test = df_test\n",
        "\n",
        "# converting train and test into woe values\n",
        "train_woe = scpy.woebin_ply(train, bins_adj)\n",
        "test_woe = scpy.woebin_ply(test, bins_adj)\n",
        "\n",
        "y_train = train_woe.loc[:,'default']\n",
        "X_train = train_woe.loc[:,train_woe.columns != 'default']\n",
        "y_test = test_woe.loc[:,'default']\n",
        "X_test = test_woe.loc[:,train_woe.columns != 'default']\n",
        "\n",
        "print(X_train)\n",
        "print(y_train)"
      ],
      "execution_count": 77,
      "outputs": [
        {
          "output_type": "stream",
          "name": "stdout",
          "text": [
            "[INFO] converting into woe values ...\n",
            "[INFO] converting into woe values ...\n",
            "     duration_in_month_woe  account_check_status_woe  credit_history_woe\n",
            "0                 0.108688                 -1.176263            0.085158\n",
            "1                -0.346625                 -1.176263            0.088319\n",
            "2                 0.108688                  0.614204            0.088319\n",
            "3                -0.346625                  0.614204           -0.733741\n",
            "4                 0.524524                 -1.176263           -0.733741\n",
            "..                     ...                       ...                 ...\n",
            "695               0.108688                 -1.176263            1.234071\n",
            "696               0.108688                 -1.176263            0.088319\n",
            "697               0.108688                 -1.176263           -0.733741\n",
            "698              -0.346625                  0.614204            0.088319\n",
            "699              -1.312186                 -1.176263            0.085158\n",
            "\n",
            "[700 rows x 3 columns]\n",
            "0      0\n",
            "1      0\n",
            "2      0\n",
            "3      0\n",
            "4      0\n",
            "      ..\n",
            "695    1\n",
            "696    0\n",
            "697    0\n",
            "698    1\n",
            "699    0\n",
            "Name: default, Length: 700, dtype: int64\n"
          ]
        }
      ]
    },
    {
      "cell_type": "markdown",
      "metadata": {
        "id": "U88pj2hR5ny-"
      },
      "source": [
        "## Model dengan logistic regression dan hasil Scorecard"
      ]
    },
    {
      "cell_type": "code",
      "metadata": {
        "outputId": "242cd5ff-345f-47db-8f0a-d0e3064f0562",
        "colab": {
          "base_uri": "https://localhost:8080/"
        },
        "id": "zzPzxuwi5ny_"
      },
      "source": [
        "# Membuat scorecard dengan menggunakan algoritma logistic regression\n",
        "from sklearn.linear_model import LogisticRegression\n",
        "lr = LogisticRegression()\n",
        "lr.fit(X_train, y_train)\n",
        "\n",
        "print('Coefficient: ', lr.feature_names_in_, lr.coef_)\n",
        "print('Intercept: ', lr.intercept_)"
      ],
      "execution_count": 78,
      "outputs": [
        {
          "output_type": "stream",
          "name": "stdout",
          "text": [
            "Coefficient:  ['duration_in_month_woe' 'account_check_status_woe' 'credit_history_woe'] [[0.80356522 0.81326348 0.77595338]]\n",
            "Intercept:  [-0.85574828]\n"
          ]
        }
      ]
    },
    {
      "cell_type": "code",
      "metadata": {
        "outputId": "969522a6-d0be-4785-efb6-bcae3cbaef94",
        "colab": {
          "base_uri": "https://localhost:8080/",
          "height": 759
        },
        "id": "wmBRCrtj5ny_"
      },
      "source": [
        "# predicted probability\n",
        "# predicted proability\n",
        "train_pred = lr.predict_proba(X_train)[:,1]\n",
        "test_pred = lr.predict_proba(X_test)[:,1]\n",
        "\n",
        "# performance ks & roc ------\n",
        "train_perf = scpy.perf_eva(y_train, train_pred, title = \"train\")\n",
        "test_perf = scpy.perf_eva(y_test, test_pred, title = \"test\")\n",
        "\n",
        "# score ------\n",
        "card = scpy.scorecard(bins_adj, lr, X_train.columns, points0=600, odds0=1/4, pdo=50, basepoints_eq0=False)\n",
        "# credit score\n",
        "train_score = scpy.scorecard_ply(train, card, print_step=0)\n",
        "test_score = scpy.scorecard_ply(test, card, print_step=0)\n",
        "\n",
        "# psi\n",
        "scpy.perf_psi(\n",
        "  score = {'train':train_score, 'test':test_score},\n",
        "  label = {'train':y_train, 'test':y_test}\n",
        ")"
      ],
      "execution_count": 79,
      "outputs": [
        {
          "output_type": "display_data",
          "data": {
            "image/png": "[encoded data removed]",
            "text/plain": [
              "<Figure size 432x288 with 2 Axes>"
            ]
          },
          "metadata": {
            "needs_background": "light"
          }
        },
        {
          "output_type": "display_data",
          "data": {
            "image/png": "[encoded data removed]",
            "text/plain": [
              "<Figure size 432x288 with 2 Axes>"
            ]
          },
          "metadata": {
            "needs_background": "light"
          }
        },
        {
          "output_type": "display_data",
          "data": {
            "image/png": "[encoded data removed]",
            "text/plain": [
              "<Figure size 432x288 with 2 Axes>"
            ]
          },
          "metadata": {
            "needs_background": "light"
          }
        },
        {
          "output_type": "execute_result",
          "data": {
            "text/plain": [
              "{'pic': {'score': <Figure size 432x288 with 2 Axes>},\n",
              " 'psi':   variable      PSI\n",
              " 0    score  0.02822}"
            ]
          },
          "metadata": {},
          "execution_count": 79
        }
      ]
    },
    {
      "cell_type": "code",
      "metadata": {
        "outputId": "eb7332e3-a8b8-4307-a490-110e7c205e38",
        "colab": {
          "base_uri": "https://localhost:8080/",
          "height": 17
        },
        "id": "Sp8tx0nb5ny_"
      },
      "source": [
        "df_train_prob = pd.DataFrame(train_pred, columns=['Probability'])\n",
        "train_scorecard = pd.concat([train_score, df_train_prob], axis = 1)\n",
        "\n",
        "# Untuk memudahkan membaca hasil, maka disimpan dalam bentuk csv dan didownload\n",
        "from google.colab import files\n",
        "train_scorecard.to_csv('train_scorecard.csv') \n",
        "files.download('train_scorecard.csv')\n",
        "\n",
        "test_score.to_csv('test_score.csv') \n",
        "files.download('test_score.csv')"
      ],
      "execution_count": null,
      "outputs": [
        {
          "output_type": "display_data",
          "data": {
            "application/javascript": [
              "\n",
              "    async function download(id, filename, size) {\n",
              "      if (!google.colab.kernel.accessAllowed) {\n",
              "        return;\n",
              "      }\n",
              "      const div = document.createElement('div');\n",
              "      const label = document.createElement('label');\n",
              "      label.textContent = `Downloading \"${filename}\": `;\n",
              "      div.appendChild(label);\n",
              "      const progress = document.createElement('progress');\n",
              "      progress.max = size;\n",
              "      div.appendChild(progress);\n",
              "      document.body.appendChild(div);\n",
              "\n",
              "      const buffers = [];\n",
              "      let downloaded = 0;\n",
              "\n",
              "      const channel = await google.colab.kernel.comms.open(id);\n",
              "      // Send a message to notify the kernel that we're ready.\n",
              "      channel.send({})\n",
              "\n",
              "      for await (const message of channel.messages) {\n",
              "        // Send a message to notify the kernel that we're ready.\n",
              "        channel.send({})\n",
              "        if (message.buffers) {\n",
              "          for (const buffer of message.buffers) {\n",
              "            buffers.push(buffer);\n",
              "            downloaded += buffer.byteLength;\n",
              "            progress.value = downloaded;\n",
              "          }\n",
              "        }\n",
              "      }\n",
              "      const blob = new Blob(buffers, {type: 'application/binary'});\n",
              "      const a = document.createElement('a');\n",
              "      a.href = window.URL.createObjectURL(blob);\n",
              "      a.download = filename;\n",
              "      div.appendChild(a);\n",
              "      a.click();\n",
              "      div.remove();\n",
              "    }\n",
              "  "
            ],
            "text/plain": [
              "<IPython.core.display.Javascript object>"
            ]
          },
          "metadata": {}
        },
        {
          "output_type": "display_data",
          "data": {
            "application/javascript": [
              "download(\"download_68a428c2-fb36-4d4c-ac97-fc1313b0ebd7\", \"train_scorecard.csv\", 19473)"
            ],
            "text/plain": [
              "<IPython.core.display.Javascript object>"
            ]
          },
          "metadata": {}
        },
        {
          "output_type": "display_data",
          "data": {
            "application/javascript": [
              "\n",
              "    async function download(id, filename, size) {\n",
              "      if (!google.colab.kernel.accessAllowed) {\n",
              "        return;\n",
              "      }\n",
              "      const div = document.createElement('div');\n",
              "      const label = document.createElement('label');\n",
              "      label.textContent = `Downloading \"${filename}\": `;\n",
              "      div.appendChild(label);\n",
              "      const progress = document.createElement('progress');\n",
              "      progress.max = size;\n",
              "      div.appendChild(progress);\n",
              "      document.body.appendChild(div);\n",
              "\n",
              "      const buffers = [];\n",
              "      let downloaded = 0;\n",
              "\n",
              "      const channel = await google.colab.kernel.comms.open(id);\n",
              "      // Send a message to notify the kernel that we're ready.\n",
              "      channel.send({})\n",
              "\n",
              "      for await (const message of channel.messages) {\n",
              "        // Send a message to notify the kernel that we're ready.\n",
              "        channel.send({})\n",
              "        if (message.buffers) {\n",
              "          for (const buffer of message.buffers) {\n",
              "            buffers.push(buffer);\n",
              "            downloaded += buffer.byteLength;\n",
              "            progress.value = downloaded;\n",
              "          }\n",
              "        }\n",
              "      }\n",
              "      const blob = new Blob(buffers, {type: 'application/binary'});\n",
              "      const a = document.createElement('a');\n",
              "      a.href = window.URL.createObjectURL(blob);\n",
              "      a.download = filename;\n",
              "      div.appendChild(a);\n",
              "      a.click();\n",
              "      div.remove();\n",
              "    }\n",
              "  "
            ],
            "text/plain": [
              "<IPython.core.display.Javascript object>"
            ]
          },
          "metadata": {}
        },
        {
          "output_type": "display_data",
          "data": {
            "application/javascript": [
              "download(\"download_8f0c29e6-d830-4e48-826b-d014e279aa24\", \"test_score.csv\", 2747)"
            ],
            "text/plain": [
              "<IPython.core.display.Javascript object>"
            ]
          },
          "metadata": {}
        }
      ]
    },
    {
      "cell_type": "markdown",
      "metadata": {
        "id": "fbJNZCXTnsQ2"
      },
      "source": [
        "## 2.3.2.5.7.3 Penggunaan WOE dan IV dalam Scorecard\n"
      ]
    },
    {
      "cell_type": "code",
      "metadata": {
        "id": "6YN3IBO10GRR",
        "outputId": "9f3b8565-9bd0-4066-fc10-25b020e91ba6",
        "colab": {
          "base_uri": "https://localhost:8080/"
        }
      },
      "source": [
        "# Reference https://stackoverflow.com/questions/60892714/how-to-get-the-weight-of-evidence-woe-and-information-value-iv-in-python-pan\n",
        "df_woe_iv = (pd.crosstab(df_clean['account_check_status'],df_clean['default'],normalize='columns')\n",
        "             .assign(woe=lambda dfx: np.log(dfx[1] / dfx[0]))\n",
        "             .assign(iv=lambda dfx: np.sum(dfx['woe']*\n",
        "                                           (dfx[1]-dfx[0]))))\n",
        "\n",
        "print(df_woe_iv)\n",
        "\n",
        "df_woe_iv = (pd.crosstab(df_clean['duration_in_month'],df_clean['default'],normalize='columns')\n",
        "             .assign(woe=lambda dfx: np.log(dfx[1] / dfx[0]))\n",
        "             .assign(iv=lambda dfx: np.sum(dfx['woe']*\n",
        "                                           (dfx[1]-dfx[0]))))\n",
        "\n",
        "print(df_woe_iv)\n",
        "\n",
        "df_woe_iv = (pd.crosstab(df_clean['credit_history'],df_clean['default'],normalize='columns')\n",
        "             .assign(woe=lambda dfx: np.log(dfx[1] / dfx[0]))\n",
        "             .assign(iv=lambda dfx: np.sum(dfx['woe']*\n",
        "                                           (dfx[1]-dfx[0]))))\n",
        "\n",
        "print(df_woe_iv)"
      ],
      "execution_count": 80,
      "outputs": [
        {
          "output_type": "stream",
          "name": "stdout",
          "text": [
            "default                                                    0  ...        iv\n",
            "account_check_status                                          ...          \n",
            "0 <= ... < 200 DM                                   0.234286  ...  0.666012\n",
            "< 0 DM                                              0.198571  ...  0.666012\n",
            ">= 200 DM / salary assignments for at least 1 year  0.070000  ...  0.666012\n",
            "no checking account                                 0.497143  ...  0.666012\n",
            "\n",
            "[4 rows x 4 columns]\n",
            "default                   0         1       woe   iv\n",
            "duration_in_month                                   \n",
            "4                  0.008571  0.000000      -inf  inf\n",
            "5                  0.001429  0.000000      -inf  inf\n",
            "6                  0.094286  0.030000 -1.145132  inf\n",
            "7                  0.007143  0.000000      -inf  inf\n",
            "8                  0.008571  0.003333 -0.944462  inf\n",
            "9                  0.050000  0.046667 -0.068993  inf\n",
            "10                 0.035714  0.010000 -1.272966  inf\n",
            "11                 0.012857  0.000000      -inf  inf\n",
            "12                 0.185714  0.163333 -0.128416  inf\n",
            "13                 0.005714  0.000000      -inf  inf\n",
            "14                 0.004286  0.003333 -0.251314  inf\n",
            "15                 0.074286  0.040000 -0.619039  inf\n",
            "16                 0.001429  0.003333  0.847298  inf\n",
            "18                 0.101429  0.140000  0.322288  inf\n",
            "20                 0.010000  0.003333 -1.098612  inf\n",
            "21                 0.030000  0.030000  0.000000  inf\n",
            "22                 0.002857  0.000000      -inf  inf\n",
            "24                 0.182857  0.186667  0.020619  inf\n",
            "26                 0.001429  0.000000      -inf  inf\n",
            "27                 0.011429  0.016667  0.377294  inf\n",
            "28                 0.002857  0.003333  0.154151  inf\n",
            "30                 0.038571  0.043333  0.116410  inf\n",
            "33                 0.002857  0.003333  0.154151  inf\n",
            "36                 0.065714  0.123333  0.629574  inf\n",
            "39                 0.005714  0.003333 -0.538997  inf\n",
            "40                 0.000000  0.003333       inf  inf\n",
            "42                 0.011429  0.010000 -0.133531  inf\n",
            "45                 0.001429  0.013333  2.233592  inf\n",
            "47                 0.001429  0.000000      -inf  inf\n",
            "48                 0.028571  0.093333  1.183770  inf\n",
            "54                 0.001429  0.003333  0.847298  inf\n",
            "60                 0.010000  0.020000  0.693147  inf\n",
            "72                 0.000000  0.003333       inf  inf\n",
            "default                                                    0  ...        iv\n",
            "credit_history                                                ...          \n",
            "all credits at this bank paid back duly             0.030000  ...  0.293234\n",
            "critical account/ other credits existing (not a...  0.347143  ...  0.293234\n",
            "delay in paying off in the past                     0.085714  ...  0.293234\n",
            "existing credits paid back duly till now            0.515714  ...  0.293234\n",
            "no credits taken/ all credits paid back duly        0.021429  ...  0.293234\n",
            "\n",
            "[5 rows x 4 columns]\n"
          ]
        },
        {
          "output_type": "stream",
          "name": "stderr",
          "text": [
            "/usr/local/lib/python3.7/dist-packages/pandas/core/series.py:726: RuntimeWarning: divide by zero encountered in log\n",
            "  result = getattr(ufunc, method)(*inputs, **kwargs)\n"
          ]
        }
      ]
    },
    {
      "cell_type": "code",
      "source": [
        "pd.crosstab(df_clean['account_check_status'],df_clean['default'])"
      ],
      "metadata": {
        "id": "2MKXO8Ff6zA8",
        "outputId": "bd78ad21-0f1d-4ad0-eb58-b1bf53c708b0",
        "colab": {
          "base_uri": "https://localhost:8080/",
          "height": 206
        }
      },
      "execution_count": 84,
      "outputs": [
        {
          "output_type": "execute_result",
          "data": {
            "text/html": [
              "<div>\n",
              "<style scoped>\n",
              "    .dataframe tbody tr th:only-of-type {\n",
              "        vertical-align: middle;\n",
              "    }\n",
              "\n",
              "    .dataframe tbody tr th {\n",
              "        vertical-align: top;\n",
              "    }\n",
              "\n",
              "    .dataframe thead th {\n",
              "        text-align: right;\n",
              "    }\n",
              "</style>\n",
              "<table border=\"1\" class=\"dataframe\">\n",
              "  <thead>\n",
              "    <tr style=\"text-align: right;\">\n",
              "      <th>default</th>\n",
              "      <th>0</th>\n",
              "      <th>1</th>\n",
              "    </tr>\n",
              "    <tr>\n",
              "      <th>account_check_status</th>\n",
              "      <th></th>\n",
              "      <th></th>\n",
              "    </tr>\n",
              "  </thead>\n",
              "  <tbody>\n",
              "    <tr>\n",
              "      <th>0 &lt;= ... &lt; 200 DM</th>\n",
              "      <td>164</td>\n",
              "      <td>105</td>\n",
              "    </tr>\n",
              "    <tr>\n",
              "      <th>&lt; 0 DM</th>\n",
              "      <td>139</td>\n",
              "      <td>135</td>\n",
              "    </tr>\n",
              "    <tr>\n",
              "      <th>&gt;= 200 DM / salary assignments for at least 1 year</th>\n",
              "      <td>49</td>\n",
              "      <td>14</td>\n",
              "    </tr>\n",
              "    <tr>\n",
              "      <th>no checking account</th>\n",
              "      <td>348</td>\n",
              "      <td>46</td>\n",
              "    </tr>\n",
              "  </tbody>\n",
              "</table>\n",
              "</div>"
            ],
            "text/plain": [
              "default                                               0    1\n",
              "account_check_status                                        \n",
              "0 <= ... < 200 DM                                   164  105\n",
              "< 0 DM                                              139  135\n",
              ">= 200 DM / salary assignments for at least 1 year   49   14\n",
              "no checking account                                 348   46"
            ]
          },
          "metadata": {},
          "execution_count": 84
        }
      ]
    },
    {
      "cell_type": "code",
      "source": [
        "pd.crosstab(df_clean['duration_in_month'],df_clean['default'])"
      ],
      "metadata": {
        "id": "pWpcCWNr76v1",
        "outputId": "14f3c62a-b0ac-4998-fa92-66a17a903edf",
        "colab": {
          "base_uri": "https://localhost:8080/",
          "height": 1000
        }
      },
      "execution_count": 85,
      "outputs": [
        {
          "output_type": "execute_result",
          "data": {
            "text/html": [
              "<div>\n",
              "<style scoped>\n",
              "    .dataframe tbody tr th:only-of-type {\n",
              "        vertical-align: middle;\n",
              "    }\n",
              "\n",
              "    .dataframe tbody tr th {\n",
              "        vertical-align: top;\n",
              "    }\n",
              "\n",
              "    .dataframe thead th {\n",
              "        text-align: right;\n",
              "    }\n",
              "</style>\n",
              "<table border=\"1\" class=\"dataframe\">\n",
              "  <thead>\n",
              "    <tr style=\"text-align: right;\">\n",
              "      <th>default</th>\n",
              "      <th>0</th>\n",
              "      <th>1</th>\n",
              "    </tr>\n",
              "    <tr>\n",
              "      <th>duration_in_month</th>\n",
              "      <th></th>\n",
              "      <th></th>\n",
              "    </tr>\n",
              "  </thead>\n",
              "  <tbody>\n",
              "    <tr>\n",
              "      <th>4</th>\n",
              "      <td>6</td>\n",
              "      <td>0</td>\n",
              "    </tr>\n",
              "    <tr>\n",
              "      <th>5</th>\n",
              "      <td>1</td>\n",
              "      <td>0</td>\n",
              "    </tr>\n",
              "    <tr>\n",
              "      <th>6</th>\n",
              "      <td>66</td>\n",
              "      <td>9</td>\n",
              "    </tr>\n",
              "    <tr>\n",
              "      <th>7</th>\n",
              "      <td>5</td>\n",
              "      <td>0</td>\n",
              "    </tr>\n",
              "    <tr>\n",
              "      <th>8</th>\n",
              "      <td>6</td>\n",
              "      <td>1</td>\n",
              "    </tr>\n",
              "    <tr>\n",
              "      <th>9</th>\n",
              "      <td>35</td>\n",
              "      <td>14</td>\n",
              "    </tr>\n",
              "    <tr>\n",
              "      <th>10</th>\n",
              "      <td>25</td>\n",
              "      <td>3</td>\n",
              "    </tr>\n",
              "    <tr>\n",
              "      <th>11</th>\n",
              "      <td>9</td>\n",
              "      <td>0</td>\n",
              "    </tr>\n",
              "    <tr>\n",
              "      <th>12</th>\n",
              "      <td>130</td>\n",
              "      <td>49</td>\n",
              "    </tr>\n",
              "    <tr>\n",
              "      <th>13</th>\n",
              "      <td>4</td>\n",
              "      <td>0</td>\n",
              "    </tr>\n",
              "    <tr>\n",
              "      <th>14</th>\n",
              "      <td>3</td>\n",
              "      <td>1</td>\n",
              "    </tr>\n",
              "    <tr>\n",
              "      <th>15</th>\n",
              "      <td>52</td>\n",
              "      <td>12</td>\n",
              "    </tr>\n",
              "    <tr>\n",
              "      <th>16</th>\n",
              "      <td>1</td>\n",
              "      <td>1</td>\n",
              "    </tr>\n",
              "    <tr>\n",
              "      <th>18</th>\n",
              "      <td>71</td>\n",
              "      <td>42</td>\n",
              "    </tr>\n",
              "    <tr>\n",
              "      <th>20</th>\n",
              "      <td>7</td>\n",
              "      <td>1</td>\n",
              "    </tr>\n",
              "    <tr>\n",
              "      <th>21</th>\n",
              "      <td>21</td>\n",
              "      <td>9</td>\n",
              "    </tr>\n",
              "    <tr>\n",
              "      <th>22</th>\n",
              "      <td>2</td>\n",
              "      <td>0</td>\n",
              "    </tr>\n",
              "    <tr>\n",
              "      <th>24</th>\n",
              "      <td>128</td>\n",
              "      <td>56</td>\n",
              "    </tr>\n",
              "    <tr>\n",
              "      <th>26</th>\n",
              "      <td>1</td>\n",
              "      <td>0</td>\n",
              "    </tr>\n",
              "    <tr>\n",
              "      <th>27</th>\n",
              "      <td>8</td>\n",
              "      <td>5</td>\n",
              "    </tr>\n",
              "    <tr>\n",
              "      <th>28</th>\n",
              "      <td>2</td>\n",
              "      <td>1</td>\n",
              "    </tr>\n",
              "    <tr>\n",
              "      <th>30</th>\n",
              "      <td>27</td>\n",
              "      <td>13</td>\n",
              "    </tr>\n",
              "    <tr>\n",
              "      <th>33</th>\n",
              "      <td>2</td>\n",
              "      <td>1</td>\n",
              "    </tr>\n",
              "    <tr>\n",
              "      <th>36</th>\n",
              "      <td>46</td>\n",
              "      <td>37</td>\n",
              "    </tr>\n",
              "    <tr>\n",
              "      <th>39</th>\n",
              "      <td>4</td>\n",
              "      <td>1</td>\n",
              "    </tr>\n",
              "    <tr>\n",
              "      <th>40</th>\n",
              "      <td>0</td>\n",
              "      <td>1</td>\n",
              "    </tr>\n",
              "    <tr>\n",
              "      <th>42</th>\n",
              "      <td>8</td>\n",
              "      <td>3</td>\n",
              "    </tr>\n",
              "    <tr>\n",
              "      <th>45</th>\n",
              "      <td>1</td>\n",
              "      <td>4</td>\n",
              "    </tr>\n",
              "    <tr>\n",
              "      <th>47</th>\n",
              "      <td>1</td>\n",
              "      <td>0</td>\n",
              "    </tr>\n",
              "    <tr>\n",
              "      <th>48</th>\n",
              "      <td>20</td>\n",
              "      <td>28</td>\n",
              "    </tr>\n",
              "    <tr>\n",
              "      <th>54</th>\n",
              "      <td>1</td>\n",
              "      <td>1</td>\n",
              "    </tr>\n",
              "    <tr>\n",
              "      <th>60</th>\n",
              "      <td>7</td>\n",
              "      <td>6</td>\n",
              "    </tr>\n",
              "    <tr>\n",
              "      <th>72</th>\n",
              "      <td>0</td>\n",
              "      <td>1</td>\n",
              "    </tr>\n",
              "  </tbody>\n",
              "</table>\n",
              "</div>"
            ],
            "text/plain": [
              "default              0   1\n",
              "duration_in_month         \n",
              "4                    6   0\n",
              "5                    1   0\n",
              "6                   66   9\n",
              "7                    5   0\n",
              "8                    6   1\n",
              "9                   35  14\n",
              "10                  25   3\n",
              "11                   9   0\n",
              "12                 130  49\n",
              "13                   4   0\n",
              "14                   3   1\n",
              "15                  52  12\n",
              "16                   1   1\n",
              "18                  71  42\n",
              "20                   7   1\n",
              "21                  21   9\n",
              "22                   2   0\n",
              "24                 128  56\n",
              "26                   1   0\n",
              "27                   8   5\n",
              "28                   2   1\n",
              "30                  27  13\n",
              "33                   2   1\n",
              "36                  46  37\n",
              "39                   4   1\n",
              "40                   0   1\n",
              "42                   8   3\n",
              "45                   1   4\n",
              "47                   1   0\n",
              "48                  20  28\n",
              "54                   1   1\n",
              "60                   7   6\n",
              "72                   0   1"
            ]
          },
          "metadata": {},
          "execution_count": 85
        }
      ]
    },
    {
      "cell_type": "code",
      "source": [
        "pd.crosstab(df_clean['credit_history'],df_clean['default'])"
      ],
      "metadata": {
        "id": "wERD06M3765y",
        "outputId": "87af20fa-801f-43c7-aa46-e109692025b2",
        "colab": {
          "base_uri": "https://localhost:8080/",
          "height": 237
        }
      },
      "execution_count": 86,
      "outputs": [
        {
          "output_type": "execute_result",
          "data": {
            "text/html": [
              "<div>\n",
              "<style scoped>\n",
              "    .dataframe tbody tr th:only-of-type {\n",
              "        vertical-align: middle;\n",
              "    }\n",
              "\n",
              "    .dataframe tbody tr th {\n",
              "        vertical-align: top;\n",
              "    }\n",
              "\n",
              "    .dataframe thead th {\n",
              "        text-align: right;\n",
              "    }\n",
              "</style>\n",
              "<table border=\"1\" class=\"dataframe\">\n",
              "  <thead>\n",
              "    <tr style=\"text-align: right;\">\n",
              "      <th>default</th>\n",
              "      <th>0</th>\n",
              "      <th>1</th>\n",
              "    </tr>\n",
              "    <tr>\n",
              "      <th>credit_history</th>\n",
              "      <th></th>\n",
              "      <th></th>\n",
              "    </tr>\n",
              "  </thead>\n",
              "  <tbody>\n",
              "    <tr>\n",
              "      <th>all credits at this bank paid back duly</th>\n",
              "      <td>21</td>\n",
              "      <td>28</td>\n",
              "    </tr>\n",
              "    <tr>\n",
              "      <th>critical account/ other credits existing (not at this bank)</th>\n",
              "      <td>243</td>\n",
              "      <td>50</td>\n",
              "    </tr>\n",
              "    <tr>\n",
              "      <th>delay in paying off in the past</th>\n",
              "      <td>60</td>\n",
              "      <td>28</td>\n",
              "    </tr>\n",
              "    <tr>\n",
              "      <th>existing credits paid back duly till now</th>\n",
              "      <td>361</td>\n",
              "      <td>169</td>\n",
              "    </tr>\n",
              "    <tr>\n",
              "      <th>no credits taken/ all credits paid back duly</th>\n",
              "      <td>15</td>\n",
              "      <td>25</td>\n",
              "    </tr>\n",
              "  </tbody>\n",
              "</table>\n",
              "</div>"
            ],
            "text/plain": [
              "default                                               0    1\n",
              "credit_history                                              \n",
              "all credits at this bank paid back duly              21   28\n",
              "critical account/ other credits existing (not a...  243   50\n",
              "delay in paying off in the past                      60   28\n",
              "existing credits paid back duly till now            361  169\n",
              "no credits taken/ all credits paid back duly         15   25"
            ]
          },
          "metadata": {},
          "execution_count": 86
        }
      ]
    },
    {
      "cell_type": "code",
      "metadata": {
        "id": "k7PpZqehERWC",
        "outputId": "09f74576-5116-4659-f391-a372032335d7",
        "colab": {
          "base_uri": "https://localhost:8080/"
        }
      },
      "source": [
        "# Variabel account_check_status\n",
        "\n",
        "conditions = [\n",
        "             ( df_clean['SLIK_Kolektibilitas'] == 'Kolek 1' ),\n",
        "             ( df_clean['SLIK_Kolektibilitas'] == 'Kolek 2' ) | ( df_clean['SLIK_Kolektibilitas'] == 'Kolek 3' ),\n",
        "             ( df_clean['SLIK_Kolektibilitas'] == 'Kolek 4' ) | ( df_clean['SLIK_Kolektibilitas'] == 'Kolek 5' ),\n",
        "             ( df_clean['SLIK_Kolektibilitas'] == 'Tidak_Ditemukan' )\n",
        "             ]\n",
        "\n",
        "choices = [\n",
        "          'Kolek 1',\n",
        "          'Kolek 2&3',\n",
        "          'Kolek 4&5',\n",
        "          'Kolek Tidak_Ditemukan'\n",
        "          ]\n",
        "\n",
        "df_clean['SLIK_Kolektibilitas_Bin'] = np.select(conditions, choices)\n",
        "\n",
        "# Untuk melihat proporsi (dalam persentase) dari variabel Usia\n",
        "print(df_clean['SLIK_Kolektibilitas_Bin'].value_counts(normalize=True) * 100)\n",
        "\n",
        "df_woe_iv = (pd.crosstab(df_clean['SLIK_Kolektibilitas_Bin'],df_clean['default'],normalize='columns')\n",
        "             .assign(woe=lambda dfx: np.log(dfx[1] / dfx[0]))\n",
        "             .assign(iv=lambda dfx: np.sum(dfx['woe']*\n",
        "                                           (dfx[1]-dfx[0]))))\n",
        "\n",
        "print(df_woe_iv)\n",
        "\n",
        "conditions = [\n",
        "             ( df_clean['SLIK_Kolektibilitas'] == 'Kolek 1' ),\n",
        "             ( df_clean['SLIK_Kolektibilitas'] == 'Kolek 2' ) | ( df_clean['SLIK_Kolektibilitas'] == 'Kolek 3' ),\n",
        "             ( df_clean['SLIK_Kolektibilitas'] == 'Kolek 4' ) | ( df_clean['SLIK_Kolektibilitas'] == 'Kolek 5' ),\n",
        "             ( df_clean['SLIK_Kolektibilitas'] == 'Tidak_Ditemukan' )\n",
        "             ]\n",
        "\n",
        "choices = [\n",
        "          -0.8405,\n",
        "          0.0814,\n",
        "          1.1392,\n",
        "          1.0023\n",
        "          ]\n",
        "\n",
        "df_clean['SLIK_Kolektibilitas_WOE'] = np.select(conditions, choices)"
      ],
      "execution_count": null,
      "outputs": [
        {
          "output_type": "stream",
          "name": "stdout",
          "text": [
            "Kolek 2&3                59.810127\n",
            "Kolek 1                  28.481013\n",
            "Kolek 4&5                 6.540084\n",
            "Kolek Tidak_Ditemukan     5.168776\n",
            "Name: SLIK_Kolektibilitas_Bin, dtype: float64\n",
            "default                         0         1       woe        iv\n",
            "SLIK_Kolektibilitas_Bin                                        \n",
            "Kolek 1                  0.341791  0.147482 -0.840493  0.324191\n",
            "Kolek 2&3                0.583582  0.633094  0.081433  0.324191\n",
            "Kolek 4&5                0.040299  0.125899  1.139168  0.324191\n",
            "Kolek Tidak_Ditemukan    0.034328  0.093525  1.002259  0.324191\n"
          ]
        }
      ]
    },
    {
      "cell_type": "code",
      "metadata": {
        "id": "NuuEAUKA2cOJ",
        "outputId": "3f8daafd-882f-4bc2-e3e0-53e837a1c4e4",
        "colab": {
          "base_uri": "https://localhost:8080/"
        }
      },
      "source": [
        "# Variabel duration_in_month dengan WOE dan IV yang belum dioptimumkan\n",
        "\n",
        "conditions = [\n",
        "             ( df_clean['Usia'] <= 23 ),\n",
        "             ( df_clean['Usia'] >= 24 ) & ( df_clean['Usia'] <= 26),\n",
        "             ( df_clean['Usia'] >= 27 ) & ( df_clean['Usia'] <= 28 ),\n",
        "             ( df_clean['Usia'] >= 29 ) & ( df_clean['Usia'] <= 31 ),\n",
        "             ( df_clean['Usia'] >= 32 ) & ( df_clean['Usia'] <= 34 ),\n",
        "             ( df_clean['Usia'] >= 35 ) & ( df_clean['Usia'] <= 37 ),\n",
        "             ( df_clean['Usia'] >= 38 ) & ( df_clean['Usia'] <= 42 ),\n",
        "             ( df_clean['Usia'] >= 43 ) & ( df_clean['Usia'] <= 48 ),\n",
        "             ( df_clean['Usia'] >= 49 ) & ( df_clean['Usia'] <= 55 ),\n",
        "             ( df_clean['Usia'] >= 56 )\n",
        "             ]\n",
        "\n",
        "choices = [\n",
        "          '01.<=23',\n",
        "          '02.24-26',\n",
        "          '03.27-28',\n",
        "          '04.29-31',\n",
        "          '05.32-34',\n",
        "          '06.35-37',\n",
        "          '07.38-42',\n",
        "          '08.43-48',\n",
        "          '09.49-55',\n",
        "          '10.>=56'\n",
        "          ]\n",
        "df_clean['Usia_Bin'] = np.select(conditions, choices)\n",
        "\n",
        "# Untuk melihat proporsi (dalam persentase) dari variabel Usia\n",
        "print(df_clean['Usia_Bin'].value_counts(normalize=True) * 100)\n",
        "\n",
        "print(pd.crosstab(df_clean['Usia_Bin'], df_clean['default']))\n",
        "\n",
        "df_woe_iv = (pd.crosstab(df_clean['Usia_Bin'],df_clean['default'],normalize='columns')\n",
        "             .assign(woe=lambda dfx: np.log(dfx[1] / dfx[0]))\n",
        "             .assign(iv=lambda dfx: np.sum(dfx['woe']*\n",
        "                                           (dfx[1]-dfx[0]))))\n",
        "\n",
        "print(df_woe_iv)"
      ],
      "execution_count": null,
      "outputs": [
        {
          "output_type": "stream",
          "name": "stdout",
          "text": [
            "02.24-26    13.924051\n",
            "07.38-42    11.392405\n",
            "04.29-31    11.181435\n",
            "06.35-37    10.654008\n",
            "01.<=23     10.548523\n",
            "05.32-34     9.704641\n",
            "08.43-48     9.704641\n",
            "03.27-28     9.071730\n",
            "10.>=56      6.962025\n",
            "09.49-55     6.856540\n",
            "Name: Usia_Bin, dtype: float64\n",
            "default    0   1\n",
            "Usia_Bin        \n",
            "01.<=23   60  40\n",
            "02.24-26  82  50\n",
            "03.27-28  62  24\n",
            "04.29-31  75  31\n",
            "05.32-34  63  29\n",
            "06.35-37  83  18\n",
            "07.38-42  80  28\n",
            "08.43-48  68  24\n",
            "09.49-55  50  15\n",
            "10.>=56   47  19\n",
            "default          0         1       woe        iv\n",
            "Usia_Bin                                        \n",
            "01.<=23   0.089552  0.143885  0.474191  0.100136\n",
            "02.24-26  0.122388  0.179856  0.384960  0.100136\n",
            "03.27-28  0.092537  0.086331 -0.069424  0.100136\n",
            "04.29-31  0.111940  0.111511 -0.003844  0.100136\n",
            "05.32-34  0.094030  0.104317  0.103818  0.100136\n",
            "06.35-37  0.123881  0.064748 -0.648812  0.100136\n",
            "07.38-42  0.119403  0.100719 -0.170166  0.100136\n",
            "08.43-48  0.101493  0.086331 -0.161797  0.100136\n",
            "09.49-55  0.074627  0.053957 -0.324316  0.100136\n",
            "10.>=56   0.070149  0.068345 -0.026052  0.100136\n"
          ]
        }
      ]
    },
    {
      "cell_type": "code",
      "metadata": {
        "id": "BETSmws_CDAx",
        "outputId": "cca7d54b-7bd8-4227-b4ba-80a2bd3d5b77",
        "colab": {
          "base_uri": "https://localhost:8080/"
        }
      },
      "source": [
        "# Variabel duration_in_month dengan WOE dan IV yang dioptimumkan\n",
        "\n",
        "conditions = [\n",
        "             ( df_clean['Usia'] <= 23 ),\n",
        "             ( df_clean['Usia'] >= 24 ) & ( df_clean['Usia'] <= 34),\n",
        "             ( df_clean['Usia'] >= 35 ) & ( df_clean['Usia'] <= 55 ),\n",
        "             ( df_clean['Usia'] >= 56 )\n",
        "             ]\n",
        "\n",
        "choices = [\n",
        "          '1.<=23',\n",
        "          '2.24-34',\n",
        "          '3.35-55',\n",
        "          '4.>=56'\n",
        "          ]\n",
        "df_clean['Usia_Bin'] = np.select(conditions, choices)\n",
        "\n",
        "# Untuk melihat proporsi (dalam persentase) dari variabel Usia\n",
        "print(df_clean['Usia_Bin'].value_counts(normalize=True) * 100)\n",
        "\n",
        "print(pd.crosstab(df_clean['Usia_Bin'], df_clean['default']))\n",
        "\n",
        "df_woe_iv = (pd.crosstab(df_clean['Usia_Bin'],df_clean['default'],normalize='columns')\n",
        "             .assign(woe=lambda dfx: np.log(dfx[1] / dfx[0]))\n",
        "             .assign(iv=lambda dfx: np.sum(dfx['woe']*\n",
        "                                           (dfx[1]-dfx[0]))))\n",
        "\n",
        "print(df_woe_iv)\n",
        "\n",
        "conditions = [\n",
        "             ( df_clean['Usia'] <= 23 ),\n",
        "             ( df_clean['Usia'] >= 24 ) & ( df_clean['Usia'] <= 34),\n",
        "             ( df_clean['Usia'] >= 35 ) & ( df_clean['Usia'] <= 55 ),\n",
        "             ( df_clean['Usia'] >= 56 )\n",
        "             ]\n",
        "\n",
        "choices = [\n",
        "          0.474191,\n",
        "          0.135589,\n",
        "          -0.316047,\n",
        "          -0.026052\n",
        "          ]\n",
        "df_clean['Usia_WOE'] = np.select(conditions, choices)"
      ],
      "execution_count": null,
      "outputs": [
        {
          "output_type": "stream",
          "name": "stdout",
          "text": [
            "2.24-34    43.881857\n",
            "3.35-55    38.607595\n",
            "1.<=23     10.548523\n",
            "4.>=56      6.962025\n",
            "Name: Usia_Bin, dtype: float64\n",
            "default     0    1\n",
            "Usia_Bin          \n",
            "1.<=23     60   40\n",
            "2.24-34   282  134\n",
            "3.35-55   281   85\n",
            "4.>=56     47   19\n",
            "default          0         1       woe        iv\n",
            "Usia_Bin                                        \n",
            "1.<=23    0.089552  0.143885  0.474191  0.070016\n",
            "2.24-34   0.420896  0.482014  0.135589  0.070016\n",
            "3.35-55   0.419403  0.305755 -0.316047  0.070016\n",
            "4.>=56    0.070149  0.068345 -0.026052  0.070016\n"
          ]
        }
      ]
    },
    {
      "cell_type": "code",
      "metadata": {
        "id": "S1RnjSNufIqe",
        "outputId": "b6144f5a-c8d9-4837-f1e6-b9c5003a1812",
        "colab": {
          "base_uri": "https://localhost:8080/"
        }
      },
      "source": [
        "# Variabel credit_history\n",
        "\n",
        "# Untuk melihat proporsi (dalam persentase) dari variabel Tujuan_Pinjaman\n",
        "print(df_clean['Tujuan_Pinjaman'].value_counts(normalize=True) * 100)\n",
        "\n",
        "df_woe_iv = (pd.crosstab(df_clean['Tujuan_Pinjaman'],df_clean['default'],normalize='columns')\n",
        "             .assign(woe=lambda dfx: np.log(dfx[1] / dfx[0]))\n",
        "             .assign(iv=lambda dfx: np.sum(dfx['woe']*\n",
        "                                           (dfx[1]-dfx[0]))))\n",
        "\n",
        "print(df_woe_iv)\n",
        "\n",
        "conditions = [\n",
        "             ( (df_clean['Tujuan_Pinjaman'] == 'pendidikan') ), \n",
        "             ( df_clean['Tujuan_Pinjaman'] == 'buka_bisnis' ),\n",
        "             ( (df_clean['Tujuan_Pinjaman'] == 'liburan') ),\n",
        "             ( (df_clean['Tujuan_Pinjaman'] == 'elektronik')   ), \n",
        "             ( df_clean['Tujuan_Pinjaman'] == 'peralatan_rumahtangga' ),\n",
        "             ( df_clean['Tujuan_Pinjaman'] == 'makanan' )\n",
        "             ]\n",
        "\n",
        "choices = [\n",
        "          '1.pendidikan',\n",
        "          '2.buka_bisnis',\n",
        "          '3.liburan',\n",
        "          '4.elektronik',\n",
        "          '5.peralatan_rumahtangga',\n",
        "          '6.makanan'\n",
        "          ]\n",
        "df_clean['Tujuan_Pinjaman_Bin'] = np.select(conditions, choices)\n",
        "\n",
        "print(pd.crosstab(df_clean['Tujuan_Pinjaman_Bin'], df_clean['default']))\n",
        "\n",
        "df_woe_iv = (pd.crosstab(df_clean['Tujuan_Pinjaman_Bin'],df_clean['default'],normalize='columns')\n",
        "             .assign(woe=lambda dfx: np.log(dfx[1] / dfx[0]))\n",
        "             .assign(iv=lambda dfx: np.sum(dfx['woe']*\n",
        "                                           (dfx[1]-dfx[0]))))\n",
        "print(df_woe_iv)\n",
        "\n",
        "conditions = [\n",
        "             ( (df_clean['Tujuan_Pinjaman'] == 'pendidikan') ), \n",
        "             ( df_clean['Tujuan_Pinjaman'] == 'buka_bisnis' ),\n",
        "             ( (df_clean['Tujuan_Pinjaman'] == 'liburan') ),\n",
        "             ( (df_clean['Tujuan_Pinjaman'] == 'elektronik')   ), \n",
        "             ( df_clean['Tujuan_Pinjaman'] == 'peralatan_rumahtangga' ),\n",
        "             ( df_clean['Tujuan_Pinjaman'] == 'makanan' )\n",
        "             ]\n",
        "\n",
        "choices = [\n",
        "          -0.8,\n",
        "          -0.5,\n",
        "          -0.3,\n",
        "          0.4,\n",
        "          0.5,\n",
        "          0.8\n",
        "          ]\n",
        "df_clean['Tujuan_Pinjaman_WOE'] = np.select(conditions, choices)\n"
      ],
      "execution_count": null,
      "outputs": [
        {
          "output_type": "stream",
          "name": "stdout",
          "text": [
            "elektronik               43.037975\n",
            "buka_bisnis              18.670886\n",
            "makanan                  10.970464\n",
            "peralatan_rumahtangga    10.864979\n",
            "liburan                   8.649789\n",
            "pendidikan                7.805907\n",
            "Name: Tujuan_Pinjaman, dtype: float64\n",
            "default                       0         1       woe        iv\n",
            "Tujuan_Pinjaman                                              \n",
            "buka_bisnis            0.200000  0.154676 -0.256983  0.068185\n",
            "elektronik             0.425373  0.442446  0.039352  0.068185\n",
            "liburan                0.089552  0.079137 -0.123646  0.068185\n",
            "makanan                0.092537  0.151079  0.490192  0.068185\n",
            "pendidikan             0.089552  0.050360 -0.575631  0.068185\n",
            "peralatan_rumahtangga  0.102985  0.122302  0.171911  0.068185\n",
            "default                    0    1\n",
            "Tujuan_Pinjaman_Bin              \n",
            "1.pendidikan              60   14\n",
            "2.buka_bisnis            134   43\n",
            "3.liburan                 60   22\n",
            "4.elektronik             285  123\n",
            "5.peralatan_rumahtangga   69   34\n",
            "6.makanan                 62   42\n",
            "default                         0         1       woe        iv\n",
            "Tujuan_Pinjaman_Bin                                            \n",
            "1.pendidikan             0.089552  0.050360 -0.575631  0.068185\n",
            "2.buka_bisnis            0.200000  0.154676 -0.256983  0.068185\n",
            "3.liburan                0.089552  0.079137 -0.123646  0.068185\n",
            "4.elektronik             0.425373  0.442446  0.039352  0.068185\n",
            "5.peralatan_rumahtangga  0.102985  0.122302  0.171911  0.068185\n",
            "6.makanan                0.092537  0.151079  0.490192  0.068185\n"
          ]
        }
      ]
    },
    {
      "cell_type": "markdown",
      "metadata": {
        "id": "f_sqDR6M48Qq"
      },
      "source": [
        "# Proses Modeling"
      ]
    },
    {
      "cell_type": "markdown",
      "metadata": {
        "id": "KSIy6eo85Awm"
      },
      "source": [
        "## Persiapan membuat model: Memilih Variabel Input"
      ]
    },
    {
      "cell_type": "code",
      "metadata": {
        "id": "JfIGL2QLrioC"
      },
      "source": [
        "# Persiapan membuat model\n",
        "# Memilih variabel yang akan diinput ke dalam model\n",
        "# Contoh hanya menggunakan 3 variabel input saja: \n",
        "\n",
        "df_model_WOE = df_clean[['default','account_check_status','duration_in_month','credit_history']]\n",
        "df_model_Bin = df_clean[['default','account_check_status','duration_in_month','credit_history']]\n",
        "df_model = df_clean[['default','account_check_status','duration_in_month','credit_history']]"
      ],
      "execution_count": null,
      "outputs": []
    },
    {
      "cell_type": "code",
      "metadata": {
        "id": "nmsU_19IWKun"
      },
      "source": [
        "# Dalam contoh ini tidak ada oversampling/undersampling"
      ],
      "execution_count": null,
      "outputs": []
    },
    {
      "cell_type": "markdown",
      "metadata": {
        "id": "xNLiPNrW5Wb_"
      },
      "source": [
        "## Membagi dataset menjadi train dan test"
      ]
    },
    {
      "cell_type": "code",
      "metadata": {
        "id": "PX536cJfs5sI"
      },
      "source": [
        "# Membagi dataset menjadi development(train) dan test\n",
        "\n",
        "y = df_model_WOE.loc[:,'default']\n",
        "X = df_model_WOE.loc[:,df_model_WOE.columns != 'default']\n",
        "\n",
        "from sklearn.model_selection import train_test_split\n",
        "X_train, X_test, y_train, y_test = train_test_split(X, y, test_size=0.30, random_state=42)\n",
        "\n",
        "# Dalam bentuk dataframe lengkap\n",
        "df_train = pd.concat([X_train, y_train], axis = 1)\n",
        "df_test = pd.concat([X_test, y_test], axis = 1)\n",
        "\n",
        "# Menghapus indeks dari data yang telah dibuang\n",
        "df_train = df_train.reset_index(drop=True)\n",
        "df_test = df_test.reset_index(drop=True)"
      ],
      "execution_count": null,
      "outputs": []
    },
    {
      "cell_type": "markdown",
      "metadata": {
        "id": "E6HELMO65atK"
      },
      "source": [
        "## Modeling dengan logistic regression"
      ]
    },
    {
      "cell_type": "code",
      "metadata": {
        "id": "4ogRrGGQtHnd",
        "outputId": "f925e9ee-e000-4be2-83e6-8092a3973d4a",
        "colab": {
          "base_uri": "https://localhost:8080/",
          "height": 377
        }
      },
      "source": [
        "# Membuat scorecard dengan menggunakan algoritma logistic regression\n",
        "from sklearn.linear_model import LogisticRegression\n",
        "lr = LogisticRegression() \n",
        "lr.fit(X_train, y_train)\n",
        "\n",
        "print('Coefficient: ', lr.feature_names_in_, lr.coef_)\n",
        "print('Intercept: ', lr.intercept_)\n",
        "print(lr.classes_)\n",
        "\n",
        "# Jika ingin mengetahui detail dari regresi logistik\n",
        "import numpy as np\n",
        "import statsmodels.api as sm\n",
        "\n",
        "model = sm.Logit(y_train, X_train)\n",
        "result = model.fit()\n",
        "\n",
        "result.summary()"
      ],
      "execution_count": null,
      "outputs": [
        {
          "output_type": "stream",
          "name": "stdout",
          "text": [
            "Coefficient:  ['SLIK_Kolektibilitas_WOE' 'DBR_WOE' 'Usia_WOE'] [[0.86139349 0.87926071 0.42979569]]\n",
            "Intercept:  [-0.82758583]\n",
            "[0 1]\n",
            "Optimization terminated successfully.\n",
            "         Current function value: 0.606180\n",
            "         Iterations 5\n"
          ]
        },
        {
          "output_type": "execute_result",
          "data": {
            "text/html": [
              "<table class=\"simpletable\">\n",
              "<caption>Logit Regression Results</caption>\n",
              "<tr>\n",
              "  <th>Dep. Variable:</th>        <td>default</td>     <th>  No. Observations:  </th>  <td>   663</td> \n",
              "</tr>\n",
              "<tr>\n",
              "  <th>Model:</th>                 <td>Logit</td>      <th>  Df Residuals:      </th>  <td>   660</td> \n",
              "</tr>\n",
              "<tr>\n",
              "  <th>Method:</th>                 <td>MLE</td>       <th>  Df Model:          </th>  <td>     2</td> \n",
              "</tr>\n",
              "<tr>\n",
              "  <th>Date:</th>            <td>Mon, 06 Dec 2021</td> <th>  Pseudo R-squ.:     </th> <td>0.003675</td>\n",
              "</tr>\n",
              "<tr>\n",
              "  <th>Time:</th>                <td>16:48:44</td>     <th>  Log-Likelihood:    </th> <td> -401.90</td>\n",
              "</tr>\n",
              "<tr>\n",
              "  <th>converged:</th>             <td>True</td>       <th>  LL-Null:           </th> <td> -403.38</td>\n",
              "</tr>\n",
              "<tr>\n",
              "  <th>Covariance Type:</th>     <td>nonrobust</td>    <th>  LLR p-value:       </th>  <td>0.2271</td> \n",
              "</tr>\n",
              "</table>\n",
              "<table class=\"simpletable\">\n",
              "<tr>\n",
              "             <td></td>                <th>coef</th>     <th>std err</th>      <th>z</th>      <th>P>|z|</th>  <th>[0.025</th>    <th>0.975]</th>  \n",
              "</tr>\n",
              "<tr>\n",
              "  <th>SLIK_Kolektibilitas_WOE</th> <td>    0.9444</td> <td>    0.159</td> <td>    5.928</td> <td> 0.000</td> <td>    0.632</td> <td>    1.257</td>\n",
              "</tr>\n",
              "<tr>\n",
              "  <th>DBR_WOE</th>                 <td>    0.9797</td> <td>    0.138</td> <td>    7.084</td> <td> 0.000</td> <td>    0.709</td> <td>    1.251</td>\n",
              "</tr>\n",
              "<tr>\n",
              "  <th>Usia_WOE</th>                <td>    0.4661</td> <td>    0.324</td> <td>    1.438</td> <td> 0.150</td> <td>   -0.169</td> <td>    1.101</td>\n",
              "</tr>\n",
              "</table>"
            ],
            "text/plain": [
              "<class 'statsmodels.iolib.summary.Summary'>\n",
              "\"\"\"\n",
              "                           Logit Regression Results                           \n",
              "==============================================================================\n",
              "Dep. Variable:                default   No. Observations:                  663\n",
              "Model:                          Logit   Df Residuals:                      660\n",
              "Method:                           MLE   Df Model:                            2\n",
              "Date:                Mon, 06 Dec 2021   Pseudo R-squ.:                0.003675\n",
              "Time:                        16:48:44   Log-Likelihood:                -401.90\n",
              "converged:                       True   LL-Null:                       -403.38\n",
              "Covariance Type:            nonrobust   LLR p-value:                    0.2271\n",
              "===========================================================================================\n",
              "                              coef    std err          z      P>|z|      [0.025      0.975]\n",
              "-------------------------------------------------------------------------------------------\n",
              "SLIK_Kolektibilitas_WOE     0.9444      0.159      5.928      0.000       0.632       1.257\n",
              "DBR_WOE                     0.9797      0.138      7.084      0.000       0.709       1.251\n",
              "Usia_WOE                    0.4661      0.324      1.438      0.150      -0.169       1.101\n",
              "===========================================================================================\n",
              "\"\"\""
            ]
          },
          "metadata": {},
          "execution_count": 578
        }
      ]
    },
    {
      "cell_type": "code",
      "metadata": {
        "id": "znh3oQHT5iMz",
        "outputId": "5e362146-909a-4788-d8c8-110c46fcd5d1",
        "colab": {
          "base_uri": "https://localhost:8080/"
        }
      },
      "source": [
        "train_predict = lr.predict(X_train)\n",
        "test_predict = lr.predict(X_test)\n",
        "print(test_predict)\n",
        "# Cara adalah 0 jika bayar, dan 1 jika default"
      ],
      "execution_count": null,
      "outputs": [
        {
          "output_type": "stream",
          "name": "stdout",
          "text": [
            "[0 0 1 0 0 0 0 0 0 0 0 0 0 0 0 0 0 0 0 1 0 0 1 0 0 0 0 0 0 0 0 0 1 0 0 0 0\n",
            " 1 0 0 0 1 0 0 0 0 0 0 0 0 0 0 0 0 0 1 0 0 0 0 0 0 1 0 0 1 0 0 0 0 0 0 0 0\n",
            " 0 0 0 0 0 0 0 0 0 0 0 1 0 0 0 0 0 0 0 0 0 0 0 0 0 0 0 0 0 0 0 0 0 0 1 0 0\n",
            " 0 0 0 1 0 0 0 1 0 1 0 0 0 0 0 0 0 0 1 1 0 1 0 1 0 0 0 0 0 0 0 0 0 0 1 1 0\n",
            " 0 0 0 0 0 0 1 0 0 0 0 0 0 0 0 0 0 0 0 0 0 0 1 0 0 0 1 1 0 0 0 0 0 0 0 0 0\n",
            " 0 1 0 0 0 1 0 0 0 0 0 0 0 1 0 0 0 0 0 0 0 0 0 0 0 0 0 0 0 0 0 1 0 0 0 0 0\n",
            " 0 0 0 0 0 0 0 0 0 0 0 0 0 0 0 0 0 0 0 1 0 1 0 0 0 0 0 0 0 0 0 0 1 1 0 0 0\n",
            " 0 0 0 0 0 0 1 0 0 0 1 0 0 0 0 0 0 0 0 1 0 0 0 0 0 0]\n"
          ]
        }
      ]
    },
    {
      "cell_type": "code",
      "metadata": {
        "id": "2M8VyKMB6L9O",
        "outputId": "325adda8-2c8c-46c2-cb34-ce50ce907077",
        "colab": {
          "base_uri": "https://localhost:8080/"
        }
      },
      "source": [
        "test_pred_proba = lr.predict_proba(X_test)\n",
        "print(test_pred_proba)\n",
        "# Cara bacanya adalah 0.635 adalah probabilitas 0 dan 0.364 adaalah probabilitas 1\n",
        "# Dengan mengacu probabilitas 1 diatas 0.5 maka default / 1"
      ],
      "execution_count": null,
      "outputs": [
        {
          "output_type": "stream",
          "name": "stdout",
          "text": [
            "[[0.76128807 0.23871193]\n",
            " [0.68196331 0.31803669]\n",
            " [0.47826863 0.52173137]\n",
            " [0.80812584 0.19187416]\n",
            " [0.68196331 0.31803669]\n",
            " [0.79712241 0.20287759]\n",
            " [0.70112653 0.29887347]\n",
            " [0.71616446 0.28383554]\n",
            " [0.63975174 0.36024826]\n",
            " [0.80455626 0.19544374]\n",
            " [0.88731536 0.11268464]\n",
            " [0.87586834 0.12413166]\n",
            " [0.69804444 0.30195556]\n",
            " [0.8332905  0.1667095 ]\n",
            " [0.76128807 0.23871193]\n",
            " [0.7806552  0.2193448 ]\n",
            " [0.74015595 0.25984405]\n",
            " [0.68196331 0.31803669]\n",
            " [0.56283126 0.43716874]\n",
            " [0.28760935 0.71239065]\n",
            " [0.80455626 0.19544374]\n",
            " [0.80455626 0.19544374]\n",
            " [0.24952739 0.75047261]\n",
            " [0.80455626 0.19544374]\n",
            " [0.68196331 0.31803669]\n",
            " [0.84808163 0.15191837]\n",
            " [0.74015595 0.25984405]\n",
            " [0.64241789 0.35758211]\n",
            " [0.83567593 0.16432407]\n",
            " [0.66976854 0.33023146]\n",
            " [0.68196331 0.31803669]\n",
            " [0.68317425 0.31682575]\n",
            " [0.24952739 0.75047261]\n",
            " [0.80455626 0.19544374]\n",
            " [0.91707466 0.08292534]\n",
            " [0.74015595 0.25984405]\n",
            " [0.63975174 0.36024826]\n",
            " [0.28760935 0.71239065]\n",
            " [0.80455626 0.19544374]\n",
            " [0.56283126 0.43716874]\n",
            " [0.80455626 0.19544374]\n",
            " [0.42363297 0.57636703]\n",
            " [0.7806552  0.2193448 ]\n",
            " [0.63975174 0.36024826]\n",
            " [0.62336045 0.37663955]\n",
            " [0.72250478 0.27749522]\n",
            " [0.80455626 0.19544374]\n",
            " [0.90106702 0.09893298]\n",
            " [0.77256924 0.22743076]\n",
            " [0.80455626 0.19544374]\n",
            " [0.51463317 0.48536683]\n",
            " [0.87586834 0.12413166]\n",
            " [0.51463317 0.48536683]\n",
            " [0.53196186 0.46803814]\n",
            " [0.8332905  0.1667095 ]\n",
            " [0.28760935 0.71239065]\n",
            " [0.84808163 0.15191837]\n",
            " [0.80814636 0.19185364]\n",
            " [0.72250478 0.27749522]\n",
            " [0.51143257 0.48856743]\n",
            " [0.84808163 0.15191837]\n",
            " [0.8332905  0.1667095 ]\n",
            " [0.34107183 0.65892817]\n",
            " [0.84808163 0.15191837]\n",
            " [0.85317982 0.14682018]\n",
            " [0.28760935 0.71239065]\n",
            " [0.62207433 0.37792567]\n",
            " [0.58863045 0.41136955]\n",
            " [0.67511322 0.32488678]\n",
            " [0.51463317 0.48536683]\n",
            " [0.53196186 0.46803814]\n",
            " [0.90106702 0.09893298]\n",
            " [0.71547808 0.28452192]\n",
            " [0.81524995 0.18475005]\n",
            " [0.71547808 0.28452192]\n",
            " [0.67511322 0.32488678]\n",
            " [0.90106702 0.09893298]\n",
            " [0.51463317 0.48536683]\n",
            " [0.63975174 0.36024826]\n",
            " [0.80455626 0.19544374]\n",
            " [0.70112653 0.29887347]\n",
            " [0.8332905  0.1667095 ]\n",
            " [0.91707466 0.08292534]\n",
            " [0.8520838  0.1479162 ]\n",
            " [0.91707466 0.08292534]\n",
            " [0.47826863 0.52173137]\n",
            " [0.69804444 0.30195556]\n",
            " [0.63975174 0.36024826]\n",
            " [0.62207433 0.37792567]\n",
            " [0.65563266 0.34436734]\n",
            " [0.80455626 0.19544374]\n",
            " [0.90708993 0.09291007]\n",
            " [0.74015595 0.25984405]\n",
            " [0.56283126 0.43716874]\n",
            " [0.80812584 0.19187416]\n",
            " [0.76128807 0.23871193]\n",
            " [0.64241789 0.35758211]\n",
            " [0.51463317 0.48536683]\n",
            " [0.8332905  0.1667095 ]\n",
            " [0.80455626 0.19544374]\n",
            " [0.63975174 0.36024826]\n",
            " [0.91707466 0.08292534]\n",
            " [0.79712241 0.20287759]\n",
            " [0.51143257 0.48856743]\n",
            " [0.91707466 0.08292534]\n",
            " [0.56283126 0.43716874]\n",
            " [0.68196331 0.31803669]\n",
            " [0.8332905  0.1667095 ]\n",
            " [0.28760935 0.71239065]\n",
            " [0.91707466 0.08292534]\n",
            " [0.82671418 0.17328582]\n",
            " [0.67511322 0.32488678]\n",
            " [0.51463317 0.48536683]\n",
            " [0.80455626 0.19544374]\n",
            " [0.47826863 0.52173137]\n",
            " [0.80455626 0.19544374]\n",
            " [0.8332905  0.1667095 ]\n",
            " [0.74015595 0.25984405]\n",
            " [0.39823613 0.60176387]\n",
            " [0.8332905  0.1667095 ]\n",
            " [0.46297466 0.53702534]\n",
            " [0.58863045 0.41136955]\n",
            " [0.51463317 0.48536683]\n",
            " [0.71616446 0.28383554]\n",
            " [0.51463317 0.48536683]\n",
            " [0.80455626 0.19544374]\n",
            " [0.56283126 0.43716874]\n",
            " [0.68196331 0.31803669]\n",
            " [0.80455626 0.19544374]\n",
            " [0.47826863 0.52173137]\n",
            " [0.46297466 0.53702534]\n",
            " [0.65563266 0.34436734]\n",
            " [0.28760935 0.71239065]\n",
            " [0.90106702 0.09893298]\n",
            " [0.24952739 0.75047261]\n",
            " [0.80455626 0.19544374]\n",
            " [0.51463317 0.48536683]\n",
            " [0.69804444 0.30195556]\n",
            " [0.90106702 0.09893298]\n",
            " [0.64241789 0.35758211]\n",
            " [0.7806552  0.2193448 ]\n",
            " [0.65563266 0.34436734]\n",
            " [0.78456678 0.21543322]\n",
            " [0.68196331 0.31803669]\n",
            " [0.63975174 0.36024826]\n",
            " [0.47826863 0.52173137]\n",
            " [0.29888089 0.70111911]\n",
            " [0.71547808 0.28452192]\n",
            " [0.56283126 0.43716874]\n",
            " [0.72425023 0.27574977]\n",
            " [0.80455626 0.19544374]\n",
            " [0.64241789 0.35758211]\n",
            " [0.90708993 0.09291007]\n",
            " [0.63975174 0.36024826]\n",
            " [0.28760935 0.71239065]\n",
            " [0.68317425 0.31682575]\n",
            " [0.72425023 0.27574977]\n",
            " [0.91707466 0.08292534]\n",
            " [0.70112653 0.29887347]\n",
            " [0.8332905  0.1667095 ]\n",
            " [0.90106702 0.09893298]\n",
            " [0.65563266 0.34436734]\n",
            " [0.8332905  0.1667095 ]\n",
            " [0.5136119  0.4863881 ]\n",
            " [0.70112653 0.29887347]\n",
            " [0.85317982 0.14682018]\n",
            " [0.68317425 0.31682575]\n",
            " [0.70112653 0.29887347]\n",
            " [0.83646007 0.16353993]\n",
            " [0.51463317 0.48536683]\n",
            " [0.34107183 0.65892817]\n",
            " [0.80455626 0.19544374]\n",
            " [0.68317425 0.31682575]\n",
            " [0.80455626 0.19544374]\n",
            " [0.28760935 0.71239065]\n",
            " [0.47826863 0.52173137]\n",
            " [0.56283126 0.43716874]\n",
            " [0.91707466 0.08292534]\n",
            " [0.80455626 0.19544374]\n",
            " [0.8332905  0.1667095 ]\n",
            " [0.5136119  0.4863881 ]\n",
            " [0.90106702 0.09893298]\n",
            " [0.8332905  0.1667095 ]\n",
            " [0.90708993 0.09291007]\n",
            " [0.67511322 0.32488678]\n",
            " [0.8332905  0.1667095 ]\n",
            " [0.24952739 0.75047261]\n",
            " [0.63975174 0.36024826]\n",
            " [0.81868789 0.18131211]\n",
            " [0.91707466 0.08292534]\n",
            " [0.24952739 0.75047261]\n",
            " [0.71616446 0.28383554]\n",
            " [0.5136119  0.4863881 ]\n",
            " [0.56283126 0.43716874]\n",
            " [0.90106702 0.09893298]\n",
            " [0.90106702 0.09893298]\n",
            " [0.64241789 0.35758211]\n",
            " [0.74015595 0.25984405]\n",
            " [0.47826863 0.52173137]\n",
            " [0.84808163 0.15191837]\n",
            " [0.83646007 0.16353993]\n",
            " [0.91707466 0.08292534]\n",
            " [0.8332905  0.1667095 ]\n",
            " [0.66773255 0.33226745]\n",
            " [0.8332905  0.1667095 ]\n",
            " [0.69683717 0.30316283]\n",
            " [0.71616446 0.28383554]\n",
            " [0.85317982 0.14682018]\n",
            " [0.71616446 0.28383554]\n",
            " [0.90106702 0.09893298]\n",
            " [0.80455626 0.19544374]\n",
            " [0.8520838  0.1479162 ]\n",
            " [0.8332905  0.1667095 ]\n",
            " [0.65563266 0.34436734]\n",
            " [0.56283126 0.43716874]\n",
            " [0.51463317 0.48536683]\n",
            " [0.29888089 0.70111911]\n",
            " [0.83567593 0.16432407]\n",
            " [0.68196331 0.31803669]\n",
            " [0.71616446 0.28383554]\n",
            " [0.80455626 0.19544374]\n",
            " [0.67511322 0.32488678]\n",
            " [0.60557684 0.39442316]\n",
            " [0.71616446 0.28383554]\n",
            " [0.56283126 0.43716874]\n",
            " [0.66773255 0.33226745]\n",
            " [0.8520838  0.1479162 ]\n",
            " [0.67511322 0.32488678]\n",
            " [0.83646007 0.16353993]\n",
            " [0.72250478 0.27749522]\n",
            " [0.69016189 0.30983811]\n",
            " [0.5136119  0.4863881 ]\n",
            " [0.63975174 0.36024826]\n",
            " [0.80455626 0.19544374]\n",
            " [0.68317425 0.31682575]\n",
            " [0.84808163 0.15191837]\n",
            " [0.87586834 0.12413166]\n",
            " [0.51463317 0.48536683]\n",
            " [0.8332905  0.1667095 ]\n",
            " [0.74015595 0.25984405]\n",
            " [0.68196331 0.31803669]\n",
            " [0.47826863 0.52173137]\n",
            " [0.71616446 0.28383554]\n",
            " [0.42363297 0.57636703]\n",
            " [0.70112653 0.29887347]\n",
            " [0.70112653 0.29887347]\n",
            " [0.69426042 0.30573958]\n",
            " [0.91707466 0.08292534]\n",
            " [0.65563266 0.34436734]\n",
            " [0.80455626 0.19544374]\n",
            " [0.51463317 0.48536683]\n",
            " [0.85317982 0.14682018]\n",
            " [0.87586834 0.12413166]\n",
            " [0.7806552  0.2193448 ]\n",
            " [0.47826863 0.52173137]\n",
            " [0.22327812 0.77672188]\n",
            " [0.8332905  0.1667095 ]\n",
            " [0.82135023 0.17864977]\n",
            " [0.67511322 0.32488678]\n",
            " [0.70112653 0.29887347]\n",
            " [0.60557684 0.39442316]\n",
            " [0.69426042 0.30573958]\n",
            " [0.82135023 0.17864977]\n",
            " [0.80455626 0.19544374]\n",
            " [0.71616446 0.28383554]\n",
            " [0.47826863 0.52173137]\n",
            " [0.72250478 0.27749522]\n",
            " [0.90106702 0.09893298]\n",
            " [0.82591206 0.17408794]\n",
            " [0.24952739 0.75047261]\n",
            " [0.8313177  0.1686823 ]\n",
            " [0.8332905  0.1667095 ]\n",
            " [0.72425023 0.27574977]\n",
            " [0.81524995 0.18475005]\n",
            " [0.76128807 0.23871193]\n",
            " [0.76128807 0.23871193]\n",
            " [0.8332905  0.1667095 ]\n",
            " [0.90708993 0.09291007]\n",
            " [0.28760935 0.71239065]\n",
            " [0.67511322 0.32488678]\n",
            " [0.62336045 0.37663955]\n",
            " [0.56283126 0.43716874]\n",
            " [0.8332905  0.1667095 ]\n",
            " [0.7806552  0.2193448 ]\n",
            " [0.74015595 0.25984405]]\n"
          ]
        }
      ]
    },
    {
      "cell_type": "code",
      "metadata": {
        "id": "Hl8xWP_u7BET",
        "outputId": "ffe162f4-91e3-49d2-a097-6f264c1cf5ad",
        "colab": {
          "base_uri": "https://localhost:8080/"
        }
      },
      "source": [
        "# Bagaimana cara tahu bahwa model itu bagus atau tidak?\n",
        "# Pembahasan di bagian evaluasi model\n",
        "# koding nya adalah\n",
        "from sklearn.metrics import classification_report\n",
        "from sklearn.metrics import confusion_matrix\n",
        "# Obtain the results from the classification report and confusion matrix \n",
        "print('Classifcation report:\\n', classification_report(y_test, test_predict))\n",
        "conf_mat = confusion_matrix(y_true=y_test, y_pred=test_predict)\n",
        "print('Confusion matrix:\\n', conf_mat)\n",
        "\n",
        "# Print ROC_AUC score using probabilities\n",
        "from sklearn.metrics import r2_score, classification_report, confusion_matrix, accuracy_score, roc_auc_score, roc_curve, precision_recall_curve, average_precision_score\n",
        "print('ROC Score:', roc_auc_score(y_test, test_pred_proba[:, 1]))"
      ],
      "execution_count": null,
      "outputs": [
        {
          "output_type": "stream",
          "name": "stdout",
          "text": [
            "Classifcation report:\n",
            "               precision    recall  f1-score   support\n",
            "\n",
            "           0       0.77      0.94      0.85       204\n",
            "           1       0.66      0.28      0.40        81\n",
            "\n",
            "    accuracy                           0.75       285\n",
            "   macro avg       0.71      0.61      0.62       285\n",
            "weighted avg       0.74      0.75      0.72       285\n",
            "\n",
            "Confusion matrix:\n",
            " [[192  12]\n",
            " [ 58  23]]\n",
            "ROC Score: 0.7135378842895184\n"
          ]
        }
      ]
    },
    {
      "cell_type": "markdown",
      "metadata": {
        "id": "QMUBI-kGx7lu"
      },
      "source": [
        "## Modeling logistic regression dengan Stepwise"
      ]
    },
    {
      "cell_type": "code",
      "metadata": {
        "id": "fDy2hUKGyBLI",
        "outputId": "80db2968-419e-4c35-b733-34b23056636b",
        "colab": {
          "base_uri": "https://localhost:8080/"
        }
      },
      "source": [
        "# Membuat scorecard dengan menggunakan algoritma logistic regression\n",
        "from sklearn.linear_model import LogisticRegression\n",
        "from sklearn.feature_selection import SequentialFeatureSelector\n",
        "\n",
        "lr = LogisticRegression()\n",
        "lr.fit(X_train, y_train)\n",
        "\n",
        "feature_names = np.array(X.columns)\n",
        "\n",
        "sfs_backward = SequentialFeatureSelector(\n",
        "    lr, n_features_to_select=None, direction=\"backward\"\n",
        ").fit(X_train, y_train)\n",
        "\n",
        "print(\n",
        "    'Variabel signifikan stepwise backward: ', feature_names[sfs_backward.get_support()]\n",
        ")\n",
        "\n",
        "sfs_forward = SequentialFeatureSelector(\n",
        "    lr, n_features_to_select=None, direction=\"forward\"\n",
        ").fit(X_train, y_train)\n",
        "\n",
        "print(\n",
        "    'Variabel signifikan stepwise forward: ', feature_names[sfs_forward.get_support()]\n",
        ")"
      ],
      "execution_count": null,
      "outputs": [
        {
          "output_type": "stream",
          "name": "stdout",
          "text": [
            "Variabel signifikan stepwise backward:  ['SLIK_Kolektibilitas_WOE']\n",
            "Variabel signifikan stepwise forward:  ['SLIK_Kolektibilitas_WOE']\n"
          ]
        }
      ]
    },
    {
      "cell_type": "code",
      "metadata": {
        "id": "RhkwYEXo4bjS",
        "outputId": "f9ab46f1-5616-4639-86de-0cde471c4909",
        "colab": {
          "base_uri": "https://localhost:8080/"
        }
      },
      "source": [
        "# Testing hasil stepwise\n",
        "\n",
        "df_step = df_clean[['SLIK_Kolektibilitas_WOE','DBR_WOE','Usia_WOE','Mobile_Provider_WOE','Device_Apps_Installed_WOE'\n",
        "                  ,'Mobile_Number_Active_Since_WOE','default'\n",
        "                  ]]\n",
        "\n",
        "# Membagi dataset menjadi development(train) dan test\n",
        "\n",
        "y_step = df_step.loc[:,'default']\n",
        "X_step = df_step.loc[:,df_step.columns != 'default']\n",
        "\n",
        "from sklearn.model_selection import train_test_split\n",
        "X_train_step, X_test_step, y_train_step, y_test_step = train_test_split(X_step, y_step, test_size=0.30, random_state=42)\n",
        "\n",
        "lr_step = LogisticRegression()\n",
        "lr_step.fit(X_train_step, y_train_step)\n",
        "\n",
        "test_predict_step = lr_step.predict(X_test_step)\n",
        "test_pred_proba_step = lr_step.predict_proba(X_test_step)\n",
        "\n",
        "# Bagaimana cara tahu bahwa model itu bagus atau tidak?\n",
        "# Pembahasan di bagian evaluasi model\n",
        "# koding nya adalah\n",
        "from sklearn.metrics import classification_report\n",
        "from sklearn.metrics import confusion_matrix\n",
        "# Obtain the results from the classification report and confusion matrix \n",
        "print('Classifcation report:\\n', classification_report(y_test_step, test_predict_step))\n",
        "conf_mat = confusion_matrix(y_true=y_test_step, y_pred=test_predict_step)\n",
        "print('Confusion matrix:\\n', conf_mat)\n",
        "\n",
        "# Print ROC_AUC score using probabilities\n",
        "from sklearn.metrics import r2_score, classification_report, confusion_matrix, accuracy_score, roc_auc_score, roc_curve, precision_recall_curve, average_precision_score\n",
        "print('ROC Score:', roc_auc_score(y_test_step, test_pred_proba_step[:, 1]))"
      ],
      "execution_count": null,
      "outputs": [
        {
          "output_type": "stream",
          "name": "stdout",
          "text": [
            "Classifcation report:\n",
            "               precision    recall  f1-score   support\n",
            "\n",
            "           0       0.81      0.93      0.86       204\n",
            "           1       0.71      0.46      0.56        81\n",
            "\n",
            "    accuracy                           0.79       285\n",
            "   macro avg       0.76      0.69      0.71       285\n",
            "weighted avg       0.78      0.79      0.78       285\n",
            "\n",
            "Confusion matrix:\n",
            " [[189  15]\n",
            " [ 44  37]]\n",
            "ROC Score: 0.7784132171387074\n"
          ]
        }
      ]
    },
    {
      "cell_type": "markdown",
      "metadata": {
        "id": "z3p1c7BC-na0"
      },
      "source": [
        "## Membuat Scoring dari probabilitas"
      ]
    },
    {
      "cell_type": "code",
      "metadata": {
        "id": "Q-zRnxfztHXQ"
      },
      "source": [
        "# Membuat scoring\n",
        "P0 = 600 # Target Score\n",
        "PDO = 50 # Target Odds\n",
        "theta0 = 1/4 # Points double odds\n",
        "B = PDO/np.log(2)\n",
        "A = P0 + B * np.log(theta0)"
      ],
      "execution_count": null,
      "outputs": []
    },
    {
      "cell_type": "code",
      "metadata": {
        "id": "D24tHBUgzqpb"
      },
      "source": [
        "# Perhitungan manual untuk data train\n",
        "train_pred_proba = lr.predict_proba(X_train)[:,1]\n",
        "score = A - B*np.log(train_pred_proba/(1-train_pred_proba))\n",
        "df_train_pred_proba = pd.DataFrame(train_pred_proba, columns=['train_pred_proba'])\n",
        "df_train_score = pd.DataFrame(score, columns=['Score'])\n",
        "df_train_scoring_manual = pd.concat([df_train, df_train_pred_proba, df_train_score], axis = 1)\n",
        "\n",
        "# Perhitungan manual untuk data test\n",
        "test_pred_proba = lr.predict_proba(X_test)[:,1]\n",
        "score = A - B*np.log(test_pred_proba/(1-test_pred_proba))\n",
        "df_test_pred_proba = pd.DataFrame(test_pred_proba, columns=['test_pred_proba'])\n",
        "df_test_score = pd.DataFrame(score, columns=['Score'])\n",
        "df_test_scoring_manual = pd.concat([df_test, df_test_pred_proba, df_test_score], axis = 1)"
      ],
      "execution_count": null,
      "outputs": []
    },
    {
      "cell_type": "code",
      "metadata": {
        "id": "i4ORyQnY17cV",
        "outputId": "76a65d13-3b7b-41d6-f61d-74cdc6d3a83a",
        "colab": {
          "base_uri": "https://localhost:8080/",
          "height": 17
        }
      },
      "source": [
        "# Untuk memudahkan membaca hasil, maka disimpan dalam bentuk csv dan didownload\n",
        "from google.colab import files\n",
        "df_train_scoring_manual.to_csv('df_train_scoring_manual.csv') \n",
        "files.download('df_train_scoring_manual.csv')\n",
        "\n",
        "df_test_scoring_manual.to_csv('df_test_scoring_manual.csv') \n",
        "files.download('df_test_scoring_manual.csv')"
      ],
      "execution_count": null,
      "outputs": [
        {
          "output_type": "display_data",
          "data": {
            "application/javascript": [
              "\n",
              "    async function download(id, filename, size) {\n",
              "      if (!google.colab.kernel.accessAllowed) {\n",
              "        return;\n",
              "      }\n",
              "      const div = document.createElement('div');\n",
              "      const label = document.createElement('label');\n",
              "      label.textContent = `Downloading \"${filename}\": `;\n",
              "      div.appendChild(label);\n",
              "      const progress = document.createElement('progress');\n",
              "      progress.max = size;\n",
              "      div.appendChild(progress);\n",
              "      document.body.appendChild(div);\n",
              "\n",
              "      const buffers = [];\n",
              "      let downloaded = 0;\n",
              "\n",
              "      const channel = await google.colab.kernel.comms.open(id);\n",
              "      // Send a message to notify the kernel that we're ready.\n",
              "      channel.send({})\n",
              "\n",
              "      for await (const message of channel.messages) {\n",
              "        // Send a message to notify the kernel that we're ready.\n",
              "        channel.send({})\n",
              "        if (message.buffers) {\n",
              "          for (const buffer of message.buffers) {\n",
              "            buffers.push(buffer);\n",
              "            downloaded += buffer.byteLength;\n",
              "            progress.value = downloaded;\n",
              "          }\n",
              "        }\n",
              "      }\n",
              "      const blob = new Blob(buffers, {type: 'application/binary'});\n",
              "      const a = document.createElement('a');\n",
              "      a.href = window.URL.createObjectURL(blob);\n",
              "      a.download = filename;\n",
              "      div.appendChild(a);\n",
              "      a.click();\n",
              "      div.remove();\n",
              "    }\n",
              "  "
            ],
            "text/plain": [
              "<IPython.core.display.Javascript object>"
            ]
          },
          "metadata": {}
        },
        {
          "output_type": "display_data",
          "data": {
            "application/javascript": [
              "download(\"download_0d06c7f9-958f-4d1f-a3aa-77a892aaaeb0\", \"df_train_scoring_manual.csv\", 46423)"
            ],
            "text/plain": [
              "<IPython.core.display.Javascript object>"
            ]
          },
          "metadata": {}
        },
        {
          "output_type": "display_data",
          "data": {
            "application/javascript": [
              "\n",
              "    async function download(id, filename, size) {\n",
              "      if (!google.colab.kernel.accessAllowed) {\n",
              "        return;\n",
              "      }\n",
              "      const div = document.createElement('div');\n",
              "      const label = document.createElement('label');\n",
              "      label.textContent = `Downloading \"${filename}\": `;\n",
              "      div.appendChild(label);\n",
              "      const progress = document.createElement('progress');\n",
              "      progress.max = size;\n",
              "      div.appendChild(progress);\n",
              "      document.body.appendChild(div);\n",
              "\n",
              "      const buffers = [];\n",
              "      let downloaded = 0;\n",
              "\n",
              "      const channel = await google.colab.kernel.comms.open(id);\n",
              "      // Send a message to notify the kernel that we're ready.\n",
              "      channel.send({})\n",
              "\n",
              "      for await (const message of channel.messages) {\n",
              "        // Send a message to notify the kernel that we're ready.\n",
              "        channel.send({})\n",
              "        if (message.buffers) {\n",
              "          for (const buffer of message.buffers) {\n",
              "            buffers.push(buffer);\n",
              "            downloaded += buffer.byteLength;\n",
              "            progress.value = downloaded;\n",
              "          }\n",
              "        }\n",
              "      }\n",
              "      const blob = new Blob(buffers, {type: 'application/binary'});\n",
              "      const a = document.createElement('a');\n",
              "      a.href = window.URL.createObjectURL(blob);\n",
              "      a.download = filename;\n",
              "      div.appendChild(a);\n",
              "      a.click();\n",
              "      div.remove();\n",
              "    }\n",
              "  "
            ],
            "text/plain": [
              "<IPython.core.display.Javascript object>"
            ]
          },
          "metadata": {}
        },
        {
          "output_type": "display_data",
          "data": {
            "application/javascript": [
              "download(\"download_85e59492-cbfd-4e09-ae14-b4f200575399\", \"df_test_scoring_manual.csv\", 19916)"
            ],
            "text/plain": [
              "<IPython.core.display.Javascript object>"
            ]
          },
          "metadata": {}
        }
      ]
    }
  ]
}