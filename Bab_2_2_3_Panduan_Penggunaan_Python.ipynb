{
  "nbformat": 4,
  "nbformat_minor": 0,
  "metadata": {
    "colab": {
      "name": "Bab_2.2.3_Panduan_Penggunaan_Python.ipynb",
      "provenance": [],
      "authorship_tag": "ABX9TyNTtFSfrV+8FJarsICZpSQF",
      "include_colab_link": true
    },
    "kernelspec": {
      "name": "python3",
      "display_name": "Python 3"
    },
    "language_info": {
      "name": "python"
    }
  },
  "cells": [
    {
      "cell_type": "markdown",
      "metadata": {
        "id": "view-in-github",
        "colab_type": "text"
      },
      "source": [
        "<a href=\"https://colab.research.google.com/github/IndraLukasTjahaja/Digital_Credit_Risk/blob/main/Bab_2_2_3_Panduan_Penggunaan_Python.ipynb\" target=\"_parent\"><img src=\"https://colab.research.google.com/assets/colab-badge.svg\" alt=\"Open In Colab\"/></a>"
      ]
    },
    {
      "cell_type": "markdown",
      "metadata": {
        "id": "9FaHeWA9rE2Z"
      },
      "source": [
        "# 2.2.3\n",
        "## Menulis koding di Python"
      ]
    },
    {
      "cell_type": "code",
      "metadata": {
        "id": "SUxUA_nJrLO5",
        "outputId": "48bcae59-95e9-4f5e-f949-d5ed1b4d13ad",
        "colab": {
          "base_uri": "https://localhost:8080/"
        }
      },
      "source": [
        "# 2.2.3.3\n",
        "print('Helo World')"
      ],
      "execution_count": 1,
      "outputs": [
        {
          "output_type": "stream",
          "text": [
            "Helo World\n"
          ],
          "name": "stdout"
        }
      ]
    },
    {
      "cell_type": "code",
      "metadata": {
        "colab": {
          "base_uri": "https://localhost:8080/"
        },
        "id": "Oy0GWc6Bp3fx",
        "outputId": "c6ff08cc-1105-47b1-88f1-ae5d0816b01b"
      },
      "source": [
        "# Contoh berikut adalah penggunaan rumus dasar matematika di Python:\n",
        "a = 2\n",
        "b = 3\n",
        "c = 4\n",
        "d = (a * b) / c\n",
        "print(d)"
      ],
      "execution_count": null,
      "outputs": [
        {
          "output_type": "stream",
          "text": [
            "1.5\n"
          ],
          "name": "stdout"
        }
      ]
    },
    {
      "cell_type": "code",
      "metadata": {
        "id": "5WnNWm4usF4y"
      },
      "source": [
        "# 2.2.3.4 Impor data di Python\n",
        "\n",
        "# library panda untuk menggunakan data frame\n",
        "import pandas as pd\n",
        "\n",
        "# Impor data dari excel xls ke Python\n",
        "# Pembaca dapat langsung menunjuk kepada file excel yang terletak di website pendamping buku ini\n",
        "# atau mengunduh terlebih dahulu dan menunjuk ke file excel di lokasi hard drive\n",
        "# contoh: df = pd.read_excel('C:\\User\\pembaca\\downloads\\German_credit.xls')\n",
        "df = pd.read_excel('https://tjahaja.com/wp-content/uploads/2021/07/Credit_Scoring_Dataset.xlsx')"
      ],
      "execution_count": null,
      "outputs": []
    },
    {
      "cell_type": "code",
      "metadata": {
        "id": "5EUIvJ6ztTDU"
      },
      "source": [
        "# library pyodbc untuk akses database dari Python\n",
        "import pyodbc\n",
        "\n",
        "# library panda untuk penyimpanan data ke data frame\n",
        "Import panda\n",
        "\n",
        "# Pembaca dapat mengganti NAMA_SERVER dengan server database yang digunakan, dan NAMA_DATABASE dengan nama dari database tersebut.\n",
        "conn = pyodbc.connect(\n",
        "    r'DRIVER={ODBC Driver 11 for SQL Server};'\n",
        "    r'SERVER=NAMA_SERVER;'\n",
        "    r'DATABASE=NAMA_DATABASE;'\n",
        "    r'Trusted_Connection=yes;'\n",
        "    )\n",
        "\n",
        "# Berikut adalah query SQL yang digunakan untuk mendapatkan data dari database\n",
        "query = \"\n",
        "SELECT  *\n",
        "FROM db.tabel_data\n",
        ";\"\n",
        "\n",
        "# Data dari database tersebut di simpan dalam data frame df\n",
        "df = panda.read_sql(query, conn)\n"
      ],
      "execution_count": null,
      "outputs": []
    },
    {
      "cell_type": "code",
      "metadata": {
        "id": "bvJ4gVBctVvV"
      },
      "source": [
        "import pandas\n",
        "\n",
        "# Impor txt\n",
        "df = pandas.read_table(‘german_credit.txt’)\n",
        "\n",
        "# Impor csv\n",
        "df=pandas.read_csv(‘german_credit.csv’)"
      ],
      "execution_count": null,
      "outputs": []
    },
    {
      "cell_type": "code",
      "metadata": {
        "id": "e_hcKHtktlTr"
      },
      "source": [
        "# 2.2.3.5 Struktur Data"
      ],
      "execution_count": null,
      "outputs": []
    },
    {
      "cell_type": "code",
      "metadata": {
        "id": "1PBOPHp_tniL"
      },
      "source": [
        "df.dtypes"
      ],
      "execution_count": null,
      "outputs": []
    },
    {
      "cell_type": "code",
      "metadata": {
        "id": "-7uP5AzouT1i"
      },
      "source": [
        "# 2.2.3.6 Tipe data"
      ],
      "execution_count": null,
      "outputs": []
    },
    {
      "cell_type": "code",
      "metadata": {
        "id": "osUMFHqLuUty"
      },
      "source": [
        "df['installment_as_income_perc'] = df.installment_as_income_perc.astype('category')\n",
        "df['present_res_since'] = df.present_res_since.astype('category')\n",
        "df['people_under_maintenance'] = df.people_under_maintenance.astype('category')\n",
        "df['credits_this_bank'] = df.credits_this_bank.astype('category')"
      ],
      "execution_count": null,
      "outputs": []
    },
    {
      "cell_type": "code",
      "metadata": {
        "id": "QXbJ2tZguYGk"
      },
      "source": [
        "# 2.2.3.7 Analisa Variabel"
      ],
      "execution_count": null,
      "outputs": []
    },
    {
      "cell_type": "code",
      "metadata": {
        "id": "QR-jJLDduZ9D"
      },
      "source": [
        "df['average_credit_per_month'] = df['credit_amount'] / df['duration_in_month']"
      ],
      "execution_count": null,
      "outputs": []
    },
    {
      "cell_type": "code",
      "metadata": {
        "id": "-GdPMvn9uei2"
      },
      "source": [
        "df['average_credit_per_month'] = df['credit_amount'] / df['duration_in_month']"
      ],
      "execution_count": null,
      "outputs": []
    },
    {
      "cell_type": "code",
      "metadata": {
        "id": "qH4rN2Bwugt2"
      },
      "source": [
        "# 2.2.3.8 Membuat fungsi package library"
      ],
      "execution_count": null,
      "outputs": []
    },
    {
      "cell_type": "code",
      "metadata": {
        "id": "te9RXKiSujAy"
      },
      "source": [
        "# Membuat fungsi dengan nama Average_per, yang menerima dua parameter\n",
        "# def Average_per(parameter1, parameter2):\n",
        "#    hasil = parameter1 / parameter2\n",
        "#    return (hasil)\n",
        "\n",
        "# Menggunakan fungsi Average_per, dengan membuat variabel baru di df\n",
        "df['average_credit_per_month'] = Average_per(df['credit_amount'], df['duration_in_month'])"
      ],
      "execution_count": null,
      "outputs": []
    }
  ]
}