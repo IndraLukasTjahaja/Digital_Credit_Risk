{
  "nbformat": 4,
  "nbformat_minor": 0,
  "metadata": {
    "colab": {
      "name": "Bab_2.3.2_Data_Understanding.ipynb",
      "provenance": [],
      "authorship_tag": "ABX9TyNK/yrIpSDQtxsr4+0wIDUQ",
      "include_colab_link": true
    },
    "kernelspec": {
      "name": "python3",
      "display_name": "Python 3"
    },
    "language_info": {
      "name": "python"
    }
  },
  "cells": [
    {
      "cell_type": "markdown",
      "metadata": {
        "id": "view-in-github",
        "colab_type": "text"
      },
      "source": [
        "<a href=\"https://colab.research.google.com/github/IndraLukasTjahaja/Digital_Credit_Risk/blob/main/Bab%202%20-%20Credit%20Scoring%20Modeling%20dengan%20Python.ipynb\" target=\"_parent\"><img src=\"https://colab.research.google.com/assets/colab-badge.svg\" alt=\"Open In Colab\"/></a>"
      ]
    },
    {
      "cell_type": "code",
      "metadata": {
        "id": "lijleEyYl6gW"
      },
      "source": [
        "# 2.3.2.1 Persiapan data dan impor ke Python"
      ],
      "execution_count": 1,
      "outputs": []
    },
    {
      "cell_type": "code",
      "metadata": {
        "id": "X4yjdoBnl9Xv"
      },
      "source": [
        "# 2.3.2.2 Impor data di Python\n",
        "\n",
        "# library panda untuk menggunakan data frame\n",
        "import pandas as pd\n",
        "\n",
        "# Impor data dari excel xls ke Python\n",
        "# Pembaca dapat langsung menunjuk kepada file excel yang terletak di website pendamping buku ini\n",
        "# atau mengunduh terlebih dahulu dan menunjuk ke file excel di lokasi hard drive\n",
        "# contoh: df = pd.read_excel('C:\\User\\pembaca\\downloads\\Credit_Scoring_Dataset.xlsx')\n",
        "\n",
        "df = pd.read_excel('https://github.com/IndraLukasTjahaja/Digital_Credit_Risk/raw/main/Credit_Scoring_Dataset.xlsx')"
      ],
      "execution_count": 2,
      "outputs": []
    },
    {
      "cell_type": "code",
      "metadata": {
        "colab": {
          "base_uri": "https://localhost:8080/",
          "height": 417
        },
        "id": "xDekPk8lmZ3N",
        "outputId": "8c1e72e6-9870-43c0-ed68-db76668143f2"
      },
      "source": [
        "# 2.3.2.3 Struktur data\n",
        "\n",
        "# Melihat sample dari dataset\n",
        "df.head(10) # Menampilkan 10 baris teratas dari dataframe df"
      ],
      "execution_count": 3,
      "outputs": [
        {
          "output_type": "execute_result",
          "data": {
            "text/html": [
              "<div>\n",
              "<style scoped>\n",
              "    .dataframe tbody tr th:only-of-type {\n",
              "        vertical-align: middle;\n",
              "    }\n",
              "\n",
              "    .dataframe tbody tr th {\n",
              "        vertical-align: top;\n",
              "    }\n",
              "\n",
              "    .dataframe thead th {\n",
              "        text-align: right;\n",
              "    }\n",
              "</style>\n",
              "<table border=\"1\" class=\"dataframe\">\n",
              "  <thead>\n",
              "    <tr style=\"text-align: right;\">\n",
              "      <th></th>\n",
              "      <th>ID</th>\n",
              "      <th>gagal_bayar</th>\n",
              "      <th>Lama_Cicilan</th>\n",
              "      <th>Tujuan_Pinjaman</th>\n",
              "      <th>Jumlah_Pinjaman</th>\n",
              "      <th>Pekerjaan</th>\n",
              "      <th>Pendapatan_perbulan</th>\n",
              "      <th>Lama_Bekerja</th>\n",
              "      <th>Status</th>\n",
              "      <th>Kepemilikan_Rumah</th>\n",
              "      <th>Alamat_Rumah</th>\n",
              "      <th>Alamat_Kantor</th>\n",
              "      <th>Usia</th>\n",
              "      <th>Lama_tinggal_ditempat_sekarang</th>\n",
              "      <th>SLIK_Kolektibilitas</th>\n",
              "      <th>SLIK_Cicilan_Bulanan</th>\n",
              "      <th>SLIK_Outstanding_CC</th>\n",
              "      <th>API_CreditScore_Vendor_A</th>\n",
              "      <th>API_CreditScore_Vendor_B</th>\n",
              "      <th>Device_Type</th>\n",
              "      <th>Device_Apps_Installed</th>\n",
              "      <th>Device_Active_Since</th>\n",
              "      <th>Device_Apps_Segmentation</th>\n",
              "      <th>Mobile_Provider</th>\n",
              "      <th>Mobile_Number_Active_Since</th>\n",
              "      <th>Email_Domain_Type</th>\n",
              "    </tr>\n",
              "  </thead>\n",
              "  <tbody>\n",
              "    <tr>\n",
              "      <th>0</th>\n",
              "      <td>ABC0305</td>\n",
              "      <td>1_Gagal</td>\n",
              "      <td>6</td>\n",
              "      <td>barang_baru</td>\n",
              "      <td>3000000</td>\n",
              "      <td>1_pegawai_tetap</td>\n",
              "      <td>3. 5 - 10 juta</td>\n",
              "      <td>3_1-4_tahun_kerja</td>\n",
              "      <td>2_menikah</td>\n",
              "      <td>3_bersama_keluarga</td>\n",
              "      <td>Daerah_1</td>\n",
              "      <td>Daerah_3</td>\n",
              "      <td>44.0</td>\n",
              "      <td>2_1-5_tahun</td>\n",
              "      <td>Kolek 1</td>\n",
              "      <td>4.378917e+06</td>\n",
              "      <td>0.000000e+00</td>\n",
              "      <td>755</td>\n",
              "      <td>243</td>\n",
              "      <td>Android</td>\n",
              "      <td>110</td>\n",
              "      <td>3_Lebih_3_tahun</td>\n",
              "      <td>Online_Lending</td>\n",
              "      <td>Telco_E</td>\n",
              "      <td>1_Kurang_1_bulan</td>\n",
              "      <td>Professional_Domain</td>\n",
              "    </tr>\n",
              "    <tr>\n",
              "      <th>1</th>\n",
              "      <td>ABC0912</td>\n",
              "      <td>1_Gagal</td>\n",
              "      <td>4</td>\n",
              "      <td>elektronik</td>\n",
              "      <td>1000000</td>\n",
              "      <td>3_wiraswasta</td>\n",
              "      <td>1. &lt; 1 juta</td>\n",
              "      <td>2_&lt;1_tahun_kerja</td>\n",
              "      <td>1_belum_menikah</td>\n",
              "      <td>1_milik_sendiri</td>\n",
              "      <td>Daerah_1</td>\n",
              "      <td>Daerah_4</td>\n",
              "      <td>25.0</td>\n",
              "      <td>4_&gt;10_tahun</td>\n",
              "      <td>Kolek 1</td>\n",
              "      <td>1.847654e+06</td>\n",
              "      <td>0.000000e+00</td>\n",
              "      <td>37</td>\n",
              "      <td>153</td>\n",
              "      <td>Android</td>\n",
              "      <td>94</td>\n",
              "      <td>3_Lebih_3_tahun</td>\n",
              "      <td>Games</td>\n",
              "      <td>Telco_D</td>\n",
              "      <td>1_Kurang_1_bulan</td>\n",
              "      <td>Public_Domain</td>\n",
              "    </tr>\n",
              "    <tr>\n",
              "      <th>2</th>\n",
              "      <td>ABC0919</td>\n",
              "      <td>1_Gagal</td>\n",
              "      <td>4</td>\n",
              "      <td>elektronik</td>\n",
              "      <td>1000000</td>\n",
              "      <td>1_pegawai_tetap</td>\n",
              "      <td>2. 1 - 5 juta</td>\n",
              "      <td>1_tidak_bekerja</td>\n",
              "      <td>3_bercerai</td>\n",
              "      <td>1_milik_sendiri</td>\n",
              "      <td>Daerah_2</td>\n",
              "      <td>Daerah_1</td>\n",
              "      <td>33.0</td>\n",
              "      <td>1_&lt;1_tahun</td>\n",
              "      <td>Kolek 3</td>\n",
              "      <td>1.552715e+06</td>\n",
              "      <td>3.496970e+06</td>\n",
              "      <td>260</td>\n",
              "      <td>134</td>\n",
              "      <td>Android</td>\n",
              "      <td>92</td>\n",
              "      <td>3_Lebih_3_tahun</td>\n",
              "      <td>Shopping</td>\n",
              "      <td>Telco_D</td>\n",
              "      <td>1_Kurang_1_bulan</td>\n",
              "      <td>Public_Domain</td>\n",
              "    </tr>\n",
              "    <tr>\n",
              "      <th>3</th>\n",
              "      <td>ABC0231</td>\n",
              "      <td>1_Gagal</td>\n",
              "      <td>5</td>\n",
              "      <td>peralatan_rumahtangga</td>\n",
              "      <td>1000000</td>\n",
              "      <td>1_pegawai_tetap</td>\n",
              "      <td>1. &lt; 1 juta</td>\n",
              "      <td>3_1-4_tahun_kerja</td>\n",
              "      <td>2_menikah</td>\n",
              "      <td>1_milik_sendiri</td>\n",
              "      <td>Daerah_2</td>\n",
              "      <td>Daerah_1</td>\n",
              "      <td>26.0</td>\n",
              "      <td>2_1-5_tahun</td>\n",
              "      <td>Kolek 3</td>\n",
              "      <td>3.035073e+06</td>\n",
              "      <td>1.377374e+07</td>\n",
              "      <td>66</td>\n",
              "      <td>87</td>\n",
              "      <td>Android</td>\n",
              "      <td>109</td>\n",
              "      <td>3_Lebih_3_tahun</td>\n",
              "      <td>Shopping</td>\n",
              "      <td>Telco_E</td>\n",
              "      <td>1_Kurang_1_bulan</td>\n",
              "      <td>Public_Domain</td>\n",
              "    </tr>\n",
              "    <tr>\n",
              "      <th>4</th>\n",
              "      <td>ABC0584</td>\n",
              "      <td>1_Gagal</td>\n",
              "      <td>5</td>\n",
              "      <td>makanan</td>\n",
              "      <td>1000000</td>\n",
              "      <td>3_wiraswasta</td>\n",
              "      <td>1. &lt; 1 juta</td>\n",
              "      <td>2_&lt;1_tahun_kerja</td>\n",
              "      <td>2_menikah</td>\n",
              "      <td>2_sewa</td>\n",
              "      <td>Daerah_2</td>\n",
              "      <td>Daerah_4</td>\n",
              "      <td>33.0</td>\n",
              "      <td>1_&lt;1_tahun</td>\n",
              "      <td>Kolek 3</td>\n",
              "      <td>4.466642e+06</td>\n",
              "      <td>7.167619e+06</td>\n",
              "      <td>555</td>\n",
              "      <td>71</td>\n",
              "      <td>Android</td>\n",
              "      <td>108</td>\n",
              "      <td>3_Lebih_3_tahun</td>\n",
              "      <td>Shopping</td>\n",
              "      <td>Telco_E</td>\n",
              "      <td>3_1_ke_2_tahun</td>\n",
              "      <td>Public_Domain</td>\n",
              "    </tr>\n",
              "    <tr>\n",
              "      <th>5</th>\n",
              "      <td>ABC0019</td>\n",
              "      <td>1_Gagal</td>\n",
              "      <td>4</td>\n",
              "      <td>barang_bekas</td>\n",
              "      <td>3000000</td>\n",
              "      <td>4_tidak_bekerja</td>\n",
              "      <td>1. &lt; 1 juta</td>\n",
              "      <td>5_&gt;7_tahun_kerja</td>\n",
              "      <td>1_belum_menikah</td>\n",
              "      <td>3_bersama_keluarga</td>\n",
              "      <td>Daerah_1</td>\n",
              "      <td>Daerah_4</td>\n",
              "      <td>44.0</td>\n",
              "      <td>2_1-5_tahun</td>\n",
              "      <td>Kolek 3</td>\n",
              "      <td>2.011016e+06</td>\n",
              "      <td>3.213540e+06</td>\n",
              "      <td>549</td>\n",
              "      <td>276</td>\n",
              "      <td>Android</td>\n",
              "      <td>107</td>\n",
              "      <td>3_Lebih_3_tahun</td>\n",
              "      <td>Online_Lending</td>\n",
              "      <td>Telco_D</td>\n",
              "      <td>4_2_ke_5_tahun</td>\n",
              "      <td>Public_Domain</td>\n",
              "    </tr>\n",
              "    <tr>\n",
              "      <th>6</th>\n",
              "      <td>ABC0982</td>\n",
              "      <td>1_Gagal</td>\n",
              "      <td>6</td>\n",
              "      <td>buka_bisnis</td>\n",
              "      <td>1000000</td>\n",
              "      <td>4_tidak_bekerja</td>\n",
              "      <td>1. &lt; 1 juta</td>\n",
              "      <td>1_tidak_bekerja</td>\n",
              "      <td>2_menikah</td>\n",
              "      <td>2_sewa</td>\n",
              "      <td>Daerah_1</td>\n",
              "      <td>Daerah_4</td>\n",
              "      <td>33.0</td>\n",
              "      <td>2_1-5_tahun</td>\n",
              "      <td>Kolek 3</td>\n",
              "      <td>1.133102e+06</td>\n",
              "      <td>2.869847e+06</td>\n",
              "      <td>71</td>\n",
              "      <td>61</td>\n",
              "      <td>IOS</td>\n",
              "      <td>95</td>\n",
              "      <td>3_Lebih_3_tahun</td>\n",
              "      <td>Shopping</td>\n",
              "      <td>Telco_E</td>\n",
              "      <td>1_Kurang_1_bulan</td>\n",
              "      <td>Public_Domain</td>\n",
              "    </tr>\n",
              "    <tr>\n",
              "      <th>7</th>\n",
              "      <td>ABC0973</td>\n",
              "      <td>1_Gagal</td>\n",
              "      <td>4</td>\n",
              "      <td>barang_baru</td>\n",
              "      <td>500000</td>\n",
              "      <td>2_pegawai_kontrak</td>\n",
              "      <td>1. &lt; 1 juta</td>\n",
              "      <td>1_tidak_bekerja</td>\n",
              "      <td>1_belum_menikah</td>\n",
              "      <td>2_sewa</td>\n",
              "      <td>Daerah_3</td>\n",
              "      <td>Daerah_4</td>\n",
              "      <td>29.0</td>\n",
              "      <td>4_&gt;10_tahun</td>\n",
              "      <td>Kolek 5</td>\n",
              "      <td>3.657394e+06</td>\n",
              "      <td>1.150781e+07</td>\n",
              "      <td>374</td>\n",
              "      <td>164</td>\n",
              "      <td>Android</td>\n",
              "      <td>106</td>\n",
              "      <td>3_Lebih_3_tahun</td>\n",
              "      <td>Social_Media</td>\n",
              "      <td>Telco_C</td>\n",
              "      <td>1_Kurang_1_bulan</td>\n",
              "      <td>Public_Domain</td>\n",
              "    </tr>\n",
              "    <tr>\n",
              "      <th>8</th>\n",
              "      <td>ABC0886</td>\n",
              "      <td>1_Gagal</td>\n",
              "      <td>2</td>\n",
              "      <td>liburan</td>\n",
              "      <td>500000</td>\n",
              "      <td>1_pegawai_tetap</td>\n",
              "      <td>1. &lt; 1 juta</td>\n",
              "      <td>2_&lt;1_tahun_kerja</td>\n",
              "      <td>1_belum_menikah</td>\n",
              "      <td>1_milik_sendiri</td>\n",
              "      <td>Daerah_2</td>\n",
              "      <td>Daerah_3</td>\n",
              "      <td>53.0</td>\n",
              "      <td>4_&gt;10_tahun</td>\n",
              "      <td>Kolek 3</td>\n",
              "      <td>3.107034e+06</td>\n",
              "      <td>6.698394e+06</td>\n",
              "      <td>30</td>\n",
              "      <td>132</td>\n",
              "      <td>Android</td>\n",
              "      <td>105</td>\n",
              "      <td>3_Lebih_3_tahun</td>\n",
              "      <td>Social_Media</td>\n",
              "      <td>Telco_A</td>\n",
              "      <td>2_Kurang_1_tahun</td>\n",
              "      <td>Public_Domain</td>\n",
              "    </tr>\n",
              "    <tr>\n",
              "      <th>9</th>\n",
              "      <td>ABC0653</td>\n",
              "      <td>1_Gagal</td>\n",
              "      <td>4</td>\n",
              "      <td>barang_baru</td>\n",
              "      <td>1000000</td>\n",
              "      <td>1_pegawai_tetap</td>\n",
              "      <td>1. &lt; 1 juta</td>\n",
              "      <td>5_&gt;7_tahun_kerja</td>\n",
              "      <td>2_menikah</td>\n",
              "      <td>1_milik_sendiri</td>\n",
              "      <td>Daerah_1</td>\n",
              "      <td>Daerah_3</td>\n",
              "      <td>45.0</td>\n",
              "      <td>1_&lt;1_tahun</td>\n",
              "      <td>Kolek 3</td>\n",
              "      <td>4.020783e+06</td>\n",
              "      <td>5.079741e+06</td>\n",
              "      <td>444</td>\n",
              "      <td>170</td>\n",
              "      <td>Android</td>\n",
              "      <td>105</td>\n",
              "      <td>3_Lebih_3_tahun</td>\n",
              "      <td>Shopping</td>\n",
              "      <td>Telco_D</td>\n",
              "      <td>1_Kurang_1_bulan</td>\n",
              "      <td>Public_Domain</td>\n",
              "    </tr>\n",
              "  </tbody>\n",
              "</table>\n",
              "</div>"
            ],
            "text/plain": [
              "        ID gagal_bayar  ...  Mobile_Number_Active_Since    Email_Domain_Type\n",
              "0  ABC0305     1_Gagal  ...            1_Kurang_1_bulan  Professional_Domain\n",
              "1  ABC0912     1_Gagal  ...            1_Kurang_1_bulan        Public_Domain\n",
              "2  ABC0919     1_Gagal  ...            1_Kurang_1_bulan        Public_Domain\n",
              "3  ABC0231     1_Gagal  ...            1_Kurang_1_bulan        Public_Domain\n",
              "4  ABC0584     1_Gagal  ...              3_1_ke_2_tahun        Public_Domain\n",
              "5  ABC0019     1_Gagal  ...              4_2_ke_5_tahun        Public_Domain\n",
              "6  ABC0982     1_Gagal  ...            1_Kurang_1_bulan        Public_Domain\n",
              "7  ABC0973     1_Gagal  ...            1_Kurang_1_bulan        Public_Domain\n",
              "8  ABC0886     1_Gagal  ...            2_Kurang_1_tahun        Public_Domain\n",
              "9  ABC0653     1_Gagal  ...            1_Kurang_1_bulan        Public_Domain\n",
              "\n",
              "[10 rows x 26 columns]"
            ]
          },
          "metadata": {},
          "execution_count": 3
        }
      ]
    },
    {
      "cell_type": "code",
      "metadata": {
        "colab": {
          "base_uri": "https://localhost:8080/"
        },
        "id": "GrGQd7ePjIka",
        "outputId": "6a100a67-9cff-421f-f530-b48e72fd8a94"
      },
      "source": [
        "# Melihat penjelasan singkat dan tipe data\n",
        "df.info()"
      ],
      "execution_count": 4,
      "outputs": [
        {
          "output_type": "stream",
          "name": "stdout",
          "text": [
            "<class 'pandas.core.frame.DataFrame'>\n",
            "RangeIndex: 1000 entries, 0 to 999\n",
            "Data columns (total 26 columns):\n",
            " #   Column                          Non-Null Count  Dtype  \n",
            "---  ------                          --------------  -----  \n",
            " 0   ID                              999 non-null    object \n",
            " 1   gagal_bayar                     991 non-null    object \n",
            " 2   Lama_Cicilan                    1000 non-null   int64  \n",
            " 3   Tujuan_Pinjaman                 995 non-null    object \n",
            " 4   Jumlah_Pinjaman                 1000 non-null   int64  \n",
            " 5   Pekerjaan                       987 non-null    object \n",
            " 6   Pendapatan_perbulan             989 non-null    object \n",
            " 7   Lama_Bekerja                    972 non-null    object \n",
            " 8   Status                          995 non-null    object \n",
            " 9   Kepemilikan_Rumah               996 non-null    object \n",
            " 10  Alamat_Rumah                    1000 non-null   object \n",
            " 11  Alamat_Kantor                   1000 non-null   object \n",
            " 12  Usia                            998 non-null    float64\n",
            " 13  Lama_tinggal_ditempat_sekarang  997 non-null    object \n",
            " 14  SLIK_Kolektibilitas             1000 non-null   object \n",
            " 15  SLIK_Cicilan_Bulanan            1000 non-null   float64\n",
            " 16  SLIK_Outstanding_CC             1000 non-null   float64\n",
            " 17  API_CreditScore_Vendor_A        1000 non-null   int64  \n",
            " 18  API_CreditScore_Vendor_B        1000 non-null   int64  \n",
            " 19  Device_Type                     1000 non-null   object \n",
            " 20  Device_Apps_Installed           1000 non-null   int64  \n",
            " 21  Device_Active_Since             1000 non-null   object \n",
            " 22  Device_Apps_Segmentation        1000 non-null   object \n",
            " 23  Mobile_Provider                 1000 non-null   object \n",
            " 24  Mobile_Number_Active_Since      1000 non-null   object \n",
            " 25  Email_Domain_Type               1000 non-null   object \n",
            "dtypes: float64(3), int64(5), object(18)\n",
            "memory usage: 203.2+ KB\n"
          ]
        }
      ]
    },
    {
      "cell_type": "code",
      "metadata": {
        "id": "Mf2Ht_6cmehV"
      },
      "source": [
        "# 2.3.2.4 Tipe data\n",
        "\n",
        "# Merubah tipe data menjadi tipe karakter kategori\n",
        "df['ID'] = df.ID.astype('category')\n",
        "df['gagal_bayar'] = df.gagal_bayar.astype('category')\n",
        "df['Pekerjaan'] = df.Pekerjaan.astype('category')\n",
        "df['Tujuan_Pinjaman'] = df.Tujuan_Pinjaman.astype('category')\n",
        "df['Pendapatan_perbulan'] = df.Pendapatan_perbulan.astype('category')\n",
        "df['Lama_Bekerja'] = df.Lama_Bekerja.astype('category')\n",
        "df['Status'] = df.Status.astype('category')\n",
        "df['Kepemilikan_Rumah'] = df.Kepemilikan_Rumah.astype('category')\n",
        "df['Alamat_Rumah'] = df.Alamat_Rumah.astype('category')\n",
        "df['Alamat_Kantor'] = df.Alamat_Kantor.astype('category')\n",
        "df['Lama_tinggal_ditempat_sekarang'] = df.Lama_tinggal_ditempat_sekarang.astype('category')\n",
        "df['Device_Type'] = df.Device_Type.astype('category')\n",
        "df['Device_Active_Since'] = df.Device_Active_Since.astype('category')\n",
        "df['SLIK_Kolektibilitas'] = df.SLIK_Kolektibilitas.astype('category')\n",
        "df['Device_Apps_Segmentation'] = df.Device_Apps_Segmentation.astype('category')\n",
        "df['Mobile_Provider'] = df.Mobile_Provider.astype('category')\n",
        "df['Mobile_Number_Active_Since'] = df.Mobile_Number_Active_Since.astype('category')\n",
        "df['Email_Domain_Type'] = df.Email_Domain_Type.astype('category')\n",
        "\n",
        "# Merubah tipe data menjadi tipe karakter int64\n",
        "# Gunakan intger untuk angka bulat\n",
        "df['API_CreditScore_Vendor_A'] = df.API_CreditScore_Vendor_A.astype('int64')\n",
        "df['API_CreditScore_Vendor_B'] = df.API_CreditScore_Vendor_B.astype('int64')\n",
        "df['Device_Apps_Installed'] = df.Device_Apps_Installed.astype('int64')\n",
        "\n",
        "# Merubah tipe data menjadi tipe karakter float64\n",
        "# Gunakan intger untuk angka dengan koma\n",
        "# Jika dalam kolom tersebut terdapat null, maka harus di simpan dalam tipe float\n",
        "df['Lama_Cicilan'] = df.Lama_Cicilan.astype('float64')\n",
        "df['Usia'] = df.Usia.astype('float64')\n",
        "df['Jumlah_Pinjaman'] = df.Jumlah_Pinjaman.astype('float64')\n",
        "df['SLIK_Cicilan_Bulanan'] = df.SLIK_Cicilan_Bulanan.astype('float64')\n",
        "df['SLIK_Outstanding_CC'] = df.SLIK_Outstanding_CC.astype('float64')"
      ],
      "execution_count": 5,
      "outputs": []
    },
    {
      "cell_type": "code",
      "metadata": {
        "colab": {
          "base_uri": "https://localhost:8080/",
          "height": 283
        },
        "id": "WUD8I46sekc6",
        "outputId": "a47bb213-7654-4830-f8c6-804fe1c1dd83"
      },
      "source": [
        "# 2.3.2.5.3 Mengidentifikasi outlier dan validitas data\n",
        "\n",
        "df.boxplot(column=['Usia'])"
      ],
      "execution_count": 6,
      "outputs": [
        {
          "output_type": "execute_result",
          "data": {
            "text/plain": [
              "<matplotlib.axes._subplots.AxesSubplot at 0x7fe980af4910>"
            ]
          },
          "metadata": {},
          "execution_count": 6
        },
        {
          "output_type": "display_data",
          "data": {
            "image/png": "[encoded data removed]",
            "text/plain": [
              "<Figure size 432x288 with 1 Axes>"
            ]
          },
          "metadata": {
            "needs_background": "light"
          }
        }
      ]
    },
    {
      "cell_type": "code",
      "metadata": {
        "colab": {
          "base_uri": "https://localhost:8080/"
        },
        "id": "w5L8DvciYr0X",
        "outputId": "038d5834-4c6e-4848-a945-fe8b55f694a2"
      },
      "source": [
        "# 2.3.2.5.4.1 Imputasi baris data yang kosong dengan asumsi nilai\n",
        "\n",
        "# Koding berikut menggantikan missing value dari semua variabel dengan\n",
        "# nilai yang paling sering muncul (modus) untuk variabel kategori dan nilai rata-rata untuk variabel numerik\n",
        "\n",
        "# Memisahkan variabel kategori dengan variabel numerik\n",
        "df_numerik = df.select_dtypes(include=['float64','int64','int'])\n",
        "df_kategori = df.select_dtypes(exclude = ['float64','int64','int'])\n",
        "\n",
        "for kolom in df_numerik.columns:\n",
        "  df_numerik[kolom].fillna(df_numerik[kolom].mean(), inplace=True)\n",
        "\n",
        "for kolom in df_kategori.columns:\n",
        "  df_kategori[kolom].fillna(df_kategori[kolom].mode()[0], inplace=True)\n",
        "\n",
        "# Menggabungkan dataset variabel kategori dan dengan variabel numerik\n",
        "df_pembersihan_1 = pd.concat([df_numerik, df_kategori], axis = 1)"
      ],
      "execution_count": 7,
      "outputs": [
        {
          "output_type": "stream",
          "name": "stderr",
          "text": [
            "/usr/local/lib/python3.7/dist-packages/pandas/core/series.py:4536: SettingWithCopyWarning: \n",
            "A value is trying to be set on a copy of a slice from a DataFrame\n",
            "\n",
            "See the caveats in the documentation: https://pandas.pydata.org/pandas-docs/stable/user_guide/indexing.html#returning-a-view-versus-a-copy\n",
            "  downcast=downcast,\n"
          ]
        }
      ]
    },
    {
      "cell_type": "code",
      "metadata": {
        "id": "kX5J6yALYy48"
      },
      "source": [
        "# 2.3.2.5.4.2 Tidak menggunakan baris data yang kosong (Drop Data)\n",
        "\n",
        "# Menggunakan fungsi dropna() untuk menghapus semua baris yang memiliki data kosong\n",
        "df_pembersihan_2 = df.dropna()"
      ],
      "execution_count": 8,
      "outputs": []
    },
    {
      "cell_type": "code",
      "metadata": {
        "id": "GCNAZFB_Y6-G"
      },
      "source": [
        "# 2.3.2.5.4.3 Tidak menggunakan kolom data yang kosong (Drop Variable)\n",
        "\n",
        "# Menggunakan fungsi dropna() untuk menghapus kolom yang memiliki data kosong\n",
        "df_pembersihan_3 = df.dropna(axis='columns')"
      ],
      "execution_count": 9,
      "outputs": []
    },
    {
      "cell_type": "code",
      "metadata": {
        "colab": {
          "base_uri": "https://localhost:8080/"
        },
        "id": "y6J9LrueZIQS",
        "outputId": "43d8b8c5-f86d-43b8-c90f-54c1835905f8"
      },
      "source": [
        "# 2.3.2.5.4.4 Kategorikan data yang kosong (Flag)\n",
        "\n",
        "# Koding berikut memberikan tanda flagging untuk baris data yang berisikan baris data kosong\n",
        "\n",
        "# Memisahkan variabel kategori dengan variabel numerik\n",
        "df_numerik = df.select_dtypes(include=['float64','int64','int'])\n",
        "df_kategori = df.select_dtypes(exclude = ['float64','int64','int'])\n",
        "\n",
        "for kolom in df_numerik.columns:\n",
        "  # Membuat kolom baru untuk baris data yang kosong\n",
        "  df_numerik[kolom+\"_missing\"] = df_numerik[kolom].isnull()\n",
        "  df_numerik[kolom].fillna(0, inplace=True)\n",
        "\n",
        "for kolom in df_kategori.columns:\n",
        "  # Kolom kategori harus secara eksplisit menambahkan data kategori baru\n",
        "  df_kategori[kolom] = df_kategori[kolom].cat.add_categories(\"00_Data_Kosong\")\n",
        "  df_kategori[kolom].fillna(\"00_Data_Kosong\", inplace=True)\n",
        "\n",
        "# Menggabungkan dataset variabel kategori dan dengan variabel numerik\n",
        "df_pembersihan_4 = pd.concat([df_numerik, df_kategori], axis = 1)"
      ],
      "execution_count": 10,
      "outputs": [
        {
          "output_type": "stream",
          "name": "stderr",
          "text": [
            "/usr/local/lib/python3.7/dist-packages/ipykernel_launcher.py:11: SettingWithCopyWarning: \n",
            "A value is trying to be set on a copy of a slice from a DataFrame.\n",
            "Try using .loc[row_indexer,col_indexer] = value instead\n",
            "\n",
            "See the caveats in the documentation: https://pandas.pydata.org/pandas-docs/stable/user_guide/indexing.html#returning-a-view-versus-a-copy\n",
            "  # This is added back by InteractiveShellApp.init_path()\n",
            "/usr/local/lib/python3.7/dist-packages/pandas/core/series.py:4536: SettingWithCopyWarning: \n",
            "A value is trying to be set on a copy of a slice from a DataFrame\n",
            "\n",
            "See the caveats in the documentation: https://pandas.pydata.org/pandas-docs/stable/user_guide/indexing.html#returning-a-view-versus-a-copy\n",
            "  downcast=downcast,\n",
            "/usr/local/lib/python3.7/dist-packages/ipykernel_launcher.py:16: SettingWithCopyWarning: \n",
            "A value is trying to be set on a copy of a slice from a DataFrame.\n",
            "Try using .loc[row_indexer,col_indexer] = value instead\n",
            "\n",
            "See the caveats in the documentation: https://pandas.pydata.org/pandas-docs/stable/user_guide/indexing.html#returning-a-view-versus-a-copy\n",
            "  app.launch_new_instance()\n"
          ]
        }
      ]
    },
    {
      "cell_type": "code",
      "metadata": {
        "id": "Fsj2A6lYZDgj"
      },
      "source": [
        "# Melanjutkan proses dengan asumsi bahwa baris data yang kosong tidak signifikan dan tidak akan terjadi baris data kosong lagi.\n",
        "df_clean = df_pembersihan_2"
      ],
      "execution_count": 11,
      "outputs": []
    },
    {
      "cell_type": "code",
      "metadata": {
        "id": "7AVgeSYIs6fQ",
        "colab": {
          "base_uri": "https://localhost:8080/",
          "height": 589
        },
        "outputId": "e427370b-9cab-4ddb-bc5b-a0281317423a"
      },
      "source": [
        "df_clean.info()\n",
        "# Untuk memudahkan membaca hasil, maka disimpan dalam bentuk csv dan didownload\n",
        "from google.colab import files\n",
        "df_clean.to_csv('df_clean.csv') \n",
        "files.download('df_clean.csv')"
      ],
      "execution_count": 12,
      "outputs": [
        {
          "output_type": "stream",
          "name": "stdout",
          "text": [
            "<class 'pandas.core.frame.DataFrame'>\n",
            "Int64Index: 936 entries, 0 to 990\n",
            "Data columns (total 26 columns):\n",
            " #   Column                          Non-Null Count  Dtype   \n",
            "---  ------                          --------------  -----   \n",
            " 0   ID                              936 non-null    category\n",
            " 1   gagal_bayar                     936 non-null    category\n",
            " 2   Lama_Cicilan                    936 non-null    float64 \n",
            " 3   Tujuan_Pinjaman                 936 non-null    category\n",
            " 4   Jumlah_Pinjaman                 936 non-null    float64 \n",
            " 5   Pekerjaan                       936 non-null    category\n",
            " 6   Pendapatan_perbulan             936 non-null    category\n",
            " 7   Lama_Bekerja                    936 non-null    category\n",
            " 8   Status                          936 non-null    category\n",
            " 9   Kepemilikan_Rumah               936 non-null    category\n",
            " 10  Alamat_Rumah                    936 non-null    category\n",
            " 11  Alamat_Kantor                   936 non-null    category\n",
            " 12  Usia                            936 non-null    float64 \n",
            " 13  Lama_tinggal_ditempat_sekarang  936 non-null    category\n",
            " 14  SLIK_Kolektibilitas             936 non-null    category\n",
            " 15  SLIK_Cicilan_Bulanan            936 non-null    float64 \n",
            " 16  SLIK_Outstanding_CC             936 non-null    float64 \n",
            " 17  API_CreditScore_Vendor_A        936 non-null    int64   \n",
            " 18  API_CreditScore_Vendor_B        936 non-null    int64   \n",
            " 19  Device_Type                     936 non-null    category\n",
            " 20  Device_Apps_Installed           936 non-null    int64   \n",
            " 21  Device_Active_Since             936 non-null    category\n",
            " 22  Device_Apps_Segmentation        936 non-null    category\n",
            " 23  Mobile_Provider                 936 non-null    category\n",
            " 24  Mobile_Number_Active_Since      936 non-null    category\n",
            " 25  Email_Domain_Type               936 non-null    category\n",
            "dtypes: category(18), float64(5), int64(3)\n",
            "memory usage: 133.9 KB\n"
          ]
        },
        {
          "output_type": "display_data",
          "data": {
            "application/javascript": [
              "\n",
              "    async function download(id, filename, size) {\n",
              "      if (!google.colab.kernel.accessAllowed) {\n",
              "        return;\n",
              "      }\n",
              "      const div = document.createElement('div');\n",
              "      const label = document.createElement('label');\n",
              "      label.textContent = `Downloading \"${filename}\": `;\n",
              "      div.appendChild(label);\n",
              "      const progress = document.createElement('progress');\n",
              "      progress.max = size;\n",
              "      div.appendChild(progress);\n",
              "      document.body.appendChild(div);\n",
              "\n",
              "      const buffers = [];\n",
              "      let downloaded = 0;\n",
              "\n",
              "      const channel = await google.colab.kernel.comms.open(id);\n",
              "      // Send a message to notify the kernel that we're ready.\n",
              "      channel.send({})\n",
              "\n",
              "      for await (const message of channel.messages) {\n",
              "        // Send a message to notify the kernel that we're ready.\n",
              "        channel.send({})\n",
              "        if (message.buffers) {\n",
              "          for (const buffer of message.buffers) {\n",
              "            buffers.push(buffer);\n",
              "            downloaded += buffer.byteLength;\n",
              "            progress.value = downloaded;\n",
              "          }\n",
              "        }\n",
              "      }\n",
              "      const blob = new Blob(buffers, {type: 'application/binary'});\n",
              "      const a = document.createElement('a');\n",
              "      a.href = window.URL.createObjectURL(blob);\n",
              "      a.download = filename;\n",
              "      div.appendChild(a);\n",
              "      a.click();\n",
              "      div.remove();\n",
              "    }\n",
              "  "
            ],
            "text/plain": [
              "<IPython.core.display.Javascript object>"
            ]
          },
          "metadata": {}
        },
        {
          "output_type": "display_data",
          "data": {
            "application/javascript": [
              "download(\"download_024d3c89-8a02-4c5e-b86c-741060d3c060\", \"df_clean.csv\", 261545)"
            ],
            "text/plain": [
              "<IPython.core.display.Javascript object>"
            ]
          },
          "metadata": {}
        }
      ]
    },
    {
      "cell_type": "code",
      "metadata": {
        "colab": {
          "base_uri": "https://localhost:8080/"
        },
        "id": "qW5t7UwfES8v",
        "outputId": "6d1fdb45-5320-4aa6-cff2-3aa4639cf15c"
      },
      "source": [
        "# 2.3.2.5.5.1 EDA Analisa dasar variabel untuk gagal_bayar\n",
        "\n",
        "# Untuk melihat frekuensi dari variabel gagal_bayar\n",
        "print(df_clean['gagal_bayar'].value_counts())\n",
        "\n",
        "# Untuk melihat proporsi (dalam persentase) dari variabel gagal_bayar\n",
        "print(df_clean['gagal_bayar'].value_counts(normalize=True) * 100)"
      ],
      "execution_count": 13,
      "outputs": [
        {
          "output_type": "stream",
          "name": "stdout",
          "text": [
            "0_Bayar    659\n",
            "1_Gagal    277\n",
            "Name: gagal_bayar, dtype: int64\n",
            "0_Bayar    70.405983\n",
            "1_Gagal    29.594017\n",
            "Name: gagal_bayar, dtype: float64\n"
          ]
        }
      ]
    },
    {
      "cell_type": "code",
      "metadata": {
        "id": "zjuNAMQGE5L6",
        "colab": {
          "base_uri": "https://localhost:8080/"
        },
        "outputId": "c9f2a855-8a36-43f3-f2b3-e5f7da6f442a"
      },
      "source": [
        "# 2.3.2.5.5.2 Exploratory Data Analysis untuk SLIK_Kolektabilitas\n",
        "\n",
        "# Untuk melihat frekuensi dari variabel SLIK_Kolektabilitas\n",
        "print(df_clean['SLIK_Kolektibilitas'].value_counts())\n",
        "\n",
        "# Untuk melihat proporsi (dalam persentase) dari variabel SLIK_Kolektabilitas\n",
        "print(df_clean['SLIK_Kolektibilitas'].value_counts(normalize=True) * 100)"
      ],
      "execution_count": 14,
      "outputs": [
        {
          "output_type": "stream",
          "name": "stdout",
          "text": [
            "Kolek 3            477\n",
            "Kolek 1            269\n",
            "Kolek 2             82\n",
            "Tidak_Ditemukan     47\n",
            "Kolek 5             47\n",
            "Kolek 4             14\n",
            "Name: SLIK_Kolektibilitas, dtype: int64\n",
            "Kolek 3            50.961538\n",
            "Kolek 1            28.739316\n",
            "Kolek 2             8.760684\n",
            "Tidak_Ditemukan     5.021368\n",
            "Kolek 5             5.021368\n",
            "Kolek 4             1.495726\n",
            "Name: SLIK_Kolektibilitas, dtype: float64\n"
          ]
        }
      ]
    },
    {
      "cell_type": "code",
      "metadata": {
        "id": "zESKaaoCOZO3",
        "colab": {
          "base_uri": "https://localhost:8080/"
        },
        "outputId": "676c0330-f7c1-4ed5-a5bf-d7175172b701"
      },
      "source": [
        "# Berapa banyak yang gagal bayar dari masing-masing nilai SLIK Kolektabilitas\n",
        "print(pd.crosstab(df_clean['SLIK_Kolektibilitas'], df_clean['gagal_bayar']))\n",
        "\n",
        "# dalam proporsi persentase\n",
        "print(pd.crosstab(df_clean['SLIK_Kolektibilitas'],df_clean['gagal_bayar'],normalize='index',)*100)"
      ],
      "execution_count": 15,
      "outputs": [
        {
          "output_type": "stream",
          "name": "stdout",
          "text": [
            "gagal_bayar          0_Bayar  1_Gagal\n",
            "SLIK_Kolektibilitas                  \n",
            "Kolek 1                  228       41\n",
            "Kolek 2                   57       25\n",
            "Kolek 3                  327      150\n",
            "Kolek 4                    6        8\n",
            "Kolek 5                   20       27\n",
            "Tidak_Ditemukan           21       26\n",
            "gagal_bayar            0_Bayar    1_Gagal\n",
            "SLIK_Kolektibilitas                      \n",
            "Kolek 1              84.758364  15.241636\n",
            "Kolek 2              69.512195  30.487805\n",
            "Kolek 3              68.553459  31.446541\n",
            "Kolek 4              42.857143  57.142857\n",
            "Kolek 5              42.553191  57.446809\n",
            "Tidak_Ditemukan      44.680851  55.319149\n"
          ]
        }
      ]
    },
    {
      "cell_type": "code",
      "metadata": {
        "colab": {
          "base_uri": "https://localhost:8080/",
          "height": 363
        },
        "id": "T7qwqbQUYFWm",
        "outputId": "bbe0476a-d7a3-4bb8-d5d5-3318692a989d"
      },
      "source": [
        "# 2.3.2.5.5.2 SLIK_Kolektibilitas Data Visualisasi\n",
        "\n",
        "# Fungsi value_counts().plot(kind='bar')\n",
        "df_clean['SLIK_Kolektibilitas'].value_counts().plot(kind='bar')"
      ],
      "execution_count": 16,
      "outputs": [
        {
          "output_type": "execute_result",
          "data": {
            "text/plain": [
              "<matplotlib.axes._subplots.AxesSubplot at 0x7fe980195e50>"
            ]
          },
          "metadata": {},
          "execution_count": 16
        },
        {
          "output_type": "display_data",
          "data": {
            "image/png": "[encoded data removed]",
            "text/plain": [
              "<Figure size 432x288 with 1 Axes>"
            ]
          },
          "metadata": {
            "needs_background": "light"
          }
        }
      ]
    },
    {
      "cell_type": "code",
      "metadata": {
        "colab": {
          "base_uri": "https://localhost:8080/",
          "height": 282
        },
        "id": "QEmk-BKSYpKH",
        "outputId": "6f6a5e08-1f27-43db-b2e1-50a2d8a7159c"
      },
      "source": [
        "# Menampilkan plot bar secara horizontal\n",
        "df_clean['SLIK_Kolektibilitas'].value_counts().plot(kind='barh')"
      ],
      "execution_count": 17,
      "outputs": [
        {
          "output_type": "execute_result",
          "data": {
            "text/plain": [
              "<matplotlib.axes._subplots.AxesSubplot at 0x7fe9800daad0>"
            ]
          },
          "metadata": {},
          "execution_count": 17
        },
        {
          "output_type": "display_data",
          "data": {
            "image/png": "[encoded data removed]",
            "text/plain": [
              "<Figure size 432x288 with 1 Axes>"
            ]
          },
          "metadata": {
            "needs_background": "light"
          }
        }
      ]
    },
    {
      "cell_type": "code",
      "metadata": {
        "colab": {
          "base_uri": "https://localhost:8080/",
          "height": 282
        },
        "id": "uILFhuMGZZRg",
        "outputId": "042e88ce-7df8-494c-99d1-0b30ffaa0a09"
      },
      "source": [
        "# Nilai variabel SLIK_Kolektibilitas dan proporsi default secara plot bar\n",
        "pd.crosstab(df_clean['SLIK_Kolektibilitas'], df_clean['gagal_bayar']).plot(kind='barh', stacked=True)"
      ],
      "execution_count": 18,
      "outputs": [
        {
          "output_type": "execute_result",
          "data": {
            "text/plain": [
              "<matplotlib.axes._subplots.AxesSubplot at 0x7fe980059190>"
            ]
          },
          "metadata": {},
          "execution_count": 18
        },
        {
          "output_type": "display_data",
          "data": {
            "image/png": "[encoded data removed]",
            "text/plain": [
              "<Figure size 432x288 with 1 Axes>"
            ]
          },
          "metadata": {
            "needs_background": "light"
          }
        }
      ]
    },
    {
      "cell_type": "code",
      "metadata": {
        "colab": {
          "base_uri": "https://localhost:8080/",
          "height": 282
        },
        "id": "s_i1FvMkZseF",
        "outputId": "e216cf20-1d51-4312-87c5-32b6b170d232"
      },
      "source": [
        "# Nilai variabel SLIK_Kolektibilitas dan proporsi default secara plot bar, secara proporsi\n",
        "pd.crosstab(df_clean['SLIK_Kolektibilitas'], df_clean['gagal_bayar'], normalize='index').plot(kind='barh', stacked=True)"
      ],
      "execution_count": 19,
      "outputs": [
        {
          "output_type": "execute_result",
          "data": {
            "text/plain": [
              "<matplotlib.axes._subplots.AxesSubplot at 0x7fe97ffeff50>"
            ]
          },
          "metadata": {},
          "execution_count": 19
        },
        {
          "output_type": "display_data",
          "data": {
            "image/png": "[encoded data removed]",
            "text/plain": [
              "<Figure size 432x288 with 1 Axes>"
            ]
          },
          "metadata": {
            "needs_background": "light"
          }
        }
      ]
    },
    {
      "cell_type": "code",
      "metadata": {
        "colab": {
          "base_uri": "https://localhost:8080/",
          "height": 300
        },
        "id": "90J2yiiUYmY-",
        "outputId": "4a30ab03-2037-4836-e47c-7bcc6f5a32dc"
      },
      "source": [
        "# 2.3.2.5.5.3 Exploratory Data Analysis untuk Usia\n",
        "\n",
        "# Rangkuman statistik untuk variabel numerik Usia\n",
        "print(df_clean['Usia'].describe())\n",
        "\n",
        "# Rangkuman statistik untuk variabel numerik Usia, berdasarkan default (gagal bayar atau tidak)\n",
        "df_clean.groupby('gagal_bayar')['Usia'].describe()"
      ],
      "execution_count": 20,
      "outputs": [
        {
          "output_type": "stream",
          "name": "stdout",
          "text": [
            "count    936.000000\n",
            "mean      35.595085\n",
            "std       11.358124\n",
            "min       19.000000\n",
            "25%       27.000000\n",
            "50%       33.000000\n",
            "75%       42.000000\n",
            "max       75.000000\n",
            "Name: Usia, dtype: float64\n"
          ]
        },
        {
          "output_type": "execute_result",
          "data": {
            "text/html": [
              "<div>\n",
              "<style scoped>\n",
              "    .dataframe tbody tr th:only-of-type {\n",
              "        vertical-align: middle;\n",
              "    }\n",
              "\n",
              "    .dataframe tbody tr th {\n",
              "        vertical-align: top;\n",
              "    }\n",
              "\n",
              "    .dataframe thead th {\n",
              "        text-align: right;\n",
              "    }\n",
              "</style>\n",
              "<table border=\"1\" class=\"dataframe\">\n",
              "  <thead>\n",
              "    <tr style=\"text-align: right;\">\n",
              "      <th></th>\n",
              "      <th>count</th>\n",
              "      <th>mean</th>\n",
              "      <th>std</th>\n",
              "      <th>min</th>\n",
              "      <th>25%</th>\n",
              "      <th>50%</th>\n",
              "      <th>75%</th>\n",
              "      <th>max</th>\n",
              "    </tr>\n",
              "    <tr>\n",
              "      <th>gagal_bayar</th>\n",
              "      <th></th>\n",
              "      <th></th>\n",
              "      <th></th>\n",
              "      <th></th>\n",
              "      <th></th>\n",
              "      <th></th>\n",
              "      <th></th>\n",
              "      <th></th>\n",
              "    </tr>\n",
              "  </thead>\n",
              "  <tbody>\n",
              "    <tr>\n",
              "      <th>0_Bayar</th>\n",
              "      <td>659.0</td>\n",
              "      <td>36.224583</td>\n",
              "      <td>11.286323</td>\n",
              "      <td>19.0</td>\n",
              "      <td>27.0</td>\n",
              "      <td>34.0</td>\n",
              "      <td>42.5</td>\n",
              "      <td>75.0</td>\n",
              "    </tr>\n",
              "    <tr>\n",
              "      <th>1_Gagal</th>\n",
              "      <td>277.0</td>\n",
              "      <td>34.097473</td>\n",
              "      <td>11.408484</td>\n",
              "      <td>19.0</td>\n",
              "      <td>25.0</td>\n",
              "      <td>31.0</td>\n",
              "      <td>40.0</td>\n",
              "      <td>74.0</td>\n",
              "    </tr>\n",
              "  </tbody>\n",
              "</table>\n",
              "</div>"
            ],
            "text/plain": [
              "             count       mean        std   min   25%   50%   75%   max\n",
              "gagal_bayar                                                           \n",
              "0_Bayar      659.0  36.224583  11.286323  19.0  27.0  34.0  42.5  75.0\n",
              "1_Gagal      277.0  34.097473  11.408484  19.0  25.0  31.0  40.0  74.0"
            ]
          },
          "metadata": {},
          "execution_count": 20
        }
      ]
    },
    {
      "cell_type": "code",
      "metadata": {
        "colab": {
          "base_uri": "https://localhost:8080/",
          "height": 965
        },
        "id": "V0mG8ys3aeq0",
        "outputId": "1b5e13ca-311d-4979-e087-17860f899f10"
      },
      "source": [
        "# Fungsi distplot() dari library seaborn\n",
        "# Perhatikan bahwa distribusi plot harus tidak memiliki data kosong / missing value.\n",
        "# Oleh karena itu harus menambahkan fungsi dropna() untuk secara sementara tidak\n",
        "# mengikutsertakan missing value dalam pembuatan plot distribusi\n",
        "\n",
        "import matplotlib.pyplot as plt\n",
        "import seaborn as sns\n",
        "\n",
        "fig, ax = plt.subplots(figsize=(15,15))\n",
        "sns.distplot(df_clean['Usia'].dropna(), ax=ax).set_title('Distribution Plot')"
      ],
      "execution_count": 21,
      "outputs": [
        {
          "output_type": "stream",
          "name": "stderr",
          "text": [
            "/usr/local/lib/python3.7/dist-packages/seaborn/distributions.py:2619: FutureWarning: `distplot` is a deprecated function and will be removed in a future version. Please adapt your code to use either `displot` (a figure-level function with similar flexibility) or `histplot` (an axes-level function for histograms).\n",
            "  warnings.warn(msg, FutureWarning)\n"
          ]
        },
        {
          "output_type": "execute_result",
          "data": {
            "text/plain": [
              "Text(0.5, 1.0, 'Distribution Plot')"
            ]
          },
          "metadata": {},
          "execution_count": 21
        },
        {
          "output_type": "display_data",
          "data": {
            "image/png": "[encoded data removed]",
            "text/plain": [
              "<Figure size 1080x1080 with 1 Axes>"
            ]
          },
          "metadata": {
            "needs_background": "light"
          }
        }
      ]
    },
    {
      "cell_type": "code",
      "metadata": {
        "id": "K1JubColf4xI",
        "colab": {
          "base_uri": "https://localhost:8080/",
          "height": 376
        },
        "outputId": "adf01b5a-6fab-4098-c05a-d09526ecb1e1"
      },
      "source": [
        "# Menambahkan by di fungsi boxplot untuk membagi boxplot berdasarkan gagal_bayar\n",
        "df_clean.boxplot(by='gagal_bayar',column=['Usia'])"
      ],
      "execution_count": 22,
      "outputs": [
        {
          "output_type": "stream",
          "name": "stderr",
          "text": [
            "/usr/local/lib/python3.7/dist-packages/numpy/core/_asarray.py:83: VisibleDeprecationWarning: Creating an ndarray from ragged nested sequences (which is a list-or-tuple of lists-or-tuples-or ndarrays with different lengths or shapes) is deprecated. If you meant to do this, you must specify 'dtype=object' when creating the ndarray\n",
            "  return array(a, dtype, copy=False, order=order)\n"
          ]
        },
        {
          "output_type": "execute_result",
          "data": {
            "text/plain": [
              "<matplotlib.axes._subplots.AxesSubplot at 0x7fe971567290>"
            ]
          },
          "metadata": {},
          "execution_count": 22
        },
        {
          "output_type": "display_data",
          "data": {
            "image/png": "[encoded data removed]",
            "text/plain": [
              "<Figure size 432x288 with 1 Axes>"
            ]
          },
          "metadata": {
            "needs_background": "light"
          }
        }
      ]
    },
    {
      "cell_type": "code",
      "metadata": {
        "id": "5lZPEAen-nxN",
        "colab": {
          "base_uri": "https://localhost:8080/"
        },
        "outputId": "a56c529f-0b8f-4b4d-f72a-9efd21495c30"
      },
      "source": [
        "import numpy as np\n",
        "\n",
        "# Untuk dapat melakukan analisa statistik, harus mengubah variabel gagal_bayar dari string menjadi angka (integer)\n",
        "# Mengubah target variabel gagal_bayar menjadi angka 0 dan 1\n",
        "conditions = [\n",
        "             df_clean['gagal_bayar'] == '1_Gagal', \n",
        "             df_clean['gagal_bayar'] == '0_Bayar'\n",
        "             ]\n",
        "\n",
        "choices     = [\n",
        "             1,\n",
        "             0\n",
        "             ]\n",
        "df_clean['default'] = np.select(conditions,choices, default = 0)"
      ],
      "execution_count": 23,
      "outputs": [
        {
          "output_type": "stream",
          "name": "stderr",
          "text": [
            "/usr/local/lib/python3.7/dist-packages/ipykernel_launcher.py:14: SettingWithCopyWarning: \n",
            "A value is trying to be set on a copy of a slice from a DataFrame.\n",
            "Try using .loc[row_indexer,col_indexer] = value instead\n",
            "\n",
            "See the caveats in the documentation: https://pandas.pydata.org/pandas-docs/stable/user_guide/indexing.html#returning-a-view-versus-a-copy\n",
            "  \n"
          ]
        }
      ]
    },
    {
      "cell_type": "code",
      "metadata": {
        "id": "HNjGTaQp_BaM",
        "colab": {
          "base_uri": "https://localhost:8080/"
        },
        "outputId": "5322e3c6-3969-4d0b-bd35-3491b4a4f3ea"
      },
      "source": [
        "# Menghitung korelasi antara variabel API_CreditScore_Vendor_Adengan default\n",
        "print(df_clean['default'].corr(df_clean['Usia']))"
      ],
      "execution_count": 24,
      "outputs": [
        {
          "output_type": "stream",
          "name": "stdout",
          "text": [
            "-0.0855307226607465\n"
          ]
        }
      ]
    },
    {
      "cell_type": "code",
      "metadata": {
        "colab": {
          "base_uri": "https://localhost:8080/"
        },
        "id": "84joxnCJCThc",
        "outputId": "45614f21-4a8d-4e32-b17e-e753ed26f566"
      },
      "source": [
        "from scipy import stats\n",
        "\n",
        "# Uji coba hipotesis apakah ada perbedaan nilai rata-rata variabel \n",
        "# API_CreditScore_Vendor_A dengan default (gagal bayar dan tidak gagal bayar)\n",
        "stats.ttest_ind( df_clean[df_clean.default == 0].Usia,\n",
        "             \tdf_clean[df_clean.default == 1].Usia, nan_policy='omit')"
      ],
      "execution_count": 25,
      "outputs": [
        {
          "output_type": "execute_result",
          "data": {
            "text/plain": [
              "Ttest_indResult(statistic=2.6235537134953963, pvalue=0.008843670376202786)"
            ]
          },
          "metadata": {},
          "execution_count": 25
        }
      ]
    },
    {
      "cell_type": "code",
      "metadata": {
        "colab": {
          "base_uri": "https://localhost:8080/",
          "height": 348
        },
        "id": "zeTbQamD1XoF",
        "outputId": "a891070b-c963-40ec-912f-d7e67ab61fc3"
      },
      "source": [
        "# 2.3.2.5.6 Memahami korelasi antar variabel dan dengan target\n",
        "\n",
        "# Korelasi Antar semua Variabel numerik\n",
        "import seaborn as sns\n",
        "corr = df_clean.corr()\n",
        "corr"
      ],
      "execution_count": 26,
      "outputs": [
        {
          "output_type": "execute_result",
          "data": {
            "text/html": [
              "<div>\n",
              "<style scoped>\n",
              "    .dataframe tbody tr th:only-of-type {\n",
              "        vertical-align: middle;\n",
              "    }\n",
              "\n",
              "    .dataframe tbody tr th {\n",
              "        vertical-align: top;\n",
              "    }\n",
              "\n",
              "    .dataframe thead th {\n",
              "        text-align: right;\n",
              "    }\n",
              "</style>\n",
              "<table border=\"1\" class=\"dataframe\">\n",
              "  <thead>\n",
              "    <tr style=\"text-align: right;\">\n",
              "      <th></th>\n",
              "      <th>Lama_Cicilan</th>\n",
              "      <th>Jumlah_Pinjaman</th>\n",
              "      <th>Usia</th>\n",
              "      <th>SLIK_Cicilan_Bulanan</th>\n",
              "      <th>SLIK_Outstanding_CC</th>\n",
              "      <th>API_CreditScore_Vendor_A</th>\n",
              "      <th>API_CreditScore_Vendor_B</th>\n",
              "      <th>Device_Apps_Installed</th>\n",
              "      <th>default</th>\n",
              "    </tr>\n",
              "  </thead>\n",
              "  <tbody>\n",
              "    <tr>\n",
              "      <th>Lama_Cicilan</th>\n",
              "      <td>1.000000</td>\n",
              "      <td>0.542676</td>\n",
              "      <td>-0.036392</td>\n",
              "      <td>-0.004563</td>\n",
              "      <td>0.042107</td>\n",
              "      <td>-0.040738</td>\n",
              "      <td>-0.061462</td>\n",
              "      <td>0.001850</td>\n",
              "      <td>0.198050</td>\n",
              "    </tr>\n",
              "    <tr>\n",
              "      <th>Jumlah_Pinjaman</th>\n",
              "      <td>0.542676</td>\n",
              "      <td>1.000000</td>\n",
              "      <td>0.038148</td>\n",
              "      <td>-0.019096</td>\n",
              "      <td>-0.019061</td>\n",
              "      <td>0.009810</td>\n",
              "      <td>-0.025668</td>\n",
              "      <td>-0.012050</td>\n",
              "      <td>0.129555</td>\n",
              "    </tr>\n",
              "    <tr>\n",
              "      <th>Usia</th>\n",
              "      <td>-0.036392</td>\n",
              "      <td>0.038148</td>\n",
              "      <td>1.000000</td>\n",
              "      <td>0.003229</td>\n",
              "      <td>-0.097799</td>\n",
              "      <td>0.015067</td>\n",
              "      <td>0.017040</td>\n",
              "      <td>0.029792</td>\n",
              "      <td>-0.085531</td>\n",
              "    </tr>\n",
              "    <tr>\n",
              "      <th>SLIK_Cicilan_Bulanan</th>\n",
              "      <td>-0.004563</td>\n",
              "      <td>-0.019096</td>\n",
              "      <td>0.003229</td>\n",
              "      <td>1.000000</td>\n",
              "      <td>0.359109</td>\n",
              "      <td>0.016146</td>\n",
              "      <td>-0.102057</td>\n",
              "      <td>-0.000999</td>\n",
              "      <td>0.275605</td>\n",
              "    </tr>\n",
              "    <tr>\n",
              "      <th>SLIK_Outstanding_CC</th>\n",
              "      <td>0.042107</td>\n",
              "      <td>-0.019061</td>\n",
              "      <td>-0.097799</td>\n",
              "      <td>0.359109</td>\n",
              "      <td>1.000000</td>\n",
              "      <td>-0.069180</td>\n",
              "      <td>-0.087571</td>\n",
              "      <td>-0.074525</td>\n",
              "      <td>0.330952</td>\n",
              "    </tr>\n",
              "    <tr>\n",
              "      <th>API_CreditScore_Vendor_A</th>\n",
              "      <td>-0.040738</td>\n",
              "      <td>0.009810</td>\n",
              "      <td>0.015067</td>\n",
              "      <td>0.016146</td>\n",
              "      <td>-0.069180</td>\n",
              "      <td>1.000000</td>\n",
              "      <td>-0.003363</td>\n",
              "      <td>0.026653</td>\n",
              "      <td>-0.041783</td>\n",
              "    </tr>\n",
              "    <tr>\n",
              "      <th>API_CreditScore_Vendor_B</th>\n",
              "      <td>-0.061462</td>\n",
              "      <td>-0.025668</td>\n",
              "      <td>0.017040</td>\n",
              "      <td>-0.102057</td>\n",
              "      <td>-0.087571</td>\n",
              "      <td>-0.003363</td>\n",
              "      <td>1.000000</td>\n",
              "      <td>-0.011990</td>\n",
              "      <td>-0.164541</td>\n",
              "    </tr>\n",
              "    <tr>\n",
              "      <th>Device_Apps_Installed</th>\n",
              "      <td>0.001850</td>\n",
              "      <td>-0.012050</td>\n",
              "      <td>0.029792</td>\n",
              "      <td>-0.000999</td>\n",
              "      <td>-0.074525</td>\n",
              "      <td>0.026653</td>\n",
              "      <td>-0.011990</td>\n",
              "      <td>1.000000</td>\n",
              "      <td>-0.119973</td>\n",
              "    </tr>\n",
              "    <tr>\n",
              "      <th>default</th>\n",
              "      <td>0.198050</td>\n",
              "      <td>0.129555</td>\n",
              "      <td>-0.085531</td>\n",
              "      <td>0.275605</td>\n",
              "      <td>0.330952</td>\n",
              "      <td>-0.041783</td>\n",
              "      <td>-0.164541</td>\n",
              "      <td>-0.119973</td>\n",
              "      <td>1.000000</td>\n",
              "    </tr>\n",
              "  </tbody>\n",
              "</table>\n",
              "</div>"
            ],
            "text/plain": [
              "                          Lama_Cicilan  ...   default\n",
              "Lama_Cicilan                  1.000000  ...  0.198050\n",
              "Jumlah_Pinjaman               0.542676  ...  0.129555\n",
              "Usia                         -0.036392  ... -0.085531\n",
              "SLIK_Cicilan_Bulanan         -0.004563  ...  0.275605\n",
              "SLIK_Outstanding_CC           0.042107  ...  0.330952\n",
              "API_CreditScore_Vendor_A     -0.040738  ... -0.041783\n",
              "API_CreditScore_Vendor_B     -0.061462  ... -0.164541\n",
              "Device_Apps_Installed         0.001850  ... -0.119973\n",
              "default                       0.198050  ...  1.000000\n",
              "\n",
              "[9 rows x 9 columns]"
            ]
          },
          "metadata": {},
          "execution_count": 26
        }
      ]
    },
    {
      "cell_type": "code",
      "metadata": {
        "colab": {
          "base_uri": "https://localhost:8080/",
          "height": 407
        },
        "id": "L1bmRBmC8B9g",
        "outputId": "21520c07-fafe-44cd-d294-60052173d5ca"
      },
      "source": [
        "# Korelasi secara visualisasi\n",
        "sns.heatmap(corr, xticklabels=corr.columns.values, yticklabels=corr.columns.values)"
      ],
      "execution_count": 27,
      "outputs": [
        {
          "output_type": "execute_result",
          "data": {
            "text/plain": [
              "<matplotlib.axes._subplots.AxesSubplot at 0x7fe96f4e0fd0>"
            ]
          },
          "metadata": {},
          "execution_count": 27
        },
        {
          "output_type": "display_data",
          "data": {
            "image/png": "[encoded data removed]",
            "text/plain": [
              "<Figure size 432x288 with 2 Axes>"
            ]
          },
          "metadata": {
            "needs_background": "light"
          }
        }
      ]
    },
    {
      "cell_type": "code",
      "metadata": {
        "id": "Fj3kIhUPCPYd",
        "colab": {
          "base_uri": "https://localhost:8080/"
        },
        "outputId": "73d0e07a-c3a7-4e86-cfb7-a8f7bb9d07cc"
      },
      "source": [
        "df_clean.info()"
      ],
      "execution_count": 28,
      "outputs": [
        {
          "output_type": "stream",
          "name": "stdout",
          "text": [
            "<class 'pandas.core.frame.DataFrame'>\n",
            "Int64Index: 936 entries, 0 to 990\n",
            "Data columns (total 27 columns):\n",
            " #   Column                          Non-Null Count  Dtype   \n",
            "---  ------                          --------------  -----   \n",
            " 0   ID                              936 non-null    category\n",
            " 1   gagal_bayar                     936 non-null    category\n",
            " 2   Lama_Cicilan                    936 non-null    float64 \n",
            " 3   Tujuan_Pinjaman                 936 non-null    category\n",
            " 4   Jumlah_Pinjaman                 936 non-null    float64 \n",
            " 5   Pekerjaan                       936 non-null    category\n",
            " 6   Pendapatan_perbulan             936 non-null    category\n",
            " 7   Lama_Bekerja                    936 non-null    category\n",
            " 8   Status                          936 non-null    category\n",
            " 9   Kepemilikan_Rumah               936 non-null    category\n",
            " 10  Alamat_Rumah                    936 non-null    category\n",
            " 11  Alamat_Kantor                   936 non-null    category\n",
            " 12  Usia                            936 non-null    float64 \n",
            " 13  Lama_tinggal_ditempat_sekarang  936 non-null    category\n",
            " 14  SLIK_Kolektibilitas             936 non-null    category\n",
            " 15  SLIK_Cicilan_Bulanan            936 non-null    float64 \n",
            " 16  SLIK_Outstanding_CC             936 non-null    float64 \n",
            " 17  API_CreditScore_Vendor_A        936 non-null    int64   \n",
            " 18  API_CreditScore_Vendor_B        936 non-null    int64   \n",
            " 19  Device_Type                     936 non-null    category\n",
            " 20  Device_Apps_Installed           936 non-null    int64   \n",
            " 21  Device_Active_Since             936 non-null    category\n",
            " 22  Device_Apps_Segmentation        936 non-null    category\n",
            " 23  Mobile_Provider                 936 non-null    category\n",
            " 24  Mobile_Number_Active_Since      936 non-null    category\n",
            " 25  Email_Domain_Type               936 non-null    category\n",
            " 26  default                         936 non-null    int64   \n",
            "dtypes: category(18), float64(5), int64(4)\n",
            "memory usage: 141.2 KB\n"
          ]
        }
      ]
    },
    {
      "cell_type": "code",
      "metadata": {
        "id": "DINJuDJSjV3r",
        "colab": {
          "base_uri": "https://localhost:8080/",
          "height": 371
        },
        "outputId": "b689e034-e5d5-40e3-f140-fe19e6123340"
      },
      "source": [
        "# 2.3.2.5.6.2 Memahami korelasi antar variabel independent \n",
        "\n",
        "# Memisahkan variabel kategori dengan variabel numerik\n",
        "df_numerik = df_clean.select_dtypes(include=['float64','int64','int'])\n",
        "df_kategori = df_clean.select_dtypes(exclude = ['float64','int64','int'])\n",
        "\n",
        "# Menghapus kolom yang tidak berkaitan dengan korelasi antar variabel independent\n",
        "df_kategori.drop(columns=['ID', 'gagal_bayar'], inplace=True)\n",
        "\n",
        "from sklearn.feature_selection import chi2\n",
        "import numpy as np\n",
        "import pandas as pd\n",
        "import matplotlib.pyplot as plt\n",
        "import seaborn as sns\n",
        "\n",
        "df = pd.get_dummies(data = df_kategori)\n",
        "\n",
        "# Kode Python berdasarkan referensi dari https://www.analyticsvidhya.com/blog/2021/06/decoding-the-chi-square-test%E2%80%8A-%E2%80%8Ause-along-with-implementation-and-visualization/\n",
        "resultant = pd.DataFrame(data=[(0 for i in range(len(df.columns))) for i in range(len(df.columns))], \n",
        "                         columns=list(df.columns))\n",
        "resultant.set_index(pd.Index(list(df.columns)), inplace = True)\n",
        "for i in list(df.columns):\n",
        "    for j in list(df.columns):\n",
        "        if i != j:\n",
        "            chi2_val, p_val = chi2(np.array(df[i]).reshape(-1, 1), np.array(df[j]).reshape(-1, 1))\n",
        "            resultant.loc[i,j] = p_val\n",
        "print(resultant)\n",
        "\n",
        "# Untuk memudahkan membaca hasil, maka disimpan dalam bentuk csv dan didownload\n",
        "from google.colab import files\n",
        "df.to_csv('chi_square.csv') \n",
        "files.download('chi_square.csv')"
      ],
      "execution_count": 29,
      "outputs": [
        {
          "output_type": "stream",
          "name": "stderr",
          "text": [
            "/usr/local/lib/python3.7/dist-packages/pandas/core/frame.py:4174: SettingWithCopyWarning: \n",
            "A value is trying to be set on a copy of a slice from a DataFrame\n",
            "\n",
            "See the caveats in the documentation: https://pandas.pydata.org/pandas-docs/stable/user_guide/indexing.html#returning-a-view-versus-a-copy\n",
            "  errors=errors,\n"
          ]
        },
        {
          "output_type": "stream",
          "name": "stdout",
          "text": [
            "                                            Tujuan_Pinjaman_TV  ...  Email_Domain_Type_Public_Domain\n",
            "Tujuan_Pinjaman_TV                                    0.000000  ...                     9.087156e-02\n",
            "Tujuan_Pinjaman_barang_baru                           0.126689  ...                     3.787251e-01\n",
            "Tujuan_Pinjaman_barang_bekas                          0.306080  ...                     4.537606e-04\n",
            "Tujuan_Pinjaman_buka_bisnis                           0.316268  ...                     1.138674e-03\n",
            "Tujuan_Pinjaman_elektronik                            0.185945  ...                     2.985615e-01\n",
            "...                                                        ...  ...                              ...\n",
            "Mobile_Number_Active_Since_3_1_ke_2_tahun             0.201610  ...                     1.637263e-01\n",
            "Mobile_Number_Active_Since_4_2_ke_5_tahun             0.174173  ...                     2.039536e-01\n",
            "Mobile_Number_Active_Since_5_Lebih_5_tahun            0.522537  ...                     4.736328e-01\n",
            "Email_Domain_Type_Professional_Domain                 0.126074  ...                    7.310141e-167\n",
            "Email_Domain_Type_Public_Domain                       0.458504  ...                     0.000000e+00\n",
            "\n",
            "[70 rows x 70 columns]\n"
          ]
        },
        {
          "output_type": "display_data",
          "data": {
            "application/javascript": [
              "\n",
              "    async function download(id, filename, size) {\n",
              "      if (!google.colab.kernel.accessAllowed) {\n",
              "        return;\n",
              "      }\n",
              "      const div = document.createElement('div');\n",
              "      const label = document.createElement('label');\n",
              "      label.textContent = `Downloading \"${filename}\": `;\n",
              "      div.appendChild(label);\n",
              "      const progress = document.createElement('progress');\n",
              "      progress.max = size;\n",
              "      div.appendChild(progress);\n",
              "      document.body.appendChild(div);\n",
              "\n",
              "      const buffers = [];\n",
              "      let downloaded = 0;\n",
              "\n",
              "      const channel = await google.colab.kernel.comms.open(id);\n",
              "      // Send a message to notify the kernel that we're ready.\n",
              "      channel.send({})\n",
              "\n",
              "      for await (const message of channel.messages) {\n",
              "        // Send a message to notify the kernel that we're ready.\n",
              "        channel.send({})\n",
              "        if (message.buffers) {\n",
              "          for (const buffer of message.buffers) {\n",
              "            buffers.push(buffer);\n",
              "            downloaded += buffer.byteLength;\n",
              "            progress.value = downloaded;\n",
              "          }\n",
              "        }\n",
              "      }\n",
              "      const blob = new Blob(buffers, {type: 'application/binary'});\n",
              "      const a = document.createElement('a');\n",
              "      a.href = window.URL.createObjectURL(blob);\n",
              "      a.download = filename;\n",
              "      div.appendChild(a);\n",
              "      a.click();\n",
              "      div.remove();\n",
              "    }\n",
              "  "
            ],
            "text/plain": [
              "<IPython.core.display.Javascript object>"
            ]
          },
          "metadata": {}
        },
        {
          "output_type": "display_data",
          "data": {
            "application/javascript": [
              "download(\"download_2efdd32e-922d-41c0-a74d-e44d1d3e3557\", \"chi_square.csv\", 136785)"
            ],
            "text/plain": [
              "<IPython.core.display.Javascript object>"
            ]
          },
          "metadata": {}
        }
      ]
    },
    {
      "cell_type": "code",
      "metadata": {
        "id": "G6xazzsGjY7v"
      },
      "source": [
        "# Menghindari multikolinearitas antara Lama_Cicilan dan Jumlah_Pinjaman\n",
        "df_clean.drop(columns=['Jumlah_Pinjaman'], inplace=True)"
      ],
      "execution_count": 30,
      "outputs": []
    },
    {
      "cell_type": "code",
      "metadata": {
        "id": "6YN3IBO10GRR",
        "colab": {
          "base_uri": "https://localhost:8080/",
          "height": 265
        },
        "outputId": "01a874e9-3523-47d2-b8da-e63485fdc54b"
      },
      "source": [
        "# 2.3.2.5.7.3 Penggunaan WOE dan IV dalam Scorecard\n",
        "# Reference https://stackoverflow.com/questions/60892714/how-to-get-the-weight-of-evidence-woe-and-information-value-iv-in-python-pan\n",
        "\n",
        "df_woe_iv = (pd.crosstab(df_clean['SLIK_Kolektibilitas'],df_clean['default'],normalize='columns')\n",
        "             .assign(woe=lambda dfx: np.log(dfx[1] / dfx[0]))\n",
        "             .assign(iv=lambda dfx: np.sum(dfx['woe']*\n",
        "                                           (dfx[1]-dfx[0]))))\n",
        "\n",
        "print(df_woe_iv)"
      ],
      "execution_count": 31,
      "outputs": [
        {
          "output_type": "execute_result",
          "data": {
            "text/html": [
              "<div>\n",
              "<style scoped>\n",
              "    .dataframe tbody tr th:only-of-type {\n",
              "        vertical-align: middle;\n",
              "    }\n",
              "\n",
              "    .dataframe tbody tr th {\n",
              "        vertical-align: top;\n",
              "    }\n",
              "\n",
              "    .dataframe thead th {\n",
              "        text-align: right;\n",
              "    }\n",
              "</style>\n",
              "<table border=\"1\" class=\"dataframe\">\n",
              "  <thead>\n",
              "    <tr style=\"text-align: right;\">\n",
              "      <th>default</th>\n",
              "      <th>0</th>\n",
              "      <th>1</th>\n",
              "      <th>woe</th>\n",
              "      <th>iv</th>\n",
              "    </tr>\n",
              "    <tr>\n",
              "      <th>SLIK_Kolektibilitas</th>\n",
              "      <th></th>\n",
              "      <th></th>\n",
              "      <th></th>\n",
              "      <th></th>\n",
              "    </tr>\n",
              "  </thead>\n",
              "  <tbody>\n",
              "    <tr>\n",
              "      <th>Kolek 1</th>\n",
              "      <td>0.345979</td>\n",
              "      <td>0.148014</td>\n",
              "      <td>-0.849068</td>\n",
              "      <td>0.340328</td>\n",
              "    </tr>\n",
              "    <tr>\n",
              "      <th>Kolek 2</th>\n",
              "      <td>0.086495</td>\n",
              "      <td>0.090253</td>\n",
              "      <td>0.042531</td>\n",
              "      <td>0.340328</td>\n",
              "    </tr>\n",
              "    <tr>\n",
              "      <th>Kolek 3</th>\n",
              "      <td>0.496206</td>\n",
              "      <td>0.541516</td>\n",
              "      <td>0.087381</td>\n",
              "      <td>0.340328</td>\n",
              "    </tr>\n",
              "    <tr>\n",
              "      <th>Kolek 4</th>\n",
              "      <td>0.009105</td>\n",
              "      <td>0.028881</td>\n",
              "      <td>1.154388</td>\n",
              "      <td>0.340328</td>\n",
              "    </tr>\n",
              "    <tr>\n",
              "      <th>Kolek 5</th>\n",
              "      <td>0.030349</td>\n",
              "      <td>0.097473</td>\n",
              "      <td>1.166811</td>\n",
              "      <td>0.340328</td>\n",
              "    </tr>\n",
              "    <tr>\n",
              "      <th>Tidak_Ditemukan</th>\n",
              "      <td>0.031866</td>\n",
              "      <td>0.093863</td>\n",
              "      <td>1.080280</td>\n",
              "      <td>0.340328</td>\n",
              "    </tr>\n",
              "  </tbody>\n",
              "</table>\n",
              "</div>"
            ],
            "text/plain": [
              "default                     0         1       woe        iv\n",
              "SLIK_Kolektibilitas                                        \n",
              "Kolek 1              0.345979  0.148014 -0.849068  0.340328\n",
              "Kolek 2              0.086495  0.090253  0.042531  0.340328\n",
              "Kolek 3              0.496206  0.541516  0.087381  0.340328\n",
              "Kolek 4              0.009105  0.028881  1.154388  0.340328\n",
              "Kolek 5              0.030349  0.097473  1.166811  0.340328\n",
              "Tidak_Ditemukan      0.031866  0.093863  1.080280  0.340328"
            ]
          },
          "metadata": {},
          "execution_count": 31
        }
      ]
    },
    {
      "cell_type": "code",
      "metadata": {
        "id": "k7PpZqehERWC",
        "colab": {
          "base_uri": "https://localhost:8080/"
        },
        "outputId": "75a73b5d-c8b1-4023-f491-f82b814a7586"
      },
      "source": [
        "# Variabel SLIK_Kolektibilitas\n",
        "\n",
        "conditions = [\n",
        "             ( df_clean['SLIK_Kolektibilitas'] == 'Kolek 1' ),\n",
        "             ( df_clean['SLIK_Kolektibilitas'] == 'Kolek 2' ) | ( df_clean['SLIK_Kolektibilitas'] == 'Kolek 3' ),\n",
        "             ( df_clean['SLIK_Kolektibilitas'] == 'Kolek 4' ) | ( df_clean['SLIK_Kolektibilitas'] == 'Kolek 5' ) | ( df_clean['SLIK_Kolektibilitas'] == 'Tidak_Ditemukan' )\n",
        "             ]\n",
        "\n",
        "choices = [\n",
        "          '1',\n",
        "          '2&3',\n",
        "          '4&5&Tidak_Ditemukan'\n",
        "          ]\n",
        "\n",
        "df_clean['SLIK_Kolektibilitas_Bin'] = np.select(conditions, choices)\n",
        "\n",
        "# Untuk melihat proporsi (dalam persentase) dari variabel Usia\n",
        "print(df_clean['SLIK_Kolektibilitas_Bin'].value_counts(normalize=True) * 100)\n",
        "\n",
        "df_woe_iv = (pd.crosstab(df_clean['SLIK_Kolektibilitas_Bin'],df_clean['default'],normalize='columns')\n",
        "             .assign(woe=lambda dfx: np.log(dfx[1] / dfx[0]))\n",
        "             .assign(iv=lambda dfx: np.sum(dfx['woe']*\n",
        "                                           (dfx[1]-dfx[0]))))\n",
        "\n",
        "print(df_woe_iv)\n",
        "\n",
        "conditions = [\n",
        "             ( df_clean['SLIK_Kolektibilitas'] == 'Kolek 1' ),\n",
        "             ( df_clean['SLIK_Kolektibilitas'] == 'Kolek 2' ) | ( df_clean['SLIK_Kolektibilitas'] == 'Kolek 3' ),\n",
        "             ( df_clean['SLIK_Kolektibilitas'] == 'Kolek 4' ) | ( df_clean['SLIK_Kolektibilitas'] == 'Kolek 5' ) | ( df_clean['SLIK_Kolektibilitas'] == 'Tidak_Ditemukan' )\n",
        "             ]\n",
        "\n",
        "choices = [\n",
        "          -0.849068,\n",
        "          0.080849,\n",
        "          1.127432\n",
        "          ]\n",
        "\n",
        "df_clean['SLIK_Kolektibilitas_WOE'] = np.select(conditions, choices)"
      ],
      "execution_count": 70,
      "outputs": [
        {
          "output_type": "stream",
          "name": "stdout",
          "text": [
            "2&3                    59.722222\n",
            "1                      28.739316\n",
            "4&5&Tidak_Ditemukan    11.538462\n",
            "Name: SLIK_Kolektibilitas_Bin, dtype: float64\n",
            "default                         0         1       woe        iv\n",
            "SLIK_Kolektibilitas_Bin                                        \n",
            "1                        0.345979  0.148014 -0.849068  0.339923\n",
            "2&3                      0.582701  0.631769  0.080849  0.339923\n",
            "4&5&Tidak_Ditemukan      0.071320  0.220217  1.127432  0.339923\n"
          ]
        }
      ]
    },
    {
      "cell_type": "code",
      "metadata": {
        "id": "BETSmws_CDAx",
        "colab": {
          "base_uri": "https://localhost:8080/"
        },
        "outputId": "8fc86277-5b25-4664-a6e9-5e3822e0761e"
      },
      "source": [
        "# Variabel Usia\n",
        "\n",
        "conditions = [\n",
        "             ( df_clean['Usia'] <= 23 ),\n",
        "             ( df_clean['Usia'] >= 24 ) & ( df_clean['Usia'] <= 26 ),\n",
        "             ( df_clean['Usia'] >= 27 ) & ( df_clean['Usia'] <= 28 ),\n",
        "             ( df_clean['Usia'] >= 29 ) & ( df_clean['Usia'] <= 31 ),\n",
        "             ( df_clean['Usia'] >= 32 ) & ( df_clean['Usia'] <= 34 ),\n",
        "             ( df_clean['Usia'] >= 35 ) & ( df_clean['Usia'] <= 37 ),\n",
        "             ( df_clean['Usia'] >= 38 ) & ( df_clean['Usia'] <= 42 ),\n",
        "             ( df_clean['Usia'] >= 43 ) & ( df_clean['Usia'] <= 48 ),\n",
        "             ( df_clean['Usia'] >= 49 )\n",
        "             ]\n",
        "\n",
        "choices = [\n",
        "          '1.<=23',\n",
        "          '2.24-26',\n",
        "          '3.27-28',\n",
        "          '4.29-31',\n",
        "          '5.32-34',\n",
        "          '6.35-37',\n",
        "          '7.38-42',\n",
        "          '8.43-48',\n",
        "          '9.>=49'\n",
        "          ]\n",
        "df_clean['Usia_Bin'] = np.select(conditions, choices)\n",
        "\n",
        "# Untuk melihat proporsi (dalam persentase) dari variabel Usia\n",
        "print(df_clean['Usia_Bin'].value_counts(normalize=True) * 100)\n",
        "\n",
        "print(pd.crosstab(df_clean['Usia_Bin'], df_clean['default']))\n",
        "\n",
        "df_woe_iv = (pd.crosstab(df_clean['Usia_Bin'],df_clean['default'],normalize='columns')\n",
        "             .assign(woe=lambda dfx: np.log(dfx[1] / dfx[0]))\n",
        "             .assign(iv=lambda dfx: np.sum(dfx['woe']*\n",
        "                                           (dfx[1]-dfx[0]))))\n",
        "\n",
        "print(df_woe_iv)\n",
        "\n",
        "conditions = [\n",
        "             ( df_clean['Usia'] <= 23 ),\n",
        "             ( df_clean['Usia'] >= 24 ) & ( df_clean['Usia'] <= 26 ),\n",
        "             ( df_clean['Usia'] >= 27 ) & ( df_clean['Usia'] <= 28 ),\n",
        "             ( df_clean['Usia'] >= 29 ) & ( df_clean['Usia'] <= 31 ),\n",
        "             ( df_clean['Usia'] >= 32 ) & ( df_clean['Usia'] <= 34 ),\n",
        "             ( df_clean['Usia'] >= 35 ) & ( df_clean['Usia'] <= 37 ),\n",
        "             ( df_clean['Usia'] >= 38 ) & ( df_clean['Usia'] <= 42 ),\n",
        "             ( df_clean['Usia'] >= 43 ) & ( df_clean['Usia'] <= 48 ),\n",
        "             ( df_clean['Usia'] >= 49 )\n",
        "             ]\n",
        "\n",
        "choices = [\n",
        "          '1.<=23',\n",
        "          '2.24-26',\n",
        "          '3.27-28',\n",
        "          '4.29-31',\n",
        "          '5.32-34',\n",
        "          '6.35-37',\n",
        "          '7.38-42',\n",
        "          '8.43-48',\n",
        "          '9.>=49'\n",
        "          ]\n",
        "df_clean['Usia_WOE'] = np.select(conditions, choices)"
      ],
      "execution_count": 66,
      "outputs": [
        {
          "output_type": "stream",
          "name": "stdout",
          "text": [
            "9.>=49     13.888889\n",
            "2.24-26    13.782051\n",
            "7.38-42    11.538462\n",
            "4.29-31    11.111111\n",
            "6.35-37    10.683761\n",
            "1.<=23     10.576923\n",
            "8.43-48     9.829060\n",
            "5.32-34     9.401709\n",
            "3.27-28     9.188034\n",
            "Name: Usia_Bin, dtype: float64\n",
            "default    0   1\n",
            "Usia_Bin        \n",
            "1.<=23    59  40\n",
            "2.24-26   79  50\n",
            "3.27-28   62  24\n",
            "4.29-31   73  31\n",
            "5.32-34   59  29\n",
            "6.35-37   82  18\n",
            "7.38-42   80  28\n",
            "8.43-48   68  24\n",
            "9.>=49    97  33\n",
            "default          0         1       woe        iv\n",
            "Usia_Bin                                        \n",
            "1.<=23    0.089530  0.144404  0.478048  0.105209\n",
            "2.24-26   0.119879  0.180505  0.409281  0.105209\n",
            "3.27-28   0.094082  0.086643 -0.082375  0.105209\n",
            "4.29-31   0.110774  0.111913  0.010234  0.105209\n",
            "5.32-34   0.089530  0.104693  0.156464  0.105209\n",
            "6.35-37   0.124431  0.064982 -0.649641  0.105209\n",
            "7.38-42   0.121396  0.101083 -0.183116  0.105209\n",
            "8.43-48   0.103187  0.086643 -0.174748  0.105209\n",
            "9.>=49    0.147193  0.119134 -0.211497  0.105209\n"
          ]
        }
      ]
    },
    {
      "cell_type": "code",
      "metadata": {
        "id": "aojzHITtpw_i",
        "outputId": "5976e9d9-2ce0-40e6-d0f1-3a3a86f2a99e",
        "colab": {
          "base_uri": "https://localhost:8080/"
        }
      },
      "source": [
        "# Variabel Usia revisi Bin\n",
        "\n",
        "conditions = [\n",
        "             ( df_clean['Usia'] <= 23 ),\n",
        "             ( df_clean['Usia'] >= 24 ) & ( df_clean['Usia'] <= 26 ),\n",
        "             ( df_clean['Usia'] >= 27 ) & ( df_clean['Usia'] <= 34 ),\n",
        "             ( df_clean['Usia'] >= 35 )\n",
        "             ]\n",
        "\n",
        "choices = [\n",
        "          '1.<=23',\n",
        "          '2.24-26',\n",
        "          '3.27-34',\n",
        "          '4.>=35'\n",
        "          ]\n",
        "df_clean['Usia_Bin'] = np.select(conditions, choices)\n",
        "\n",
        "# Untuk melihat proporsi (dalam persentase) dari variabel Usia\n",
        "print(df_clean['Usia_Bin'].value_counts(normalize=True) * 100)\n",
        "\n",
        "print(pd.crosstab(df_clean['Usia_Bin'], df_clean['default']))\n",
        "\n",
        "df_woe_iv = (pd.crosstab(df_clean['Usia_Bin'],df_clean['default'],normalize='columns')\n",
        "             .assign(woe=lambda dfx: np.log(dfx[1] / dfx[0]))\n",
        "             .assign(iv=lambda dfx: np.sum(dfx['woe']*\n",
        "                                           (dfx[1]-dfx[0]))))\n",
        "\n",
        "print(df_woe_iv)\n",
        "\n",
        "conditions = [\n",
        "             ( df_clean['Usia'] <= 23 ),\n",
        "             ( df_clean['Usia'] >= 24 ) & ( df_clean['Usia'] <= 26 ),\n",
        "             ( df_clean['Usia'] >= 27 ) & ( df_clean['Usia'] <= 34 ),\n",
        "             ( df_clean['Usia'] >= 35 )\n",
        "             ]\n",
        "\n",
        "choices = [\n",
        "          0.478048,\n",
        "          0.409281,\n",
        "          0.029665,\n",
        "          -0.288525\n",
        "          ]\n",
        "df_clean['Usia_WOE'] = np.select(conditions, choices)"
      ],
      "execution_count": 68,
      "outputs": [
        {
          "output_type": "stream",
          "name": "stdout",
          "text": [
            "4.>=35     45.940171\n",
            "3.27-34    29.700855\n",
            "2.24-26    13.782051\n",
            "1.<=23     10.576923\n",
            "Name: Usia_Bin, dtype: float64\n",
            "default     0    1\n",
            "Usia_Bin          \n",
            "1.<=23     59   40\n",
            "2.24-26    79   50\n",
            "3.27-34   194   84\n",
            "4.>=35    327  103\n",
            "default          0         1       woe        iv\n",
            "Usia_Bin                                        \n",
            "1.<=23    0.089530  0.144404  0.478048  0.087192\n",
            "2.24-26   0.119879  0.180505  0.409281  0.087192\n",
            "3.27-34   0.294385  0.303249  0.029665  0.087192\n",
            "4.>=35    0.496206  0.371841 -0.288525  0.087192\n"
          ]
        }
      ]
    },
    {
      "cell_type": "code",
      "metadata": {
        "id": "S1RnjSNufIqe",
        "outputId": "8d31b048-12a9-46e4-8bd3-a7585aad8b68",
        "colab": {
          "base_uri": "https://localhost:8080/"
        }
      },
      "source": [
        "# Variabel Tujuan_Pinjaman\n",
        "\n",
        "# Untuk melihat proporsi (dalam persentase) dari variabel Tujuan_Pinjaman\n",
        "print(df_clean['Tujuan_Pinjaman'].value_counts(normalize=True) * 100)\n",
        "\n",
        "df_woe_iv = (pd.crosstab(df_clean['Tujuan_Pinjaman'],df_clean['default'],normalize='columns')\n",
        "             .assign(woe=lambda dfx: np.log(dfx[1] / dfx[0]))\n",
        "             .assign(iv=lambda dfx: np.sum(dfx['woe']*\n",
        "                                           (dfx[1]-dfx[0]))))\n",
        "\n",
        "print(df_woe_iv)\n",
        "\n",
        "conditions = [\n",
        "             ( (df_clean['Tujuan_Pinjaman'] == 'pendidikan') | (df_clean['Tujuan_Pinjaman'] == 'barang_bekas') ), \n",
        "             ( df_clean['Tujuan_Pinjaman'] == 'peralatan_rumahtangga' ),\n",
        "             ( (df_clean['Tujuan_Pinjaman'] == 'makanan') | (df_clean['Tujuan_Pinjaman'] == 'elektronik') ),\n",
        "             ( (df_clean['Tujuan_Pinjaman'] == 'TV') | (df_clean['Tujuan_Pinjaman'] == 'buka_bisnis') | (df_clean['Tujuan_Pinjaman'] == 'reparasi') | (df_clean['Tujuan_Pinjaman'] == 'barang_baru')  ), \n",
        "             ( df_clean['Tujuan_Pinjaman'] == 'liburan' )\n",
        "             ]\n",
        "\n",
        "choices = [\n",
        "          '1.pendidikan|bekas',\n",
        "          '2.peralatan_rumahtangga',\n",
        "          '3.elektronik|makanan',\n",
        "          '4.TV|bisnis|reparasi|baru',\n",
        "          '5.liburan'\n",
        "          ]\n",
        "df_clean['Tujuan_Pinjaman_Bin'] = np.select(conditions, choices)\n",
        "\n",
        "print(pd.crosstab(df_clean['Tujuan_Pinjaman_Bin'], df_clean['default']))\n",
        "\n",
        "df_woe_iv = (pd.crosstab(df_clean['Tujuan_Pinjaman_Bin'],df_clean['default'],normalize='columns')\n",
        "             .assign(woe=lambda dfx: np.log(dfx[1] / dfx[0]))\n",
        "             .assign(iv=lambda dfx: np.sum(dfx['woe']*\n",
        "                                           (dfx[1]-dfx[0]))))\n",
        "print(df_woe_iv)\n",
        "\n",
        "conditions = [\n",
        "             ( (df_clean['Tujuan_Pinjaman'] == 'pendidikan') | (df_clean['Tujuan_Pinjaman'] == 'barang_bekas') ), \n",
        "             ( df_clean['Tujuan_Pinjaman'] == 'peralatan_rumahtangga' ),\n",
        "             ( (df_clean['Tujuan_Pinjaman'] == 'makanan') | (df_clean['Tujuan_Pinjaman'] == 'elektronik') ),\n",
        "             ( (df_clean['Tujuan_Pinjaman'] == 'TV') | (df_clean['Tujuan_Pinjaman'] == 'buka_bisnis') | (df_clean['Tujuan_Pinjaman'] == 'reparasi') | (df_clean['Tujuan_Pinjaman'] == 'barang_baru')  ), \n",
        "             ( df_clean['Tujuan_Pinjaman'] == 'liburan' )\n",
        "             ]\n",
        "\n",
        "choices = [\n",
        "          -0.860515,\n",
        "          -0.407615,\n",
        "          0.123962,\n",
        "          0.320162,\n",
        "          0.738873\n",
        "          ]\n",
        "df_clean['Tujuan_Pinjaman_WOE'] = np.select(conditions, choices)\n"
      ],
      "execution_count": 61,
      "outputs": [
        {
          "output_type": "stream",
          "name": "stdout",
          "text": [
            "peralatan_rumahtangga    28.846154\n",
            "barang_baru              23.076923\n",
            "elektronik               17.307692\n",
            "barang_bekas             10.363248\n",
            "buka_bisnis               9.935897\n",
            "liburan                   5.021368\n",
            "makanan                   2.243590\n",
            "reparasi                  1.175214\n",
            "TV                        1.068376\n",
            "pendidikan                0.961538\n",
            "Name: Tujuan_Pinjaman, dtype: float64\n",
            "default                       0         1       woe       iv\n",
            "Tujuan_Pinjaman                                             \n",
            "TV                     0.009105  0.014440  0.461241  0.18519\n",
            "barang_baru            0.206373  0.288809  0.336078  0.18519\n",
            "barang_bekas           0.124431  0.054152 -0.831963  0.18519\n",
            "buka_bisnis            0.091047  0.119134  0.268869  0.18519\n",
            "elektronik             0.166920  0.187726  0.117469  0.18519\n",
            "liburan                0.037936  0.079422  0.738873  0.18519\n",
            "makanan                0.021244  0.025271  0.173559  0.18519\n",
            "pendidikan             0.012140  0.003610 -1.212736  0.18519\n",
            "peralatan_rumahtangga  0.320182  0.212996 -0.407615  0.18519\n",
            "reparasi               0.010622  0.014440  0.307090  0.18519\n",
            "default                      0    1\n",
            "Tujuan_Pinjaman_Bin                \n",
            "1.pendidikan|bekas          90   16\n",
            "2.peralatan_rumahtangga    211   59\n",
            "3.elektronik|makanan       124   59\n",
            "4.TV|bisnis|reparasi|baru  209  121\n",
            "5.liburan                   25   22\n",
            "default                           0         1       woe        iv\n",
            "Tujuan_Pinjaman_Bin                                              \n",
            "1.pendidikan|bekas         0.136571  0.057762 -0.860515  0.183554\n",
            "2.peralatan_rumahtangga    0.320182  0.212996 -0.407615  0.183554\n",
            "3.elektronik|makanan       0.188164  0.212996  0.123962  0.183554\n",
            "4.TV|bisnis|reparasi|baru  0.317147  0.436823  0.320162  0.183554\n",
            "5.liburan                  0.037936  0.079422  0.738873  0.183554\n"
          ]
        }
      ]
    },
    {
      "cell_type": "code",
      "metadata": {
        "id": "Wyxe7td1mvkC",
        "outputId": "f8f2bf25-619a-4547-cbbc-0bb7b8a9cab2",
        "colab": {
          "base_uri": "https://localhost:8080/"
        }
      },
      "source": [
        "# Variabel Lama_Cicilan\n",
        "\n",
        "# Untuk melihat proporsi (dalam persentase) dari variabel Lama_Cicilan\n",
        "print(df_clean['Lama_Cicilan'].value_counts(normalize=True) * 100)\n",
        "\n",
        "df_woe_iv = (pd.crosstab(df_clean['Lama_Cicilan'],df_clean['default'],normalize='columns')\n",
        "             .assign(woe=lambda dfx: np.log(dfx[1] / dfx[0]))\n",
        "             .assign(iv=lambda dfx: np.sum(dfx['woe']*\n",
        "                                           (dfx[1]-dfx[0]))))\n",
        "\n",
        "print(df_woe_iv)\n",
        "\n",
        "conditions = [\n",
        "             ( df_clean['Lama_Cicilan'] == 1 ), \n",
        "             ( df_clean['Lama_Cicilan'] == 2 ), \n",
        "             ( df_clean['Lama_Cicilan'] <= 4 ), \n",
        "             ( df_clean['Lama_Cicilan'] == 5 ), \n",
        "             ( df_clean['Lama_Cicilan'] == 6 )\n",
        "             ]\n",
        "\n",
        "choices = [\n",
        "          '1_bulan',\n",
        "          '2_bulan',\n",
        "          '3-4_bulan',\n",
        "          '5_bulan',\n",
        "          '6_bulan'\n",
        "          ]\n",
        "df_clean['Lama_Cicilan_Bin'] = np.select(conditions, choices)\n",
        "\n",
        "print(pd.crosstab(df_clean['Lama_Cicilan_Bin'], df_clean['default']))\n",
        "\n",
        "df_woe_iv = (pd.crosstab(df_clean['Lama_Cicilan_Bin'],df_clean['default'],normalize='columns')\n",
        "             .assign(woe=lambda dfx: np.log(dfx[1] / dfx[0]))\n",
        "             .assign(iv=lambda dfx: np.sum(dfx['woe']*\n",
        "                                           (dfx[1]-dfx[0]))))\n",
        "print(df_woe_iv)\n",
        "\n",
        "conditions = [\n",
        "             ( df_clean['Lama_Cicilan'] == 1 ), \n",
        "             ( df_clean['Lama_Cicilan'] == 2 ), \n",
        "             ( df_clean['Lama_Cicilan'] <= 4 ), \n",
        "             ( df_clean['Lama_Cicilan'] == 5 ), \n",
        "             ( df_clean['Lama_Cicilan'] == 6 )\n",
        "             ]\n",
        "\n",
        "choices = [\n",
        "          -1.055107,\n",
        "          -0.263159,\n",
        "          0.000786,\n",
        "          0.355880,\n",
        "          1.044387\n",
        "          ]\n",
        "df_clean['Lama_Cicilan_WOE'] = np.select(conditions, choices)"
      ],
      "execution_count": 63,
      "outputs": [
        {
          "output_type": "stream",
          "name": "stdout",
          "text": [
            "2.0    27.564103\n",
            "3.0    21.153846\n",
            "4.0    19.978632\n",
            "5.0    12.820513\n",
            "1.0    10.042735\n",
            "6.0     8.440171\n",
            "Name: Lama_Cicilan, dtype: float64\n",
            "default              0         1       woe        iv\n",
            "Lama_Cicilan                                        \n",
            "1.0           0.124431  0.043321 -1.055107  0.226017\n",
            "2.0           0.295903  0.227437 -0.263159  0.226017\n",
            "3.0           0.210926  0.212996  0.009770  0.226017\n",
            "4.0           0.200303  0.198556 -0.008763  0.226017\n",
            "5.0           0.113809  0.162455  0.355880  0.226017\n",
            "6.0           0.054628  0.155235  1.044387  0.226017\n",
            "default             0    1\n",
            "Lama_Cicilan_Bin          \n",
            "1_bulan            82   12\n",
            "2_bulan           195   63\n",
            "3-4_bulan         271  114\n",
            "5_bulan            75   45\n",
            "6_bulan            36   43\n",
            "default                  0         1       woe        iv\n",
            "Lama_Cicilan_Bin                                        \n",
            "1_bulan           0.124431  0.043321 -1.055107  0.225981\n",
            "2_bulan           0.295903  0.227437 -0.263159  0.225981\n",
            "3-4_bulan         0.411229  0.411552  0.000786  0.225981\n",
            "5_bulan           0.113809  0.162455  0.355880  0.225981\n",
            "6_bulan           0.054628  0.155235  1.044387  0.225981\n"
          ]
        }
      ]
    },
    {
      "cell_type": "code",
      "metadata": {
        "id": "lxWSC99NrNRO",
        "outputId": "4dd7aaf4-91ab-4902-cdae-838d4ff9914f",
        "colab": {
          "base_uri": "https://localhost:8080/"
        }
      },
      "source": [
        "# Variabel Device_Apps_Segmentation\n",
        "\n",
        "# Untuk melihat proporsi (dalam persentase) dari variabel Device_Apps_Segmentation\n",
        "print(df_clean['Device_Apps_Segmentation'].value_counts(normalize=True) * 100)\n",
        "\n",
        "df_woe_iv = (pd.crosstab(df_clean['Device_Apps_Segmentation'],df_clean['default'],normalize='columns')\n",
        "             .assign(woe=lambda dfx: np.log(dfx[1] / dfx[0]))\n",
        "             .assign(iv=lambda dfx: np.sum(dfx['woe']*\n",
        "                                           (dfx[1]-dfx[0]))))\n",
        "\n",
        "print(df_woe_iv)\n",
        "\n",
        "conditions = [\n",
        "             ( df_clean['Device_Apps_Segmentation'] == 'Productivity' ), \n",
        "             ( df_clean['Device_Apps_Segmentation'] == 'Social_Media' ), \n",
        "             ( df_clean['Device_Apps_Segmentation'] == 'Shopping' ), \n",
        "             ( df_clean['Device_Apps_Segmentation'] == 'Games' ), \n",
        "             ( df_clean['Device_Apps_Segmentation'] == 'Online_Lending' )\n",
        "             ]\n",
        "\n",
        "choices = [\n",
        "          '1.Productivity',\n",
        "          '2.Social_Media',\n",
        "          '3.Shopping',\n",
        "          '4.Games',\n",
        "          '5.Online_Lending'\n",
        "          ]\n",
        "df_clean['Device_Apps_Segmentation_Bin'] = np.select(conditions, choices)\n",
        "\n",
        "print(pd.crosstab(df_clean['Device_Apps_Segmentation_Bin'], df_clean['default']))\n",
        "\n",
        "df_woe_iv = (pd.crosstab(df_clean['Device_Apps_Segmentation_Bin'],df_clean['default'],normalize='columns')\n",
        "             .assign(woe=lambda dfx: np.log(dfx[1] / dfx[0]))\n",
        "             .assign(iv=lambda dfx: np.sum(dfx['woe']*\n",
        "                                           (dfx[1]-dfx[0]))))\n",
        "print(df_woe_iv)\n",
        "\n",
        "conditions = [\n",
        "             ( df_clean['Device_Apps_Segmentation'] == 'Productivity' ), \n",
        "             ( df_clean['Device_Apps_Segmentation'] == 'Social_Media' ), \n",
        "             ( df_clean['Device_Apps_Segmentation'] == 'Shopping' ), \n",
        "             ( df_clean['Device_Apps_Segmentation'] == 'Games' ), \n",
        "             ( df_clean['Device_Apps_Segmentation'] == 'Online_Lending' )\n",
        "             ]\n",
        "\n",
        "choices = [\n",
        "          -0.455050,\n",
        "          -0.198005,\n",
        "          -0.130810,\n",
        "          0.131595,\n",
        "          0.697288\n",
        "          ]\n",
        "df_clean['Device_Apps_Segmentation_WOE'] = np.select(conditions, choices)"
      ],
      "execution_count": 73,
      "outputs": [
        {
          "output_type": "stream",
          "name": "stdout",
          "text": [
            "Games             23.076923\n",
            "Social_Media      20.833333\n",
            "Shopping          20.619658\n",
            "Productivity      20.299145\n",
            "Online_Lending    15.170940\n",
            "Name: Device_Apps_Segmentation, dtype: float64\n",
            "default                          0         1       woe        iv\n",
            "Device_Apps_Segmentation                                        \n",
            "Games                     0.221548  0.252708  0.131595  0.135374\n",
            "Online_Lending            0.116844  0.234657  0.697288  0.135374\n",
            "Productivity              0.227618  0.144404 -0.455050  0.135374\n",
            "Shopping                  0.213961  0.187726 -0.130810  0.135374\n",
            "Social_Media              0.220030  0.180505 -0.198005  0.135374\n",
            "default                         0   1\n",
            "Device_Apps_Segmentation_Bin         \n",
            "1.Productivity                150  40\n",
            "2.Social_Media                145  50\n",
            "3.Shopping                    141  52\n",
            "4.Games                       146  70\n",
            "5.Online_Lending               77  65\n",
            "default                              0         1       woe        iv\n",
            "Device_Apps_Segmentation_Bin                                        \n",
            "1.Productivity                0.227618  0.144404 -0.455050  0.135374\n",
            "2.Social_Media                0.220030  0.180505 -0.198005  0.135374\n",
            "3.Shopping                    0.213961  0.187726 -0.130810  0.135374\n",
            "4.Games                       0.221548  0.252708  0.131595  0.135374\n",
            "5.Online_Lending              0.116844  0.234657  0.697288  0.135374\n"
          ]
        }
      ]
    },
    {
      "cell_type": "code",
      "metadata": {
        "id": "z2Zp_hwRf4P5"
      },
      "source": [
        ""
      ],
      "execution_count": null,
      "outputs": []
    },
    {
      "cell_type": "code",
      "metadata": {
        "id": "4e2996muDzy6",
        "colab": {
          "base_uri": "https://localhost:8080/",
          "height": 397
        },
        "outputId": "5a5540c1-97e9-4861-cc87-57cf09517867"
      },
      "source": [
        ""
      ],
      "execution_count": 34,
      "outputs": [
        {
          "output_type": "stream",
          "name": "stdout",
          "text": [
            "default    0   1\n",
            "Usia_Bin        \n",
            "1.<=23    59  40\n",
            "2.24-26   79  50\n",
            "3.27-28   62  24\n",
            "4.29-31   73  31\n",
            "5.32-34   59  29\n",
            "6.35-37   82  18\n",
            "7.38-42   80  28\n",
            "8.43-48   68  24\n",
            "9.>=49    97  33\n"
          ]
        },
        {
          "output_type": "execute_result",
          "data": {
            "text/html": [
              "<div>\n",
              "<style scoped>\n",
              "    .dataframe tbody tr th:only-of-type {\n",
              "        vertical-align: middle;\n",
              "    }\n",
              "\n",
              "    .dataframe tbody tr th {\n",
              "        vertical-align: top;\n",
              "    }\n",
              "\n",
              "    .dataframe thead th {\n",
              "        text-align: right;\n",
              "    }\n",
              "</style>\n",
              "<table border=\"1\" class=\"dataframe\">\n",
              "  <thead>\n",
              "    <tr style=\"text-align: right;\">\n",
              "      <th>default</th>\n",
              "      <th>0</th>\n",
              "      <th>1</th>\n",
              "      <th>woe</th>\n",
              "      <th>iv</th>\n",
              "    </tr>\n",
              "    <tr>\n",
              "      <th>Usia_Bin2</th>\n",
              "      <th></th>\n",
              "      <th></th>\n",
              "      <th></th>\n",
              "      <th></th>\n",
              "    </tr>\n",
              "  </thead>\n",
              "  <tbody>\n",
              "    <tr>\n",
              "      <th>1.&lt;=23</th>\n",
              "      <td>0.089530</td>\n",
              "      <td>0.144404</td>\n",
              "      <td>0.478048</td>\n",
              "      <td>0.087192</td>\n",
              "    </tr>\n",
              "    <tr>\n",
              "      <th>2.24-26</th>\n",
              "      <td>0.119879</td>\n",
              "      <td>0.180505</td>\n",
              "      <td>0.409281</td>\n",
              "      <td>0.087192</td>\n",
              "    </tr>\n",
              "    <tr>\n",
              "      <th>3.27-34</th>\n",
              "      <td>0.294385</td>\n",
              "      <td>0.303249</td>\n",
              "      <td>0.029665</td>\n",
              "      <td>0.087192</td>\n",
              "    </tr>\n",
              "    <tr>\n",
              "      <th>4.&gt;=35</th>\n",
              "      <td>0.496206</td>\n",
              "      <td>0.371841</td>\n",
              "      <td>-0.288525</td>\n",
              "      <td>0.087192</td>\n",
              "    </tr>\n",
              "  </tbody>\n",
              "</table>\n",
              "</div>"
            ],
            "text/plain": [
              "default           0         1       woe        iv\n",
              "Usia_Bin2                                        \n",
              "1.<=23     0.089530  0.144404  0.478048  0.087192\n",
              "2.24-26    0.119879  0.180505  0.409281  0.087192\n",
              "3.27-34    0.294385  0.303249  0.029665  0.087192\n",
              "4.>=35     0.496206  0.371841 -0.288525  0.087192"
            ]
          },
          "metadata": {},
          "execution_count": 34
        }
      ]
    },
    {
      "cell_type": "code",
      "metadata": {
        "id": "ugFhwCFJq3C1"
      },
      "source": [
        "# 2.3.3.1.1 Variabel Debt Burden Ratio (DBR)\n",
        "\n",
        "conditions = [\n",
        "             ( df_clean['Pendapatan_perbulan'] == '1. < 1 juta' ),\n",
        "             ( df_clean['Pendapatan_perbulan'] == '2. 1 - 5 juta' ),\n",
        "             ( df_clean['Pendapatan_perbulan'] == '3. 5 - 10 juta' ),\n",
        "             ( df_clean['Pendapatan_perbulan'] == '4. 10 - 20 juta' ),\n",
        "             ( df_clean['Pendapatan_perbulan'] == '5. >20 juta' )\n",
        "             ]\n",
        "\n",
        "choices = [\n",
        "          ( (df_clean['SLIK_Cicilan_Bulanan'] + (df_clean['SLIK_Outstanding_CC'] * 0.1) ) / 1000000 ),\n",
        "          ( (df_clean['SLIK_Cicilan_Bulanan'] + (df_clean['SLIK_Outstanding_CC'] * 0.1) ) / 5000000 ),\n",
        "          ( (df_clean['SLIK_Cicilan_Bulanan'] + (df_clean['SLIK_Outstanding_CC'] * 0.1) ) / 10000000 ),\n",
        "          ( (df_clean['SLIK_Cicilan_Bulanan'] + (df_clean['SLIK_Outstanding_CC'] * 0.1) ) / 20000000 ),\n",
        "          ( (df_clean['SLIK_Cicilan_Bulanan'] + (df_clean['SLIK_Outstanding_CC'] * 0.1) ) / 30000000 )\n",
        "          ]\n",
        "df_clean['DBR'] = np.select(conditions, choices)"
      ],
      "execution_count": 35,
      "outputs": []
    },
    {
      "cell_type": "code",
      "metadata": {
        "id": "dWiNIMfWtwly"
      },
      "source": [
        "# 2.3.3.1.2 Apakah alamat kantor dan rumah berdekatan?\n",
        "\n",
        "conditions = [\n",
        "             ( df_clean['Alamat_Rumah'] == df_clean['Alamat_Kantor'] ),\n",
        "             ( df_clean['Alamat_Rumah'] != df_clean['Alamat_Kantor'] ),\n",
        "             ]\n",
        "\n",
        "choices = [\n",
        "          1,\n",
        "          0\n",
        "          ]\n",
        "df_clean['Alamat_Rumah_Kantor'] = np.select(conditions, choices)"
      ],
      "execution_count": 36,
      "outputs": []
    },
    {
      "cell_type": "code",
      "metadata": {
        "id": "JfIGL2QLrioC",
        "colab": {
          "base_uri": "https://localhost:8080/"
        },
        "outputId": "00d4de99-9ff9-4265-f5a4-3b0f5b9fc120"
      },
      "source": [
        "df_score_manual = df_clean[['SLIK_Kolektibilitas_Bin','default']]\n",
        "\n",
        "conditions = [\n",
        "             ( df_clean['SLIK_Kolektibilitas'] == 1 ),\n",
        "             ( df_clean['SLIK_Kolektibilitas'] == 2 ) | ( df_clean['SLIK_Kolektibilitas'] == 3 ),\n",
        "             ( df_clean['SLIK_Kolektibilitas'] == 4 ) | ( df_clean['SLIK_Kolektibilitas'] == 5 )\n",
        "             ]\n",
        "choices = [\n",
        "          -0.801299,\n",
        "          0.152287,\n",
        "          1.223173\n",
        "          ]\n",
        "\n",
        "df_score_manual['SLIK_Kolektibilitas_WOE'] = np.select(conditions, choices)\n",
        "df_score_manual = df_score_manual[['SLIK_Kolektibilitas_WOE','default']]"
      ],
      "execution_count": 37,
      "outputs": [
        {
          "output_type": "stream",
          "name": "stderr",
          "text": [
            "/usr/local/lib/python3.7/dist-packages/ipykernel_launcher.py:14: SettingWithCopyWarning: \n",
            "A value is trying to be set on a copy of a slice from a DataFrame.\n",
            "Try using .loc[row_indexer,col_indexer] = value instead\n",
            "\n",
            "See the caveats in the documentation: https://pandas.pydata.org/pandas-docs/stable/user_guide/indexing.html#returning-a-view-versus-a-copy\n",
            "  \n"
          ]
        }
      ]
    },
    {
      "cell_type": "code",
      "metadata": {
        "id": "PX536cJfs5sI",
        "colab": {
          "base_uri": "https://localhost:8080/"
        },
        "outputId": "b6c3014a-0b2b-4006-fd94-d60d8505b28a"
      },
      "source": [
        "y_train = df_score_manual.loc[:,'default']\n",
        "X_train = df_score_manual.loc[:,df_score_manual.columns != 'default']\n",
        "\n",
        "print(X_train)\n",
        "print(y_train)"
      ],
      "execution_count": 38,
      "outputs": [
        {
          "output_type": "stream",
          "name": "stdout",
          "text": [
            "     SLIK_Kolektibilitas_WOE\n",
            "0                        0.0\n",
            "1                        0.0\n",
            "2                        0.0\n",
            "3                        0.0\n",
            "4                        0.0\n",
            "..                       ...\n",
            "986                      0.0\n",
            "987                      0.0\n",
            "988                      0.0\n",
            "989                      0.0\n",
            "990                      0.0\n",
            "\n",
            "[936 rows x 1 columns]\n",
            "0      1\n",
            "1      1\n",
            "2      1\n",
            "3      1\n",
            "4      1\n",
            "      ..\n",
            "986    0\n",
            "987    0\n",
            "988    0\n",
            "989    0\n",
            "990    0\n",
            "Name: default, Length: 936, dtype: int64\n"
          ]
        }
      ]
    },
    {
      "cell_type": "code",
      "metadata": {
        "id": "4ogRrGGQtHnd",
        "colab": {
          "base_uri": "https://localhost:8080/"
        },
        "outputId": "9640e4b3-5688-40fc-a45e-b3ae8a10b550"
      },
      "source": [
        "# Membuat scorecard dengan menggunakan algoritma logistic regression\n",
        "from sklearn.linear_model import LogisticRegression\n",
        "lr = LogisticRegression()\n",
        "lr.fit(X_train, y_train)\n",
        "\n",
        "print(lr.coef_)"
      ],
      "execution_count": 39,
      "outputs": [
        {
          "output_type": "stream",
          "name": "stdout",
          "text": [
            "[[0.]]\n"
          ]
        }
      ]
    },
    {
      "cell_type": "code",
      "metadata": {
        "id": "PJQvue7xRdXo",
        "colab": {
          "base_uri": "https://localhost:8080/"
        },
        "outputId": "5ecbf93e-67eb-4602-9aa6-1305bfe42ce1"
      },
      "source": [
        "# install scorecardpy\n",
        "!pip install -q scorecardpy\n",
        "#!pip install git+git://github.com/shichenxie/scorecardpy.git"
      ],
      "execution_count": 40,
      "outputs": [
        {
          "output_type": "stream",
          "name": "stdout",
          "text": [
            "\u001b[?25l\r\u001b[K     |██████                          | 10 kB 26.5 MB/s eta 0:00:01\r\u001b[K     |███████████▉                    | 20 kB 11.3 MB/s eta 0:00:01\r\u001b[K     |█████████████████▊              | 30 kB 9.3 MB/s eta 0:00:01\r\u001b[K     |███████████████████████▋        | 40 kB 8.6 MB/s eta 0:00:01\r\u001b[K     |█████████████████████████████▌  | 51 kB 5.0 MB/s eta 0:00:01\r\u001b[K     |████████████████████████████████| 55 kB 2.3 MB/s \n",
            "\u001b[?25h  Building wheel for scorecardpy (setup.py) ... \u001b[?25l\u001b[?25hdone\n"
          ]
        }
      ]
    },
    {
      "cell_type": "code",
      "metadata": {
        "colab": {
          "base_uri": "https://localhost:8080/"
        },
        "id": "PG7T24hIwXTy",
        "outputId": "ad3df2c6-6130-4907-8833-b7e52d2ddda8"
      },
      "source": [
        "df_clean.info()"
      ],
      "execution_count": 41,
      "outputs": [
        {
          "output_type": "stream",
          "name": "stdout",
          "text": [
            "<class 'pandas.core.frame.DataFrame'>\n",
            "Int64Index: 936 entries, 0 to 990\n",
            "Data columns (total 31 columns):\n",
            " #   Column                          Non-Null Count  Dtype   \n",
            "---  ------                          --------------  -----   \n",
            " 0   ID                              936 non-null    category\n",
            " 1   gagal_bayar                     936 non-null    category\n",
            " 2   Lama_Cicilan                    936 non-null    float64 \n",
            " 3   Tujuan_Pinjaman                 936 non-null    category\n",
            " 4   Pekerjaan                       936 non-null    category\n",
            " 5   Pendapatan_perbulan             936 non-null    category\n",
            " 6   Lama_Bekerja                    936 non-null    category\n",
            " 7   Status                          936 non-null    category\n",
            " 8   Kepemilikan_Rumah               936 non-null    category\n",
            " 9   Alamat_Rumah                    936 non-null    category\n",
            " 10  Alamat_Kantor                   936 non-null    category\n",
            " 11  Usia                            936 non-null    float64 \n",
            " 12  Lama_tinggal_ditempat_sekarang  936 non-null    category\n",
            " 13  SLIK_Kolektibilitas             936 non-null    category\n",
            " 14  SLIK_Cicilan_Bulanan            936 non-null    float64 \n",
            " 15  SLIK_Outstanding_CC             936 non-null    float64 \n",
            " 16  API_CreditScore_Vendor_A        936 non-null    int64   \n",
            " 17  API_CreditScore_Vendor_B        936 non-null    int64   \n",
            " 18  Device_Type                     936 non-null    category\n",
            " 19  Device_Apps_Installed           936 non-null    int64   \n",
            " 20  Device_Active_Since             936 non-null    category\n",
            " 21  Device_Apps_Segmentation        936 non-null    category\n",
            " 22  Mobile_Provider                 936 non-null    category\n",
            " 23  Mobile_Number_Active_Since      936 non-null    category\n",
            " 24  Email_Domain_Type               936 non-null    category\n",
            " 25  default                         936 non-null    int64   \n",
            " 26  SLIK_Kolektibilitas_Bin         936 non-null    object  \n",
            " 27  Usia_Bin                        936 non-null    object  \n",
            " 28  Usia_Bin2                       936 non-null    object  \n",
            " 29  DBR                             936 non-null    float64 \n",
            " 30  Alamat_Rumah_Kantor             936 non-null    int64   \n",
            "dtypes: category(18), float64(5), int64(5), object(3)\n",
            "memory usage: 170.5+ KB\n"
          ]
        }
      ]
    },
    {
      "cell_type": "code",
      "metadata": {
        "id": "grWQnOiATS-S",
        "colab": {
          "base_uri": "https://localhost:8080/",
          "height": 1000
        },
        "outputId": "bb15c61e-57d9-4be1-ae59-34e3235e2670"
      },
      "source": [
        "#df_score_test = df_clean[['SLIK_Kolektibilitas_Bin','default']]\n",
        "df_score_test = df_clean[['default','Tujuan_Pinjaman','Lama_Cicilan','SLIK_Kolektibilitas'\n",
        ",'Usia','API_CreditScore_Vendor_A','API_CreditScore_Vendor_B','Device_Apps_Installed'\n",
        ",'Device_Active_Since','Device_Apps_Segmentation','Mobile_Provider','Mobile_Number_Active_Since'\n",
        ",'DBR']]\n",
        "# isu SLIK_Kolektibilitas\n",
        "\n",
        "# Credit Scoring using logistic regression with library scorecardpy\n",
        "import scorecardpy as scpy\n",
        "\n",
        "# Melakukan WOE binning\n",
        "bins = scpy.woebin(df_score_test, y = 'default')\n",
        "scpy.woebin_plot(bins)"
      ],
      "execution_count": 42,
      "outputs": [
        {
          "output_type": "stream",
          "name": "stdout",
          "text": [
            "[INFO] creating woe binning ...\n"
          ]
        },
        {
          "output_type": "execute_result",
          "data": {
            "text/plain": [
              "{'API_CreditScore_Vendor_A': <Figure size 432x288 with 2 Axes>,\n",
              " 'API_CreditScore_Vendor_B': <Figure size 432x288 with 2 Axes>,\n",
              " 'DBR': <Figure size 432x288 with 2 Axes>,\n",
              " 'Device_Active_Since': <Figure size 432x288 with 2 Axes>,\n",
              " 'Device_Apps_Installed': <Figure size 432x288 with 2 Axes>,\n",
              " 'Device_Apps_Segmentation': <Figure size 432x288 with 2 Axes>,\n",
              " 'Lama_Cicilan': <Figure size 432x288 with 2 Axes>,\n",
              " 'Mobile_Number_Active_Since': <Figure size 432x288 with 2 Axes>,\n",
              " 'Mobile_Provider': <Figure size 432x288 with 2 Axes>,\n",
              " 'SLIK_Kolektibilitas': <Figure size 432x288 with 2 Axes>,\n",
              " 'Tujuan_Pinjaman': <Figure size 432x288 with 2 Axes>,\n",
              " 'Usia': <Figure size 432x288 with 2 Axes>}"
            ]
          },
          "metadata": {},
          "execution_count": 42
        },
        {
          "output_type": "display_data",
          "data": {
            "image/png": "[encoded data removed]",
            "text/plain": [
              "<Figure size 432x288 with 2 Axes>"
            ]
          },
          "metadata": {
            "needs_background": "light"
          }
        },
        {
          "output_type": "display_data",
          "data": {
            "image/png": "[encoded data removed]",
            "text/plain": [
              "<Figure size 432x288 with 2 Axes>"
            ]
          },
          "metadata": {
            "needs_background": "light"
          }
        },
        {
          "output_type": "display_data",
          "data": {
            "image/png": "[encoded data removed]",
            "text/plain": [
              "<Figure size 432x288 with 2 Axes>"
            ]
          },
          "metadata": {
            "needs_background": "light"
          }
        },
        {
          "output_type": "display_data",
          "data": {
            "image/png": "[encoded data removed]",
            "text/plain": [
              "<Figure size 432x288 with 2 Axes>"
            ]
          },
          "metadata": {
            "needs_background": "light"
          }
        },
        {
          "output_type": "display_data",
          "data": {
            "image/png": "[encoded data removed]",
            "text/plain": [
              "<Figure size 432x288 with 2 Axes>"
            ]
          },
          "metadata": {
            "needs_background": "light"
          }
        },
        {
          "output_type": "display_data",
          "data": {
            "image/png": "[encoded data removed]",
            "text/plain": [
              "<Figure size 432x288 with 2 Axes>"
            ]
          },
          "metadata": {
            "needs_background": "light"
          }
        },
        {
          "output_type": "display_data",
          "data": {
            "image/png": "[encoded data removed]",
            "text/plain": [
              "<Figure size 432x288 with 2 Axes>"
            ]
          },
          "metadata": {
            "needs_background": "light"
          }
        },
        {
          "output_type": "display_data",
          "data": {
            "image/png": "[encoded data removed]",
            "text/plain": [
              "<Figure size 432x288 with 2 Axes>"
            ]
          },
          "metadata": {
            "needs_background": "light"
          }
        },
        {
          "output_type": "display_data",
          "data": {
            "image/png": "[encoded data removed]",
            "text/plain": [
              "<Figure size 432x288 with 2 Axes>"
            ]
          },
          "metadata": {
            "needs_background": "light"
          }
        },
        {
          "output_type": "display_data",
          "data": {
            "image/png": "[encoded data removed]",
            "text/plain": [
              "<Figure size 432x288 with 2 Axes>"
            ]
          },
          "metadata": {
            "needs_background": "light"
          }
        },
        {
          "output_type": "display_data",
          "data": {
            "image/png": "[encoded data removed]",
            "text/plain": [
              "<Figure size 432x288 with 2 Axes>"
            ]
          },
          "metadata": {
            "needs_background": "light"
          }
        },
        {
          "output_type": "display_data",
          "data": {
            "image/png": "[encoded data removed]",
            "text/plain": [
              "<Figure size 432x288 with 2 Axes>"
            ]
          },
          "metadata": {
            "needs_background": "light"
          }
        }
      ]
    },
    {
      "cell_type": "code",
      "metadata": {
        "id": "l_4oFCg9T8ku",
        "colab": {
          "base_uri": "https://localhost:8080/"
        },
        "outputId": "292c3180-a503-45b5-d927-645c24da0464"
      },
      "source": [
        "# converting train and test into woe values\n",
        "#train_woe = scpy.woebin_ply(df_score_test, bins)\n",
        "# breaking dt_s menjadi training dan test dataset\n",
        "train, test = scpy.split_df(df_score_test, y='default').values()\n",
        "\n",
        "# converting train and test into woe values\n",
        "train_woe = scpy.woebin_ply(train, bins)\n",
        "test_woe = scpy.woebin_ply(test, bins)\n",
        "\n",
        "y_train = train_woe.loc[:,'default']\n",
        "X_train = train_woe.loc[:,train_woe.columns != 'default']\n",
        "y_test = test_woe.loc[:,'default']\n",
        "X_test = test_woe.loc[:,train_woe.columns != 'default']\n",
        "\n",
        "print(X_train)\n",
        "print(y_train)"
      ],
      "execution_count": 43,
      "outputs": [
        {
          "output_type": "stream",
          "name": "stdout",
          "text": [
            "[INFO] converting into woe values ...\n"
          ]
        },
        {
          "output_type": "stream",
          "name": "stderr",
          "text": [
            "/usr/local/lib/python3.7/dist-packages/pandas/core/indexing.py:1781: SettingWithCopyWarning: \n",
            "A value is trying to be set on a copy of a slice from a DataFrame.\n",
            "Try using .loc[row_indexer,col_indexer] = value instead\n",
            "\n",
            "See the caveats in the documentation: https://pandas.pydata.org/pandas-docs/stable/user_guide/indexing.html#returning-a-view-versus-a-copy\n",
            "  self.obj[item_labels[indexer[info_axis]]] = value\n"
          ]
        },
        {
          "output_type": "stream",
          "name": "stdout",
          "text": [
            "[INFO] converting into woe values ...\n",
            "     Usia_woe  ...  Device_Active_Since_woe\n",
            "0   -0.251907  ...                 0.151536\n",
            "1    0.566121  ...                 0.151536\n",
            "4    0.012071  ...                 0.151536\n",
            "5   -0.251907  ...                 0.151536\n",
            "6    0.012071  ...                 0.151536\n",
            "..        ...  ...                      ...\n",
            "983  0.012071  ...                -0.965875\n",
            "985  0.012071  ...                 0.151536\n",
            "987  0.012071  ...                -0.612370\n",
            "989 -0.251907  ...                 0.151536\n",
            "990  0.566121  ...                 0.151536\n",
            "\n",
            "[655 rows x 12 columns]\n",
            "0      1\n",
            "1      1\n",
            "4      1\n",
            "5      1\n",
            "6      1\n",
            "      ..\n",
            "983    0\n",
            "985    0\n",
            "987    0\n",
            "989    0\n",
            "990    0\n",
            "Name: default, Length: 655, dtype: int64\n"
          ]
        }
      ]
    },
    {
      "cell_type": "code",
      "metadata": {
        "id": "8fuClTgqXUzT",
        "colab": {
          "base_uri": "https://localhost:8080/"
        },
        "outputId": "cf6cfb65-818c-481b-e5f5-9ad092540c7e"
      },
      "source": [
        "# Membuat scorecard dengan menggunakan algoritma logistic regression\n",
        "from sklearn.linear_model import LogisticRegression\n",
        "lr = LogisticRegression()\n",
        "lr.fit(X_train, y_train)\n",
        "\n",
        "print(lr.coef_)"
      ],
      "execution_count": 44,
      "outputs": [
        {
          "output_type": "stream",
          "name": "stdout",
          "text": [
            "[[0.70836496 0.46638564 1.20833074 0.31382597 0.54864749 1.10510091\n",
            "  0.37529811 1.01284255 1.31066671 0.48798526 1.0680982  0.43211375]]\n"
          ]
        }
      ]
    },
    {
      "cell_type": "code",
      "metadata": {
        "id": "kaKJaG1q08UW",
        "colab": {
          "base_uri": "https://localhost:8080/",
          "height": 863
        },
        "outputId": "1ec8f594-f290-4603-b598-e2a9aae623fa"
      },
      "source": [
        "# predicted probability\n",
        "# predicted proability\n",
        "train_pred = lr.predict_proba(X_train)[:,1]\n",
        "test_pred = lr.predict_proba(X_test)[:,1]\n",
        "\n",
        "# performance ks & roc ------\n",
        "train_perf = scpy.perf_eva(y_train, train_pred, title = \"train\")\n",
        "test_perf = scpy.perf_eva(y_test, test_pred, title = \"test\")\n",
        "\n",
        "# score ------\n",
        "card = scpy.scorecard(bins, lr, X_train.columns)\n",
        "# credit score\n",
        "train_score = scpy.scorecard_ply(train, card, print_step=0)\n",
        "test_score = scpy.scorecard_ply(test, card, print_step=0)\n",
        "\n",
        "# psi\n",
        "scpy.perf_psi(\n",
        "  score = {'train':train_score, 'test':test_score},\n",
        "  label = {'train':y_train, 'test':y_test}\n",
        ")"
      ],
      "execution_count": 45,
      "outputs": [
        {
          "output_type": "display_data",
          "data": {
            "image/png": "[encoded data removed]",
            "text/plain": [
              "<Figure size 432x288 with 2 Axes>"
            ]
          },
          "metadata": {
            "needs_background": "light"
          }
        },
        {
          "output_type": "display_data",
          "data": {
            "image/png": "[encoded data removed]",
            "text/plain": [
              "<Figure size 432x288 with 2 Axes>"
            ]
          },
          "metadata": {
            "needs_background": "light"
          }
        },
        {
          "output_type": "stream",
          "name": "stderr",
          "text": [
            "/usr/local/lib/python3.7/dist-packages/pandas/core/indexing.py:1781: SettingWithCopyWarning: \n",
            "A value is trying to be set on a copy of a slice from a DataFrame.\n",
            "Try using .loc[row_indexer,col_indexer] = value instead\n",
            "\n",
            "See the caveats in the documentation: https://pandas.pydata.org/pandas-docs/stable/user_guide/indexing.html#returning-a-view-versus-a-copy\n",
            "  self.obj[item_labels[indexer[info_axis]]] = value\n"
          ]
        },
        {
          "output_type": "display_data",
          "data": {
            "image/png": "[encoded data removed]",
            "text/plain": [
              "<Figure size 432x288 with 2 Axes>"
            ]
          },
          "metadata": {
            "needs_background": "light"
          }
        },
        {
          "output_type": "execute_result",
          "data": {
            "text/plain": [
              "{'pic': {'score': <Figure size 432x288 with 2 Axes>},\n",
              " 'psi':   variable       PSI\n",
              " 0    score  0.070522}"
            ]
          },
          "metadata": {},
          "execution_count": 45
        }
      ]
    },
    {
      "cell_type": "code",
      "metadata": {
        "id": "5ZeZoNpZXaVr",
        "colab": {
          "base_uri": "https://localhost:8080/",
          "height": 572
        },
        "outputId": "5405d601-7709-4e39-b493-2de86093bfde"
      },
      "source": [
        "# For those that want to know the statistic modeling\n",
        "import numpy as np\n",
        "import statsmodels.api as sm\n",
        "\n",
        "model = sm.Logit(y_train, X_train.astype(float))\n",
        "result = model.fit()\n",
        "\n",
        "result.summary()"
      ],
      "execution_count": 46,
      "outputs": [
        {
          "output_type": "stream",
          "name": "stderr",
          "text": [
            "/usr/local/lib/python3.7/dist-packages/statsmodels/tools/_testing.py:19: FutureWarning: pandas.util.testing is deprecated. Use the functions in the public API at pandas.testing instead.\n",
            "  import pandas.util.testing as tm\n"
          ]
        },
        {
          "output_type": "stream",
          "name": "stdout",
          "text": [
            "Optimization terminated successfully.\n",
            "         Current function value: 0.464012\n",
            "         Iterations 7\n"
          ]
        },
        {
          "output_type": "execute_result",
          "data": {
            "text/html": [
              "<table class=\"simpletable\">\n",
              "<caption>Logit Regression Results</caption>\n",
              "<tr>\n",
              "  <th>Dep. Variable:</th>        <td>default</td>     <th>  No. Observations:  </th>  <td>   655</td>  \n",
              "</tr>\n",
              "<tr>\n",
              "  <th>Model:</th>                 <td>Logit</td>      <th>  Df Residuals:      </th>  <td>   643</td>  \n",
              "</tr>\n",
              "<tr>\n",
              "  <th>Method:</th>                 <td>MLE</td>       <th>  Df Model:          </th>  <td>    11</td>  \n",
              "</tr>\n",
              "<tr>\n",
              "  <th>Date:</th>            <td>Sat, 25 Sep 2021</td> <th>  Pseudo R-squ.:     </th>  <td>0.2363</td>  \n",
              "</tr>\n",
              "<tr>\n",
              "  <th>Time:</th>                <td>05:16:24</td>     <th>  Log-Likelihood:    </th> <td> -303.93</td> \n",
              "</tr>\n",
              "<tr>\n",
              "  <th>converged:</th>             <td>True</td>       <th>  LL-Null:           </th> <td> -397.98</td> \n",
              "</tr>\n",
              "<tr>\n",
              "  <th>Covariance Type:</th>     <td>nonrobust</td>    <th>  LLR p-value:       </th> <td>2.179e-34</td>\n",
              "</tr>\n",
              "</table>\n",
              "<table class=\"simpletable\">\n",
              "<tr>\n",
              "                 <td></td>                   <th>coef</th>     <th>std err</th>      <th>z</th>      <th>P>|z|</th>  <th>[0.025</th>    <th>0.975]</th>  \n",
              "</tr>\n",
              "<tr>\n",
              "  <th>Usia_woe</th>                       <td>    0.5876</td> <td>    0.267</td> <td>    2.204</td> <td> 0.027</td> <td>    0.065</td> <td>    1.110</td>\n",
              "</tr>\n",
              "<tr>\n",
              "  <th>Device_Apps_Segmentation_woe</th>   <td>    0.6938</td> <td>    0.315</td> <td>    2.204</td> <td> 0.027</td> <td>    0.077</td> <td>    1.311</td>\n",
              "</tr>\n",
              "<tr>\n",
              "  <th>SLIK_Kolektibilitas_woe</th>        <td>    1.2442</td> <td>    0.192</td> <td>    6.497</td> <td> 0.000</td> <td>    0.869</td> <td>    1.620</td>\n",
              "</tr>\n",
              "<tr>\n",
              "  <th>Lama_Cicilan_woe</th>               <td>    0.2670</td> <td>    0.356</td> <td>    0.750</td> <td> 0.453</td> <td>   -0.431</td> <td>    0.965</td>\n",
              "</tr>\n",
              "<tr>\n",
              "  <th>Mobile_Provider_woe</th>            <td>    0.4983</td> <td>    0.280</td> <td>    1.779</td> <td> 0.075</td> <td>   -0.051</td> <td>    1.047</td>\n",
              "</tr>\n",
              "<tr>\n",
              "  <th>DBR_woe</th>                        <td>    1.2529</td> <td>    0.171</td> <td>    7.328</td> <td> 0.000</td> <td>    0.918</td> <td>    1.588</td>\n",
              "</tr>\n",
              "<tr>\n",
              "  <th>API_CreditScore_Vendor_A_woe</th>   <td>    0.5299</td> <td>    0.257</td> <td>    2.059</td> <td> 0.039</td> <td>    0.025</td> <td>    1.034</td>\n",
              "</tr>\n",
              "<tr>\n",
              "  <th>API_CreditScore_Vendor_B_woe</th>   <td>    0.7507</td> <td>    0.145</td> <td>    5.193</td> <td> 0.000</td> <td>    0.467</td> <td>    1.034</td>\n",
              "</tr>\n",
              "<tr>\n",
              "  <th>Tujuan_Pinjaman_woe</th>            <td>    1.3628</td> <td>    0.250</td> <td>    5.448</td> <td> 0.000</td> <td>    0.873</td> <td>    1.853</td>\n",
              "</tr>\n",
              "<tr>\n",
              "  <th>Mobile_Number_Active_Since_woe</th> <td>    0.4903</td> <td>    0.261</td> <td>    1.878</td> <td> 0.060</td> <td>   -0.021</td> <td>    1.002</td>\n",
              "</tr>\n",
              "<tr>\n",
              "  <th>Device_Apps_Installed_woe</th>      <td>    1.0418</td> <td>    0.266</td> <td>    3.915</td> <td> 0.000</td> <td>    0.520</td> <td>    1.563</td>\n",
              "</tr>\n",
              "<tr>\n",
              "  <th>Device_Active_Since_woe</th>        <td>    0.4854</td> <td>    0.345</td> <td>    1.406</td> <td> 0.160</td> <td>   -0.191</td> <td>    1.162</td>\n",
              "</tr>\n",
              "</table>"
            ],
            "text/plain": [
              "<class 'statsmodels.iolib.summary.Summary'>\n",
              "\"\"\"\n",
              "                           Logit Regression Results                           \n",
              "==============================================================================\n",
              "Dep. Variable:                default   No. Observations:                  655\n",
              "Model:                          Logit   Df Residuals:                      643\n",
              "Method:                           MLE   Df Model:                           11\n",
              "Date:                Sat, 25 Sep 2021   Pseudo R-squ.:                  0.2363\n",
              "Time:                        05:16:24   Log-Likelihood:                -303.93\n",
              "converged:                       True   LL-Null:                       -397.98\n",
              "Covariance Type:            nonrobust   LLR p-value:                 2.179e-34\n",
              "==================================================================================================\n",
              "                                     coef    std err          z      P>|z|      [0.025      0.975]\n",
              "--------------------------------------------------------------------------------------------------\n",
              "Usia_woe                           0.5876      0.267      2.204      0.027       0.065       1.110\n",
              "Device_Apps_Segmentation_woe       0.6938      0.315      2.204      0.027       0.077       1.311\n",
              "SLIK_Kolektibilitas_woe            1.2442      0.192      6.497      0.000       0.869       1.620\n",
              "Lama_Cicilan_woe                   0.2670      0.356      0.750      0.453      -0.431       0.965\n",
              "Mobile_Provider_woe                0.4983      0.280      1.779      0.075      -0.051       1.047\n",
              "DBR_woe                            1.2529      0.171      7.328      0.000       0.918       1.588\n",
              "API_CreditScore_Vendor_A_woe       0.5299      0.257      2.059      0.039       0.025       1.034\n",
              "API_CreditScore_Vendor_B_woe       0.7507      0.145      5.193      0.000       0.467       1.034\n",
              "Tujuan_Pinjaman_woe                1.3628      0.250      5.448      0.000       0.873       1.853\n",
              "Mobile_Number_Active_Since_woe     0.4903      0.261      1.878      0.060      -0.021       1.002\n",
              "Device_Apps_Installed_woe          1.0418      0.266      3.915      0.000       0.520       1.563\n",
              "Device_Active_Since_woe            0.4854      0.345      1.406      0.160      -0.191       1.162\n",
              "==================================================================================================\n",
              "\"\"\""
            ]
          },
          "metadata": {},
          "execution_count": 46
        }
      ]
    }
  ]
}