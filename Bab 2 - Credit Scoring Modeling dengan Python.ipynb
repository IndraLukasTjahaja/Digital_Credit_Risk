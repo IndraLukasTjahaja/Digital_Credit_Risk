{
  "nbformat": 4,
  "nbformat_minor": 0,
  "metadata": {
    "colab": {
      "name": "Bab 2 - Credit Scoring Modeling dengan Python.ipynb",
      "provenance": [],
      "authorship_tag": "ABX9TyO9ChloPXK6c4kqM9Zu3FTn",
      "include_colab_link": true
    },
    "kernelspec": {
      "name": "python3",
      "display_name": "Python 3"
    },
    "language_info": {
      "name": "python"
    }
  },
  "cells": [
    {
      "cell_type": "markdown",
      "metadata": {
        "id": "view-in-github",
        "colab_type": "text"
      },
      "source": [
        "<a href=\"https://colab.research.google.com/github/IndraLukasTjahaja/Digital_Credit_Risk/blob/main/Bab%202%20-%20Credit%20Scoring%20Modeling%20dengan%20Python.ipynb\" target=\"_parent\"><img src=\"https://colab.research.google.com/assets/colab-badge.svg\" alt=\"Open In Colab\"/></a>"
      ]
    },
    {
      "cell_type": "markdown",
      "metadata": {
        "id": "cY2cb6kM055R"
      },
      "source": [
        "# Persiapan"
      ]
    },
    {
      "cell_type": "code",
      "metadata": {
        "id": "GlebNLne06za",
        "colab": {
          "base_uri": "https://localhost:8080/"
        },
        "outputId": "778ce498-005b-44eb-c1e4-2382fd8acfec"
      },
      "source": [
        "# Memperbarui Library\n",
        "!pip install scikit-learn --upgrade\n",
        "\n",
        "import sklearn as skl\n",
        "print(skl. __version__) \n",
        "\n",
        "# Lalu restart ulang runtime nya"
      ],
      "execution_count": 79,
      "outputs": [
        {
          "output_type": "stream",
          "name": "stdout",
          "text": [
            "Requirement already satisfied: scikit-learn in /usr/local/lib/python3.7/dist-packages (1.0.1)\n",
            "Requirement already satisfied: joblib>=0.11 in /usr/local/lib/python3.7/dist-packages (from scikit-learn) (1.0.1)\n",
            "Requirement already satisfied: scipy>=1.1.0 in /usr/local/lib/python3.7/dist-packages (from scikit-learn) (1.4.1)\n",
            "Requirement already satisfied: numpy>=1.14.6 in /usr/local/lib/python3.7/dist-packages (from scikit-learn) (1.19.5)\n",
            "Requirement already satisfied: threadpoolctl>=2.0.0 in /usr/local/lib/python3.7/dist-packages (from scikit-learn) (3.0.0)\n",
            "1.0.1\n"
          ]
        }
      ]
    },
    {
      "cell_type": "markdown",
      "metadata": {
        "id": "EDZ9tBVB9ziI"
      },
      "source": [
        "# Membaca Data"
      ]
    },
    {
      "cell_type": "markdown",
      "metadata": {
        "id": "63e2vWzFg-h7"
      },
      "source": [
        "## 2.3.2.1 Persiapan data dan impor ke Python\n",
        "\n",
        "Impor data yang akan digunakan untuk membuat model"
      ]
    },
    {
      "cell_type": "code",
      "metadata": {
        "id": "X4yjdoBnl9Xv"
      },
      "source": [
        "# library panda untuk menggunakan data frame\n",
        "import pandas as pd\n",
        "\n",
        "# Impor data dari excel xls ke Python\n",
        "# Pembaca dapat langsung menunjuk kepada file excel yang terletak di website pendamping buku ini\n",
        "# atau mengunduh terlebih dahulu dan menunjuk ke file excel di lokasi hard drive\n",
        "# contoh: df = pd.read_excel('C:\\User\\pembaca\\downloads\\Credit_Scoring_Dataset.xlsx')\n",
        "\n",
        "df = pd.read_excel('https://github.com/IndraLukasTjahaja/Digital_Credit_Risk/raw/main/Credit_Scoring_Dataset.xlsx')"
      ],
      "execution_count": 80,
      "outputs": []
    },
    {
      "cell_type": "markdown",
      "metadata": {
        "id": "V3eszqe1fhP_"
      },
      "source": [
        "## # 2.3.2.3 Struktur data"
      ]
    },
    {
      "cell_type": "code",
      "metadata": {
        "colab": {
          "base_uri": "https://localhost:8080/",
          "height": 498
        },
        "id": "xDekPk8lmZ3N",
        "outputId": "9308086d-75f7-4a13-ea86-842a2c5b43e1"
      },
      "source": [
        "# Melihat sample dari dataset\n",
        "df.head(10) # Menampilkan 10 baris teratas dari dataframe df"
      ],
      "execution_count": 81,
      "outputs": [
        {
          "output_type": "execute_result",
          "data": {
            "text/html": [
              "<div>\n",
              "<style scoped>\n",
              "    .dataframe tbody tr th:only-of-type {\n",
              "        vertical-align: middle;\n",
              "    }\n",
              "\n",
              "    .dataframe tbody tr th {\n",
              "        vertical-align: top;\n",
              "    }\n",
              "\n",
              "    .dataframe thead th {\n",
              "        text-align: right;\n",
              "    }\n",
              "</style>\n",
              "<table border=\"1\" class=\"dataframe\">\n",
              "  <thead>\n",
              "    <tr style=\"text-align: right;\">\n",
              "      <th></th>\n",
              "      <th>ID</th>\n",
              "      <th>gagal_bayar</th>\n",
              "      <th>Lama_Cicilan</th>\n",
              "      <th>Tujuan_Pinjaman</th>\n",
              "      <th>Jumlah_Pinjaman</th>\n",
              "      <th>Pekerjaan</th>\n",
              "      <th>Pendapatan_perbulan</th>\n",
              "      <th>Lama_Bekerja</th>\n",
              "      <th>Status</th>\n",
              "      <th>Kepemilikan_Rumah</th>\n",
              "      <th>Alamat_Rumah</th>\n",
              "      <th>Alamat_Kantor</th>\n",
              "      <th>Usia</th>\n",
              "      <th>Lama_tinggal_ditempat_sekarang</th>\n",
              "      <th>SLIK_Kolektibilitas</th>\n",
              "      <th>SLIK_Cicilan_Bulanan</th>\n",
              "      <th>SLIK_Outstanding_CC</th>\n",
              "      <th>API_CreditScore_Vendor_A</th>\n",
              "      <th>API_CreditScore_Vendor_B</th>\n",
              "      <th>Device_Type</th>\n",
              "      <th>Device_Apps_Installed</th>\n",
              "      <th>Device_Active_Since</th>\n",
              "      <th>Device_Apps_Segmentation</th>\n",
              "      <th>Mobile_Provider</th>\n",
              "      <th>Mobile_Number_Active_Since</th>\n",
              "      <th>Email_Domain_Type</th>\n",
              "    </tr>\n",
              "  </thead>\n",
              "  <tbody>\n",
              "    <tr>\n",
              "      <th>0</th>\n",
              "      <td>ABC0001</td>\n",
              "      <td>0_Bayar</td>\n",
              "      <td>1</td>\n",
              "      <td>elektronik</td>\n",
              "      <td>500000</td>\n",
              "      <td>1_pegawai_tetap</td>\n",
              "      <td>5. &gt;20 juta</td>\n",
              "      <td>5_&gt;7_tahun_kerja</td>\n",
              "      <td>2_menikah</td>\n",
              "      <td>1_milik_sendiri</td>\n",
              "      <td>Daerah_3</td>\n",
              "      <td>Daerah_3</td>\n",
              "      <td>67.0</td>\n",
              "      <td>4_&gt;10_tahun</td>\n",
              "      <td>Kolek 1</td>\n",
              "      <td>859684.752267</td>\n",
              "      <td>0.000000e+00</td>\n",
              "      <td>305</td>\n",
              "      <td>192</td>\n",
              "      <td>Android</td>\n",
              "      <td>6</td>\n",
              "      <td>2_1_ke_3_tahun</td>\n",
              "      <td>Social_Media</td>\n",
              "      <td>Telco_A</td>\n",
              "      <td>1_Kurang_1_bulan</td>\n",
              "      <td>Public_Domain</td>\n",
              "    </tr>\n",
              "    <tr>\n",
              "      <th>1</th>\n",
              "      <td>ABC0002</td>\n",
              "      <td>1_Gagal</td>\n",
              "      <td>1</td>\n",
              "      <td>peralatan_rumahtangga</td>\n",
              "      <td>2000000</td>\n",
              "      <td>1_pegawai_tetap</td>\n",
              "      <td>1. &lt; 1 juta</td>\n",
              "      <td>3_1-4_tahun_kerja</td>\n",
              "      <td>1_belum_menikah</td>\n",
              "      <td>1_milik_sendiri</td>\n",
              "      <td>Daerah_2</td>\n",
              "      <td>Daerah_2</td>\n",
              "      <td>22.0</td>\n",
              "      <td>2_1-5_tahun</td>\n",
              "      <td>Kolek 3</td>\n",
              "      <td>743722.804144</td>\n",
              "      <td>1.301412e+06</td>\n",
              "      <td>252</td>\n",
              "      <td>86</td>\n",
              "      <td>IOS</td>\n",
              "      <td>9</td>\n",
              "      <td>3_Lebih_3_tahun</td>\n",
              "      <td>Games</td>\n",
              "      <td>Telco_A</td>\n",
              "      <td>1_Kurang_1_bulan</td>\n",
              "      <td>Public_Domain</td>\n",
              "    </tr>\n",
              "    <tr>\n",
              "      <th>2</th>\n",
              "      <td>ABC0003</td>\n",
              "      <td>0_Bayar</td>\n",
              "      <td>3</td>\n",
              "      <td>makanan</td>\n",
              "      <td>1000000</td>\n",
              "      <td>3_wiraswasta</td>\n",
              "      <td>1. &lt; 1 juta</td>\n",
              "      <td>4_4-7_tahun_kerja</td>\n",
              "      <td>2_menikah</td>\n",
              "      <td>1_milik_sendiri</td>\n",
              "      <td>Daerah_2</td>\n",
              "      <td>Daerah_1</td>\n",
              "      <td>49.0</td>\n",
              "      <td>3_5-10_tahun</td>\n",
              "      <td>Kolek 1</td>\n",
              "      <td>265387.462890</td>\n",
              "      <td>0.000000e+00</td>\n",
              "      <td>858</td>\n",
              "      <td>97</td>\n",
              "      <td>Android</td>\n",
              "      <td>36</td>\n",
              "      <td>3_Lebih_3_tahun</td>\n",
              "      <td>Games</td>\n",
              "      <td>Telco_A</td>\n",
              "      <td>2_Kurang_1_tahun</td>\n",
              "      <td>Public_Domain</td>\n",
              "    </tr>\n",
              "    <tr>\n",
              "      <th>3</th>\n",
              "      <td>ABC0004</td>\n",
              "      <td>0_Bayar</td>\n",
              "      <td>6</td>\n",
              "      <td>liburan</td>\n",
              "      <td>2000000</td>\n",
              "      <td>1_pegawai_tetap</td>\n",
              "      <td>1. &lt; 1 juta</td>\n",
              "      <td>4_4-7_tahun_kerja</td>\n",
              "      <td>2_menikah</td>\n",
              "      <td>3_bersama_keluarga</td>\n",
              "      <td>Daerah_1</td>\n",
              "      <td>Daerah_1</td>\n",
              "      <td>45.0</td>\n",
              "      <td>4_&gt;10_tahun</td>\n",
              "      <td>Kolek 3</td>\n",
              "      <td>443234.967513</td>\n",
              "      <td>8.094420e+05</td>\n",
              "      <td>108</td>\n",
              "      <td>159</td>\n",
              "      <td>Android</td>\n",
              "      <td>14</td>\n",
              "      <td>3_Lebih_3_tahun</td>\n",
              "      <td>Online_Lending</td>\n",
              "      <td>Telco_E</td>\n",
              "      <td>2_Kurang_1_tahun</td>\n",
              "      <td>Professional_Domain</td>\n",
              "    </tr>\n",
              "    <tr>\n",
              "      <th>4</th>\n",
              "      <td>ABC0005</td>\n",
              "      <td>1_Gagal</td>\n",
              "      <td>4</td>\n",
              "      <td>pendidikan</td>\n",
              "      <td>1000000</td>\n",
              "      <td>1_pegawai_tetap</td>\n",
              "      <td>1. &lt; 1 juta</td>\n",
              "      <td>3_1-4_tahun_kerja</td>\n",
              "      <td>2_menikah</td>\n",
              "      <td>3_bersama_keluarga</td>\n",
              "      <td>Daerah_3</td>\n",
              "      <td>Daerah_3</td>\n",
              "      <td>53.0</td>\n",
              "      <td>4_&gt;10_tahun</td>\n",
              "      <td>Kolek 2</td>\n",
              "      <td>102046.058576</td>\n",
              "      <td>7.548064e+05</td>\n",
              "      <td>487</td>\n",
              "      <td>63</td>\n",
              "      <td>Android</td>\n",
              "      <td>10</td>\n",
              "      <td>3_Lebih_3_tahun</td>\n",
              "      <td>Shopping</td>\n",
              "      <td>Telco_D</td>\n",
              "      <td>1_Kurang_1_bulan</td>\n",
              "      <td>Public_Domain</td>\n",
              "    </tr>\n",
              "    <tr>\n",
              "      <th>5</th>\n",
              "      <td>ABC0006</td>\n",
              "      <td>0_Bayar</td>\n",
              "      <td>5</td>\n",
              "      <td>makanan</td>\n",
              "      <td>500000</td>\n",
              "      <td>3_wiraswasta</td>\n",
              "      <td>5. &gt;20 juta</td>\n",
              "      <td>3_1-4_tahun_kerja</td>\n",
              "      <td>2_menikah</td>\n",
              "      <td>3_bersama_keluarga</td>\n",
              "      <td>Daerah_1</td>\n",
              "      <td>Daerah_2</td>\n",
              "      <td>35.0</td>\n",
              "      <td>4_&gt;10_tahun</td>\n",
              "      <td>Kolek 3</td>\n",
              "      <td>480608.200003</td>\n",
              "      <td>3.222612e+06</td>\n",
              "      <td>595</td>\n",
              "      <td>200</td>\n",
              "      <td>Android</td>\n",
              "      <td>5</td>\n",
              "      <td>3_Lebih_3_tahun</td>\n",
              "      <td>Social_Media</td>\n",
              "      <td>Telco_A</td>\n",
              "      <td>2_Kurang_1_tahun</td>\n",
              "      <td>Public_Domain</td>\n",
              "    </tr>\n",
              "    <tr>\n",
              "      <th>6</th>\n",
              "      <td>ABC0007</td>\n",
              "      <td>0_Bayar</td>\n",
              "      <td>1</td>\n",
              "      <td>liburan</td>\n",
              "      <td>500000</td>\n",
              "      <td>1_pegawai_tetap</td>\n",
              "      <td>3. 5 - 10 juta</td>\n",
              "      <td>5_&gt;7_tahun_kerja</td>\n",
              "      <td>2_menikah</td>\n",
              "      <td>1_milik_sendiri</td>\n",
              "      <td>Daerah_2</td>\n",
              "      <td>Daerah_3</td>\n",
              "      <td>53.0</td>\n",
              "      <td>4_&gt;10_tahun</td>\n",
              "      <td>Kolek 3</td>\n",
              "      <td>133535.433266</td>\n",
              "      <td>4.303138e+05</td>\n",
              "      <td>334</td>\n",
              "      <td>172</td>\n",
              "      <td>Android</td>\n",
              "      <td>37</td>\n",
              "      <td>3_Lebih_3_tahun</td>\n",
              "      <td>Productivity</td>\n",
              "      <td>Telco_C</td>\n",
              "      <td>5_Lebih_5_tahun</td>\n",
              "      <td>Public_Domain</td>\n",
              "    </tr>\n",
              "    <tr>\n",
              "      <th>7</th>\n",
              "      <td>ABC0008</td>\n",
              "      <td>0_Bayar</td>\n",
              "      <td>5</td>\n",
              "      <td>buka_bisnis</td>\n",
              "      <td>500000</td>\n",
              "      <td>4_tidak_bekerja</td>\n",
              "      <td>1. &lt; 1 juta</td>\n",
              "      <td>3_1-4_tahun_kerja</td>\n",
              "      <td>2_menikah</td>\n",
              "      <td>2_sewa</td>\n",
              "      <td>Daerah_1</td>\n",
              "      <td>Daerah_1</td>\n",
              "      <td>35.0</td>\n",
              "      <td>2_1-5_tahun</td>\n",
              "      <td>Kolek 3</td>\n",
              "      <td>384367.579947</td>\n",
              "      <td>5.326622e+04</td>\n",
              "      <td>107</td>\n",
              "      <td>186</td>\n",
              "      <td>Android</td>\n",
              "      <td>35</td>\n",
              "      <td>3_Lebih_3_tahun</td>\n",
              "      <td>Productivity</td>\n",
              "      <td>Telco_E</td>\n",
              "      <td>5_Lebih_5_tahun</td>\n",
              "      <td>Public_Domain</td>\n",
              "    </tr>\n",
              "    <tr>\n",
              "      <th>8</th>\n",
              "      <td>ABC0009</td>\n",
              "      <td>0_Bayar</td>\n",
              "      <td>1</td>\n",
              "      <td>peralatan_rumahtangga</td>\n",
              "      <td>500000</td>\n",
              "      <td>3_wiraswasta</td>\n",
              "      <td>4. 10 - 20 juta</td>\n",
              "      <td>4_4-7_tahun_kerja</td>\n",
              "      <td>3_bercerai</td>\n",
              "      <td>1_milik_sendiri</td>\n",
              "      <td>Daerah_2</td>\n",
              "      <td>Daerah_1</td>\n",
              "      <td>61.0</td>\n",
              "      <td>4_&gt;10_tahun</td>\n",
              "      <td>Kolek 3</td>\n",
              "      <td>527874.467181</td>\n",
              "      <td>1.954899e+06</td>\n",
              "      <td>45</td>\n",
              "      <td>235</td>\n",
              "      <td>IOS</td>\n",
              "      <td>17</td>\n",
              "      <td>2_1_ke_3_tahun</td>\n",
              "      <td>Social_Media</td>\n",
              "      <td>Telco_A</td>\n",
              "      <td>3_1_ke_2_tahun</td>\n",
              "      <td>Public_Domain</td>\n",
              "    </tr>\n",
              "    <tr>\n",
              "      <th>9</th>\n",
              "      <td>ABC0010</td>\n",
              "      <td>1_Gagal</td>\n",
              "      <td>3</td>\n",
              "      <td>liburan</td>\n",
              "      <td>500000</td>\n",
              "      <td>4_tidak_bekerja</td>\n",
              "      <td>1. &lt; 1 juta</td>\n",
              "      <td>1_tidak_bekerja</td>\n",
              "      <td>3_bercerai</td>\n",
              "      <td>1_milik_sendiri</td>\n",
              "      <td>Daerah_2</td>\n",
              "      <td>Daerah_2</td>\n",
              "      <td>28.0</td>\n",
              "      <td>2_1-5_tahun</td>\n",
              "      <td>Kolek 1</td>\n",
              "      <td>226586.344920</td>\n",
              "      <td>0.000000e+00</td>\n",
              "      <td>254</td>\n",
              "      <td>285</td>\n",
              "      <td>Android</td>\n",
              "      <td>17</td>\n",
              "      <td>2_1_ke_3_tahun</td>\n",
              "      <td>Social_Media</td>\n",
              "      <td>Telco_C</td>\n",
              "      <td>1_Kurang_1_bulan</td>\n",
              "      <td>Public_Domain</td>\n",
              "    </tr>\n",
              "  </tbody>\n",
              "</table>\n",
              "</div>"
            ],
            "text/plain": [
              "        ID gagal_bayar  ...  Mobile_Number_Active_Since    Email_Domain_Type\n",
              "0  ABC0001     0_Bayar  ...            1_Kurang_1_bulan        Public_Domain\n",
              "1  ABC0002     1_Gagal  ...            1_Kurang_1_bulan        Public_Domain\n",
              "2  ABC0003     0_Bayar  ...            2_Kurang_1_tahun        Public_Domain\n",
              "3  ABC0004     0_Bayar  ...            2_Kurang_1_tahun  Professional_Domain\n",
              "4  ABC0005     1_Gagal  ...            1_Kurang_1_bulan        Public_Domain\n",
              "5  ABC0006     0_Bayar  ...            2_Kurang_1_tahun        Public_Domain\n",
              "6  ABC0007     0_Bayar  ...             5_Lebih_5_tahun        Public_Domain\n",
              "7  ABC0008     0_Bayar  ...             5_Lebih_5_tahun        Public_Domain\n",
              "8  ABC0009     0_Bayar  ...              3_1_ke_2_tahun        Public_Domain\n",
              "9  ABC0010     1_Gagal  ...            1_Kurang_1_bulan        Public_Domain\n",
              "\n",
              "[10 rows x 26 columns]"
            ]
          },
          "metadata": {},
          "execution_count": 81
        }
      ]
    },
    {
      "cell_type": "code",
      "metadata": {
        "colab": {
          "base_uri": "https://localhost:8080/"
        },
        "id": "GrGQd7ePjIka",
        "outputId": "7661d825-8107-42e6-8b26-fc6f53d2f7c9"
      },
      "source": [
        "# Melihat penjelasan singkat dan tipe data\n",
        "df.info()"
      ],
      "execution_count": 82,
      "outputs": [
        {
          "output_type": "stream",
          "name": "stdout",
          "text": [
            "<class 'pandas.core.frame.DataFrame'>\n",
            "RangeIndex: 1000 entries, 0 to 999\n",
            "Data columns (total 26 columns):\n",
            " #   Column                          Non-Null Count  Dtype  \n",
            "---  ------                          --------------  -----  \n",
            " 0   ID                              1000 non-null   object \n",
            " 1   gagal_bayar                     1000 non-null   object \n",
            " 2   Lama_Cicilan                    1000 non-null   int64  \n",
            " 3   Tujuan_Pinjaman                 1000 non-null   object \n",
            " 4   Jumlah_Pinjaman                 1000 non-null   int64  \n",
            " 5   Pekerjaan                       988 non-null    object \n",
            " 6   Pendapatan_perbulan             990 non-null    object \n",
            " 7   Lama_Bekerja                    973 non-null    object \n",
            " 8   Status                          996 non-null    object \n",
            " 9   Kepemilikan_Rumah               997 non-null    object \n",
            " 10  Alamat_Rumah                    1000 non-null   object \n",
            " 11  Alamat_Kantor                   1000 non-null   object \n",
            " 12  Usia                            999 non-null    float64\n",
            " 13  Lama_tinggal_ditempat_sekarang  998 non-null    object \n",
            " 14  SLIK_Kolektibilitas             1000 non-null   object \n",
            " 15  SLIK_Cicilan_Bulanan            1000 non-null   float64\n",
            " 16  SLIK_Outstanding_CC             1000 non-null   float64\n",
            " 17  API_CreditScore_Vendor_A        1000 non-null   int64  \n",
            " 18  API_CreditScore_Vendor_B        1000 non-null   int64  \n",
            " 19  Device_Type                     1000 non-null   object \n",
            " 20  Device_Apps_Installed           1000 non-null   int64  \n",
            " 21  Device_Active_Since             1000 non-null   object \n",
            " 22  Device_Apps_Segmentation        1000 non-null   object \n",
            " 23  Mobile_Provider                 1000 non-null   object \n",
            " 24  Mobile_Number_Active_Since      1000 non-null   object \n",
            " 25  Email_Domain_Type               1000 non-null   object \n",
            "dtypes: float64(3), int64(5), object(18)\n",
            "memory usage: 203.2+ KB\n"
          ]
        }
      ]
    },
    {
      "cell_type": "markdown",
      "metadata": {
        "id": "FRguzJvHfmVF"
      },
      "source": [
        "## # 2.3.2.4 Tipe data"
      ]
    },
    {
      "cell_type": "code",
      "metadata": {
        "id": "Mf2Ht_6cmehV"
      },
      "source": [
        "# Merubah tipe data menjadi tipe karakter kategori\n",
        "df['ID'] = df.ID.astype('category')\n",
        "df['gagal_bayar'] = df.gagal_bayar.astype('category')\n",
        "df['Pekerjaan'] = df.Pekerjaan.astype('category')\n",
        "df['Tujuan_Pinjaman'] = df.Tujuan_Pinjaman.astype('category')\n",
        "df['Pendapatan_perbulan'] = df.Pendapatan_perbulan.astype('category')\n",
        "df['Lama_Bekerja'] = df.Lama_Bekerja.astype('category')\n",
        "df['Status'] = df.Status.astype('category')\n",
        "df['Kepemilikan_Rumah'] = df.Kepemilikan_Rumah.astype('category')\n",
        "df['Alamat_Rumah'] = df.Alamat_Rumah.astype('category')\n",
        "df['Alamat_Kantor'] = df.Alamat_Kantor.astype('category')\n",
        "df['Lama_tinggal_ditempat_sekarang'] = df.Lama_tinggal_ditempat_sekarang.astype('category')\n",
        "df['Device_Type'] = df.Device_Type.astype('category')\n",
        "df['Device_Active_Since'] = df.Device_Active_Since.astype('category')\n",
        "df['SLIK_Kolektibilitas'] = df.SLIK_Kolektibilitas.astype('category')\n",
        "df['Device_Apps_Segmentation'] = df.Device_Apps_Segmentation.astype('category')\n",
        "df['Mobile_Provider'] = df.Mobile_Provider.astype('category')\n",
        "df['Mobile_Number_Active_Since'] = df.Mobile_Number_Active_Since.astype('category')\n",
        "df['Email_Domain_Type'] = df.Email_Domain_Type.astype('category')\n",
        "\n",
        "# Merubah tipe data menjadi tipe karakter int64\n",
        "# Gunakan intger untuk angka bulat\n",
        "df['API_CreditScore_Vendor_A'] = df.API_CreditScore_Vendor_A.astype('int64')\n",
        "df['API_CreditScore_Vendor_B'] = df.API_CreditScore_Vendor_B.astype('int64')\n",
        "df['Device_Apps_Installed'] = df.Device_Apps_Installed.astype('int64')\n",
        "\n",
        "# Merubah tipe data menjadi tipe karakter float64\n",
        "# Gunakan intger untuk angka dengan koma\n",
        "# Jika dalam kolom tersebut terdapat null, maka harus di simpan dalam tipe float\n",
        "df['Lama_Cicilan'] = df.Lama_Cicilan.astype('float64')\n",
        "df['Usia'] = df.Usia.astype('float64')\n",
        "df['Jumlah_Pinjaman'] = df.Jumlah_Pinjaman.astype('float64')\n",
        "df['SLIK_Cicilan_Bulanan'] = df.SLIK_Cicilan_Bulanan.astype('float64')\n",
        "df['SLIK_Outstanding_CC'] = df.SLIK_Outstanding_CC.astype('float64')"
      ],
      "execution_count": 83,
      "outputs": []
    },
    {
      "cell_type": "markdown",
      "metadata": {
        "id": "TUopkF91gkJh"
      },
      "source": [
        "## 2.3.2.5.3 Mengidentifikasi outlier dan validitas data"
      ]
    },
    {
      "cell_type": "code",
      "metadata": {
        "colab": {
          "base_uri": "https://localhost:8080/",
          "height": 283
        },
        "id": "WUD8I46sekc6",
        "outputId": "46054bb6-67ed-433c-9988-eb135199974a"
      },
      "source": [
        "df.boxplot(column=['Usia'])"
      ],
      "execution_count": 84,
      "outputs": [
        {
          "output_type": "execute_result",
          "data": {
            "text/plain": [
              "<matplotlib.axes._subplots.AxesSubplot at 0x7f751adca190>"
            ]
          },
          "metadata": {},
          "execution_count": 84
        },
        {
          "output_type": "display_data",
          "data": {
            "image/png": "[encoded data removed]",
            "text/plain": [
              "<Figure size 432x288 with 1 Axes>"
            ]
          },
          "metadata": {
            "needs_background": "light"
          }
        }
      ]
    },
    {
      "cell_type": "markdown",
      "metadata": {
        "id": "i3Kjx2z1gr7D"
      },
      "source": [
        "## Latihan membuat Box Plot"
      ]
    },
    {
      "cell_type": "code",
      "metadata": {
        "id": "wGUM9qPO8SIv"
      },
      "source": [
        "# Latihan untuk boxplot variabel SLIK_Cicilan_Bulanan, SLIK_Outstanding_CC, Lama_Cicilan, dan Jumlah_Pinjaman\n",
        "# Tulis kode disini\n",
        "\n"
      ],
      "execution_count": 85,
      "outputs": []
    },
    {
      "cell_type": "markdown",
      "metadata": {
        "id": "r2dLfIxig1hP"
      },
      "source": [
        "# Missing Data Treatment (Apa yang harus dilakukan terhadap data yang kosong?)"
      ]
    },
    {
      "cell_type": "markdown",
      "metadata": {
        "id": "RCVxCTb-gvRu"
      },
      "source": [
        "## 2.3.2.5.4.1 Imputasi baris data yang kosong dengan asumsi nilai\n"
      ]
    },
    {
      "cell_type": "code",
      "metadata": {
        "colab": {
          "base_uri": "https://localhost:8080/"
        },
        "id": "w5L8DvciYr0X",
        "outputId": "409dce74-8213-4ec3-fc65-c2fa6ce93edb"
      },
      "source": [
        "# Koding berikut menggantikan missing value dari semua variabel dengan\n",
        "# nilai yang paling sering muncul (modus) untuk variabel kategori dan nilai rata-rata untuk variabel numerik\n",
        "\n",
        "# Memisahkan variabel kategori dengan variabel numerik\n",
        "df_numerik = df.select_dtypes(include=['float64','int64','int'])\n",
        "df_kategori = df.select_dtypes(exclude = ['float64','int64','int'])\n",
        "\n",
        "for kolom in df_numerik.columns:\n",
        "  df_numerik[kolom].fillna(df_numerik[kolom].mean(), inplace=True)\n",
        "\n",
        "for kolom in df_kategori.columns:\n",
        "  df_kategori[kolom].fillna(df_kategori[kolom].mode()[0], inplace=True)\n",
        "\n",
        "# Menggabungkan dataset variabel kategori dan dengan variabel numerik\n",
        "df_pembersihan_1 = pd.concat([df_numerik, df_kategori], axis = 1)"
      ],
      "execution_count": 86,
      "outputs": [
        {
          "output_type": "stream",
          "name": "stderr",
          "text": [
            "/usr/local/lib/python3.7/dist-packages/pandas/core/series.py:4536: SettingWithCopyWarning: \n",
            "A value is trying to be set on a copy of a slice from a DataFrame\n",
            "\n",
            "See the caveats in the documentation: https://pandas.pydata.org/pandas-docs/stable/user_guide/indexing.html#returning-a-view-versus-a-copy\n",
            "  downcast=downcast,\n"
          ]
        }
      ]
    },
    {
      "cell_type": "markdown",
      "metadata": {
        "id": "12H53azahbxl"
      },
      "source": [
        "## # 2.3.2.5.4.2 Tidak menggunakan baris data yang kosong (Drop Data)\n"
      ]
    },
    {
      "cell_type": "code",
      "metadata": {
        "id": "kX5J6yALYy48"
      },
      "source": [
        "# Menggunakan fungsi dropna() untuk menghapus semua baris yang memiliki data kosong\n",
        "df_pembersihan_2 = df.dropna()"
      ],
      "execution_count": 87,
      "outputs": []
    },
    {
      "cell_type": "markdown",
      "metadata": {
        "id": "6B6XandThftC"
      },
      "source": [
        "## 2.3.2.5.4.3 Tidak menggunakan kolom data yang kosong (Drop Variable)\n"
      ]
    },
    {
      "cell_type": "code",
      "metadata": {
        "id": "GCNAZFB_Y6-G"
      },
      "source": [
        "# Menggunakan fungsi dropna() untuk menghapus kolom yang memiliki data kosong\n",
        "df_pembersihan_3 = df.dropna(axis='columns')"
      ],
      "execution_count": 88,
      "outputs": []
    },
    {
      "cell_type": "markdown",
      "metadata": {
        "id": "4SJasWmnhjZ2"
      },
      "source": [
        "## 2.3.2.5.4.4 Kategorikan data yang kosong (Flag)"
      ]
    },
    {
      "cell_type": "code",
      "metadata": {
        "colab": {
          "base_uri": "https://localhost:8080/"
        },
        "id": "y6J9LrueZIQS",
        "outputId": "f9588ff1-5c72-4fc0-b2f5-a9006cc1bcc1"
      },
      "source": [
        "# Koding berikut memberikan tanda flagging untuk baris data yang berisikan baris data kosong\n",
        "\n",
        "# Memisahkan variabel kategori dengan variabel numerik\n",
        "df_numerik = df.select_dtypes(include=['float64','int64','int'])\n",
        "df_kategori = df.select_dtypes(exclude = ['float64','int64','int'])\n",
        "\n",
        "for kolom in df_numerik.columns:\n",
        "  # Membuat kolom baru untuk baris data yang kosong\n",
        "  df_numerik[kolom+\"_missing\"] = df_numerik[kolom].isnull()\n",
        "  df_numerik[kolom].fillna(0, inplace=True)\n",
        "\n",
        "for kolom in df_kategori.columns:\n",
        "  # Kolom kategori harus secara eksplisit menambahkan data kategori baru\n",
        "  df_kategori[kolom] = df_kategori[kolom].cat.add_categories(\"00_Data_Kosong\")\n",
        "  df_kategori[kolom].fillna(\"00_Data_Kosong\", inplace=True)\n",
        "\n",
        "# Menggabungkan dataset variabel kategori dan dengan variabel numerik\n",
        "df_pembersihan_4 = pd.concat([df_numerik, df_kategori], axis = 1)"
      ],
      "execution_count": 89,
      "outputs": [
        {
          "output_type": "stream",
          "name": "stderr",
          "text": [
            "/usr/local/lib/python3.7/dist-packages/ipykernel_launcher.py:9: SettingWithCopyWarning: \n",
            "A value is trying to be set on a copy of a slice from a DataFrame.\n",
            "Try using .loc[row_indexer,col_indexer] = value instead\n",
            "\n",
            "See the caveats in the documentation: https://pandas.pydata.org/pandas-docs/stable/user_guide/indexing.html#returning-a-view-versus-a-copy\n",
            "  if __name__ == '__main__':\n",
            "/usr/local/lib/python3.7/dist-packages/pandas/core/series.py:4536: SettingWithCopyWarning: \n",
            "A value is trying to be set on a copy of a slice from a DataFrame\n",
            "\n",
            "See the caveats in the documentation: https://pandas.pydata.org/pandas-docs/stable/user_guide/indexing.html#returning-a-view-versus-a-copy\n",
            "  downcast=downcast,\n",
            "/usr/local/lib/python3.7/dist-packages/ipykernel_launcher.py:14: SettingWithCopyWarning: \n",
            "A value is trying to be set on a copy of a slice from a DataFrame.\n",
            "Try using .loc[row_indexer,col_indexer] = value instead\n",
            "\n",
            "See the caveats in the documentation: https://pandas.pydata.org/pandas-docs/stable/user_guide/indexing.html#returning-a-view-versus-a-copy\n",
            "  \n"
          ]
        }
      ]
    },
    {
      "cell_type": "code",
      "metadata": {
        "id": "Fsj2A6lYZDgj"
      },
      "source": [
        "# Melanjutkan proses dengan asumsi bahwa baris data yang kosong tidak signifikan dan tidak akan terjadi baris data kosong lagi.\n",
        "df_clean = df_pembersihan_2"
      ],
      "execution_count": 90,
      "outputs": []
    },
    {
      "cell_type": "code",
      "metadata": {
        "id": "NvdzMWh7H4Eo"
      },
      "source": [
        "# Menghapus indeks dari data yang telah dibuang\n",
        "df_clean = df_clean.reset_index(drop=True)"
      ],
      "execution_count": 91,
      "outputs": []
    },
    {
      "cell_type": "code",
      "metadata": {
        "id": "TltvfbJMyCDQ",
        "colab": {
          "base_uri": "https://localhost:8080/",
          "height": 0
        },
        "outputId": "c4fb670c-f853-48aa-c73f-58e2e0657f18"
      },
      "source": [
        "# Untuk memudahkan membaca hasil, maka disimpan dalam bentuk csv dan didownload\n",
        "from google.colab import files\n",
        "df_clean.to_csv('df_clean.csv') \n",
        "files.download('df_clean.csv')"
      ],
      "execution_count": 92,
      "outputs": [
        {
          "output_type": "display_data",
          "data": {
            "application/javascript": [
              "\n",
              "    async function download(id, filename, size) {\n",
              "      if (!google.colab.kernel.accessAllowed) {\n",
              "        return;\n",
              "      }\n",
              "      const div = document.createElement('div');\n",
              "      const label = document.createElement('label');\n",
              "      label.textContent = `Downloading \"${filename}\": `;\n",
              "      div.appendChild(label);\n",
              "      const progress = document.createElement('progress');\n",
              "      progress.max = size;\n",
              "      div.appendChild(progress);\n",
              "      document.body.appendChild(div);\n",
              "\n",
              "      const buffers = [];\n",
              "      let downloaded = 0;\n",
              "\n",
              "      const channel = await google.colab.kernel.comms.open(id);\n",
              "      // Send a message to notify the kernel that we're ready.\n",
              "      channel.send({})\n",
              "\n",
              "      for await (const message of channel.messages) {\n",
              "        // Send a message to notify the kernel that we're ready.\n",
              "        channel.send({})\n",
              "        if (message.buffers) {\n",
              "          for (const buffer of message.buffers) {\n",
              "            buffers.push(buffer);\n",
              "            downloaded += buffer.byteLength;\n",
              "            progress.value = downloaded;\n",
              "          }\n",
              "        }\n",
              "      }\n",
              "      const blob = new Blob(buffers, {type: 'application/binary'});\n",
              "      const a = document.createElement('a');\n",
              "      a.href = window.URL.createObjectURL(blob);\n",
              "      a.download = filename;\n",
              "      div.appendChild(a);\n",
              "      a.click();\n",
              "      div.remove();\n",
              "    }\n",
              "  "
            ],
            "text/plain": [
              "<IPython.core.display.Javascript object>"
            ]
          },
          "metadata": {}
        },
        {
          "output_type": "display_data",
          "data": {
            "application/javascript": [
              "download(\"download_98d7699e-208d-4095-a753-9f7a76d1531f\", \"df_clean.csv\", 262038)"
            ],
            "text/plain": [
              "<IPython.core.display.Javascript object>"
            ]
          },
          "metadata": {}
        }
      ]
    },
    {
      "cell_type": "code",
      "metadata": {
        "id": "7AVgeSYIs6fQ",
        "colab": {
          "base_uri": "https://localhost:8080/",
          "height": 0
        },
        "outputId": "cd19d40d-a28e-456d-c06e-318691289b20"
      },
      "source": [
        "df_clean.info()\n",
        "\n",
        "# Untuk memudahkan membaca hasil, maka disimpan dalam bentuk csv dan didownload\n",
        "from google.colab import files\n",
        "df_clean.to_csv('df_clean.csv') \n",
        "files.download('df_clean.csv')"
      ],
      "execution_count": 93,
      "outputs": [
        {
          "output_type": "stream",
          "name": "stdout",
          "text": [
            "<class 'pandas.core.frame.DataFrame'>\n",
            "RangeIndex: 948 entries, 0 to 947\n",
            "Data columns (total 26 columns):\n",
            " #   Column                          Non-Null Count  Dtype   \n",
            "---  ------                          --------------  -----   \n",
            " 0   ID                              948 non-null    category\n",
            " 1   gagal_bayar                     948 non-null    category\n",
            " 2   Lama_Cicilan                    948 non-null    float64 \n",
            " 3   Tujuan_Pinjaman                 948 non-null    category\n",
            " 4   Jumlah_Pinjaman                 948 non-null    float64 \n",
            " 5   Pekerjaan                       948 non-null    category\n",
            " 6   Pendapatan_perbulan             948 non-null    category\n",
            " 7   Lama_Bekerja                    948 non-null    category\n",
            " 8   Status                          948 non-null    category\n",
            " 9   Kepemilikan_Rumah               948 non-null    category\n",
            " 10  Alamat_Rumah                    948 non-null    category\n",
            " 11  Alamat_Kantor                   948 non-null    category\n",
            " 12  Usia                            948 non-null    float64 \n",
            " 13  Lama_tinggal_ditempat_sekarang  948 non-null    category\n",
            " 14  SLIK_Kolektibilitas             948 non-null    category\n",
            " 15  SLIK_Cicilan_Bulanan            948 non-null    float64 \n",
            " 16  SLIK_Outstanding_CC             948 non-null    float64 \n",
            " 17  API_CreditScore_Vendor_A        948 non-null    int64   \n",
            " 18  API_CreditScore_Vendor_B        948 non-null    int64   \n",
            " 19  Device_Type                     948 non-null    category\n",
            " 20  Device_Apps_Installed           948 non-null    int64   \n",
            " 21  Device_Active_Since             948 non-null    category\n",
            " 22  Device_Apps_Segmentation        948 non-null    category\n",
            " 23  Mobile_Provider                 948 non-null    category\n",
            " 24  Mobile_Number_Active_Since      948 non-null    category\n",
            " 25  Email_Domain_Type               948 non-null    category\n",
            "dtypes: category(18), float64(5), int64(3)\n",
            "memory usage: 127.5 KB\n"
          ]
        },
        {
          "output_type": "display_data",
          "data": {
            "application/javascript": [
              "\n",
              "    async function download(id, filename, size) {\n",
              "      if (!google.colab.kernel.accessAllowed) {\n",
              "        return;\n",
              "      }\n",
              "      const div = document.createElement('div');\n",
              "      const label = document.createElement('label');\n",
              "      label.textContent = `Downloading \"${filename}\": `;\n",
              "      div.appendChild(label);\n",
              "      const progress = document.createElement('progress');\n",
              "      progress.max = size;\n",
              "      div.appendChild(progress);\n",
              "      document.body.appendChild(div);\n",
              "\n",
              "      const buffers = [];\n",
              "      let downloaded = 0;\n",
              "\n",
              "      const channel = await google.colab.kernel.comms.open(id);\n",
              "      // Send a message to notify the kernel that we're ready.\n",
              "      channel.send({})\n",
              "\n",
              "      for await (const message of channel.messages) {\n",
              "        // Send a message to notify the kernel that we're ready.\n",
              "        channel.send({})\n",
              "        if (message.buffers) {\n",
              "          for (const buffer of message.buffers) {\n",
              "            buffers.push(buffer);\n",
              "            downloaded += buffer.byteLength;\n",
              "            progress.value = downloaded;\n",
              "          }\n",
              "        }\n",
              "      }\n",
              "      const blob = new Blob(buffers, {type: 'application/binary'});\n",
              "      const a = document.createElement('a');\n",
              "      a.href = window.URL.createObjectURL(blob);\n",
              "      a.download = filename;\n",
              "      div.appendChild(a);\n",
              "      a.click();\n",
              "      div.remove();\n",
              "    }\n",
              "  "
            ],
            "text/plain": [
              "<IPython.core.display.Javascript object>"
            ]
          },
          "metadata": {}
        },
        {
          "output_type": "display_data",
          "data": {
            "application/javascript": [
              "download(\"download_9aa81663-7b23-4925-a079-2566d71cf9ef\", \"df_clean.csv\", 262038)"
            ],
            "text/plain": [
              "<IPython.core.display.Javascript object>"
            ]
          },
          "metadata": {}
        }
      ]
    },
    {
      "cell_type": "markdown",
      "metadata": {
        "id": "ynlPrujPhrrt"
      },
      "source": [
        "# Data Eksplorasi (Explanatory Data Analysis atau EDA)"
      ]
    },
    {
      "cell_type": "markdown",
      "metadata": {
        "id": "S-MbaFDAhxHn"
      },
      "source": [
        "## 2.3.2.5.5.1 EDA Analisa dasar variabel untuk gagal_bayar"
      ]
    },
    {
      "cell_type": "code",
      "metadata": {
        "colab": {
          "base_uri": "https://localhost:8080/"
        },
        "id": "qW5t7UwfES8v",
        "outputId": "601beb27-1889-408f-a856-d4dcc564970d"
      },
      "source": [
        "# Untuk melihat frekuensi dari variabel gagal_bayar\n",
        "print(df_clean['gagal_bayar'].value_counts())\n",
        "\n",
        "# Untuk melihat proporsi (dalam persentase) dari variabel gagal_bayar\n",
        "print(df_clean['gagal_bayar'].value_counts(normalize=True) * 100)"
      ],
      "execution_count": 94,
      "outputs": [
        {
          "output_type": "stream",
          "name": "stdout",
          "text": [
            "0_Bayar    670\n",
            "1_Gagal    278\n",
            "Name: gagal_bayar, dtype: int64\n",
            "0_Bayar    70.675105\n",
            "1_Gagal    29.324895\n",
            "Name: gagal_bayar, dtype: float64\n"
          ]
        }
      ]
    },
    {
      "cell_type": "markdown",
      "metadata": {
        "id": "y-XqBSpJi9eh"
      },
      "source": [
        "## 2.3.2.5.5.2 Exploratory Data Analysis untuk SLIK_Kolektabilitas\n"
      ]
    },
    {
      "cell_type": "code",
      "metadata": {
        "id": "zjuNAMQGE5L6",
        "colab": {
          "base_uri": "https://localhost:8080/"
        },
        "outputId": "ffc95df7-1c7e-4757-9f7f-7def8bdd5399"
      },
      "source": [
        "# Untuk melihat frekuensi dari variabel SLIK_Kolektabilitas\n",
        "print(df_clean['SLIK_Kolektibilitas'].value_counts())\n",
        "\n",
        "# Untuk melihat proporsi (dalam persentase) dari variabel SLIK_Kolektabilitas\n",
        "print(df_clean['SLIK_Kolektibilitas'].value_counts(normalize=True) * 100)"
      ],
      "execution_count": 95,
      "outputs": [
        {
          "output_type": "stream",
          "name": "stdout",
          "text": [
            "Kolek 3            483\n",
            "Kolek 1            270\n",
            "Kolek 2             84\n",
            "Tidak_Ditemukan     49\n",
            "Kolek 5             48\n",
            "Kolek 4             14\n",
            "Name: SLIK_Kolektibilitas, dtype: int64\n",
            "Kolek 3            50.949367\n",
            "Kolek 1            28.481013\n",
            "Kolek 2             8.860759\n",
            "Tidak_Ditemukan     5.168776\n",
            "Kolek 5             5.063291\n",
            "Kolek 4             1.476793\n",
            "Name: SLIK_Kolektibilitas, dtype: float64\n"
          ]
        }
      ]
    },
    {
      "cell_type": "markdown",
      "metadata": {
        "id": "G4BiPf2ojA_m"
      },
      "source": [
        "## 2.3.2.5.5.2 Exploratory Data Analysis untuk SLIK_Kolektabilitas\n"
      ]
    },
    {
      "cell_type": "code",
      "metadata": {
        "id": "zESKaaoCOZO3",
        "colab": {
          "base_uri": "https://localhost:8080/"
        },
        "outputId": "2f8dd2ce-da40-4cd6-e2e8-74e38e178d0e"
      },
      "source": [
        "# Berapa banyak yang gagal bayar dari masing-masing nilai SLIK Kolektabilitas\n",
        "print(pd.crosstab(df_clean['SLIK_Kolektibilitas'], df_clean['gagal_bayar']))\n",
        "\n",
        "# dalam proporsi persentase\n",
        "print(pd.crosstab(df_clean['SLIK_Kolektibilitas'],df_clean['gagal_bayar'],normalize='index',)*100)"
      ],
      "execution_count": 96,
      "outputs": [
        {
          "output_type": "stream",
          "name": "stdout",
          "text": [
            "gagal_bayar          0_Bayar  1_Gagal\n",
            "SLIK_Kolektibilitas                  \n",
            "Kolek 1                  229       41\n",
            "Kolek 2                   58       26\n",
            "Kolek 3                  333      150\n",
            "Kolek 4                    6        8\n",
            "Kolek 5                   21       27\n",
            "Tidak_Ditemukan           23       26\n",
            "gagal_bayar            0_Bayar    1_Gagal\n",
            "SLIK_Kolektibilitas                      \n",
            "Kolek 1              84.814815  15.185185\n",
            "Kolek 2              69.047619  30.952381\n",
            "Kolek 3              68.944099  31.055901\n",
            "Kolek 4              42.857143  57.142857\n",
            "Kolek 5              43.750000  56.250000\n",
            "Tidak_Ditemukan      46.938776  53.061224\n"
          ]
        }
      ]
    },
    {
      "cell_type": "markdown",
      "metadata": {
        "id": "e5Obp23kjSkZ"
      },
      "source": [
        "## 2.3.2.5.5.2 SLIK_Kolektibilitas Data Visualisasi"
      ]
    },
    {
      "cell_type": "code",
      "metadata": {
        "colab": {
          "base_uri": "https://localhost:8080/",
          "height": 0
        },
        "id": "T7qwqbQUYFWm",
        "outputId": "b7e01669-6232-47f2-d648-85c50f6f5a0c"
      },
      "source": [
        "# Fungsi value_counts().plot(kind='bar')\n",
        "df_clean['SLIK_Kolektibilitas'].value_counts().plot(kind='bar')"
      ],
      "execution_count": 97,
      "outputs": [
        {
          "output_type": "execute_result",
          "data": {
            "text/plain": [
              "<matplotlib.axes._subplots.AxesSubplot at 0x7f750f1b8f90>"
            ]
          },
          "metadata": {},
          "execution_count": 97
        },
        {
          "output_type": "display_data",
          "data": {
            "image/png": "[encoded data removed]",
            "text/plain": [
              "<Figure size 432x288 with 1 Axes>"
            ]
          },
          "metadata": {
            "needs_background": "light"
          }
        }
      ]
    },
    {
      "cell_type": "code",
      "metadata": {
        "colab": {
          "base_uri": "https://localhost:8080/",
          "height": 0
        },
        "id": "QEmk-BKSYpKH",
        "outputId": "9fd0ba55-66bb-4ecd-aa89-aa46402d6627"
      },
      "source": [
        "# Menampilkan plot bar secara horizontal\n",
        "df_clean['SLIK_Kolektibilitas'].value_counts().plot(kind='barh')"
      ],
      "execution_count": 98,
      "outputs": [
        {
          "output_type": "execute_result",
          "data": {
            "text/plain": [
              "<matplotlib.axes._subplots.AxesSubplot at 0x7f751b05b910>"
            ]
          },
          "metadata": {},
          "execution_count": 98
        },
        {
          "output_type": "display_data",
          "data": {
            "image/png": "[encoded data removed]",
            "text/plain": [
              "<Figure size 432x288 with 1 Axes>"
            ]
          },
          "metadata": {
            "needs_background": "light"
          }
        }
      ]
    },
    {
      "cell_type": "code",
      "metadata": {
        "colab": {
          "base_uri": "https://localhost:8080/",
          "height": 0
        },
        "id": "uILFhuMGZZRg",
        "outputId": "43d29bd1-9141-4ca1-9ce4-31729250858a"
      },
      "source": [
        "# Nilai variabel SLIK_Kolektibilitas dan proporsi default secara plot bar\n",
        "pd.crosstab(df_clean['SLIK_Kolektibilitas'], df_clean['gagal_bayar']).plot(kind='barh', stacked=True)"
      ],
      "execution_count": 99,
      "outputs": [
        {
          "output_type": "execute_result",
          "data": {
            "text/plain": [
              "<matplotlib.axes._subplots.AxesSubplot at 0x7f750f11e150>"
            ]
          },
          "metadata": {},
          "execution_count": 99
        },
        {
          "output_type": "display_data",
          "data": {
            "image/png": "[encoded data removed]",
            "text/plain": [
              "<Figure size 432x288 with 1 Axes>"
            ]
          },
          "metadata": {
            "needs_background": "light"
          }
        }
      ]
    },
    {
      "cell_type": "code",
      "metadata": {
        "colab": {
          "base_uri": "https://localhost:8080/",
          "height": 0
        },
        "id": "s_i1FvMkZseF",
        "outputId": "ee64882b-f48d-4400-8ac1-5485ceb768c6"
      },
      "source": [
        "# Nilai variabel SLIK_Kolektibilitas dan proporsi default secara plot bar, secara proporsi\n",
        "pd.crosstab(df_clean['SLIK_Kolektibilitas'], df_clean['gagal_bayar'], normalize='index').plot(kind='barh', stacked=True)"
      ],
      "execution_count": 100,
      "outputs": [
        {
          "output_type": "execute_result",
          "data": {
            "text/plain": [
              "<matplotlib.axes._subplots.AxesSubplot at 0x7f750f046c10>"
            ]
          },
          "metadata": {},
          "execution_count": 100
        },
        {
          "output_type": "display_data",
          "data": {
            "image/png": "[encoded data removed]",
            "text/plain": [
              "<Figure size 432x288 with 1 Axes>"
            ]
          },
          "metadata": {
            "needs_background": "light"
          }
        }
      ]
    },
    {
      "cell_type": "markdown",
      "metadata": {
        "id": "wHjaPO4ejaqY"
      },
      "source": [
        "## Latihan EDA untuk variabel kategori"
      ]
    },
    {
      "cell_type": "code",
      "metadata": {
        "id": "S0EttoEU8l38"
      },
      "source": [
        "# Latihan EDA untuk Tujuan_Pinjaman, Lama_Bekerja, atau variabel kategori / teks lainnya\n",
        "# Tulis kode disini\n",
        "\n"
      ],
      "execution_count": 101,
      "outputs": []
    },
    {
      "cell_type": "markdown",
      "metadata": {
        "id": "Z8LtJ3gdjdX6"
      },
      "source": [
        "## 2.3.2.5.5.3 Exploratory Data Analysis untuk Usia"
      ]
    },
    {
      "cell_type": "code",
      "metadata": {
        "colab": {
          "base_uri": "https://localhost:8080/",
          "height": 0
        },
        "id": "90J2yiiUYmY-",
        "outputId": "56293c8a-de44-47a8-ff71-01e9110212da"
      },
      "source": [
        "# Rangkuman statistik untuk variabel numerik Usia\n",
        "print(df_clean['Usia'].describe())\n",
        "\n",
        "# Rangkuman statistik untuk variabel numerik Usia, berdasarkan default (gagal bayar atau tidak)\n",
        "df_clean.groupby('gagal_bayar')['Usia'].describe()"
      ],
      "execution_count": 102,
      "outputs": [
        {
          "output_type": "stream",
          "name": "stdout",
          "text": [
            "count    948.000000\n",
            "mean      35.548523\n",
            "std       11.335750\n",
            "min       19.000000\n",
            "25%       27.000000\n",
            "50%       33.000000\n",
            "75%       42.000000\n",
            "max       75.000000\n",
            "Name: Usia, dtype: float64\n"
          ]
        },
        {
          "output_type": "execute_result",
          "data": {
            "text/html": [
              "<div>\n",
              "<style scoped>\n",
              "    .dataframe tbody tr th:only-of-type {\n",
              "        vertical-align: middle;\n",
              "    }\n",
              "\n",
              "    .dataframe tbody tr th {\n",
              "        vertical-align: top;\n",
              "    }\n",
              "\n",
              "    .dataframe thead th {\n",
              "        text-align: right;\n",
              "    }\n",
              "</style>\n",
              "<table border=\"1\" class=\"dataframe\">\n",
              "  <thead>\n",
              "    <tr style=\"text-align: right;\">\n",
              "      <th></th>\n",
              "      <th>count</th>\n",
              "      <th>mean</th>\n",
              "      <th>std</th>\n",
              "      <th>min</th>\n",
              "      <th>25%</th>\n",
              "      <th>50%</th>\n",
              "      <th>75%</th>\n",
              "      <th>max</th>\n",
              "    </tr>\n",
              "    <tr>\n",
              "      <th>gagal_bayar</th>\n",
              "      <th></th>\n",
              "      <th></th>\n",
              "      <th></th>\n",
              "      <th></th>\n",
              "      <th></th>\n",
              "      <th></th>\n",
              "      <th></th>\n",
              "      <th></th>\n",
              "    </tr>\n",
              "  </thead>\n",
              "  <tbody>\n",
              "    <tr>\n",
              "      <th>0_Bayar</th>\n",
              "      <td>670.0</td>\n",
              "      <td>36.116418</td>\n",
              "      <td>11.239140</td>\n",
              "      <td>19.0</td>\n",
              "      <td>27.0</td>\n",
              "      <td>34.0</td>\n",
              "      <td>42.00</td>\n",
              "      <td>75.0</td>\n",
              "    </tr>\n",
              "    <tr>\n",
              "      <th>1_Gagal</th>\n",
              "      <td>278.0</td>\n",
              "      <td>34.179856</td>\n",
              "      <td>11.470415</td>\n",
              "      <td>19.0</td>\n",
              "      <td>25.0</td>\n",
              "      <td>31.0</td>\n",
              "      <td>40.75</td>\n",
              "      <td>74.0</td>\n",
              "    </tr>\n",
              "  </tbody>\n",
              "</table>\n",
              "</div>"
            ],
            "text/plain": [
              "             count       mean        std   min   25%   50%    75%   max\n",
              "gagal_bayar                                                            \n",
              "0_Bayar      670.0  36.116418  11.239140  19.0  27.0  34.0  42.00  75.0\n",
              "1_Gagal      278.0  34.179856  11.470415  19.0  25.0  31.0  40.75  74.0"
            ]
          },
          "metadata": {},
          "execution_count": 102
        }
      ]
    },
    {
      "cell_type": "code",
      "metadata": {
        "colab": {
          "base_uri": "https://localhost:8080/",
          "height": 0
        },
        "id": "V0mG8ys3aeq0",
        "outputId": "b0e189d2-17a8-4581-d9b2-0ed8e2adf578"
      },
      "source": [
        "# Fungsi distplot() dari library seaborn\n",
        "# Perhatikan bahwa distribusi plot harus tidak memiliki data kosong / missing value.\n",
        "# Oleh karena itu harus menambahkan fungsi dropna() untuk secara sementara tidak\n",
        "# mengikutsertakan missing value dalam pembuatan plot distribusi\n",
        "\n",
        "import matplotlib.pyplot as plt\n",
        "import seaborn as sns\n",
        "\n",
        "fig, ax = plt.subplots(figsize=(15,15))\n",
        "sns.distplot(df_clean['Usia'].dropna(), ax=ax).set_title('Distribution Plot')"
      ],
      "execution_count": 103,
      "outputs": [
        {
          "output_type": "stream",
          "name": "stderr",
          "text": [
            "/usr/local/lib/python3.7/dist-packages/seaborn/distributions.py:2619: FutureWarning: `distplot` is a deprecated function and will be removed in a future version. Please adapt your code to use either `displot` (a figure-level function with similar flexibility) or `histplot` (an axes-level function for histograms).\n",
            "  warnings.warn(msg, FutureWarning)\n"
          ]
        },
        {
          "output_type": "execute_result",
          "data": {
            "text/plain": [
              "Text(0.5, 1.0, 'Distribution Plot')"
            ]
          },
          "metadata": {},
          "execution_count": 103
        },
        {
          "output_type": "display_data",
          "data": {
            "image/png": "[encoded data removed]",
            "text/plain": [
              "<Figure size 1080x1080 with 1 Axes>"
            ]
          },
          "metadata": {
            "needs_background": "light"
          }
        }
      ]
    },
    {
      "cell_type": "code",
      "metadata": {
        "id": "K1JubColf4xI",
        "colab": {
          "base_uri": "https://localhost:8080/",
          "height": 0
        },
        "outputId": "02f226da-19f5-42c3-c0a0-413b2461af10"
      },
      "source": [
        "# Menambahkan by di fungsi boxplot untuk membagi boxplot berdasarkan gagal_bayar\n",
        "df_clean.boxplot(by='gagal_bayar',column=['Usia'])"
      ],
      "execution_count": 104,
      "outputs": [
        {
          "output_type": "stream",
          "name": "stderr",
          "text": [
            "/usr/local/lib/python3.7/dist-packages/numpy/core/_asarray.py:83: VisibleDeprecationWarning: Creating an ndarray from ragged nested sequences (which is a list-or-tuple of lists-or-tuples-or ndarrays with different lengths or shapes) is deprecated. If you meant to do this, you must specify 'dtype=object' when creating the ndarray\n",
            "  return array(a, dtype, copy=False, order=order)\n"
          ]
        },
        {
          "output_type": "execute_result",
          "data": {
            "text/plain": [
              "<matplotlib.axes._subplots.AxesSubplot at 0x7f750f03ec50>"
            ]
          },
          "metadata": {},
          "execution_count": 104
        },
        {
          "output_type": "display_data",
          "data": {
            "image/png": "[encoded data removed]",
            "text/plain": [
              "<Figure size 432x288 with 1 Axes>"
            ]
          },
          "metadata": {
            "needs_background": "light"
          }
        }
      ]
    },
    {
      "cell_type": "markdown",
      "metadata": {
        "id": "VRrUeXK_kdnC"
      },
      "source": [
        "## Latihan EDA untuk variabel Numerik"
      ]
    },
    {
      "cell_type": "code",
      "metadata": {
        "id": "AtuTbwnrTjmX"
      },
      "source": [
        "# Latihan untuk rangkuman analisa dan visualisasi untuk variabel SLIK_Cicilan_Bulanan, SLIK_Outstanding_CC, Lama_Cicilan, dan Jumlah_Pinjaman\n",
        "# Tulis kode disini\n",
        "\n"
      ],
      "execution_count": 105,
      "outputs": []
    },
    {
      "cell_type": "markdown",
      "metadata": {
        "id": "mLdW1nh6lSri"
      },
      "source": [
        "## Korelasi"
      ]
    },
    {
      "cell_type": "code",
      "metadata": {
        "id": "5lZPEAen-nxN"
      },
      "source": [
        "import numpy as np\n",
        "\n",
        "# Untuk dapat melakukan analisa statistik, harus mengubah variabel gagal_bayar dari string menjadi angka (integer)\n",
        "# Mengubah target variabel gagal_bayar menjadi angka 0 dan 1\n",
        "conditions = [\n",
        "             df_clean['gagal_bayar'] == '1_Gagal', \n",
        "             df_clean['gagal_bayar'] == '0_Bayar'\n",
        "             ]\n",
        "\n",
        "choices     = [\n",
        "             1,\n",
        "             0\n",
        "             ]\n",
        "df_clean['default'] = np.select(conditions,choices, default = 0)"
      ],
      "execution_count": 106,
      "outputs": []
    },
    {
      "cell_type": "code",
      "metadata": {
        "id": "HNjGTaQp_BaM",
        "colab": {
          "base_uri": "https://localhost:8080/"
        },
        "outputId": "424425c8-cf06-4850-ec01-2122ba4ec4dc"
      },
      "source": [
        "# Menghitung korelasi antara variabel Usia dengan default\n",
        "print(df_clean['default'].corr(df_clean['Usia']))"
      ],
      "execution_count": 107,
      "outputs": [
        {
          "output_type": "stream",
          "name": "stdout",
          "text": [
            "-0.0778147171989035\n"
          ]
        }
      ]
    },
    {
      "cell_type": "code",
      "metadata": {
        "colab": {
          "base_uri": "https://localhost:8080/"
        },
        "id": "84joxnCJCThc",
        "outputId": "982768a7-5f2f-40a3-82f1-24f2b5ff7e4b"
      },
      "source": [
        "from scipy import stats\n",
        "\n",
        "# Uji coba hipotesis apakah ada perbedaan nilai rata-rata variabel \n",
        "# API_CreditScore_Vendor_A dengan default (gagal bayar dan tidak gagal bayar)\n",
        "stats.ttest_ind( df_clean[df_clean.default == 0].Usia,\n",
        "             \tdf_clean[df_clean.default == 1].Usia, nan_policy='omit')"
      ],
      "execution_count": 108,
      "outputs": [
        {
          "output_type": "execute_result",
          "data": {
            "text/plain": [
              "Ttest_indResult(statistic=2.400635164816287, pvalue=0.016558910387081596)"
            ]
          },
          "metadata": {},
          "execution_count": 108
        }
      ]
    },
    {
      "cell_type": "markdown",
      "metadata": {
        "id": "wm-kQAHrlfH8"
      },
      "source": [
        "## 2.3.2.5.6 Memahami korelasi antar variabel dan dengan target"
      ]
    },
    {
      "cell_type": "code",
      "metadata": {
        "colab": {
          "base_uri": "https://localhost:8080/",
          "height": 0
        },
        "id": "zeTbQamD1XoF",
        "outputId": "5259969a-7444-4c80-b84b-7cc26dd0beaf"
      },
      "source": [
        "# Korelasi Antar semua Variabel numerik\n",
        "import seaborn as sns\n",
        "corr = df_clean.corr()\n",
        "corr"
      ],
      "execution_count": 109,
      "outputs": [
        {
          "output_type": "execute_result",
          "data": {
            "text/html": [
              "<div>\n",
              "<style scoped>\n",
              "    .dataframe tbody tr th:only-of-type {\n",
              "        vertical-align: middle;\n",
              "    }\n",
              "\n",
              "    .dataframe tbody tr th {\n",
              "        vertical-align: top;\n",
              "    }\n",
              "\n",
              "    .dataframe thead th {\n",
              "        text-align: right;\n",
              "    }\n",
              "</style>\n",
              "<table border=\"1\" class=\"dataframe\">\n",
              "  <thead>\n",
              "    <tr style=\"text-align: right;\">\n",
              "      <th></th>\n",
              "      <th>Lama_Cicilan</th>\n",
              "      <th>Jumlah_Pinjaman</th>\n",
              "      <th>Usia</th>\n",
              "      <th>SLIK_Cicilan_Bulanan</th>\n",
              "      <th>SLIK_Outstanding_CC</th>\n",
              "      <th>API_CreditScore_Vendor_A</th>\n",
              "      <th>API_CreditScore_Vendor_B</th>\n",
              "      <th>Device_Apps_Installed</th>\n",
              "      <th>default</th>\n",
              "    </tr>\n",
              "  </thead>\n",
              "  <tbody>\n",
              "    <tr>\n",
              "      <th>Lama_Cicilan</th>\n",
              "      <td>1.000000</td>\n",
              "      <td>0.298788</td>\n",
              "      <td>0.029419</td>\n",
              "      <td>0.000481</td>\n",
              "      <td>0.029004</td>\n",
              "      <td>-0.012322</td>\n",
              "      <td>-0.028463</td>\n",
              "      <td>-0.057698</td>\n",
              "      <td>0.021000</td>\n",
              "    </tr>\n",
              "    <tr>\n",
              "      <th>Jumlah_Pinjaman</th>\n",
              "      <td>0.298788</td>\n",
              "      <td>1.000000</td>\n",
              "      <td>0.041210</td>\n",
              "      <td>-0.031538</td>\n",
              "      <td>-0.007841</td>\n",
              "      <td>0.013080</td>\n",
              "      <td>-0.020965</td>\n",
              "      <td>-0.026660</td>\n",
              "      <td>0.132585</td>\n",
              "    </tr>\n",
              "    <tr>\n",
              "      <th>Usia</th>\n",
              "      <td>0.029419</td>\n",
              "      <td>0.041210</td>\n",
              "      <td>1.000000</td>\n",
              "      <td>0.007345</td>\n",
              "      <td>-0.008791</td>\n",
              "      <td>0.018705</td>\n",
              "      <td>0.018308</td>\n",
              "      <td>0.032119</td>\n",
              "      <td>-0.077815</td>\n",
              "    </tr>\n",
              "    <tr>\n",
              "      <th>SLIK_Cicilan_Bulanan</th>\n",
              "      <td>0.000481</td>\n",
              "      <td>-0.031538</td>\n",
              "      <td>0.007345</td>\n",
              "      <td>1.000000</td>\n",
              "      <td>0.317872</td>\n",
              "      <td>0.034330</td>\n",
              "      <td>-0.056521</td>\n",
              "      <td>-0.003362</td>\n",
              "      <td>0.181373</td>\n",
              "    </tr>\n",
              "    <tr>\n",
              "      <th>SLIK_Outstanding_CC</th>\n",
              "      <td>0.029004</td>\n",
              "      <td>-0.007841</td>\n",
              "      <td>-0.008791</td>\n",
              "      <td>0.317872</td>\n",
              "      <td>1.000000</td>\n",
              "      <td>-0.035197</td>\n",
              "      <td>-0.004624</td>\n",
              "      <td>-0.054377</td>\n",
              "      <td>0.185339</td>\n",
              "    </tr>\n",
              "    <tr>\n",
              "      <th>API_CreditScore_Vendor_A</th>\n",
              "      <td>-0.012322</td>\n",
              "      <td>0.013080</td>\n",
              "      <td>0.018705</td>\n",
              "      <td>0.034330</td>\n",
              "      <td>-0.035197</td>\n",
              "      <td>1.000000</td>\n",
              "      <td>-0.000716</td>\n",
              "      <td>0.040767</td>\n",
              "      <td>-0.038087</td>\n",
              "    </tr>\n",
              "    <tr>\n",
              "      <th>API_CreditScore_Vendor_B</th>\n",
              "      <td>-0.028463</td>\n",
              "      <td>-0.020965</td>\n",
              "      <td>0.018308</td>\n",
              "      <td>-0.056521</td>\n",
              "      <td>-0.004624</td>\n",
              "      <td>-0.000716</td>\n",
              "      <td>1.000000</td>\n",
              "      <td>-0.018533</td>\n",
              "      <td>-0.160338</td>\n",
              "    </tr>\n",
              "    <tr>\n",
              "      <th>Device_Apps_Installed</th>\n",
              "      <td>-0.057698</td>\n",
              "      <td>-0.026660</td>\n",
              "      <td>0.032119</td>\n",
              "      <td>-0.003362</td>\n",
              "      <td>-0.054377</td>\n",
              "      <td>0.040767</td>\n",
              "      <td>-0.018533</td>\n",
              "      <td>1.000000</td>\n",
              "      <td>-0.132190</td>\n",
              "    </tr>\n",
              "    <tr>\n",
              "      <th>default</th>\n",
              "      <td>0.021000</td>\n",
              "      <td>0.132585</td>\n",
              "      <td>-0.077815</td>\n",
              "      <td>0.181373</td>\n",
              "      <td>0.185339</td>\n",
              "      <td>-0.038087</td>\n",
              "      <td>-0.160338</td>\n",
              "      <td>-0.132190</td>\n",
              "      <td>1.000000</td>\n",
              "    </tr>\n",
              "  </tbody>\n",
              "</table>\n",
              "</div>"
            ],
            "text/plain": [
              "                          Lama_Cicilan  ...   default\n",
              "Lama_Cicilan                  1.000000  ...  0.021000\n",
              "Jumlah_Pinjaman               0.298788  ...  0.132585\n",
              "Usia                          0.029419  ... -0.077815\n",
              "SLIK_Cicilan_Bulanan          0.000481  ...  0.181373\n",
              "SLIK_Outstanding_CC           0.029004  ...  0.185339\n",
              "API_CreditScore_Vendor_A     -0.012322  ... -0.038087\n",
              "API_CreditScore_Vendor_B     -0.028463  ... -0.160338\n",
              "Device_Apps_Installed        -0.057698  ... -0.132190\n",
              "default                       0.021000  ...  1.000000\n",
              "\n",
              "[9 rows x 9 columns]"
            ]
          },
          "metadata": {},
          "execution_count": 109
        }
      ]
    },
    {
      "cell_type": "code",
      "metadata": {
        "colab": {
          "base_uri": "https://localhost:8080/",
          "height": 0
        },
        "id": "L1bmRBmC8B9g",
        "outputId": "ba1bc0f6-de2b-46ab-a258-eb95c5609930"
      },
      "source": [
        "# Korelasi secara visualisasi\n",
        "sns.heatmap(corr, xticklabels=corr.columns.values, yticklabels=corr.columns.values)"
      ],
      "execution_count": 110,
      "outputs": [
        {
          "output_type": "execute_result",
          "data": {
            "text/plain": [
              "<matplotlib.axes._subplots.AxesSubplot at 0x7f750ee372d0>"
            ]
          },
          "metadata": {},
          "execution_count": 110
        },
        {
          "output_type": "display_data",
          "data": {
            "image/png": "[encoded data removed]",
            "text/plain": [
              "<Figure size 432x288 with 2 Axes>"
            ]
          },
          "metadata": {
            "needs_background": "light"
          }
        }
      ]
    },
    {
      "cell_type": "markdown",
      "metadata": {
        "id": "uPHUOv9lllM1"
      },
      "source": [
        "## Latihan Korelasi"
      ]
    },
    {
      "cell_type": "code",
      "metadata": {
        "id": "GYGvQAjevc21"
      },
      "source": [
        "# Latihan untuk korelasi untuk variabel API_CreditScore_Vendor_A dan Lama_Cicilan\n",
        "# Tulis kode disini\n",
        "# Kesimpulan yang didapatkan?\n"
      ],
      "execution_count": 111,
      "outputs": []
    },
    {
      "cell_type": "code",
      "metadata": {
        "id": "iV4srE0Jyz54"
      },
      "source": [
        "# Latihan uji coba hipotesis untuk API_CreditScore_Vendor_A dan Lama_Cicilan\n",
        "# Tulis kode disini\n",
        "# Kesimpulan yang didapatkan?\n",
        "\n"
      ],
      "execution_count": 112,
      "outputs": []
    },
    {
      "cell_type": "code",
      "metadata": {
        "id": "Fj3kIhUPCPYd",
        "colab": {
          "base_uri": "https://localhost:8080/"
        },
        "outputId": "6ba22f1a-c40b-4f0a-c2cb-fda770106968"
      },
      "source": [
        "df_clean.info()"
      ],
      "execution_count": 113,
      "outputs": [
        {
          "output_type": "stream",
          "name": "stdout",
          "text": [
            "<class 'pandas.core.frame.DataFrame'>\n",
            "RangeIndex: 948 entries, 0 to 947\n",
            "Data columns (total 27 columns):\n",
            " #   Column                          Non-Null Count  Dtype   \n",
            "---  ------                          --------------  -----   \n",
            " 0   ID                              948 non-null    category\n",
            " 1   gagal_bayar                     948 non-null    category\n",
            " 2   Lama_Cicilan                    948 non-null    float64 \n",
            " 3   Tujuan_Pinjaman                 948 non-null    category\n",
            " 4   Jumlah_Pinjaman                 948 non-null    float64 \n",
            " 5   Pekerjaan                       948 non-null    category\n",
            " 6   Pendapatan_perbulan             948 non-null    category\n",
            " 7   Lama_Bekerja                    948 non-null    category\n",
            " 8   Status                          948 non-null    category\n",
            " 9   Kepemilikan_Rumah               948 non-null    category\n",
            " 10  Alamat_Rumah                    948 non-null    category\n",
            " 11  Alamat_Kantor                   948 non-null    category\n",
            " 12  Usia                            948 non-null    float64 \n",
            " 13  Lama_tinggal_ditempat_sekarang  948 non-null    category\n",
            " 14  SLIK_Kolektibilitas             948 non-null    category\n",
            " 15  SLIK_Cicilan_Bulanan            948 non-null    float64 \n",
            " 16  SLIK_Outstanding_CC             948 non-null    float64 \n",
            " 17  API_CreditScore_Vendor_A        948 non-null    int64   \n",
            " 18  API_CreditScore_Vendor_B        948 non-null    int64   \n",
            " 19  Device_Type                     948 non-null    category\n",
            " 20  Device_Apps_Installed           948 non-null    int64   \n",
            " 21  Device_Active_Since             948 non-null    category\n",
            " 22  Device_Apps_Segmentation        948 non-null    category\n",
            " 23  Mobile_Provider                 948 non-null    category\n",
            " 24  Mobile_Number_Active_Since      948 non-null    category\n",
            " 25  Email_Domain_Type               948 non-null    category\n",
            " 26  default                         948 non-null    int64   \n",
            "dtypes: category(18), float64(5), int64(4)\n",
            "memory usage: 134.9 KB\n"
          ]
        }
      ]
    },
    {
      "cell_type": "markdown",
      "metadata": {
        "id": "Fa1Y90PHlyyR"
      },
      "source": [
        "## 2.3.2.5.6.2 Memahami korelasi antar variabel independent kategori\n"
      ]
    },
    {
      "cell_type": "code",
      "metadata": {
        "id": "DINJuDJSjV3r",
        "colab": {
          "base_uri": "https://localhost:8080/",
          "height": 0
        },
        "outputId": "c584c5ca-30ed-4b48-b58e-df22818ba653"
      },
      "source": [
        "# Memisahkan variabel kategori dengan variabel numerik\n",
        "df_numerik = df_clean.select_dtypes(include=['float64','int64','int'])\n",
        "df_kategori = df_clean.select_dtypes(exclude = ['float64','int64','int'])\n",
        "\n",
        "# Menghapus kolom yang tidak berkaitan dengan korelasi antar variabel independent\n",
        "df_kategori.drop(columns=['ID', 'gagal_bayar'], inplace=True)\n",
        "\n",
        "from sklearn.feature_selection import chi2\n",
        "import numpy as np\n",
        "import pandas as pd\n",
        "import matplotlib.pyplot as plt\n",
        "import seaborn as sns\n",
        "\n",
        "df = pd.get_dummies(data = df_kategori)\n",
        "\n",
        "# Kode Python berdasarkan referensi dari https://www.analyticsvidhya.com/blog/2021/06/decoding-the-chi-square-test%E2%80%8A-%E2%80%8Ause-along-with-implementation-and-visualization/\n",
        "resultant = pd.DataFrame(data=[(0 for i in range(len(df.columns))) for i in range(len(df.columns))], \n",
        "                         columns=list(df.columns))\n",
        "resultant.set_index(pd.Index(list(df.columns)), inplace = True)\n",
        "for i in list(df.columns):\n",
        "    for j in list(df.columns):\n",
        "        if i != j:\n",
        "            chi2_val, p_val = chi2(np.array(df[i]).reshape(-1, 1), np.array(df[j]).reshape(-1, 1))\n",
        "            resultant.loc[i,j] = p_val\n",
        "print(resultant)\n",
        "\n",
        "# Untuk memudahkan membaca hasil, maka disimpan dalam bentuk csv dan didownload\n",
        "from google.colab import files\n",
        "df.to_csv('chi_square.csv') \n",
        "files.download('chi_square.csv')"
      ],
      "execution_count": 114,
      "outputs": [
        {
          "output_type": "stream",
          "name": "stderr",
          "text": [
            "/usr/local/lib/python3.7/dist-packages/pandas/core/frame.py:4174: SettingWithCopyWarning: \n",
            "A value is trying to be set on a copy of a slice from a DataFrame\n",
            "\n",
            "See the caveats in the documentation: https://pandas.pydata.org/pandas-docs/stable/user_guide/indexing.html#returning-a-view-versus-a-copy\n",
            "  errors=errors,\n"
          ]
        },
        {
          "output_type": "stream",
          "name": "stdout",
          "text": [
            "                                            Tujuan_Pinjaman_buka_bisnis  ...  Email_Domain_Type_Public_Domain\n",
            "Tujuan_Pinjaman_buka_bisnis                                0.000000e+00  ...                     4.236873e-04\n",
            "Tujuan_Pinjaman_elektronik                                 3.736414e-22  ...                     8.344980e-04\n",
            "Tujuan_Pinjaman_liburan                                    1.432841e-05  ...                     7.020366e-02\n",
            "Tujuan_Pinjaman_makanan                                    1.027722e-06  ...                     2.353050e-01\n",
            "Tujuan_Pinjaman_pendidikan                                 3.761034e-05  ...                     3.820163e-01\n",
            "...                                                                 ...  ...                              ...\n",
            "Mobile_Number_Active_Since_3_1_ke_2_tahun                  5.577441e-01  ...                     1.663092e-01\n",
            "Mobile_Number_Active_Since_4_2_ke_5_tahun                  1.438647e-01  ...                     2.431699e-01\n",
            "Mobile_Number_Active_Since_5_Lebih_5_tahun                 3.201663e-01  ...                     4.911474e-01\n",
            "Email_Domain_Type_Professional_Domain                      4.347997e-04  ...                    4.893445e-169\n",
            "Email_Domain_Type_Public_Domain                            8.854035e-02  ...                     0.000000e+00\n",
            "\n",
            "[66 rows x 66 columns]\n"
          ]
        },
        {
          "output_type": "display_data",
          "data": {
            "application/javascript": [
              "\n",
              "    async function download(id, filename, size) {\n",
              "      if (!google.colab.kernel.accessAllowed) {\n",
              "        return;\n",
              "      }\n",
              "      const div = document.createElement('div');\n",
              "      const label = document.createElement('label');\n",
              "      label.textContent = `Downloading \"${filename}\": `;\n",
              "      div.appendChild(label);\n",
              "      const progress = document.createElement('progress');\n",
              "      progress.max = size;\n",
              "      div.appendChild(progress);\n",
              "      document.body.appendChild(div);\n",
              "\n",
              "      const buffers = [];\n",
              "      let downloaded = 0;\n",
              "\n",
              "      const channel = await google.colab.kernel.comms.open(id);\n",
              "      // Send a message to notify the kernel that we're ready.\n",
              "      channel.send({})\n",
              "\n",
              "      for await (const message of channel.messages) {\n",
              "        // Send a message to notify the kernel that we're ready.\n",
              "        channel.send({})\n",
              "        if (message.buffers) {\n",
              "          for (const buffer of message.buffers) {\n",
              "            buffers.push(buffer);\n",
              "            downloaded += buffer.byteLength;\n",
              "            progress.value = downloaded;\n",
              "          }\n",
              "        }\n",
              "      }\n",
              "      const blob = new Blob(buffers, {type: 'application/binary'});\n",
              "      const a = document.createElement('a');\n",
              "      a.href = window.URL.createObjectURL(blob);\n",
              "      a.download = filename;\n",
              "      div.appendChild(a);\n",
              "      a.click();\n",
              "      div.remove();\n",
              "    }\n",
              "  "
            ],
            "text/plain": [
              "<IPython.core.display.Javascript object>"
            ]
          },
          "metadata": {}
        },
        {
          "output_type": "display_data",
          "data": {
            "application/javascript": [
              "download(\"download_269a9501-992e-4c96-88dd-8266259b4693\", \"chi_square.csv\", 130822)"
            ],
            "text/plain": [
              "<IPython.core.display.Javascript object>"
            ]
          },
          "metadata": {}
        }
      ]
    },
    {
      "cell_type": "markdown",
      "metadata": {
        "id": "fbJNZCXTnsQ2"
      },
      "source": [
        "## 2.3.2.5.7.3 Penggunaan WOE dan IV dalam Scorecard\n"
      ]
    },
    {
      "cell_type": "code",
      "metadata": {
        "id": "6YN3IBO10GRR",
        "colab": {
          "base_uri": "https://localhost:8080/"
        },
        "outputId": "f56d092a-2374-4499-85d9-21b9fb2a0d72"
      },
      "source": [
        "# Reference https://stackoverflow.com/questions/60892714/how-to-get-the-weight-of-evidence-woe-and-information-value-iv-in-python-pan\n",
        "\n",
        "df_woe_iv = (pd.crosstab(df_clean['SLIK_Kolektibilitas'],df_clean['default'],normalize='columns')\n",
        "             .assign(woe=lambda dfx: np.log(dfx[1] / dfx[0]))\n",
        "             .assign(iv=lambda dfx: np.sum(dfx['woe']*\n",
        "                                           (dfx[1]-dfx[0]))))\n",
        "\n",
        "print(df_woe_iv)"
      ],
      "execution_count": 115,
      "outputs": [
        {
          "output_type": "stream",
          "name": "stdout",
          "text": [
            "default                     0         1       woe        iv\n",
            "SLIK_Kolektibilitas                                        \n",
            "Kolek 1              0.341791  0.147482 -0.840493  0.324213\n",
            "Kolek 2              0.086567  0.093525  0.077310  0.324213\n",
            "Kolek 3              0.497015  0.539568  0.082149  0.324213\n",
            "Kolek 4              0.008955  0.028777  1.167339  0.324213\n",
            "Kolek 5              0.031343  0.097122  1.130971  0.324213\n",
            "Tidak_Ditemukan      0.034328  0.093525  1.002259  0.324213\n"
          ]
        }
      ]
    },
    {
      "cell_type": "code",
      "metadata": {
        "id": "k7PpZqehERWC",
        "colab": {
          "base_uri": "https://localhost:8080/"
        },
        "outputId": "061f56e4-1f1e-43c6-a255-4ba919f1036a"
      },
      "source": [
        "# Variabel SLIK_Kolektibilitas\n",
        "\n",
        "conditions = [\n",
        "             ( df_clean['SLIK_Kolektibilitas'] == 'Kolek 1' ),\n",
        "             ( df_clean['SLIK_Kolektibilitas'] == 'Kolek 2' ) | ( df_clean['SLIK_Kolektibilitas'] == 'Kolek 3' ),\n",
        "             ( df_clean['SLIK_Kolektibilitas'] == 'Kolek 4' ) | ( df_clean['SLIK_Kolektibilitas'] == 'Kolek 5' ),\n",
        "             ( df_clean['SLIK_Kolektibilitas'] == 'Tidak_Ditemukan' )\n",
        "             ]\n",
        "\n",
        "choices = [\n",
        "          'Kolek 1',\n",
        "          'Kolek 2&3',\n",
        "          'Kolek 4&5',\n",
        "          'Kolek Tidak_Ditemukan'\n",
        "          ]\n",
        "\n",
        "df_clean['SLIK_Kolektibilitas_Bin'] = np.select(conditions, choices)\n",
        "\n",
        "# Untuk melihat proporsi (dalam persentase) dari variabel Usia\n",
        "print(df_clean['SLIK_Kolektibilitas_Bin'].value_counts(normalize=True) * 100)\n",
        "\n",
        "df_woe_iv = (pd.crosstab(df_clean['SLIK_Kolektibilitas_Bin'],df_clean['default'],normalize='columns')\n",
        "             .assign(woe=lambda dfx: np.log(dfx[1] / dfx[0]))\n",
        "             .assign(iv=lambda dfx: np.sum(dfx['woe']*\n",
        "                                           (dfx[1]-dfx[0]))))\n",
        "\n",
        "print(df_woe_iv)\n",
        "\n",
        "conditions = [\n",
        "             ( df_clean['SLIK_Kolektibilitas'] == 'Kolek 1' ),\n",
        "             ( df_clean['SLIK_Kolektibilitas'] == 'Kolek 2' ) | ( df_clean['SLIK_Kolektibilitas'] == 'Kolek 3' ),\n",
        "             ( df_clean['SLIK_Kolektibilitas'] == 'Kolek 4' ) | ( df_clean['SLIK_Kolektibilitas'] == 'Kolek 5' ),\n",
        "             ( df_clean['SLIK_Kolektibilitas'] == 'Tidak_Ditemukan' )\n",
        "             ]\n",
        "\n",
        "choices = [\n",
        "          -0.8405,\n",
        "          0.0814,\n",
        "          1.1392,\n",
        "          1.0023\n",
        "          ]\n",
        "\n",
        "df_clean['SLIK_Kolektibilitas_WOE'] = np.select(conditions, choices)"
      ],
      "execution_count": 116,
      "outputs": [
        {
          "output_type": "stream",
          "name": "stdout",
          "text": [
            "Kolek 2&3                59.810127\n",
            "Kolek 1                  28.481013\n",
            "Kolek 4&5                 6.540084\n",
            "Kolek Tidak_Ditemukan     5.168776\n",
            "Name: SLIK_Kolektibilitas_Bin, dtype: float64\n",
            "default                         0         1       woe        iv\n",
            "SLIK_Kolektibilitas_Bin                                        \n",
            "Kolek 1                  0.341791  0.147482 -0.840493  0.324191\n",
            "Kolek 2&3                0.583582  0.633094  0.081433  0.324191\n",
            "Kolek 4&5                0.040299  0.125899  1.139168  0.324191\n",
            "Kolek Tidak_Ditemukan    0.034328  0.093525  1.002259  0.324191\n"
          ]
        }
      ]
    },
    {
      "cell_type": "code",
      "metadata": {
        "id": "BETSmws_CDAx",
        "colab": {
          "base_uri": "https://localhost:8080/"
        },
        "outputId": "6b675701-88a5-48a3-c2fb-c059cd43f582"
      },
      "source": [
        "# Variabel Usia\n",
        "\n",
        "conditions = [\n",
        "             ( df_clean['Usia'] <= 25 ),\n",
        "             ( df_clean['Usia'] >= 26 ) & ( df_clean['Usia'] <= 30),\n",
        "             ( df_clean['Usia'] >= 31 ) & ( df_clean['Usia'] <= 35 ),\n",
        "             ( df_clean['Usia'] >= 36 ) & ( df_clean['Usia'] <= 40 ),\n",
        "             ( df_clean['Usia'] >= 41 ) & ( df_clean['Usia'] <= 50 ),\n",
        "             ( df_clean['Usia'] >= 51 )\n",
        "             ]\n",
        "\n",
        "choices = [\n",
        "          '1.<=25',\n",
        "          '2.26-30',\n",
        "          '3.31-35',\n",
        "          '4.36-40',\n",
        "          '5.41-50',\n",
        "          '6.>=51'\n",
        "          ]\n",
        "df_clean['Usia_Bin'] = np.select(conditions, choices)\n",
        "\n",
        "# Untuk melihat proporsi (dalam persentase) dari variabel Usia\n",
        "print(df_clean['Usia_Bin'].value_counts(normalize=True) * 100)\n",
        "\n",
        "print(pd.crosstab(df_clean['Usia_Bin'], df_clean['default']))\n",
        "\n",
        "df_woe_iv = (pd.crosstab(df_clean['Usia_Bin'],df_clean['default'],normalize='columns')\n",
        "             .assign(woe=lambda dfx: np.log(dfx[1] / dfx[0]))\n",
        "             .assign(iv=lambda dfx: np.sum(dfx['woe']*\n",
        "                                           (dfx[1]-dfx[0]))))\n",
        "\n",
        "print(df_woe_iv)\n",
        "\n",
        "conditions = [\n",
        "             ( df_clean['Usia'] <= 25 ),\n",
        "             ( df_clean['Usia'] >= 26 ) & ( df_clean['Usia'] <= 30),\n",
        "             ( df_clean['Usia'] >= 31 ) & ( df_clean['Usia'] <= 35 ),\n",
        "             ( df_clean['Usia'] >= 36 ) & ( df_clean['Usia'] <= 40 ),\n",
        "             ( df_clean['Usia'] >= 41 ) & ( df_clean['Usia'] <= 50 ),\n",
        "             ( df_clean['Usia'] >= 51 )\n",
        "             ]\n",
        "\n",
        "choices = [\n",
        "          0.560023,\n",
        "          -0.009605,\n",
        "          -0.227053,\n",
        "          -0.344119,\n",
        "          -0.185054,\n",
        "          -0.049879\n",
        "          ]\n",
        "df_clean['Usia_WOE'] = np.select(conditions, choices)"
      ],
      "execution_count": 117,
      "outputs": [
        {
          "output_type": "stream",
          "name": "stdout",
          "text": [
            "2.26-30    21.729958\n",
            "1.<=25     19.303797\n",
            "3.31-35    17.405063\n",
            "5.41-50    16.455696\n",
            "4.36-40    13.924051\n",
            "6.>=51     11.181435\n",
            "Name: Usia_Bin, dtype: float64\n",
            "default     0   1\n",
            "Usia_Bin         \n",
            "1.<=25    106  77\n",
            "2.26-30   146  60\n",
            "3.31-35   124  41\n",
            "4.36-40   102  30\n",
            "5.41-50   116  40\n",
            "6.>=51     76  30\n",
            "default          0         1       woe       iv\n",
            "Usia_Bin                                       \n",
            "1.<=25    0.158209  0.276978  0.560023  0.09601\n",
            "2.26-30   0.217910  0.215827 -0.009605  0.09601\n",
            "3.31-35   0.185075  0.147482 -0.227053  0.09601\n",
            "4.36-40   0.152239  0.107914 -0.344119  0.09601\n",
            "5.41-50   0.173134  0.143885 -0.185054  0.09601\n",
            "6.>=51    0.113433  0.107914 -0.049879  0.09601\n"
          ]
        }
      ]
    },
    {
      "cell_type": "markdown",
      "metadata": {
        "id": "LR1tqMXv4O5-"
      },
      "source": [
        "## Latihan membuat WOE untuk Tujuan Pinjaman"
      ]
    },
    {
      "cell_type": "code",
      "metadata": {
        "id": "S1RnjSNufIqe",
        "colab": {
          "base_uri": "https://localhost:8080/"
        },
        "outputId": "704c518f-b587-48bc-960d-1a7ad5c954e5"
      },
      "source": [
        "# Variabel Tujuan_Pinjaman -> Perbaiki WOE dan Bin nya\n",
        "\n",
        "# Untuk melihat proporsi (dalam persentase) dari variabel Tujuan_Pinjaman\n",
        "print(df_clean['Tujuan_Pinjaman'].value_counts(normalize=True) * 100)\n",
        "\n",
        "df_woe_iv = (pd.crosstab(df_clean['Tujuan_Pinjaman'],df_clean['default'],normalize='columns')\n",
        "             .assign(woe=lambda dfx: np.log(dfx[1] / dfx[0]))\n",
        "             .assign(iv=lambda dfx: np.sum(dfx['woe']*\n",
        "                                           (dfx[1]-dfx[0]))))\n",
        "\n",
        "print(df_woe_iv)\n",
        "\n",
        "conditions = [\n",
        "             ( (df_clean['Tujuan_Pinjaman'] == 'pendidikan') ), \n",
        "             ( df_clean['Tujuan_Pinjaman'] == 'buka_bisnis' ),\n",
        "             ( (df_clean['Tujuan_Pinjaman'] == 'liburan') ),\n",
        "             ( (df_clean['Tujuan_Pinjaman'] == 'elektronik')   ), \n",
        "             ( df_clean['Tujuan_Pinjaman'] == 'peralatan_rumahtangga' ),\n",
        "             ( df_clean['Tujuan_Pinjaman'] == 'makanan' )\n",
        "             ]\n",
        "\n",
        "choices = [\n",
        "          '1.pendidikan',\n",
        "          '2.buka_bisnis',\n",
        "          '3.liburan',\n",
        "          '4.elektronik',\n",
        "          '5.peralatan_rumahtangga',\n",
        "          '6.makanan'\n",
        "          ]\n",
        "df_clean['Tujuan_Pinjaman_Bin'] = np.select(conditions, choices)\n",
        "\n",
        "print(pd.crosstab(df_clean['Tujuan_Pinjaman_Bin'], df_clean['default']))\n",
        "\n",
        "df_woe_iv = (pd.crosstab(df_clean['Tujuan_Pinjaman_Bin'],df_clean['default'],normalize='columns')\n",
        "             .assign(woe=lambda dfx: np.log(dfx[1] / dfx[0]))\n",
        "             .assign(iv=lambda dfx: np.sum(dfx['woe']*\n",
        "                                           (dfx[1]-dfx[0]))))\n",
        "print(df_woe_iv)\n",
        "\n",
        "conditions = [\n",
        "             ( (df_clean['Tujuan_Pinjaman'] == 'pendidikan') ), \n",
        "             ( df_clean['Tujuan_Pinjaman'] == 'buka_bisnis' ),\n",
        "             ( (df_clean['Tujuan_Pinjaman'] == 'liburan') ),\n",
        "             ( (df_clean['Tujuan_Pinjaman'] == 'elektronik')   ), \n",
        "             ( df_clean['Tujuan_Pinjaman'] == 'peralatan_rumahtangga' ),\n",
        "             ( df_clean['Tujuan_Pinjaman'] == 'makanan' )\n",
        "             ]\n",
        "\n",
        "choices = [\n",
        "          -0.8,\n",
        "          -0.5,\n",
        "          -0.3,\n",
        "          0.4,\n",
        "          0.5,\n",
        "          0.8\n",
        "          ]\n",
        "df_clean['Tujuan_Pinjaman_WOE'] = np.select(conditions, choices)\n"
      ],
      "execution_count": 118,
      "outputs": [
        {
          "output_type": "stream",
          "name": "stdout",
          "text": [
            "elektronik               43.037975\n",
            "buka_bisnis              18.670886\n",
            "makanan                  10.970464\n",
            "peralatan_rumahtangga    10.864979\n",
            "liburan                   8.649789\n",
            "pendidikan                7.805907\n",
            "Name: Tujuan_Pinjaman, dtype: float64\n",
            "default                       0         1       woe        iv\n",
            "Tujuan_Pinjaman                                              \n",
            "buka_bisnis            0.200000  0.154676 -0.256983  0.068185\n",
            "elektronik             0.425373  0.442446  0.039352  0.068185\n",
            "liburan                0.089552  0.079137 -0.123646  0.068185\n",
            "makanan                0.092537  0.151079  0.490192  0.068185\n",
            "pendidikan             0.089552  0.050360 -0.575631  0.068185\n",
            "peralatan_rumahtangga  0.102985  0.122302  0.171911  0.068185\n",
            "default                    0    1\n",
            "Tujuan_Pinjaman_Bin              \n",
            "1.pendidikan              60   14\n",
            "2.buka_bisnis            134   43\n",
            "3.liburan                 60   22\n",
            "4.elektronik             285  123\n",
            "5.peralatan_rumahtangga   69   34\n",
            "6.makanan                 62   42\n",
            "default                         0         1       woe        iv\n",
            "Tujuan_Pinjaman_Bin                                            \n",
            "1.pendidikan             0.089552  0.050360 -0.575631  0.068185\n",
            "2.buka_bisnis            0.200000  0.154676 -0.256983  0.068185\n",
            "3.liburan                0.089552  0.079137 -0.123646  0.068185\n",
            "4.elektronik             0.425373  0.442446  0.039352  0.068185\n",
            "5.peralatan_rumahtangga  0.102985  0.122302  0.171911  0.068185\n",
            "6.makanan                0.092537  0.151079  0.490192  0.068185\n"
          ]
        }
      ]
    },
    {
      "cell_type": "markdown",
      "metadata": {
        "id": "5KjGXWb74pv_"
      },
      "source": [
        "## Latihan membuat WOE untuk API_CreditScore_Vendor_A"
      ]
    },
    {
      "cell_type": "code",
      "metadata": {
        "id": "z0ckyODs6nXq",
        "colab": {
          "base_uri": "https://localhost:8080/"
        },
        "outputId": "63d1dc92-1d95-4676-f6e7-1f25249d598b"
      },
      "source": [
        "# Variabel API_CreditScore_Vendor_A\n",
        "\n",
        "conditions = [\n",
        "             ( df_clean['API_CreditScore_Vendor_A'] <= 250 ), \n",
        "             ( df_clean['API_CreditScore_Vendor_A'] <= 750 ),\n",
        "             ( df_clean['API_CreditScore_Vendor_A'] > 750 )\n",
        "             ]\n",
        "\n",
        "choices = [\n",
        "          '01.0-250',\n",
        "          '02.250-750',\n",
        "          '03.>750'\n",
        "          ]\n",
        "df_clean['API_CreditScore_Vendor_A_Bin'] = np.select(conditions, choices)\n",
        "\n",
        "print(pd.crosstab(df_clean['API_CreditScore_Vendor_A_Bin'], df_clean['default']))\n",
        "\n",
        "# Untuk melihat proporsi (dalam persentase) dari variabel API_CreditScore_Vendor_A_Bin\n",
        "print(df_clean['API_CreditScore_Vendor_A_Bin'].value_counts(normalize=True) * 100)\n",
        "\n",
        "df_woe_iv = (pd.crosstab(df_clean['API_CreditScore_Vendor_A_Bin'],df_clean['default'],normalize='columns')\n",
        "             .assign(woe=lambda dfx: np.log(dfx[1] / dfx[0]))\n",
        "             .assign(iv=lambda dfx: np.sum(dfx['woe']*\n",
        "                                           (dfx[1]-dfx[0]))))\n",
        "print(df_woe_iv)\n",
        "\n",
        "conditions = [\n",
        "             ( df_clean['API_CreditScore_Vendor_A'] <= 250 ), \n",
        "             ( df_clean['API_CreditScore_Vendor_A'] <= 750 ),\n",
        "             ( df_clean['API_CreditScore_Vendor_A'] > 750 )\n",
        "             ]\n",
        "\n",
        "choices = [\n",
        "          0.137238,\n",
        "          -0.026325,\n",
        "          -0.315583\n",
        "          ]\n",
        "df_clean['API_CreditScore_Vendor_A_WOE'] = np.select(conditions, choices)"
      ],
      "execution_count": 119,
      "outputs": [
        {
          "output_type": "stream",
          "name": "stdout",
          "text": [
            "default                         0    1\n",
            "API_CreditScore_Vendor_A_Bin          \n",
            "01.0-250                      208   99\n",
            "02.250-750                    386  156\n",
            "03.>750                        76   23\n",
            "02.250-750    57.172996\n",
            "01.0-250      32.383966\n",
            "03.>750       10.443038\n",
            "Name: API_CreditScore_Vendor_A_Bin, dtype: float64\n",
            "default                              0         1       woe        iv\n",
            "API_CreditScore_Vendor_A_Bin                                        \n",
            "01.0-250                      0.310448  0.356115  0.137238  0.016349\n",
            "02.250-750                    0.576119  0.561151 -0.026325  0.016349\n",
            "03.>750                       0.113433  0.082734 -0.315583  0.016349\n"
          ]
        }
      ]
    },
    {
      "cell_type": "code",
      "metadata": {
        "id": "Wyxe7td1mvkC",
        "colab": {
          "base_uri": "https://localhost:8080/"
        },
        "outputId": "3cb56722-878a-4f07-ee9c-1a8f7974e8af"
      },
      "source": [
        "# Variabel Lama_Cicilan\n",
        "\n",
        "# Untuk melihat proporsi (dalam persentase) dari variabel Lama_Cicilan\n",
        "print(df_clean['Lama_Cicilan'].value_counts(normalize=True) * 100)\n",
        "\n",
        "df_woe_iv = (pd.crosstab(df_clean['Lama_Cicilan'],df_clean['default'],normalize='columns')\n",
        "             .assign(woe=lambda dfx: np.log(dfx[1] / dfx[0]))\n",
        "             .assign(iv=lambda dfx: np.sum(dfx['woe']*\n",
        "                                           (dfx[1]-dfx[0]))))\n",
        "\n",
        "print(df_woe_iv)\n",
        "\n",
        "conditions = [\n",
        "             ( df_clean['Lama_Cicilan'] == 1 ), \n",
        "             ( df_clean['Lama_Cicilan'] == 2 ), \n",
        "             ( df_clean['Lama_Cicilan'] == 3 ), \n",
        "             ( df_clean['Lama_Cicilan'] == 4 ), \n",
        "             ( df_clean['Lama_Cicilan'] == 5 ), \n",
        "             ( df_clean['Lama_Cicilan'] == 6 )\n",
        "             ]\n",
        "\n",
        "choices = [\n",
        "          '1_bulan',\n",
        "          '2_bulan',\n",
        "          '3_bulan',\n",
        "          '4_bulan',\n",
        "          '5_bulan',\n",
        "          '6_bulan'\n",
        "          ]\n",
        "df_clean['Lama_Cicilan_Bin'] = np.select(conditions, choices)\n",
        "\n",
        "print(pd.crosstab(df_clean['Lama_Cicilan_Bin'], df_clean['default']))\n",
        "\n",
        "df_woe_iv = (pd.crosstab(df_clean['Lama_Cicilan_Bin'],df_clean['default'],normalize='columns')\n",
        "             .assign(woe=lambda dfx: np.log(dfx[1] / dfx[0]))\n",
        "             .assign(iv=lambda dfx: np.sum(dfx['woe']*\n",
        "                                           (dfx[1]-dfx[0]))))\n",
        "print(df_woe_iv)\n",
        "\n",
        "conditions = [\n",
        "             ( df_clean['Lama_Cicilan'] == 1 ), \n",
        "             ( df_clean['Lama_Cicilan'] == 2 ), \n",
        "             ( df_clean['Lama_Cicilan'] == 3 ), \n",
        "             ( df_clean['Lama_Cicilan'] == 4 ), \n",
        "             ( df_clean['Lama_Cicilan'] == 5 ), \n",
        "             ( df_clean['Lama_Cicilan'] == 6 )\n",
        "             ]\n",
        "\n",
        "choices = [\n",
        "          0.261630,\n",
        "          -0.610435,\n",
        "          -0.094903,\n",
        "          -0.564457,\n",
        "          -0.357106,\n",
        "          0.348352\n",
        "          ]\n",
        "df_clean['Lama_Cicilan_WOE'] = np.select(conditions, choices)"
      ],
      "execution_count": 120,
      "outputs": [
        {
          "output_type": "stream",
          "name": "stdout",
          "text": [
            "6.0    24.789030\n",
            "3.0    23.101266\n",
            "1.0    22.890295\n",
            "4.0    11.603376\n",
            "2.0     9.177215\n",
            "5.0     8.438819\n",
            "Name: Lama_Cicilan, dtype: float64\n",
            "default              0         1       woe        iv\n",
            "Lama_Cicilan                                        \n",
            "1.0           0.210448  0.273381  0.261630  0.122392\n",
            "2.0           0.105970  0.057554 -0.610435  0.122392\n",
            "3.0           0.237313  0.215827 -0.094903  0.122392\n",
            "4.0           0.132836  0.075540 -0.564457  0.122392\n",
            "5.0           0.092537  0.064748 -0.357106  0.122392\n",
            "6.0           0.220896  0.312950  0.348352  0.122392\n",
            "default             0   1\n",
            "Lama_Cicilan_Bin         \n",
            "1_bulan           141  76\n",
            "2_bulan            71  16\n",
            "3_bulan           159  60\n",
            "4_bulan            89  21\n",
            "5_bulan            62  18\n",
            "6_bulan           148  87\n",
            "default                  0         1       woe        iv\n",
            "Lama_Cicilan_Bin                                        \n",
            "1_bulan           0.210448  0.273381  0.261630  0.122392\n",
            "2_bulan           0.105970  0.057554 -0.610435  0.122392\n",
            "3_bulan           0.237313  0.215827 -0.094903  0.122392\n",
            "4_bulan           0.132836  0.075540 -0.564457  0.122392\n",
            "5_bulan           0.092537  0.064748 -0.357106  0.122392\n",
            "6_bulan           0.220896  0.312950  0.348352  0.122392\n"
          ]
        }
      ]
    },
    {
      "cell_type": "code",
      "metadata": {
        "id": "lxWSC99NrNRO",
        "colab": {
          "base_uri": "https://localhost:8080/"
        },
        "outputId": "c4c71aec-ad0a-4d35-9e6c-b3afc07f6d1d"
      },
      "source": [
        "# Variabel Device_Apps_Segmentation\n",
        "\n",
        "# Untuk melihat proporsi (dalam persentase) dari variabel Device_Apps_Segmentation\n",
        "print(df_clean['Device_Apps_Segmentation'].value_counts(normalize=True) * 100)\n",
        "\n",
        "df_woe_iv = (pd.crosstab(df_clean['Device_Apps_Segmentation'],df_clean['default'],normalize='columns')\n",
        "             .assign(woe=lambda dfx: np.log(dfx[1] / dfx[0]))\n",
        "             .assign(iv=lambda dfx: np.sum(dfx['woe']*\n",
        "                                           (dfx[1]-dfx[0]))))\n",
        "\n",
        "print(df_woe_iv)\n",
        "\n",
        "conditions = [\n",
        "             ( df_clean['Device_Apps_Segmentation'] == 'Productivity' ), \n",
        "             ( df_clean['Device_Apps_Segmentation'] == 'Social_Media' ), \n",
        "             ( df_clean['Device_Apps_Segmentation'] == 'Shopping' ), \n",
        "             ( df_clean['Device_Apps_Segmentation'] == 'Games' ), \n",
        "             ( df_clean['Device_Apps_Segmentation'] == 'Online_Lending' )\n",
        "             ]\n",
        "\n",
        "choices = [\n",
        "          'Productivity',\n",
        "          'Social_Media',\n",
        "          'Shopping',\n",
        "          'Games',\n",
        "          'Online_Lending'\n",
        "          ]\n",
        "df_clean['Device_Apps_Segmentation_Bin'] = np.select(conditions, choices)\n",
        "\n",
        "print(pd.crosstab(df_clean['Device_Apps_Segmentation_Bin'], df_clean['default']))\n",
        "\n",
        "df_woe_iv = (pd.crosstab(df_clean['Device_Apps_Segmentation_Bin'],df_clean['default'],normalize='columns')\n",
        "             .assign(woe=lambda dfx: np.log(dfx[1] / dfx[0]))\n",
        "             .assign(iv=lambda dfx: np.sum(dfx['woe']*\n",
        "                                           (dfx[1]-dfx[0]))))\n",
        "print(df_woe_iv)\n",
        "\n",
        "conditions = [\n",
        "             ( df_clean['Device_Apps_Segmentation'] == 'Productivity' ), \n",
        "             ( df_clean['Device_Apps_Segmentation'] == 'Social_Media' ), \n",
        "             ( df_clean['Device_Apps_Segmentation'] == 'Shopping' ), \n",
        "             ( df_clean['Device_Apps_Segmentation'] == 'Games' ), \n",
        "             ( df_clean['Device_Apps_Segmentation'] == 'Online_Lending' )\n",
        "             ]\n",
        "\n",
        "choices = [\n",
        "          -0.384035,\n",
        "          -0.044447,\n",
        "          -0.280831,\n",
        "          0.141253,\n",
        "          0.711034\n",
        "          ]\n",
        "df_clean['Device_Apps_Segmentation_WOE'] = np.select(conditions, choices)"
      ],
      "execution_count": 121,
      "outputs": [
        {
          "output_type": "stream",
          "name": "stdout",
          "text": [
            "Social_Media      37.869198\n",
            "Shopping          20.780591\n",
            "Games             17.616034\n",
            "Productivity      12.447257\n",
            "Online_Lending    11.286920\n",
            "Name: Device_Apps_Segmentation, dtype: float64\n",
            "default                          0         1       woe       iv\n",
            "Device_Apps_Segmentation                                       \n",
            "Games                     0.168657  0.194245  0.141253  0.10034\n",
            "Online_Lending            0.086567  0.176259  0.711034  0.10034\n",
            "Productivity              0.137313  0.093525 -0.384035  0.10034\n",
            "Shopping                  0.223881  0.169065 -0.280831  0.10034\n",
            "Social_Media              0.383582  0.366906 -0.044447  0.10034\n",
            "default                         0    1\n",
            "Device_Apps_Segmentation_Bin          \n",
            "Games                         113   54\n",
            "Online_Lending                 58   49\n",
            "Productivity                   92   26\n",
            "Shopping                      150   47\n",
            "Social_Media                  257  102\n",
            "default                              0         1       woe       iv\n",
            "Device_Apps_Segmentation_Bin                                       \n",
            "Games                         0.168657  0.194245  0.141253  0.10034\n",
            "Online_Lending                0.086567  0.176259  0.711034  0.10034\n",
            "Productivity                  0.137313  0.093525 -0.384035  0.10034\n",
            "Shopping                      0.223881  0.169065 -0.280831  0.10034\n",
            "Social_Media                  0.383582  0.366906 -0.044447  0.10034\n"
          ]
        }
      ]
    },
    {
      "cell_type": "code",
      "metadata": {
        "id": "rP359J4H9kC4",
        "colab": {
          "base_uri": "https://localhost:8080/"
        },
        "outputId": "8d099066-25f4-4acc-ee9a-cd6ad0f994b0"
      },
      "source": [
        "# Variabel API_CreditScore_Vendor_B\n",
        "\n",
        "conditions = [\n",
        "             ( df_clean['API_CreditScore_Vendor_B'] <= 100 ),\n",
        "             ( df_clean['API_CreditScore_Vendor_B'] <= 175 ),\n",
        "             ( df_clean['API_CreditScore_Vendor_B'] <= 225 ),\n",
        "             ( df_clean['API_CreditScore_Vendor_B'] <= 299 ),\n",
        "             ( df_clean['API_CreditScore_Vendor_B'] > 299 )\n",
        "             ]\n",
        "\n",
        "choices = [\n",
        "          '1.0-100',\n",
        "          '2.101-175',\n",
        "          '3.176-225',\n",
        "          '4.226-299',\n",
        "          '5.>299'\n",
        "          ]\n",
        "df_clean['API_CreditScore_Vendor_B_Bin'] = np.select(conditions, choices)\n",
        "\n",
        "print(pd.crosstab(df_clean['API_CreditScore_Vendor_B_Bin'], df_clean['default']))\n",
        "\n",
        "# Untuk melihat proporsi (dalam persentase) dari variabel API_CreditScore_Vendor_A_Bin\n",
        "print(df_clean['API_CreditScore_Vendor_B_Bin'].value_counts(normalize=True) * 100)\n",
        "\n",
        "df_woe_iv = (pd.crosstab(df_clean['API_CreditScore_Vendor_B_Bin'],df_clean['default'],normalize='columns')\n",
        "             .assign(woe=lambda dfx: np.log(dfx[1] / dfx[0]))\n",
        "             .assign(iv=lambda dfx: np.sum(dfx['woe']*\n",
        "                                           (dfx[1]-dfx[0]))))\n",
        "print(df_woe_iv)\n",
        "\n",
        "conditions = [\n",
        "             ( df_clean['API_CreditScore_Vendor_B'] <= 100 ),\n",
        "             ( df_clean['API_CreditScore_Vendor_B'] <= 175 ),\n",
        "             ( df_clean['API_CreditScore_Vendor_B'] <= 225 ),\n",
        "             ( df_clean['API_CreditScore_Vendor_B'] <= 299 ),\n",
        "             ( df_clean['API_CreditScore_Vendor_B'] > 299 )\n",
        "             ]\n",
        "\n",
        "choices = [\n",
        "          0.290050,\n",
        "          0.218945,\n",
        "          0.148043,\n",
        "          0.123331,\n",
        "          -2.850045\n",
        "          ]\n",
        "df_clean['API_CreditScore_Vendor_B_WOE'] = np.select(conditions, choices)"
      ],
      "execution_count": 122,
      "outputs": [
        {
          "output_type": "stream",
          "name": "stdout",
          "text": [
            "default                         0   1\n",
            "API_CreditScore_Vendor_B_Bin         \n",
            "1.0-100                       110  61\n",
            "2.101-175                     182  94\n",
            "3.176-225                     106  51\n",
            "4.226-299                     147  69\n",
            "5.>299                        125   3\n",
            "2.101-175    29.113924\n",
            "4.226-299    22.784810\n",
            "1.0-100      18.037975\n",
            "3.176-225    16.561181\n",
            "5.>299       13.502110\n",
            "Name: API_CreditScore_Vendor_B_Bin, dtype: float64\n",
            "default                              0         1       woe        iv\n",
            "API_CreditScore_Vendor_B_Bin                                        \n",
            "1.0-100                       0.164179  0.219424  0.290050  0.538839\n",
            "2.101-175                     0.271642  0.338129  0.218945  0.538839\n",
            "3.176-225                     0.158209  0.183453  0.148043  0.538839\n",
            "4.226-299                     0.219403  0.248201  0.123331  0.538839\n",
            "5.>299                        0.186567  0.010791 -2.850045  0.538839\n"
          ]
        }
      ]
    },
    {
      "cell_type": "code",
      "metadata": {
        "id": "z2Zp_hwRf4P5",
        "colab": {
          "base_uri": "https://localhost:8080/"
        },
        "outputId": "68f25f7e-19ba-4004-91a5-5bcc6f1249c5"
      },
      "source": [
        "# Variabel Mobile_Provider\n",
        "\n",
        "# Untuk melihat proporsi (dalam persentase) dari variabel Device_Apps_Segmentation\n",
        "print(df_clean['Mobile_Provider'].value_counts(normalize=True) * 100)\n",
        "\n",
        "print(pd.crosstab(df_clean['Mobile_Provider'], df_clean['default']))\n",
        "\n",
        "df_woe_iv = (pd.crosstab(df_clean['Mobile_Provider'],df_clean['default'],normalize='columns')\n",
        "             .assign(woe=lambda dfx: np.log(dfx[1] / dfx[0]))\n",
        "             .assign(iv=lambda dfx: np.sum(dfx['woe']*\n",
        "                                           (dfx[1]-dfx[0]))))\n",
        "\n",
        "print(df_woe_iv)\n",
        "\n",
        "conditions = [\n",
        "             ( df_clean['Mobile_Provider'] == 'Telco_A' ), \n",
        "             ( df_clean['Mobile_Provider'] == 'Telco_B' ), \n",
        "             ( df_clean['Mobile_Provider'] == 'Telco_C' ), \n",
        "             ( df_clean['Mobile_Provider'] == 'Telco_D' ), \n",
        "             ( df_clean['Mobile_Provider'] == 'Telco_E' )\n",
        "             ]\n",
        "\n",
        "choices = [\n",
        "          'Telco_A',\n",
        "          'Telco_B',\n",
        "          'Telco_C',\n",
        "          'Telco_D',\n",
        "          'Telco_E'\n",
        "          ]\n",
        "df_clean['Mobile_Provider_Bin'] = np.select(conditions, choices)\n",
        "\n",
        "\n",
        "conditions = [\n",
        "             ( df_clean['Mobile_Provider'] == 'Telco_A' ), \n",
        "             ( df_clean['Mobile_Provider'] == 'Telco_B' ), \n",
        "             ( df_clean['Mobile_Provider'] == 'Telco_C' ), \n",
        "             ( df_clean['Mobile_Provider'] == 'Telco_D' ), \n",
        "             ( df_clean['Mobile_Provider'] == 'Telco_E' )\n",
        "             ]\n",
        "\n",
        "choices = [\n",
        "          -0.434317,\n",
        "          -0.059624,\n",
        "          -0.171553,\n",
        "          0.389450,\n",
        "          0.995488\n",
        "          ]\n",
        "df_clean['Mobile_Provider_WOE'] = np.select(conditions, choices)"
      ],
      "execution_count": 123,
      "outputs": [
        {
          "output_type": "stream",
          "name": "stdout",
          "text": [
            "Telco_A    42.827004\n",
            "Telco_B    16.139241\n",
            "Telco_C    14.662447\n",
            "Telco_D    13.607595\n",
            "Telco_E    12.763713\n",
            "Name: Mobile_Provider, dtype: float64\n",
            "default            0   1\n",
            "Mobile_Provider         \n",
            "Telco_A          320  86\n",
            "Telco_B          110  43\n",
            "Telco_C          103  36\n",
            "Telco_D           80  49\n",
            "Telco_E           57  64\n",
            "default                 0         1       woe        iv\n",
            "Mobile_Provider                                        \n",
            "Telco_A          0.477612  0.309353 -0.434317  0.244431\n",
            "Telco_B          0.164179  0.154676 -0.059624  0.244431\n",
            "Telco_C          0.153731  0.129496 -0.171553  0.244431\n",
            "Telco_D          0.119403  0.176259  0.389450  0.244431\n",
            "Telco_E          0.085075  0.230216  0.995488  0.244431\n"
          ]
        }
      ]
    },
    {
      "cell_type": "code",
      "metadata": {
        "id": "5nY0_Su0_nBB",
        "colab": {
          "base_uri": "https://localhost:8080/"
        },
        "outputId": "3782df6a-68c7-4861-9932-0a1621327f99"
      },
      "source": [
        "# Variabel Device_Apps_Installed\n",
        "\n",
        "conditions = [\n",
        "             ( df_clean['Device_Apps_Installed'] <= 5 ),\n",
        "             ( df_clean['Device_Apps_Installed'] <= 10 ),\n",
        "             ( df_clean['Device_Apps_Installed'] <= 15 ),\n",
        "             ( df_clean['Device_Apps_Installed'] <= 20 ),\n",
        "             ( df_clean['Device_Apps_Installed'] <= 30 ),\n",
        "             ( df_clean['Device_Apps_Installed'] > 30 )\n",
        "             ]\n",
        "\n",
        "choices = [\n",
        "          '1.0-5',\n",
        "          '2.5-10',\n",
        "          '3.10-15',\n",
        "          '4.15-20',\n",
        "          '5.20-30',\n",
        "          '6.>30'\n",
        "          ]\n",
        "df_clean['Device_Apps_Installed_Bin'] = np.select(conditions, choices)\n",
        "\n",
        "print(pd.crosstab(df_clean['Device_Apps_Installed_Bin'], df_clean['default']))\n",
        "\n",
        "# Untuk melihat proporsi (dalam persentase) dari variabel API_CreditScore_Vendor_A_Bin\n",
        "print(df_clean['Device_Apps_Installed_Bin'].value_counts(normalize=True) * 100)\n",
        "\n",
        "df_woe_iv = (pd.crosstab(df_clean['Device_Apps_Installed_Bin'],df_clean['default'],normalize='columns')\n",
        "             .assign(woe=lambda dfx: np.log(dfx[1] / dfx[0]))\n",
        "             .assign(iv=lambda dfx: np.sum(dfx['woe']*\n",
        "                                           (dfx[1]-dfx[0]))))\n",
        "print(df_woe_iv)\n",
        "\n",
        "conditions = [\n",
        "             ( df_clean['Device_Apps_Installed'] <= 5 ),\n",
        "             ( df_clean['Device_Apps_Installed'] <= 10 ),\n",
        "             ( df_clean['Device_Apps_Installed'] <= 15 ),\n",
        "             ( df_clean['Device_Apps_Installed'] <= 20 ),\n",
        "             ( df_clean['Device_Apps_Installed'] <= 30 ),\n",
        "             ( df_clean['Device_Apps_Installed'] > 30 )\n",
        "             ]\n",
        "\n",
        "choices = [\n",
        "          0.583391,\n",
        "          0.234828,\n",
        "          0.195478,\n",
        "          -0.057468,\n",
        "          -0.104180,\n",
        "          -0.781075\n",
        "          ]\n",
        "df_clean['Device_Apps_Installed_WOE'] = np.select(conditions, choices)"
      ],
      "execution_count": 124,
      "outputs": [
        {
          "output_type": "stream",
          "name": "stdout",
          "text": [
            "default                      0   1\n",
            "Device_Apps_Installed_Bin         \n",
            "1.0-5                       39  29\n",
            "2.5-10                     101  53\n",
            "3.10-15                    111  56\n",
            "4.15-20                     97  38\n",
            "5.20-30                    222  83\n",
            "6.>30                      100  19\n",
            "5.20-30    32.172996\n",
            "3.10-15    17.616034\n",
            "2.5-10     16.244726\n",
            "4.15-20    14.240506\n",
            "6.>30      12.552743\n",
            "1.0-5       7.172996\n",
            "Name: Device_Apps_Installed_Bin, dtype: float64\n",
            "default                           0         1       woe        iv\n",
            "Device_Apps_Installed_Bin                                        \n",
            "1.0-5                      0.058209  0.104317  0.583391  0.110336\n",
            "2.5-10                     0.150746  0.190647  0.234828  0.110336\n",
            "3.10-15                    0.165672  0.201439  0.195478  0.110336\n",
            "4.15-20                    0.144776  0.136691 -0.057468  0.110336\n",
            "5.20-30                    0.331343  0.298561 -0.104180  0.110336\n",
            "6.>30                      0.149254  0.068345 -0.781075  0.110336\n"
          ]
        }
      ]
    },
    {
      "cell_type": "code",
      "metadata": {
        "id": "n3pJLqyN_tW-",
        "colab": {
          "base_uri": "https://localhost:8080/"
        },
        "outputId": "b5a6eec3-6623-40e1-aefe-0420d2b53c83"
      },
      "source": [
        "# Variabel Device_Active_Since\n",
        "\n",
        "# Untuk melihat proporsi (dalam persentase) dari variabel Device_Active_Since\n",
        "print(df_clean['Device_Active_Since'].value_counts(normalize=True) * 100)\n",
        "\n",
        "print(pd.crosstab(df_clean['Device_Active_Since'], df_clean['default']))\n",
        "\n",
        "df_woe_iv = (pd.crosstab(df_clean['Device_Active_Since'],df_clean['default'],normalize='columns')\n",
        "             .assign(woe=lambda dfx: np.log(dfx[1] / dfx[0]))\n",
        "             .assign(iv=lambda dfx: np.sum(dfx['woe']*\n",
        "                                           (dfx[1]-dfx[0]))))\n",
        "\n",
        "print(df_woe_iv)\n",
        "\n",
        "conditions = [\n",
        "             ( df_clean['Device_Active_Since'] == '1_Kurang_1_tahun' ), \n",
        "             ( df_clean['Device_Active_Since'] == '2_1_ke_3_tahun' ), \n",
        "             ( df_clean['Device_Active_Since'] == '3_Lebih_3_tahun' )\n",
        "             ]\n",
        "\n",
        "choices = [\n",
        "          '1_Kurang_1_tahun',\n",
        "          '2_1_ke_3_tahun',\n",
        "          '3_Lebih_3_tahun'\n",
        "          ]\n",
        "df_clean['Device_Active_Since_Bin'] = np.select(conditions, choices)\n",
        "\n",
        "\n",
        "conditions = [\n",
        "             ( df_clean['Device_Active_Since'] == '1_Kurang_1_tahun' ), \n",
        "             ( df_clean['Device_Active_Since'] == '2_1_ke_3_tahun' ), \n",
        "             ( df_clean['Device_Active_Since'] == '3_Lebih_3_tahun' )\n",
        "             ]\n",
        "\n",
        "choices = [\n",
        "          -0.041500,\n",
        "          -0.124465,\n",
        "          0.169268\n",
        "          ]\n",
        "df_clean['Device_Active_Since_WOE'] = np.select(conditions, choices)\n"
      ],
      "execution_count": 125,
      "outputs": [
        {
          "output_type": "stream",
          "name": "stdout",
          "text": [
            "2_1_ke_3_tahun      47.995781\n",
            "3_Lebih_3_tahun     36.814346\n",
            "1_Kurang_1_tahun    15.189873\n",
            "Name: Device_Active_Since, dtype: float64\n",
            "default                0    1\n",
            "Device_Active_Since          \n",
            "1_Kurang_1_tahun     103   41\n",
            "2_1_ke_3_tahun       333  122\n",
            "3_Lebih_3_tahun      234  115\n",
            "default                     0         1       woe        iv\n",
            "Device_Active_Since                                        \n",
            "1_Kurang_1_tahun     0.153731  0.147482 -0.041500  0.018402\n",
            "2_1_ke_3_tahun       0.497015  0.438849 -0.124465  0.018402\n",
            "3_Lebih_3_tahun      0.349254  0.413669  0.169268  0.018402\n"
          ]
        }
      ]
    },
    {
      "cell_type": "code",
      "metadata": {
        "id": "94nCahAKCrIH",
        "colab": {
          "base_uri": "https://localhost:8080/"
        },
        "outputId": "e92d2891-d7fa-4d65-c74f-4cf043a47291"
      },
      "source": [
        "# Variabel Mobile_Number_Active_Since\n",
        "\n",
        "# Untuk melihat proporsi (dalam persentase) dari variabel Device_Active_Since\n",
        "print(df_clean['Mobile_Number_Active_Since'].value_counts(normalize=True) * 100)\n",
        "\n",
        "print(pd.crosstab(df_clean['Mobile_Number_Active_Since'], df_clean['default']))\n",
        "\n",
        "df_woe_iv = (pd.crosstab(df_clean['Mobile_Number_Active_Since'],df_clean['default'],normalize='columns')\n",
        "             .assign(woe=lambda dfx: np.log(dfx[1] / dfx[0]))\n",
        "             .assign(iv=lambda dfx: np.sum(dfx['woe']*\n",
        "                                           (dfx[1]-dfx[0]))))\n",
        "\n",
        "print(df_woe_iv)\n",
        "\n",
        "conditions = [\n",
        "             ( df_clean['Mobile_Number_Active_Since'] == '1_Kurang_1_bulan' ), \n",
        "             ( df_clean['Mobile_Number_Active_Since'] == '2_Kurang_1_tahun' ), \n",
        "             ( df_clean['Mobile_Number_Active_Since'] == '3_1_ke_2_tahun' ),\n",
        "             ( df_clean['Mobile_Number_Active_Since'] == '4_2_ke_5_tahun' ),\n",
        "             ( df_clean['Mobile_Number_Active_Since'] == '5_Lebih_5_tahun' )\n",
        "             ]\n",
        "\n",
        "choices = [\n",
        "          '1_Kurang_1_bulan',\n",
        "          '2_Kurang_1_tahun',\n",
        "          '3_1_ke_2_tahun',\n",
        "          '4_2_ke_5_tahun',\n",
        "          '5_Lebih_5_tahun',\n",
        "          ]\n",
        "df_clean['Mobile_Number_Active_Since_Bin'] = np.select(conditions, choices)\n",
        "\n",
        "\n",
        "conditions = [\n",
        "             ( df_clean['Mobile_Number_Active_Since'] == '1_Kurang_1_bulan' ), \n",
        "             ( df_clean['Mobile_Number_Active_Since'] == '2_Kurang_1_tahun' ), \n",
        "             ( df_clean['Mobile_Number_Active_Since'] == '3_1_ke_2_tahun' ),\n",
        "             ( df_clean['Mobile_Number_Active_Since'] == '4_2_ke_5_tahun' ),\n",
        "             ( df_clean['Mobile_Number_Active_Since'] == '5_Lebih_5_tahun' )\n",
        "             ]\n",
        "\n",
        "choices = [\n",
        "          0.407297,\n",
        "          0.238695,\n",
        "          -0.074022,\n",
        "          -0.362057,\n",
        "          -0.624421\n",
        "          ]\n",
        "df_clean['Mobile_Number_Active_Since_WOE'] = np.select(conditions, choices)"
      ],
      "execution_count": 126,
      "outputs": [
        {
          "output_type": "stream",
          "name": "stdout",
          "text": [
            "1_Kurang_1_bulan    29.113924\n",
            "5_Lebih_5_tahun     18.565401\n",
            "4_2_ke_5_tahun      18.354430\n",
            "2_Kurang_1_tahun    18.037975\n",
            "3_1_ke_2_tahun      15.928270\n",
            "Name: Mobile_Number_Active_Since, dtype: float64\n",
            "default                       0    1\n",
            "Mobile_Number_Active_Since          \n",
            "1_Kurang_1_bulan            170  106\n",
            "2_Kurang_1_tahun            112   59\n",
            "3_1_ke_2_tahun              109   42\n",
            "4_2_ke_5_tahun              135   39\n",
            "5_Lebih_5_tahun             144   32\n",
            "default                            0         1       woe       iv\n",
            "Mobile_Number_Active_Since                                       \n",
            "1_Kurang_1_bulan            0.253731  0.381295  0.407297  0.14806\n",
            "2_Kurang_1_tahun            0.167164  0.212230  0.238695  0.14806\n",
            "3_1_ke_2_tahun              0.162687  0.151079 -0.074022  0.14806\n",
            "4_2_ke_5_tahun              0.201493  0.140288 -0.362057  0.14806\n",
            "5_Lebih_5_tahun             0.214925  0.115108 -0.624421  0.14806\n"
          ]
        }
      ]
    },
    {
      "cell_type": "markdown",
      "metadata": {
        "id": "Rf3CvR4En0bw"
      },
      "source": [
        "## 2.3.3.1.1 Variabel Debt Burden Ratio (DBR)"
      ]
    },
    {
      "cell_type": "code",
      "metadata": {
        "id": "ugFhwCFJq3C1"
      },
      "source": [
        "conditions = [\n",
        "             ( df_clean['Pendapatan_perbulan'] == '1. < 1 juta' ),\n",
        "             ( df_clean['Pendapatan_perbulan'] == '2. 1 - 5 juta' ),\n",
        "             ( df_clean['Pendapatan_perbulan'] == '3. 5 - 10 juta' ),\n",
        "             ( df_clean['Pendapatan_perbulan'] == '4. 10 - 20 juta' ),\n",
        "             ( df_clean['Pendapatan_perbulan'] == '5. >20 juta' )\n",
        "             ]\n",
        "\n",
        "choices = [\n",
        "          ( (df_clean['SLIK_Cicilan_Bulanan'] + (df_clean['SLIK_Outstanding_CC'] * 0.1) ) / 1000000 ),\n",
        "          ( (df_clean['SLIK_Cicilan_Bulanan'] + (df_clean['SLIK_Outstanding_CC'] * 0.1) ) / 5000000 ),\n",
        "          ( (df_clean['SLIK_Cicilan_Bulanan'] + (df_clean['SLIK_Outstanding_CC'] * 0.1) ) / 10000000 ),\n",
        "          ( (df_clean['SLIK_Cicilan_Bulanan'] + (df_clean['SLIK_Outstanding_CC'] * 0.1) ) / 20000000 ),\n",
        "          ( (df_clean['SLIK_Cicilan_Bulanan'] + (df_clean['SLIK_Outstanding_CC'] * 0.1) ) / 30000000 )\n",
        "          ]\n",
        "df_clean['DBR'] = np.select(conditions, choices)"
      ],
      "execution_count": 127,
      "outputs": []
    },
    {
      "cell_type": "markdown",
      "metadata": {
        "id": "Xt_8etPjn5Oc"
      },
      "source": [
        "## 2.3.3.1.2 Apakah alamat kantor dan rumah berdekatan?\n"
      ]
    },
    {
      "cell_type": "code",
      "metadata": {
        "id": "dWiNIMfWtwly"
      },
      "source": [
        "conditions = [\n",
        "             ( df_clean['Alamat_Rumah'] == df_clean['Alamat_Kantor'] ),\n",
        "             ( df_clean['Alamat_Rumah'] != df_clean['Alamat_Kantor'] ),\n",
        "             ]\n",
        "\n",
        "choices = [\n",
        "          '1.Rumah_Kantor_Dekat',\n",
        "          '2.Rumah_Kantor_Jauh'\n",
        "          ]\n",
        "df_clean['Alamat_Rumah_Kantor'] = np.select(conditions, choices)"
      ],
      "execution_count": 128,
      "outputs": []
    },
    {
      "cell_type": "code",
      "metadata": {
        "id": "4g1-7WIpDb5m",
        "colab": {
          "base_uri": "https://localhost:8080/"
        },
        "outputId": "728c537b-adc7-4a1a-f47d-5cb690f5d2e7"
      },
      "source": [
        "# Variabel DBR\n",
        "\n",
        "conditions = [\n",
        "             ( df_clean['DBR'] <= 0.00 ),\n",
        "             ( df_clean['DBR'] <= 0.10 ),\n",
        "             ( df_clean['DBR'] <= 0.20 ),\n",
        "             ( df_clean['DBR'] <= 0.30 ),\n",
        "             ( df_clean['DBR'] <= 0.40 ),\n",
        "             ( df_clean['DBR'] <= 0.50 ),\n",
        "             ( df_clean['DBR'] <= 0.60 ),\n",
        "             ( df_clean['DBR'] > 0.60 )\n",
        "             ]\n",
        "\n",
        "choices = [\n",
        "          '1.0%',\n",
        "          '2.0-10%',\n",
        "          '3.10-20%',\n",
        "          '4.20-30%',\n",
        "          '5.30-40%',\n",
        "          '6.40-50%',\n",
        "          '7.50-60%',\n",
        "          '8.>60%',\n",
        "          ]\n",
        "df_clean['DBR_Bin'] = np.select(conditions, choices)\n",
        "\n",
        "print(pd.crosstab(df_clean['DBR_Bin'], df_clean['default']))\n",
        "\n",
        "# Untuk melihat proporsi (dalam persentase) dari variabel API_CreditScore_Vendor_A_Bin\n",
        "print(df_clean['DBR_Bin'].value_counts(normalize=True) * 100)\n",
        "\n",
        "df_woe_iv = (pd.crosstab(df_clean['DBR_Bin'],df_clean['default'],normalize='columns')\n",
        "             .assign(woe=lambda dfx: np.log(dfx[1] / dfx[0]))\n",
        "             .assign(iv=lambda dfx: np.sum(dfx['woe']*\n",
        "                                           (dfx[1]-dfx[0]))))\n",
        "print(df_woe_iv)\n",
        "\n",
        "conditions = [\n",
        "             ( df_clean['DBR'] <= 0.0 ),\n",
        "             ( df_clean['DBR'] <= 0.1 ),\n",
        "             ( df_clean['DBR'] <= 0.2 ),\n",
        "             ( df_clean['DBR'] <= 0.3 ),\n",
        "             ( df_clean['DBR'] <= 0.4 ),\n",
        "             ( df_clean['DBR'] <= 0.5 ),\n",
        "             ( df_clean['DBR'] <= 0.6 ),\n",
        "             ( df_clean['DBR'] > 0.6 )\n",
        "             ]\n",
        "\n",
        "choices = [\n",
        "          1.145360,\n",
        "          -0.814122,\n",
        "          -0.303039,\n",
        "          -0.036634,\n",
        "          -0.072352,\n",
        "          0.062895,\n",
        "          0.142058,\n",
        "          0.728616,\n",
        "          ]\n",
        "df_clean['DBR_WOE'] = np.select(conditions, choices)"
      ],
      "execution_count": 129,
      "outputs": [
        {
          "output_type": "stream",
          "name": "stdout",
          "text": [
            "default     0   1\n",
            "DBR_Bin          \n",
            "1.0%       23  30\n",
            "2.0-10%   272  50\n",
            "3.10-20%   62  19\n",
            "4.20-30%   60  24\n",
            "5.30-40%   57  22\n",
            "6.40-50%   43  19\n",
            "7.50-60%   46  22\n",
            "8.>60%    107  92\n",
            "2.0-10%     33.966245\n",
            "8.>60%      20.991561\n",
            "4.20-30%     8.860759\n",
            "3.10-20%     8.544304\n",
            "5.30-40%     8.333333\n",
            "7.50-60%     7.172996\n",
            "6.40-50%     6.540084\n",
            "1.0%         5.590717\n",
            "Name: DBR_Bin, dtype: float64\n",
            "default          0         1       woe        iv\n",
            "DBR_Bin                                         \n",
            "1.0%      0.034328  0.107914  1.145360  0.402759\n",
            "2.0-10%   0.405970  0.179856 -0.814122  0.402759\n",
            "3.10-20%  0.092537  0.068345 -0.303039  0.402759\n",
            "4.20-30%  0.089552  0.086331 -0.036634  0.402759\n",
            "5.30-40%  0.085075  0.079137 -0.072352  0.402759\n",
            "6.40-50%  0.064179  0.068345  0.062895  0.402759\n",
            "7.50-60%  0.068657  0.079137  0.142058  0.402759\n",
            "8.>60%    0.159701  0.330935  0.728616  0.402759\n"
          ]
        }
      ]
    },
    {
      "cell_type": "code",
      "metadata": {
        "colab": {
          "base_uri": "https://localhost:8080/"
        },
        "id": "cgPQ19q6VEm7",
        "outputId": "43085806-0e7a-4072-81d6-339f1816be8b"
      },
      "source": [
        "# Variabel Alamat_Rumah_Kantor\n",
        "\n",
        "conditions = [\n",
        "             ( df_clean['Alamat_Rumah_Kantor'] == '1.Rumah_Kantor_Dekat' ),\n",
        "             ( df_clean['Alamat_Rumah_Kantor'] == '2.Rumah_Kantor_Jauh' )\n",
        "             ]\n",
        "\n",
        "choices = [\n",
        "          '1.Rumah_Kantor_Dekat',\n",
        "          '2.Rumah_Kantor_Jauh'\n",
        "          ]\n",
        "df_clean['Alamat_Rumah_Kantor_Bin'] = np.select(conditions, choices)\n",
        "\n",
        "print(pd.crosstab(df_clean['Alamat_Rumah_Kantor_Bin'], df_clean['default']))\n",
        "\n",
        "# Untuk melihat proporsi (dalam persentase) dari variabel API_CreditScore_Vendor_A_Bin\n",
        "print(df_clean['Alamat_Rumah_Kantor_Bin'].value_counts(normalize=True) * 100)\n",
        "\n",
        "df_woe_iv = (pd.crosstab(df_clean['Alamat_Rumah_Kantor_Bin'],df_clean['default'],normalize='columns')\n",
        "             .assign(woe=lambda dfx: np.log(dfx[1] / dfx[0]))\n",
        "             .assign(iv=lambda dfx: np.sum(dfx['woe']*\n",
        "                                           (dfx[1]-dfx[0]))))\n",
        "print(df_woe_iv)\n",
        "\n",
        "conditions = [\n",
        "             ( df_clean['Alamat_Rumah_Kantor'] == '1.Rumah_Kantor_Dekat' ),\n",
        "             ( df_clean['Alamat_Rumah_Kantor'] == '2.Rumah_Kantor_Jauh' )\n",
        "             ]\n",
        "\n",
        "choices = [\n",
        "          -0.313143,\n",
        "          0.092824\n",
        "          ]\n",
        "df_clean['Alamat_Rumah_Kantor_WOE'] = np.select(conditions, choices)"
      ],
      "execution_count": 130,
      "outputs": [
        {
          "output_type": "stream",
          "name": "stdout",
          "text": [
            "default                    0    1\n",
            "Alamat_Rumah_Kantor_Bin          \n",
            "1.Rumah_Kantor_Dekat     178   54\n",
            "2.Rumah_Kantor_Jauh      492  224\n",
            "2.Rumah_Kantor_Jauh     75.527426\n",
            "1.Rumah_Kantor_Dekat    24.472574\n",
            "Name: Alamat_Rumah_Kantor_Bin, dtype: float64\n",
            "default                         0         1       woe        iv\n",
            "Alamat_Rumah_Kantor_Bin                                        \n",
            "1.Rumah_Kantor_Dekat     0.265672  0.194245 -0.313143  0.028997\n",
            "2.Rumah_Kantor_Jauh      0.734328  0.805755  0.092824  0.028997\n"
          ]
        }
      ]
    },
    {
      "cell_type": "markdown",
      "metadata": {
        "id": "6fqNpS1Rn-Ap"
      },
      "source": [
        "## Latihan membuat variabel baru usia dan status\n"
      ]
    },
    {
      "cell_type": "code",
      "metadata": {
        "id": "_wSXIbYKA359"
      },
      "source": [
        "# Latihan membuat variabel baru usia dan status\n",
        "# Koding disini\n",
        "\n"
      ],
      "execution_count": 131,
      "outputs": []
    },
    {
      "cell_type": "markdown",
      "metadata": {
        "id": "f_sqDR6M48Qq"
      },
      "source": [
        "# Proses Modeling"
      ]
    },
    {
      "cell_type": "markdown",
      "metadata": {
        "id": "KSIy6eo85Awm"
      },
      "source": [
        "## Persiapan membuat model: Memilih Variabel Input"
      ]
    },
    {
      "cell_type": "code",
      "metadata": {
        "id": "JfIGL2QLrioC"
      },
      "source": [
        "# Persiapan membuat model\n",
        "# Memilih variabel yang akan diinput ke dalam model\n",
        "\n",
        "df_model_WOE = df_clean[['default','SLIK_Kolektibilitas_WOE','DBR_WOE','Device_Apps_Segmentation_WOE'\n",
        "                  ,'Lama_Cicilan_WOE','Usia_WOE','Device_Active_Since_WOE','API_CreditScore_Vendor_B_WOE'\n",
        "                  ,'Mobile_Provider_WOE','Tujuan_Pinjaman_WOE','Device_Apps_Installed_WOE','Mobile_Number_Active_Since_WOE'\n",
        "                  ,'Alamat_Rumah_Kantor_WOE'\n",
        "                  ]]\n",
        "df_model_Bin = df_clean[['default','SLIK_Kolektibilitas_Bin','DBR_Bin','Device_Apps_Segmentation_Bin'\n",
        "                  ,'Lama_Cicilan_Bin','Usia_Bin','Device_Active_Since_Bin','API_CreditScore_Vendor_B_Bin'\n",
        "                  ,'Mobile_Provider_Bin','Tujuan_Pinjaman_Bin','Device_Apps_Installed_Bin','Mobile_Number_Active_Since_Bin'\n",
        "                  ,'Alamat_Rumah_Kantor_Bin'\n",
        "                  ]]\n",
        "df_model = df_clean[['default','SLIK_Kolektibilitas','DBR','Device_Apps_Segmentation'\n",
        "                  ,'Lama_Cicilan','Usia','Device_Active_Since','API_CreditScore_Vendor_B'\n",
        "                  ,'Mobile_Provider','Tujuan_Pinjaman','Device_Apps_Installed','Mobile_Number_Active_Since'\n",
        "                  ,'Alamat_Rumah_Kantor'\n",
        "                  ]]"
      ],
      "execution_count": 132,
      "outputs": []
    },
    {
      "cell_type": "code",
      "metadata": {
        "id": "nmsU_19IWKun"
      },
      "source": [
        "# Dalam contoh ini tidak ada oversampling/undersampling"
      ],
      "execution_count": 133,
      "outputs": []
    },
    {
      "cell_type": "markdown",
      "metadata": {
        "id": "xNLiPNrW5Wb_"
      },
      "source": [
        "## Membagi dataset menjadi train dan test"
      ]
    },
    {
      "cell_type": "code",
      "metadata": {
        "id": "PX536cJfs5sI",
        "colab": {
          "base_uri": "https://localhost:8080/",
          "height": 17
        },
        "outputId": "54ab1efb-8c10-4130-fdfa-a8ae60185c70"
      },
      "source": [
        "# Membagi dataset menjadi development(train) dan test\n",
        "\n",
        "y = df_model_WOE.loc[:,'default']\n",
        "X = df_model_WOE.loc[:,df_model_WOE.columns != 'default']\n",
        "\n",
        "from sklearn.model_selection import train_test_split\n",
        "X_train, X_test, y_train, y_test = train_test_split(X, y, test_size=0.30, random_state=42)\n",
        "\n",
        "# Dalam bentuk dataframe lengkap\n",
        "df_train = pd.concat([X_train, y_train], axis = 1)\n",
        "df_test = pd.concat([X_test, y_test], axis = 1)\n",
        "\n",
        "# Menghapus indeks dari data yang telah dibuang\n",
        "df_train = df_train.reset_index(drop=True)\n",
        "df_test = df_test.reset_index(drop=True)\n",
        "\n",
        "# Untuk memudahkan membaca hasil, maka disimpan dalam bentuk csv dan didownload\n",
        "from google.colab import files\n",
        "df_train.to_csv('df_train.csv') \n",
        "files.download('df_train.csv')"
      ],
      "execution_count": 134,
      "outputs": [
        {
          "output_type": "display_data",
          "data": {
            "application/javascript": [
              "\n",
              "    async function download(id, filename, size) {\n",
              "      if (!google.colab.kernel.accessAllowed) {\n",
              "        return;\n",
              "      }\n",
              "      const div = document.createElement('div');\n",
              "      const label = document.createElement('label');\n",
              "      label.textContent = `Downloading \"${filename}\": `;\n",
              "      div.appendChild(label);\n",
              "      const progress = document.createElement('progress');\n",
              "      progress.max = size;\n",
              "      div.appendChild(progress);\n",
              "      document.body.appendChild(div);\n",
              "\n",
              "      const buffers = [];\n",
              "      let downloaded = 0;\n",
              "\n",
              "      const channel = await google.colab.kernel.comms.open(id);\n",
              "      // Send a message to notify the kernel that we're ready.\n",
              "      channel.send({})\n",
              "\n",
              "      for await (const message of channel.messages) {\n",
              "        // Send a message to notify the kernel that we're ready.\n",
              "        channel.send({})\n",
              "        if (message.buffers) {\n",
              "          for (const buffer of message.buffers) {\n",
              "            buffers.push(buffer);\n",
              "            downloaded += buffer.byteLength;\n",
              "            progress.value = downloaded;\n",
              "          }\n",
              "        }\n",
              "      }\n",
              "      const blob = new Blob(buffers, {type: 'application/binary'});\n",
              "      const a = document.createElement('a');\n",
              "      a.href = window.URL.createObjectURL(blob);\n",
              "      a.download = filename;\n",
              "      div.appendChild(a);\n",
              "      a.click();\n",
              "      div.remove();\n",
              "    }\n",
              "  "
            ],
            "text/plain": [
              "<IPython.core.display.Javascript object>"
            ]
          },
          "metadata": {}
        },
        {
          "output_type": "display_data",
          "data": {
            "application/javascript": [
              "download(\"download_391dc538-5d1f-433c-abdc-3be51e1cfa25\", \"df_train.csv\", 74369)"
            ],
            "text/plain": [
              "<IPython.core.display.Javascript object>"
            ]
          },
          "metadata": {}
        }
      ]
    },
    {
      "cell_type": "markdown",
      "metadata": {
        "id": "E6HELMO65atK"
      },
      "source": [
        "## Modeling dengan logistic regression"
      ]
    },
    {
      "cell_type": "code",
      "metadata": {
        "id": "4ogRrGGQtHnd",
        "colab": {
          "base_uri": "https://localhost:8080/",
          "height": 536
        },
        "outputId": "64b38ad7-1668-46d1-e19e-6b8b17fc13d5"
      },
      "source": [
        "# Membuat scorecard dengan menggunakan algoritma logistic regression\n",
        "from sklearn.linear_model import LogisticRegression\n",
        "lr = LogisticRegression()\n",
        "lr.fit(X_train, y_train)\n",
        "\n",
        "print(lr.coef_)\n",
        "\n",
        "# For those that want to know the statistic modeling\n",
        "import numpy as np\n",
        "import statsmodels.api as sm\n",
        "\n",
        "model = sm.Logit(y_train, X_train)\n",
        "result = model.fit()\n",
        "\n",
        "result.summary()"
      ],
      "execution_count": 135,
      "outputs": [
        {
          "output_type": "stream",
          "name": "stdout",
          "text": [
            "[[0.76721243 0.76157741 0.76777736 0.64789686 0.8564418  0.80515421\n",
            "  0.90746467 0.89557887 0.56667674 1.08676197 0.6237702  1.15609872]]\n",
            "Optimization terminated successfully.\n",
            "         Current function value: 0.509299\n",
            "         Iterations 7\n"
          ]
        },
        {
          "output_type": "execute_result",
          "data": {
            "text/html": [
              "<table class=\"simpletable\">\n",
              "<caption>Logit Regression Results</caption>\n",
              "<tr>\n",
              "  <th>Dep. Variable:</th>        <td>default</td>     <th>  No. Observations:  </th>  <td>   663</td>  \n",
              "</tr>\n",
              "<tr>\n",
              "  <th>Model:</th>                 <td>Logit</td>      <th>  Df Residuals:      </th>  <td>   651</td>  \n",
              "</tr>\n",
              "<tr>\n",
              "  <th>Method:</th>                 <td>MLE</td>       <th>  Df Model:          </th>  <td>    11</td>  \n",
              "</tr>\n",
              "<tr>\n",
              "  <th>Date:</th>            <td>Sat, 06 Nov 2021</td> <th>  Pseudo R-squ.:     </th>  <td>0.1629</td>  \n",
              "</tr>\n",
              "<tr>\n",
              "  <th>Time:</th>                <td>01:30:57</td>     <th>  Log-Likelihood:    </th> <td> -337.67</td> \n",
              "</tr>\n",
              "<tr>\n",
              "  <th>converged:</th>             <td>True</td>       <th>  LL-Null:           </th> <td> -403.38</td> \n",
              "</tr>\n",
              "<tr>\n",
              "  <th>Covariance Type:</th>     <td>nonrobust</td>    <th>  LLR p-value:       </th> <td>8.941e-23</td>\n",
              "</tr>\n",
              "</table>\n",
              "<table class=\"simpletable\">\n",
              "<tr>\n",
              "                 <td></td>                   <th>coef</th>     <th>std err</th>      <th>z</th>      <th>P>|z|</th>  <th>[0.025</th>    <th>0.975]</th>  \n",
              "</tr>\n",
              "<tr>\n",
              "  <th>SLIK_Kolektibilitas_WOE</th>        <td>    0.7530</td> <td>    0.175</td> <td>    4.313</td> <td> 0.000</td> <td>    0.411</td> <td>    1.095</td>\n",
              "</tr>\n",
              "<tr>\n",
              "  <th>DBR_WOE</th>                        <td>    0.8843</td> <td>    0.153</td> <td>    5.789</td> <td> 0.000</td> <td>    0.585</td> <td>    1.184</td>\n",
              "</tr>\n",
              "<tr>\n",
              "  <th>Device_Apps_Segmentation_WOE</th>   <td>    0.9218</td> <td>    0.321</td> <td>    2.871</td> <td> 0.004</td> <td>    0.292</td> <td>    1.551</td>\n",
              "</tr>\n",
              "<tr>\n",
              "  <th>Lama_Cicilan_WOE</th>               <td>    0.8750</td> <td>    0.268</td> <td>    3.269</td> <td> 0.001</td> <td>    0.350</td> <td>    1.400</td>\n",
              "</tr>\n",
              "<tr>\n",
              "  <th>Usia_WOE</th>                       <td>    0.9228</td> <td>    0.311</td> <td>    2.968</td> <td> 0.003</td> <td>    0.313</td> <td>    1.532</td>\n",
              "</tr>\n",
              "<tr>\n",
              "  <th>Device_Active_Since_WOE</th>        <td>    1.2171</td> <td>    0.705</td> <td>    1.726</td> <td> 0.084</td> <td>   -0.165</td> <td>    2.599</td>\n",
              "</tr>\n",
              "<tr>\n",
              "  <th>API_CreditScore_Vendor_B_WOE</th>   <td>    0.7295</td> <td>    0.138</td> <td>    5.280</td> <td> 0.000</td> <td>    0.459</td> <td>    1.000</td>\n",
              "</tr>\n",
              "<tr>\n",
              "  <th>Mobile_Provider_WOE</th>            <td>    0.9288</td> <td>    0.204</td> <td>    4.557</td> <td> 0.000</td> <td>    0.529</td> <td>    1.328</td>\n",
              "</tr>\n",
              "<tr>\n",
              "  <th>Tujuan_Pinjaman_WOE</th>            <td>   -0.0173</td> <td>    0.186</td> <td>   -0.093</td> <td> 0.926</td> <td>   -0.382</td> <td>    0.347</td>\n",
              "</tr>\n",
              "<tr>\n",
              "  <th>Device_Apps_Installed_WOE</th>      <td>    1.0864</td> <td>    0.305</td> <td>    3.564</td> <td> 0.000</td> <td>    0.489</td> <td>    1.684</td>\n",
              "</tr>\n",
              "<tr>\n",
              "  <th>Mobile_Number_Active_Since_WOE</th> <td>    0.8136</td> <td>    0.250</td> <td>    3.248</td> <td> 0.001</td> <td>    0.323</td> <td>    1.305</td>\n",
              "</tr>\n",
              "<tr>\n",
              "  <th>Alamat_Rumah_Kantor_WOE</th>        <td>    1.5783</td> <td>    0.558</td> <td>    2.831</td> <td> 0.005</td> <td>    0.485</td> <td>    2.671</td>\n",
              "</tr>\n",
              "</table>"
            ],
            "text/plain": [
              "<class 'statsmodels.iolib.summary.Summary'>\n",
              "\"\"\"\n",
              "                           Logit Regression Results                           \n",
              "==============================================================================\n",
              "Dep. Variable:                default   No. Observations:                  663\n",
              "Model:                          Logit   Df Residuals:                      651\n",
              "Method:                           MLE   Df Model:                           11\n",
              "Date:                Sat, 06 Nov 2021   Pseudo R-squ.:                  0.1629\n",
              "Time:                        01:30:57   Log-Likelihood:                -337.67\n",
              "converged:                       True   LL-Null:                       -403.38\n",
              "Covariance Type:            nonrobust   LLR p-value:                 8.941e-23\n",
              "==================================================================================================\n",
              "                                     coef    std err          z      P>|z|      [0.025      0.975]\n",
              "--------------------------------------------------------------------------------------------------\n",
              "SLIK_Kolektibilitas_WOE            0.7530      0.175      4.313      0.000       0.411       1.095\n",
              "DBR_WOE                            0.8843      0.153      5.789      0.000       0.585       1.184\n",
              "Device_Apps_Segmentation_WOE       0.9218      0.321      2.871      0.004       0.292       1.551\n",
              "Lama_Cicilan_WOE                   0.8750      0.268      3.269      0.001       0.350       1.400\n",
              "Usia_WOE                           0.9228      0.311      2.968      0.003       0.313       1.532\n",
              "Device_Active_Since_WOE            1.2171      0.705      1.726      0.084      -0.165       2.599\n",
              "API_CreditScore_Vendor_B_WOE       0.7295      0.138      5.280      0.000       0.459       1.000\n",
              "Mobile_Provider_WOE                0.9288      0.204      4.557      0.000       0.529       1.328\n",
              "Tujuan_Pinjaman_WOE               -0.0173      0.186     -0.093      0.926      -0.382       0.347\n",
              "Device_Apps_Installed_WOE          1.0864      0.305      3.564      0.000       0.489       1.684\n",
              "Mobile_Number_Active_Since_WOE     0.8136      0.250      3.248      0.001       0.323       1.305\n",
              "Alamat_Rumah_Kantor_WOE            1.5783      0.558      2.831      0.005       0.485       2.671\n",
              "==================================================================================================\n",
              "\"\"\""
            ]
          },
          "metadata": {},
          "execution_count": 135
        }
      ]
    },
    {
      "cell_type": "code",
      "metadata": {
        "id": "znh3oQHT5iMz",
        "colab": {
          "base_uri": "https://localhost:8080/"
        },
        "outputId": "e7f27af7-fd30-40ab-e511-2f5ecf6dd94b"
      },
      "source": [
        "train_predict = lr.predict(X_train)\n",
        "test_predict = lr.predict(X_test)\n",
        "print(test_predict)\n",
        "# Cara adalah 0 jika bayar, dan 1 jika default"
      ],
      "execution_count": 136,
      "outputs": [
        {
          "output_type": "stream",
          "name": "stdout",
          "text": [
            "[0 0 1 0 0 1 0 0 0 0 0 0 0 0 0 0 0 0 0 1 1 0 1 0 0 0 0 0 0 0 0 0 1 0 0 0 0\n",
            " 1 0 0 0 1 0 0 1 0 0 0 0 0 0 0 0 1 0 1 0 0 0 1 0 0 1 0 0 1 1 0 0 1 0 0 0 0\n",
            " 0 0 0 1 0 0 0 1 0 0 0 1 0 0 0 0 0 0 0 0 0 0 1 1 0 0 0 0 1 1 0 1 1 0 1 0 0\n",
            " 0 1 0 1 0 0 0 1 0 0 1 0 1 1 0 0 0 0 1 1 0 1 0 0 0 0 0 0 1 0 0 0 0 0 1 1 0\n",
            " 1 0 0 0 0 1 1 0 0 0 0 0 0 0 0 0 0 0 0 0 0 1 0 0 0 0 1 0 1 0 0 1 0 0 0 0 0\n",
            " 0 0 1 0 0 1 0 0 0 0 0 0 0 0 0 1 0 0 0 0 1 0 0 0 0 1 0 0 0 0 1 1 0 0 0 0 0\n",
            " 0 0 0 0 0 0 0 0 0 0 0 0 0 0 0 0 0 0 1 1 0 1 0 0 0 0 1 0 0 0 0 0 0 1 0 0 1\n",
            " 1 0 0 0 0 1 0 0 0 0 1 0 0 0 0 0 0 1 0 1 0 0 0 0 0 0]\n"
          ]
        }
      ]
    },
    {
      "cell_type": "code",
      "metadata": {
        "id": "2M8VyKMB6L9O",
        "colab": {
          "base_uri": "https://localhost:8080/"
        },
        "outputId": "c7dfc3c3-7910-4774-a2b3-83e424ced0bc"
      },
      "source": [
        "test_pred_proba = lr.predict_proba(X_test)\n",
        "print(test_pred_proba)\n",
        "# Cara bacanya adalah 0.635 adalah probabilitas 0 dan 0.364 adaalah probabilitas 1\n",
        "# Dengan mengacu probabilitas 1 diatas 0.5 maka default / 1"
      ],
      "execution_count": 137,
      "outputs": [
        {
          "output_type": "stream",
          "name": "stdout",
          "text": [
            "[[0.68713839 0.31286161]\n",
            " [0.8294783  0.1705217 ]\n",
            " [0.20616922 0.79383078]\n",
            " [0.87562786 0.12437214]\n",
            " [0.61113193 0.38886807]\n",
            " [0.42684064 0.57315936]\n",
            " [0.90925436 0.09074564]\n",
            " [0.91079822 0.08920178]\n",
            " [0.98775303 0.01224697]\n",
            " [0.86826162 0.13173838]\n",
            " [0.93514794 0.06485206]\n",
            " [0.94826211 0.05173789]\n",
            " [0.83035239 0.16964761]\n",
            " [0.91222627 0.08777373]\n",
            " [0.97234472 0.02765528]\n",
            " [0.85444122 0.14555878]\n",
            " [0.79154783 0.20845217]\n",
            " [0.84599806 0.15400194]\n",
            " [0.69556829 0.30443171]\n",
            " [0.03737556 0.96262444]\n",
            " [0.4217949  0.5782051 ]\n",
            " [0.75256143 0.24743857]\n",
            " [0.12081318 0.87918682]\n",
            " [0.80696901 0.19303099]\n",
            " [0.88676516 0.11323484]\n",
            " [0.96283167 0.03716833]\n",
            " [0.86575855 0.13424145]\n",
            " [0.70176037 0.29823963]\n",
            " [0.9933755  0.0066245 ]\n",
            " [0.77286115 0.22713885]\n",
            " [0.98631999 0.01368001]\n",
            " [0.93350488 0.06649512]\n",
            " [0.03843494 0.96156506]\n",
            " [0.81171872 0.18828128]\n",
            " [0.96493038 0.03506962]\n",
            " [0.54702089 0.45297911]\n",
            " [0.55967349 0.44032651]\n",
            " [0.17135348 0.82864652]\n",
            " [0.85110803 0.14889197]\n",
            " [0.62141836 0.37858164]\n",
            " [0.65625329 0.34374671]\n",
            " [0.32371016 0.67628984]\n",
            " [0.82310847 0.17689153]\n",
            " [0.97849883 0.02150117]\n",
            " [0.26317532 0.73682468]\n",
            " [0.78477415 0.21522585]\n",
            " [0.55910566 0.44089434]\n",
            " [0.92495599 0.07504401]\n",
            " [0.6518732  0.3481268 ]\n",
            " [0.73738407 0.26261593]\n",
            " [0.95275492 0.04724508]\n",
            " [0.99479647 0.00520353]\n",
            " [0.98719889 0.01280111]\n",
            " [0.47719329 0.52280671]\n",
            " [0.9971266  0.0028734 ]\n",
            " [0.37789441 0.62210559]\n",
            " [0.99645652 0.00354348]\n",
            " [0.9955564  0.0044436 ]\n",
            " [0.71543498 0.28456502]\n",
            " [0.14336307 0.85663693]\n",
            " [0.9087972  0.0912028 ]\n",
            " [0.90604405 0.09395595]\n",
            " [0.06841628 0.93158372]\n",
            " [0.99300211 0.00699789]\n",
            " [0.86937355 0.13062645]\n",
            " [0.13520718 0.86479282]\n",
            " [0.42741548 0.57258452]\n",
            " [0.52944376 0.47055624]\n",
            " [0.83991939 0.16008061]\n",
            " [0.159101   0.840899  ]\n",
            " [0.57836978 0.42163022]\n",
            " [0.9429293  0.0570707 ]\n",
            " [0.79785145 0.20214855]\n",
            " [0.98716567 0.01283433]\n",
            " [0.92307249 0.07692751]\n",
            " [0.65600128 0.34399872]\n",
            " [0.7858081  0.2141919 ]\n",
            " [0.27009723 0.72990277]\n",
            " [0.86362961 0.13637039]\n",
            " [0.67853291 0.32146709]\n",
            " [0.86527402 0.13472598]\n",
            " [0.46793794 0.53206206]\n",
            " [0.95999419 0.04000581]\n",
            " [0.9854735  0.0145265 ]\n",
            " [0.93116336 0.06883664]\n",
            " [0.33534426 0.66465574]\n",
            " [0.67611383 0.32388617]\n",
            " [0.52211729 0.47788271]\n",
            " [0.69947426 0.30052574]\n",
            " [0.76033369 0.23966631]\n",
            " [0.88988991 0.11011009]\n",
            " [0.9352512  0.0647488 ]\n",
            " [0.99350605 0.00649395]\n",
            " [0.71535657 0.28464343]\n",
            " [0.53388175 0.46611825]\n",
            " [0.76909856 0.23090144]\n",
            " [0.1765571  0.8234429 ]\n",
            " [0.42113082 0.57886918]\n",
            " [0.79453074 0.20546926]\n",
            " [0.83529074 0.16470926]\n",
            " [0.79026286 0.20973714]\n",
            " [0.95231963 0.04768037]\n",
            " [0.46523328 0.53476672]\n",
            " [0.48964862 0.51035138]\n",
            " [0.87951698 0.12048302]\n",
            " [0.46605423 0.53394577]\n",
            " [0.13447579 0.86552421]\n",
            " [0.88329213 0.11670787]\n",
            " [0.15729785 0.84270215]\n",
            " [0.94806354 0.05193646]\n",
            " [0.86013467 0.13986533]\n",
            " [0.55141033 0.44858967]\n",
            " [0.48132761 0.51867239]\n",
            " [0.65579707 0.34420293]\n",
            " [0.26950235 0.73049765]\n",
            " [0.85566395 0.14433605]\n",
            " [0.84514141 0.15485859]\n",
            " [0.85617039 0.14382961]\n",
            " [0.33111641 0.66888359]\n",
            " [0.83564103 0.16435897]\n",
            " [0.51305443 0.48694557]\n",
            " [0.2821772  0.7178228 ]\n",
            " [0.64017042 0.35982958]\n",
            " [0.41539516 0.58460484]\n",
            " [0.44725608 0.55274392]\n",
            " [0.57495593 0.42504407]\n",
            " [0.70802272 0.29197728]\n",
            " [0.78789877 0.21210123]\n",
            " [0.72852182 0.27147818]\n",
            " [0.13956036 0.86043964]\n",
            " [0.40815972 0.59184028]\n",
            " [0.99440961 0.00559039]\n",
            " [0.41233461 0.58766539]\n",
            " [0.78792392 0.21207608]\n",
            " [0.65454029 0.34545971]\n",
            " [0.88172271 0.11827729]\n",
            " [0.50897714 0.49102286]\n",
            " [0.81549848 0.18450152]\n",
            " [0.94000571 0.05999429]\n",
            " [0.47255561 0.52744439]\n",
            " [0.52366325 0.47633675]\n",
            " [0.71630185 0.28369815]\n",
            " [0.98473685 0.01526315]\n",
            " [0.61315863 0.38684137]\n",
            " [0.67779392 0.32220608]\n",
            " [0.1222374  0.8777626 ]\n",
            " [0.44834535 0.55165465]\n",
            " [0.98532335 0.01467665]\n",
            " [0.40932195 0.59067805]\n",
            " [0.52463555 0.47536445]\n",
            " [0.90452042 0.09547958]\n",
            " [0.96954624 0.03045376]\n",
            " [0.92490739 0.07509261]\n",
            " [0.30494927 0.69505073]\n",
            " [0.26630566 0.73369434]\n",
            " [0.86981697 0.13018303]\n",
            " [0.68514884 0.31485116]\n",
            " [0.92490931 0.07509069]\n",
            " [0.83268271 0.16731729]\n",
            " [0.8992808  0.1007192 ]\n",
            " [0.94754701 0.05245299]\n",
            " [0.69129056 0.30870944]\n",
            " [0.91603519 0.08396481]\n",
            " [0.57983344 0.42016656]\n",
            " [0.90350069 0.09649931]\n",
            " [0.93340997 0.06659003]\n",
            " [0.89059245 0.10940755]\n",
            " [0.60086335 0.39913665]\n",
            " [0.99106361 0.00893639]\n",
            " [0.33974206 0.66025794]\n",
            " [0.76744202 0.23255798]\n",
            " [0.84460262 0.15539738]\n",
            " [0.56069803 0.43930197]\n",
            " [0.81279831 0.18720169]\n",
            " [0.44827231 0.55172769]\n",
            " [0.63171186 0.36828814]\n",
            " [0.37981597 0.62018403]\n",
            " [0.98631968 0.01368032]\n",
            " [0.60872543 0.39127457]\n",
            " [0.3566357  0.6433643 ]\n",
            " [0.823991   0.176009  ]\n",
            " [0.78533597 0.21466403]\n",
            " [0.93821805 0.06178195]\n",
            " [0.89565885 0.10434115]\n",
            " [0.57389062 0.42610938]\n",
            " [0.77995223 0.22004777]\n",
            " [0.60327252 0.39672748]\n",
            " [0.49575075 0.50424925]\n",
            " [0.73300176 0.26699824]\n",
            " [0.9471686  0.0528314 ]\n",
            " [0.04268272 0.95731728]\n",
            " [0.50649572 0.49350428]\n",
            " [0.61731312 0.38268688]\n",
            " [0.51201996 0.48798004]\n",
            " [0.86895504 0.13104496]\n",
            " [0.76734966 0.23265034]\n",
            " [0.97703669 0.02296331]\n",
            " [0.98642266 0.01357734]\n",
            " [0.70210865 0.29789135]\n",
            " [0.86315949 0.13684051]\n",
            " [0.41298969 0.58701031]\n",
            " [0.93408268 0.06591732]\n",
            " [0.81586339 0.18413661]\n",
            " [0.73503456 0.26496544]\n",
            " [0.67283832 0.32716168]\n",
            " [0.22326013 0.77673987]\n",
            " [0.98496318 0.01503682]\n",
            " [0.90058047 0.09941953]\n",
            " [0.86157571 0.13842429]\n",
            " [0.95710926 0.04289074]\n",
            " [0.42149269 0.57850731]\n",
            " [0.97093748 0.02906252]\n",
            " [0.87315519 0.12684481]\n",
            " [0.68576499 0.31423501]\n",
            " [0.70259807 0.29740193]\n",
            " [0.49862838 0.50137162]\n",
            " [0.30489895 0.69510105]\n",
            " [0.82323731 0.17676269]\n",
            " [0.69098209 0.30901791]\n",
            " [0.98658344 0.01341656]\n",
            " [0.92554353 0.07445647]\n",
            " [0.55085796 0.44914204]\n",
            " [0.55024968 0.44975032]\n",
            " [0.58024646 0.41975354]\n",
            " [0.57826198 0.42173802]\n",
            " [0.86953846 0.13046154]\n",
            " [0.98513968 0.01486032]\n",
            " [0.956784   0.043216  ]\n",
            " [0.79970224 0.20029776]\n",
            " [0.9926655  0.0073345 ]\n",
            " [0.65790369 0.34209631]\n",
            " [0.64966902 0.35033098]\n",
            " [0.98987698 0.01012302]\n",
            " [0.8501338  0.1498662 ]\n",
            " [0.69258549 0.30741451]\n",
            " [0.63201424 0.36798576]\n",
            " [0.79337558 0.20662442]\n",
            " [0.62710173 0.37289827]\n",
            " [0.83116288 0.16883712]\n",
            " [0.99466587 0.00533413]\n",
            " [0.42248129 0.57751871]\n",
            " [0.32027921 0.67972079]\n",
            " [0.98227368 0.01772632]\n",
            " [0.45265234 0.54734766]\n",
            " [0.76011132 0.23988868]\n",
            " [0.81047231 0.18952769]\n",
            " [0.86174955 0.13825045]\n",
            " [0.99893487 0.00106513]\n",
            " [0.48077308 0.51922692]\n",
            " [0.63287454 0.36712546]\n",
            " [0.55505807 0.44494193]\n",
            " [0.82428479 0.17571521]\n",
            " [0.89601566 0.10398434]\n",
            " [0.85999428 0.14000572]\n",
            " [0.52463657 0.47536343]\n",
            " [0.12498095 0.87501905]\n",
            " [0.98899488 0.01100512]\n",
            " [0.829606   0.170394  ]\n",
            " [0.35402861 0.64597139]\n",
            " [0.49788033 0.50211967]\n",
            " [0.5023224  0.4976776 ]\n",
            " [0.68052378 0.31947622]\n",
            " [0.84698527 0.15301473]\n",
            " [0.73841066 0.26158934]\n",
            " [0.49352488 0.50647512]\n",
            " [0.63041636 0.36958364]\n",
            " [0.91401024 0.08598976]\n",
            " [0.88136936 0.11863064]\n",
            " [0.66354875 0.33645125]\n",
            " [0.30682377 0.69317623]\n",
            " [0.91964385 0.08035615]\n",
            " [0.94107051 0.05892949]\n",
            " [0.75548876 0.24451124]\n",
            " [0.99349504 0.00650496]\n",
            " [0.68122955 0.31877045]\n",
            " [0.80690631 0.19309369]\n",
            " [0.47322677 0.52677323]\n",
            " [0.94416405 0.05583595]\n",
            " [0.44230252 0.55769748]\n",
            " [0.6477659  0.3522341 ]\n",
            " [0.73078011 0.26921989]\n",
            " [0.54204397 0.45795603]\n",
            " [0.99599382 0.00400618]\n",
            " [0.65709493 0.34290507]\n",
            " [0.94286459 0.05713541]]\n"
          ]
        }
      ]
    },
    {
      "cell_type": "code",
      "metadata": {
        "id": "Hl8xWP_u7BET",
        "colab": {
          "base_uri": "https://localhost:8080/"
        },
        "outputId": "2cb4dcba-b3dc-4c05-bd3d-dffdeb34ee27"
      },
      "source": [
        "# Bagaimana cara tahu bahwa model itu bagus atau tidak?\n",
        "# Pembahasan di bagian evaluasi model\n",
        "# koding nya adalah\n",
        "from sklearn.metrics import classification_report\n",
        "from sklearn.metrics import confusion_matrix\n",
        "# Obtain the results from the classification report and confusion matrix \n",
        "print('Classifcation report:\\n', classification_report(y_test, test_predict))\n",
        "conf_mat = confusion_matrix(y_true=y_test, y_pred=test_predict)\n",
        "print('Confusion matrix:\\n', conf_mat)\n",
        "\n",
        "# Print ROC_AUC score using probabilities\n",
        "from sklearn.metrics import r2_score, classification_report, confusion_matrix, accuracy_score, roc_auc_score, roc_curve, precision_recall_curve, average_precision_score\n",
        "print('ROC Score:', roc_auc_score(y_test, test_pred_proba[:, 1]))"
      ],
      "execution_count": 138,
      "outputs": [
        {
          "output_type": "stream",
          "name": "stdout",
          "text": [
            "Classifcation report:\n",
            "               precision    recall  f1-score   support\n",
            "\n",
            "           0       0.83      0.91      0.87       204\n",
            "           1       0.70      0.54      0.61        81\n",
            "\n",
            "    accuracy                           0.80       285\n",
            "   macro avg       0.77      0.73      0.74       285\n",
            "weighted avg       0.79      0.80      0.80       285\n",
            "\n",
            "Confusion matrix:\n",
            " [[185  19]\n",
            " [ 37  44]]\n",
            "ROC Score: 0.8305495037521181\n"
          ]
        }
      ]
    },
    {
      "cell_type": "markdown",
      "metadata": {
        "id": "QMUBI-kGx7lu"
      },
      "source": [
        "## Modeling logistic regression dengan Stepwise"
      ]
    },
    {
      "cell_type": "code",
      "metadata": {
        "id": "fDy2hUKGyBLI",
        "colab": {
          "base_uri": "https://localhost:8080/"
        },
        "outputId": "45809b63-e8e9-4a79-dbed-e0031f96236b"
      },
      "source": [
        "# Membuat scorecard dengan menggunakan algoritma logistic regression\n",
        "from sklearn.linear_model import LogisticRegression\n",
        "from sklearn.feature_selection import SequentialFeatureSelector\n",
        "\n",
        "lr = LogisticRegression()\n",
        "lr.fit(X_train, y_train)\n",
        "\n",
        "feature_names = np.array(X.columns)\n",
        "\n",
        "sfs_backward = SequentialFeatureSelector(\n",
        "    lr, n_features_to_select=None, direction=\"backward\"\n",
        ").fit(X_train, y_train)\n",
        "\n",
        "print(\n",
        "    'Variabel signifikan stepwise backward: ', feature_names[sfs_backward.get_support()]\n",
        ")\n",
        "\n",
        "sfs_forward = SequentialFeatureSelector(\n",
        "    lr, n_features_to_select=None, direction=\"forward\"\n",
        ").fit(X_train, y_train)\n",
        "\n",
        "print(\n",
        "    'Variabel signifikan stepwise forward: ', feature_names[sfs_forward.get_support()]\n",
        ")"
      ],
      "execution_count": 161,
      "outputs": [
        {
          "output_type": "stream",
          "name": "stdout",
          "text": [
            "Variabel signifikan stepwise backward:  ['SLIK_Kolektibilitas_WOE' 'DBR_WOE' 'Usia_WOE' 'Mobile_Provider_WOE'\n",
            " 'Device_Apps_Installed_WOE' 'Mobile_Number_Active_Since_WOE']\n",
            "Variabel signifikan stepwise forward:  ['SLIK_Kolektibilitas_WOE' 'DBR_WOE' 'Usia_WOE'\n",
            " 'API_CreditScore_Vendor_B_WOE' 'Mobile_Provider_WOE'\n",
            " 'Tujuan_Pinjaman_WOE']\n"
          ]
        }
      ]
    },
    {
      "cell_type": "code",
      "metadata": {
        "id": "RhkwYEXo4bjS",
        "outputId": "125f90d5-52c6-422d-f872-91f321d6a1e8",
        "colab": {
          "base_uri": "https://localhost:8080/"
        }
      },
      "source": [
        "# Testing hasil stepwise\n",
        "\n",
        "df_step = df_clean[['SLIK_Kolektibilitas_WOE','DBR_WOE','Usia_WOE','Mobile_Provider_WOE','Device_Apps_Installed_WOE'\n",
        "                  ,'Mobile_Number_Active_Since_WOE','default'\n",
        "                  ]]\n",
        "\n",
        "# Membagi dataset menjadi development(train) dan test\n",
        "\n",
        "y_step = df_step.loc[:,'default']\n",
        "X_step = df_step.loc[:,df_step.columns != 'default']\n",
        "\n",
        "from sklearn.model_selection import train_test_split\n",
        "X_train_step, X_test_step, y_train_step, y_test_step = train_test_split(X_step, y_step, test_size=0.30, random_state=42)\n",
        "\n",
        "lr_step = LogisticRegression()\n",
        "lr_step.fit(X_train_step, y_train_step)\n",
        "\n",
        "test_predict_step = lr_step.predict(X_test_step)\n",
        "test_pred_proba_step = lr_step.predict_proba(X_test_step)\n",
        "\n",
        "# Bagaimana cara tahu bahwa model itu bagus atau tidak?\n",
        "# Pembahasan di bagian evaluasi model\n",
        "# koding nya adalah\n",
        "from sklearn.metrics import classification_report\n",
        "from sklearn.metrics import confusion_matrix\n",
        "# Obtain the results from the classification report and confusion matrix \n",
        "print('Classifcation report:\\n', classification_report(y_test_step, test_predict_step))\n",
        "conf_mat = confusion_matrix(y_true=y_test_step, y_pred=test_predict_step)\n",
        "print('Confusion matrix:\\n', conf_mat)\n",
        "\n",
        "# Print ROC_AUC score using probabilities\n",
        "from sklearn.metrics import r2_score, classification_report, confusion_matrix, accuracy_score, roc_auc_score, roc_curve, precision_recall_curve, average_precision_score\n",
        "print('ROC Score:', roc_auc_score(y_test_step, test_pred_proba_step[:, 1]))"
      ],
      "execution_count": 162,
      "outputs": [
        {
          "output_type": "stream",
          "name": "stdout",
          "text": [
            "Classifcation report:\n",
            "               precision    recall  f1-score   support\n",
            "\n",
            "           0       0.81      0.92      0.86       204\n",
            "           1       0.68      0.44      0.54        81\n",
            "\n",
            "    accuracy                           0.78       285\n",
            "   macro avg       0.74      0.68      0.70       285\n",
            "weighted avg       0.77      0.78      0.77       285\n",
            "\n",
            "Confusion matrix:\n",
            " [[187  17]\n",
            " [ 45  36]]\n",
            "ROC Score: 0.7801682401355604\n"
          ]
        }
      ]
    },
    {
      "cell_type": "markdown",
      "metadata": {
        "id": "z3p1c7BC-na0"
      },
      "source": [
        "## Membuat Scoring dari probabilitas"
      ]
    },
    {
      "cell_type": "code",
      "metadata": {
        "id": "Q-zRnxfztHXQ"
      },
      "source": [
        "# Membuat scoring\n",
        "P0 = 600 # Target Score\n",
        "PDO = 50 # Target Odds\n",
        "theta0 = 1.0/20 # Points double odds\n",
        "B = PDO/np.log(2)\n",
        "A = P0 + B * np.log(theta0)"
      ],
      "execution_count": 156,
      "outputs": []
    },
    {
      "cell_type": "code",
      "metadata": {
        "id": "D24tHBUgzqpb"
      },
      "source": [
        "train_pred_proba = lr.predict_proba(X_train)[:,1]\n",
        "train_log_pred = lr.predict_log_proba(X_train)[:,1]\n",
        "\n",
        "score = A - B*np.log(train_pred_proba/(1-train_pred_proba))\n",
        "score_from_log = (P0 - B * np.log(theta0)) - B * train_log_pred\n",
        "\n",
        "df_train_pred_proba = pd.DataFrame(train_pred_proba, columns=['train_pred_proba'])\n",
        "df_train_log_pred = pd.DataFrame(train_log_pred, columns=['Logit_Result'])\n",
        "\n",
        "df_train_score = pd.DataFrame(score, columns=['Score'])\n",
        "df_train_log_score = pd.DataFrame(score_from_log, columns=['Score_from_log'])\n",
        "\n",
        "# Menggabungkan dataset variabel kategori dari one hot encoding dengan variabel numerik\n",
        "df_model_result = pd.concat([df_train, df_train_pred_proba, df_train_log_pred, df_train_score, df_train_log_score], axis = 1)"
      ],
      "execution_count": 157,
      "outputs": []
    },
    {
      "cell_type": "code",
      "metadata": {
        "id": "i4ORyQnY17cV",
        "outputId": "2d7eb034-5432-4ef0-b5fe-051f8ec81e77",
        "colab": {
          "base_uri": "https://localhost:8080/",
          "height": 17
        }
      },
      "source": [
        "# Untuk memudahkan membaca hasil, maka disimpan dalam bentuk csv dan didownload\n",
        "from google.colab import files\n",
        "df_model_result.to_csv('df_model_result.csv') \n",
        "files.download('df_model_result.csv')"
      ],
      "execution_count": 158,
      "outputs": [
        {
          "output_type": "display_data",
          "data": {
            "application/javascript": [
              "\n",
              "    async function download(id, filename, size) {\n",
              "      if (!google.colab.kernel.accessAllowed) {\n",
              "        return;\n",
              "      }\n",
              "      const div = document.createElement('div');\n",
              "      const label = document.createElement('label');\n",
              "      label.textContent = `Downloading \"${filename}\": `;\n",
              "      div.appendChild(label);\n",
              "      const progress = document.createElement('progress');\n",
              "      progress.max = size;\n",
              "      div.appendChild(progress);\n",
              "      document.body.appendChild(div);\n",
              "\n",
              "      const buffers = [];\n",
              "      let downloaded = 0;\n",
              "\n",
              "      const channel = await google.colab.kernel.comms.open(id);\n",
              "      // Send a message to notify the kernel that we're ready.\n",
              "      channel.send({})\n",
              "\n",
              "      for await (const message of channel.messages) {\n",
              "        // Send a message to notify the kernel that we're ready.\n",
              "        channel.send({})\n",
              "        if (message.buffers) {\n",
              "          for (const buffer of message.buffers) {\n",
              "            buffers.push(buffer);\n",
              "            downloaded += buffer.byteLength;\n",
              "            progress.value = downloaded;\n",
              "          }\n",
              "        }\n",
              "      }\n",
              "      const blob = new Blob(buffers, {type: 'application/binary'});\n",
              "      const a = document.createElement('a');\n",
              "      a.href = window.URL.createObjectURL(blob);\n",
              "      a.download = filename;\n",
              "      div.appendChild(a);\n",
              "      a.click();\n",
              "      div.remove();\n",
              "    }\n",
              "  "
            ],
            "text/plain": [
              "<IPython.core.display.Javascript object>"
            ]
          },
          "metadata": {}
        },
        {
          "output_type": "display_data",
          "data": {
            "application/javascript": [
              "download(\"download_ed69a00e-567e-4d1d-b5c3-c94520f86570\", \"df_model_result.csv\", 124580)"
            ],
            "text/plain": [
              "<IPython.core.display.Javascript object>"
            ]
          },
          "metadata": {}
        }
      ]
    },
    {
      "cell_type": "markdown",
      "metadata": {
        "id": "6Yrg5Vhw-tSS"
      },
      "source": [
        "# Modeling Scorecard dengan Library scorecardpy"
      ]
    },
    {
      "cell_type": "markdown",
      "metadata": {
        "id": "E1AjHWU5-x6T"
      },
      "source": [
        "## Instalasi library"
      ]
    },
    {
      "cell_type": "code",
      "metadata": {
        "id": "PJQvue7xRdXo"
      },
      "source": [
        "# install scorecardpy\n",
        "!pip install -q scorecardpy\n",
        "#!pip install git+git://github.com/shichenxie/scorecardpy.git"
      ],
      "execution_count": 163,
      "outputs": []
    },
    {
      "cell_type": "markdown",
      "metadata": {
        "id": "5jPy9YPc-0Mx"
      },
      "source": [
        "## Persiapan Modeling, train dan test dataset, pembuatan binning dan EDA"
      ]
    },
    {
      "cell_type": "code",
      "metadata": {
        "id": "grWQnOiATS-S",
        "outputId": "6dc0c212-041a-41e2-8cea-c5f7cafbc795",
        "colab": {
          "base_uri": "https://localhost:8080/",
          "height": 1000
        }
      },
      "source": [
        "y = df_model_Bin.loc[:,'default']\n",
        "X = df_model_Bin.loc[:,df_model_WOE.columns != 'default']\n",
        "\n",
        "from sklearn.model_selection import train_test_split\n",
        "X_train, X_test, y_train, y_test = train_test_split(X, y, test_size=0.30, random_state=42)\n",
        "\n",
        "# Dalam bentuk dataframe lengkap\n",
        "df_train = pd.concat([X_train, y_train], axis = 1)\n",
        "df_test = pd.concat([X_test, y_test], axis = 1)\n",
        "\n",
        "# Menghapus indeks dari data yang telah dibuang\n",
        "df_train = df_train.reset_index(drop=True)\n",
        "df_test = df_test.reset_index(drop=True)\n",
        "\n",
        "# Credit Scoring using logistic regression with library scorecardpy\n",
        "import scorecardpy as scpy\n",
        "\n",
        "# Melakukan WOE binning\n",
        "bins = scpy.woebin(df_train, y = 'default')\n",
        "\n",
        "# Melakukan WOE binning dengan adjustment\n",
        "breaks_adj = {\n",
        "    'SLIK_Kolektibilitas_Bin': ['Kolek 1','Kolek 2&3','Kolek 4&5','Kolek Tidak_Ditemukan'],\n",
        "    'DBR_Bin': [\"1.0%\", \"2.0-10%\",\"3.10-20%\",\"4.20-30%\",\"5.30-40%\",\"6.40-50%\",\"7.50-60%\",\"8.>60%\"],\n",
        "    'Device_Apps_Segmentation_Bin': [\"Games\",\"Online_Lending\",\"Productivity\",\"Shopping\",\"Social_Media\"],\n",
        "    'Lama_Cicilan_Bin': [\"1_bulan\", \"2_bulan\",\"3_bulan\",\"4_bulan\",\"5_bulan\",\"6_bulan\"],\n",
        "    'Usia_Bin': [\"1.<=25\",\"2.26-30\",\"3.31-35\",\"4.36-40\",\"5.41-50\",\"6.>=51\"],\n",
        "    'Device_Active_Since_Bin': [\"1_Kurang_1_tahun\", \"2_1_ke_3_tahun\",\"3_Lebih_3_tahun\"],\n",
        "    'API_CreditScore_Vendor_B_Bin': [\"1.0-100\", \"2.101-175\",\"3.176-225\",\"4.226-299\",\"5.>299\"],\n",
        "    'Mobile_Provider_Bin': [\"Telco_A\", \"Telco_B\",\"Telco_C\",\"Telco_D\",\"Telco_E\"],\n",
        "    'Tujuan_Pinjaman_Bin': [\"1.pendidikan\", \"2.buka_bisnis\",\"3.liburan\",\"4.elektronik\",\"5.peralatan_rumahtangga\",\"6.makanan\"],\n",
        "    'Device_Apps_Installed_Bin': [\"1.0-5\", \"2.5-10\",\"3.10-15\",\"4.15-20\",\"5.20-30\",\"6.>30\"],\n",
        "    'Mobile_Number_Active_Since_Bin': [\"1_Kurang_1_bulan\", \"2_Kurang_1_tahun\",\"3_1_ke_2_tahun\",\"4_2_ke_5_tahun\",\"5_Lebih_5_tahun\"],\n",
        "    'Alamat_Rumah_Kantor_Bin': [\"1.Rumah_Kantor_Dekat\",\"2.Rumah_Kantor_Jauh\"]\n",
        "}\n",
        "bins_adj = scpy.woebin(df_train, y=\"default\", breaks_list=breaks_adj)\n",
        "\n",
        "scpy.woebin_plot(bins_adj)"
      ],
      "execution_count": 164,
      "outputs": [
        {
          "output_type": "stream",
          "name": "stdout",
          "text": [
            "[INFO] creating woe binning ...\n",
            "[INFO] creating woe binning ...\n"
          ]
        },
        {
          "output_type": "execute_result",
          "data": {
            "text/plain": [
              "{'API_CreditScore_Vendor_B_Bin': <Figure size 432x288 with 2 Axes>,\n",
              " 'Alamat_Rumah_Kantor_Bin': <Figure size 432x288 with 2 Axes>,\n",
              " 'DBR_Bin': <Figure size 432x288 with 2 Axes>,\n",
              " 'Device_Active_Since_Bin': <Figure size 432x288 with 2 Axes>,\n",
              " 'Device_Apps_Installed_Bin': <Figure size 432x288 with 2 Axes>,\n",
              " 'Device_Apps_Segmentation_Bin': <Figure size 432x288 with 2 Axes>,\n",
              " 'Lama_Cicilan_Bin': <Figure size 432x288 with 2 Axes>,\n",
              " 'Mobile_Number_Active_Since_Bin': <Figure size 432x288 with 2 Axes>,\n",
              " 'Mobile_Provider_Bin': <Figure size 432x288 with 2 Axes>,\n",
              " 'SLIK_Kolektibilitas_Bin': <Figure size 432x288 with 2 Axes>,\n",
              " 'Tujuan_Pinjaman_Bin': <Figure size 432x288 with 2 Axes>,\n",
              " 'Usia_Bin': <Figure size 432x288 with 2 Axes>}"
            ]
          },
          "metadata": {},
          "execution_count": 164
        },
        {
          "output_type": "display_data",
          "data": {
            "image/png": "[encoded data removed]",
            "text/plain": [
              "<Figure size 432x288 with 2 Axes>"
            ]
          },
          "metadata": {
            "needs_background": "light"
          }
        },
        {
          "output_type": "display_data",
          "data": {
            "image/png": "[encoded data removed]",
            "text/plain": [
              "<Figure size 432x288 with 2 Axes>"
            ]
          },
          "metadata": {
            "needs_background": "light"
          }
        },
        {
          "output_type": "display_data",
          "data": {
            "image/png": "[encoded data removed]",
            "text/plain": [
              "<Figure size 432x288 with 2 Axes>"
            ]
          },
          "metadata": {
            "needs_background": "light"
          }
        },
        {
          "output_type": "display_data",
          "data": {
            "image/png": "[encoded data removed]",
            "text/plain": [
              "<Figure size 432x288 with 2 Axes>"
            ]
          },
          "metadata": {
            "needs_background": "light"
          }
        },
        {
          "output_type": "display_data",
          "data": {
            "image/png": "[encoded data removed]",
            "text/plain": [
              "<Figure size 432x288 with 2 Axes>"
            ]
          },
          "metadata": {
            "needs_background": "light"
          }
        },
        {
          "output_type": "display_data",
          "data": {
            "image/png": "[encoded data removed]",
            "text/plain": [
              "<Figure size 432x288 with 2 Axes>"
            ]
          },
          "metadata": {
            "needs_background": "light"
          }
        },
        {
          "output_type": "display_data",
          "data": {
            "image/png": "[encoded data removed]",
            "text/plain": [
              "<Figure size 432x288 with 2 Axes>"
            ]
          },
          "metadata": {
            "needs_background": "light"
          }
        },
        {
          "output_type": "display_data",
          "data": {
            "image/png": "[encoded data removed]",
            "text/plain": [
              "<Figure size 432x288 with 2 Axes>"
            ]
          },
          "metadata": {
            "needs_background": "light"
          }
        },
        {
          "output_type": "display_data",
          "data": {
            "image/png": "[encoded data removed]",
            "text/plain": [
              "<Figure size 432x288 with 2 Axes>"
            ]
          },
          "metadata": {
            "needs_background": "light"
          }
        },
        {
          "output_type": "display_data",
          "data": {
            "image/png": "[encoded data removed]",
            "text/plain": [
              "<Figure size 432x288 with 2 Axes>"
            ]
          },
          "metadata": {
            "needs_background": "light"
          }
        },
        {
          "output_type": "display_data",
          "data": {
            "image/png": "[encoded data removed]",
            "text/plain": [
              "<Figure size 432x288 with 2 Axes>"
            ]
          },
          "metadata": {
            "needs_background": "light"
          }
        },
        {
          "output_type": "display_data",
          "data": {
            "image/png": "[encoded data removed]",
            "text/plain": [
              "<Figure size 432x288 with 2 Axes>"
            ]
          },
          "metadata": {
            "needs_background": "light"
          }
        }
      ]
    },
    {
      "cell_type": "markdown",
      "metadata": {
        "id": "GVJTMVFh-8wx"
      },
      "source": [
        "## Pembuatan WOE secara otomatis"
      ]
    },
    {
      "cell_type": "code",
      "metadata": {
        "id": "l_4oFCg9T8ku",
        "outputId": "04d797eb-3676-48b7-d824-094ed2e157d6",
        "colab": {
          "base_uri": "https://localhost:8080/"
        }
      },
      "source": [
        "# contoh pembuatan tanpa test\n",
        "train = df_train\n",
        "test = df_test\n",
        "\n",
        "# converting train and test into woe values\n",
        "train_woe = scpy.woebin_ply(train, bins_adj)\n",
        "test_woe = scpy.woebin_ply(test, bins_adj)\n",
        "\n",
        "y_train = train_woe.loc[:,'default']\n",
        "X_train = train_woe.loc[:,train_woe.columns != 'default']\n",
        "y_test = test_woe.loc[:,'default']\n",
        "X_test = test_woe.loc[:,train_woe.columns != 'default']\n",
        "\n",
        "print(X_train)\n",
        "print(y_train)"
      ],
      "execution_count": 165,
      "outputs": [
        {
          "output_type": "stream",
          "name": "stdout",
          "text": [
            "[INFO] converting into woe values ...\n",
            "[INFO] converting into woe values ...\n",
            "     Mobile_Number_Active_Since_Bin_woe  ...  SLIK_Kolektibilitas_Bin_woe\n",
            "0                              0.323839  ...                     0.921607\n",
            "1                              0.246616  ...                     0.087792\n",
            "2                             -0.471824  ...                     0.087792\n",
            "3                             -0.312532  ...                    -0.881987\n",
            "4                             -0.471824  ...                     0.921607\n",
            "..                                  ...  ...                          ...\n",
            "658                           -0.312532  ...                     0.087792\n",
            "659                            0.246616  ...                     0.087792\n",
            "660                            0.323839  ...                     0.087792\n",
            "661                            0.246616  ...                     0.087792\n",
            "662                           -0.042730  ...                     1.285865\n",
            "\n",
            "[663 rows x 12 columns]\n",
            "0      0\n",
            "1      0\n",
            "2      0\n",
            "3      0\n",
            "4      1\n",
            "      ..\n",
            "658    0\n",
            "659    1\n",
            "660    0\n",
            "661    0\n",
            "662    1\n",
            "Name: default, Length: 663, dtype: int64\n"
          ]
        }
      ]
    },
    {
      "cell_type": "code",
      "metadata": {
        "id": "f0wDX1iuqVop",
        "outputId": "3156cfc1-4e3f-4b26-d1ce-62ac1a3ee839",
        "colab": {
          "base_uri": "https://localhost:8080/",
          "height": 17
        }
      },
      "source": [
        "# Untuk memudahkan membaca hasil, maka disimpan dalam bentuk csv dan didownload\n",
        "from google.colab import files\n",
        "train_woe.to_csv('train_woe.csv') \n",
        "files.download('train_woe.csv')\n",
        "\n",
        "X_train.to_csv('X_train_scpy.csv') \n",
        "files.download('X_train_scpy.csv')"
      ],
      "execution_count": 166,
      "outputs": [
        {
          "output_type": "display_data",
          "data": {
            "application/javascript": [
              "\n",
              "    async function download(id, filename, size) {\n",
              "      if (!google.colab.kernel.accessAllowed) {\n",
              "        return;\n",
              "      }\n",
              "      const div = document.createElement('div');\n",
              "      const label = document.createElement('label');\n",
              "      label.textContent = `Downloading \"${filename}\": `;\n",
              "      div.appendChild(label);\n",
              "      const progress = document.createElement('progress');\n",
              "      progress.max = size;\n",
              "      div.appendChild(progress);\n",
              "      document.body.appendChild(div);\n",
              "\n",
              "      const buffers = [];\n",
              "      let downloaded = 0;\n",
              "\n",
              "      const channel = await google.colab.kernel.comms.open(id);\n",
              "      // Send a message to notify the kernel that we're ready.\n",
              "      channel.send({})\n",
              "\n",
              "      for await (const message of channel.messages) {\n",
              "        // Send a message to notify the kernel that we're ready.\n",
              "        channel.send({})\n",
              "        if (message.buffers) {\n",
              "          for (const buffer of message.buffers) {\n",
              "            buffers.push(buffer);\n",
              "            downloaded += buffer.byteLength;\n",
              "            progress.value = downloaded;\n",
              "          }\n",
              "        }\n",
              "      }\n",
              "      const blob = new Blob(buffers, {type: 'application/binary'});\n",
              "      const a = document.createElement('a');\n",
              "      a.href = window.URL.createObjectURL(blob);\n",
              "      a.download = filename;\n",
              "      div.appendChild(a);\n",
              "      a.click();\n",
              "      div.remove();\n",
              "    }\n",
              "  "
            ],
            "text/plain": [
              "<IPython.core.display.Javascript object>"
            ]
          },
          "metadata": {}
        },
        {
          "output_type": "display_data",
          "data": {
            "application/javascript": [
              "download(\"download_07af8c65-2583-47e9-a5f1-5db60b31b693\", \"train_woe.csv\", 163323)"
            ],
            "text/plain": [
              "<IPython.core.display.Javascript object>"
            ]
          },
          "metadata": {}
        },
        {
          "output_type": "display_data",
          "data": {
            "application/javascript": [
              "\n",
              "    async function download(id, filename, size) {\n",
              "      if (!google.colab.kernel.accessAllowed) {\n",
              "        return;\n",
              "      }\n",
              "      const div = document.createElement('div');\n",
              "      const label = document.createElement('label');\n",
              "      label.textContent = `Downloading \"${filename}\": `;\n",
              "      div.appendChild(label);\n",
              "      const progress = document.createElement('progress');\n",
              "      progress.max = size;\n",
              "      div.appendChild(progress);\n",
              "      document.body.appendChild(div);\n",
              "\n",
              "      const buffers = [];\n",
              "      let downloaded = 0;\n",
              "\n",
              "      const channel = await google.colab.kernel.comms.open(id);\n",
              "      // Send a message to notify the kernel that we're ready.\n",
              "      channel.send({})\n",
              "\n",
              "      for await (const message of channel.messages) {\n",
              "        // Send a message to notify the kernel that we're ready.\n",
              "        channel.send({})\n",
              "        if (message.buffers) {\n",
              "          for (const buffer of message.buffers) {\n",
              "            buffers.push(buffer);\n",
              "            downloaded += buffer.byteLength;\n",
              "            progress.value = downloaded;\n",
              "          }\n",
              "        }\n",
              "      }\n",
              "      const blob = new Blob(buffers, {type: 'application/binary'});\n",
              "      const a = document.createElement('a');\n",
              "      a.href = window.URL.createObjectURL(blob);\n",
              "      a.download = filename;\n",
              "      div.appendChild(a);\n",
              "      a.click();\n",
              "      div.remove();\n",
              "    }\n",
              "  "
            ],
            "text/plain": [
              "<IPython.core.display.Javascript object>"
            ]
          },
          "metadata": {}
        },
        {
          "output_type": "display_data",
          "data": {
            "application/javascript": [
              "download(\"download_98cbb7b0-0d3d-4016-8820-cb0d7aa06ebb\", \"X_train_scpy.csv\", 161989)"
            ],
            "text/plain": [
              "<IPython.core.display.Javascript object>"
            ]
          },
          "metadata": {}
        }
      ]
    },
    {
      "cell_type": "markdown",
      "metadata": {
        "id": "eqLAa1Sc_CC9"
      },
      "source": [
        "## Model dengan logistic regression"
      ]
    },
    {
      "cell_type": "code",
      "metadata": {
        "id": "8fuClTgqXUzT",
        "outputId": "693eea0e-18c6-4035-b69d-862493e5d773",
        "colab": {
          "base_uri": "https://localhost:8080/",
          "height": 536
        }
      },
      "source": [
        "# Membuat scorecard dengan menggunakan algoritma logistic regression\n",
        "from sklearn.linear_model import LogisticRegression\n",
        "lr = LogisticRegression()\n",
        "lr.fit(X_train, y_train)\n",
        "\n",
        "print(lr.coef_)\n",
        "\n",
        "# For those that want to know the statistic modeling\n",
        "import numpy as np\n",
        "import statsmodels.api as sm\n",
        "\n",
        "model = sm.Logit(y_train, X_train)\n",
        "result = model.fit()\n",
        "\n",
        "result.summary()"
      ],
      "execution_count": 167,
      "outputs": [
        {
          "output_type": "stream",
          "name": "stdout",
          "text": [
            "[[0.80101266 0.64469653 0.92012497 0.74845821 0.73921412 0.82755363\n",
            "  0.96066739 0.86251623 0.76500151 1.27419674 0.85325215 0.75705663]]\n",
            "Optimization terminated successfully.\n",
            "         Current function value: 0.503607\n",
            "         Iterations 6\n"
          ]
        },
        {
          "output_type": "execute_result",
          "data": {
            "text/html": [
              "<table class=\"simpletable\">\n",
              "<caption>Logit Regression Results</caption>\n",
              "<tr>\n",
              "  <th>Dep. Variable:</th>        <td>default</td>     <th>  No. Observations:  </th>  <td>   663</td>  \n",
              "</tr>\n",
              "<tr>\n",
              "  <th>Model:</th>                 <td>Logit</td>      <th>  Df Residuals:      </th>  <td>   651</td>  \n",
              "</tr>\n",
              "<tr>\n",
              "  <th>Method:</th>                 <td>MLE</td>       <th>  Df Model:          </th>  <td>    11</td>  \n",
              "</tr>\n",
              "<tr>\n",
              "  <th>Date:</th>            <td>Sat, 06 Nov 2021</td> <th>  Pseudo R-squ.:     </th>  <td>0.1723</td>  \n",
              "</tr>\n",
              "<tr>\n",
              "  <th>Time:</th>                <td>01:40:58</td>     <th>  Log-Likelihood:    </th> <td> -333.89</td> \n",
              "</tr>\n",
              "<tr>\n",
              "  <th>converged:</th>             <td>True</td>       <th>  LL-Null:           </th> <td> -403.38</td> \n",
              "</tr>\n",
              "<tr>\n",
              "  <th>Covariance Type:</th>     <td>nonrobust</td>    <th>  LLR p-value:       </th> <td>2.629e-24</td>\n",
              "</tr>\n",
              "</table>\n",
              "<table class=\"simpletable\">\n",
              "<tr>\n",
              "                   <td></td>                     <th>coef</th>     <th>std err</th>      <th>z</th>      <th>P>|z|</th>  <th>[0.025</th>    <th>0.975]</th>  \n",
              "</tr>\n",
              "<tr>\n",
              "  <th>Mobile_Number_Active_Since_Bin_woe</th> <td>    0.9256</td> <td>    0.317</td> <td>    2.920</td> <td> 0.004</td> <td>    0.304</td> <td>    1.547</td>\n",
              "</tr>\n",
              "<tr>\n",
              "  <th>Lama_Cicilan_Bin_woe</th>               <td>    0.7387</td> <td>    0.330</td> <td>    2.241</td> <td> 0.025</td> <td>    0.093</td> <td>    1.385</td>\n",
              "</tr>\n",
              "<tr>\n",
              "  <th>Tujuan_Pinjaman_Bin_woe</th>            <td>    0.9441</td> <td>    0.319</td> <td>    2.956</td> <td> 0.003</td> <td>    0.318</td> <td>    1.570</td>\n",
              "</tr>\n",
              "<tr>\n",
              "  <th>Usia_Bin_woe</th>                       <td>    0.6985</td> <td>    0.259</td> <td>    2.699</td> <td> 0.007</td> <td>    0.191</td> <td>    1.206</td>\n",
              "</tr>\n",
              "<tr>\n",
              "  <th>Device_Apps_Segmentation_Bin_woe</th>   <td>    0.9590</td> <td>    0.324</td> <td>    2.956</td> <td> 0.003</td> <td>    0.323</td> <td>    1.595</td>\n",
              "</tr>\n",
              "<tr>\n",
              "  <th>Device_Active_Since_Bin_woe</th>        <td>    1.0795</td> <td>    0.589</td> <td>    1.831</td> <td> 0.067</td> <td>   -0.076</td> <td>    2.235</td>\n",
              "</tr>\n",
              "<tr>\n",
              "  <th>Device_Apps_Installed_Bin_woe</th>      <td>    0.9585</td> <td>    0.273</td> <td>    3.516</td> <td> 0.000</td> <td>    0.424</td> <td>    1.493</td>\n",
              "</tr>\n",
              "<tr>\n",
              "  <th>Mobile_Provider_Bin_woe</th>            <td>    0.9429</td> <td>    0.220</td> <td>    4.291</td> <td> 0.000</td> <td>    0.512</td> <td>    1.374</td>\n",
              "</tr>\n",
              "<tr>\n",
              "  <th>DBR_Bin_woe</th>                        <td>    0.7988</td> <td>    0.146</td> <td>    5.463</td> <td> 0.000</td> <td>    0.512</td> <td>    1.085</td>\n",
              "</tr>\n",
              "<tr>\n",
              "  <th>Alamat_Rumah_Kantor_Bin_woe</th>        <td>    1.8446</td> <td>    0.617</td> <td>    2.991</td> <td> 0.003</td> <td>    0.636</td> <td>    3.053</td>\n",
              "</tr>\n",
              "<tr>\n",
              "  <th>API_CreditScore_Vendor_B_Bin_woe</th>   <td>    0.6950</td> <td>    0.133</td> <td>    5.242</td> <td> 0.000</td> <td>    0.435</td> <td>    0.955</td>\n",
              "</tr>\n",
              "<tr>\n",
              "  <th>SLIK_Kolektibilitas_Bin_woe</th>        <td>    0.7854</td> <td>    0.165</td> <td>    4.753</td> <td> 0.000</td> <td>    0.462</td> <td>    1.109</td>\n",
              "</tr>\n",
              "</table>"
            ],
            "text/plain": [
              "<class 'statsmodels.iolib.summary.Summary'>\n",
              "\"\"\"\n",
              "                           Logit Regression Results                           \n",
              "==============================================================================\n",
              "Dep. Variable:                default   No. Observations:                  663\n",
              "Model:                          Logit   Df Residuals:                      651\n",
              "Method:                           MLE   Df Model:                           11\n",
              "Date:                Sat, 06 Nov 2021   Pseudo R-squ.:                  0.1723\n",
              "Time:                        01:40:58   Log-Likelihood:                -333.89\n",
              "converged:                       True   LL-Null:                       -403.38\n",
              "Covariance Type:            nonrobust   LLR p-value:                 2.629e-24\n",
              "======================================================================================================\n",
              "                                         coef    std err          z      P>|z|      [0.025      0.975]\n",
              "------------------------------------------------------------------------------------------------------\n",
              "Mobile_Number_Active_Since_Bin_woe     0.9256      0.317      2.920      0.004       0.304       1.547\n",
              "Lama_Cicilan_Bin_woe                   0.7387      0.330      2.241      0.025       0.093       1.385\n",
              "Tujuan_Pinjaman_Bin_woe                0.9441      0.319      2.956      0.003       0.318       1.570\n",
              "Usia_Bin_woe                           0.6985      0.259      2.699      0.007       0.191       1.206\n",
              "Device_Apps_Segmentation_Bin_woe       0.9590      0.324      2.956      0.003       0.323       1.595\n",
              "Device_Active_Since_Bin_woe            1.0795      0.589      1.831      0.067      -0.076       2.235\n",
              "Device_Apps_Installed_Bin_woe          0.9585      0.273      3.516      0.000       0.424       1.493\n",
              "Mobile_Provider_Bin_woe                0.9429      0.220      4.291      0.000       0.512       1.374\n",
              "DBR_Bin_woe                            0.7988      0.146      5.463      0.000       0.512       1.085\n",
              "Alamat_Rumah_Kantor_Bin_woe            1.8446      0.617      2.991      0.003       0.636       3.053\n",
              "API_CreditScore_Vendor_B_Bin_woe       0.6950      0.133      5.242      0.000       0.435       0.955\n",
              "SLIK_Kolektibilitas_Bin_woe            0.7854      0.165      4.753      0.000       0.462       1.109\n",
              "======================================================================================================\n",
              "\"\"\""
            ]
          },
          "metadata": {},
          "execution_count": 167
        }
      ]
    },
    {
      "cell_type": "code",
      "metadata": {
        "id": "kaKJaG1q08UW",
        "outputId": "353bbe97-a8b3-4f85-a810-f20dcd41f60d",
        "colab": {
          "base_uri": "https://localhost:8080/",
          "height": 955
        }
      },
      "source": [
        "# predicted probability\n",
        "# predicted proability\n",
        "train_pred = lr.predict_proba(X_train)[:,1]\n",
        "test_pred = lr.predict_proba(X_test)[:,1]\n",
        "\n",
        "# performance ks & roc ------\n",
        "train_perf = scpy.perf_eva(y_train, train_pred, title = \"train\")\n",
        "test_perf = scpy.perf_eva(y_test, test_pred, title = \"test\")\n",
        "\n",
        "# score ------\n",
        "card = scpy.scorecard(bins_adj, lr, X_train.columns, points0=600, odds0=1/20, pdo=50, basepoints_eq0=False)\n",
        "# credit score\n",
        "train_score = scpy.scorecard_ply(train, card, print_step=0)\n",
        "test_score = scpy.scorecard_ply(test, card, print_step=0)\n",
        "\n",
        "# psi\n",
        "scpy.perf_psi(\n",
        "  score = {'train':train_score, 'test':test_score},\n",
        "  label = {'train':y_train, 'test':y_test}\n",
        ")\n",
        "\n",
        "print(train_score)"
      ],
      "execution_count": 168,
      "outputs": [
        {
          "output_type": "display_data",
          "data": {
            "image/png": "[encoded data removed]",
            "text/plain": [
              "<Figure size 432x288 with 2 Axes>"
            ]
          },
          "metadata": {
            "needs_background": "light"
          }
        },
        {
          "output_type": "display_data",
          "data": {
            "image/png": "[encoded data removed]",
            "text/plain": [
              "<Figure size 432x288 with 2 Axes>"
            ]
          },
          "metadata": {
            "needs_background": "light"
          }
        },
        {
          "output_type": "display_data",
          "data": {
            "image/png": "[encoded data removed]",
            "text/plain": [
              "<Figure size 432x288 with 2 Axes>"
            ]
          },
          "metadata": {
            "needs_background": "light"
          }
        },
        {
          "output_type": "stream",
          "name": "stdout",
          "text": [
            "     score\n",
            "0    369.0\n",
            "1    433.0\n",
            "2    489.0\n",
            "3    436.0\n",
            "4    301.0\n",
            "..     ...\n",
            "658  714.0\n",
            "659  394.0\n",
            "660  385.0\n",
            "661  427.0\n",
            "662  299.0\n",
            "\n",
            "[663 rows x 1 columns]\n"
          ]
        }
      ]
    },
    {
      "cell_type": "code",
      "metadata": {
        "id": "KOzZ-ips3QHo",
        "outputId": "e7bb8989-e169-4cba-ea3f-95f9cfc89277",
        "colab": {
          "base_uri": "https://localhost:8080/",
          "height": 17
        }
      },
      "source": [
        "# Untuk memudahkan membaca hasil, maka disimpan dalam bentuk csv dan didownload\n",
        "from google.colab import files\n",
        "train_score.to_csv('train_score.csv') \n",
        "files.download('train_score.csv')"
      ],
      "execution_count": 169,
      "outputs": [
        {
          "output_type": "display_data",
          "data": {
            "application/javascript": [
              "\n",
              "    async function download(id, filename, size) {\n",
              "      if (!google.colab.kernel.accessAllowed) {\n",
              "        return;\n",
              "      }\n",
              "      const div = document.createElement('div');\n",
              "      const label = document.createElement('label');\n",
              "      label.textContent = `Downloading \"${filename}\": `;\n",
              "      div.appendChild(label);\n",
              "      const progress = document.createElement('progress');\n",
              "      progress.max = size;\n",
              "      div.appendChild(progress);\n",
              "      document.body.appendChild(div);\n",
              "\n",
              "      const buffers = [];\n",
              "      let downloaded = 0;\n",
              "\n",
              "      const channel = await google.colab.kernel.comms.open(id);\n",
              "      // Send a message to notify the kernel that we're ready.\n",
              "      channel.send({})\n",
              "\n",
              "      for await (const message of channel.messages) {\n",
              "        // Send a message to notify the kernel that we're ready.\n",
              "        channel.send({})\n",
              "        if (message.buffers) {\n",
              "          for (const buffer of message.buffers) {\n",
              "            buffers.push(buffer);\n",
              "            downloaded += buffer.byteLength;\n",
              "            progress.value = downloaded;\n",
              "          }\n",
              "        }\n",
              "      }\n",
              "      const blob = new Blob(buffers, {type: 'application/binary'});\n",
              "      const a = document.createElement('a');\n",
              "      a.href = window.URL.createObjectURL(blob);\n",
              "      a.download = filename;\n",
              "      div.appendChild(a);\n",
              "      a.click();\n",
              "      div.remove();\n",
              "    }\n",
              "  "
            ],
            "text/plain": [
              "<IPython.core.display.Javascript object>"
            ]
          },
          "metadata": {}
        },
        {
          "output_type": "display_data",
          "data": {
            "application/javascript": [
              "download(\"download_de8dea09-0706-4c5b-8081-609c13bb7653\", \"train_score.csv\", 6527)"
            ],
            "text/plain": [
              "<IPython.core.display.Javascript object>"
            ]
          },
          "metadata": {}
        }
      ]
    },
    {
      "cell_type": "code",
      "metadata": {
        "id": "5ZeZoNpZXaVr",
        "outputId": "457ee575-6031-494a-f2de-5f209439603c",
        "colab": {
          "base_uri": "https://localhost:8080/",
          "height": 501
        }
      },
      "source": [
        "# For those that want to know the statistic modeling\n",
        "import numpy as np\n",
        "import statsmodels.api as sm\n",
        "\n",
        "model = sm.Logit(y_train, X_train)\n",
        "result = model.fit()\n",
        "\n",
        "result.summary()"
      ],
      "execution_count": 170,
      "outputs": [
        {
          "output_type": "stream",
          "name": "stdout",
          "text": [
            "Optimization terminated successfully.\n",
            "         Current function value: 0.503607\n",
            "         Iterations 6\n"
          ]
        },
        {
          "output_type": "execute_result",
          "data": {
            "text/html": [
              "<table class=\"simpletable\">\n",
              "<caption>Logit Regression Results</caption>\n",
              "<tr>\n",
              "  <th>Dep. Variable:</th>        <td>default</td>     <th>  No. Observations:  </th>  <td>   663</td>  \n",
              "</tr>\n",
              "<tr>\n",
              "  <th>Model:</th>                 <td>Logit</td>      <th>  Df Residuals:      </th>  <td>   651</td>  \n",
              "</tr>\n",
              "<tr>\n",
              "  <th>Method:</th>                 <td>MLE</td>       <th>  Df Model:          </th>  <td>    11</td>  \n",
              "</tr>\n",
              "<tr>\n",
              "  <th>Date:</th>            <td>Sat, 06 Nov 2021</td> <th>  Pseudo R-squ.:     </th>  <td>0.1723</td>  \n",
              "</tr>\n",
              "<tr>\n",
              "  <th>Time:</th>                <td>01:41:01</td>     <th>  Log-Likelihood:    </th> <td> -333.89</td> \n",
              "</tr>\n",
              "<tr>\n",
              "  <th>converged:</th>             <td>True</td>       <th>  LL-Null:           </th> <td> -403.38</td> \n",
              "</tr>\n",
              "<tr>\n",
              "  <th>Covariance Type:</th>     <td>nonrobust</td>    <th>  LLR p-value:       </th> <td>2.629e-24</td>\n",
              "</tr>\n",
              "</table>\n",
              "<table class=\"simpletable\">\n",
              "<tr>\n",
              "                   <td></td>                     <th>coef</th>     <th>std err</th>      <th>z</th>      <th>P>|z|</th>  <th>[0.025</th>    <th>0.975]</th>  \n",
              "</tr>\n",
              "<tr>\n",
              "  <th>Mobile_Number_Active_Since_Bin_woe</th> <td>    0.9256</td> <td>    0.317</td> <td>    2.920</td> <td> 0.004</td> <td>    0.304</td> <td>    1.547</td>\n",
              "</tr>\n",
              "<tr>\n",
              "  <th>Lama_Cicilan_Bin_woe</th>               <td>    0.7387</td> <td>    0.330</td> <td>    2.241</td> <td> 0.025</td> <td>    0.093</td> <td>    1.385</td>\n",
              "</tr>\n",
              "<tr>\n",
              "  <th>Tujuan_Pinjaman_Bin_woe</th>            <td>    0.9441</td> <td>    0.319</td> <td>    2.956</td> <td> 0.003</td> <td>    0.318</td> <td>    1.570</td>\n",
              "</tr>\n",
              "<tr>\n",
              "  <th>Usia_Bin_woe</th>                       <td>    0.6985</td> <td>    0.259</td> <td>    2.699</td> <td> 0.007</td> <td>    0.191</td> <td>    1.206</td>\n",
              "</tr>\n",
              "<tr>\n",
              "  <th>Device_Apps_Segmentation_Bin_woe</th>   <td>    0.9590</td> <td>    0.324</td> <td>    2.956</td> <td> 0.003</td> <td>    0.323</td> <td>    1.595</td>\n",
              "</tr>\n",
              "<tr>\n",
              "  <th>Device_Active_Since_Bin_woe</th>        <td>    1.0795</td> <td>    0.589</td> <td>    1.831</td> <td> 0.067</td> <td>   -0.076</td> <td>    2.235</td>\n",
              "</tr>\n",
              "<tr>\n",
              "  <th>Device_Apps_Installed_Bin_woe</th>      <td>    0.9585</td> <td>    0.273</td> <td>    3.516</td> <td> 0.000</td> <td>    0.424</td> <td>    1.493</td>\n",
              "</tr>\n",
              "<tr>\n",
              "  <th>Mobile_Provider_Bin_woe</th>            <td>    0.9429</td> <td>    0.220</td> <td>    4.291</td> <td> 0.000</td> <td>    0.512</td> <td>    1.374</td>\n",
              "</tr>\n",
              "<tr>\n",
              "  <th>DBR_Bin_woe</th>                        <td>    0.7988</td> <td>    0.146</td> <td>    5.463</td> <td> 0.000</td> <td>    0.512</td> <td>    1.085</td>\n",
              "</tr>\n",
              "<tr>\n",
              "  <th>Alamat_Rumah_Kantor_Bin_woe</th>        <td>    1.8446</td> <td>    0.617</td> <td>    2.991</td> <td> 0.003</td> <td>    0.636</td> <td>    3.053</td>\n",
              "</tr>\n",
              "<tr>\n",
              "  <th>API_CreditScore_Vendor_B_Bin_woe</th>   <td>    0.6950</td> <td>    0.133</td> <td>    5.242</td> <td> 0.000</td> <td>    0.435</td> <td>    0.955</td>\n",
              "</tr>\n",
              "<tr>\n",
              "  <th>SLIK_Kolektibilitas_Bin_woe</th>        <td>    0.7854</td> <td>    0.165</td> <td>    4.753</td> <td> 0.000</td> <td>    0.462</td> <td>    1.109</td>\n",
              "</tr>\n",
              "</table>"
            ],
            "text/plain": [
              "<class 'statsmodels.iolib.summary.Summary'>\n",
              "\"\"\"\n",
              "                           Logit Regression Results                           \n",
              "==============================================================================\n",
              "Dep. Variable:                default   No. Observations:                  663\n",
              "Model:                          Logit   Df Residuals:                      651\n",
              "Method:                           MLE   Df Model:                           11\n",
              "Date:                Sat, 06 Nov 2021   Pseudo R-squ.:                  0.1723\n",
              "Time:                        01:41:01   Log-Likelihood:                -333.89\n",
              "converged:                       True   LL-Null:                       -403.38\n",
              "Covariance Type:            nonrobust   LLR p-value:                 2.629e-24\n",
              "======================================================================================================\n",
              "                                         coef    std err          z      P>|z|      [0.025      0.975]\n",
              "------------------------------------------------------------------------------------------------------\n",
              "Mobile_Number_Active_Since_Bin_woe     0.9256      0.317      2.920      0.004       0.304       1.547\n",
              "Lama_Cicilan_Bin_woe                   0.7387      0.330      2.241      0.025       0.093       1.385\n",
              "Tujuan_Pinjaman_Bin_woe                0.9441      0.319      2.956      0.003       0.318       1.570\n",
              "Usia_Bin_woe                           0.6985      0.259      2.699      0.007       0.191       1.206\n",
              "Device_Apps_Segmentation_Bin_woe       0.9590      0.324      2.956      0.003       0.323       1.595\n",
              "Device_Active_Since_Bin_woe            1.0795      0.589      1.831      0.067      -0.076       2.235\n",
              "Device_Apps_Installed_Bin_woe          0.9585      0.273      3.516      0.000       0.424       1.493\n",
              "Mobile_Provider_Bin_woe                0.9429      0.220      4.291      0.000       0.512       1.374\n",
              "DBR_Bin_woe                            0.7988      0.146      5.463      0.000       0.512       1.085\n",
              "Alamat_Rumah_Kantor_Bin_woe            1.8446      0.617      2.991      0.003       0.636       3.053\n",
              "API_CreditScore_Vendor_B_Bin_woe       0.6950      0.133      5.242      0.000       0.435       0.955\n",
              "SLIK_Kolektibilitas_Bin_woe            0.7854      0.165      4.753      0.000       0.462       1.109\n",
              "======================================================================================================\n",
              "\"\"\""
            ]
          },
          "metadata": {},
          "execution_count": 170
        }
      ]
    },
    {
      "cell_type": "code",
      "metadata": {
        "id": "rTS8xpiXs0DB",
        "outputId": "8c767b38-daef-4bf9-cc2e-ada4cb1ffb98",
        "colab": {
          "base_uri": "https://localhost:8080/"
        }
      },
      "source": [
        "# https://stats.stackexchange.com/questions/10092/what-does-20-ln2-mean-in-logistic-regression\n",
        "\n",
        "import pandas as pd\n",
        "import numpy as np\n",
        "\n",
        "df=pd.DataFrame()\n",
        "\n",
        "df['fc']=[206, 205, 200, 220, 230, 235, 236, 240,250]\n",
        "df['cat']=[0, 1, 0, 0, 0, 1, 1, 1,0]\n",
        "df['good']=[0, 1, 0, 0, 1, 0, 1, 1,1]\n",
        "\n",
        "train=df[['fc','cat']]\n",
        "y=df['good']\n",
        "\n",
        "from sklearn.linear_model import LogisticRegression\n",
        "\n",
        "clf=LogisticRegression(fit_intercept=True, solver='lbfgs')\n",
        "clf=clf.fit(train, y)\n",
        "\n",
        "coefficients = np.append (clf.intercept_, clf.coef_)\n",
        "print('Coefficients', coefficients)        \n",
        "\n",
        "#Option 1: Predict proba\n",
        "test=pd.DataFrame (np.array([200,1]).reshape(1,2))       \n",
        "y_pred=clf.predict_proba(test)[:,1]\n",
        "print('Predict proba: ' ,y_pred)\n",
        "\n",
        "#Option 2: Calculate Probability\n",
        "ln_odds=sum(np.multiply(coefficients,np.array([1,200,1]))) # sum(coefficients*values)=ln(odds)\n",
        "odds=np.exp(ln_odds)\n",
        "prob_good=odds/(1+odds)\n",
        "print('Resulting probablity: ', prob_good)\n",
        "\n",
        "#score from Siddiqi\n",
        "pdo=20\n",
        "factor=pdo/np.log(2)\n",
        "offset=200\n",
        "\n",
        "score1=offset+factor*np.log(1) #p_bad=0.5,   bad=good > odds=1\n",
        "score2=offset+factor*np.log(2) #p_bad=0,3(3) good=2 bad=1 \n",
        "score3=offset+factor*np.log(4) #p_bad=0,2    good=4 bad=1 \n",
        "print(f'Difference 2 and 1: {score2-score1} \\nDifference 3 and 2: {score3-score2}'  )\n",
        "\n",
        "'''To calculate score from logregression '''\n",
        "#NB! in regression target 1 should be set to good as in Siddiqi odds are 100:1 meaning 100 good and 1 bad \n",
        "score=offset-factor*sum(np.multiply(coefficients,np.array([1,200,1])))\n",
        "print(f'Score from regression:  {round(score,0)}')\n",
        "\n",
        "#score from probability\n",
        "score=offset+factor*np.log(prob_good/(1-prob_good))\n",
        "print(f'Score from probability:  {round(score,0)}')"
      ],
      "execution_count": 171,
      "outputs": [
        {
          "output_type": "stream",
          "name": "stdout",
          "text": [
            "Coefficients [-15.09769043   0.06773288   0.34779727]\n",
            "Predict proba:  [0.23088571]\n",
            "Resulting probablity:  0.23088571052036466\n",
            "Difference 2 and 1: 20.0 \n",
            "Difference 3 and 2: 20.0\n",
            "Score from regression:  235.0\n",
            "Score from probability:  165.0\n"
          ]
        },
        {
          "output_type": "stream",
          "name": "stderr",
          "text": [
            "/usr/local/lib/python3.7/dist-packages/sklearn/base.py:446: UserWarning: X does not have valid feature names, but LogisticRegression was fitted with feature names\n",
            "  \"X does not have valid feature names, but\"\n"
          ]
        }
      ]
    },
    {
      "cell_type": "markdown",
      "metadata": {
        "id": "HsKrF9jIBQFF"
      },
      "source": [
        "# Scorecard dengan model lain\n",
        "*   Model selain Logistic Regression\n",
        "*   \n",
        "\n"
      ]
    },
    {
      "cell_type": "code",
      "metadata": {
        "id": "Z28SLrpfBPqv",
        "outputId": "1509a7ad-1ec2-4f6e-da1d-410b3ff6b801",
        "colab": {
          "base_uri": "https://localhost:8080/"
        }
      },
      "source": [
        "# Persiapan Membuat dataset yang diperlukan sebagai model input \n",
        "\n",
        "# Memisahkan variabel kategori dengan variabel numerik\n",
        "dataset_dummies = df_model.select_dtypes(exclude = ['float64','int64','int'])\n",
        "dataset_int = df_model.select_dtypes(include=['float64','int64','int'])\n",
        "\n",
        "# Memisahkan target/dependent variabel dari dataset dengan variabel kategori\n",
        "target = df_model['default']\n",
        "dataset_int.drop(['default'], axis = 1, inplace = True)\n",
        "\n",
        "# Menggunakan function get_dummies dari panda untuk melakukan one hot encoding\n",
        "dataset_dummies_df = pd.get_dummies(dataset_dummies,drop_first = True)\n",
        "    \n",
        "# Menggabungkan dataset variabel kategori dari one hot encoding dengan variabel numerik\n",
        "dataset = pd.concat([dataset_dummies_df, dataset_int], axis = 1)\n",
        "feature_name = dataset.columns\n",
        "df_encoded = pd.concat([dataset, target], axis = 1)\n",
        "\n",
        "# Cek isi df_encoded\n",
        "print(df_encoded.head(10))\n",
        "df_encoded.info()"
      ],
      "execution_count": 151,
      "outputs": [
        {
          "output_type": "stream",
          "name": "stdout",
          "text": [
            "   SLIK_Kolektibilitas_Kolek 2  ...  default\n",
            "0                            0  ...        0\n",
            "1                            0  ...        1\n",
            "2                            0  ...        0\n",
            "3                            0  ...        0\n",
            "4                            1  ...        1\n",
            "5                            0  ...        0\n",
            "6                            0  ...        0\n",
            "7                            0  ...        0\n",
            "8                            0  ...        0\n",
            "9                            0  ...        1\n",
            "\n",
            "[10 rows x 31 columns]\n",
            "<class 'pandas.core.frame.DataFrame'>\n",
            "RangeIndex: 948 entries, 0 to 947\n",
            "Data columns (total 31 columns):\n",
            " #   Column                                       Non-Null Count  Dtype  \n",
            "---  ------                                       --------------  -----  \n",
            " 0   SLIK_Kolektibilitas_Kolek 2                  948 non-null    uint8  \n",
            " 1   SLIK_Kolektibilitas_Kolek 3                  948 non-null    uint8  \n",
            " 2   SLIK_Kolektibilitas_Kolek 4                  948 non-null    uint8  \n",
            " 3   SLIK_Kolektibilitas_Kolek 5                  948 non-null    uint8  \n",
            " 4   SLIK_Kolektibilitas_Tidak_Ditemukan          948 non-null    uint8  \n",
            " 5   Device_Apps_Segmentation_Online_Lending      948 non-null    uint8  \n",
            " 6   Device_Apps_Segmentation_Productivity        948 non-null    uint8  \n",
            " 7   Device_Apps_Segmentation_Shopping            948 non-null    uint8  \n",
            " 8   Device_Apps_Segmentation_Social_Media        948 non-null    uint8  \n",
            " 9   Device_Active_Since_2_1_ke_3_tahun           948 non-null    uint8  \n",
            " 10  Device_Active_Since_3_Lebih_3_tahun          948 non-null    uint8  \n",
            " 11  Mobile_Provider_Telco_B                      948 non-null    uint8  \n",
            " 12  Mobile_Provider_Telco_C                      948 non-null    uint8  \n",
            " 13  Mobile_Provider_Telco_D                      948 non-null    uint8  \n",
            " 14  Mobile_Provider_Telco_E                      948 non-null    uint8  \n",
            " 15  Tujuan_Pinjaman_elektronik                   948 non-null    uint8  \n",
            " 16  Tujuan_Pinjaman_liburan                      948 non-null    uint8  \n",
            " 17  Tujuan_Pinjaman_makanan                      948 non-null    uint8  \n",
            " 18  Tujuan_Pinjaman_pendidikan                   948 non-null    uint8  \n",
            " 19  Tujuan_Pinjaman_peralatan_rumahtangga        948 non-null    uint8  \n",
            " 20  Mobile_Number_Active_Since_2_Kurang_1_tahun  948 non-null    uint8  \n",
            " 21  Mobile_Number_Active_Since_3_1_ke_2_tahun    948 non-null    uint8  \n",
            " 22  Mobile_Number_Active_Since_4_2_ke_5_tahun    948 non-null    uint8  \n",
            " 23  Mobile_Number_Active_Since_5_Lebih_5_tahun   948 non-null    uint8  \n",
            " 24  Alamat_Rumah_Kantor_2.Rumah_Kantor_Jauh      948 non-null    uint8  \n",
            " 25  DBR                                          948 non-null    float64\n",
            " 26  Lama_Cicilan                                 948 non-null    float64\n",
            " 27  Usia                                         948 non-null    float64\n",
            " 28  API_CreditScore_Vendor_B                     948 non-null    int64  \n",
            " 29  Device_Apps_Installed                        948 non-null    int64  \n",
            " 30  default                                      948 non-null    int64  \n",
            "dtypes: float64(3), int64(3), uint8(25)\n",
            "memory usage: 67.7 KB\n"
          ]
        },
        {
          "output_type": "stream",
          "name": "stderr",
          "text": [
            "/usr/local/lib/python3.7/dist-packages/pandas/core/frame.py:4174: SettingWithCopyWarning: \n",
            "A value is trying to be set on a copy of a slice from a DataFrame\n",
            "\n",
            "See the caveats in the documentation: https://pandas.pydata.org/pandas-docs/stable/user_guide/indexing.html#returning-a-view-versus-a-copy\n",
            "  errors=errors,\n"
          ]
        }
      ]
    },
    {
      "cell_type": "markdown",
      "metadata": {
        "id": "b8CRt7wbCE6y"
      },
      "source": [
        "# Menggunakan model Random Forest (tanpa scorecard)\n",
        "*   Menggunakan opsi parameter standar di Random Forest\n",
        "*   Tidak melakukan resampling"
      ]
    },
    {
      "cell_type": "code",
      "metadata": {
        "id": "OshkKpc2CDHe",
        "outputId": "9b956956-f8ba-4ae7-ad16-ee0a1dfe8e2d",
        "colab": {
          "base_uri": "https://localhost:8080/"
        }
      },
      "source": [
        "# Membagi dataset menjadi development(train) dan test\n",
        "y = df_encoded.loc[:,'default']\n",
        "X = df_encoded.loc[:,df_encoded.columns != 'default']\n",
        "\n",
        "# Split your data into training and test set\n",
        "X_train, X_test, y_train, y_test = train_test_split(X, y, test_size=0.3, random_state=42)\n",
        "\n",
        "# Define the model as the random forest\n",
        "from sklearn.ensemble import RandomForestClassifier\n",
        "model = RandomForestClassifier(random_state=42, n_estimators=20)\n",
        "\n",
        "# Fit the model to our training set\n",
        "model.fit(X_train, y_train)\n",
        "\n",
        "# Obtain predictions from the test data \n",
        "predicted = model.predict(X_test)\n",
        "\n",
        "from sklearn.metrics import classification_report\n",
        "from sklearn.metrics import confusion_matrix\n",
        "# Obtain the results from the classification report and confusion matrix \n",
        "print('Classifcation report:\\n', classification_report(y_test, predicted))\n",
        "conf_mat = confusion_matrix(y_true=y_test, y_pred=predicted)\n",
        "print('Confusion matrix:\\n', conf_mat)\n",
        "\n",
        "# Obtain model probabilities\n",
        "probs = model.predict_proba(X_test)\n",
        "\n",
        "# Print ROC_AUC score using probabilities\n",
        "from sklearn.metrics import r2_score, classification_report, confusion_matrix, accuracy_score, roc_auc_score, roc_curve, precision_recall_curve, average_precision_score\n",
        "print('ROC Score:', roc_auc_score(y_test, probs[:, 1]))"
      ],
      "execution_count": 152,
      "outputs": [
        {
          "output_type": "stream",
          "name": "stdout",
          "text": [
            "Classifcation report:\n",
            "               precision    recall  f1-score   support\n",
            "\n",
            "           0       0.81      0.96      0.88       204\n",
            "           1       0.81      0.42      0.55        81\n",
            "\n",
            "    accuracy                           0.81       285\n",
            "   macro avg       0.81      0.69      0.71       285\n",
            "weighted avg       0.81      0.81      0.78       285\n",
            "\n",
            "Confusion matrix:\n",
            " [[196   8]\n",
            " [ 47  34]]\n",
            "ROC Score: 0.7728152989590898\n"
          ]
        }
      ]
    },
    {
      "cell_type": "markdown",
      "metadata": {
        "id": "MhbFyjscC_49"
      },
      "source": [
        "# Menggunakan model Random Forest (dengan scorecard)\n",
        "*   Menggunakan opsi parameter standar di Random Forest\n",
        "*   Menggunakan metode bin dan WOE\n",
        "*   Tidak melakukan resampling"
      ]
    },
    {
      "cell_type": "code",
      "metadata": {
        "id": "1Wk7rWeVDCnd",
        "outputId": "f621de35-6c3e-45f5-fa08-df6ebea9fb93",
        "colab": {
          "base_uri": "https://localhost:8080/",
          "height": 778
        }
      },
      "source": [
        "y = df_model_Bin.loc[:,'default']\n",
        "X = df_model_Bin.loc[:,df_model_WOE.columns != 'default']\n",
        "\n",
        "from sklearn.model_selection import train_test_split\n",
        "X_train, X_test, y_train, y_test = train_test_split(X, y, test_size=0.30, random_state=42)\n",
        "\n",
        "# Dalam bentuk dataframe lengkap\n",
        "df_train = pd.concat([X_train, y_train], axis = 1)\n",
        "df_test = pd.concat([X_test, y_test], axis = 1)\n",
        "\n",
        "# Menghapus indeks dari data yang telah dibuang\n",
        "df_train = df_train.reset_index(drop=True)\n",
        "df_test = df_test.reset_index(drop=True)\n",
        "\n",
        "# Credit Scoring using logistic regression with library scorecardpy\n",
        "import scorecardpy as scpy\n",
        "\n",
        "# Melakukan WOE binning\n",
        "bins = scpy.woebin(df_train, y = 'default')\n",
        "\n",
        "# Melakukan WOE binning dengan adjustment\n",
        "breaks_adj = {\n",
        "    'SLIK_Kolektibilitas_Bin': ['Kolek 1','Kolek 2&3','Kolek 4&5','Kolek Tidak_Ditemukan'],\n",
        "    'DBR_Bin': [\"1.0%\", \"2.0-10%\",\"3.10-20%\",\"4.20-30%\",\"5.30-40%\",\"6.40-50%\",\"7.50-60%\",\"8.>60%\"],\n",
        "    'Device_Apps_Segmentation_Bin': [\"Games\",\"Online_Lending\",\"Productivity\",\"Shopping\",\"Social_Media\"],\n",
        "    'Lama_Cicilan_Bin': [\"1_bulan\", \"2_bulan\",\"3_bulan\",\"4_bulan\",\"5_bulan\",\"6_bulan\"],\n",
        "    'Usia_Bin': [\"1.<=25\",\"2.26-30\",\"3.31-35\",\"4.36-40\",\"5.41-50\",\"6.>=51\"],\n",
        "    'Device_Active_Since_Bin': [\"1_Kurang_1_tahun\", \"2_1_ke_3_tahun\",\"3_Lebih_3_tahun\"],\n",
        "    'API_CreditScore_Vendor_B_Bin': [\"1.0-100\", \"2.101-175\",\"3.176-225\",\"4.226-299\",\"5.>299\"],\n",
        "    'Mobile_Provider_Bin': [\"Telco_A\", \"Telco_B\",\"Telco_C\",\"Telco_D\",\"Telco_E\"],\n",
        "    'Tujuan_Pinjaman_Bin': [\"1.pendidikan\", \"2.buka_bisnis\",\"3.liburan\",\"4.elektronik\",\"5.peralatan_rumahtangga\",\"6.makanan\"],\n",
        "    'Device_Apps_Installed_Bin': [\"1.0-5\", \"2.5-10\",\"3.10-15\",\"4.15-20\",\"5.20-30\",\"6.>30\"],\n",
        "    'Mobile_Number_Active_Since_Bin': [\"1_Kurang_1_bulan\", \"2_Kurang_1_tahun\",\"3_1_ke_2_tahun\",\"4_2_ke_5_tahun\",\"5_Lebih_5_tahun\"],\n",
        "    'Alamat_Rumah_Kantor_Bin': [\"1.Rumah_Kantor_Dekat\",\"2.Rumah_Kantor_Jauh\"]\n",
        "}\n",
        "bins_adj = scpy.woebin(df_train, y=\"default\", breaks_list=breaks_adj)\n",
        "\n",
        "train = df_train\n",
        "test = df_test\n",
        "# converting train and test into woe values\n",
        "train_woe = scpy.woebin_ply(train, bins_adj)\n",
        "test_woe = scpy.woebin_ply(test, bins_adj)\n",
        "\n",
        "y_train = train_woe.loc[:,'default']\n",
        "X_train = train_woe.loc[:,train_woe.columns != 'default']\n",
        "y_test = test_woe.loc[:,'default']\n",
        "X_test = test_woe.loc[:,train_woe.columns != 'default']\n",
        "\n",
        "# Membuat scorecard dengan menggunakan algoritma xgboost\n",
        "import xgboost as xgb\n",
        "xgb_model = xgb.XGBRegressor(objective=\"binary:logistic\", random_state=42)\n",
        "xgb_model.fit(X_train, y_train)\n",
        "\n",
        "# predicted probability\n",
        "# predicted proability\n",
        "train_pred = xgb_model.predict(X_train)\n",
        "test_pred = xgb_model.predict(X_test)\n",
        "\n",
        "# performance ks & roc ------\n",
        "train_perf = scpy.perf_eva(y_train, train_pred, title = \"train\")\n",
        "test_perf = scpy.perf_eva(y_test, test_pred, title = \"test\")\n",
        "\n",
        "# score ------\n",
        "# tidak bisa dilakukan karena logic model memperlukan coefficient regresi\n",
        "#card = scpy.scorecard(bins_adj, xgb_model, X_train.columns, points0=600, odds0=1/20, pdo=50, basepoints_eq0=False)\n",
        "# credit score\n",
        "#train_score = scpy.scorecard_ply(train, card, print_step=0)\n",
        "#test_score = scpy.scorecard_ply(test, card, print_step=0)\n",
        "\n",
        "# Membuat scoring\n",
        "P0 = 600 # Target Score\n",
        "PDO = 50 # Target Odds\n",
        "theta0 = 1.0/20 # Points double odds\n",
        "B = PDO/np.log(2)\n",
        "A = P0 + B * np.log(theta0)\n",
        "\n",
        "train_score = A - B*np.log(train_pred/(1-train_pred))\n",
        "test_score = A - B*np.log(test_pred/(1-test_pred))\n",
        "\n",
        "df_score_train = pd.DataFrame(train_score, columns=['Score'])\n",
        "df_score_test = pd.DataFrame(test_score, columns=['Score'])\n",
        "\n",
        "# psi\n",
        "scpy.perf_psi(\n",
        "  score = {'train':df_score_train, 'test':df_score_test},\n",
        "  label = {'train':y_train, 'test':y_test}\n",
        ")\n",
        "\n",
        "\n",
        "# Menggabungkan dataset variabel kategori dari one hot encoding dengan variabel numerik\n",
        "df_result_test = pd.concat([df_test, df_score_test], axis = 1)"
      ],
      "execution_count": 153,
      "outputs": [
        {
          "output_type": "stream",
          "name": "stdout",
          "text": [
            "[INFO] creating woe binning ...\n",
            "[INFO] creating woe binning ...\n",
            "[INFO] converting into woe values ...\n",
            "[INFO] converting into woe values ...\n"
          ]
        },
        {
          "output_type": "display_data",
          "data": {
            "image/png": "[encoded data removed]",
            "text/plain": [
              "<Figure size 432x288 with 2 Axes>"
            ]
          },
          "metadata": {
            "needs_background": "light"
          }
        },
        {
          "output_type": "display_data",
          "data": {
            "image/png": "[encoded data removed]",
            "text/plain": [
              "<Figure size 432x288 with 2 Axes>"
            ]
          },
          "metadata": {
            "needs_background": "light"
          }
        },
        {
          "output_type": "display_data",
          "data": {
            "image/png": "[encoded data removed]",
            "text/plain": [
              "<Figure size 432x288 with 2 Axes>"
            ]
          },
          "metadata": {
            "needs_background": "light"
          }
        }
      ]
    },
    {
      "cell_type": "code",
      "metadata": {
        "id": "EzDBo13-1yQQ",
        "outputId": "d3aab29d-c24e-4249-f3d4-ac2973414c17",
        "colab": {
          "base_uri": "https://localhost:8080/",
          "height": 17
        }
      },
      "source": [
        "# Membagi dataset menjadi development(train) dan test\n",
        "y = df_model_WOE.loc[:,'default']\n",
        "X = df_model_WOE.loc[:,df_model_WOE.columns != 'default']\n",
        "\n",
        "from sklearn.model_selection import train_test_split\n",
        "X_train, X_test, y_train, y_test = train_test_split(X, y, test_size=0.30, random_state=42)\n",
        "\n",
        "# Dalam bentuk dataframe lengkap\n",
        "df_train = pd.concat([X_train, y_train], axis = 1)\n",
        "df_test = pd.concat([X_test, y_test], axis = 1)\n",
        "\n",
        "# Menghapus indeks dari data yang telah dibuang\n",
        "df_train = df_train.reset_index(drop=True)\n",
        "df_test = df_test.reset_index(drop=True)\n",
        "\n",
        "# Membuat scorecard dengan menggunakan algoritma xgboost\n",
        "import xgboost as xgb\n",
        "xgb_model = xgb.XGBRegressor(objective=\"binary:logistic\", random_state=42)\n",
        "xgb_model.fit(X_train, y_train)\n",
        "\n",
        "# Membuat scoring\n",
        "P0 = 600 # Target Score\n",
        "PDO = 50 # Target Odds\n",
        "theta0 = 1.0/20 # Points double odds\n",
        "B = PDO/np.log(2)\n",
        "A = P0 + B * np.log(theta0)\n",
        "\n",
        "train_pred_proba_xgb = xgb_model.predict(X_train)\n",
        "\n",
        "score = A - B*np.log(train_pred_proba_xgb/(1-train_pred_proba_xgb))\n",
        "\n",
        "df_train_pred_proba_xgb = pd.DataFrame(train_pred_proba_xgb, columns=['train_pred_proba'])\n",
        "df_train_score_xgb = pd.DataFrame(score, columns=['Score'])\n",
        "\n",
        "# Menggabungkan dataset variabel kategori dari one hot encoding dengan variabel numerik\n",
        "df_model_result_xgb = pd.concat([df_train, df_train_pred_proba_xgb, df_train_score_xgb], axis = 1)\n",
        "\n",
        "# Untuk memudahkan membaca hasil, maka disimpan dalam bentuk csv dan didownload\n",
        "from google.colab import files\n",
        "df_model_result_xgb.to_csv('df_model_result_xgb.csv') \n",
        "files.download('df_model_result_xgb.csv')"
      ],
      "execution_count": 154,
      "outputs": [
        {
          "output_type": "display_data",
          "data": {
            "application/javascript": [
              "\n",
              "    async function download(id, filename, size) {\n",
              "      if (!google.colab.kernel.accessAllowed) {\n",
              "        return;\n",
              "      }\n",
              "      const div = document.createElement('div');\n",
              "      const label = document.createElement('label');\n",
              "      label.textContent = `Downloading \"${filename}\": `;\n",
              "      div.appendChild(label);\n",
              "      const progress = document.createElement('progress');\n",
              "      progress.max = size;\n",
              "      div.appendChild(progress);\n",
              "      document.body.appendChild(div);\n",
              "\n",
              "      const buffers = [];\n",
              "      let downloaded = 0;\n",
              "\n",
              "      const channel = await google.colab.kernel.comms.open(id);\n",
              "      // Send a message to notify the kernel that we're ready.\n",
              "      channel.send({})\n",
              "\n",
              "      for await (const message of channel.messages) {\n",
              "        // Send a message to notify the kernel that we're ready.\n",
              "        channel.send({})\n",
              "        if (message.buffers) {\n",
              "          for (const buffer of message.buffers) {\n",
              "            buffers.push(buffer);\n",
              "            downloaded += buffer.byteLength;\n",
              "            progress.value = downloaded;\n",
              "          }\n",
              "        }\n",
              "      }\n",
              "      const blob = new Blob(buffers, {type: 'application/binary'});\n",
              "      const a = document.createElement('a');\n",
              "      a.href = window.URL.createObjectURL(blob);\n",
              "      a.download = filename;\n",
              "      div.appendChild(a);\n",
              "      a.click();\n",
              "      div.remove();\n",
              "    }\n",
              "  "
            ],
            "text/plain": [
              "<IPython.core.display.Javascript object>"
            ]
          },
          "metadata": {}
        },
        {
          "output_type": "display_data",
          "data": {
            "application/javascript": [
              "download(\"download_3fee3014-320e-4c5c-b8f2-93946924b88e\", \"df_model_result_xgb.csv\", 87949)"
            ],
            "text/plain": [
              "<IPython.core.display.Javascript object>"
            ]
          },
          "metadata": {}
        }
      ]
    }
  ]
}