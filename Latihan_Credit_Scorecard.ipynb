{
  "nbformat": 4,
  "nbformat_minor": 0,
  "metadata": {
    "colab": {
      "name": "Latihan_Credit_Scorecard.ipynb",
      "provenance": [],
      "authorship_tag": "ABX9TyNyRP0+VFrGjDVu2fC7vaLb",
      "include_colab_link": true
    },
    "kernelspec": {
      "name": "python3",
      "display_name": "Python 3"
    },
    "language_info": {
      "name": "python"
    }
  },
  "cells": [
    {
      "cell_type": "markdown",
      "metadata": {
        "id": "view-in-github",
        "colab_type": "text"
      },
      "source": [
        "<a href=\"https://colab.research.google.com/github/IndraLukasTjahaja/Digital_Credit_Risk/blob/main/Latihan_Credit_Scorecard.ipynb\" target=\"_parent\"><img src=\"https://colab.research.google.com/assets/colab-badge.svg\" alt=\"Open In Colab\"/></a>"
      ]
    },
    {
      "cell_type": "markdown",
      "metadata": {
        "id": "IE67-iq2sNeN"
      },
      "source": [
        "# Latihan\n",
        "Google Colab ini adalah template yang dapat digunakan untuk membuat PR/Latihan dari training Credit Scorecard Model dengan Python. Template ini terbagi menjadi dua: yang pertama adalah cara cepat menggunakan library scorecardpy dan yang kedua adalah cara manual.\n",
        "\n",
        "Peserta training diharapkan dapat membuat scorecard dengan menggunakan kedua metode tersebut.\n",
        "\n",
        "Setiap peserta memiliki dataset yang berbeda-beda. Hal ini dapat diatur dibagian membaca data"
      ]
    },
    {
      "cell_type": "markdown",
      "metadata": {
        "id": "6KR31RGPsG9Q"
      },
      "source": [
        "# Membaca Data\n",
        "\n",
        "## Persiapan data dan impor ke Python\n",
        "\n",
        "Impor data yang akan digunakan untuk membuat model. Untuk peserta training, gunakan dataset yang telah ditunjuk"
      ]
    },
    {
      "cell_type": "code",
      "metadata": {
        "id": "rY18ipqqtAh8"
      },
      "source": [
        "# library panda untuk menggunakan data frame\n",
        "import pandas as pd\n",
        "\n",
        "# Impor data dari excel xls ke Python\n",
        "# Pembaca dapat langsung menunjuk kepada file excel yang terletak di website pendamping buku ini\n",
        "# atau mengunduh terlebih dahulu dan menunjuk ke file excel di lokasi hard drive\n",
        "# contoh: df = pd.read_excel('C:\\User\\pembaca\\downloads\\Credit_Scoring_Dataset.xlsx')\n",
        "\n",
        "# Untuk Chendra. Tugasnya adalah membuat model dengan dataset berikut:\n",
        "#df = pd.read_excel('https://tjahaja.com/wp-content/uploads/2021/10/german_credit_easy.xlsx')\n",
        "df = pd.read_excel('https://github.com/IndraLukasTjahaja/Digital_Credit_Risk/blob/main/Dataset/german_credit_easy.xlsx?raw=true')\n",
        "\n",
        "# Untuk Dea. Tugasnya adalah membuat model dengan dataset berikut:\n",
        "#df = pd.read_excel('https://tjahaja.com/wp-content/uploads/2021/10/OnClass_CreditScoring_data_v2.xlsx')\n",
        "df = pd.read_excel('https://github.com/IndraLukasTjahaja/Digital_Credit_Risk/blob/main/Dataset/OnClass_CreditScoring_data_v2.xlsx?raw=true')\n",
        "\n",
        "# Untuk Imam. Tugasnya adalah membuat model dengan dataset berikut:\n",
        "#df = pd.read_excel('https://tjahaja.com/wp-content/uploads/2021/10/simulation_credit_kaggle_laotse.xlsx')\n",
        "df = pd.read_excel('https://github.com/IndraLukasTjahaja/Digital_Credit_Risk/blob/main/Dataset/simulation_credit_kaggle_laotse.xlsx?raw=true')\n",
        "\n",
        "# Untuk Marsella. Tugasnya adalah membuat model dengan K-S minimum 50\n",
        "df = pd.read_excel('https://github.com/IndraLukasTjahaja/Digital_Credit_Risk/raw/main/Credit_Scoring_Dataset.xlsx')\n",
        "\n",
        "# Mohon delete kode read_excel yang bukan tugas kalian"
      ],
      "execution_count": 5,
      "outputs": []
    },
    {
      "cell_type": "markdown",
      "metadata": {
        "id": "FZ2NpcgUt0HI"
      },
      "source": [
        "# Struktur dan Tipe Data"
      ]
    },
    {
      "cell_type": "code",
      "metadata": {
        "id": "hs3s2y2pt-vS",
        "outputId": "ce3ff3f2-83de-4913-fe08-379e816b080d",
        "colab": {
          "base_uri": "https://localhost:8080/",
          "height": 383
        }
      },
      "source": [
        "df.head(10) # Menampilkan 10 baris teratas dari dataframe df"
      ],
      "execution_count": 6,
      "outputs": [
        {
          "output_type": "execute_result",
          "data": {
            "text/html": [
              "<div>\n",
              "<style scoped>\n",
              "    .dataframe tbody tr th:only-of-type {\n",
              "        vertical-align: middle;\n",
              "    }\n",
              "\n",
              "    .dataframe tbody tr th {\n",
              "        vertical-align: top;\n",
              "    }\n",
              "\n",
              "    .dataframe thead th {\n",
              "        text-align: right;\n",
              "    }\n",
              "</style>\n",
              "<table border=\"1\" class=\"dataframe\">\n",
              "  <thead>\n",
              "    <tr style=\"text-align: right;\">\n",
              "      <th></th>\n",
              "      <th>person_age</th>\n",
              "      <th>person_income</th>\n",
              "      <th>person_home_ownership</th>\n",
              "      <th>person_emp_length</th>\n",
              "      <th>loan_intent</th>\n",
              "      <th>loan_grade</th>\n",
              "      <th>loan_amnt</th>\n",
              "      <th>loan_int_rate</th>\n",
              "      <th>loan_status</th>\n",
              "      <th>loan_percent_income</th>\n",
              "      <th>cb_person_default_on_file</th>\n",
              "      <th>cb_person_cred_hist_length</th>\n",
              "    </tr>\n",
              "  </thead>\n",
              "  <tbody>\n",
              "    <tr>\n",
              "      <th>0</th>\n",
              "      <td>22</td>\n",
              "      <td>59000</td>\n",
              "      <td>RENT</td>\n",
              "      <td>123.0</td>\n",
              "      <td>PERSONAL</td>\n",
              "      <td>D</td>\n",
              "      <td>35000</td>\n",
              "      <td>16.02</td>\n",
              "      <td>1</td>\n",
              "      <td>0.59</td>\n",
              "      <td>Y</td>\n",
              "      <td>3</td>\n",
              "    </tr>\n",
              "    <tr>\n",
              "      <th>1</th>\n",
              "      <td>21</td>\n",
              "      <td>9600</td>\n",
              "      <td>OWN</td>\n",
              "      <td>5.0</td>\n",
              "      <td>EDUCATION</td>\n",
              "      <td>B</td>\n",
              "      <td>1000</td>\n",
              "      <td>11.14</td>\n",
              "      <td>0</td>\n",
              "      <td>0.10</td>\n",
              "      <td>N</td>\n",
              "      <td>2</td>\n",
              "    </tr>\n",
              "    <tr>\n",
              "      <th>2</th>\n",
              "      <td>25</td>\n",
              "      <td>9600</td>\n",
              "      <td>MORTGAGE</td>\n",
              "      <td>1.0</td>\n",
              "      <td>MEDICAL</td>\n",
              "      <td>C</td>\n",
              "      <td>5500</td>\n",
              "      <td>12.87</td>\n",
              "      <td>1</td>\n",
              "      <td>0.57</td>\n",
              "      <td>N</td>\n",
              "      <td>3</td>\n",
              "    </tr>\n",
              "    <tr>\n",
              "      <th>3</th>\n",
              "      <td>23</td>\n",
              "      <td>65500</td>\n",
              "      <td>RENT</td>\n",
              "      <td>4.0</td>\n",
              "      <td>MEDICAL</td>\n",
              "      <td>C</td>\n",
              "      <td>35000</td>\n",
              "      <td>15.23</td>\n",
              "      <td>1</td>\n",
              "      <td>0.53</td>\n",
              "      <td>N</td>\n",
              "      <td>2</td>\n",
              "    </tr>\n",
              "    <tr>\n",
              "      <th>4</th>\n",
              "      <td>24</td>\n",
              "      <td>54400</td>\n",
              "      <td>RENT</td>\n",
              "      <td>8.0</td>\n",
              "      <td>MEDICAL</td>\n",
              "      <td>C</td>\n",
              "      <td>35000</td>\n",
              "      <td>14.27</td>\n",
              "      <td>1</td>\n",
              "      <td>0.55</td>\n",
              "      <td>Y</td>\n",
              "      <td>4</td>\n",
              "    </tr>\n",
              "    <tr>\n",
              "      <th>5</th>\n",
              "      <td>21</td>\n",
              "      <td>9900</td>\n",
              "      <td>OWN</td>\n",
              "      <td>2.0</td>\n",
              "      <td>VENTURE</td>\n",
              "      <td>A</td>\n",
              "      <td>2500</td>\n",
              "      <td>7.14</td>\n",
              "      <td>1</td>\n",
              "      <td>0.25</td>\n",
              "      <td>N</td>\n",
              "      <td>2</td>\n",
              "    </tr>\n",
              "    <tr>\n",
              "      <th>6</th>\n",
              "      <td>26</td>\n",
              "      <td>77100</td>\n",
              "      <td>RENT</td>\n",
              "      <td>8.0</td>\n",
              "      <td>EDUCATION</td>\n",
              "      <td>B</td>\n",
              "      <td>35000</td>\n",
              "      <td>12.42</td>\n",
              "      <td>1</td>\n",
              "      <td>0.45</td>\n",
              "      <td>N</td>\n",
              "      <td>3</td>\n",
              "    </tr>\n",
              "    <tr>\n",
              "      <th>7</th>\n",
              "      <td>24</td>\n",
              "      <td>78956</td>\n",
              "      <td>RENT</td>\n",
              "      <td>5.0</td>\n",
              "      <td>MEDICAL</td>\n",
              "      <td>B</td>\n",
              "      <td>35000</td>\n",
              "      <td>11.11</td>\n",
              "      <td>1</td>\n",
              "      <td>0.44</td>\n",
              "      <td>N</td>\n",
              "      <td>4</td>\n",
              "    </tr>\n",
              "    <tr>\n",
              "      <th>8</th>\n",
              "      <td>24</td>\n",
              "      <td>83000</td>\n",
              "      <td>RENT</td>\n",
              "      <td>8.0</td>\n",
              "      <td>PERSONAL</td>\n",
              "      <td>A</td>\n",
              "      <td>35000</td>\n",
              "      <td>8.90</td>\n",
              "      <td>1</td>\n",
              "      <td>0.42</td>\n",
              "      <td>N</td>\n",
              "      <td>2</td>\n",
              "    </tr>\n",
              "    <tr>\n",
              "      <th>9</th>\n",
              "      <td>21</td>\n",
              "      <td>10000</td>\n",
              "      <td>OWN</td>\n",
              "      <td>6.0</td>\n",
              "      <td>VENTURE</td>\n",
              "      <td>D</td>\n",
              "      <td>1600</td>\n",
              "      <td>14.74</td>\n",
              "      <td>1</td>\n",
              "      <td>0.16</td>\n",
              "      <td>N</td>\n",
              "      <td>3</td>\n",
              "    </tr>\n",
              "  </tbody>\n",
              "</table>\n",
              "</div>"
            ],
            "text/plain": [
              "   person_age  ...  cb_person_cred_hist_length\n",
              "0          22  ...                           3\n",
              "1          21  ...                           2\n",
              "2          25  ...                           3\n",
              "3          23  ...                           2\n",
              "4          24  ...                           4\n",
              "5          21  ...                           2\n",
              "6          26  ...                           3\n",
              "7          24  ...                           4\n",
              "8          24  ...                           2\n",
              "9          21  ...                           3\n",
              "\n",
              "[10 rows x 12 columns]"
            ]
          },
          "metadata": {},
          "execution_count": 6
        }
      ]
    },
    {
      "cell_type": "code",
      "metadata": {
        "id": "daQ9xFjyuFkx"
      },
      "source": [
        "df.info()"
      ],
      "execution_count": null,
      "outputs": []
    },
    {
      "cell_type": "markdown",
      "metadata": {
        "id": "ViKsvYa5uLQv"
      },
      "source": [
        "# Data Preparation\n",
        "\n",
        "## Missing data treatment\n",
        "\n",
        "Asumsi jika ada baris data yang hilang, maka akan kita buang saja"
      ]
    },
    {
      "cell_type": "code",
      "metadata": {
        "id": "AaDn0MjeuTAR"
      },
      "source": [
        "# Menggunakan fungsi dropna() untuk menghapus semua baris yang memiliki data kosong\n",
        "df_clean = df.dropna()\n",
        "df_clean.reset_index(drop=True)"
      ],
      "execution_count": null,
      "outputs": []
    },
    {
      "cell_type": "markdown",
      "metadata": {
        "id": "gvdOu4QcuVuC"
      },
      "source": [
        "# Data Exploration\n",
        "\n",
        "Pada bagian ini silahkan melakukan eksplorasi data seperti yang kita lakukan ketika training"
      ]
    },
    {
      "cell_type": "code",
      "metadata": {
        "id": "i6WnQPQsud21"
      },
      "source": [
        ""
      ],
      "execution_count": null,
      "outputs": []
    },
    {
      "cell_type": "markdown",
      "metadata": {
        "id": "4eklP6g8vqxR"
      },
      "source": [
        "## Pembuatan Variabel baru\n",
        "\n",
        "Jangan lupa untuk membuat variabel baru dan variabel target dalam bentuk angka (jika belum ada)"
      ]
    },
    {
      "cell_type": "code",
      "metadata": {
        "id": "JfDepKFVvqV_"
      },
      "source": [
        "import numpy as np\n",
        "\n",
        "# Untuk dapat melakukan analisa statistik, harus mengubah variabel gagal_bayar dari string menjadi angka (integer)\n",
        "# Mengubah target variabel gagal_bayar menjadi angka 0 dan 1\n",
        "conditions = [\n",
        "             df_clean['gagal_bayar'] == '1_Gagal', \n",
        "             df_clean['gagal_bayar'] == '0_Bayar'\n",
        "             ]\n",
        "\n",
        "choices     = [\n",
        "             1,\n",
        "             0\n",
        "             ]\n",
        "df_clean['default'] = np.select(conditions,choices, default = 0)"
      ],
      "execution_count": null,
      "outputs": []
    },
    {
      "cell_type": "markdown",
      "metadata": {
        "id": "oO30hjSGulcQ"
      },
      "source": [
        "# Data Modeling cara cepat dengan Scorecardpy"
      ]
    },
    {
      "cell_type": "markdown",
      "metadata": {
        "id": "T9RiNThWuri2"
      },
      "source": [
        "## Instalasi library scorecardpy terlebih dahulu"
      ]
    },
    {
      "cell_type": "code",
      "metadata": {
        "id": "D6mcNdgOuq5P"
      },
      "source": [
        "# install scorecardpy\n",
        "!pip install -q scorecardpy\n",
        "#!pip install git+git://github.com/shichenxie/scorecardpy.git"
      ],
      "execution_count": null,
      "outputs": []
    },
    {
      "cell_type": "markdown",
      "metadata": {
        "id": "RTwRvu5FwRWb"
      },
      "source": [
        "## Memilih variabel untuk model"
      ]
    },
    {
      "cell_type": "code",
      "metadata": {
        "id": "iubKN78-wUat"
      },
      "source": [
        "df_model = df_clean[['default','SLIK_Kolektibilitas','Tujuan_Pinjaman']]"
      ],
      "execution_count": null,
      "outputs": []
    },
    {
      "cell_type": "markdown",
      "metadata": {
        "id": "JvdOpqwzu0Jw"
      },
      "source": [
        "## Persiapan Modeling, train dan test dataset, pembuatan binning dan EDA"
      ]
    },
    {
      "cell_type": "code",
      "metadata": {
        "id": "zIeaTuN4u1Lf"
      },
      "source": [
        "y = df_model.loc[:,'default']\n",
        "X = df_model.loc[:,df_model.columns != 'default']\n",
        "\n",
        "from sklearn.model_selection import train_test_split\n",
        "X_train, X_test, y_train, y_test = train_test_split(X, y, test_size=0.30, random_state=42)\n",
        "\n",
        "# Dalam bentuk dataframe lengkap\n",
        "df_train = pd.concat([X_train, y_train], axis = 1)\n",
        "df_test = pd.concat([X_test, y_test], axis = 1)\n",
        "\n",
        "# Menghapus indeks dari data yang telah dibuang\n",
        "df_train = df_train.reset_index(drop=True)\n",
        "df_test = df_test.reset_index(drop=True)\n",
        "\n",
        "# Credit Scoring using logistic regression with library scorecardpy\n",
        "import scorecardpy as scpy\n",
        "\n",
        "# Melakukan WOE binning\n",
        "bins = scpy.woebin(df_train, y = 'default')\n",
        "\n",
        "# Melakukan WOE binning dengan adjustment\n",
        "breaks_adj = {\n",
        "}\n",
        "bins_adj = scpy.woebin(df_train, y=\"default\", breaks_list=breaks_adj)\n",
        "\n",
        "scpy.woebin_plot(bins_adj)"
      ],
      "execution_count": null,
      "outputs": []
    },
    {
      "cell_type": "markdown",
      "metadata": {
        "id": "2fxmNoTavPyX"
      },
      "source": [
        "## Pembuatan WOE secara otomatis"
      ]
    },
    {
      "cell_type": "code",
      "metadata": {
        "id": "-CsBIw3RvOob"
      },
      "source": [
        "train = df_train\n",
        "test = df_test\n",
        "\n",
        "# converting train and test into woe values\n",
        "train_woe = scpy.woebin_ply(train, bins_adj)\n",
        "test_woe = scpy.woebin_ply(test, bins_adj)\n",
        "\n",
        "y_train = train_woe.loc[:,'default']\n",
        "X_train = train_woe.loc[:,train_woe.columns != 'default']\n",
        "y_test = test_woe.loc[:,'default']\n",
        "X_test = test_woe.loc[:,train_woe.columns != 'default']"
      ],
      "execution_count": null,
      "outputs": []
    },
    {
      "cell_type": "markdown",
      "metadata": {
        "id": "2yu5QlU9vWlk"
      },
      "source": [
        "## Model dengan logistic regression dan hasil Scorecard"
      ]
    },
    {
      "cell_type": "code",
      "metadata": {
        "id": "vxwwm-uZvXeb"
      },
      "source": [
        "# Membuat scorecard dengan menggunakan algoritma logistic regression\n",
        "from sklearn.linear_model import LogisticRegression\n",
        "lr = LogisticRegression()\n",
        "lr.fit(X_train, y_train)\n",
        "\n",
        "print(lr.coef_)"
      ],
      "execution_count": null,
      "outputs": []
    },
    {
      "cell_type": "markdown",
      "metadata": {
        "id": "WAqOvSrDvciN"
      },
      "source": [
        "## Hasil Scorecard"
      ]
    },
    {
      "cell_type": "code",
      "metadata": {
        "id": "aJKxrQJzvfRv"
      },
      "source": [
        "# predicted probability\n",
        "train_pred = lr.predict_proba(X_train)[:,1]\n",
        "test_pred = lr.predict_proba(X_test)[:,1]\n",
        "\n",
        "# performance ks & roc ------\n",
        "train_perf = scpy.perf_eva(y_train, train_pred, title = \"train\")\n",
        "test_perf = scpy.perf_eva(y_test, test_pred, title = \"test\")\n",
        "\n",
        "# score ------\n",
        "card = scpy.scorecard(bins_adj, lr, X_train.columns, points0=600, odds0=1/20, pdo=50, basepoints_eq0=False)\n",
        "print(card)\n",
        "# credit score\n",
        "train_score = scpy.scorecard_ply(train, card, print_step=0)\n",
        "test_score = scpy.scorecard_ply(test, card, print_step=0)\n",
        "\n",
        "# psi\n",
        "scpy.perf_psi(\n",
        "  score = {'train':train_score, 'test':test_score},\n",
        "  label = {'train':y_train, 'test':y_test}\n",
        ")\n",
        "\n"
      ],
      "execution_count": null,
      "outputs": []
    }
  ]
}