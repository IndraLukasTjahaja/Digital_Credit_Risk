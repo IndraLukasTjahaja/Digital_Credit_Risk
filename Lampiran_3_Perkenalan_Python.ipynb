{
  "nbformat": 4,
  "nbformat_minor": 0,
  "metadata": {
    "colab": {
      "name": "Lampiran_3_Perkenalan_Python.ipynb",
      "provenance": [],
      "authorship_tag": "ABX9TyNRY5tDDEsytxC3fbOM6ZND",
      "include_colab_link": true
    },
    "kernelspec": {
      "name": "python3",
      "display_name": "Python 3"
    },
    "language_info": {
      "name": "python"
    }
  },
  "cells": [
    {
      "cell_type": "markdown",
      "metadata": {
        "id": "view-in-github",
        "colab_type": "text"
      },
      "source": [
        "<a href=\"https://colab.research.google.com/github/IndraLukasTjahaja/Digital_Credit_Risk/blob/main/Lampiran_3_Perkenalan_Python.ipynb\" target=\"_parent\"><img src=\"https://colab.research.google.com/assets/colab-badge.svg\" alt=\"Open In Colab\"/></a>"
      ]
    },
    {
      "cell_type": "code",
      "metadata": {
        "id": "7O9HukzCMyS4"
      },
      "source": [
        ""
      ],
      "execution_count": null,
      "outputs": []
    },
    {
      "cell_type": "markdown",
      "metadata": {
        "id": "qT60K2AJM8vb"
      },
      "source": [
        "# Dasar Programming di Python"
      ]
    },
    {
      "cell_type": "markdown",
      "metadata": {
        "id": "00gnspGBNc5d"
      },
      "source": [
        "## Basic: Menulis teks"
      ]
    },
    {
      "cell_type": "code",
      "metadata": {
        "colab": {
          "base_uri": "https://localhost:8080/"
        },
        "id": "OYIBqTlhNcMl",
        "outputId": "04235bce-e576-4b13-c819-c1ddc61a8140"
      },
      "source": [
        "print('Helo World')"
      ],
      "execution_count": 1,
      "outputs": [
        {
          "output_type": "stream",
          "name": "stdout",
          "text": [
            "Helo World\n"
          ]
        }
      ]
    },
    {
      "cell_type": "markdown",
      "metadata": {
        "id": "6-SyOXEPNVpw"
      },
      "source": [
        "## Basic: Perhitungan di Python"
      ]
    },
    {
      "cell_type": "code",
      "metadata": {
        "colab": {
          "base_uri": "https://localhost:8080/"
        },
        "id": "z3tiIqYzM9Jp",
        "outputId": "01a6e92e-3ea8-433c-acf0-6c18ae305012"
      },
      "source": [
        "# Melakukan aritmatika dasar\n",
        "a = 3\n",
        "b = 5\n",
        "c = 7\n",
        "d = a * b / c\n",
        "print(d)"
      ],
      "execution_count": 2,
      "outputs": [
        {
          "output_type": "stream",
          "name": "stdout",
          "text": [
            "2.142857142857143\n"
          ]
        }
      ]
    },
    {
      "cell_type": "markdown",
      "metadata": {
        "id": "XwlGXbkLNv6g"
      },
      "source": [
        "## Latihan: Basic"
      ]
    },
    {
      "cell_type": "code",
      "metadata": {
        "colab": {
          "base_uri": "https://localhost:8080/"
        },
        "id": "NcvxzYjsOCXU",
        "outputId": "b0117e8a-600e-4a64-c396-9ab5002a6cc5"
      },
      "source": [
        "# Tulis teks dimana 'Gaji saya dalam 5 tahun adalah IDR X', dimana X adalah perkalian dari 1.5 x 25000000\n"
      ],
      "execution_count": 3,
      "outputs": [
        {
          "output_type": "stream",
          "name": "stdout",
          "text": [
            "Gaji saya dalam 5 tahun adalah IDR  37500000.0\n"
          ]
        }
      ]
    },
    {
      "cell_type": "markdown",
      "metadata": {
        "id": "EcvGLCAIOp1A"
      },
      "source": [
        "# Python Dataframe\n",
        "## Cara Python membaca dataset / tabel"
      ]
    },
    {
      "cell_type": "markdown",
      "metadata": {
        "id": "CcG6DtWzOw95"
      },
      "source": [
        "## Membuka file dataset excel"
      ]
    },
    {
      "cell_type": "code",
      "metadata": {
        "id": "DdjfK40lOzYS"
      },
      "source": [
        ""
      ],
      "execution_count": null,
      "outputs": []
    }
  ]
}