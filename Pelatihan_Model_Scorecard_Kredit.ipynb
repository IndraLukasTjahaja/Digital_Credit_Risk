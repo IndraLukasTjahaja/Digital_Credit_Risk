{
  "nbformat": 4,
  "nbformat_minor": 0,
  "metadata": {
    "colab": {
      "name": "Bab 2 - Credit Scoring Modeling dengan Python.ipynb",
      "provenance": [],
      "authorship_tag": "ABX9TyMOhwQDFd2aGVYcvKb7KYfR",
      "include_colab_link": true
    },
    "kernelspec": {
      "name": "python3",
      "display_name": "Python 3"
    },
    "language_info": {
      "name": "python"
    }
  },
  "cells": [
    {
      "cell_type": "markdown",
      "metadata": {
        "id": "view-in-github",
        "colab_type": "text"
      },
      "source": [
        "<a href=\"https://colab.research.google.com/github/IndraLukasTjahaja/Digital_Credit_Risk/blob/main/Pelatihan_Model_Scorecard_Kredit.ipynb\" target=\"_parent\"><img src=\"https://colab.research.google.com/assets/colab-badge.svg\" alt=\"Open In Colab\"/></a>"
      ]
    },
    {
      "cell_type": "markdown",
      "metadata": {
        "id": "cY2cb6kM055R"
      },
      "source": [
        "# Persiapan"
      ]
    },
    {
      "cell_type": "code",
      "metadata": {
        "id": "GlebNLne06za",
        "colab": {
          "base_uri": "https://localhost:8080/"
        },
        "outputId": "5f0aa1a6-f11a-47d2-fffd-3afc6cf1a28a"
      },
      "source": [
        "# Memperbarui Library\n",
        "!pip install scikit-learn --upgrade\n",
        "\n",
        "import sklearn as skl\n",
        "print(skl. __version__) \n",
        "\n",
        "# Lalu restart ulang runtime nya"
      ],
      "execution_count": 79,
      "outputs": [
        {
          "output_type": "stream",
          "name": "stdout",
          "text": [
            "Requirement already satisfied: scikit-learn in /usr/local/lib/python3.7/dist-packages (1.0.1)\n",
            "Requirement already satisfied: numpy>=1.14.6 in /usr/local/lib/python3.7/dist-packages (from scikit-learn) (1.19.5)\n",
            "Requirement already satisfied: scipy>=1.1.0 in /usr/local/lib/python3.7/dist-packages (from scikit-learn) (1.4.1)\n",
            "Requirement already satisfied: threadpoolctl>=2.0.0 in /usr/local/lib/python3.7/dist-packages (from scikit-learn) (3.0.0)\n",
            "Requirement already satisfied: joblib>=0.11 in /usr/local/lib/python3.7/dist-packages (from scikit-learn) (1.1.0)\n",
            "1.0.1\n"
          ]
        }
      ]
    },
    {
      "cell_type": "markdown",
      "metadata": {
        "id": "EDZ9tBVB9ziI"
      },
      "source": [
        "# Membaca Data"
      ]
    },
    {
      "cell_type": "markdown",
      "metadata": {
        "id": "63e2vWzFg-h7"
      },
      "source": [
        "## 2.3.2.1 Persiapan data dan impor ke Python\n",
        "\n",
        "Impor data yang akan digunakan untuk membuat model"
      ]
    },
    {
      "cell_type": "code",
      "metadata": {
        "id": "X4yjdoBnl9Xv"
      },
      "source": [
        "# library panda untuk menggunakan data frame\n",
        "import pandas as pd\n",
        "\n",
        "# Impor data dari excel xls ke Python\n",
        "# Pembaca dapat langsung menunjuk kepada file excel yang terletak di website pendamping buku ini\n",
        "# atau mengunduh terlebih dahulu dan menunjuk ke file excel di lokasi hard drive\n",
        "# contoh: df = pd.read_excel('C:\\User\\pembaca\\downloads\\Credit_Scoring_Dataset.xlsx')\n",
        "\n",
        "df = pd.read_excel('https://github.com/IndraLukasTjahaja/Digital_Credit_Risk/raw/main/Credit_Scoring_Dataset.xlsx')"
      ],
      "execution_count": 80,
      "outputs": []
    },
    {
      "cell_type": "markdown",
      "metadata": {
        "id": "V3eszqe1fhP_"
      },
      "source": [
        "## # 2.3.2.3 Struktur data"
      ]
    },
    {
      "cell_type": "code",
      "metadata": {
        "colab": {
          "base_uri": "https://localhost:8080/",
          "height": 505
        },
        "id": "xDekPk8lmZ3N",
        "outputId": "f76bfe58-c9dd-43c3-e87d-40e046f7f0e1"
      },
      "source": [
        "# Melihat sample dari dataset\n",
        "df.head(10) # Menampilkan 10 baris teratas dari dataframe df"
      ],
      "execution_count": 81,
      "outputs": [
        {
          "output_type": "execute_result",
          "data": {
            "text/html": [
              "<div>\n",
              "<style scoped>\n",
              "    .dataframe tbody tr th:only-of-type {\n",
              "        vertical-align: middle;\n",
              "    }\n",
              "\n",
              "    .dataframe tbody tr th {\n",
              "        vertical-align: top;\n",
              "    }\n",
              "\n",
              "    .dataframe thead th {\n",
              "        text-align: right;\n",
              "    }\n",
              "</style>\n",
              "<table border=\"1\" class=\"dataframe\">\n",
              "  <thead>\n",
              "    <tr style=\"text-align: right;\">\n",
              "      <th></th>\n",
              "      <th>ID</th>\n",
              "      <th>gagal_bayar</th>\n",
              "      <th>Lama_Cicilan</th>\n",
              "      <th>Tujuan_Pinjaman</th>\n",
              "      <th>Jumlah_Pinjaman</th>\n",
              "      <th>Pekerjaan</th>\n",
              "      <th>Pendapatan_perbulan</th>\n",
              "      <th>Lama_Bekerja</th>\n",
              "      <th>Status</th>\n",
              "      <th>Kepemilikan_Rumah</th>\n",
              "      <th>Alamat_Rumah</th>\n",
              "      <th>Alamat_Kantor</th>\n",
              "      <th>Usia</th>\n",
              "      <th>Lama_tinggal_ditempat_sekarang</th>\n",
              "      <th>SLIK_Kolektibilitas</th>\n",
              "      <th>SLIK_Cicilan_Bulanan</th>\n",
              "      <th>SLIK_Outstanding_CC</th>\n",
              "      <th>API_CreditScore_Vendor_A</th>\n",
              "      <th>API_CreditScore_Vendor_B</th>\n",
              "      <th>Device_Type</th>\n",
              "      <th>Device_Apps_Installed</th>\n",
              "      <th>Device_Active_Since</th>\n",
              "      <th>Device_Apps_Segmentation</th>\n",
              "      <th>Mobile_Provider</th>\n",
              "      <th>Mobile_Number_Active_Since</th>\n",
              "      <th>Email_Domain_Type</th>\n",
              "    </tr>\n",
              "  </thead>\n",
              "  <tbody>\n",
              "    <tr>\n",
              "      <th>0</th>\n",
              "      <td>ABC0001</td>\n",
              "      <td>0_Bayar</td>\n",
              "      <td>1</td>\n",
              "      <td>elektronik</td>\n",
              "      <td>500000</td>\n",
              "      <td>1_pegawai_tetap</td>\n",
              "      <td>5. &gt;20 juta</td>\n",
              "      <td>5_&gt;7_tahun_kerja</td>\n",
              "      <td>2_menikah</td>\n",
              "      <td>1_milik_sendiri</td>\n",
              "      <td>Daerah_3</td>\n",
              "      <td>Daerah_3</td>\n",
              "      <td>67.0</td>\n",
              "      <td>4_&gt;10_tahun</td>\n",
              "      <td>Kolek 1</td>\n",
              "      <td>859684.752267</td>\n",
              "      <td>0.000000e+00</td>\n",
              "      <td>305</td>\n",
              "      <td>192</td>\n",
              "      <td>Android</td>\n",
              "      <td>6</td>\n",
              "      <td>2_1_ke_3_tahun</td>\n",
              "      <td>Social_Media</td>\n",
              "      <td>Telco_A</td>\n",
              "      <td>1_Kurang_1_bulan</td>\n",
              "      <td>Public_Domain</td>\n",
              "    </tr>\n",
              "    <tr>\n",
              "      <th>1</th>\n",
              "      <td>ABC0002</td>\n",
              "      <td>1_Gagal</td>\n",
              "      <td>1</td>\n",
              "      <td>peralatan_rumahtangga</td>\n",
              "      <td>2000000</td>\n",
              "      <td>1_pegawai_tetap</td>\n",
              "      <td>1. &lt; 1 juta</td>\n",
              "      <td>3_1-4_tahun_kerja</td>\n",
              "      <td>1_belum_menikah</td>\n",
              "      <td>1_milik_sendiri</td>\n",
              "      <td>Daerah_2</td>\n",
              "      <td>Daerah_2</td>\n",
              "      <td>22.0</td>\n",
              "      <td>2_1-5_tahun</td>\n",
              "      <td>Kolek 3</td>\n",
              "      <td>743722.804144</td>\n",
              "      <td>1.301412e+06</td>\n",
              "      <td>252</td>\n",
              "      <td>86</td>\n",
              "      <td>IOS</td>\n",
              "      <td>9</td>\n",
              "      <td>3_Lebih_3_tahun</td>\n",
              "      <td>Games</td>\n",
              "      <td>Telco_A</td>\n",
              "      <td>1_Kurang_1_bulan</td>\n",
              "      <td>Public_Domain</td>\n",
              "    </tr>\n",
              "    <tr>\n",
              "      <th>2</th>\n",
              "      <td>ABC0003</td>\n",
              "      <td>0_Bayar</td>\n",
              "      <td>3</td>\n",
              "      <td>makanan</td>\n",
              "      <td>1000000</td>\n",
              "      <td>3_wiraswasta</td>\n",
              "      <td>1. &lt; 1 juta</td>\n",
              "      <td>4_4-7_tahun_kerja</td>\n",
              "      <td>2_menikah</td>\n",
              "      <td>1_milik_sendiri</td>\n",
              "      <td>Daerah_2</td>\n",
              "      <td>Daerah_1</td>\n",
              "      <td>49.0</td>\n",
              "      <td>3_5-10_tahun</td>\n",
              "      <td>Kolek 1</td>\n",
              "      <td>265387.462890</td>\n",
              "      <td>0.000000e+00</td>\n",
              "      <td>858</td>\n",
              "      <td>97</td>\n",
              "      <td>Android</td>\n",
              "      <td>36</td>\n",
              "      <td>3_Lebih_3_tahun</td>\n",
              "      <td>Games</td>\n",
              "      <td>Telco_A</td>\n",
              "      <td>2_Kurang_1_tahun</td>\n",
              "      <td>Public_Domain</td>\n",
              "    </tr>\n",
              "    <tr>\n",
              "      <th>3</th>\n",
              "      <td>ABC0004</td>\n",
              "      <td>0_Bayar</td>\n",
              "      <td>6</td>\n",
              "      <td>liburan</td>\n",
              "      <td>2000000</td>\n",
              "      <td>1_pegawai_tetap</td>\n",
              "      <td>1. &lt; 1 juta</td>\n",
              "      <td>4_4-7_tahun_kerja</td>\n",
              "      <td>2_menikah</td>\n",
              "      <td>3_bersama_keluarga</td>\n",
              "      <td>Daerah_1</td>\n",
              "      <td>Daerah_1</td>\n",
              "      <td>45.0</td>\n",
              "      <td>4_&gt;10_tahun</td>\n",
              "      <td>Kolek 3</td>\n",
              "      <td>443234.967513</td>\n",
              "      <td>8.094420e+05</td>\n",
              "      <td>108</td>\n",
              "      <td>159</td>\n",
              "      <td>Android</td>\n",
              "      <td>14</td>\n",
              "      <td>3_Lebih_3_tahun</td>\n",
              "      <td>Online_Lending</td>\n",
              "      <td>Telco_E</td>\n",
              "      <td>2_Kurang_1_tahun</td>\n",
              "      <td>Professional_Domain</td>\n",
              "    </tr>\n",
              "    <tr>\n",
              "      <th>4</th>\n",
              "      <td>ABC0005</td>\n",
              "      <td>1_Gagal</td>\n",
              "      <td>4</td>\n",
              "      <td>pendidikan</td>\n",
              "      <td>1000000</td>\n",
              "      <td>1_pegawai_tetap</td>\n",
              "      <td>1. &lt; 1 juta</td>\n",
              "      <td>3_1-4_tahun_kerja</td>\n",
              "      <td>2_menikah</td>\n",
              "      <td>3_bersama_keluarga</td>\n",
              "      <td>Daerah_3</td>\n",
              "      <td>Daerah_3</td>\n",
              "      <td>53.0</td>\n",
              "      <td>4_&gt;10_tahun</td>\n",
              "      <td>Kolek 2</td>\n",
              "      <td>102046.058576</td>\n",
              "      <td>7.548064e+05</td>\n",
              "      <td>487</td>\n",
              "      <td>63</td>\n",
              "      <td>Android</td>\n",
              "      <td>10</td>\n",
              "      <td>3_Lebih_3_tahun</td>\n",
              "      <td>Shopping</td>\n",
              "      <td>Telco_D</td>\n",
              "      <td>1_Kurang_1_bulan</td>\n",
              "      <td>Public_Domain</td>\n",
              "    </tr>\n",
              "    <tr>\n",
              "      <th>5</th>\n",
              "      <td>ABC0006</td>\n",
              "      <td>0_Bayar</td>\n",
              "      <td>5</td>\n",
              "      <td>makanan</td>\n",
              "      <td>500000</td>\n",
              "      <td>3_wiraswasta</td>\n",
              "      <td>5. &gt;20 juta</td>\n",
              "      <td>3_1-4_tahun_kerja</td>\n",
              "      <td>2_menikah</td>\n",
              "      <td>3_bersama_keluarga</td>\n",
              "      <td>Daerah_1</td>\n",
              "      <td>Daerah_2</td>\n",
              "      <td>35.0</td>\n",
              "      <td>4_&gt;10_tahun</td>\n",
              "      <td>Kolek 3</td>\n",
              "      <td>480608.200003</td>\n",
              "      <td>3.222612e+06</td>\n",
              "      <td>595</td>\n",
              "      <td>200</td>\n",
              "      <td>Android</td>\n",
              "      <td>5</td>\n",
              "      <td>3_Lebih_3_tahun</td>\n",
              "      <td>Social_Media</td>\n",
              "      <td>Telco_A</td>\n",
              "      <td>2_Kurang_1_tahun</td>\n",
              "      <td>Public_Domain</td>\n",
              "    </tr>\n",
              "    <tr>\n",
              "      <th>6</th>\n",
              "      <td>ABC0007</td>\n",
              "      <td>0_Bayar</td>\n",
              "      <td>1</td>\n",
              "      <td>liburan</td>\n",
              "      <td>500000</td>\n",
              "      <td>1_pegawai_tetap</td>\n",
              "      <td>3. 5 - 10 juta</td>\n",
              "      <td>5_&gt;7_tahun_kerja</td>\n",
              "      <td>2_menikah</td>\n",
              "      <td>1_milik_sendiri</td>\n",
              "      <td>Daerah_2</td>\n",
              "      <td>Daerah_3</td>\n",
              "      <td>53.0</td>\n",
              "      <td>4_&gt;10_tahun</td>\n",
              "      <td>Kolek 3</td>\n",
              "      <td>133535.433266</td>\n",
              "      <td>4.303138e+05</td>\n",
              "      <td>334</td>\n",
              "      <td>172</td>\n",
              "      <td>Android</td>\n",
              "      <td>37</td>\n",
              "      <td>3_Lebih_3_tahun</td>\n",
              "      <td>Productivity</td>\n",
              "      <td>Telco_C</td>\n",
              "      <td>5_Lebih_5_tahun</td>\n",
              "      <td>Public_Domain</td>\n",
              "    </tr>\n",
              "    <tr>\n",
              "      <th>7</th>\n",
              "      <td>ABC0008</td>\n",
              "      <td>0_Bayar</td>\n",
              "      <td>5</td>\n",
              "      <td>buka_bisnis</td>\n",
              "      <td>500000</td>\n",
              "      <td>4_tidak_bekerja</td>\n",
              "      <td>1. &lt; 1 juta</td>\n",
              "      <td>3_1-4_tahun_kerja</td>\n",
              "      <td>2_menikah</td>\n",
              "      <td>2_sewa</td>\n",
              "      <td>Daerah_1</td>\n",
              "      <td>Daerah_1</td>\n",
              "      <td>35.0</td>\n",
              "      <td>2_1-5_tahun</td>\n",
              "      <td>Kolek 3</td>\n",
              "      <td>384367.579947</td>\n",
              "      <td>5.326622e+04</td>\n",
              "      <td>107</td>\n",
              "      <td>186</td>\n",
              "      <td>Android</td>\n",
              "      <td>35</td>\n",
              "      <td>3_Lebih_3_tahun</td>\n",
              "      <td>Productivity</td>\n",
              "      <td>Telco_E</td>\n",
              "      <td>5_Lebih_5_tahun</td>\n",
              "      <td>Public_Domain</td>\n",
              "    </tr>\n",
              "    <tr>\n",
              "      <th>8</th>\n",
              "      <td>ABC0009</td>\n",
              "      <td>0_Bayar</td>\n",
              "      <td>1</td>\n",
              "      <td>peralatan_rumahtangga</td>\n",
              "      <td>500000</td>\n",
              "      <td>3_wiraswasta</td>\n",
              "      <td>4. 10 - 20 juta</td>\n",
              "      <td>4_4-7_tahun_kerja</td>\n",
              "      <td>3_bercerai</td>\n",
              "      <td>1_milik_sendiri</td>\n",
              "      <td>Daerah_2</td>\n",
              "      <td>Daerah_1</td>\n",
              "      <td>61.0</td>\n",
              "      <td>4_&gt;10_tahun</td>\n",
              "      <td>Kolek 3</td>\n",
              "      <td>527874.467181</td>\n",
              "      <td>1.954899e+06</td>\n",
              "      <td>45</td>\n",
              "      <td>235</td>\n",
              "      <td>IOS</td>\n",
              "      <td>17</td>\n",
              "      <td>2_1_ke_3_tahun</td>\n",
              "      <td>Social_Media</td>\n",
              "      <td>Telco_A</td>\n",
              "      <td>3_1_ke_2_tahun</td>\n",
              "      <td>Public_Domain</td>\n",
              "    </tr>\n",
              "    <tr>\n",
              "      <th>9</th>\n",
              "      <td>ABC0010</td>\n",
              "      <td>1_Gagal</td>\n",
              "      <td>3</td>\n",
              "      <td>liburan</td>\n",
              "      <td>500000</td>\n",
              "      <td>4_tidak_bekerja</td>\n",
              "      <td>1. &lt; 1 juta</td>\n",
              "      <td>1_tidak_bekerja</td>\n",
              "      <td>3_bercerai</td>\n",
              "      <td>1_milik_sendiri</td>\n",
              "      <td>Daerah_2</td>\n",
              "      <td>Daerah_2</td>\n",
              "      <td>28.0</td>\n",
              "      <td>2_1-5_tahun</td>\n",
              "      <td>Kolek 1</td>\n",
              "      <td>226586.344920</td>\n",
              "      <td>0.000000e+00</td>\n",
              "      <td>254</td>\n",
              "      <td>285</td>\n",
              "      <td>Android</td>\n",
              "      <td>17</td>\n",
              "      <td>2_1_ke_3_tahun</td>\n",
              "      <td>Social_Media</td>\n",
              "      <td>Telco_C</td>\n",
              "      <td>1_Kurang_1_bulan</td>\n",
              "      <td>Public_Domain</td>\n",
              "    </tr>\n",
              "  </tbody>\n",
              "</table>\n",
              "</div>"
            ],
            "text/plain": [
              "        ID gagal_bayar  ...  Mobile_Number_Active_Since    Email_Domain_Type\n",
              "0  ABC0001     0_Bayar  ...            1_Kurang_1_bulan        Public_Domain\n",
              "1  ABC0002     1_Gagal  ...            1_Kurang_1_bulan        Public_Domain\n",
              "2  ABC0003     0_Bayar  ...            2_Kurang_1_tahun        Public_Domain\n",
              "3  ABC0004     0_Bayar  ...            2_Kurang_1_tahun  Professional_Domain\n",
              "4  ABC0005     1_Gagal  ...            1_Kurang_1_bulan        Public_Domain\n",
              "5  ABC0006     0_Bayar  ...            2_Kurang_1_tahun        Public_Domain\n",
              "6  ABC0007     0_Bayar  ...             5_Lebih_5_tahun        Public_Domain\n",
              "7  ABC0008     0_Bayar  ...             5_Lebih_5_tahun        Public_Domain\n",
              "8  ABC0009     0_Bayar  ...              3_1_ke_2_tahun        Public_Domain\n",
              "9  ABC0010     1_Gagal  ...            1_Kurang_1_bulan        Public_Domain\n",
              "\n",
              "[10 rows x 26 columns]"
            ]
          },
          "metadata": {},
          "execution_count": 81
        }
      ]
    },
    {
      "cell_type": "code",
      "metadata": {
        "colab": {
          "base_uri": "https://localhost:8080/"
        },
        "id": "GrGQd7ePjIka",
        "outputId": "289f1b03-b528-47a8-98cf-ab9096222bb4"
      },
      "source": [
        "# Melihat penjelasan singkat dan tipe data\n",
        "df.info()"
      ],
      "execution_count": 82,
      "outputs": [
        {
          "output_type": "stream",
          "name": "stdout",
          "text": [
            "<class 'pandas.core.frame.DataFrame'>\n",
            "RangeIndex: 1000 entries, 0 to 999\n",
            "Data columns (total 26 columns):\n",
            " #   Column                          Non-Null Count  Dtype  \n",
            "---  ------                          --------------  -----  \n",
            " 0   ID                              1000 non-null   object \n",
            " 1   gagal_bayar                     1000 non-null   object \n",
            " 2   Lama_Cicilan                    1000 non-null   int64  \n",
            " 3   Tujuan_Pinjaman                 1000 non-null   object \n",
            " 4   Jumlah_Pinjaman                 1000 non-null   int64  \n",
            " 5   Pekerjaan                       988 non-null    object \n",
            " 6   Pendapatan_perbulan             990 non-null    object \n",
            " 7   Lama_Bekerja                    973 non-null    object \n",
            " 8   Status                          996 non-null    object \n",
            " 9   Kepemilikan_Rumah               997 non-null    object \n",
            " 10  Alamat_Rumah                    1000 non-null   object \n",
            " 11  Alamat_Kantor                   1000 non-null   object \n",
            " 12  Usia                            999 non-null    float64\n",
            " 13  Lama_tinggal_ditempat_sekarang  998 non-null    object \n",
            " 14  SLIK_Kolektibilitas             1000 non-null   object \n",
            " 15  SLIK_Cicilan_Bulanan            1000 non-null   float64\n",
            " 16  SLIK_Outstanding_CC             1000 non-null   float64\n",
            " 17  API_CreditScore_Vendor_A        1000 non-null   int64  \n",
            " 18  API_CreditScore_Vendor_B        1000 non-null   int64  \n",
            " 19  Device_Type                     1000 non-null   object \n",
            " 20  Device_Apps_Installed           1000 non-null   int64  \n",
            " 21  Device_Active_Since             1000 non-null   object \n",
            " 22  Device_Apps_Segmentation        1000 non-null   object \n",
            " 23  Mobile_Provider                 1000 non-null   object \n",
            " 24  Mobile_Number_Active_Since      1000 non-null   object \n",
            " 25  Email_Domain_Type               1000 non-null   object \n",
            "dtypes: float64(3), int64(5), object(18)\n",
            "memory usage: 203.2+ KB\n"
          ]
        }
      ]
    },
    {
      "cell_type": "markdown",
      "metadata": {
        "id": "FRguzJvHfmVF"
      },
      "source": [
        "## # 2.3.2.4 Tipe data"
      ]
    },
    {
      "cell_type": "code",
      "metadata": {
        "id": "Mf2Ht_6cmehV"
      },
      "source": [
        "# Merubah tipe data menjadi tipe karakter kategori\n",
        "df['ID'] = df.ID.astype('category')\n",
        "df['gagal_bayar'] = df.gagal_bayar.astype('category')\n",
        "df['Pekerjaan'] = df.Pekerjaan.astype('category')\n",
        "df['Tujuan_Pinjaman'] = df.Tujuan_Pinjaman.astype('category')\n",
        "df['Pendapatan_perbulan'] = df.Pendapatan_perbulan.astype('category')\n",
        "df['Lama_Bekerja'] = df.Lama_Bekerja.astype('category')\n",
        "df['Status'] = df.Status.astype('category')\n",
        "df['Kepemilikan_Rumah'] = df.Kepemilikan_Rumah.astype('category')\n",
        "df['Alamat_Rumah'] = df.Alamat_Rumah.astype('category')\n",
        "df['Alamat_Kantor'] = df.Alamat_Kantor.astype('category')\n",
        "df['Lama_tinggal_ditempat_sekarang'] = df.Lama_tinggal_ditempat_sekarang.astype('category')\n",
        "df['Device_Type'] = df.Device_Type.astype('category')\n",
        "df['Device_Active_Since'] = df.Device_Active_Since.astype('category')\n",
        "df['SLIK_Kolektibilitas'] = df.SLIK_Kolektibilitas.astype('category')\n",
        "df['Device_Apps_Segmentation'] = df.Device_Apps_Segmentation.astype('category')\n",
        "df['Mobile_Provider'] = df.Mobile_Provider.astype('category')\n",
        "df['Mobile_Number_Active_Since'] = df.Mobile_Number_Active_Since.astype('category')\n",
        "df['Email_Domain_Type'] = df.Email_Domain_Type.astype('category')\n",
        "\n",
        "# Merubah tipe data menjadi tipe karakter int64\n",
        "# Gunakan intger untuk angka bulat\n",
        "df['API_CreditScore_Vendor_A'] = df.API_CreditScore_Vendor_A.astype('int64')\n",
        "df['API_CreditScore_Vendor_B'] = df.API_CreditScore_Vendor_B.astype('int64')\n",
        "df['Device_Apps_Installed'] = df.Device_Apps_Installed.astype('int64')\n",
        "\n",
        "# Merubah tipe data menjadi tipe karakter float64\n",
        "# Gunakan intger untuk angka dengan koma\n",
        "# Jika dalam kolom tersebut terdapat null, maka harus di simpan dalam tipe float\n",
        "df['Lama_Cicilan'] = df.Lama_Cicilan.astype('float64')\n",
        "df['Usia'] = df.Usia.astype('float64')\n",
        "df['Jumlah_Pinjaman'] = df.Jumlah_Pinjaman.astype('float64')\n",
        "df['SLIK_Cicilan_Bulanan'] = df.SLIK_Cicilan_Bulanan.astype('float64')\n",
        "df['SLIK_Outstanding_CC'] = df.SLIK_Outstanding_CC.astype('float64')"
      ],
      "execution_count": 83,
      "outputs": []
    },
    {
      "cell_type": "markdown",
      "metadata": {
        "id": "TUopkF91gkJh"
      },
      "source": [
        "## 2.3.2.5.3 Mengidentifikasi outlier dan validitas data"
      ]
    },
    {
      "cell_type": "code",
      "metadata": {
        "colab": {
          "base_uri": "https://localhost:8080/",
          "height": 283
        },
        "id": "WUD8I46sekc6",
        "outputId": "44cc238b-fd4a-4f59-fac9-1c0bb260c8e5"
      },
      "source": [
        "df.boxplot(column=['Usia'])"
      ],
      "execution_count": 84,
      "outputs": [
        {
          "output_type": "execute_result",
          "data": {
            "text/plain": [
              "<matplotlib.axes._subplots.AxesSubplot at 0x7fd5ad6da110>"
            ]
          },
          "metadata": {},
          "execution_count": 84
        },
        {
          "output_type": "display_data",
          "data": {
            "image/png": "[encoded data removed]",
            "text/plain": [
              "<Figure size 432x288 with 1 Axes>"
            ]
          },
          "metadata": {
            "needs_background": "light"
          }
        }
      ]
    },
    {
      "cell_type": "markdown",
      "metadata": {
        "id": "i3Kjx2z1gr7D"
      },
      "source": [
        "## Latihan membuat Box Plot"
      ]
    },
    {
      "cell_type": "code",
      "metadata": {
        "id": "wGUM9qPO8SIv"
      },
      "source": [
        "# Latihan untuk boxplot variabel SLIK_Cicilan_Bulanan, SLIK_Outstanding_CC, Lama_Cicilan, dan Jumlah_Pinjaman\n",
        "# Tulis kode disini\n",
        "\n"
      ],
      "execution_count": 85,
      "outputs": []
    },
    {
      "cell_type": "markdown",
      "metadata": {
        "id": "r2dLfIxig1hP"
      },
      "source": [
        "# Missing Data Treatment (Apa yang harus dilakukan terhadap data yang kosong?)"
      ]
    },
    {
      "cell_type": "markdown",
      "metadata": {
        "id": "RCVxCTb-gvRu"
      },
      "source": [
        "## 2.3.2.5.4.1 Imputasi baris data yang kosong dengan asumsi nilai\n"
      ]
    },
    {
      "cell_type": "code",
      "metadata": {
        "colab": {
          "base_uri": "https://localhost:8080/"
        },
        "id": "w5L8DvciYr0X",
        "outputId": "8b221647-dafb-4e0e-af8b-554e2dbe82c8"
      },
      "source": [
        "# Koding berikut menggantikan missing value dari semua variabel dengan\n",
        "# nilai yang paling sering muncul (modus) untuk variabel kategori dan nilai rata-rata untuk variabel numerik\n",
        "\n",
        "# Memisahkan variabel kategori dengan variabel numerik\n",
        "df_numerik = df.select_dtypes(include=['float64','int64','int'])\n",
        "df_kategori = df.select_dtypes(exclude = ['float64','int64','int'])\n",
        "\n",
        "for kolom in df_numerik.columns:\n",
        "  df_numerik[kolom].fillna(df_numerik[kolom].mean(), inplace=True)\n",
        "\n",
        "for kolom in df_kategori.columns:\n",
        "  df_kategori[kolom].fillna(df_kategori[kolom].mode()[0], inplace=True)\n",
        "\n",
        "# Menggabungkan dataset variabel kategori dan dengan variabel numerik\n",
        "df_pembersihan_1 = pd.concat([df_numerik, df_kategori], axis = 1)"
      ],
      "execution_count": 86,
      "outputs": [
        {
          "output_type": "stream",
          "name": "stderr",
          "text": [
            "/usr/local/lib/python3.7/dist-packages/pandas/core/series.py:4536: SettingWithCopyWarning: \n",
            "A value is trying to be set on a copy of a slice from a DataFrame\n",
            "\n",
            "See the caveats in the documentation: https://pandas.pydata.org/pandas-docs/stable/user_guide/indexing.html#returning-a-view-versus-a-copy\n",
            "  downcast=downcast,\n"
          ]
        }
      ]
    },
    {
      "cell_type": "markdown",
      "metadata": {
        "id": "12H53azahbxl"
      },
      "source": [
        "## # 2.3.2.5.4.2 Tidak menggunakan baris data yang kosong (Drop Data)\n"
      ]
    },
    {
      "cell_type": "code",
      "metadata": {
        "id": "kX5J6yALYy48"
      },
      "source": [
        "# Menggunakan fungsi dropna() untuk menghapus semua baris yang memiliki data kosong\n",
        "df_pembersihan_2 = df.dropna()"
      ],
      "execution_count": 87,
      "outputs": []
    },
    {
      "cell_type": "markdown",
      "metadata": {
        "id": "6B6XandThftC"
      },
      "source": [
        "## 2.3.2.5.4.3 Tidak menggunakan kolom data yang kosong (Drop Variable)\n"
      ]
    },
    {
      "cell_type": "code",
      "metadata": {
        "id": "GCNAZFB_Y6-G"
      },
      "source": [
        "# Menggunakan fungsi dropna() untuk menghapus kolom yang memiliki data kosong\n",
        "df_pembersihan_3 = df.dropna(axis='columns')"
      ],
      "execution_count": 88,
      "outputs": []
    },
    {
      "cell_type": "markdown",
      "metadata": {
        "id": "4SJasWmnhjZ2"
      },
      "source": [
        "## 2.3.2.5.4.4 Kategorikan data yang kosong (Flag)"
      ]
    },
    {
      "cell_type": "code",
      "metadata": {
        "colab": {
          "base_uri": "https://localhost:8080/"
        },
        "id": "y6J9LrueZIQS",
        "outputId": "308ff2f9-c403-40b8-8613-d20fd2288565"
      },
      "source": [
        "# Koding berikut memberikan tanda flagging untuk baris data yang berisikan baris data kosong\n",
        "\n",
        "# Memisahkan variabel kategori dengan variabel numerik\n",
        "df_numerik = df.select_dtypes(include=['float64','int64','int'])\n",
        "df_kategori = df.select_dtypes(exclude = ['float64','int64','int'])\n",
        "\n",
        "for kolom in df_numerik.columns:\n",
        "  # Membuat kolom baru untuk baris data yang kosong\n",
        "  df_numerik[kolom+\"_missing\"] = df_numerik[kolom].isnull()\n",
        "  df_numerik[kolom].fillna(0, inplace=True)\n",
        "\n",
        "for kolom in df_kategori.columns:\n",
        "  # Kolom kategori harus secara eksplisit menambahkan data kategori baru\n",
        "  df_kategori[kolom] = df_kategori[kolom].cat.add_categories(\"00_Data_Kosong\")\n",
        "  df_kategori[kolom].fillna(\"00_Data_Kosong\", inplace=True)\n",
        "\n",
        "# Menggabungkan dataset variabel kategori dan dengan variabel numerik\n",
        "df_pembersihan_4 = pd.concat([df_numerik, df_kategori], axis = 1)"
      ],
      "execution_count": 89,
      "outputs": [
        {
          "output_type": "stream",
          "name": "stderr",
          "text": [
            "/usr/local/lib/python3.7/dist-packages/ipykernel_launcher.py:9: SettingWithCopyWarning: \n",
            "A value is trying to be set on a copy of a slice from a DataFrame.\n",
            "Try using .loc[row_indexer,col_indexer] = value instead\n",
            "\n",
            "See the caveats in the documentation: https://pandas.pydata.org/pandas-docs/stable/user_guide/indexing.html#returning-a-view-versus-a-copy\n",
            "  if __name__ == '__main__':\n",
            "/usr/local/lib/python3.7/dist-packages/pandas/core/series.py:4536: SettingWithCopyWarning: \n",
            "A value is trying to be set on a copy of a slice from a DataFrame\n",
            "\n",
            "See the caveats in the documentation: https://pandas.pydata.org/pandas-docs/stable/user_guide/indexing.html#returning-a-view-versus-a-copy\n",
            "  downcast=downcast,\n",
            "/usr/local/lib/python3.7/dist-packages/ipykernel_launcher.py:14: SettingWithCopyWarning: \n",
            "A value is trying to be set on a copy of a slice from a DataFrame.\n",
            "Try using .loc[row_indexer,col_indexer] = value instead\n",
            "\n",
            "See the caveats in the documentation: https://pandas.pydata.org/pandas-docs/stable/user_guide/indexing.html#returning-a-view-versus-a-copy\n",
            "  \n"
          ]
        }
      ]
    },
    {
      "cell_type": "code",
      "metadata": {
        "id": "Fsj2A6lYZDgj"
      },
      "source": [
        "# Melanjutkan proses dengan asumsi bahwa baris data yang kosong tidak signifikan dan tidak akan terjadi baris data kosong lagi.\n",
        "df_clean = df_pembersihan_2"
      ],
      "execution_count": 90,
      "outputs": []
    },
    {
      "cell_type": "code",
      "metadata": {
        "id": "NvdzMWh7H4Eo"
      },
      "source": [
        "# Menghapus indeks dari data yang telah dibuang\n",
        "df_clean = df_clean.reset_index(drop=True)"
      ],
      "execution_count": 91,
      "outputs": []
    },
    {
      "cell_type": "code",
      "metadata": {
        "id": "7AVgeSYIs6fQ",
        "colab": {
          "base_uri": "https://localhost:8080/",
          "height": 607
        },
        "outputId": "012d817f-f3bc-40f3-ec62-8e27eac3a716"
      },
      "source": [
        "df_clean.info()\n",
        "\n",
        "# Untuk memudahkan membaca hasil, maka disimpan dalam bentuk csv dan didownload\n",
        "from google.colab import files\n",
        "df_clean.to_csv('df_clean.csv') \n",
        "files.download('df_clean.csv')"
      ],
      "execution_count": 93,
      "outputs": [
        {
          "output_type": "stream",
          "name": "stdout",
          "text": [
            "<class 'pandas.core.frame.DataFrame'>\n",
            "RangeIndex: 948 entries, 0 to 947\n",
            "Data columns (total 26 columns):\n",
            " #   Column                          Non-Null Count  Dtype   \n",
            "---  ------                          --------------  -----   \n",
            " 0   ID                              948 non-null    category\n",
            " 1   gagal_bayar                     948 non-null    category\n",
            " 2   Lama_Cicilan                    948 non-null    float64 \n",
            " 3   Tujuan_Pinjaman                 948 non-null    category\n",
            " 4   Jumlah_Pinjaman                 948 non-null    float64 \n",
            " 5   Pekerjaan                       948 non-null    category\n",
            " 6   Pendapatan_perbulan             948 non-null    category\n",
            " 7   Lama_Bekerja                    948 non-null    category\n",
            " 8   Status                          948 non-null    category\n",
            " 9   Kepemilikan_Rumah               948 non-null    category\n",
            " 10  Alamat_Rumah                    948 non-null    category\n",
            " 11  Alamat_Kantor                   948 non-null    category\n",
            " 12  Usia                            948 non-null    float64 \n",
            " 13  Lama_tinggal_ditempat_sekarang  948 non-null    category\n",
            " 14  SLIK_Kolektibilitas             948 non-null    category\n",
            " 15  SLIK_Cicilan_Bulanan            948 non-null    float64 \n",
            " 16  SLIK_Outstanding_CC             948 non-null    float64 \n",
            " 17  API_CreditScore_Vendor_A        948 non-null    int64   \n",
            " 18  API_CreditScore_Vendor_B        948 non-null    int64   \n",
            " 19  Device_Type                     948 non-null    category\n",
            " 20  Device_Apps_Installed           948 non-null    int64   \n",
            " 21  Device_Active_Since             948 non-null    category\n",
            " 22  Device_Apps_Segmentation        948 non-null    category\n",
            " 23  Mobile_Provider                 948 non-null    category\n",
            " 24  Mobile_Number_Active_Since      948 non-null    category\n",
            " 25  Email_Domain_Type               948 non-null    category\n",
            "dtypes: category(18), float64(5), int64(3)\n",
            "memory usage: 127.5 KB\n"
          ]
        },
        {
          "output_type": "display_data",
          "data": {
            "application/javascript": [
              "\n",
              "    async function download(id, filename, size) {\n",
              "      if (!google.colab.kernel.accessAllowed) {\n",
              "        return;\n",
              "      }\n",
              "      const div = document.createElement('div');\n",
              "      const label = document.createElement('label');\n",
              "      label.textContent = `Downloading \"${filename}\": `;\n",
              "      div.appendChild(label);\n",
              "      const progress = document.createElement('progress');\n",
              "      progress.max = size;\n",
              "      div.appendChild(progress);\n",
              "      document.body.appendChild(div);\n",
              "\n",
              "      const buffers = [];\n",
              "      let downloaded = 0;\n",
              "\n",
              "      const channel = await google.colab.kernel.comms.open(id);\n",
              "      // Send a message to notify the kernel that we're ready.\n",
              "      channel.send({})\n",
              "\n",
              "      for await (const message of channel.messages) {\n",
              "        // Send a message to notify the kernel that we're ready.\n",
              "        channel.send({})\n",
              "        if (message.buffers) {\n",
              "          for (const buffer of message.buffers) {\n",
              "            buffers.push(buffer);\n",
              "            downloaded += buffer.byteLength;\n",
              "            progress.value = downloaded;\n",
              "          }\n",
              "        }\n",
              "      }\n",
              "      const blob = new Blob(buffers, {type: 'application/binary'});\n",
              "      const a = document.createElement('a');\n",
              "      a.href = window.URL.createObjectURL(blob);\n",
              "      a.download = filename;\n",
              "      div.appendChild(a);\n",
              "      a.click();\n",
              "      div.remove();\n",
              "    }\n",
              "  "
            ],
            "text/plain": [
              "<IPython.core.display.Javascript object>"
            ]
          },
          "metadata": {}
        },
        {
          "output_type": "display_data",
          "data": {
            "application/javascript": [
              "download(\"download_d9d66af6-d1eb-46ce-b5fb-00c6d2c361d0\", \"df_clean.csv\", 262038)"
            ],
            "text/plain": [
              "<IPython.core.display.Javascript object>"
            ]
          },
          "metadata": {}
        }
      ]
    },
    {
      "cell_type": "markdown",
      "metadata": {
        "id": "ynlPrujPhrrt"
      },
      "source": [
        "# Data Eksplorasi (Explanatory Data Analysis atau EDA)"
      ]
    },
    {
      "cell_type": "markdown",
      "metadata": {
        "id": "S-MbaFDAhxHn"
      },
      "source": [
        "## 2.3.2.5.5.1 EDA Analisa dasar variabel untuk gagal_bayar"
      ]
    },
    {
      "cell_type": "code",
      "metadata": {
        "colab": {
          "base_uri": "https://localhost:8080/"
        },
        "id": "qW5t7UwfES8v",
        "outputId": "d639875a-6e99-4968-9231-9856fdcdd26a"
      },
      "source": [
        "# Untuk melihat frekuensi dari variabel gagal_bayar\n",
        "print(df_clean['gagal_bayar'].value_counts())\n",
        "\n",
        "# Untuk melihat proporsi (dalam persentase) dari variabel gagal_bayar\n",
        "print(df_clean['gagal_bayar'].value_counts(normalize=True) * 100)"
      ],
      "execution_count": 94,
      "outputs": [
        {
          "output_type": "stream",
          "name": "stdout",
          "text": [
            "0_Bayar    670\n",
            "1_Gagal    278\n",
            "Name: gagal_bayar, dtype: int64\n",
            "0_Bayar    70.675105\n",
            "1_Gagal    29.324895\n",
            "Name: gagal_bayar, dtype: float64\n"
          ]
        }
      ]
    },
    {
      "cell_type": "markdown",
      "metadata": {
        "id": "y-XqBSpJi9eh"
      },
      "source": [
        "## 2.3.2.5.5.2 Exploratory Data Analysis untuk SLIK_Kolektabilitas\n"
      ]
    },
    {
      "cell_type": "code",
      "metadata": {
        "id": "zjuNAMQGE5L6",
        "colab": {
          "base_uri": "https://localhost:8080/"
        },
        "outputId": "9d04582c-f328-4773-acae-23c05e4d0629"
      },
      "source": [
        "# Untuk melihat frekuensi dari variabel SLIK_Kolektabilitas\n",
        "print(df_clean['SLIK_Kolektibilitas'].value_counts())\n",
        "\n",
        "# Untuk melihat proporsi (dalam persentase) dari variabel SLIK_Kolektabilitas\n",
        "print(df_clean['SLIK_Kolektibilitas'].value_counts(normalize=True) * 100)"
      ],
      "execution_count": 95,
      "outputs": [
        {
          "output_type": "stream",
          "name": "stdout",
          "text": [
            "Kolek 3            483\n",
            "Kolek 1            270\n",
            "Kolek 2             84\n",
            "Tidak_Ditemukan     49\n",
            "Kolek 5             48\n",
            "Kolek 4             14\n",
            "Name: SLIK_Kolektibilitas, dtype: int64\n",
            "Kolek 3            50.949367\n",
            "Kolek 1            28.481013\n",
            "Kolek 2             8.860759\n",
            "Tidak_Ditemukan     5.168776\n",
            "Kolek 5             5.063291\n",
            "Kolek 4             1.476793\n",
            "Name: SLIK_Kolektibilitas, dtype: float64\n"
          ]
        }
      ]
    },
    {
      "cell_type": "markdown",
      "metadata": {
        "id": "G4BiPf2ojA_m"
      },
      "source": [
        "## 2.3.2.5.5.2 Exploratory Data Analysis untuk SLIK_Kolektabilitas\n"
      ]
    },
    {
      "cell_type": "code",
      "metadata": {
        "id": "zESKaaoCOZO3",
        "colab": {
          "base_uri": "https://localhost:8080/"
        },
        "outputId": "b44a16c7-0a88-4fa4-c899-ab7045be1988"
      },
      "source": [
        "# Berapa banyak yang gagal bayar dari masing-masing nilai SLIK Kolektabilitas\n",
        "print(pd.crosstab(df_clean['SLIK_Kolektibilitas'], df_clean['gagal_bayar']))\n",
        "\n",
        "# dalam proporsi persentase\n",
        "print(pd.crosstab(df_clean['SLIK_Kolektibilitas'],df_clean['gagal_bayar'],normalize='index',)*100)"
      ],
      "execution_count": 96,
      "outputs": [
        {
          "output_type": "stream",
          "name": "stdout",
          "text": [
            "gagal_bayar          0_Bayar  1_Gagal\n",
            "SLIK_Kolektibilitas                  \n",
            "Kolek 1                  229       41\n",
            "Kolek 2                   58       26\n",
            "Kolek 3                  333      150\n",
            "Kolek 4                    6        8\n",
            "Kolek 5                   21       27\n",
            "Tidak_Ditemukan           23       26\n",
            "gagal_bayar            0_Bayar    1_Gagal\n",
            "SLIK_Kolektibilitas                      \n",
            "Kolek 1              84.814815  15.185185\n",
            "Kolek 2              69.047619  30.952381\n",
            "Kolek 3              68.944099  31.055901\n",
            "Kolek 4              42.857143  57.142857\n",
            "Kolek 5              43.750000  56.250000\n",
            "Tidak_Ditemukan      46.938776  53.061224\n"
          ]
        }
      ]
    },
    {
      "cell_type": "markdown",
      "metadata": {
        "id": "e5Obp23kjSkZ"
      },
      "source": [
        "## 2.3.2.5.5.2 SLIK_Kolektibilitas Data Visualisasi"
      ]
    },
    {
      "cell_type": "code",
      "metadata": {
        "colab": {
          "base_uri": "https://localhost:8080/",
          "height": 361
        },
        "id": "T7qwqbQUYFWm",
        "outputId": "a8219a64-a3c0-49c7-ddfd-6c3e2dfa36fc"
      },
      "source": [
        "# Fungsi value_counts().plot(kind='bar')\n",
        "df_clean['SLIK_Kolektibilitas'].value_counts().plot(kind='bar')"
      ],
      "execution_count": 97,
      "outputs": [
        {
          "output_type": "execute_result",
          "data": {
            "text/plain": [
              "<matplotlib.axes._subplots.AxesSubplot at 0x7fd5c62a3590>"
            ]
          },
          "metadata": {},
          "execution_count": 97
        },
        {
          "output_type": "display_data",
          "data": {
            "image/png": "[encoded data removed]",
            "text/plain": [
              "<Figure size 432x288 with 1 Axes>"
            ]
          },
          "metadata": {
            "needs_background": "light"
          }
        }
      ]
    },
    {
      "cell_type": "code",
      "metadata": {
        "colab": {
          "base_uri": "https://localhost:8080/",
          "height": 283
        },
        "id": "QEmk-BKSYpKH",
        "outputId": "10cec9fb-b75d-4154-cea6-2d514bb1c065"
      },
      "source": [
        "# Menampilkan plot bar secara horizontal\n",
        "df_clean['SLIK_Kolektibilitas'].value_counts().plot(kind='barh')"
      ],
      "execution_count": 98,
      "outputs": [
        {
          "output_type": "execute_result",
          "data": {
            "text/plain": [
              "<matplotlib.axes._subplots.AxesSubplot at 0x7fd5ad0a6a90>"
            ]
          },
          "metadata": {},
          "execution_count": 98
        },
        {
          "output_type": "display_data",
          "data": {
            "image/png": "[encoded data removed]",
            "text/plain": [
              "<Figure size 432x288 with 1 Axes>"
            ]
          },
          "metadata": {
            "needs_background": "light"
          }
        }
      ]
    },
    {
      "cell_type": "code",
      "metadata": {
        "colab": {
          "base_uri": "https://localhost:8080/",
          "height": 283
        },
        "id": "uILFhuMGZZRg",
        "outputId": "6379fa25-d9c6-4f03-ca76-1b45de715412"
      },
      "source": [
        "# Nilai variabel SLIK_Kolektibilitas dan proporsi default secara plot bar\n",
        "pd.crosstab(df_clean['SLIK_Kolektibilitas'], df_clean['gagal_bayar']).plot(kind='barh', stacked=True)"
      ],
      "execution_count": 99,
      "outputs": [
        {
          "output_type": "execute_result",
          "data": {
            "text/plain": [
              "<matplotlib.axes._subplots.AxesSubplot at 0x7fd5ad00da50>"
            ]
          },
          "metadata": {},
          "execution_count": 99
        },
        {
          "output_type": "display_data",
          "data": {
            "image/png": "[encoded data removed]",
            "text/plain": [
              "<Figure size 432x288 with 1 Axes>"
            ]
          },
          "metadata": {
            "needs_background": "light"
          }
        }
      ]
    },
    {
      "cell_type": "code",
      "metadata": {
        "colab": {
          "base_uri": "https://localhost:8080/",
          "height": 283
        },
        "id": "s_i1FvMkZseF",
        "outputId": "0125f184-4f42-43bf-ad23-9d30428da9b0"
      },
      "source": [
        "# Nilai variabel SLIK_Kolektibilitas dan proporsi default secara plot bar, secara proporsi\n",
        "pd.crosstab(df_clean['SLIK_Kolektibilitas'], df_clean['gagal_bayar'], normalize='index').plot(kind='barh', stacked=True)"
      ],
      "execution_count": 100,
      "outputs": [
        {
          "output_type": "execute_result",
          "data": {
            "text/plain": [
              "<matplotlib.axes._subplots.AxesSubplot at 0x7fd5acf95d10>"
            ]
          },
          "metadata": {},
          "execution_count": 100
        },
        {
          "output_type": "display_data",
          "data": {
            "image/png": "[encoded data removed]",
            "text/plain": [
              "<Figure size 432x288 with 1 Axes>"
            ]
          },
          "metadata": {
            "needs_background": "light"
          }
        }
      ]
    },
    {
      "cell_type": "markdown",
      "metadata": {
        "id": "wHjaPO4ejaqY"
      },
      "source": [
        "## Latihan EDA untuk variabel kategori"
      ]
    },
    {
      "cell_type": "code",
      "metadata": {
        "id": "S0EttoEU8l38"
      },
      "source": [
        "# Latihan EDA untuk Tujuan_Pinjaman, Lama_Bekerja, atau variabel kategori / teks lainnya\n",
        "# Tulis kode disini\n",
        "\n"
      ],
      "execution_count": 101,
      "outputs": []
    },
    {
      "cell_type": "markdown",
      "metadata": {
        "id": "Z8LtJ3gdjdX6"
      },
      "source": [
        "## 2.3.2.5.5.3 Exploratory Data Analysis untuk Usia"
      ]
    },
    {
      "cell_type": "code",
      "metadata": {
        "colab": {
          "base_uri": "https://localhost:8080/",
          "height": 299
        },
        "id": "90J2yiiUYmY-",
        "outputId": "697dc1f7-fc60-406e-da8e-dfbd93a2a2bf"
      },
      "source": [
        "# Rangkuman statistik untuk variabel numerik Usia\n",
        "print(df_clean['Usia'].describe())\n",
        "\n",
        "# Rangkuman statistik untuk variabel numerik Usia, berdasarkan default (gagal bayar atau tidak)\n",
        "df_clean.groupby('gagal_bayar')['Usia'].describe()"
      ],
      "execution_count": 102,
      "outputs": [
        {
          "output_type": "stream",
          "name": "stdout",
          "text": [
            "count    948.000000\n",
            "mean      35.548523\n",
            "std       11.335750\n",
            "min       19.000000\n",
            "25%       27.000000\n",
            "50%       33.000000\n",
            "75%       42.000000\n",
            "max       75.000000\n",
            "Name: Usia, dtype: float64\n"
          ]
        },
        {
          "output_type": "execute_result",
          "data": {
            "text/html": [
              "<div>\n",
              "<style scoped>\n",
              "    .dataframe tbody tr th:only-of-type {\n",
              "        vertical-align: middle;\n",
              "    }\n",
              "\n",
              "    .dataframe tbody tr th {\n",
              "        vertical-align: top;\n",
              "    }\n",
              "\n",
              "    .dataframe thead th {\n",
              "        text-align: right;\n",
              "    }\n",
              "</style>\n",
              "<table border=\"1\" class=\"dataframe\">\n",
              "  <thead>\n",
              "    <tr style=\"text-align: right;\">\n",
              "      <th></th>\n",
              "      <th>count</th>\n",
              "      <th>mean</th>\n",
              "      <th>std</th>\n",
              "      <th>min</th>\n",
              "      <th>25%</th>\n",
              "      <th>50%</th>\n",
              "      <th>75%</th>\n",
              "      <th>max</th>\n",
              "    </tr>\n",
              "    <tr>\n",
              "      <th>gagal_bayar</th>\n",
              "      <th></th>\n",
              "      <th></th>\n",
              "      <th></th>\n",
              "      <th></th>\n",
              "      <th></th>\n",
              "      <th></th>\n",
              "      <th></th>\n",
              "      <th></th>\n",
              "    </tr>\n",
              "  </thead>\n",
              "  <tbody>\n",
              "    <tr>\n",
              "      <th>0_Bayar</th>\n",
              "      <td>670.0</td>\n",
              "      <td>36.116418</td>\n",
              "      <td>11.239140</td>\n",
              "      <td>19.0</td>\n",
              "      <td>27.0</td>\n",
              "      <td>34.0</td>\n",
              "      <td>42.00</td>\n",
              "      <td>75.0</td>\n",
              "    </tr>\n",
              "    <tr>\n",
              "      <th>1_Gagal</th>\n",
              "      <td>278.0</td>\n",
              "      <td>34.179856</td>\n",
              "      <td>11.470415</td>\n",
              "      <td>19.0</td>\n",
              "      <td>25.0</td>\n",
              "      <td>31.0</td>\n",
              "      <td>40.75</td>\n",
              "      <td>74.0</td>\n",
              "    </tr>\n",
              "  </tbody>\n",
              "</table>\n",
              "</div>"
            ],
            "text/plain": [
              "             count       mean        std   min   25%   50%    75%   max\n",
              "gagal_bayar                                                            \n",
              "0_Bayar      670.0  36.116418  11.239140  19.0  27.0  34.0  42.00  75.0\n",
              "1_Gagal      278.0  34.179856  11.470415  19.0  25.0  31.0  40.75  74.0"
            ]
          },
          "metadata": {},
          "execution_count": 102
        }
      ]
    },
    {
      "cell_type": "code",
      "metadata": {
        "colab": {
          "base_uri": "https://localhost:8080/",
          "height": 965
        },
        "id": "V0mG8ys3aeq0",
        "outputId": "7b643860-5ee2-4828-9519-9e90699e43ba"
      },
      "source": [
        "# Fungsi distplot() dari library seaborn\n",
        "# Perhatikan bahwa distribusi plot harus tidak memiliki data kosong / missing value.\n",
        "# Oleh karena itu harus menambahkan fungsi dropna() untuk secara sementara tidak\n",
        "# mengikutsertakan missing value dalam pembuatan plot distribusi\n",
        "\n",
        "import matplotlib.pyplot as plt\n",
        "import seaborn as sns\n",
        "\n",
        "fig, ax = plt.subplots(figsize=(15,15))\n",
        "sns.distplot(df_clean['Usia'].dropna(), ax=ax).set_title('Distribution Plot')"
      ],
      "execution_count": 103,
      "outputs": [
        {
          "output_type": "stream",
          "name": "stderr",
          "text": [
            "/usr/local/lib/python3.7/dist-packages/seaborn/distributions.py:2619: FutureWarning: `distplot` is a deprecated function and will be removed in a future version. Please adapt your code to use either `displot` (a figure-level function with similar flexibility) or `histplot` (an axes-level function for histograms).\n",
            "  warnings.warn(msg, FutureWarning)\n"
          ]
        },
        {
          "output_type": "execute_result",
          "data": {
            "text/plain": [
              "Text(0.5, 1.0, 'Distribution Plot')"
            ]
          },
          "metadata": {},
          "execution_count": 103
        },
        {
          "output_type": "display_data",
          "data": {
            "image/png": "[encoded data removed]",
            "text/plain": [
              "<Figure size 1080x1080 with 1 Axes>"
            ]
          },
          "metadata": {
            "needs_background": "light"
          }
        }
      ]
    },
    {
      "cell_type": "code",
      "metadata": {
        "id": "K1JubColf4xI",
        "colab": {
          "base_uri": "https://localhost:8080/",
          "height": 375
        },
        "outputId": "21fa2bf6-2992-44f2-d505-8ecf1d72310f"
      },
      "source": [
        "# Menambahkan by di fungsi boxplot untuk membagi boxplot berdasarkan gagal_bayar\n",
        "df_clean.boxplot(by='gagal_bayar',column=['Usia'])"
      ],
      "execution_count": 104,
      "outputs": [
        {
          "output_type": "stream",
          "name": "stderr",
          "text": [
            "/usr/local/lib/python3.7/dist-packages/numpy/core/_asarray.py:83: VisibleDeprecationWarning: Creating an ndarray from ragged nested sequences (which is a list-or-tuple of lists-or-tuples-or ndarrays with different lengths or shapes) is deprecated. If you meant to do this, you must specify 'dtype=object' when creating the ndarray\n",
            "  return array(a, dtype, copy=False, order=order)\n"
          ]
        },
        {
          "output_type": "execute_result",
          "data": {
            "text/plain": [
              "<matplotlib.axes._subplots.AxesSubplot at 0x7fd5aced3890>"
            ]
          },
          "metadata": {},
          "execution_count": 104
        },
        {
          "output_type": "display_data",
          "data": {
            "image/png": "[encoded data removed]",
            "text/plain": [
              "<Figure size 432x288 with 1 Axes>"
            ]
          },
          "metadata": {
            "needs_background": "light"
          }
        }
      ]
    },
    {
      "cell_type": "markdown",
      "metadata": {
        "id": "VRrUeXK_kdnC"
      },
      "source": [
        "## Latihan EDA untuk variabel Numerik"
      ]
    },
    {
      "cell_type": "code",
      "metadata": {
        "id": "AtuTbwnrTjmX"
      },
      "source": [
        "# Latihan untuk rangkuman analisa dan visualisasi untuk variabel SLIK_Cicilan_Bulanan, SLIK_Outstanding_CC, Lama_Cicilan, dan Jumlah_Pinjaman\n",
        "# Tulis kode disini\n",
        "\n"
      ],
      "execution_count": 105,
      "outputs": []
    },
    {
      "cell_type": "markdown",
      "metadata": {
        "id": "mLdW1nh6lSri"
      },
      "source": [
        "## Korelasi"
      ]
    },
    {
      "cell_type": "code",
      "metadata": {
        "id": "5lZPEAen-nxN"
      },
      "source": [
        "import numpy as np\n",
        "\n",
        "# Untuk dapat melakukan analisa statistik, harus mengubah variabel gagal_bayar dari string menjadi angka (integer)\n",
        "# Mengubah target variabel gagal_bayar menjadi angka 0 dan 1\n",
        "conditions = [\n",
        "             df_clean['gagal_bayar'] == '1_Gagal', \n",
        "             df_clean['gagal_bayar'] == '0_Bayar'\n",
        "             ]\n",
        "\n",
        "choices     = [\n",
        "             1,\n",
        "             0\n",
        "             ]\n",
        "df_clean['default'] = np.select(conditions,choices, default = 0)"
      ],
      "execution_count": 106,
      "outputs": []
    },
    {
      "cell_type": "code",
      "metadata": {
        "id": "HNjGTaQp_BaM",
        "colab": {
          "base_uri": "https://localhost:8080/"
        },
        "outputId": "0601b8ab-0661-4496-d0e6-28822fc8f5fc"
      },
      "source": [
        "# Menghitung korelasi antara variabel Usia dengan default\n",
        "print(df_clean['default'].corr(df_clean['Usia']))"
      ],
      "execution_count": 107,
      "outputs": [
        {
          "output_type": "stream",
          "name": "stdout",
          "text": [
            "-0.0778147171989035\n"
          ]
        }
      ]
    },
    {
      "cell_type": "code",
      "metadata": {
        "colab": {
          "base_uri": "https://localhost:8080/"
        },
        "id": "84joxnCJCThc",
        "outputId": "60449fae-b084-48e5-8424-61f20d2dfcdd"
      },
      "source": [
        "from scipy import stats\n",
        "\n",
        "# Uji coba hipotesis apakah ada perbedaan nilai rata-rata variabel \n",
        "# API_CreditScore_Vendor_A dengan default (gagal bayar dan tidak gagal bayar)\n",
        "stats.ttest_ind( df_clean[df_clean.default == 0].Usia,\n",
        "             \tdf_clean[df_clean.default == 1].Usia, nan_policy='omit')"
      ],
      "execution_count": 108,
      "outputs": [
        {
          "output_type": "execute_result",
          "data": {
            "text/plain": [
              "Ttest_indResult(statistic=2.400635164816287, pvalue=0.016558910387081596)"
            ]
          },
          "metadata": {},
          "execution_count": 108
        }
      ]
    },
    {
      "cell_type": "markdown",
      "metadata": {
        "id": "wm-kQAHrlfH8"
      },
      "source": [
        "## 2.3.2.5.6 Memahami korelasi antar variabel dan dengan target"
      ]
    },
    {
      "cell_type": "code",
      "metadata": {
        "colab": {
          "base_uri": "https://localhost:8080/",
          "height": 351
        },
        "id": "zeTbQamD1XoF",
        "outputId": "8f864ad6-cf59-4341-f4ab-6c9095e4764c"
      },
      "source": [
        "# Korelasi Antar semua Variabel numerik\n",
        "import seaborn as sns\n",
        "corr = df_clean.corr()\n",
        "corr"
      ],
      "execution_count": 109,
      "outputs": [
        {
          "output_type": "execute_result",
          "data": {
            "text/html": [
              "<div>\n",
              "<style scoped>\n",
              "    .dataframe tbody tr th:only-of-type {\n",
              "        vertical-align: middle;\n",
              "    }\n",
              "\n",
              "    .dataframe tbody tr th {\n",
              "        vertical-align: top;\n",
              "    }\n",
              "\n",
              "    .dataframe thead th {\n",
              "        text-align: right;\n",
              "    }\n",
              "</style>\n",
              "<table border=\"1\" class=\"dataframe\">\n",
              "  <thead>\n",
              "    <tr style=\"text-align: right;\">\n",
              "      <th></th>\n",
              "      <th>Lama_Cicilan</th>\n",
              "      <th>Jumlah_Pinjaman</th>\n",
              "      <th>Usia</th>\n",
              "      <th>SLIK_Cicilan_Bulanan</th>\n",
              "      <th>SLIK_Outstanding_CC</th>\n",
              "      <th>API_CreditScore_Vendor_A</th>\n",
              "      <th>API_CreditScore_Vendor_B</th>\n",
              "      <th>Device_Apps_Installed</th>\n",
              "      <th>default</th>\n",
              "    </tr>\n",
              "  </thead>\n",
              "  <tbody>\n",
              "    <tr>\n",
              "      <th>Lama_Cicilan</th>\n",
              "      <td>1.000000</td>\n",
              "      <td>0.298788</td>\n",
              "      <td>0.029419</td>\n",
              "      <td>0.000481</td>\n",
              "      <td>0.029004</td>\n",
              "      <td>-0.012322</td>\n",
              "      <td>-0.028463</td>\n",
              "      <td>-0.057698</td>\n",
              "      <td>0.021000</td>\n",
              "    </tr>\n",
              "    <tr>\n",
              "      <th>Jumlah_Pinjaman</th>\n",
              "      <td>0.298788</td>\n",
              "      <td>1.000000</td>\n",
              "      <td>0.041210</td>\n",
              "      <td>-0.031538</td>\n",
              "      <td>-0.007841</td>\n",
              "      <td>0.013080</td>\n",
              "      <td>-0.020965</td>\n",
              "      <td>-0.026660</td>\n",
              "      <td>0.132585</td>\n",
              "    </tr>\n",
              "    <tr>\n",
              "      <th>Usia</th>\n",
              "      <td>0.029419</td>\n",
              "      <td>0.041210</td>\n",
              "      <td>1.000000</td>\n",
              "      <td>0.007345</td>\n",
              "      <td>-0.008791</td>\n",
              "      <td>0.018705</td>\n",
              "      <td>0.018308</td>\n",
              "      <td>0.032119</td>\n",
              "      <td>-0.077815</td>\n",
              "    </tr>\n",
              "    <tr>\n",
              "      <th>SLIK_Cicilan_Bulanan</th>\n",
              "      <td>0.000481</td>\n",
              "      <td>-0.031538</td>\n",
              "      <td>0.007345</td>\n",
              "      <td>1.000000</td>\n",
              "      <td>0.317872</td>\n",
              "      <td>0.034330</td>\n",
              "      <td>-0.056521</td>\n",
              "      <td>-0.003362</td>\n",
              "      <td>0.181373</td>\n",
              "    </tr>\n",
              "    <tr>\n",
              "      <th>SLIK_Outstanding_CC</th>\n",
              "      <td>0.029004</td>\n",
              "      <td>-0.007841</td>\n",
              "      <td>-0.008791</td>\n",
              "      <td>0.317872</td>\n",
              "      <td>1.000000</td>\n",
              "      <td>-0.035197</td>\n",
              "      <td>-0.004624</td>\n",
              "      <td>-0.054377</td>\n",
              "      <td>0.185339</td>\n",
              "    </tr>\n",
              "    <tr>\n",
              "      <th>API_CreditScore_Vendor_A</th>\n",
              "      <td>-0.012322</td>\n",
              "      <td>0.013080</td>\n",
              "      <td>0.018705</td>\n",
              "      <td>0.034330</td>\n",
              "      <td>-0.035197</td>\n",
              "      <td>1.000000</td>\n",
              "      <td>-0.000716</td>\n",
              "      <td>0.040767</td>\n",
              "      <td>-0.038087</td>\n",
              "    </tr>\n",
              "    <tr>\n",
              "      <th>API_CreditScore_Vendor_B</th>\n",
              "      <td>-0.028463</td>\n",
              "      <td>-0.020965</td>\n",
              "      <td>0.018308</td>\n",
              "      <td>-0.056521</td>\n",
              "      <td>-0.004624</td>\n",
              "      <td>-0.000716</td>\n",
              "      <td>1.000000</td>\n",
              "      <td>-0.018533</td>\n",
              "      <td>-0.160338</td>\n",
              "    </tr>\n",
              "    <tr>\n",
              "      <th>Device_Apps_Installed</th>\n",
              "      <td>-0.057698</td>\n",
              "      <td>-0.026660</td>\n",
              "      <td>0.032119</td>\n",
              "      <td>-0.003362</td>\n",
              "      <td>-0.054377</td>\n",
              "      <td>0.040767</td>\n",
              "      <td>-0.018533</td>\n",
              "      <td>1.000000</td>\n",
              "      <td>-0.132190</td>\n",
              "    </tr>\n",
              "    <tr>\n",
              "      <th>default</th>\n",
              "      <td>0.021000</td>\n",
              "      <td>0.132585</td>\n",
              "      <td>-0.077815</td>\n",
              "      <td>0.181373</td>\n",
              "      <td>0.185339</td>\n",
              "      <td>-0.038087</td>\n",
              "      <td>-0.160338</td>\n",
              "      <td>-0.132190</td>\n",
              "      <td>1.000000</td>\n",
              "    </tr>\n",
              "  </tbody>\n",
              "</table>\n",
              "</div>"
            ],
            "text/plain": [
              "                          Lama_Cicilan  ...   default\n",
              "Lama_Cicilan                  1.000000  ...  0.021000\n",
              "Jumlah_Pinjaman               0.298788  ...  0.132585\n",
              "Usia                          0.029419  ... -0.077815\n",
              "SLIK_Cicilan_Bulanan          0.000481  ...  0.181373\n",
              "SLIK_Outstanding_CC           0.029004  ...  0.185339\n",
              "API_CreditScore_Vendor_A     -0.012322  ... -0.038087\n",
              "API_CreditScore_Vendor_B     -0.028463  ... -0.160338\n",
              "Device_Apps_Installed        -0.057698  ... -0.132190\n",
              "default                       0.021000  ...  1.000000\n",
              "\n",
              "[9 rows x 9 columns]"
            ]
          },
          "metadata": {},
          "execution_count": 109
        }
      ]
    },
    {
      "cell_type": "code",
      "metadata": {
        "colab": {
          "base_uri": "https://localhost:8080/",
          "height": 407
        },
        "id": "L1bmRBmC8B9g",
        "outputId": "39de57bb-0ed9-461e-af85-e0f6e9485851"
      },
      "source": [
        "# Korelasi secara visualisasi\n",
        "sns.heatmap(corr, xticklabels=corr.columns.values, yticklabels=corr.columns.values)"
      ],
      "execution_count": 110,
      "outputs": [
        {
          "output_type": "execute_result",
          "data": {
            "text/plain": [
              "<matplotlib.axes._subplots.AxesSubplot at 0x7fd5acdd80d0>"
            ]
          },
          "metadata": {},
          "execution_count": 110
        },
        {
          "output_type": "display_data",
          "data": {
            "image/png": "[encoded data removed]",
            "text/plain": [
              "<Figure size 432x288 with 2 Axes>"
            ]
          },
          "metadata": {
            "needs_background": "light"
          }
        }
      ]
    },
    {
      "cell_type": "markdown",
      "metadata": {
        "id": "uPHUOv9lllM1"
      },
      "source": [
        "## Latihan Korelasi"
      ]
    },
    {
      "cell_type": "code",
      "metadata": {
        "id": "GYGvQAjevc21"
      },
      "source": [
        "# Latihan untuk korelasi untuk variabel API_CreditScore_Vendor_A dan Lama_Cicilan\n",
        "# Tulis kode disini\n",
        "# Kesimpulan yang didapatkan?\n"
      ],
      "execution_count": 111,
      "outputs": []
    },
    {
      "cell_type": "code",
      "metadata": {
        "id": "iV4srE0Jyz54"
      },
      "source": [
        "# Latihan uji coba hipotesis untuk API_CreditScore_Vendor_A dan Lama_Cicilan\n",
        "# Tulis kode disini\n",
        "# Kesimpulan yang didapatkan?\n",
        "\n"
      ],
      "execution_count": 112,
      "outputs": []
    },
    {
      "cell_type": "markdown",
      "metadata": {
        "id": "Fa1Y90PHlyyR"
      },
      "source": [
        "## 2.3.2.5.6.2 Memahami korelasi antar variabel independent kategori\n"
      ]
    },
    {
      "cell_type": "code",
      "metadata": {
        "id": "DINJuDJSjV3r",
        "colab": {
          "base_uri": "https://localhost:8080/",
          "height": 364
        },
        "outputId": "eabb3577-4cc3-413f-e1ba-b4656820bd6a"
      },
      "source": [
        "# Memisahkan variabel kategori dengan variabel numerik\n",
        "df_numerik = df_clean.select_dtypes(include=['float64','int64','int'])\n",
        "df_kategori = df_clean.select_dtypes(exclude = ['float64','int64','int'])\n",
        "\n",
        "# Menghapus kolom yang tidak berkaitan dengan korelasi antar variabel independent\n",
        "df_kategori.drop(columns=['ID', 'gagal_bayar'], inplace=True)\n",
        "\n",
        "from sklearn.feature_selection import chi2\n",
        "import numpy as np\n",
        "import pandas as pd\n",
        "import matplotlib.pyplot as plt\n",
        "import seaborn as sns\n",
        "\n",
        "df = pd.get_dummies(data = df_kategori)\n",
        "\n",
        "# Kode Python berdasarkan referensi dari https://www.analyticsvidhya.com/blog/2021/06/decoding-the-chi-square-test%E2%80%8A-%E2%80%8Ause-along-with-implementation-and-visualization/\n",
        "resultant = pd.DataFrame(data=[(0 for i in range(len(df.columns))) for i in range(len(df.columns))], \n",
        "                         columns=list(df.columns))\n",
        "resultant.set_index(pd.Index(list(df.columns)), inplace = True)\n",
        "for i in list(df.columns):\n",
        "    for j in list(df.columns):\n",
        "        if i != j:\n",
        "            chi2_val, p_val = chi2(np.array(df[i]).reshape(-1, 1), np.array(df[j]).reshape(-1, 1))\n",
        "            resultant.loc[i,j] = p_val\n",
        "print(resultant)\n",
        "\n",
        "# Untuk memudahkan membaca hasil, maka disimpan dalam bentuk csv dan didownload\n",
        "from google.colab import files\n",
        "df.to_csv('chi_square.csv') \n",
        "files.download('chi_square.csv')"
      ],
      "execution_count": 114,
      "outputs": [
        {
          "output_type": "stream",
          "name": "stderr",
          "text": [
            "/usr/local/lib/python3.7/dist-packages/pandas/core/frame.py:4174: SettingWithCopyWarning: \n",
            "A value is trying to be set on a copy of a slice from a DataFrame\n",
            "\n",
            "See the caveats in the documentation: https://pandas.pydata.org/pandas-docs/stable/user_guide/indexing.html#returning-a-view-versus-a-copy\n",
            "  errors=errors,\n"
          ]
        },
        {
          "output_type": "stream",
          "name": "stdout",
          "text": [
            "                                            Tujuan_Pinjaman_buka_bisnis  ...  Email_Domain_Type_Public_Domain\n",
            "Tujuan_Pinjaman_buka_bisnis                                0.000000e+00  ...                     4.236873e-04\n",
            "Tujuan_Pinjaman_elektronik                                 3.736414e-22  ...                     8.344980e-04\n",
            "Tujuan_Pinjaman_liburan                                    1.432841e-05  ...                     7.020366e-02\n",
            "Tujuan_Pinjaman_makanan                                    1.027722e-06  ...                     2.353050e-01\n",
            "Tujuan_Pinjaman_pendidikan                                 3.761034e-05  ...                     3.820163e-01\n",
            "...                                                                 ...  ...                              ...\n",
            "Mobile_Number_Active_Since_3_1_ke_2_tahun                  5.577441e-01  ...                     1.663092e-01\n",
            "Mobile_Number_Active_Since_4_2_ke_5_tahun                  1.438647e-01  ...                     2.431699e-01\n",
            "Mobile_Number_Active_Since_5_Lebih_5_tahun                 3.201663e-01  ...                     4.911474e-01\n",
            "Email_Domain_Type_Professional_Domain                      4.347997e-04  ...                    4.893445e-169\n",
            "Email_Domain_Type_Public_Domain                            8.854035e-02  ...                     0.000000e+00\n",
            "\n",
            "[66 rows x 66 columns]\n"
          ]
        },
        {
          "output_type": "display_data",
          "data": {
            "application/javascript": [
              "\n",
              "    async function download(id, filename, size) {\n",
              "      if (!google.colab.kernel.accessAllowed) {\n",
              "        return;\n",
              "      }\n",
              "      const div = document.createElement('div');\n",
              "      const label = document.createElement('label');\n",
              "      label.textContent = `Downloading \"${filename}\": `;\n",
              "      div.appendChild(label);\n",
              "      const progress = document.createElement('progress');\n",
              "      progress.max = size;\n",
              "      div.appendChild(progress);\n",
              "      document.body.appendChild(div);\n",
              "\n",
              "      const buffers = [];\n",
              "      let downloaded = 0;\n",
              "\n",
              "      const channel = await google.colab.kernel.comms.open(id);\n",
              "      // Send a message to notify the kernel that we're ready.\n",
              "      channel.send({})\n",
              "\n",
              "      for await (const message of channel.messages) {\n",
              "        // Send a message to notify the kernel that we're ready.\n",
              "        channel.send({})\n",
              "        if (message.buffers) {\n",
              "          for (const buffer of message.buffers) {\n",
              "            buffers.push(buffer);\n",
              "            downloaded += buffer.byteLength;\n",
              "            progress.value = downloaded;\n",
              "          }\n",
              "        }\n",
              "      }\n",
              "      const blob = new Blob(buffers, {type: 'application/binary'});\n",
              "      const a = document.createElement('a');\n",
              "      a.href = window.URL.createObjectURL(blob);\n",
              "      a.download = filename;\n",
              "      div.appendChild(a);\n",
              "      a.click();\n",
              "      div.remove();\n",
              "    }\n",
              "  "
            ],
            "text/plain": [
              "<IPython.core.display.Javascript object>"
            ]
          },
          "metadata": {}
        },
        {
          "output_type": "display_data",
          "data": {
            "application/javascript": [
              "download(\"download_d645ecc2-4e7f-42a6-b75f-b48822170746\", \"chi_square.csv\", 130822)"
            ],
            "text/plain": [
              "<IPython.core.display.Javascript object>"
            ]
          },
          "metadata": {}
        }
      ]
    },
    {
      "cell_type": "markdown",
      "metadata": {
        "id": "HAhRODaXy0xy"
      },
      "source": [
        "# Modeling Scorecard dengan Library scorecardpy (Cara Cepat)\n",
        "### Instalasi library scorecardpy"
      ]
    },
    {
      "cell_type": "code",
      "metadata": {
        "id": "E7FqhmFWzH6b"
      },
      "source": [
        "# install scorecardpy\n",
        "!pip install -q scorecardpy\n",
        "#!pip install git+git://github.com/shichenxie/scorecardpy.git\n",
        "\n",
        "import scorecardpy as sc"
      ],
      "execution_count": 118,
      "outputs": []
    },
    {
      "cell_type": "markdown",
      "metadata": {
        "id": "mH5C1S7n5-IL"
      },
      "source": [
        "### Pemilihan Variabel dalam Pembuatan Model"
      ]
    },
    {
      "cell_type": "code",
      "metadata": {
        "id": "aitxkF4V6Bnw"
      },
      "source": [
        "# Dapat memasukan lebih banyak variabel input\n",
        "# Tapi untuk contoh ini, hanya menggunakan 3 variabel\n",
        "df_model = df_clean[['default','SLIK_Kolektibilitas','Usia','Tujuan_Pinjaman']]"
      ],
      "execution_count": 119,
      "outputs": []
    },
    {
      "cell_type": "markdown",
      "metadata": {
        "id": "Xpva5rfO6xvj"
      },
      "source": [
        "### Pembuatan Model: Training dan Test"
      ]
    },
    {
      "cell_type": "code",
      "metadata": {
        "id": "TpEf35TFzH_z"
      },
      "source": [
        "# Membuat Training dan Test dataset\n",
        "train, test = sc.split_df(df_model, 'default').values()"
      ],
      "execution_count": 120,
      "outputs": []
    },
    {
      "cell_type": "markdown",
      "metadata": {
        "id": "w3CsSEq965bT"
      },
      "source": [
        "### Penggunaan scorecardpy untuk membuat model kredit dalam bentuk scorecard"
      ]
    },
    {
      "cell_type": "code",
      "metadata": {
        "id": "rRxuB4w36-2k",
        "outputId": "3c562e9a-61fe-41b2-af57-e74be61cd42e",
        "colab": {
          "base_uri": "https://localhost:8080/",
          "height": 985
        }
      },
      "source": [
        "# Membuat bin WOE dan IV \n",
        "bins = sc.woebin(df_model, y=\"default\")\n",
        "sc.woebin_plot(bins)\n",
        "\n",
        "# binning adjustment (jika ada)\n",
        "breaks_adj = {\n",
        "}\n",
        "bins_adj = sc.woebin(df_model, y=\"default\", breaks_list=breaks_adj)\n",
        "\n",
        "# Membuat variabel yang berisi WOE dan IV\n",
        "train_woe = sc.woebin_ply(train, bins_adj)\n",
        "test_woe = sc.woebin_ply(test, bins_adj)\n",
        "\n",
        "y_train = train_woe.loc[:,'default']\n",
        "X_train = train_woe.loc[:,train_woe.columns != 'default']\n",
        "y_test = test_woe.loc[:,'default']\n",
        "X_test = test_woe.loc[:,train_woe.columns != 'default']"
      ],
      "execution_count": 121,
      "outputs": [
        {
          "output_type": "stream",
          "name": "stdout",
          "text": [
            "[INFO] creating woe binning ...\n",
            "[INFO] creating woe binning ...\n",
            "[INFO] converting into woe values ...\n",
            "[INFO] converting into woe values ...\n"
          ]
        },
        {
          "output_type": "stream",
          "name": "stderr",
          "text": [
            "/usr/local/lib/python3.7/dist-packages/pandas/core/indexing.py:1781: SettingWithCopyWarning: \n",
            "A value is trying to be set on a copy of a slice from a DataFrame.\n",
            "Try using .loc[row_indexer,col_indexer] = value instead\n",
            "\n",
            "See the caveats in the documentation: https://pandas.pydata.org/pandas-docs/stable/user_guide/indexing.html#returning-a-view-versus-a-copy\n",
            "  self.obj[item_labels[indexer[info_axis]]] = value\n"
          ]
        },
        {
          "output_type": "display_data",
          "data": {
            "image/png": "[encoded data removed]",
            "text/plain": [
              "<Figure size 432x288 with 2 Axes>"
            ]
          },
          "metadata": {
            "needs_background": "light"
          }
        },
        {
          "output_type": "display_data",
          "data": {
            "image/png": "[encoded data removed]",
            "text/plain": [
              "<Figure size 432x288 with 2 Axes>"
            ]
          },
          "metadata": {
            "needs_background": "light"
          }
        },
        {
          "output_type": "display_data",
          "data": {
            "image/png": "[encoded data removed]",
            "text/plain": [
              "<Figure size 432x288 with 2 Axes>"
            ]
          },
          "metadata": {
            "needs_background": "light"
          }
        }
      ]
    },
    {
      "cell_type": "markdown",
      "metadata": {
        "id": "6zjyNYvU7cJa"
      },
      "source": [
        "### Modeling dengan regresi logistik (logistic regression)"
      ]
    },
    {
      "cell_type": "code",
      "metadata": {
        "id": "j4F52ibH7cXk",
        "outputId": "3d9cd6b8-1ef0-48d4-ab30-9eaef75f4785",
        "colab": {
          "base_uri": "https://localhost:8080/"
        }
      },
      "source": [
        "# regresi logistik\n",
        "from sklearn.linear_model import LogisticRegression\n",
        "lr = LogisticRegression(penalty='l1', C=0.9, solver='saga', n_jobs=-1) #dapat mengganti parameter disini\n",
        "lr.fit(X_train, y_train)"
      ],
      "execution_count": 122,
      "outputs": [
        {
          "output_type": "execute_result",
          "data": {
            "text/plain": [
              "LogisticRegression(C=0.9, n_jobs=-1, penalty='l1', solver='saga')"
            ]
          },
          "metadata": {},
          "execution_count": 122
        }
      ]
    },
    {
      "cell_type": "markdown",
      "metadata": {
        "id": "p8RF9pGgQgVn"
      },
      "source": [
        "### Melakukan prediksi dari hasil model"
      ]
    },
    {
      "cell_type": "code",
      "metadata": {
        "id": "FHLfWn0VQfsl",
        "outputId": "0dae5423-313a-4131-c06b-67dbc1477b23",
        "colab": {
          "base_uri": "https://localhost:8080/"
        }
      },
      "source": [
        "# hasil prediksi\n",
        "train_pred = lr.predict_proba(X_train)[:,1]\n",
        "test_pred = lr.predict_proba(X_test)[:,1]\n",
        "print(test_pred)"
      ],
      "execution_count": 124,
      "outputs": [
        {
          "output_type": "stream",
          "name": "stdout",
          "text": [
            "[0.23727427 0.15475725 0.48429537 0.48429537 0.2197913  0.31169055\n",
            " 0.13815668 0.31169055 0.11066697 0.38774303 0.25991427 0.23754241\n",
            " 0.15542884 0.27932901 0.13815668 0.31169055 0.67663283 0.46341231\n",
            " 0.27974398 0.26645249 0.23727427 0.35000917 0.32937884 0.45972221\n",
            " 0.13815668 0.12678267 0.25991427 0.11066697 0.09010692 0.15032385\n",
            " 0.11066697 0.45972221 0.11393584 0.18661267 0.25991427 0.14222063\n",
            " 0.17129194 0.45972221 0.38774303 0.25991427 0.31169055 0.31169055\n",
            " 0.48429537 0.13815668 0.25991427 0.35000917 0.14222063 0.11066697\n",
            " 0.23727427 0.13429823 0.31169055 0.45972221 0.38774303 0.38774303\n",
            " 0.13815668 0.54706167 0.13815668 0.06612792 0.18574834 0.48429537\n",
            " 0.44290964 0.15475725 0.27932901 0.31169055 0.35000917 0.18574834\n",
            " 0.40566154 0.54338001 0.26645249 0.33323143 0.45972221 0.31169055\n",
            " 0.23727427 0.25347899 0.25991427 0.45972221 0.31169055 0.52686753\n",
            " 0.31169055 0.09010692 0.27932901 0.13815668 0.19447132 0.23754241\n",
            " 0.20204683 0.26645249 0.26645249 0.11393584 0.55136702 0.40566154\n",
            " 0.25991427 0.40566154 0.28628514 0.47180618 0.42978495 0.31169055\n",
            " 0.45972221 0.22424802 0.35000917 0.49777679 0.13429823 0.14222063\n",
            " 0.42978495 0.52264262 0.18313254 0.45972221 0.31169055 0.45972221\n",
            " 0.32937884 0.15032385 0.32937884 0.25991427 0.14222063 0.42978495\n",
            " 0.49777679 0.49777679 0.11393584 0.32937884 0.54338001 0.45972221\n",
            " 0.42978495 0.47180618 0.46341231 0.30806763 0.06612792 0.18183683\n",
            " 0.28733348 0.31169055 0.31169055 0.54338001 0.15475725 0.31169055\n",
            " 0.31169055 0.13815668 0.3345001  0.17129194 0.15032385 0.45972221\n",
            " 0.52686753 0.2197913  0.26645249 0.25991427 0.06612792 0.12434059\n",
            " 0.52384027 0.40566154 0.2197913  0.32937884 0.25597411 0.69782503\n",
            " 0.31169055 0.18183683 0.2197913  0.27932901 0.28628514 0.31169055\n",
            " 0.28628514 0.18183683 0.11066697 0.33323143 0.45972221 0.25991427\n",
            " 0.25991427 0.62664994 0.31169055 0.46341231 0.42978495 0.32937884\n",
            " 0.23727427 0.32937884 0.17129194 0.25991427 0.25991427 0.25991427\n",
            " 0.27932901 0.48429537 0.64955251 0.18313254 0.18574834 0.26645249\n",
            " 0.25991427 0.19729776 0.2197913  0.17129194 0.31169055 0.17129194\n",
            " 0.12081391 0.38774303 0.27974398 0.32937884 0.65064458 0.17129194\n",
            " 0.38774303 0.12434059 0.26645249 0.09210304 0.17129194 0.14222063\n",
            " 0.35000917 0.26645249 0.26645249 0.23727427 0.35000917 0.31169055\n",
            " 0.06612792 0.31169055 0.22274073 0.05374725 0.45972221 0.11393584\n",
            " 0.30806763 0.12678267 0.11066697 0.25991427 0.11393584 0.2197913\n",
            " 0.2197913  0.25991427 0.45972221 0.45972221 0.12678267 0.22274073\n",
            " 0.45972221 0.25991427 0.09210304 0.2197913  0.5224172  0.26645249\n",
            " 0.13429823 0.3345001  0.07248518 0.18183683 0.31169055 0.14222063\n",
            " 0.12081391 0.28628514 0.13815668 0.2197913  0.48429537 0.13815668\n",
            " 0.27614276 0.2197913  0.18661267 0.40566154 0.4092464  0.13815668\n",
            " 0.18574834 0.2197913  0.22274073 0.31169055 0.26645249 0.5224172\n",
            " 0.31169055 0.27932901 0.52264262 0.46341231 0.27974398 0.2197913\n",
            " 0.3345001  0.25991427 0.11567538 0.45972221 0.31169055 0.54706167\n",
            " 0.11393584 0.25991427 0.25991427 0.38546138 0.52686753 0.27932901\n",
            " 0.40566154 0.31169055 0.20204683 0.17129194 0.14618323 0.42978495\n",
            " 0.3345001  0.09210304 0.42978495 0.25257159 0.64955251 0.17129194\n",
            " 0.26645249 0.52686753]\n"
          ]
        }
      ]
    },
    {
      "cell_type": "markdown",
      "metadata": {
        "id": "kNu3Y0gEQlcF"
      },
      "source": [
        "### Evaluasi hasil model"
      ]
    },
    {
      "cell_type": "code",
      "metadata": {
        "id": "djTLlIHmQpSw",
        "outputId": "9d3c4806-2e80-4e84-e618-54f4f2412829",
        "colab": {
          "base_uri": "https://localhost:8080/",
          "height": 1000
        }
      },
      "source": [
        "# performance ks & roc ------\n",
        "train_perf = sc.perf_eva(y_train, train_pred, title = \"train\")\n",
        "test_perf = sc.perf_eva(y_test, test_pred, title = \"test\")\n",
        "\n",
        "# score ------\n",
        "card = sc.scorecard(bins_adj, lr, X_train.columns)\n",
        "print(card)\n",
        "\n",
        "# credit score\n",
        "train_score = sc.scorecard_ply(train, card, print_step=0)\n",
        "test_score = sc.scorecard_ply(test, card, print_step=0)\n",
        "\n",
        "# psi\n",
        "sc.perf_psi(\n",
        "  score = {'train':train_score, 'test':test_score},\n",
        "  label = {'train':y_train, 'test':y_test}\n",
        ")"
      ],
      "execution_count": 125,
      "outputs": [
        {
          "output_type": "display_data",
          "data": {
            "image/png": "[encoded data removed]",
            "text/plain": [
              "<Figure size 432x288 with 2 Axes>"
            ]
          },
          "metadata": {
            "needs_background": "light"
          }
        },
        {
          "output_type": "display_data",
          "data": {
            "image/png": "[encoded data removed]",
            "text/plain": [
              "<Figure size 432x288 with 2 Axes>"
            ]
          },
          "metadata": {
            "needs_background": "light"
          }
        },
        {
          "output_type": "stream",
          "name": "stdout",
          "text": [
            "{'basepoints':      variable  bin  points\n",
            "0  basepoints  NaN     451, 'Tujuan_Pinjaman':           variable                    bin  points\n",
            "0  Tujuan_Pinjaman            buka_bisnis    14.0\n",
            "1  Tujuan_Pinjaman             elektronik    -2.0\n",
            "2  Tujuan_Pinjaman                liburan     7.0\n",
            "3  Tujuan_Pinjaman                makanan   -26.0\n",
            "4  Tujuan_Pinjaman             pendidikan    31.0\n",
            "5  Tujuan_Pinjaman  peralatan_rumahtangga    -9.0, 'Usia':    variable          bin  points\n",
            "10     Usia  [-inf,26.0)   -45.0\n",
            "11     Usia  [26.0,35.0)     1.0\n",
            "12     Usia  [35.0,37.0)    78.0\n",
            "13     Usia  [37.0,53.0)    19.0\n",
            "14     Usia   [53.0,inf)    -7.0, 'SLIK_Kolektibilitas':               variable                bin  points\n",
            "6  SLIK_Kolektibilitas            Kolek 1    52.0\n",
            "7  SLIK_Kolektibilitas  Kolek 2%,%Kolek 3    -5.0\n",
            "8  SLIK_Kolektibilitas  Kolek 4%,%Kolek 5   -70.0\n",
            "9  SLIK_Kolektibilitas    Tidak_Ditemukan   -62.0}\n"
          ]
        },
        {
          "output_type": "stream",
          "name": "stderr",
          "text": [
            "/usr/local/lib/python3.7/dist-packages/pandas/core/indexing.py:1781: SettingWithCopyWarning: \n",
            "A value is trying to be set on a copy of a slice from a DataFrame.\n",
            "Try using .loc[row_indexer,col_indexer] = value instead\n",
            "\n",
            "See the caveats in the documentation: https://pandas.pydata.org/pandas-docs/stable/user_guide/indexing.html#returning-a-view-versus-a-copy\n",
            "  self.obj[item_labels[indexer[info_axis]]] = value\n"
          ]
        },
        {
          "output_type": "display_data",
          "data": {
            "image/png": "[encoded data removed]",
            "text/plain": [
              "<Figure size 432x288 with 2 Axes>"
            ]
          },
          "metadata": {
            "needs_background": "light"
          }
        },
        {
          "output_type": "execute_result",
          "data": {
            "text/plain": [
              "{'pic': {'score': <Figure size 432x288 with 2 Axes>},\n",
              " 'psi':   variable       PSI\n",
              " 0    score  0.013222}"
            ]
          },
          "metadata": {},
          "execution_count": 125
        }
      ]
    },
    {
      "cell_type": "markdown",
      "metadata": {
        "id": "a8lCSFpZT2fE"
      },
      "source": [
        "# Pembuatan Scorecard Model secara Manual\n",
        "### Penggunaan WOE dan IV dalam Scorecard\n"
      ]
    },
    {
      "cell_type": "markdown",
      "metadata": {
        "id": "fbJNZCXTnsQ2"
      },
      "source": [
        "### Kelompok Bin WOE untuk SLIK_Kolektibilitas"
      ]
    },
    {
      "cell_type": "code",
      "metadata": {
        "id": "6YN3IBO10GRR",
        "colab": {
          "base_uri": "https://localhost:8080/"
        },
        "outputId": "254dbf01-9192-469b-dbd3-2705e1d59f24"
      },
      "source": [
        "# Reference https://stackoverflow.com/questions/60892714/how-to-get-the-weight-of-evidence-woe-and-information-value-iv-in-python-pan\n",
        "\n",
        "print(pd.crosstab(df_clean['SLIK_Kolektibilitas'], df_clean['default']))\n",
        "\n",
        "df_woe_iv = (pd.crosstab(df_clean['SLIK_Kolektibilitas'],df_clean['default'],normalize='columns')\n",
        "             .assign(woe=lambda dfx: np.log(dfx[1] / dfx[0]))\n",
        "             .assign(iv=lambda dfx: np.sum(dfx['woe']*\n",
        "                                           (dfx[1]-dfx[0]))))\n",
        "\n",
        "print(df_woe_iv)"
      ],
      "execution_count": 133,
      "outputs": [
        {
          "output_type": "stream",
          "name": "stdout",
          "text": [
            "default                0    1\n",
            "SLIK_Kolektibilitas          \n",
            "Kolek 1              229   41\n",
            "Kolek 2               58   26\n",
            "Kolek 3              333  150\n",
            "Kolek 4                6    8\n",
            "Kolek 5               21   27\n",
            "Tidak_Ditemukan       23   26\n",
            "default                     0         1       woe        iv\n",
            "SLIK_Kolektibilitas                                        \n",
            "Kolek 1              0.341791  0.147482 -0.840493  0.324213\n",
            "Kolek 2              0.086567  0.093525  0.077310  0.324213\n",
            "Kolek 3              0.497015  0.539568  0.082149  0.324213\n",
            "Kolek 4              0.008955  0.028777  1.167339  0.324213\n",
            "Kolek 5              0.031343  0.097122  1.130971  0.324213\n",
            "Tidak_Ditemukan      0.034328  0.093525  1.002259  0.324213\n"
          ]
        }
      ]
    },
    {
      "cell_type": "code",
      "metadata": {
        "id": "k7PpZqehERWC",
        "colab": {
          "base_uri": "https://localhost:8080/"
        },
        "outputId": "08702a73-32d5-4629-e72f-da090c9b098f"
      },
      "source": [
        "# Variabel SLIK_Kolektibilitas membuat kelompok bin WOE\n",
        "\n",
        "conditions = [\n",
        "             ( df_clean['SLIK_Kolektibilitas'] == 'Kolek 1' ),\n",
        "             ( df_clean['SLIK_Kolektibilitas'] == 'Kolek 2' ) | ( df_clean['SLIK_Kolektibilitas'] == 'Kolek 3' ),\n",
        "             ( df_clean['SLIK_Kolektibilitas'] == 'Kolek 4' ) | ( df_clean['SLIK_Kolektibilitas'] == 'Kolek 5' ),\n",
        "             ( df_clean['SLIK_Kolektibilitas'] == 'Tidak_Ditemukan' )\n",
        "             ]\n",
        "\n",
        "choices = [\n",
        "          'Kolek 1',\n",
        "          'Kolek 2&3',\n",
        "          'Kolek 4&5',\n",
        "          'Kolek Tidak_Ditemukan'\n",
        "          ]\n",
        "\n",
        "df_clean['SLIK_Kolektibilitas_Bin'] = np.select(conditions, choices)\n",
        "\n",
        "# Untuk melihat proporsi (dalam persentase) dari variabel Usia\n",
        "print(df_clean['SLIK_Kolektibilitas_Bin'].value_counts(normalize=True) * 100)\n",
        "\n",
        "df_woe_iv = (pd.crosstab(df_clean['SLIK_Kolektibilitas_Bin'],df_clean['default'],normalize='columns')\n",
        "             .assign(woe=lambda dfx: np.log(dfx[1] / dfx[0]))\n",
        "             .assign(iv=lambda dfx: np.sum(dfx['woe']*\n",
        "                                           (dfx[1]-dfx[0]))))\n",
        "\n",
        "print(df_woe_iv)\n",
        "\n",
        "conditions = [\n",
        "             ( df_clean['SLIK_Kolektibilitas'] == 'Kolek 1' ),\n",
        "             ( df_clean['SLIK_Kolektibilitas'] == 'Kolek 2' ) | ( df_clean['SLIK_Kolektibilitas'] == 'Kolek 3' ),\n",
        "             ( df_clean['SLIK_Kolektibilitas'] == 'Kolek 4' ) | ( df_clean['SLIK_Kolektibilitas'] == 'Kolek 5' ),\n",
        "             ( df_clean['SLIK_Kolektibilitas'] == 'Tidak_Ditemukan' )\n",
        "             ]\n",
        "\n",
        "choices = [\n",
        "          -0.8405,\n",
        "          0.0814,\n",
        "          1.1392,\n",
        "          1.0023\n",
        "          ]\n",
        "\n",
        "df_clean['SLIK_Kolektibilitas_WOE'] = np.select(conditions, choices)"
      ],
      "execution_count": 134,
      "outputs": [
        {
          "output_type": "stream",
          "name": "stdout",
          "text": [
            "Kolek 2&3                59.810127\n",
            "Kolek 1                  28.481013\n",
            "Kolek 4&5                 6.540084\n",
            "Kolek Tidak_Ditemukan     5.168776\n",
            "Name: SLIK_Kolektibilitas_Bin, dtype: float64\n",
            "default                         0         1       woe        iv\n",
            "SLIK_Kolektibilitas_Bin                                        \n",
            "Kolek 1                  0.341791  0.147482 -0.840493  0.324191\n",
            "Kolek 2&3                0.583582  0.633094  0.081433  0.324191\n",
            "Kolek 4&5                0.040299  0.125899  1.139168  0.324191\n",
            "Kolek Tidak_Ditemukan    0.034328  0.093525  1.002259  0.324191\n"
          ]
        }
      ]
    },
    {
      "cell_type": "markdown",
      "metadata": {
        "id": "EHWYTknObO_y"
      },
      "source": [
        "### Kelompok Bin WOE untuk Usia"
      ]
    },
    {
      "cell_type": "code",
      "metadata": {
        "id": "BETSmws_CDAx",
        "colab": {
          "base_uri": "https://localhost:8080/"
        },
        "outputId": "2151d10a-7460-4401-83e5-11c210426c8a"
      },
      "source": [
        "# Variabel Usia\n",
        "\n",
        "conditions = [\n",
        "             ( df_clean['Usia'] <= 25 ),\n",
        "             ( df_clean['Usia'] >= 26 ) & ( df_clean['Usia'] <= 30),\n",
        "             ( df_clean['Usia'] >= 31 ) & ( df_clean['Usia'] <= 35 ),\n",
        "             ( df_clean['Usia'] >= 36 ) & ( df_clean['Usia'] <= 40 ),\n",
        "             ( df_clean['Usia'] >= 41 ) & ( df_clean['Usia'] <= 50 ),\n",
        "             ( df_clean['Usia'] >= 51 )\n",
        "             ]\n",
        "\n",
        "choices = [\n",
        "          '1.<=25',\n",
        "          '2.26-30',\n",
        "          '3.31-35',\n",
        "          '4.36-40',\n",
        "          '5.41-50',\n",
        "          '6.>=51'\n",
        "          ]\n",
        "df_clean['Usia_Bin'] = np.select(conditions, choices)\n",
        "\n",
        "# Untuk melihat proporsi (dalam persentase) dari variabel Usia\n",
        "print(df_clean['Usia_Bin'].value_counts(normalize=True) * 100)\n",
        "\n",
        "print(pd.crosstab(df_clean['Usia_Bin'], df_clean['default']))\n",
        "\n",
        "df_woe_iv = (pd.crosstab(df_clean['Usia_Bin'],df_clean['default'],normalize='columns')\n",
        "             .assign(woe=lambda dfx: np.log(dfx[1] / dfx[0]))\n",
        "             .assign(iv=lambda dfx: np.sum(dfx['woe']*\n",
        "                                           (dfx[1]-dfx[0]))))\n",
        "\n",
        "print(df_woe_iv)\n",
        "\n",
        "conditions = [\n",
        "             ( df_clean['Usia'] <= 25 ),\n",
        "             ( df_clean['Usia'] >= 26 ) & ( df_clean['Usia'] <= 30),\n",
        "             ( df_clean['Usia'] >= 31 ) & ( df_clean['Usia'] <= 35 ),\n",
        "             ( df_clean['Usia'] >= 36 ) & ( df_clean['Usia'] <= 40 ),\n",
        "             ( df_clean['Usia'] >= 41 ) & ( df_clean['Usia'] <= 50 ),\n",
        "             ( df_clean['Usia'] >= 51 )\n",
        "             ]\n",
        "\n",
        "choices = [\n",
        "          0.560023,\n",
        "          -0.009605,\n",
        "          -0.227053,\n",
        "          -0.344119,\n",
        "          -0.185054,\n",
        "          -0.049879\n",
        "          ]\n",
        "df_clean['Usia_WOE'] = np.select(conditions, choices)"
      ],
      "execution_count": 135,
      "outputs": [
        {
          "output_type": "stream",
          "name": "stdout",
          "text": [
            "2.26-30    21.729958\n",
            "1.<=25     19.303797\n",
            "3.31-35    17.405063\n",
            "5.41-50    16.455696\n",
            "4.36-40    13.924051\n",
            "6.>=51     11.181435\n",
            "Name: Usia_Bin, dtype: float64\n",
            "default     0   1\n",
            "Usia_Bin         \n",
            "1.<=25    106  77\n",
            "2.26-30   146  60\n",
            "3.31-35   124  41\n",
            "4.36-40   102  30\n",
            "5.41-50   116  40\n",
            "6.>=51     76  30\n",
            "default          0         1       woe       iv\n",
            "Usia_Bin                                       \n",
            "1.<=25    0.158209  0.276978  0.560023  0.09601\n",
            "2.26-30   0.217910  0.215827 -0.009605  0.09601\n",
            "3.31-35   0.185075  0.147482 -0.227053  0.09601\n",
            "4.36-40   0.152239  0.107914 -0.344119  0.09601\n",
            "5.41-50   0.173134  0.143885 -0.185054  0.09601\n",
            "6.>=51    0.113433  0.107914 -0.049879  0.09601\n"
          ]
        }
      ]
    },
    {
      "cell_type": "markdown",
      "metadata": {
        "id": "Pkc3cqCucFXe"
      },
      "source": [
        "### Kelompok Bin WOE untuk Tujuan Pinjaman"
      ]
    },
    {
      "cell_type": "code",
      "metadata": {
        "id": "pedb5swXcFfV",
        "outputId": "e96f790a-03cb-4d72-ec05-c917b672d015",
        "colab": {
          "base_uri": "https://localhost:8080/"
        }
      },
      "source": [
        "# Variabel Tujuan_Pinjaman\n",
        "\n",
        "# Untuk melihat proporsi (dalam persentase) dari variabel Tujuan_Pinjaman\n",
        "print(df_clean['Tujuan_Pinjaman'].value_counts(normalize=True) * 100)\n",
        "\n",
        "df_woe_iv = (pd.crosstab(df_clean['Tujuan_Pinjaman'],df_clean['default'],normalize='columns')\n",
        "             .assign(woe=lambda dfx: np.log(dfx[1] / dfx[0]))\n",
        "             .assign(iv=lambda dfx: np.sum(dfx['woe']*\n",
        "                                           (dfx[1]-dfx[0]))))\n",
        "\n",
        "print(df_woe_iv)\n",
        "\n",
        "conditions = [\n",
        "             ( (df_clean['Tujuan_Pinjaman'] == 'pendidikan') ), \n",
        "             ( df_clean['Tujuan_Pinjaman'] == 'buka_bisnis' ),\n",
        "             ( (df_clean['Tujuan_Pinjaman'] == 'liburan') ),\n",
        "             ( (df_clean['Tujuan_Pinjaman'] == 'elektronik')   ), \n",
        "             ( df_clean['Tujuan_Pinjaman'] == 'peralatan_rumahtangga' ),\n",
        "             ( df_clean['Tujuan_Pinjaman'] == 'makanan' )\n",
        "             ]\n",
        "\n",
        "choices = [\n",
        "          '1.pendidikan',\n",
        "          '2.buka_bisnis',\n",
        "          '3.liburan',\n",
        "          '4.elektronik',\n",
        "          '5.peralatan_rumahtangga',\n",
        "          '6.makanan'\n",
        "          ]\n",
        "df_clean['Tujuan_Pinjaman_Bin'] = np.select(conditions, choices)\n",
        "\n",
        "print(pd.crosstab(df_clean['Tujuan_Pinjaman_Bin'], df_clean['default']))\n",
        "\n",
        "df_woe_iv = (pd.crosstab(df_clean['Tujuan_Pinjaman_Bin'],df_clean['default'],normalize='columns')\n",
        "             .assign(woe=lambda dfx: np.log(dfx[1] / dfx[0]))\n",
        "             .assign(iv=lambda dfx: np.sum(dfx['woe']*\n",
        "                                           (dfx[1]-dfx[0]))))\n",
        "print(df_woe_iv)\n",
        "\n",
        "conditions = [\n",
        "             ( (df_clean['Tujuan_Pinjaman'] == 'pendidikan') ), \n",
        "             ( df_clean['Tujuan_Pinjaman'] == 'buka_bisnis' ),\n",
        "             ( (df_clean['Tujuan_Pinjaman'] == 'liburan') ),\n",
        "             ( (df_clean['Tujuan_Pinjaman'] == 'elektronik')   ), \n",
        "             ( df_clean['Tujuan_Pinjaman'] == 'peralatan_rumahtangga' ),\n",
        "             ( df_clean['Tujuan_Pinjaman'] == 'makanan' )\n",
        "             ]\n",
        "\n",
        "choices = [\n",
        "          -0.8,\n",
        "          -0.5,\n",
        "          -0.3,\n",
        "          0.4,\n",
        "          0.5,\n",
        "          0.8\n",
        "          ]\n",
        "df_clean['Tujuan_Pinjaman_WOE'] = np.select(conditions, choices)"
      ],
      "execution_count": 137,
      "outputs": [
        {
          "output_type": "stream",
          "name": "stdout",
          "text": [
            "elektronik               43.037975\n",
            "buka_bisnis              18.670886\n",
            "makanan                  10.970464\n",
            "peralatan_rumahtangga    10.864979\n",
            "liburan                   8.649789\n",
            "pendidikan                7.805907\n",
            "Name: Tujuan_Pinjaman, dtype: float64\n",
            "default                       0         1       woe        iv\n",
            "Tujuan_Pinjaman                                              \n",
            "buka_bisnis            0.200000  0.154676 -0.256983  0.068185\n",
            "elektronik             0.425373  0.442446  0.039352  0.068185\n",
            "liburan                0.089552  0.079137 -0.123646  0.068185\n",
            "makanan                0.092537  0.151079  0.490192  0.068185\n",
            "pendidikan             0.089552  0.050360 -0.575631  0.068185\n",
            "peralatan_rumahtangga  0.102985  0.122302  0.171911  0.068185\n",
            "default                    0    1\n",
            "Tujuan_Pinjaman_Bin              \n",
            "1.pendidikan              60   14\n",
            "2.buka_bisnis            134   43\n",
            "3.liburan                 60   22\n",
            "4.elektronik             285  123\n",
            "5.peralatan_rumahtangga   69   34\n",
            "6.makanan                 62   42\n",
            "default                         0         1       woe        iv\n",
            "Tujuan_Pinjaman_Bin                                            \n",
            "1.pendidikan             0.089552  0.050360 -0.575631  0.068185\n",
            "2.buka_bisnis            0.200000  0.154676 -0.256983  0.068185\n",
            "3.liburan                0.089552  0.079137 -0.123646  0.068185\n",
            "4.elektronik             0.425373  0.442446  0.039352  0.068185\n",
            "5.peralatan_rumahtangga  0.102985  0.122302  0.171911  0.068185\n",
            "6.makanan                0.092537  0.151079  0.490192  0.068185\n"
          ]
        }
      ]
    },
    {
      "cell_type": "markdown",
      "metadata": {
        "id": "LR1tqMXv4O5-"
      },
      "source": [
        "### Latihan membuat WOE untuk Variabel Kategori: Email_Domain_Provider, Lama_Cicilan, Device_Apps_Segmentation, Mobile_Provider"
      ]
    },
    {
      "cell_type": "code",
      "metadata": {
        "id": "S1RnjSNufIqe"
      },
      "source": [
        "# Variabel Kategori -> Buat kelompok Bin WOE dan Hitung IV\n"
      ],
      "execution_count": 128,
      "outputs": []
    },
    {
      "cell_type": "markdown",
      "metadata": {
        "id": "5KjGXWb74pv_"
      },
      "source": [
        "### Latihan membuat WOE untuk Variabel Numerik: API_CreditScore_Vendor_B, API_CreditScore_Vendor_A, SLIK_Cicilan_Bulanan, SLIK_Outstanding_CC"
      ]
    },
    {
      "cell_type": "code",
      "metadata": {
        "id": "z0ckyODs6nXq"
      },
      "source": [
        "# Variabel Numerik -> Buat kelompok Bin WOE dan Hitung IV\n"
      ],
      "execution_count": null,
      "outputs": []
    },
    {
      "cell_type": "markdown",
      "metadata": {
        "id": "kbgXBsGRWkeK"
      },
      "source": [
        "# Feature Engineering (Membuat Variabel Baru)"
      ]
    },
    {
      "cell_type": "markdown",
      "metadata": {
        "id": "Rf3CvR4En0bw"
      },
      "source": [
        "### Variabel Debt Burden Ratio (DBR)"
      ]
    },
    {
      "cell_type": "code",
      "metadata": {
        "id": "ugFhwCFJq3C1"
      },
      "source": [
        "conditions = [\n",
        "             ( df_clean['Pendapatan_perbulan'] == '1. < 1 juta' ),\n",
        "             ( df_clean['Pendapatan_perbulan'] == '2. 1 - 5 juta' ),\n",
        "             ( df_clean['Pendapatan_perbulan'] == '3. 5 - 10 juta' ),\n",
        "             ( df_clean['Pendapatan_perbulan'] == '4. 10 - 20 juta' ),\n",
        "             ( df_clean['Pendapatan_perbulan'] == '5. >20 juta' )\n",
        "             ]\n",
        "\n",
        "choices = [\n",
        "          ( (df_clean['SLIK_Cicilan_Bulanan'] + (df_clean['SLIK_Outstanding_CC'] * 0.1) ) / 1000000 ),\n",
        "          ( (df_clean['SLIK_Cicilan_Bulanan'] + (df_clean['SLIK_Outstanding_CC'] * 0.1) ) / 5000000 ),\n",
        "          ( (df_clean['SLIK_Cicilan_Bulanan'] + (df_clean['SLIK_Outstanding_CC'] * 0.1) ) / 10000000 ),\n",
        "          ( (df_clean['SLIK_Cicilan_Bulanan'] + (df_clean['SLIK_Outstanding_CC'] * 0.1) ) / 20000000 ),\n",
        "          ( (df_clean['SLIK_Cicilan_Bulanan'] + (df_clean['SLIK_Outstanding_CC'] * 0.1) ) / 30000000 )\n",
        "          ]\n",
        "df_clean['DBR'] = np.select(conditions, choices)"
      ],
      "execution_count": 129,
      "outputs": []
    },
    {
      "cell_type": "code",
      "metadata": {
        "id": "dTlUY07yY9TE",
        "outputId": "da59be66-2af8-437d-c28f-874c1d710777",
        "colab": {
          "base_uri": "https://localhost:8080/"
        }
      },
      "source": [
        "# Jangan lupa juga untuk membuat WOE dan IV\n",
        "\n",
        "conditions = [\n",
        "             ( df_clean['DBR'] <= 0.00 ),\n",
        "             ( df_clean['DBR'] <= 0.10 ),\n",
        "             ( df_clean['DBR'] <= 0.20 ),\n",
        "             ( df_clean['DBR'] <= 0.30 ),\n",
        "             ( df_clean['DBR'] <= 0.40 ),\n",
        "             ( df_clean['DBR'] <= 0.50 ),\n",
        "             ( df_clean['DBR'] <= 0.60 ),\n",
        "             ( df_clean['DBR'] > 0.60 )\n",
        "             ]\n",
        "\n",
        "choices = [\n",
        "          '1.0%',\n",
        "          '2.0-10%',\n",
        "          '3.10-20%',\n",
        "          '4.20-30%',\n",
        "          '5.30-40%',\n",
        "          '6.40-50%',\n",
        "          '7.50-60%',\n",
        "          '8.>60%',\n",
        "          ]\n",
        "df_clean['DBR_Bin'] = np.select(conditions, choices)\n",
        "\n",
        "print(pd.crosstab(df_clean['DBR_Bin'], df_clean['default']))\n",
        "\n",
        "# Untuk melihat proporsi (dalam persentase) dari variabel API_CreditScore_Vendor_A_Bin\n",
        "print(df_clean['DBR_Bin'].value_counts(normalize=True) * 100)\n",
        "\n",
        "df_woe_iv = (pd.crosstab(df_clean['DBR_Bin'],df_clean['default'],normalize='columns')\n",
        "             .assign(woe=lambda dfx: np.log(dfx[1] / dfx[0]))\n",
        "             .assign(iv=lambda dfx: np.sum(dfx['woe']*\n",
        "                                           (dfx[1]-dfx[0]))))\n",
        "print(df_woe_iv)\n",
        "\n",
        "conditions = [\n",
        "             ( df_clean['DBR'] <= 0.0 ),\n",
        "             ( df_clean['DBR'] <= 0.1 ),\n",
        "             ( df_clean['DBR'] <= 0.2 ),\n",
        "             ( df_clean['DBR'] <= 0.3 ),\n",
        "             ( df_clean['DBR'] <= 0.4 ),\n",
        "             ( df_clean['DBR'] <= 0.5 ),\n",
        "             ( df_clean['DBR'] <= 0.6 ),\n",
        "             ( df_clean['DBR'] > 0.6 )\n",
        "             ]\n",
        "\n",
        "choices = [\n",
        "          1.145360,\n",
        "          -0.814122,\n",
        "          -0.303039,\n",
        "          -0.036634,\n",
        "          -0.072352,\n",
        "          0.062895,\n",
        "          0.142058,\n",
        "          0.728616,\n",
        "          ]\n",
        "df_clean['DBR_WOE'] = np.select(conditions, choices)"
      ],
      "execution_count": 130,
      "outputs": [
        {
          "output_type": "stream",
          "name": "stdout",
          "text": [
            "default     0   1\n",
            "DBR_Bin          \n",
            "1.0%       23  30\n",
            "2.0-10%   272  50\n",
            "3.10-20%   62  19\n",
            "4.20-30%   60  24\n",
            "5.30-40%   57  22\n",
            "6.40-50%   43  19\n",
            "7.50-60%   46  22\n",
            "8.>60%    107  92\n",
            "2.0-10%     33.966245\n",
            "8.>60%      20.991561\n",
            "4.20-30%     8.860759\n",
            "3.10-20%     8.544304\n",
            "5.30-40%     8.333333\n",
            "7.50-60%     7.172996\n",
            "6.40-50%     6.540084\n",
            "1.0%         5.590717\n",
            "Name: DBR_Bin, dtype: float64\n",
            "default          0         1       woe        iv\n",
            "DBR_Bin                                         \n",
            "1.0%      0.034328  0.107914  1.145360  0.402759\n",
            "2.0-10%   0.405970  0.179856 -0.814122  0.402759\n",
            "3.10-20%  0.092537  0.068345 -0.303039  0.402759\n",
            "4.20-30%  0.089552  0.086331 -0.036634  0.402759\n",
            "5.30-40%  0.085075  0.079137 -0.072352  0.402759\n",
            "6.40-50%  0.064179  0.068345  0.062895  0.402759\n",
            "7.50-60%  0.068657  0.079137  0.142058  0.402759\n",
            "8.>60%    0.159701  0.330935  0.728616  0.402759\n"
          ]
        }
      ]
    },
    {
      "cell_type": "markdown",
      "metadata": {
        "id": "Xt_8etPjn5Oc"
      },
      "source": [
        "### Variabel Baru: Apakah alamat kantor dan rumah berdekatan?\n"
      ]
    },
    {
      "cell_type": "code",
      "metadata": {
        "id": "dWiNIMfWtwly"
      },
      "source": [
        "conditions = [\n",
        "             ( df_clean['Alamat_Rumah'] == df_clean['Alamat_Kantor'] ),\n",
        "             ( df_clean['Alamat_Rumah'] != df_clean['Alamat_Kantor'] ),\n",
        "             ]\n",
        "\n",
        "choices = [\n",
        "          '1.Rumah_Kantor_Dekat',\n",
        "          '2.Rumah_Kantor_Jauh'\n",
        "          ]\n",
        "df_clean['Alamat_Rumah_Kantor'] = np.select(conditions, choices)"
      ],
      "execution_count": 131,
      "outputs": []
    },
    {
      "cell_type": "code",
      "metadata": {
        "colab": {
          "base_uri": "https://localhost:8080/"
        },
        "id": "cgPQ19q6VEm7",
        "outputId": "98f777cf-65ad-4ab6-eb7b-e311ae99bc3b"
      },
      "source": [
        "# Membuat WOE dan IV\n",
        "\n",
        "conditions = [\n",
        "             ( df_clean['Alamat_Rumah_Kantor'] == '1.Rumah_Kantor_Dekat' ),\n",
        "             ( df_clean['Alamat_Rumah_Kantor'] == '2.Rumah_Kantor_Jauh' )\n",
        "             ]\n",
        "\n",
        "choices = [\n",
        "          '1.Rumah_Kantor_Dekat',\n",
        "          '2.Rumah_Kantor_Jauh'\n",
        "          ]\n",
        "df_clean['Alamat_Rumah_Kantor_Bin'] = np.select(conditions, choices)\n",
        "\n",
        "print(pd.crosstab(df_clean['Alamat_Rumah_Kantor_Bin'], df_clean['default']))\n",
        "\n",
        "# Untuk melihat proporsi (dalam persentase) dari variabel API_CreditScore_Vendor_A_Bin\n",
        "print(df_clean['Alamat_Rumah_Kantor_Bin'].value_counts(normalize=True) * 100)\n",
        "\n",
        "df_woe_iv = (pd.crosstab(df_clean['Alamat_Rumah_Kantor_Bin'],df_clean['default'],normalize='columns')\n",
        "             .assign(woe=lambda dfx: np.log(dfx[1] / dfx[0]))\n",
        "             .assign(iv=lambda dfx: np.sum(dfx['woe']*\n",
        "                                           (dfx[1]-dfx[0]))))\n",
        "print(df_woe_iv)\n",
        "\n",
        "conditions = [\n",
        "             ( df_clean['Alamat_Rumah_Kantor'] == '1.Rumah_Kantor_Dekat' ),\n",
        "             ( df_clean['Alamat_Rumah_Kantor'] == '2.Rumah_Kantor_Jauh' )\n",
        "             ]\n",
        "\n",
        "choices = [\n",
        "          -0.313143,\n",
        "          0.092824\n",
        "          ]\n",
        "df_clean['Alamat_Rumah_Kantor_WOE'] = np.select(conditions, choices)"
      ],
      "execution_count": 132,
      "outputs": [
        {
          "output_type": "stream",
          "name": "stdout",
          "text": [
            "default                    0    1\n",
            "Alamat_Rumah_Kantor_Bin          \n",
            "1.Rumah_Kantor_Dekat     178   54\n",
            "2.Rumah_Kantor_Jauh      492  224\n",
            "2.Rumah_Kantor_Jauh     75.527426\n",
            "1.Rumah_Kantor_Dekat    24.472574\n",
            "Name: Alamat_Rumah_Kantor_Bin, dtype: float64\n",
            "default                         0         1       woe        iv\n",
            "Alamat_Rumah_Kantor_Bin                                        \n",
            "1.Rumah_Kantor_Dekat     0.265672  0.194245 -0.313143  0.028997\n",
            "2.Rumah_Kantor_Jauh      0.734328  0.805755  0.092824  0.028997\n"
          ]
        }
      ]
    },
    {
      "cell_type": "markdown",
      "metadata": {
        "id": "6fqNpS1Rn-Ap"
      },
      "source": [
        "## Latihan membuat variabel baru usia dan status\n"
      ]
    },
    {
      "cell_type": "code",
      "metadata": {
        "id": "_wSXIbYKA359"
      },
      "source": [
        "# Latihan membuat variabel baru usia dan status\n",
        "# Koding disini. Jangan lupa untuk membuat kelompok WOE\n",
        "\n"
      ],
      "execution_count": 139,
      "outputs": []
    },
    {
      "cell_type": "markdown",
      "metadata": {
        "id": "felYNYbrcUw-"
      },
      "source": [
        "# Proses Modeling secara Manual"
      ]
    },
    {
      "cell_type": "markdown",
      "metadata": {
        "id": "JayKvmyN43f3"
      },
      "source": [
        "## Pemilihan Variabel untuk Pembuatan Model"
      ]
    },
    {
      "cell_type": "code",
      "metadata": {
        "id": "HyjWkz-W487v"
      },
      "source": [
        "# Persiapan membuat model\n",
        "# Memilih variabel yang akan diinput ke dalam model\n",
        "\n",
        "df_model_WOE = df_clean[['default','SLIK_Kolektibilitas_WOE','Usia_WOE','Tujuan_Pinjaman_WOE']]\n",
        "df_model_Bin = df_clean[['default','SLIK_Kolektibilitas_Bin','Usia_Bin','Tujuan_Pinjaman_Bin']]\n",
        "df_model = df_clean[['default','SLIK_Kolektibilitas','Usia','Tujuan_Pinjaman']]"
      ],
      "execution_count": 138,
      "outputs": []
    },
    {
      "cell_type": "code",
      "metadata": {
        "id": "nmsU_19IWKun"
      },
      "source": [
        "# Dalam contoh ini tidak ada oversampling/undersampling"
      ],
      "execution_count": 140,
      "outputs": []
    },
    {
      "cell_type": "markdown",
      "metadata": {
        "id": "xNLiPNrW5Wb_"
      },
      "source": [
        "### Membagi dataset menjadi train dan test"
      ]
    },
    {
      "cell_type": "code",
      "metadata": {
        "id": "PX536cJfs5sI"
      },
      "source": [
        "# Membagi dataset menjadi development(train) dan test\n",
        "\n",
        "y = df_model_WOE.loc[:,'default']\n",
        "X = df_model_WOE.loc[:,df_model_WOE.columns != 'default']\n",
        "\n",
        "from sklearn.model_selection import train_test_split\n",
        "X_train, X_test, y_train, y_test = train_test_split(X, y, test_size=0.30, random_state=42)"
      ],
      "execution_count": 143,
      "outputs": []
    },
    {
      "cell_type": "markdown",
      "metadata": {
        "id": "E6HELMO65atK"
      },
      "source": [
        "### Modeling dengan Regresi Logistik (logistic regression) dan hasil regresi: koefisien dan intercept"
      ]
    },
    {
      "cell_type": "code",
      "metadata": {
        "id": "4ogRrGGQtHnd",
        "colab": {
          "base_uri": "https://localhost:8080/"
        },
        "outputId": "be56faf3-dfe4-438f-d463-652bf70999e0"
      },
      "source": [
        "# Membuat scorecard dengan menggunakan algoritma logistic regression\n",
        "from sklearn.linear_model import LogisticRegression\n",
        "lr = LogisticRegression()\n",
        "lr.fit(X_train, y_train)\n",
        "\n",
        "print('Coefficient: ', lr.feature_names_in_, lr.coef_)\n",
        "print('Intercept: ', lr.intercept_)\n",
        "print(lr.classes_)"
      ],
      "execution_count": 145,
      "outputs": [
        {
          "output_type": "stream",
          "name": "stdout",
          "text": [
            "Coefficient:  ['SLIK_Kolektibilitas_WOE' 'Usia_WOE' 'Tujuan_Pinjaman_WOE'] [[1.04530592 0.90924293 0.64475998]]\n",
            "Intercept:  [-0.95759636]\n",
            "[0 1]\n"
          ]
        }
      ]
    },
    {
      "cell_type": "markdown",
      "metadata": {
        "id": "G9t6KDjGc2N-"
      },
      "source": [
        "### Hasil dari Model Regresi Logistik"
      ]
    },
    {
      "cell_type": "code",
      "metadata": {
        "id": "JMbLSCMJdx5f",
        "outputId": "18ede6d9-a08e-469d-a164-ca6fa1c62a29",
        "colab": {
          "base_uri": "https://localhost:8080/",
          "height": 325
        }
      },
      "source": [
        "# Jika ingin mengetahui detail dari regresi logistik. Tapi koefisien dan intercept tidak akan sama persis karena pendekatannya beda\n",
        "import numpy as np\n",
        "import statsmodels.api as sm\n",
        "\n",
        "model = sm.Logit(y_train, X_train)\n",
        "result = model.fit()\n",
        "\n",
        "result.summary()"
      ],
      "execution_count": 146,
      "outputs": [
        {
          "output_type": "stream",
          "name": "stdout",
          "text": [
            "Optimization terminated successfully.\n",
            "         Current function value: 0.638753\n",
            "         Iterations 5\n"
          ]
        },
        {
          "output_type": "execute_result",
          "data": {
            "text/html": [
              "<table class=\"simpletable\">\n",
              "<caption>Logit Regression Results</caption>\n",
              "<tr>\n",
              "  <th>Dep. Variable:</th>        <td>default</td>     <th>  No. Observations:  </th>  <td>   663</td> \n",
              "</tr>\n",
              "<tr>\n",
              "  <th>Model:</th>                 <td>Logit</td>      <th>  Df Residuals:      </th>  <td>   660</td> \n",
              "</tr>\n",
              "<tr>\n",
              "  <th>Method:</th>                 <td>MLE</td>       <th>  Df Model:          </th>  <td>     2</td> \n",
              "</tr>\n",
              "<tr>\n",
              "  <th>Date:</th>            <td>Mon, 29 Nov 2021</td> <th>  Pseudo R-squ.:     </th> <td>-0.04986</td>\n",
              "</tr>\n",
              "<tr>\n",
              "  <th>Time:</th>                <td>16:11:57</td>     <th>  Log-Likelihood:    </th> <td> -423.49</td>\n",
              "</tr>\n",
              "<tr>\n",
              "  <th>converged:</th>             <td>True</td>       <th>  LL-Null:           </th> <td> -403.38</td>\n",
              "</tr>\n",
              "<tr>\n",
              "  <th>Covariance Type:</th>     <td>nonrobust</td>    <th>  LLR p-value:       </th>  <td> 1.000</td> \n",
              "</tr>\n",
              "</table>\n",
              "<table class=\"simpletable\">\n",
              "<tr>\n",
              "             <td></td>                <th>coef</th>     <th>std err</th>      <th>z</th>      <th>P>|z|</th>  <th>[0.025</th>    <th>0.975]</th>  \n",
              "</tr>\n",
              "<tr>\n",
              "  <th>SLIK_Kolektibilitas_WOE</th> <td>    1.0245</td> <td>    0.152</td> <td>    6.747</td> <td> 0.000</td> <td>    0.727</td> <td>    1.322</td>\n",
              "</tr>\n",
              "<tr>\n",
              "  <th>Usia_WOE</th>                <td>    1.0830</td> <td>    0.282</td> <td>    3.842</td> <td> 0.000</td> <td>    0.531</td> <td>    1.635</td>\n",
              "</tr>\n",
              "<tr>\n",
              "  <th>Tujuan_Pinjaman_WOE</th>     <td>    0.1176</td> <td>    0.159</td> <td>    0.740</td> <td> 0.459</td> <td>   -0.194</td> <td>    0.429</td>\n",
              "</tr>\n",
              "</table>"
            ],
            "text/plain": [
              "<class 'statsmodels.iolib.summary.Summary'>\n",
              "\"\"\"\n",
              "                           Logit Regression Results                           \n",
              "==============================================================================\n",
              "Dep. Variable:                default   No. Observations:                  663\n",
              "Model:                          Logit   Df Residuals:                      660\n",
              "Method:                           MLE   Df Model:                            2\n",
              "Date:                Mon, 29 Nov 2021   Pseudo R-squ.:                -0.04986\n",
              "Time:                        16:11:57   Log-Likelihood:                -423.49\n",
              "converged:                       True   LL-Null:                       -403.38\n",
              "Covariance Type:            nonrobust   LLR p-value:                     1.000\n",
              "===========================================================================================\n",
              "                              coef    std err          z      P>|z|      [0.025      0.975]\n",
              "-------------------------------------------------------------------------------------------\n",
              "SLIK_Kolektibilitas_WOE     1.0245      0.152      6.747      0.000       0.727       1.322\n",
              "Usia_WOE                    1.0830      0.282      3.842      0.000       0.531       1.635\n",
              "Tujuan_Pinjaman_WOE         0.1176      0.159      0.740      0.459      -0.194       0.429\n",
              "===========================================================================================\n",
              "\"\"\""
            ]
          },
          "metadata": {},
          "execution_count": 146
        }
      ]
    },
    {
      "cell_type": "code",
      "metadata": {
        "id": "znh3oQHT5iMz",
        "colab": {
          "base_uri": "https://localhost:8080/"
        },
        "outputId": "874a2500-dc7c-48e5-8aab-62d81e348f36"
      },
      "source": [
        "train_predict = lr.predict(X_train)\n",
        "test_predict = lr.predict(X_test)\n",
        "print(test_predict)\n",
        "# Cara adalah 0 jika bayar, dan 1 jika default"
      ],
      "execution_count": 147,
      "outputs": [
        {
          "output_type": "stream",
          "name": "stdout",
          "text": [
            "[0 0 0 0 0 0 0 0 0 0 0 0 0 0 0 0 0 0 0 1 0 0 0 0 0 0 0 0 0 0 0 0 1 0 0 0 1\n",
            " 0 0 0 0 0 0 0 1 0 0 0 0 0 0 0 0 0 0 0 0 0 0 1 0 0 1 0 0 0 0 1 0 0 0 0 0 0\n",
            " 0 0 0 0 0 0 0 0 0 0 0 1 0 0 0 0 0 0 0 0 0 0 0 0 0 0 0 0 0 1 0 0 0 0 1 0 0\n",
            " 0 0 0 0 0 0 0 1 0 1 1 0 0 0 0 0 0 0 0 0 0 0 0 1 0 0 0 0 0 1 0 0 0 0 0 1 0\n",
            " 0 0 0 0 0 1 0 0 0 0 0 0 0 0 0 0 0 0 0 0 0 1 0 0 0 0 0 0 0 0 0 0 1 0 0 0 0\n",
            " 0 0 0 0 0 1 0 0 0 0 0 0 0 0 0 0 0 0 0 0 0 0 0 0 0 0 0 0 0 0 0 1 0 1 0 0 0\n",
            " 0 0 0 1 0 0 0 0 0 0 0 0 0 0 0 0 0 0 0 0 0 0 0 0 0 0 0 0 0 0 0 0 0 1 0 0 0\n",
            " 0 1 0 0 0 0 0 0 0 0 0 0 0 0 0 0 0 0 0 0 0 0 0 0 0 0]\n"
          ]
        }
      ]
    },
    {
      "cell_type": "code",
      "metadata": {
        "id": "2M8VyKMB6L9O",
        "colab": {
          "base_uri": "https://localhost:8080/"
        },
        "outputId": "2147aaef-c7da-4931-8d5d-bca8df9cd481"
      },
      "source": [
        "test_pred_proba = lr.predict_proba(X_test)\n",
        "print(test_pred_proba)\n",
        "# Cara bacanya adalah 0.635 adalah probabilitas 0 dan 0.364 adaalah probabilitas 1\n",
        "# Dengan mengacu probabilitas 1 diatas 0.5 maka default / 1"
      ],
      "execution_count": 148,
      "outputs": [
        {
          "output_type": "stream",
          "name": "stdout",
          "text": [
            "[[0.62830673 0.37169327]\n",
            " [0.69445935 0.30554065]\n",
            " [0.51023145 0.48976855]\n",
            " [0.83529433 0.16470567]\n",
            " [0.52632751 0.47367249]\n",
            " [0.79069194 0.20930806]\n",
            " [0.91411933 0.08588067]\n",
            " [0.68629694 0.31370306]\n",
            " [0.76916844 0.23083156]\n",
            " [0.52632751 0.47367249]\n",
            " [0.82059841 0.17940159]\n",
            " [0.91107363 0.08892637]\n",
            " [0.7988021  0.2011979 ]\n",
            " [0.81873141 0.18126859]\n",
            " [0.71656624 0.28343376]\n",
            " [0.66500779 0.33499221]\n",
            " [0.92211552 0.07788448]\n",
            " [0.80171531 0.19828469]\n",
            " [0.78115037 0.21884963]\n",
            " [0.42490598 0.57509402]\n",
            " [0.76916844 0.23083156]\n",
            " [0.63718034 0.36281966]\n",
            " [0.60693042 0.39306958]\n",
            " [0.65097728 0.34902272]\n",
            " [0.80239561 0.19760439]\n",
            " [0.91233558 0.08766442]\n",
            " [0.86136619 0.13863381]\n",
            " [0.51023145 0.48976855]\n",
            " [0.90059991 0.09940009]\n",
            " [0.86327799 0.13672201]\n",
            " [0.76916844 0.23083156]\n",
            " [0.68629694 0.31370306]\n",
            " [0.43120641 0.56879359]\n",
            " [0.63718034 0.36281966]\n",
            " [0.85627851 0.14372149]\n",
            " [0.79668779 0.20331221]\n",
            " [0.46194959 0.53805041]\n",
            " [0.59881385 0.40118615]\n",
            " [0.65097728 0.34902272]\n",
            " [0.68629694 0.31370306]\n",
            " [0.51023145 0.48976855]\n",
            " [0.69445935 0.30554065]\n",
            " [0.70663972 0.29336028]\n",
            " [0.69445935 0.30554065]\n",
            " [0.22128027 0.77871973]\n",
            " [0.68629694 0.31370306]\n",
            " [0.66500779 0.33499221]\n",
            " [0.85627851 0.14372149]\n",
            " [0.74442097 0.25557903]\n",
            " [0.52632751 0.47367249]\n",
            " [0.52632751 0.47367249]\n",
            " [0.85151473 0.14848527]\n",
            " [0.63718034 0.36281966]\n",
            " [0.77560589 0.22439411]\n",
            " [0.71656624 0.28343376]\n",
            " [0.59881385 0.40118615]\n",
            " [0.9255488  0.0744512 ]\n",
            " [0.85627851 0.14372149]\n",
            " [0.71656624 0.28343376]\n",
            " [0.43961902 0.56038098]\n",
            " [0.90005744 0.09994256]\n",
            " [0.79627077 0.20372923]\n",
            " [0.35875657 0.64124343]\n",
            " [0.85627851 0.14372149]\n",
            " [0.83019435 0.16980565]\n",
            " [0.59881385 0.40118615]\n",
            " [0.52632751 0.47367249]\n",
            " [0.26887908 0.73112092]\n",
            " [0.80239561 0.19760439]\n",
            " [0.69445935 0.30554065]\n",
            " [0.65925064 0.34074936]\n",
            " [0.85627851 0.14372149]\n",
            " [0.83529433 0.16470567]\n",
            " [0.64462166 0.35537834]\n",
            " [0.79668779 0.20331221]\n",
            " [0.74548395 0.25451605]\n",
            " [0.85627851 0.14372149]\n",
            " [0.65097728 0.34902272]\n",
            " [0.65097728 0.34902272]\n",
            " [0.65097728 0.34902272]\n",
            " [0.74442097 0.25557903]\n",
            " [0.84569195 0.15430805]\n",
            " [0.91107363 0.08892637]\n",
            " [0.84317646 0.15682354]\n",
            " [0.93492171 0.06507829]\n",
            " [0.46194959 0.53805041]\n",
            " [0.65925064 0.34074936]\n",
            " [0.63618913 0.36381087]\n",
            " [0.52632751 0.47367249]\n",
            " [0.65097728 0.34902272]\n",
            " [0.74548395 0.25451605]\n",
            " [0.82623108 0.17376892]\n",
            " [0.82623108 0.17376892]\n",
            " [0.77455204 0.22544796]\n",
            " [0.90059991 0.09940009]\n",
            " [0.71656624 0.28343376]\n",
            " [0.52632751 0.47367249]\n",
            " [0.59035515 0.40964485]\n",
            " [0.81873141 0.18126859]\n",
            " [0.66500779 0.33499221]\n",
            " [0.76916844 0.23083156]\n",
            " [0.86888771 0.13111229]\n",
            " [0.69235899 0.30764101]\n",
            " [0.39036743 0.60963257]\n",
            " [0.85151473 0.14848527]\n",
            " [0.70329045 0.29670955]\n",
            " [0.51023145 0.48976855]\n",
            " [0.81873141 0.18126859]\n",
            " [0.45518094 0.54481906]\n",
            " [0.81587211 0.18412789]\n",
            " [0.85151473 0.14848527]\n",
            " [0.59035515 0.40964485]\n",
            " [0.65097728 0.34902272]\n",
            " [0.63569779 0.36430221]\n",
            " [0.52632751 0.47367249]\n",
            " [0.76916844 0.23083156]\n",
            " [0.70329045 0.29670955]\n",
            " [0.90005744 0.09994256]\n",
            " [0.26887908 0.73112092]\n",
            " [0.62830673 0.37169327]\n",
            " [0.36758812 0.63241188]\n",
            " [0.3660999  0.6339001 ]\n",
            " [0.65097728 0.34902272]\n",
            " [0.79627077 0.20372923]\n",
            " [0.74548395 0.25451605]\n",
            " [0.65097728 0.34902272]\n",
            " [0.68629694 0.31370306]\n",
            " [0.65097728 0.34902272]\n",
            " [0.69445935 0.30554065]\n",
            " [0.51023145 0.48976855]\n",
            " [0.57336904 0.42663096]\n",
            " [0.76916844 0.23083156]\n",
            " [0.57682682 0.42317318]\n",
            " [0.82153973 0.17846027]\n",
            " [0.46466614 0.53533386]\n",
            " [0.69445935 0.30554065]\n",
            " [0.76916844 0.23083156]\n",
            " [0.80239561 0.19760439]\n",
            " [0.88476385 0.11523615]\n",
            " [0.52632751 0.47367249]\n",
            " [0.46194959 0.53805041]\n",
            " [0.74548395 0.25451605]\n",
            " [0.73196184 0.26803816]\n",
            " [0.65097728 0.34902272]\n",
            " [0.69445935 0.30554065]\n",
            " [0.52632751 0.47367249]\n",
            " [0.49223691 0.50776309]\n",
            " [0.91662394 0.08337606]\n",
            " [0.71656624 0.28343376]\n",
            " [0.68060962 0.31939038]\n",
            " [0.76916844 0.23083156]\n",
            " [0.66500779 0.33499221]\n",
            " [0.88844511 0.11155489]\n",
            " [0.46194959 0.53805041]\n",
            " [0.63301055 0.36698945]\n",
            " [0.68629694 0.31370306]\n",
            " [0.80239561 0.19760439]\n",
            " [0.83529433 0.16470567]\n",
            " [0.90344045 0.09655955]\n",
            " [0.70329045 0.29670955]\n",
            " [0.74442097 0.25557903]\n",
            " [0.65097728 0.34902272]\n",
            " [0.77455204 0.22544796]\n",
            " [0.52445475 0.47554525]\n",
            " [0.88476385 0.11523615]\n",
            " [0.85627851 0.14372149]\n",
            " [0.71656624 0.28343376]\n",
            " [0.85627851 0.14372149]\n",
            " [0.86888771 0.13111229]\n",
            " [0.46194959 0.53805041]\n",
            " [0.5678537  0.4321463 ]\n",
            " [0.69445935 0.30554065]\n",
            " [0.68629694 0.31370306]\n",
            " [0.65097728 0.34902272]\n",
            " [0.63301055 0.36698945]\n",
            " [0.70663972 0.29336028]\n",
            " [0.66141095 0.33858905]\n",
            " [0.85151473 0.14848527]\n",
            " [0.59035515 0.40964485]\n",
            " [0.66141095 0.33858905]\n",
            " [0.4293083  0.5706917 ]\n",
            " [0.89727338 0.10272662]\n",
            " [0.82586141 0.17413859]\n",
            " [0.90059991 0.09940009]\n",
            " [0.59035515 0.40964485]\n",
            " [0.65925064 0.34074936]\n",
            " [0.65297467 0.34702533]\n",
            " [0.66500779 0.33499221]\n",
            " [0.83529433 0.16470567]\n",
            " [0.85151473 0.14848527]\n",
            " [0.2979216  0.7020784 ]\n",
            " [0.65925064 0.34074936]\n",
            " [0.61987982 0.38012018]\n",
            " [0.68629694 0.31370306]\n",
            " [0.83019435 0.16980565]\n",
            " [0.86327799 0.13672201]\n",
            " [0.63569779 0.36430221]\n",
            " [0.91107363 0.08892637]\n",
            " [0.66500779 0.33499221]\n",
            " [0.81587211 0.18412789]\n",
            " [0.86136619 0.13863381]\n",
            " [0.85151473 0.14848527]\n",
            " [0.69445935 0.30554065]\n",
            " [0.56400268 0.43599732]\n",
            " [0.63718034 0.36281966]\n",
            " [0.64462166 0.35537834]\n",
            " [0.68629694 0.31370306]\n",
            " [0.89727338 0.10272662]\n",
            " [0.7988021  0.2011979 ]\n",
            " [0.90344045 0.09655955]\n",
            " [0.52632751 0.47367249]\n",
            " [0.93492171 0.06507829]\n",
            " [0.81873141 0.18126859]\n",
            " [0.65097728 0.34902272]\n",
            " [0.66141095 0.33858905]\n",
            " [0.65097728 0.34902272]\n",
            " [0.26887908 0.73112092]\n",
            " [0.91662394 0.08337606]\n",
            " [0.46194959 0.53805041]\n",
            " [0.71656624 0.28343376]\n",
            " [0.80171531 0.19828469]\n",
            " [0.51023145 0.48976855]\n",
            " [0.52632751 0.47367249]\n",
            " [0.66141095 0.33858905]\n",
            " [0.67225184 0.32774816]\n",
            " [0.41997863 0.58002137]\n",
            " [0.85151473 0.14848527]\n",
            " [0.52632751 0.47367249]\n",
            " [0.85151473 0.14848527]\n",
            " [0.71656624 0.28343376]\n",
            " [0.77560589 0.22439411]\n",
            " [0.57232051 0.42767949]\n",
            " [0.69445935 0.30554065]\n",
            " [0.65097728 0.34902272]\n",
            " [0.68629694 0.31370306]\n",
            " [0.85151473 0.14848527]\n",
            " [0.79668779 0.20331221]\n",
            " [0.52632751 0.47367249]\n",
            " [0.68629694 0.31370306]\n",
            " [0.93492171 0.06507829]\n",
            " [0.63618913 0.36381087]\n",
            " [0.63569779 0.36430221]\n",
            " [0.66141095 0.33858905]\n",
            " [0.65097728 0.34902272]\n",
            " [0.89727338 0.10272662]\n",
            " [0.82091063 0.17908937]\n",
            " [0.66500779 0.33499221]\n",
            " [0.93492171 0.06507829]\n",
            " [0.65097728 0.34902272]\n",
            " [0.52632751 0.47367249]\n",
            " [0.65097728 0.34902272]\n",
            " [0.79069194 0.20930806]\n",
            " [0.84317646 0.15682354]\n",
            " [0.52632751 0.47367249]\n",
            " [0.52632751 0.47367249]\n",
            " [0.2979216  0.7020784 ]\n",
            " [0.65925064 0.34074936]\n",
            " [0.79069194 0.20930806]\n",
            " [0.63718034 0.36281966]\n",
            " [0.82059841 0.17940159]\n",
            " [0.46194959 0.53805041]\n",
            " [0.52632751 0.47367249]\n",
            " [0.74442097 0.25557903]\n",
            " [0.65097728 0.34902272]\n",
            " [0.78115037 0.21884963]\n",
            " [0.51023145 0.48976855]\n",
            " [0.80239561 0.19760439]\n",
            " [0.85627851 0.14372149]\n",
            " [0.74442097 0.25557903]\n",
            " [0.55995995 0.44004005]\n",
            " [0.91662394 0.08337606]\n",
            " [0.80239561 0.19760439]\n",
            " [0.65097728 0.34902272]\n",
            " [0.65925064 0.34074936]\n",
            " [0.66141095 0.33858905]\n",
            " [0.68629694 0.31370306]\n",
            " [0.70329045 0.29670955]\n",
            " [0.90059991 0.09940009]\n",
            " [0.63301055 0.36698945]\n",
            " [0.69445935 0.30554065]\n",
            " [0.52445475 0.47554525]\n",
            " [0.71656624 0.28343376]\n",
            " [0.78115037 0.21884963]\n",
            " [0.52632751 0.47367249]\n",
            " [0.9255488  0.0744512 ]]\n"
          ]
        }
      ]
    },
    {
      "cell_type": "code",
      "metadata": {
        "id": "Hl8xWP_u7BET",
        "colab": {
          "base_uri": "https://localhost:8080/"
        },
        "outputId": "dcb15957-0738-4d22-b838-874d047d6ab8"
      },
      "source": [
        "# Bagaimana cara tahu bahwa model itu bagus atau tidak?\n",
        "# Pembahasan di bagian evaluasi model\n",
        "# koding nya adalah\n",
        "from sklearn.metrics import classification_report\n",
        "from sklearn.metrics import confusion_matrix\n",
        "# Obtain the results from the classification report and confusion matrix \n",
        "print('Classifcation report:\\n', classification_report(y_test, test_predict))\n",
        "conf_mat = confusion_matrix(y_true=y_test, y_pred=test_predict)\n",
        "print('Confusion matrix:\\n', conf_mat)\n",
        "\n",
        "# Print ROC_AUC score using probabilities\n",
        "from sklearn.metrics import r2_score, classification_report, confusion_matrix, accuracy_score, roc_auc_score, roc_curve, precision_recall_curve, average_precision_score\n",
        "print('ROC Score:', roc_auc_score(y_test, test_pred_proba[:, 1]))"
      ],
      "execution_count": 149,
      "outputs": [
        {
          "output_type": "stream",
          "name": "stdout",
          "text": [
            "Classifcation report:\n",
            "               precision    recall  f1-score   support\n",
            "\n",
            "           0       0.74      0.94      0.83       204\n",
            "           1       0.52      0.16      0.25        81\n",
            "\n",
            "    accuracy                           0.72       285\n",
            "   macro avg       0.63      0.55      0.54       285\n",
            "weighted avg       0.68      0.72      0.66       285\n",
            "\n",
            "Confusion matrix:\n",
            " [[192  12]\n",
            " [ 68  13]]\n",
            "ROC Score: 0.6649721617041879\n"
          ]
        }
      ]
    },
    {
      "cell_type": "markdown",
      "metadata": {
        "id": "QMUBI-kGx7lu"
      },
      "source": [
        "## Modeling logistic regression dengan Stepwise"
      ]
    },
    {
      "cell_type": "code",
      "metadata": {
        "id": "fDy2hUKGyBLI",
        "colab": {
          "base_uri": "https://localhost:8080/"
        },
        "outputId": "039a155c-747f-4e66-e6c3-89b4a4bf6aa2"
      },
      "source": [
        "# Membuat scorecard dengan menggunakan algoritma logistic regression\n",
        "from sklearn.linear_model import LogisticRegression\n",
        "from sklearn.feature_selection import SequentialFeatureSelector\n",
        "\n",
        "lr = LogisticRegression()\n",
        "lr.fit(X_train, y_train)\n",
        "\n",
        "feature_names = np.array(X.columns)\n",
        "\n",
        "sfs_backward = SequentialFeatureSelector(\n",
        "    lr, n_features_to_select=None, direction=\"backward\"\n",
        ").fit(X_train, y_train)\n",
        "\n",
        "print(\n",
        "    'Variabel signifikan stepwise backward: ', feature_names[sfs_backward.get_support()]\n",
        ")\n",
        "\n",
        "sfs_forward = SequentialFeatureSelector(\n",
        "    lr, n_features_to_select=None, direction=\"forward\"\n",
        ").fit(X_train, y_train)\n",
        "\n",
        "print(\n",
        "    'Variabel signifikan stepwise forward: ', feature_names[sfs_forward.get_support()]\n",
        ")"
      ],
      "execution_count": 150,
      "outputs": [
        {
          "output_type": "stream",
          "name": "stdout",
          "text": [
            "Variabel signifikan stepwise backward:  ['SLIK_Kolektibilitas_WOE']\n",
            "Variabel signifikan stepwise forward:  ['SLIK_Kolektibilitas_WOE']\n"
          ]
        }
      ]
    },
    {
      "cell_type": "code",
      "metadata": {
        "id": "RhkwYEXo4bjS",
        "colab": {
          "base_uri": "https://localhost:8080/"
        },
        "outputId": "f4c59b40-5d99-4aef-bc05-77472af15fda"
      },
      "source": [
        "# Testing hasil stepwise\n",
        "\n",
        "df_step = df_clean[['SLIK_Kolektibilitas_WOE','default']]\n",
        "\n",
        "# Membagi dataset menjadi development(train) dan test\n",
        "\n",
        "y_step = df_step.loc[:,'default']\n",
        "X_step = df_step.loc[:,df_step.columns != 'default']\n",
        "\n",
        "from sklearn.model_selection import train_test_split\n",
        "X_train_step, X_test_step, y_train_step, y_test_step = train_test_split(X_step, y_step, test_size=0.30, random_state=42)\n",
        "\n",
        "lr_step = LogisticRegression()\n",
        "lr_step.fit(X_train_step, y_train_step)\n",
        "\n",
        "test_predict_step = lr_step.predict(X_test_step)\n",
        "test_pred_proba_step = lr_step.predict_proba(X_test_step)\n",
        "\n",
        "# Bagaimana cara tahu bahwa model itu bagus atau tidak?\n",
        "# Pembahasan di bagian evaluasi model\n",
        "# koding nya adalah\n",
        "from sklearn.metrics import classification_report\n",
        "from sklearn.metrics import confusion_matrix\n",
        "# Obtain the results from the classification report and confusion matrix \n",
        "print('Classifcation report:\\n', classification_report(y_test_step, test_predict_step))\n",
        "conf_mat = confusion_matrix(y_true=y_test_step, y_pred=test_predict_step)\n",
        "print('Confusion matrix:\\n', conf_mat)\n",
        "\n",
        "# Print ROC_AUC score using probabilities\n",
        "from sklearn.metrics import r2_score, classification_report, confusion_matrix, accuracy_score, roc_auc_score, roc_curve, precision_recall_curve, average_precision_score\n",
        "print('ROC Score:', roc_auc_score(y_test_step, test_pred_proba_step[:, 1]))"
      ],
      "execution_count": 151,
      "outputs": [
        {
          "output_type": "stream",
          "name": "stdout",
          "text": [
            "Classifcation report:\n",
            "               precision    recall  f1-score   support\n",
            "\n",
            "           0       0.75      0.92      0.82       204\n",
            "           1       0.51      0.22      0.31        81\n",
            "\n",
            "    accuracy                           0.72       285\n",
            "   macro avg       0.63      0.57      0.57       285\n",
            "weighted avg       0.68      0.72      0.68       285\n",
            "\n",
            "Confusion matrix:\n",
            " [[187  17]\n",
            " [ 63  18]]\n",
            "ROC Score: 0.6266037279109173\n"
          ]
        }
      ]
    },
    {
      "cell_type": "markdown",
      "metadata": {
        "id": "z3p1c7BC-na0"
      },
      "source": [
        "## Membuat Scoring dari probabilitas"
      ]
    },
    {
      "cell_type": "code",
      "metadata": {
        "id": "Q-zRnxfztHXQ"
      },
      "source": [
        "# Membuat scoring\n",
        "P0 = 600 # Target Score\n",
        "PDO = 50 # Target Odds\n",
        "theta0 = 1.0/20 # Points double odds\n",
        "B = PDO/np.log(2)\n",
        "A = P0 + B * np.log(theta0)"
      ],
      "execution_count": 152,
      "outputs": []
    },
    {
      "cell_type": "code",
      "metadata": {
        "id": "D24tHBUgzqpb"
      },
      "source": [
        "train_pred_proba = lr.predict_proba(X_train)[:,1]\n",
        "train_log_pred = lr.predict_log_proba(X_train)[:,1]\n",
        "\n",
        "score = A - B*np.log(train_pred_proba/(1-train_pred_proba))\n",
        "score_from_log = (P0 - B * np.log(theta0)) - B * train_log_pred\n",
        "\n",
        "df_train_pred_proba = pd.DataFrame(train_pred_proba, columns=['train_pred_proba'])\n",
        "df_train_log_pred = pd.DataFrame(train_log_pred, columns=['Logit_Result'])\n",
        "\n",
        "df_train_score = pd.DataFrame(score, columns=['Score'])\n",
        "df_train_log_score = pd.DataFrame(score_from_log, columns=['Score_from_log'])\n",
        "\n",
        "# Menggabungkan dataset variabel kategori dari one hot encoding dengan variabel numerik\n",
        "df_model_result = pd.concat([df_train, df_train_pred_proba, df_train_log_pred, df_train_score, df_train_log_score], axis = 1)"
      ],
      "execution_count": 153,
      "outputs": []
    },
    {
      "cell_type": "code",
      "metadata": {
        "id": "i4ORyQnY17cV",
        "colab": {
          "base_uri": "https://localhost:8080/",
          "height": 17
        },
        "outputId": "48ac8536-0614-408d-adcf-4fde4db118cf"
      },
      "source": [
        "# Untuk memudahkan membaca hasil, maka disimpan dalam bentuk csv dan didownload\n",
        "from google.colab import files\n",
        "df_model_result.to_csv('df_model_result.csv') \n",
        "files.download('df_model_result.csv')"
      ],
      "execution_count": 154,
      "outputs": [
        {
          "output_type": "display_data",
          "data": {
            "application/javascript": [
              "\n",
              "    async function download(id, filename, size) {\n",
              "      if (!google.colab.kernel.accessAllowed) {\n",
              "        return;\n",
              "      }\n",
              "      const div = document.createElement('div');\n",
              "      const label = document.createElement('label');\n",
              "      label.textContent = `Downloading \"${filename}\": `;\n",
              "      div.appendChild(label);\n",
              "      const progress = document.createElement('progress');\n",
              "      progress.max = size;\n",
              "      div.appendChild(progress);\n",
              "      document.body.appendChild(div);\n",
              "\n",
              "      const buffers = [];\n",
              "      let downloaded = 0;\n",
              "\n",
              "      const channel = await google.colab.kernel.comms.open(id);\n",
              "      // Send a message to notify the kernel that we're ready.\n",
              "      channel.send({})\n",
              "\n",
              "      for await (const message of channel.messages) {\n",
              "        // Send a message to notify the kernel that we're ready.\n",
              "        channel.send({})\n",
              "        if (message.buffers) {\n",
              "          for (const buffer of message.buffers) {\n",
              "            buffers.push(buffer);\n",
              "            downloaded += buffer.byteLength;\n",
              "            progress.value = downloaded;\n",
              "          }\n",
              "        }\n",
              "      }\n",
              "      const blob = new Blob(buffers, {type: 'application/binary'});\n",
              "      const a = document.createElement('a');\n",
              "      a.href = window.URL.createObjectURL(blob);\n",
              "      a.download = filename;\n",
              "      div.appendChild(a);\n",
              "      a.click();\n",
              "      div.remove();\n",
              "    }\n",
              "  "
            ],
            "text/plain": [
              "<IPython.core.display.Javascript object>"
            ]
          },
          "metadata": {}
        },
        {
          "output_type": "display_data",
          "data": {
            "application/javascript": [
              "download(\"download_708a00ad-6f47-4d06-b90b-8449144801de\", \"df_model_result.csv\", 68144)"
            ],
            "text/plain": [
              "<IPython.core.display.Javascript object>"
            ]
          },
          "metadata": {}
        }
      ]
    },
    {
      "cell_type": "markdown",
      "metadata": {
        "id": "HsKrF9jIBQFF"
      },
      "source": [
        "# Contoh Perhitungan Scorecard secara Manual\n"
      ]
    },
    {
      "cell_type": "code",
      "metadata": {
        "id": "jvnhDQRyUKUi"
      },
      "source": [
        "# Persiapan membuat model\n",
        "# Memilih variabel yang akan diinput ke dalam model\n",
        "\n",
        "df_simple_WOE = df_clean[['default','SLIK_Kolektibilitas_WOE','DBR_WOE']]\n",
        "df_simple_Bin = df_clean[['default','SLIK_Kolektibilitas_Bin','DBR_Bin']]\n",
        "df_simple = df_clean[['default','SLIK_Kolektibilitas','DBR']]"
      ],
      "execution_count": null,
      "outputs": []
    },
    {
      "cell_type": "code",
      "metadata": {
        "id": "lEIDygQGUioA"
      },
      "source": [
        "# Membagi dataset menjadi development(train) dan test\n",
        "\n",
        "y = df_simple_WOE.loc[:,'default']\n",
        "X = df_simple_WOE.loc[:,df_simple_WOE.columns != 'default']\n",
        "\n",
        "from sklearn.model_selection import train_test_split\n",
        "X_train, X_test, y_train, y_test = train_test_split(X, y, test_size=0.30, random_state=42)\n",
        "\n",
        "# Dalam bentuk dataframe lengkap\n",
        "df_train = pd.concat([X_train, y_train], axis = 1)\n",
        "df_test = pd.concat([X_test, y_test], axis = 1)\n",
        "\n",
        "# Menghapus indeks dari data yang telah dibuang\n",
        "df_train = df_train.reset_index(drop=True)\n",
        "df_test = df_test.reset_index(drop=True)"
      ],
      "execution_count": null,
      "outputs": []
    },
    {
      "cell_type": "code",
      "metadata": {
        "id": "dMZ2oOT5Unpr"
      },
      "source": [
        "# Membuat scorecard dengan menggunakan algoritma logistic regression\n",
        "from sklearn.linear_model import LogisticRegression\n",
        "lr = LogisticRegression()\n",
        "lr.fit(X_train, y_train)\n",
        "\n",
        "print(lr.coef_)\n",
        "\n",
        "# For those that want to know the statistic modeling\n",
        "import numpy as np\n",
        "import statsmodels.api as sm\n",
        "\n",
        "model = sm.Logit(y_train, X_train)\n",
        "result = model.fit()\n",
        "\n",
        "result.summary()"
      ],
      "execution_count": null,
      "outputs": []
    },
    {
      "cell_type": "code",
      "metadata": {
        "id": "3OqkxsyaUtNd"
      },
      "source": [
        "train_predict = lr.predict(X_train)\n",
        "test_predict = lr.predict(X_test)\n",
        "\n",
        "test_pred_proba = lr.predict_proba(X_test)"
      ],
      "execution_count": null,
      "outputs": []
    },
    {
      "cell_type": "code",
      "metadata": {
        "id": "F3QtDJQSUz23"
      },
      "source": [
        "# Membuat scoring\n",
        "P0 = 600 # Target Score\n",
        "PDO = 50 # Target Odds\n",
        "theta0 = 1.0/20 # Points double odds\n",
        "B = PDO/np.log(2)\n",
        "A = P0 + B * np.log(theta0)\n",
        "\n",
        "train_pred_proba = lr.predict_proba(X_train)[:,1]\n",
        "train_log_pred = lr.predict_log_proba(X_train)[:,1]\n",
        "\n",
        "score = A - B*np.log(train_pred_proba/(1-train_pred_proba))\n",
        "score_from_log = (P0 - B * np.log(theta0)) - B * train_log_pred\n",
        "\n",
        "df_train_pred_proba = pd.DataFrame(train_pred_proba, columns=['train_pred_proba'])\n",
        "df_train_log_pred = pd.DataFrame(train_log_pred, columns=['Logit_Result'])\n",
        "\n",
        "df_train_score = pd.DataFrame(score, columns=['Score'])\n",
        "df_train_log_score = pd.DataFrame(score_from_log, columns=['Score_from_log'])\n",
        "\n",
        "# Menggabungkan dataset variabel kategori dari one hot encoding dengan variabel numerik\n",
        "df_model_result = pd.concat([df_train, df_train_pred_proba, df_train_log_pred, df_train_score, df_train_log_score], axis = 1)\n",
        "\n",
        "# Untuk memudahkan membaca hasil, maka disimpan dalam bentuk csv dan didownload\n",
        "from google.colab import files\n",
        "df_model_result.to_csv('df_model_result.csv') \n",
        "files.download('df_model_result.csv')"
      ],
      "execution_count": null,
      "outputs": []
    },
    {
      "cell_type": "code",
      "metadata": {
        "id": "v_WsAr5XVGZh"
      },
      "source": [
        "y = df_simple_Bin.loc[:,'default']\n",
        "X = df_simple_Bin.loc[:,df_simple_Bin.columns != 'default']\n",
        "\n",
        "from sklearn.model_selection import train_test_split\n",
        "X_train, X_test, y_train, y_test = train_test_split(X, y, test_size=0.30, random_state=42)\n",
        "\n",
        "# Dalam bentuk dataframe lengkap\n",
        "df_train = pd.concat([X_train, y_train], axis = 1)\n",
        "df_test = pd.concat([X_test, y_test], axis = 1)\n",
        "\n",
        "# Menghapus indeks dari data yang telah dibuang\n",
        "df_train = df_train.reset_index(drop=True)\n",
        "df_test = df_test.reset_index(drop=True)\n",
        "\n",
        "# Credit Scoring using logistic regression with library scorecardpy\n",
        "import scorecardpy as scpy\n",
        "\n",
        "# Melakukan WOE binning\n",
        "bins = scpy.woebin(df_train, y = 'default')\n",
        "\n",
        "# Melakukan WOE binning dengan adjustment\n",
        "breaks_adj = {\n",
        "    'SLIK_Kolektibilitas_Bin': ['Kolek 1','Kolek 2&3','Kolek 4&5','Kolek Tidak_Ditemukan'],\n",
        "    'DBR_Bin': [\"1.0%\", \"2.0-10%\",\"3.10-20%\",\"4.20-30%\",\"5.30-40%\",\"6.40-50%\",\"7.50-60%\",\"8.>60%\"]\n",
        "}\n",
        "bins_adj = scpy.woebin(df_train, y=\"default\", breaks_list=breaks_adj)\n",
        "\n",
        "train = df_train\n",
        "test = df_test\n",
        "\n",
        "# converting train and test into woe values\n",
        "train_woe = scpy.woebin_ply(train, bins_adj)\n",
        "test_woe = scpy.woebin_ply(test, bins_adj)\n",
        "\n",
        "\n",
        "y_train = train_woe.loc[:,'default']\n",
        "X_train = train_woe.loc[:,train_woe.columns != 'default']\n",
        "y_test = test_woe.loc[:,'default']\n",
        "X_test = test_woe.loc[:,train_woe.columns != 'default']\n",
        "\n",
        "# Membuat scorecard dengan menggunakan algoritma logistic regression\n",
        "from sklearn.linear_model import LogisticRegression\n",
        "lr = LogisticRegression(fit_intercept = True)\n",
        "lr.fit(X_train, y_train)\n",
        "\n",
        "print(lr.coef_)\n",
        "print(lr.get_params(deep=True))\n",
        "\n",
        "# predicted probability\n",
        "# predicted proability\n",
        "train_pred = lr.predict_proba(X_train)[:,1]\n",
        "test_pred = lr.predict_proba(X_test)[:,1]\n",
        "\n",
        "# performance ks & roc ------\n",
        "train_perf = scpy.perf_eva(y_train, train_pred, title = \"train\")\n",
        "test_perf = scpy.perf_eva(y_test, test_pred, title = \"test\")\n",
        "\n",
        "# score ------\n",
        "card = scpy.scorecard(bins_adj, lr, X_train.columns, points0=600, odds0=1/20, pdo=50, basepoints_eq0=False)\n",
        "print(card)\n",
        "\n",
        "# credit score\n",
        "train_score = scpy.scorecard_ply(train, card, print_step=0)\n",
        "test_score = scpy.scorecard_ply(test, card, print_step=0)\n",
        "\n",
        "# psi\n",
        "scpy.perf_psi(\n",
        "  score = {'train':train_score, 'test':test_score},\n",
        "  label = {'train':y_train, 'test':y_test}\n",
        ")\n",
        "\n",
        "# Dalam bentuk dataframe lengkap\n",
        "df_train_woe = pd.concat([train, train_woe, train_score], axis = 1)\n",
        "# Untuk memudahkan membaca hasil, maka disimpan dalam bentuk csv dan didownload\n",
        "from google.colab import files\n",
        "df_train_woe.to_csv('df_train_woe.csv') \n",
        "files.download('df_train_woe.csv')"
      ],
      "execution_count": null,
      "outputs": []
    }
  ]
}