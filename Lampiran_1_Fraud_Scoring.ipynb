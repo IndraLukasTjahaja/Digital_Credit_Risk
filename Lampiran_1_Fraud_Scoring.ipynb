{
  "nbformat": 4,
  "nbformat_minor": 0,
  "metadata": {
    "colab": {
      "name": "Lampiran 1 - Fraud Scoring.ipynb",
      "provenance": [],
      "authorship_tag": "ABX9TyPFT+Skb+xXl6OHKEt+8q9r",
      "include_colab_link": true
    },
    "kernelspec": {
      "name": "python3",
      "display_name": "Python 3"
    },
    "language_info": {
      "name": "python"
    }
  },
  "cells": [
    {
      "cell_type": "markdown",
      "metadata": {
        "id": "view-in-github",
        "colab_type": "text"
      },
      "source": [
        "<a href=\"https://colab.research.google.com/github/IndraLukasTjahaja/Digital_Credit_Risk/blob/main/Lampiran_1_Fraud_Scoring.ipynb\" target=\"_parent\"><img src=\"https://colab.research.google.com/assets/colab-badge.svg\" alt=\"Open In Colab\"/></a>"
      ]
    },
    {
      "cell_type": "code",
      "metadata": {
        "id": "vf3wVMrRLMbK"
      },
      "source": [
        "# Lampiran 1 - Fraud Scoring"
      ],
      "execution_count": 1,
      "outputs": []
    },
    {
      "cell_type": "code",
      "metadata": {
        "id": "hKUsyWpZL7b-"
      },
      "source": [
        "# L1.1 Impor data di Python\n",
        "\n",
        "# library panda untuk menggunakan data frame\n",
        "import pandas as pd\n",
        "\n",
        "# Impor data dari excel xls ke Python\n",
        "# Pembaca dapat langsung menunjuk kepada file excel yang terletak di website pendamping buku ini\n",
        "# atau mengunduh terlebih dahulu dan menunjuk ke file excel di lokasi hard drive\n",
        "# contoh: df = pd.read_excel('C:\\User\\pembaca\\downloads\\Credit_Scoring_Dataset.xlsx')\n",
        "\n",
        "df = pd.read_excel('https://github.com/IndraLukasTjahaja/Digital_Credit_Risk/raw/main/Fraud_Scoring_Dataset.xlsx')"
      ],
      "execution_count": 2,
      "outputs": []
    },
    {
      "cell_type": "code",
      "metadata": {
        "id": "-Ru-1LDrMbaj",
        "colab": {
          "base_uri": "https://localhost:8080/",
          "height": 532
        },
        "outputId": "062b3de5-6f8e-4a48-f1a1-db935fa02830"
      },
      "source": [
        "# L1.2 Struktur data\n",
        "\n",
        "# Melihat sample dari dataset\n",
        "df.head(10) # Menampilkan 10 baris teratas dari dataframe df"
      ],
      "execution_count": 3,
      "outputs": [
        {
          "output_type": "execute_result",
          "data": {
            "text/html": [
              "<div>\n",
              "<style scoped>\n",
              "    .dataframe tbody tr th:only-of-type {\n",
              "        vertical-align: middle;\n",
              "    }\n",
              "\n",
              "    .dataframe tbody tr th {\n",
              "        vertical-align: top;\n",
              "    }\n",
              "\n",
              "    .dataframe thead th {\n",
              "        text-align: right;\n",
              "    }\n",
              "</style>\n",
              "<table border=\"1\" class=\"dataframe\">\n",
              "  <thead>\n",
              "    <tr style=\"text-align: right;\">\n",
              "      <th></th>\n",
              "      <th>ID</th>\n",
              "      <th>Fraud</th>\n",
              "      <th>API_Fraud_Vendor_D</th>\n",
              "      <th>API_Fraud_Vendor_C</th>\n",
              "      <th>Application_Duration</th>\n",
              "      <th>Device_Type</th>\n",
              "      <th>Device_Apps_Installed</th>\n",
              "      <th>Device_Active_Since</th>\n",
              "      <th>Mobile_Provider</th>\n",
              "      <th>Mobile_Number_Active_Since</th>\n",
              "      <th>Email_Domain_Type</th>\n",
              "      <th>GPS_di_rumah_kantor</th>\n",
              "    </tr>\n",
              "  </thead>\n",
              "  <tbody>\n",
              "    <tr>\n",
              "      <th>0</th>\n",
              "      <td>DEF0001</td>\n",
              "      <td>0</td>\n",
              "      <td>102</td>\n",
              "      <td>384</td>\n",
              "      <td>4.10-20 menit</td>\n",
              "      <td>Android</td>\n",
              "      <td>6</td>\n",
              "      <td>2_1_ke_3_tahun</td>\n",
              "      <td>Telco_A</td>\n",
              "      <td>1_Kurang_1_bulan</td>\n",
              "      <td>Public_Domain: Common</td>\n",
              "      <td>1</td>\n",
              "    </tr>\n",
              "    <tr>\n",
              "      <th>1</th>\n",
              "      <td>DEF0002</td>\n",
              "      <td>0</td>\n",
              "      <td>84</td>\n",
              "      <td>172</td>\n",
              "      <td>3.5-10 menit</td>\n",
              "      <td>IOS</td>\n",
              "      <td>9</td>\n",
              "      <td>3_Lebih_3_tahun</td>\n",
              "      <td>Telco_A</td>\n",
              "      <td>1_Kurang_1_bulan</td>\n",
              "      <td>Public_Domain: Common</td>\n",
              "      <td>1</td>\n",
              "    </tr>\n",
              "    <tr>\n",
              "      <th>2</th>\n",
              "      <td>DEF0003</td>\n",
              "      <td>0</td>\n",
              "      <td>286</td>\n",
              "      <td>194</td>\n",
              "      <td>5.20 menit lebih</td>\n",
              "      <td>Android</td>\n",
              "      <td>36</td>\n",
              "      <td>3_Lebih_3_tahun</td>\n",
              "      <td>Telco_A</td>\n",
              "      <td>2_Kurang_1_tahun</td>\n",
              "      <td>Public_Domain: Common</td>\n",
              "      <td>1</td>\n",
              "    </tr>\n",
              "    <tr>\n",
              "      <th>3</th>\n",
              "      <td>DEF0004</td>\n",
              "      <td>0</td>\n",
              "      <td>36</td>\n",
              "      <td>318</td>\n",
              "      <td>3.5-10 menit</td>\n",
              "      <td>Android</td>\n",
              "      <td>14</td>\n",
              "      <td>3_Lebih_3_tahun</td>\n",
              "      <td>Telco_E</td>\n",
              "      <td>4_2_ke_5_tahun</td>\n",
              "      <td>Professional_Domain</td>\n",
              "      <td>1</td>\n",
              "    </tr>\n",
              "    <tr>\n",
              "      <th>4</th>\n",
              "      <td>DEF0005</td>\n",
              "      <td>0</td>\n",
              "      <td>162</td>\n",
              "      <td>126</td>\n",
              "      <td>2.3-5 menit</td>\n",
              "      <td>Android</td>\n",
              "      <td>10</td>\n",
              "      <td>3_Lebih_3_tahun</td>\n",
              "      <td>Telco_D</td>\n",
              "      <td>1_Kurang_1_bulan</td>\n",
              "      <td>Public_Domain: Common</td>\n",
              "      <td>1</td>\n",
              "    </tr>\n",
              "    <tr>\n",
              "      <th>5</th>\n",
              "      <td>DEF0006</td>\n",
              "      <td>0</td>\n",
              "      <td>198</td>\n",
              "      <td>400</td>\n",
              "      <td>2.3-5 menit</td>\n",
              "      <td>Android</td>\n",
              "      <td>5</td>\n",
              "      <td>3_Lebih_3_tahun</td>\n",
              "      <td>Telco_A</td>\n",
              "      <td>2_Kurang_1_tahun</td>\n",
              "      <td>Public_Domain: Common</td>\n",
              "      <td>1</td>\n",
              "    </tr>\n",
              "    <tr>\n",
              "      <th>6</th>\n",
              "      <td>DEF0007</td>\n",
              "      <td>0</td>\n",
              "      <td>111</td>\n",
              "      <td>344</td>\n",
              "      <td>4.10-20 menit</td>\n",
              "      <td>Android</td>\n",
              "      <td>37</td>\n",
              "      <td>3_Lebih_3_tahun</td>\n",
              "      <td>Telco_C</td>\n",
              "      <td>5_Lebih_5_tahun</td>\n",
              "      <td>Public_Domain: Common</td>\n",
              "      <td>0</td>\n",
              "    </tr>\n",
              "    <tr>\n",
              "      <th>7</th>\n",
              "      <td>DEF0008</td>\n",
              "      <td>0</td>\n",
              "      <td>36</td>\n",
              "      <td>372</td>\n",
              "      <td>4.10-20 menit</td>\n",
              "      <td>Android</td>\n",
              "      <td>35</td>\n",
              "      <td>3_Lebih_3_tahun</td>\n",
              "      <td>Telco_E</td>\n",
              "      <td>5_Lebih_5_tahun</td>\n",
              "      <td>Public_Domain: Common</td>\n",
              "      <td>1</td>\n",
              "    </tr>\n",
              "    <tr>\n",
              "      <th>8</th>\n",
              "      <td>DEF0009</td>\n",
              "      <td>0</td>\n",
              "      <td>15</td>\n",
              "      <td>470</td>\n",
              "      <td>2.3-5 menit</td>\n",
              "      <td>IOS</td>\n",
              "      <td>17</td>\n",
              "      <td>2_1_ke_3_tahun</td>\n",
              "      <td>Telco_A</td>\n",
              "      <td>3_1_ke_2_tahun</td>\n",
              "      <td>Public_Domain: Common</td>\n",
              "      <td>1</td>\n",
              "    </tr>\n",
              "    <tr>\n",
              "      <th>9</th>\n",
              "      <td>DEF0010</td>\n",
              "      <td>0</td>\n",
              "      <td>85</td>\n",
              "      <td>570</td>\n",
              "      <td>4.10-20 menit</td>\n",
              "      <td>Android</td>\n",
              "      <td>17</td>\n",
              "      <td>2_1_ke_3_tahun</td>\n",
              "      <td>Telco_C</td>\n",
              "      <td>4_2_ke_5_tahun</td>\n",
              "      <td>Public_Domain: Common</td>\n",
              "      <td>0</td>\n",
              "    </tr>\n",
              "  </tbody>\n",
              "</table>\n",
              "</div>"
            ],
            "text/plain": [
              "        ID  Fraud  ...      Email_Domain_Type  GPS_di_rumah_kantor\n",
              "0  DEF0001      0  ...  Public_Domain: Common                    1\n",
              "1  DEF0002      0  ...  Public_Domain: Common                    1\n",
              "2  DEF0003      0  ...  Public_Domain: Common                    1\n",
              "3  DEF0004      0  ...    Professional_Domain                    1\n",
              "4  DEF0005      0  ...  Public_Domain: Common                    1\n",
              "5  DEF0006      0  ...  Public_Domain: Common                    1\n",
              "6  DEF0007      0  ...  Public_Domain: Common                    0\n",
              "7  DEF0008      0  ...  Public_Domain: Common                    1\n",
              "8  DEF0009      0  ...  Public_Domain: Common                    1\n",
              "9  DEF0010      0  ...  Public_Domain: Common                    0\n",
              "\n",
              "[10 rows x 12 columns]"
            ]
          },
          "metadata": {},
          "execution_count": 3
        }
      ]
    },
    {
      "cell_type": "code",
      "metadata": {
        "id": "-TDI-MEGPG9E",
        "colab": {
          "base_uri": "https://localhost:8080/"
        },
        "outputId": "e87dd26d-5645-4e28-a2c3-39167509d7ad"
      },
      "source": [
        "# Melihat penjelasan singkat dan tipe data\n",
        "df.info()"
      ],
      "execution_count": 4,
      "outputs": [
        {
          "output_type": "stream",
          "name": "stdout",
          "text": [
            "<class 'pandas.core.frame.DataFrame'>\n",
            "RangeIndex: 1000 entries, 0 to 999\n",
            "Data columns (total 12 columns):\n",
            " #   Column                      Non-Null Count  Dtype \n",
            "---  ------                      --------------  ----- \n",
            " 0   ID                          1000 non-null   object\n",
            " 1   Fraud                       1000 non-null   int64 \n",
            " 2   API_Fraud_Vendor_D          1000 non-null   int64 \n",
            " 3   API_Fraud_Vendor_C          1000 non-null   int64 \n",
            " 4   Application_Duration        1000 non-null   object\n",
            " 5   Device_Type                 1000 non-null   object\n",
            " 6   Device_Apps_Installed       1000 non-null   int64 \n",
            " 7   Device_Active_Since         1000 non-null   object\n",
            " 8   Mobile_Provider             1000 non-null   object\n",
            " 9   Mobile_Number_Active_Since  1000 non-null   object\n",
            " 10  Email_Domain_Type           1000 non-null   object\n",
            " 11  GPS_di_rumah_kantor         1000 non-null   int64 \n",
            "dtypes: int64(5), object(7)\n",
            "memory usage: 93.9+ KB\n"
          ]
        }
      ]
    },
    {
      "cell_type": "code",
      "metadata": {
        "id": "o9hf9ppSW1gW"
      },
      "source": [
        "# L1.3 Tipe data\n",
        "\n",
        "# Merubah tipe data menjadi tipe karakter kategori\n",
        "df['ID'] = df.ID.astype('category')\n",
        "df['Device_Type'] = df.Device_Type.astype('category')\n",
        "df['Application_Duration'] = df.Application_Duration.astype('category')\n",
        "df['Device_Active_Since'] = df.Device_Active_Since.astype('category')\n",
        "df['Mobile_Provider'] = df.Mobile_Provider.astype('category')\n",
        "df['Mobile_Number_Active_Since'] = df.Mobile_Number_Active_Since.astype('category')\n",
        "df['Email_Domain_Type'] = df.Email_Domain_Type.astype('category')\n",
        "df['GPS_di_rumah_kantor'] = df.GPS_di_rumah_kantor.astype('category')\n",
        "\n",
        "# Merubah tipe data menjadi tipe karakter int64\n",
        "# Gunakan integer untuk angka bulat\n",
        "df['API_Fraud_Vendor_D'] = df.API_Fraud_Vendor_D.astype('int64')\n",
        "df['API_Fraud_Vendor_C'] = df.API_Fraud_Vendor_C.astype('int64')\n",
        "df['GPS_di_rumah_kantor'] = df.GPS_di_rumah_kantor.astype('int64')\n",
        "df['Device_Apps_Installed'] = df.Device_Apps_Installed.astype('int64')\n",
        "df['Fraud'] = df.Fraud.astype('int64')"
      ],
      "execution_count": 6,
      "outputs": []
    },
    {
      "cell_type": "code",
      "metadata": {
        "id": "s5lsJyef3fe2"
      },
      "source": [
        "df_model = df[['Fraud','Device_Type','Application_Duration','Device_Active_Since','Mobile_Provider'\n",
        "                  ]]\n",
        "# df_model = df[['Fraud','Device_Type','Application_Duration','Device_Active_Since'\n",
        "                 # ,'Mobile_Provider','Mobile_Number_Active_Since','Email_Domain_Type','GPS_di_rumah_kantor'\n",
        "                 # ,'API_Fraud_Vendor_D','API_Fraud_Vendor_C','GPS_di_rumah_kantor','Device_Apps_Installed'\n",
        "                 # ]]"
      ],
      "execution_count": 25,
      "outputs": []
    },
    {
      "cell_type": "code",
      "metadata": {
        "id": "QNomZ8zp3Zrn"
      },
      "source": [
        "# Membagi dataset menjadi development(train) dan test\n",
        "\n",
        "y = df_model.loc[:,'Fraud']\n",
        "X = df_model.loc[:,df_model.columns != 'Fraud']\n",
        "\n",
        "from sklearn.model_selection import train_test_split\n",
        "X_train, X_test, y_train, y_test = train_test_split(X, y, test_size=0.30, random_state=42)\n",
        "\n",
        "# Dalam bentuk dataframe lengkap\n",
        "df_train = pd.concat([X_train, y_train], axis = 1)\n",
        "df_test = pd.concat([X_test, y_test], axis = 1)\n",
        "\n",
        "# Menghapus indeks dari data yang telah dibuang\n",
        "df_train = df_train.reset_index(drop=True)\n",
        "df_test = df_test.reset_index(drop=True)"
      ],
      "execution_count": 26,
      "outputs": []
    },
    {
      "cell_type": "code",
      "metadata": {
        "id": "Tm5rAq2i4UOG",
        "outputId": "a8f98b33-70d8-4c82-deb4-26780015eb5f",
        "colab": {
          "base_uri": "https://localhost:8080/"
        }
      },
      "source": [
        "# install scorecardpy\n",
        "!pip install -q scorecardpy\n",
        "#!pip install git+git://github.com/shichenxie/scorecardpy.git"
      ],
      "execution_count": 10,
      "outputs": [
        {
          "output_type": "stream",
          "name": "stdout",
          "text": [
            "\u001b[?25l\r\u001b[K     |██████                          | 10 kB 21.4 MB/s eta 0:00:01\r\u001b[K     |███████████▉                    | 20 kB 10.3 MB/s eta 0:00:01\r\u001b[K     |█████████████████▊              | 30 kB 8.0 MB/s eta 0:00:01\r\u001b[K     |███████████████████████▋        | 40 kB 7.8 MB/s eta 0:00:01\r\u001b[K     |█████████████████████████████▌  | 51 kB 4.3 MB/s eta 0:00:01\r\u001b[K     |████████████████████████████████| 55 kB 2.0 MB/s \n",
            "\u001b[?25h  Building wheel for scorecardpy (setup.py) ... \u001b[?25l\u001b[?25hdone\n"
          ]
        }
      ]
    },
    {
      "cell_type": "code",
      "metadata": {
        "id": "64-ZzSBr7Ill",
        "outputId": "1f9b0047-443f-4a6f-cc64-b92ddc0f4321",
        "colab": {
          "base_uri": "https://localhost:8080/",
          "height": 519
        }
      },
      "source": [
        "df_train.info()\n",
        "df_train.head(10)"
      ],
      "execution_count": 17,
      "outputs": [
        {
          "output_type": "stream",
          "name": "stdout",
          "text": [
            "<class 'pandas.core.frame.DataFrame'>\n",
            "RangeIndex: 700 entries, 0 to 699\n",
            "Data columns (total 2 columns):\n",
            " #   Column       Non-Null Count  Dtype   \n",
            "---  ------       --------------  -----   \n",
            " 0   Device_Type  700 non-null    category\n",
            " 1   Fraud        700 non-null    int64   \n",
            "dtypes: category(1), int64(1)\n",
            "memory usage: 6.4 KB\n"
          ]
        },
        {
          "output_type": "execute_result",
          "data": {
            "text/html": [
              "<div>\n",
              "<style scoped>\n",
              "    .dataframe tbody tr th:only-of-type {\n",
              "        vertical-align: middle;\n",
              "    }\n",
              "\n",
              "    .dataframe tbody tr th {\n",
              "        vertical-align: top;\n",
              "    }\n",
              "\n",
              "    .dataframe thead th {\n",
              "        text-align: right;\n",
              "    }\n",
              "</style>\n",
              "<table border=\"1\" class=\"dataframe\">\n",
              "  <thead>\n",
              "    <tr style=\"text-align: right;\">\n",
              "      <th></th>\n",
              "      <th>Device_Type</th>\n",
              "      <th>Fraud</th>\n",
              "    </tr>\n",
              "  </thead>\n",
              "  <tbody>\n",
              "    <tr>\n",
              "      <th>0</th>\n",
              "      <td>IOS</td>\n",
              "      <td>1</td>\n",
              "    </tr>\n",
              "    <tr>\n",
              "      <th>1</th>\n",
              "      <td>Android</td>\n",
              "      <td>0</td>\n",
              "    </tr>\n",
              "    <tr>\n",
              "      <th>2</th>\n",
              "      <td>Android</td>\n",
              "      <td>0</td>\n",
              "    </tr>\n",
              "    <tr>\n",
              "      <th>3</th>\n",
              "      <td>Android</td>\n",
              "      <td>0</td>\n",
              "    </tr>\n",
              "    <tr>\n",
              "      <th>4</th>\n",
              "      <td>Android</td>\n",
              "      <td>0</td>\n",
              "    </tr>\n",
              "    <tr>\n",
              "      <th>5</th>\n",
              "      <td>Android</td>\n",
              "      <td>0</td>\n",
              "    </tr>\n",
              "    <tr>\n",
              "      <th>6</th>\n",
              "      <td>Android</td>\n",
              "      <td>0</td>\n",
              "    </tr>\n",
              "    <tr>\n",
              "      <th>7</th>\n",
              "      <td>Android</td>\n",
              "      <td>0</td>\n",
              "    </tr>\n",
              "    <tr>\n",
              "      <th>8</th>\n",
              "      <td>Android</td>\n",
              "      <td>0</td>\n",
              "    </tr>\n",
              "    <tr>\n",
              "      <th>9</th>\n",
              "      <td>Android</td>\n",
              "      <td>0</td>\n",
              "    </tr>\n",
              "  </tbody>\n",
              "</table>\n",
              "</div>"
            ],
            "text/plain": [
              "  Device_Type  Fraud\n",
              "0         IOS      1\n",
              "1     Android      0\n",
              "2     Android      0\n",
              "3     Android      0\n",
              "4     Android      0\n",
              "5     Android      0\n",
              "6     Android      0\n",
              "7     Android      0\n",
              "8     Android      0\n",
              "9     Android      0"
            ]
          },
          "metadata": {},
          "execution_count": 17
        }
      ]
    },
    {
      "cell_type": "code",
      "metadata": {
        "id": "XXW78_sw4dIh",
        "outputId": "cc642eb7-9a98-4182-abb8-efcb2acbfb0c",
        "colab": {
          "base_uri": "https://localhost:8080/",
          "height": 1000
        }
      },
      "source": [
        "# Credit Scoring using logistic regression with library scorecardpy\n",
        "import scorecardpy as scpy\n",
        "\n",
        "# Melakukan WOE binning\n",
        "bins = scpy.woebin(df_train, y = 'Fraud')\n",
        "\n",
        "scpy.woebin_plot(bins)"
      ],
      "execution_count": 27,
      "outputs": [
        {
          "output_type": "stream",
          "name": "stdout",
          "text": [
            "[INFO] creating woe binning ...\n"
          ]
        },
        {
          "output_type": "execute_result",
          "data": {
            "text/plain": [
              "{'Application_Duration': <Figure size 432x288 with 2 Axes>,\n",
              " 'Device_Active_Since': <Figure size 432x288 with 2 Axes>,\n",
              " 'Device_Type': <Figure size 432x288 with 2 Axes>,\n",
              " 'Mobile_Provider': <Figure size 432x288 with 2 Axes>}"
            ]
          },
          "metadata": {},
          "execution_count": 27
        },
        {
          "output_type": "display_data",
          "data": {
            "image/png": "[encoded data removed]",
            "text/plain": [
              "<Figure size 432x288 with 2 Axes>"
            ]
          },
          "metadata": {
            "needs_background": "light"
          }
        },
        {
          "output_type": "display_data",
          "data": {
            "image/png": "[encoded data removed]",
            "text/plain": [
              "<Figure size 432x288 with 2 Axes>"
            ]
          },
          "metadata": {
            "needs_background": "light"
          }
        },
        {
          "output_type": "display_data",
          "data": {
            "image/png": "[encoded data removed]",
            "text/plain": [
              "<Figure size 432x288 with 2 Axes>"
            ]
          },
          "metadata": {
            "needs_background": "light"
          }
        },
        {
          "output_type": "display_data",
          "data": {
            "image/png": "[encoded data removed]",
            "text/plain": [
              "<Figure size 432x288 with 2 Axes>"
            ]
          },
          "metadata": {
            "needs_background": "light"
          }
        }
      ]
    }
  ]
}