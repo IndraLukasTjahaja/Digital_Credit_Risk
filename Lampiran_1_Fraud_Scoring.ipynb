{
  "nbformat": 4,
  "nbformat_minor": 0,
  "metadata": {
    "colab": {
      "name": "Lampiran 1 - Fraud Scoring.ipynb",
      "provenance": [],
      "authorship_tag": "ABX9TyNjGCfS2dG6kezK0daQjq8S",
      "include_colab_link": true
    },
    "kernelspec": {
      "name": "python3",
      "display_name": "Python 3"
    },
    "language_info": {
      "name": "python"
    }
  },
  "cells": [
    {
      "cell_type": "markdown",
      "metadata": {
        "id": "view-in-github",
        "colab_type": "text"
      },
      "source": [
        "<a href=\"https://colab.research.google.com/github/IndraLukasTjahaja/Digital_Credit_Risk/blob/main/Lampiran_1_Fraud_Scoring.ipynb\" target=\"_parent\"><img src=\"https://colab.research.google.com/assets/colab-badge.svg\" alt=\"Open In Colab\"/></a>"
      ]
    },
    {
      "cell_type": "code",
      "metadata": {
        "id": "vf3wVMrRLMbK"
      },
      "source": [
        "# Lampiran 1 - Fraud Scoring"
      ],
      "execution_count": 1,
      "outputs": []
    },
    {
      "cell_type": "code",
      "metadata": {
        "id": "hKUsyWpZL7b-"
      },
      "source": [
        "# L1.1 Impor data di Python\n",
        "\n",
        "# library panda untuk menggunakan data frame\n",
        "import pandas as pd\n",
        "\n",
        "# Impor data dari excel xls ke Python\n",
        "# Pembaca dapat langsung menunjuk kepada file excel yang terletak di website pendamping buku ini\n",
        "# atau mengunduh terlebih dahulu dan menunjuk ke file excel di lokasi hard drive\n",
        "# contoh: df = pd.read_excel('C:\\User\\pembaca\\downloads\\Credit_Scoring_Dataset.xlsx')\n",
        "\n",
        "df = pd.read_excel('https://github.com/IndraLukasTjahaja/Digital_Credit_Risk/raw/main/Fraud_Scoring_Dataset.xlsx')"
      ],
      "execution_count": 2,
      "outputs": []
    },
    {
      "cell_type": "code",
      "metadata": {
        "id": "-Ru-1LDrMbaj",
        "colab": {
          "base_uri": "https://localhost:8080/",
          "height": 532
        },
        "outputId": "ec932f0c-bfb7-4a47-ee5c-d5f91c889fe0"
      },
      "source": [
        "# L1.2 Struktur data\n",
        "\n",
        "# Melihat sample dari dataset\n",
        "df.head(10) # Menampilkan 10 baris teratas dari dataframe df"
      ],
      "execution_count": 3,
      "outputs": [
        {
          "output_type": "execute_result",
          "data": {
            "text/html": [
              "<div>\n",
              "<style scoped>\n",
              "    .dataframe tbody tr th:only-of-type {\n",
              "        vertical-align: middle;\n",
              "    }\n",
              "\n",
              "    .dataframe tbody tr th {\n",
              "        vertical-align: top;\n",
              "    }\n",
              "\n",
              "    .dataframe thead th {\n",
              "        text-align: right;\n",
              "    }\n",
              "</style>\n",
              "<table border=\"1\" class=\"dataframe\">\n",
              "  <thead>\n",
              "    <tr style=\"text-align: right;\">\n",
              "      <th></th>\n",
              "      <th>ID</th>\n",
              "      <th>Fraud</th>\n",
              "      <th>API_Fraud_Vendor_D</th>\n",
              "      <th>API_Fraud_Vendor_C</th>\n",
              "      <th>Application_Duration</th>\n",
              "      <th>Device_Type</th>\n",
              "      <th>Device_Apps_Installed</th>\n",
              "      <th>Device_Active_Since</th>\n",
              "      <th>Mobile_Provider</th>\n",
              "      <th>Mobile_Number_Active_Since</th>\n",
              "      <th>Email_Domain_Type</th>\n",
              "      <th>GPS_di_rumah_kantor</th>\n",
              "    </tr>\n",
              "  </thead>\n",
              "  <tbody>\n",
              "    <tr>\n",
              "      <th>0</th>\n",
              "      <td>DEF0001</td>\n",
              "      <td>0</td>\n",
              "      <td>102</td>\n",
              "      <td>384</td>\n",
              "      <td>4.10-20 menit</td>\n",
              "      <td>Android</td>\n",
              "      <td>6</td>\n",
              "      <td>2_1_ke_3_tahun</td>\n",
              "      <td>Telco_A</td>\n",
              "      <td>1_Kurang_1_bulan</td>\n",
              "      <td>Public_Domain: Common</td>\n",
              "      <td>1</td>\n",
              "    </tr>\n",
              "    <tr>\n",
              "      <th>1</th>\n",
              "      <td>DEF0002</td>\n",
              "      <td>0</td>\n",
              "      <td>84</td>\n",
              "      <td>172</td>\n",
              "      <td>3.5-10 menit</td>\n",
              "      <td>IOS</td>\n",
              "      <td>9</td>\n",
              "      <td>3_Lebih_3_tahun</td>\n",
              "      <td>Telco_A</td>\n",
              "      <td>1_Kurang_1_bulan</td>\n",
              "      <td>Public_Domain: Common</td>\n",
              "      <td>1</td>\n",
              "    </tr>\n",
              "    <tr>\n",
              "      <th>2</th>\n",
              "      <td>DEF0003</td>\n",
              "      <td>0</td>\n",
              "      <td>286</td>\n",
              "      <td>194</td>\n",
              "      <td>5.20 menit lebih</td>\n",
              "      <td>Android</td>\n",
              "      <td>36</td>\n",
              "      <td>3_Lebih_3_tahun</td>\n",
              "      <td>Telco_A</td>\n",
              "      <td>2_Kurang_1_tahun</td>\n",
              "      <td>Public_Domain: Common</td>\n",
              "      <td>1</td>\n",
              "    </tr>\n",
              "    <tr>\n",
              "      <th>3</th>\n",
              "      <td>DEF0004</td>\n",
              "      <td>0</td>\n",
              "      <td>36</td>\n",
              "      <td>318</td>\n",
              "      <td>3.5-10 menit</td>\n",
              "      <td>Android</td>\n",
              "      <td>14</td>\n",
              "      <td>3_Lebih_3_tahun</td>\n",
              "      <td>Telco_E</td>\n",
              "      <td>4_2_ke_5_tahun</td>\n",
              "      <td>Professional_Domain</td>\n",
              "      <td>1</td>\n",
              "    </tr>\n",
              "    <tr>\n",
              "      <th>4</th>\n",
              "      <td>DEF0005</td>\n",
              "      <td>0</td>\n",
              "      <td>162</td>\n",
              "      <td>126</td>\n",
              "      <td>2.3-5 menit</td>\n",
              "      <td>Android</td>\n",
              "      <td>10</td>\n",
              "      <td>3_Lebih_3_tahun</td>\n",
              "      <td>Telco_D</td>\n",
              "      <td>1_Kurang_1_bulan</td>\n",
              "      <td>Public_Domain: Common</td>\n",
              "      <td>1</td>\n",
              "    </tr>\n",
              "    <tr>\n",
              "      <th>5</th>\n",
              "      <td>DEF0006</td>\n",
              "      <td>0</td>\n",
              "      <td>198</td>\n",
              "      <td>400</td>\n",
              "      <td>2.3-5 menit</td>\n",
              "      <td>Android</td>\n",
              "      <td>5</td>\n",
              "      <td>3_Lebih_3_tahun</td>\n",
              "      <td>Telco_A</td>\n",
              "      <td>2_Kurang_1_tahun</td>\n",
              "      <td>Public_Domain: Common</td>\n",
              "      <td>1</td>\n",
              "    </tr>\n",
              "    <tr>\n",
              "      <th>6</th>\n",
              "      <td>DEF0007</td>\n",
              "      <td>0</td>\n",
              "      <td>111</td>\n",
              "      <td>344</td>\n",
              "      <td>4.10-20 menit</td>\n",
              "      <td>Android</td>\n",
              "      <td>37</td>\n",
              "      <td>3_Lebih_3_tahun</td>\n",
              "      <td>Telco_C</td>\n",
              "      <td>5_Lebih_5_tahun</td>\n",
              "      <td>Public_Domain: Common</td>\n",
              "      <td>0</td>\n",
              "    </tr>\n",
              "    <tr>\n",
              "      <th>7</th>\n",
              "      <td>DEF0008</td>\n",
              "      <td>0</td>\n",
              "      <td>36</td>\n",
              "      <td>372</td>\n",
              "      <td>4.10-20 menit</td>\n",
              "      <td>Android</td>\n",
              "      <td>35</td>\n",
              "      <td>3_Lebih_3_tahun</td>\n",
              "      <td>Telco_E</td>\n",
              "      <td>5_Lebih_5_tahun</td>\n",
              "      <td>Public_Domain: Common</td>\n",
              "      <td>1</td>\n",
              "    </tr>\n",
              "    <tr>\n",
              "      <th>8</th>\n",
              "      <td>DEF0009</td>\n",
              "      <td>0</td>\n",
              "      <td>15</td>\n",
              "      <td>470</td>\n",
              "      <td>2.3-5 menit</td>\n",
              "      <td>IOS</td>\n",
              "      <td>17</td>\n",
              "      <td>2_1_ke_3_tahun</td>\n",
              "      <td>Telco_A</td>\n",
              "      <td>3_1_ke_2_tahun</td>\n",
              "      <td>Public_Domain: Common</td>\n",
              "      <td>1</td>\n",
              "    </tr>\n",
              "    <tr>\n",
              "      <th>9</th>\n",
              "      <td>DEF0010</td>\n",
              "      <td>0</td>\n",
              "      <td>85</td>\n",
              "      <td>570</td>\n",
              "      <td>4.10-20 menit</td>\n",
              "      <td>Android</td>\n",
              "      <td>17</td>\n",
              "      <td>2_1_ke_3_tahun</td>\n",
              "      <td>Telco_C</td>\n",
              "      <td>4_2_ke_5_tahun</td>\n",
              "      <td>Public_Domain: Common</td>\n",
              "      <td>0</td>\n",
              "    </tr>\n",
              "  </tbody>\n",
              "</table>\n",
              "</div>"
            ],
            "text/plain": [
              "        ID  Fraud  ...      Email_Domain_Type  GPS_di_rumah_kantor\n",
              "0  DEF0001      0  ...  Public_Domain: Common                    1\n",
              "1  DEF0002      0  ...  Public_Domain: Common                    1\n",
              "2  DEF0003      0  ...  Public_Domain: Common                    1\n",
              "3  DEF0004      0  ...    Professional_Domain                    1\n",
              "4  DEF0005      0  ...  Public_Domain: Common                    1\n",
              "5  DEF0006      0  ...  Public_Domain: Common                    1\n",
              "6  DEF0007      0  ...  Public_Domain: Common                    0\n",
              "7  DEF0008      0  ...  Public_Domain: Common                    1\n",
              "8  DEF0009      0  ...  Public_Domain: Common                    1\n",
              "9  DEF0010      0  ...  Public_Domain: Common                    0\n",
              "\n",
              "[10 rows x 12 columns]"
            ]
          },
          "metadata": {},
          "execution_count": 3
        }
      ]
    },
    {
      "cell_type": "code",
      "metadata": {
        "id": "-TDI-MEGPG9E",
        "colab": {
          "base_uri": "https://localhost:8080/"
        },
        "outputId": "9f0e2db5-8890-4a5a-c8b2-b2f61a6bfa32"
      },
      "source": [
        "# Melihat penjelasan singkat dan tipe data\n",
        "df.info()"
      ],
      "execution_count": 46,
      "outputs": [
        {
          "output_type": "stream",
          "name": "stdout",
          "text": [
            "<class 'pandas.core.frame.DataFrame'>\n",
            "RangeIndex: 1000 entries, 0 to 999\n",
            "Data columns (total 12 columns):\n",
            " #   Column                      Non-Null Count  Dtype   \n",
            "---  ------                      --------------  -----   \n",
            " 0   ID                          1000 non-null   category\n",
            " 1   Fraud                       1000 non-null   int64   \n",
            " 2   API_Fraud_Vendor_D          1000 non-null   int64   \n",
            " 3   API_Fraud_Vendor_C          1000 non-null   int64   \n",
            " 4   Application_Duration        1000 non-null   category\n",
            " 5   Device_Type                 1000 non-null   category\n",
            " 6   Device_Apps_Installed       1000 non-null   int64   \n",
            " 7   Device_Active_Since         1000 non-null   category\n",
            " 8   Mobile_Provider             1000 non-null   category\n",
            " 9   Mobile_Number_Active_Since  1000 non-null   category\n",
            " 10  Email_Domain_Type           1000 non-null   category\n",
            " 11  GPS_di_rumah_kantor         1000 non-null   int64   \n",
            "dtypes: category(7), int64(5)\n",
            "memory usage: 95.8 KB\n"
          ]
        }
      ]
    },
    {
      "cell_type": "code",
      "metadata": {
        "id": "uLbf0FXdxyUf",
        "outputId": "5f179df5-29ee-4234-8e0f-e6159935b099",
        "colab": {
          "base_uri": "https://localhost:8080/"
        }
      },
      "source": [
        "# Untuk melihat frekuensi dari variabel Fraud\n",
        "print(df['Fraud'].value_counts())\n",
        "\n",
        "# Untuk melihat proporsi (dalam persentase) dari variabel Fraud\n",
        "print(df['Fraud'].value_counts(normalize=True) * 100)"
      ],
      "execution_count": 55,
      "outputs": [
        {
          "output_type": "stream",
          "name": "stdout",
          "text": [
            "0    950\n",
            "1     50\n",
            "Name: Fraud, dtype: int64\n",
            "0    95.0\n",
            "1     5.0\n",
            "Name: Fraud, dtype: float64\n"
          ]
        }
      ]
    },
    {
      "cell_type": "code",
      "metadata": {
        "id": "o9hf9ppSW1gW"
      },
      "source": [
        "# L1.3 Tipe data\n",
        "\n",
        "# Merubah tipe data menjadi tipe karakter kategori\n",
        "df['ID'] = df.ID.astype('category')\n",
        "df['Device_Type'] = df.Device_Type.astype('category')\n",
        "df['Application_Duration'] = df.Application_Duration.astype('category')\n",
        "df['Device_Active_Since'] = df.Device_Active_Since.astype('category')\n",
        "df['Mobile_Provider'] = df.Mobile_Provider.astype('category')\n",
        "df['Mobile_Number_Active_Since'] = df.Mobile_Number_Active_Since.astype('category')\n",
        "df['Email_Domain_Type'] = df.Email_Domain_Type.astype('category')\n",
        "df['GPS_di_rumah_kantor'] = df.GPS_di_rumah_kantor.astype('category')\n",
        "\n",
        "# Merubah tipe data menjadi tipe karakter int64\n",
        "# Gunakan integer untuk angka bulat\n",
        "df['API_Fraud_Vendor_D'] = df.API_Fraud_Vendor_D.astype('int64')\n",
        "df['API_Fraud_Vendor_C'] = df.API_Fraud_Vendor_C.astype('int64')\n",
        "df['GPS_di_rumah_kantor'] = df.GPS_di_rumah_kantor.astype('int64')\n",
        "df['Device_Apps_Installed'] = df.Device_Apps_Installed.astype('int64')\n",
        "df['Fraud'] = df.Fraud.astype('int64')"
      ],
      "execution_count": 5,
      "outputs": []
    },
    {
      "cell_type": "code",
      "metadata": {
        "id": "s5lsJyef3fe2"
      },
      "source": [
        "df_model = df[['Fraud','Device_Type','Application_Duration','Device_Active_Since','Mobile_Provider','Mobile_Number_Active_Since','Email_Domain_Type'\n",
        "              ,'GPS_di_rumah_kantor','API_Fraud_Vendor_D','API_Fraud_Vendor_C','Device_Apps_Installed'\n",
        "                  ]]"
      ],
      "execution_count": 28,
      "outputs": []
    },
    {
      "cell_type": "code",
      "metadata": {
        "id": "QNomZ8zp3Zrn",
        "outputId": "6c6c24ae-4a5d-431b-8a8c-2b680847337c",
        "colab": {
          "base_uri": "https://localhost:8080/"
        }
      },
      "source": [
        "# Membagi dataset menjadi development(train) dan test\n",
        "\n",
        "y = df_model.loc[:,'Fraud']\n",
        "X = df_model.loc[:,df_model.columns != 'Fraud']\n",
        "\n",
        "from sklearn.model_selection import train_test_split\n",
        "X_train, X_test, y_train, y_test = train_test_split(X, y, test_size=0.30, random_state=42)\n",
        "\n",
        "# Metode resampling dengan SMOTENC yang bisa dilakukan untuk variabel angka dan teks\n",
        "from imblearn.over_sampling import SMOTENC\n",
        "smote_nc = SMOTENC(categorical_features=[X_train.dtypes=='category'], random_state=0)\n",
        "# oversampling/undersampling hanya dilakukan di data train\n",
        "X_resampled, y_resampled = smote_nc.fit_resample(X_train, y_train)\n",
        "\n",
        "# Dalam bentuk dataframe lengkap\n",
        "X_resampled_df = pd.DataFrame(X_resampled, columns=list(X_train.columns))\n",
        "y_resampled_df = pd.DataFrame(y_resampled, columns=['Fraud'])\n",
        "df_train = pd.concat([X_resampled_df, y_resampled_df], axis = 1)\n",
        "df_test = pd.concat([X_test, y_test], axis = 1)\n",
        "\n",
        "# Menghapus indeks dari data yang telah dibuang\n",
        "df_train = df_train.reset_index(drop=True)\n",
        "df_test = df_test.reset_index(drop=True)"
      ],
      "execution_count": 65,
      "outputs": [
        {
          "output_type": "stream",
          "name": "stderr",
          "text": [
            "/usr/local/lib/python3.7/dist-packages/sklearn/utils/deprecation.py:87: FutureWarning: Function safe_indexing is deprecated; safe_indexing is deprecated in version 0.22 and will be removed in version 0.24.\n",
            "  warnings.warn(msg, category=FutureWarning)\n",
            "/usr/local/lib/python3.7/dist-packages/sklearn/utils/deprecation.py:87: FutureWarning: Function safe_indexing is deprecated; safe_indexing is deprecated in version 0.22 and will be removed in version 0.24.\n",
            "  warnings.warn(msg, category=FutureWarning)\n"
          ]
        }
      ]
    },
    {
      "cell_type": "code",
      "metadata": {
        "id": "jMDIRHrqx4KA",
        "outputId": "ecd1dde4-3a62-46ac-979e-46b9b416bb66",
        "colab": {
          "base_uri": "https://localhost:8080/"
        }
      },
      "source": [
        "# Untuk melihat frekuensi dari variabel Fraud\n",
        "print(df_train['Fraud'].value_counts())\n",
        "\n",
        "# Untuk melihat proporsi (dalam persentase) dari variabel Fraud\n",
        "print(df_train['Fraud'].value_counts(normalize=True) * 100)"
      ],
      "execution_count": 56,
      "outputs": [
        {
          "output_type": "stream",
          "name": "stdout",
          "text": [
            "1    667\n",
            "0    667\n",
            "Name: Fraud, dtype: int64\n",
            "1    50.0\n",
            "0    50.0\n",
            "Name: Fraud, dtype: float64\n"
          ]
        }
      ]
    },
    {
      "cell_type": "code",
      "metadata": {
        "id": "O_cMKKRTx-Lh",
        "outputId": "93d39d5b-3603-4a83-9720-74b1f1cbc9ac",
        "colab": {
          "base_uri": "https://localhost:8080/"
        }
      },
      "source": [
        "# Untuk melihat frekuensi dari variabel Fraud\n",
        "print(df_test['Fraud'].value_counts())\n",
        "\n",
        "# Untuk melihat proporsi (dalam persentase) dari variabel Fraud\n",
        "print(df_test['Fraud'].value_counts(normalize=True) * 100)"
      ],
      "execution_count": 57,
      "outputs": [
        {
          "output_type": "stream",
          "name": "stdout",
          "text": [
            "0    283\n",
            "1     17\n",
            "Name: Fraud, dtype: int64\n",
            "0    94.333333\n",
            "1     5.666667\n",
            "Name: Fraud, dtype: float64\n"
          ]
        }
      ]
    },
    {
      "cell_type": "code",
      "metadata": {
        "id": "Tm5rAq2i4UOG",
        "colab": {
          "base_uri": "https://localhost:8080/"
        },
        "outputId": "def11424-a1c9-422e-cfdd-b03edc4b2c74"
      },
      "source": [
        "# install scorecardpy\n",
        "!pip install -q scorecardpy\n",
        "#!pip install git+git://github.com/shichenxie/scorecardpy.git"
      ],
      "execution_count": 8,
      "outputs": [
        {
          "output_type": "stream",
          "name": "stdout",
          "text": [
            "\u001b[?25l\r\u001b[K     |██████                          | 10 kB 21.4 MB/s eta 0:00:01\r\u001b[K     |███████████▉                    | 20 kB 25.0 MB/s eta 0:00:01\r\u001b[K     |█████████████████▊              | 30 kB 12.7 MB/s eta 0:00:01\r\u001b[K     |███████████████████████▋        | 40 kB 9.8 MB/s eta 0:00:01\r\u001b[K     |█████████████████████████████▌  | 51 kB 5.5 MB/s eta 0:00:01\r\u001b[K     |████████████████████████████████| 55 kB 1.7 MB/s \n",
            "\u001b[?25h  Building wheel for scorecardpy (setup.py) ... \u001b[?25l\u001b[?25hdone\n"
          ]
        }
      ]
    },
    {
      "cell_type": "code",
      "metadata": {
        "id": "64-ZzSBr7Ill",
        "colab": {
          "base_uri": "https://localhost:8080/",
          "height": 835
        },
        "outputId": "dcda4020-ff12-4540-9b80-69b07bea8433"
      },
      "source": [
        "df_train.info()\n",
        "df_train.head(10)"
      ],
      "execution_count": 60,
      "outputs": [
        {
          "output_type": "stream",
          "name": "stdout",
          "text": [
            "<class 'pandas.core.frame.DataFrame'>\n",
            "RangeIndex: 1334 entries, 0 to 1333\n",
            "Data columns (total 11 columns):\n",
            " #   Column                      Non-Null Count  Dtype \n",
            "---  ------                      --------------  ----- \n",
            " 0   Device_Type                 1334 non-null   object\n",
            " 1   Application_Duration        1334 non-null   object\n",
            " 2   Device_Active_Since         1334 non-null   object\n",
            " 3   Mobile_Provider             1334 non-null   object\n",
            " 4   Mobile_Number_Active_Since  1334 non-null   object\n",
            " 5   Email_Domain_Type           1334 non-null   object\n",
            " 6   GPS_di_rumah_kantor         1334 non-null   int64 \n",
            " 7   API_Fraud_Vendor_D          1334 non-null   int64 \n",
            " 8   API_Fraud_Vendor_C          1334 non-null   int64 \n",
            " 9   Device_Apps_Installed       1334 non-null   int64 \n",
            " 10  Fraud                       1334 non-null   int64 \n",
            "dtypes: int64(5), object(6)\n",
            "memory usage: 114.8+ KB\n"
          ]
        },
        {
          "output_type": "execute_result",
          "data": {
            "text/html": [
              "<div>\n",
              "<style scoped>\n",
              "    .dataframe tbody tr th:only-of-type {\n",
              "        vertical-align: middle;\n",
              "    }\n",
              "\n",
              "    .dataframe tbody tr th {\n",
              "        vertical-align: top;\n",
              "    }\n",
              "\n",
              "    .dataframe thead th {\n",
              "        text-align: right;\n",
              "    }\n",
              "</style>\n",
              "<table border=\"1\" class=\"dataframe\">\n",
              "  <thead>\n",
              "    <tr style=\"text-align: right;\">\n",
              "      <th></th>\n",
              "      <th>Device_Type</th>\n",
              "      <th>Application_Duration</th>\n",
              "      <th>Device_Active_Since</th>\n",
              "      <th>Mobile_Provider</th>\n",
              "      <th>Mobile_Number_Active_Since</th>\n",
              "      <th>Email_Domain_Type</th>\n",
              "      <th>GPS_di_rumah_kantor</th>\n",
              "      <th>API_Fraud_Vendor_D</th>\n",
              "      <th>API_Fraud_Vendor_C</th>\n",
              "      <th>Device_Apps_Installed</th>\n",
              "      <th>Fraud</th>\n",
              "    </tr>\n",
              "  </thead>\n",
              "  <tbody>\n",
              "    <tr>\n",
              "      <th>0</th>\n",
              "      <td>IOS</td>\n",
              "      <td>4.10-20 menit</td>\n",
              "      <td>2_1_ke_3_tahun</td>\n",
              "      <td>Telco_E</td>\n",
              "      <td>1_Kurang_1_bulan</td>\n",
              "      <td>Suspect_Domain</td>\n",
              "      <td>0</td>\n",
              "      <td>74</td>\n",
              "      <td>188</td>\n",
              "      <td>29</td>\n",
              "      <td>1</td>\n",
              "    </tr>\n",
              "    <tr>\n",
              "      <th>1</th>\n",
              "      <td>Android</td>\n",
              "      <td>5.20 menit lebih</td>\n",
              "      <td>3_Lebih_3_tahun</td>\n",
              "      <td>Telco_A</td>\n",
              "      <td>3_1_ke_2_tahun</td>\n",
              "      <td>Public_Domain: Common</td>\n",
              "      <td>1</td>\n",
              "      <td>59</td>\n",
              "      <td>264</td>\n",
              "      <td>27</td>\n",
              "      <td>0</td>\n",
              "    </tr>\n",
              "    <tr>\n",
              "      <th>2</th>\n",
              "      <td>Android</td>\n",
              "      <td>3.5-10 menit</td>\n",
              "      <td>2_1_ke_3_tahun</td>\n",
              "      <td>Telco_D</td>\n",
              "      <td>4_2_ke_5_tahun</td>\n",
              "      <td>Professional_Domain</td>\n",
              "      <td>1</td>\n",
              "      <td>36</td>\n",
              "      <td>398</td>\n",
              "      <td>19</td>\n",
              "      <td>0</td>\n",
              "    </tr>\n",
              "    <tr>\n",
              "      <th>3</th>\n",
              "      <td>Android</td>\n",
              "      <td>3.5-10 menit</td>\n",
              "      <td>3_Lebih_3_tahun</td>\n",
              "      <td>Telco_A</td>\n",
              "      <td>3_1_ke_2_tahun</td>\n",
              "      <td>Public_Domain: Common</td>\n",
              "      <td>1</td>\n",
              "      <td>63</td>\n",
              "      <td>210</td>\n",
              "      <td>13</td>\n",
              "      <td>0</td>\n",
              "    </tr>\n",
              "    <tr>\n",
              "      <th>4</th>\n",
              "      <td>Android</td>\n",
              "      <td>4.10-20 menit</td>\n",
              "      <td>2_1_ke_3_tahun</td>\n",
              "      <td>Telco_A</td>\n",
              "      <td>2_Kurang_1_tahun</td>\n",
              "      <td>Public_Domain: Common</td>\n",
              "      <td>0</td>\n",
              "      <td>308</td>\n",
              "      <td>182</td>\n",
              "      <td>36</td>\n",
              "      <td>0</td>\n",
              "    </tr>\n",
              "    <tr>\n",
              "      <th>5</th>\n",
              "      <td>Android</td>\n",
              "      <td>1.1-3 menit</td>\n",
              "      <td>2_1_ke_3_tahun</td>\n",
              "      <td>Telco_A</td>\n",
              "      <td>2_Kurang_1_tahun</td>\n",
              "      <td>Public_Domain: Common</td>\n",
              "      <td>1</td>\n",
              "      <td>203</td>\n",
              "      <td>136</td>\n",
              "      <td>12</td>\n",
              "      <td>0</td>\n",
              "    </tr>\n",
              "    <tr>\n",
              "      <th>6</th>\n",
              "      <td>Android</td>\n",
              "      <td>4.10-20 menit</td>\n",
              "      <td>2_1_ke_3_tahun</td>\n",
              "      <td>Telco_D</td>\n",
              "      <td>3_1_ke_2_tahun</td>\n",
              "      <td>Public_Domain: Common</td>\n",
              "      <td>0</td>\n",
              "      <td>56</td>\n",
              "      <td>564</td>\n",
              "      <td>6</td>\n",
              "      <td>0</td>\n",
              "    </tr>\n",
              "    <tr>\n",
              "      <th>7</th>\n",
              "      <td>Android</td>\n",
              "      <td>5.20 menit lebih</td>\n",
              "      <td>3_Lebih_3_tahun</td>\n",
              "      <td>Telco_B</td>\n",
              "      <td>1_Kurang_1_bulan</td>\n",
              "      <td>Public_Domain: Common</td>\n",
              "      <td>0</td>\n",
              "      <td>125</td>\n",
              "      <td>146</td>\n",
              "      <td>24</td>\n",
              "      <td>0</td>\n",
              "    </tr>\n",
              "    <tr>\n",
              "      <th>8</th>\n",
              "      <td>Android</td>\n",
              "      <td>4.10-20 menit</td>\n",
              "      <td>3_Lebih_3_tahun</td>\n",
              "      <td>Telco_B</td>\n",
              "      <td>4_2_ke_5_tahun</td>\n",
              "      <td>Public_Domain: Common</td>\n",
              "      <td>0</td>\n",
              "      <td>250</td>\n",
              "      <td>528</td>\n",
              "      <td>36</td>\n",
              "      <td>0</td>\n",
              "    </tr>\n",
              "    <tr>\n",
              "      <th>9</th>\n",
              "      <td>Android</td>\n",
              "      <td>5.20 menit lebih</td>\n",
              "      <td>3_Lebih_3_tahun</td>\n",
              "      <td>Telco_D</td>\n",
              "      <td>5_Lebih_5_tahun</td>\n",
              "      <td>Public_Domain: Common</td>\n",
              "      <td>1</td>\n",
              "      <td>127</td>\n",
              "      <td>578</td>\n",
              "      <td>31</td>\n",
              "      <td>0</td>\n",
              "    </tr>\n",
              "  </tbody>\n",
              "</table>\n",
              "</div>"
            ],
            "text/plain": [
              "  Device_Type Application_Duration  ... Device_Apps_Installed Fraud\n",
              "0         IOS        4.10-20 menit  ...                    29     1\n",
              "1     Android     5.20 menit lebih  ...                    27     0\n",
              "2     Android         3.5-10 menit  ...                    19     0\n",
              "3     Android         3.5-10 menit  ...                    13     0\n",
              "4     Android        4.10-20 menit  ...                    36     0\n",
              "5     Android          1.1-3 menit  ...                    12     0\n",
              "6     Android        4.10-20 menit  ...                     6     0\n",
              "7     Android     5.20 menit lebih  ...                    24     0\n",
              "8     Android        4.10-20 menit  ...                    36     0\n",
              "9     Android     5.20 menit lebih  ...                    31     0\n",
              "\n",
              "[10 rows x 11 columns]"
            ]
          },
          "metadata": {},
          "execution_count": 60
        }
      ]
    },
    {
      "cell_type": "code",
      "metadata": {
        "id": "jv6yDCkbyMKI"
      },
      "source": [
        "# Merubah tipe data menjadi tipe karakter int64\n",
        "# Gunakan integer untuk angka bulat\n",
        "df_train['API_Fraud_Vendor_D'] = df_train.API_Fraud_Vendor_D.astype('int64')\n",
        "df_train['API_Fraud_Vendor_C'] = df_train.API_Fraud_Vendor_C.astype('int64')\n",
        "df_train['GPS_di_rumah_kantor'] = df_train.GPS_di_rumah_kantor.astype('int64')\n",
        "df_train['Device_Apps_Installed'] = df_train.Device_Apps_Installed.astype('int64')\n",
        "df_train['Fraud'] = df_train.Fraud.astype('int64')"
      ],
      "execution_count": 59,
      "outputs": []
    },
    {
      "cell_type": "code",
      "metadata": {
        "id": "XXW78_sw4dIh",
        "colab": {
          "base_uri": "https://localhost:8080/",
          "height": 274
        },
        "outputId": "012a750f-9d4c-4866-ab07-a9212ab48ff1"
      },
      "source": [
        "# Fraud Scoring using logistic regression with library scorecardpy\n",
        "import scorecardpy as scpy\n",
        "\n",
        "# Melakukan WOE binning\n",
        "bins = scpy.woebin(df_train, y = 'Fraud')\n",
        "\n",
        "scpy.woebin_plot(bins)"
      ],
      "execution_count": 66,
      "outputs": [
        {
          "name": "stdout",
          "output_type": "stream",
          "text": [
            "[INFO] creating woe binning ...\n",
            ">>> There are 4 variables have too many unique non-numberic values, which might cause the binning process slow. Please double check the following variables: \n",
            "GPS_di_rumah_kantor, API_Fraud_Vendor_D, API_Fraud_Vendor_C, Device_Apps_Installed\n",
            ">>> Continue the binning process?\n",
            "1: yes \n",
            "2: no\n",
            "Selection: 2\n"
          ]
        },
        {
          "output_type": "error",
          "ename": "SystemExit",
          "evalue": "ignored",
          "traceback": [
            "An exception has occurred, use %tb to see the full traceback.\n",
            "\u001b[0;31mSystemExit\u001b[0m\u001b[0;31m:\u001b[0m 0\n"
          ]
        },
        {
          "output_type": "stream",
          "name": "stderr",
          "text": [
            "/usr/local/lib/python3.7/dist-packages/IPython/core/interactiveshell.py:2890: UserWarning: To exit: use 'exit', 'quit', or Ctrl-D.\n",
            "  warn(\"To exit: use 'exit', 'quit', or Ctrl-D.\", stacklevel=1)\n"
          ]
        }
      ]
    },
    {
      "cell_type": "code",
      "metadata": {
        "id": "OqiRYZV2ryJ1",
        "outputId": "790f81cf-03ed-4870-dfee-19847bbd37ea",
        "colab": {
          "base_uri": "https://localhost:8080/"
        }
      },
      "source": [
        "train = df_train\n",
        "test = df_test\n",
        "\n",
        "# converting train and test into woe values\n",
        "train_woe = scpy.woebin_ply(train, bins)\n",
        "test_woe = scpy.woebin_ply(test, bins)\n",
        "\n",
        "y_train = train_woe.loc[:,'Fraud']\n",
        "X_train = train_woe.loc[:,train_woe.columns != 'Fraud']\n",
        "y_test = test_woe.loc[:,'Fraud']\n",
        "X_test = test_woe.loc[:,train_woe.columns != 'Fraud']\n",
        "\n",
        "print(X_train)\n",
        "print(y_train)"
      ],
      "execution_count": 62,
      "outputs": [
        {
          "output_type": "stream",
          "name": "stdout",
          "text": [
            "[INFO] converting into woe values ...\n",
            "[INFO] converting into woe values ...\n"
          ]
        },
        {
          "output_type": "stream",
          "name": "stderr",
          "text": [
            "/usr/local/lib/python3.7/dist-packages/pandas/core/indexing.py:1781: SettingWithCopyWarning: \n",
            "A value is trying to be set on a copy of a slice from a DataFrame.\n",
            "Try using .loc[row_indexer,col_indexer] = value instead\n",
            "\n",
            "See the caveats in the documentation: https://pandas.pydata.org/pandas-docs/stable/user_guide/indexing.html#returning-a-view-versus-a-copy\n",
            "  self.obj[item_labels[indexer[info_axis]]] = value\n"
          ]
        },
        {
          "output_type": "stream",
          "name": "stdout",
          "text": [
            "      Device_Active_Since_woe  ...  Device_Type_woe\n",
            "0                   -0.275653  ...        -3.367296\n",
            "1                   -0.700582  ...         0.135254\n",
            "2                   -0.275653  ...         0.135254\n",
            "3                   -0.700582  ...         0.135254\n",
            "4                   -0.275653  ...         0.135254\n",
            "...                       ...  ...              ...\n",
            "1329                 1.170438  ...         0.135254\n",
            "1330                 1.170438  ...         0.135254\n",
            "1331                -0.275653  ...         0.135254\n",
            "1332                -0.275653  ...         0.135254\n",
            "1333                -0.700582  ...         0.135254\n",
            "\n",
            "[1334 rows x 10 columns]\n",
            "0       1\n",
            "1       0\n",
            "2       0\n",
            "3       0\n",
            "4       0\n",
            "       ..\n",
            "1329    1\n",
            "1330    1\n",
            "1331    1\n",
            "1332    1\n",
            "1333    1\n",
            "Name: Fraud, Length: 1334, dtype: int64\n"
          ]
        }
      ]
    },
    {
      "cell_type": "code",
      "metadata": {
        "id": "Cq3xjRvhruDV",
        "outputId": "49df55de-70d3-46b5-ae71-bc4e7a6ab0d0",
        "colab": {
          "base_uri": "https://localhost:8080/",
          "height": 580
        }
      },
      "source": [
        "# Membuat scorecard dengan menggunakan algoritma logistic regression\n",
        "from sklearn.linear_model import LogisticRegression\n",
        "lr = LogisticRegression()\n",
        "lr.fit(X_train, y_train)\n",
        "\n",
        "print(lr.coef_)\n",
        "\n",
        "# For those that want to know the statistic modeling\n",
        "import numpy as np\n",
        "import statsmodels.api as sm\n",
        "\n",
        "model = sm.Logit(y_train, X_train)\n",
        "result = model.fit()\n",
        "\n",
        "result.summary()"
      ],
      "execution_count": 63,
      "outputs": [
        {
          "output_type": "stream",
          "name": "stdout",
          "text": [
            "[[1.85272063 0.7909203  1.41121882 1.07199933 0.70833773 1.15971675\n",
            "  0.41703709 0.66684291 1.32592089 0.59464847]]\n",
            "Optimization terminated successfully.\n",
            "         Current function value: 0.061343\n",
            "         Iterations 11\n"
          ]
        },
        {
          "output_type": "execute_result",
          "data": {
            "text/html": [
              "<table class=\"simpletable\">\n",
              "<caption>Logit Regression Results</caption>\n",
              "<tr>\n",
              "  <th>Dep. Variable:</th>         <td>Fraud</td>      <th>  No. Observations:  </th>  <td>  1334</td> \n",
              "</tr>\n",
              "<tr>\n",
              "  <th>Model:</th>                 <td>Logit</td>      <th>  Df Residuals:      </th>  <td>  1324</td> \n",
              "</tr>\n",
              "<tr>\n",
              "  <th>Method:</th>                 <td>MLE</td>       <th>  Df Model:          </th>  <td>     9</td> \n",
              "</tr>\n",
              "<tr>\n",
              "  <th>Date:</th>            <td>Thu, 28 Oct 2021</td> <th>  Pseudo R-squ.:     </th>  <td>0.9115</td> \n",
              "</tr>\n",
              "<tr>\n",
              "  <th>Time:</th>                <td>16:45:16</td>     <th>  Log-Likelihood:    </th> <td> -81.832</td>\n",
              "</tr>\n",
              "<tr>\n",
              "  <th>converged:</th>             <td>True</td>       <th>  LL-Null:           </th> <td> -924.66</td>\n",
              "</tr>\n",
              "<tr>\n",
              "  <th>Covariance Type:</th>     <td>nonrobust</td>    <th>  LLR p-value:       </th>  <td> 0.000</td> \n",
              "</tr>\n",
              "</table>\n",
              "<table class=\"simpletable\">\n",
              "<tr>\n",
              "                 <td></td>                   <th>coef</th>     <th>std err</th>      <th>z</th>      <th>P>|z|</th>  <th>[0.025</th>    <th>0.975]</th>  \n",
              "</tr>\n",
              "<tr>\n",
              "  <th>Device_Active_Since_woe</th>        <td>    2.1897</td> <td>    0.330</td> <td>    6.633</td> <td> 0.000</td> <td>    1.543</td> <td>    2.837</td>\n",
              "</tr>\n",
              "<tr>\n",
              "  <th>Device_Apps_Installed_woe</th>      <td>    0.8692</td> <td>    0.349</td> <td>    2.493</td> <td> 0.013</td> <td>    0.186</td> <td>    1.552</td>\n",
              "</tr>\n",
              "<tr>\n",
              "  <th>Application_Duration_woe</th>       <td>    1.6343</td> <td>    0.250</td> <td>    6.544</td> <td> 0.000</td> <td>    1.145</td> <td>    2.124</td>\n",
              "</tr>\n",
              "<tr>\n",
              "  <th>Email_Domain_Type_woe</th>          <td>    1.1623</td> <td>    0.144</td> <td>    8.089</td> <td> 0.000</td> <td>    0.881</td> <td>    1.444</td>\n",
              "</tr>\n",
              "<tr>\n",
              "  <th>Mobile_Number_Active_Since_woe</th> <td>    0.7721</td> <td>    0.150</td> <td>    5.145</td> <td> 0.000</td> <td>    0.478</td> <td>    1.066</td>\n",
              "</tr>\n",
              "<tr>\n",
              "  <th>GPS_di_rumah_kantor_woe</th>        <td>    1.2673</td> <td>    0.267</td> <td>    4.745</td> <td> 0.000</td> <td>    0.744</td> <td>    1.791</td>\n",
              "</tr>\n",
              "<tr>\n",
              "  <th>API_Fraud_Vendor_C_woe</th>         <td>    0.4380</td> <td>    0.229</td> <td>    1.912</td> <td> 0.056</td> <td>   -0.011</td> <td>    0.887</td>\n",
              "</tr>\n",
              "<tr>\n",
              "  <th>Mobile_Provider_woe</th>            <td>    0.7377</td> <td>    0.218</td> <td>    3.383</td> <td> 0.001</td> <td>    0.310</td> <td>    1.165</td>\n",
              "</tr>\n",
              "<tr>\n",
              "  <th>API_Fraud_Vendor_D_woe</th>         <td>    1.5323</td> <td>    0.230</td> <td>    6.658</td> <td> 0.000</td> <td>    1.081</td> <td>    1.983</td>\n",
              "</tr>\n",
              "<tr>\n",
              "  <th>Device_Type_woe</th>                <td>    0.6637</td> <td>    0.351</td> <td>    1.892</td> <td> 0.058</td> <td>   -0.024</td> <td>    1.351</td>\n",
              "</tr>\n",
              "</table><br/><br/>Possibly complete quasi-separation: A fraction 0.48 of observations can be<br/>perfectly predicted. This might indicate that there is complete<br/>quasi-separation. In this case some parameters will not be identified."
            ],
            "text/plain": [
              "<class 'statsmodels.iolib.summary.Summary'>\n",
              "\"\"\"\n",
              "                           Logit Regression Results                           \n",
              "==============================================================================\n",
              "Dep. Variable:                  Fraud   No. Observations:                 1334\n",
              "Model:                          Logit   Df Residuals:                     1324\n",
              "Method:                           MLE   Df Model:                            9\n",
              "Date:                Thu, 28 Oct 2021   Pseudo R-squ.:                  0.9115\n",
              "Time:                        16:45:16   Log-Likelihood:                -81.832\n",
              "converged:                       True   LL-Null:                       -924.66\n",
              "Covariance Type:            nonrobust   LLR p-value:                     0.000\n",
              "==================================================================================================\n",
              "                                     coef    std err          z      P>|z|      [0.025      0.975]\n",
              "--------------------------------------------------------------------------------------------------\n",
              "Device_Active_Since_woe            2.1897      0.330      6.633      0.000       1.543       2.837\n",
              "Device_Apps_Installed_woe          0.8692      0.349      2.493      0.013       0.186       1.552\n",
              "Application_Duration_woe           1.6343      0.250      6.544      0.000       1.145       2.124\n",
              "Email_Domain_Type_woe              1.1623      0.144      8.089      0.000       0.881       1.444\n",
              "Mobile_Number_Active_Since_woe     0.7721      0.150      5.145      0.000       0.478       1.066\n",
              "GPS_di_rumah_kantor_woe            1.2673      0.267      4.745      0.000       0.744       1.791\n",
              "API_Fraud_Vendor_C_woe             0.4380      0.229      1.912      0.056      -0.011       0.887\n",
              "Mobile_Provider_woe                0.7377      0.218      3.383      0.001       0.310       1.165\n",
              "API_Fraud_Vendor_D_woe             1.5323      0.230      6.658      0.000       1.081       1.983\n",
              "Device_Type_woe                    0.6637      0.351      1.892      0.058      -0.024       1.351\n",
              "==================================================================================================\n",
              "\n",
              "Possibly complete quasi-separation: A fraction 0.48 of observations can be\n",
              "perfectly predicted. This might indicate that there is complete\n",
              "quasi-separation. In this case some parameters will not be identified.\n",
              "\"\"\""
            ]
          },
          "metadata": {},
          "execution_count": 63
        }
      ]
    },
    {
      "cell_type": "code",
      "metadata": {
        "id": "dkcZdZ15sKUA",
        "outputId": "c70497b1-be99-44f0-dd55-5a35fa6c27e9",
        "colab": {
          "base_uri": "https://localhost:8080/",
          "height": 1000
        }
      },
      "source": [
        "# predicted probability\n",
        "# predicted proability\n",
        "train_pred = lr.predict_proba(X_train)[:,1]\n",
        "test_pred = lr.predict_proba(X_test)[:,1]\n",
        "\n",
        "# performance ks & roc ------\n",
        "train_perf = scpy.perf_eva(y_train, train_pred, title = \"train\")\n",
        "test_perf = scpy.perf_eva(y_test, test_pred, title = \"test\")\n",
        "\n",
        "# score ------\n",
        "card = scpy.scorecard(bins, lr, X_train.columns, points0=600, odds0=1/20, pdo=50, basepoints_eq0=False)\n",
        "# credit score\n",
        "train_score = scpy.scorecard_ply(train, card, print_step=0)\n",
        "test_score = scpy.scorecard_ply(test, card, print_step=0)\n",
        "\n",
        "# psi\n",
        "scpy.perf_psi(\n",
        "  score = {'train':train_score, 'test':test_score},\n",
        "  label = {'train':y_train, 'test':y_test}\n",
        ")"
      ],
      "execution_count": 64,
      "outputs": [
        {
          "output_type": "display_data",
          "data": {
            "image/png": "[encoded data removed]",
            "text/plain": [
              "<Figure size 432x288 with 2 Axes>"
            ]
          },
          "metadata": {
            "needs_background": "light"
          }
        },
        {
          "output_type": "display_data",
          "data": {
            "image/png": "[encoded data removed]",
            "text/plain": [
              "<Figure size 432x288 with 2 Axes>"
            ]
          },
          "metadata": {
            "needs_background": "light"
          }
        },
        {
          "output_type": "stream",
          "name": "stderr",
          "text": [
            "/usr/local/lib/python3.7/dist-packages/pandas/core/indexing.py:1781: SettingWithCopyWarning: \n",
            "A value is trying to be set on a copy of a slice from a DataFrame.\n",
            "Try using .loc[row_indexer,col_indexer] = value instead\n",
            "\n",
            "See the caveats in the documentation: https://pandas.pydata.org/pandas-docs/stable/user_guide/indexing.html#returning-a-view-versus-a-copy\n",
            "  self.obj[item_labels[indexer[info_axis]]] = value\n",
            "/usr/local/lib/python3.7/dist-packages/pandas/core/series.py:726: RuntimeWarning: divide by zero encountered in log\n",
            "  result = getattr(ufunc, method)(*inputs, **kwargs)\n",
            "/usr/local/lib/python3.7/dist-packages/pandas/core/series.py:726: RuntimeWarning: divide by zero encountered in log\n",
            "  result = getattr(ufunc, method)(*inputs, **kwargs)\n"
          ]
        },
        {
          "output_type": "error",
          "ename": "IndexError",
          "evalue": "ignored",
          "traceback": [
            "\u001b[0;31m---------------------------------------------------------------------------\u001b[0m",
            "\u001b[0;31mIndexError\u001b[0m                                Traceback (most recent call last)",
            "\u001b[0;32m<ipython-input-64-83910bddd157>\u001b[0m in \u001b[0;36m<module>\u001b[0;34m()\u001b[0m\n\u001b[1;32m     17\u001b[0m scpy.perf_psi(\n\u001b[1;32m     18\u001b[0m   \u001b[0mscore\u001b[0m \u001b[0;34m=\u001b[0m \u001b[0;34m{\u001b[0m\u001b[0;34m'train'\u001b[0m\u001b[0;34m:\u001b[0m\u001b[0mtrain_score\u001b[0m\u001b[0;34m,\u001b[0m \u001b[0;34m'test'\u001b[0m\u001b[0;34m:\u001b[0m\u001b[0mtest_score\u001b[0m\u001b[0;34m}\u001b[0m\u001b[0;34m,\u001b[0m\u001b[0;34m\u001b[0m\u001b[0;34m\u001b[0m\u001b[0m\n\u001b[0;32m---> 19\u001b[0;31m   \u001b[0mlabel\u001b[0m \u001b[0;34m=\u001b[0m \u001b[0;34m{\u001b[0m\u001b[0;34m'train'\u001b[0m\u001b[0;34m:\u001b[0m\u001b[0my_train\u001b[0m\u001b[0;34m,\u001b[0m \u001b[0;34m'test'\u001b[0m\u001b[0;34m:\u001b[0m\u001b[0my_test\u001b[0m\u001b[0;34m}\u001b[0m\u001b[0;34m\u001b[0m\u001b[0;34m\u001b[0m\u001b[0m\n\u001b[0m\u001b[1;32m     20\u001b[0m )\n",
            "\u001b[0;32m/usr/local/lib/python3.7/dist-packages/scorecardpy/perf.py\u001b[0m in \u001b[0;36mperf_psi\u001b[0;34m(score, label, title, x_limits, x_tick_break, show_plot, seed, return_distr_dat)\u001b[0m\n\u001b[1;32m    530\u001b[0m             \u001b[0;31m# ax1\u001b[0m\u001b[0;34m\u001b[0m\u001b[0;34m\u001b[0m\u001b[0;34m\u001b[0m\u001b[0m\n\u001b[1;32m    531\u001b[0m             \u001b[0mp1\u001b[0m \u001b[0;34m=\u001b[0m \u001b[0max1\u001b[0m\u001b[0;34m.\u001b[0m\u001b[0mbar\u001b[0m\u001b[0;34m(\u001b[0m\u001b[0mind\u001b[0m\u001b[0;34m,\u001b[0m \u001b[0mdistr_prob\u001b[0m\u001b[0;34m.\u001b[0m\u001b[0mdistr\u001b[0m\u001b[0;34m.\u001b[0m\u001b[0miloc\u001b[0m\u001b[0;34m[\u001b[0m\u001b[0;34m:\u001b[0m\u001b[0;34m,\u001b[0m\u001b[0;36m0\u001b[0m\u001b[0;34m]\u001b[0m\u001b[0;34m,\u001b[0m \u001b[0mwidth\u001b[0m\u001b[0;34m,\u001b[0m \u001b[0mcolor\u001b[0m\u001b[0;34m=\u001b[0m\u001b[0;34m(\u001b[0m\u001b[0;36m24\u001b[0m\u001b[0;34m/\u001b[0m\u001b[0;36m254\u001b[0m\u001b[0;34m,\u001b[0m \u001b[0;36m192\u001b[0m\u001b[0;34m/\u001b[0m\u001b[0;36m254\u001b[0m\u001b[0;34m,\u001b[0m \u001b[0;36m196\u001b[0m\u001b[0;34m/\u001b[0m\u001b[0;36m254\u001b[0m\u001b[0;34m)\u001b[0m\u001b[0;34m,\u001b[0m \u001b[0malpha\u001b[0m\u001b[0;34m=\u001b[0m\u001b[0;36m0.6\u001b[0m\u001b[0;34m)\u001b[0m\u001b[0;34m\u001b[0m\u001b[0;34m\u001b[0m\u001b[0m\n\u001b[0;32m--> 532\u001b[0;31m             \u001b[0mp2\u001b[0m \u001b[0;34m=\u001b[0m \u001b[0max1\u001b[0m\u001b[0;34m.\u001b[0m\u001b[0mbar\u001b[0m\u001b[0;34m(\u001b[0m\u001b[0mind\u001b[0m\u001b[0;34m+\u001b[0m\u001b[0mwidth\u001b[0m\u001b[0;34m,\u001b[0m \u001b[0mdistr_prob\u001b[0m\u001b[0;34m.\u001b[0m\u001b[0mdistr\u001b[0m\u001b[0;34m.\u001b[0m\u001b[0miloc\u001b[0m\u001b[0;34m[\u001b[0m\u001b[0;34m:\u001b[0m\u001b[0;34m,\u001b[0m\u001b[0;36m1\u001b[0m\u001b[0;34m]\u001b[0m\u001b[0;34m,\u001b[0m \u001b[0mwidth\u001b[0m\u001b[0;34m,\u001b[0m \u001b[0mcolor\u001b[0m\u001b[0;34m=\u001b[0m\u001b[0;34m(\u001b[0m\u001b[0;36m246\u001b[0m\u001b[0;34m/\u001b[0m\u001b[0;36m254\u001b[0m\u001b[0;34m,\u001b[0m \u001b[0;36m115\u001b[0m\u001b[0;34m/\u001b[0m\u001b[0;36m254\u001b[0m\u001b[0;34m,\u001b[0m \u001b[0;36m109\u001b[0m\u001b[0;34m/\u001b[0m\u001b[0;36m254\u001b[0m\u001b[0;34m)\u001b[0m\u001b[0;34m,\u001b[0m \u001b[0malpha\u001b[0m\u001b[0;34m=\u001b[0m\u001b[0;36m0.6\u001b[0m\u001b[0;34m)\u001b[0m\u001b[0;34m\u001b[0m\u001b[0;34m\u001b[0m\u001b[0m\n\u001b[0m\u001b[1;32m    533\u001b[0m             \u001b[0;31m# ax2\u001b[0m\u001b[0;34m\u001b[0m\u001b[0;34m\u001b[0m\u001b[0;34m\u001b[0m\u001b[0m\n\u001b[1;32m    534\u001b[0m             \u001b[0mp3\u001b[0m \u001b[0;34m=\u001b[0m \u001b[0max2\u001b[0m\u001b[0;34m.\u001b[0m\u001b[0mplot\u001b[0m\u001b[0;34m(\u001b[0m\u001b[0mind\u001b[0m\u001b[0;34m+\u001b[0m\u001b[0mwidth\u001b[0m\u001b[0;34m/\u001b[0m\u001b[0;36m2\u001b[0m\u001b[0;34m,\u001b[0m \u001b[0mdistr_prob\u001b[0m\u001b[0;34m.\u001b[0m\u001b[0mbadprob\u001b[0m\u001b[0;34m.\u001b[0m\u001b[0miloc\u001b[0m\u001b[0;34m[\u001b[0m\u001b[0;34m:\u001b[0m\u001b[0;34m,\u001b[0m\u001b[0;36m0\u001b[0m\u001b[0;34m]\u001b[0m\u001b[0;34m,\u001b[0m \u001b[0mcolor\u001b[0m\u001b[0;34m=\u001b[0m\u001b[0;34m(\u001b[0m\u001b[0;36m24\u001b[0m\u001b[0;34m/\u001b[0m\u001b[0;36m254\u001b[0m\u001b[0;34m,\u001b[0m \u001b[0;36m192\u001b[0m\u001b[0;34m/\u001b[0m\u001b[0;36m254\u001b[0m\u001b[0;34m,\u001b[0m \u001b[0;36m196\u001b[0m\u001b[0;34m/\u001b[0m\u001b[0;36m254\u001b[0m\u001b[0;34m)\u001b[0m\u001b[0;34m)\u001b[0m\u001b[0;34m\u001b[0m\u001b[0;34m\u001b[0m\u001b[0m\n",
            "\u001b[0;32m/usr/local/lib/python3.7/dist-packages/pandas/core/indexing.py\u001b[0m in \u001b[0;36m__getitem__\u001b[0;34m(self, key)\u001b[0m\n\u001b[1;32m    871\u001b[0m                     \u001b[0;31m# AttributeError for IntervalTree get_value\u001b[0m\u001b[0;34m\u001b[0m\u001b[0;34m\u001b[0m\u001b[0;34m\u001b[0m\u001b[0m\n\u001b[1;32m    872\u001b[0m                     \u001b[0;32mpass\u001b[0m\u001b[0;34m\u001b[0m\u001b[0;34m\u001b[0m\u001b[0m\n\u001b[0;32m--> 873\u001b[0;31m             \u001b[0;32mreturn\u001b[0m \u001b[0mself\u001b[0m\u001b[0;34m.\u001b[0m\u001b[0m_getitem_tuple\u001b[0m\u001b[0;34m(\u001b[0m\u001b[0mkey\u001b[0m\u001b[0;34m)\u001b[0m\u001b[0;34m\u001b[0m\u001b[0;34m\u001b[0m\u001b[0m\n\u001b[0m\u001b[1;32m    874\u001b[0m         \u001b[0;32melse\u001b[0m\u001b[0;34m:\u001b[0m\u001b[0;34m\u001b[0m\u001b[0;34m\u001b[0m\u001b[0m\n\u001b[1;32m    875\u001b[0m             \u001b[0;31m# we by definition only have the 0th axis\u001b[0m\u001b[0;34m\u001b[0m\u001b[0;34m\u001b[0m\u001b[0;34m\u001b[0m\u001b[0m\n",
            "\u001b[0;32m/usr/local/lib/python3.7/dist-packages/pandas/core/indexing.py\u001b[0m in \u001b[0;36m_getitem_tuple\u001b[0;34m(self, tup)\u001b[0m\n\u001b[1;32m   1441\u001b[0m     \u001b[0;32mdef\u001b[0m \u001b[0m_getitem_tuple\u001b[0m\u001b[0;34m(\u001b[0m\u001b[0mself\u001b[0m\u001b[0;34m,\u001b[0m \u001b[0mtup\u001b[0m\u001b[0;34m:\u001b[0m \u001b[0mTuple\u001b[0m\u001b[0;34m)\u001b[0m\u001b[0;34m:\u001b[0m\u001b[0;34m\u001b[0m\u001b[0;34m\u001b[0m\u001b[0m\n\u001b[1;32m   1442\u001b[0m \u001b[0;34m\u001b[0m\u001b[0m\n\u001b[0;32m-> 1443\u001b[0;31m         \u001b[0mself\u001b[0m\u001b[0;34m.\u001b[0m\u001b[0m_has_valid_tuple\u001b[0m\u001b[0;34m(\u001b[0m\u001b[0mtup\u001b[0m\u001b[0;34m)\u001b[0m\u001b[0;34m\u001b[0m\u001b[0;34m\u001b[0m\u001b[0m\n\u001b[0m\u001b[1;32m   1444\u001b[0m         \u001b[0;32mtry\u001b[0m\u001b[0;34m:\u001b[0m\u001b[0;34m\u001b[0m\u001b[0;34m\u001b[0m\u001b[0m\n\u001b[1;32m   1445\u001b[0m             \u001b[0;32mreturn\u001b[0m \u001b[0mself\u001b[0m\u001b[0;34m.\u001b[0m\u001b[0m_getitem_lowerdim\u001b[0m\u001b[0;34m(\u001b[0m\u001b[0mtup\u001b[0m\u001b[0;34m)\u001b[0m\u001b[0;34m\u001b[0m\u001b[0;34m\u001b[0m\u001b[0m\n",
            "\u001b[0;32m/usr/local/lib/python3.7/dist-packages/pandas/core/indexing.py\u001b[0m in \u001b[0;36m_has_valid_tuple\u001b[0;34m(self, key)\u001b[0m\n\u001b[1;32m    700\u001b[0m                 \u001b[0;32mraise\u001b[0m \u001b[0mIndexingError\u001b[0m\u001b[0;34m(\u001b[0m\u001b[0;34m\"Too many indexers\"\u001b[0m\u001b[0;34m)\u001b[0m\u001b[0;34m\u001b[0m\u001b[0;34m\u001b[0m\u001b[0m\n\u001b[1;32m    701\u001b[0m             \u001b[0;32mtry\u001b[0m\u001b[0;34m:\u001b[0m\u001b[0;34m\u001b[0m\u001b[0;34m\u001b[0m\u001b[0m\n\u001b[0;32m--> 702\u001b[0;31m                 \u001b[0mself\u001b[0m\u001b[0;34m.\u001b[0m\u001b[0m_validate_key\u001b[0m\u001b[0;34m(\u001b[0m\u001b[0mk\u001b[0m\u001b[0;34m,\u001b[0m \u001b[0mi\u001b[0m\u001b[0;34m)\u001b[0m\u001b[0;34m\u001b[0m\u001b[0;34m\u001b[0m\u001b[0m\n\u001b[0m\u001b[1;32m    703\u001b[0m             \u001b[0;32mexcept\u001b[0m \u001b[0mValueError\u001b[0m \u001b[0;32mas\u001b[0m \u001b[0merr\u001b[0m\u001b[0;34m:\u001b[0m\u001b[0;34m\u001b[0m\u001b[0;34m\u001b[0m\u001b[0m\n\u001b[1;32m    704\u001b[0m                 raise ValueError(\n",
            "\u001b[0;32m/usr/local/lib/python3.7/dist-packages/pandas/core/indexing.py\u001b[0m in \u001b[0;36m_validate_key\u001b[0;34m(self, key, axis)\u001b[0m\n\u001b[1;32m   1350\u001b[0m             \u001b[0;32mreturn\u001b[0m\u001b[0;34m\u001b[0m\u001b[0;34m\u001b[0m\u001b[0m\n\u001b[1;32m   1351\u001b[0m         \u001b[0;32melif\u001b[0m \u001b[0mis_integer\u001b[0m\u001b[0;34m(\u001b[0m\u001b[0mkey\u001b[0m\u001b[0;34m)\u001b[0m\u001b[0;34m:\u001b[0m\u001b[0;34m\u001b[0m\u001b[0;34m\u001b[0m\u001b[0m\n\u001b[0;32m-> 1352\u001b[0;31m             \u001b[0mself\u001b[0m\u001b[0;34m.\u001b[0m\u001b[0m_validate_integer\u001b[0m\u001b[0;34m(\u001b[0m\u001b[0mkey\u001b[0m\u001b[0;34m,\u001b[0m \u001b[0maxis\u001b[0m\u001b[0;34m)\u001b[0m\u001b[0;34m\u001b[0m\u001b[0;34m\u001b[0m\u001b[0m\n\u001b[0m\u001b[1;32m   1353\u001b[0m         \u001b[0;32melif\u001b[0m \u001b[0misinstance\u001b[0m\u001b[0;34m(\u001b[0m\u001b[0mkey\u001b[0m\u001b[0;34m,\u001b[0m \u001b[0mtuple\u001b[0m\u001b[0;34m)\u001b[0m\u001b[0;34m:\u001b[0m\u001b[0;34m\u001b[0m\u001b[0;34m\u001b[0m\u001b[0m\n\u001b[1;32m   1354\u001b[0m             \u001b[0;31m# a tuple should already have been caught by this point\u001b[0m\u001b[0;34m\u001b[0m\u001b[0;34m\u001b[0m\u001b[0;34m\u001b[0m\u001b[0m\n",
            "\u001b[0;32m/usr/local/lib/python3.7/dist-packages/pandas/core/indexing.py\u001b[0m in \u001b[0;36m_validate_integer\u001b[0;34m(self, key, axis)\u001b[0m\n\u001b[1;32m   1435\u001b[0m         \u001b[0mlen_axis\u001b[0m \u001b[0;34m=\u001b[0m \u001b[0mlen\u001b[0m\u001b[0;34m(\u001b[0m\u001b[0mself\u001b[0m\u001b[0;34m.\u001b[0m\u001b[0mobj\u001b[0m\u001b[0;34m.\u001b[0m\u001b[0m_get_axis\u001b[0m\u001b[0;34m(\u001b[0m\u001b[0maxis\u001b[0m\u001b[0;34m)\u001b[0m\u001b[0;34m)\u001b[0m\u001b[0;34m\u001b[0m\u001b[0;34m\u001b[0m\u001b[0m\n\u001b[1;32m   1436\u001b[0m         \u001b[0;32mif\u001b[0m \u001b[0mkey\u001b[0m \u001b[0;34m>=\u001b[0m \u001b[0mlen_axis\u001b[0m \u001b[0;32mor\u001b[0m \u001b[0mkey\u001b[0m \u001b[0;34m<\u001b[0m \u001b[0;34m-\u001b[0m\u001b[0mlen_axis\u001b[0m\u001b[0;34m:\u001b[0m\u001b[0;34m\u001b[0m\u001b[0;34m\u001b[0m\u001b[0m\n\u001b[0;32m-> 1437\u001b[0;31m             \u001b[0;32mraise\u001b[0m \u001b[0mIndexError\u001b[0m\u001b[0;34m(\u001b[0m\u001b[0;34m\"single positional indexer is out-of-bounds\"\u001b[0m\u001b[0;34m)\u001b[0m\u001b[0;34m\u001b[0m\u001b[0;34m\u001b[0m\u001b[0m\n\u001b[0m\u001b[1;32m   1438\u001b[0m \u001b[0;34m\u001b[0m\u001b[0m\n\u001b[1;32m   1439\u001b[0m     \u001b[0;31m# -------------------------------------------------------------------\u001b[0m\u001b[0;34m\u001b[0m\u001b[0;34m\u001b[0m\u001b[0;34m\u001b[0m\u001b[0m\n",
            "\u001b[0;31mIndexError\u001b[0m: single positional indexer is out-of-bounds"
          ]
        },
        {
          "output_type": "display_data",
          "data": {
            "image/png": "[encoded data removed]",
            "text/plain": [
              "<Figure size 432x288 with 2 Axes>"
            ]
          },
          "metadata": {
            "needs_background": "light"
          }
        }
      ]
    }
  ]
}