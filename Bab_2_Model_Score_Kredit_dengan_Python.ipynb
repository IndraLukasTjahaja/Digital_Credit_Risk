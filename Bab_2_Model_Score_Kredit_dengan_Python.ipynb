{
  "nbformat": 4,
  "nbformat_minor": 0,
  "metadata": {
    "colab": {
      "name": "Bab 2 - Model Score Kredit dengan Python.ipynb",
      "provenance": [],
      "include_colab_link": true
    },
    "kernelspec": {
      "name": "python3",
      "display_name": "Python 3"
    },
    "language_info": {
      "name": "python"
    }
  },
  "cells": [
    {
      "cell_type": "markdown",
      "metadata": {
        "id": "view-in-github",
        "colab_type": "text"
      },
      "source": [
        "<a href=\"https://colab.research.google.com/github/IndraLukasTjahaja/Digital_Credit_Risk/blob/main/Bab_2_Model_Score_Kredit_dengan_Python.ipynb\" target=\"_parent\"><img src=\"https://colab.research.google.com/assets/colab-badge.svg\" alt=\"Open In Colab\"/></a>"
      ]
    },
    {
      "cell_type": "markdown",
      "metadata": {
        "id": "cY2cb6kM055R"
      },
      "source": [
        "# Persiapan"
      ]
    },
    {
      "cell_type": "code",
      "metadata": {
        "id": "GlebNLne06za",
        "colab": {
          "base_uri": "https://localhost:8080/"
        },
        "outputId": "06dcf01b-fd47-460a-aff8-7799141bb0b1"
      },
      "source": [
        "# Memperbarui Library\n",
        "!pip install scikit-learn --upgrade\n",
        "\n",
        "import sklearn as skl\n",
        "print(skl. __version__) \n",
        "\n",
        "# Lalu restart ulang runtime nya"
      ],
      "execution_count": 247,
      "outputs": [
        {
          "output_type": "stream",
          "name": "stdout",
          "text": [
            "Requirement already satisfied: scikit-learn in /usr/local/lib/python3.7/dist-packages (1.0.1)\n",
            "Requirement already satisfied: numpy>=1.14.6 in /usr/local/lib/python3.7/dist-packages (from scikit-learn) (1.19.5)\n",
            "Requirement already satisfied: joblib>=0.11 in /usr/local/lib/python3.7/dist-packages (from scikit-learn) (1.1.0)\n",
            "Requirement already satisfied: scipy>=1.1.0 in /usr/local/lib/python3.7/dist-packages (from scikit-learn) (1.4.1)\n",
            "Requirement already satisfied: threadpoolctl>=2.0.0 in /usr/local/lib/python3.7/dist-packages (from scikit-learn) (3.0.0)\n",
            "1.0.1\n"
          ]
        }
      ]
    },
    {
      "cell_type": "markdown",
      "metadata": {
        "id": "EDZ9tBVB9ziI"
      },
      "source": [
        "# Membaca Data"
      ]
    },
    {
      "cell_type": "markdown",
      "metadata": {
        "id": "63e2vWzFg-h7"
      },
      "source": [
        "## 2.3.2.1 Persiapan data dan impor ke Python\n",
        "\n",
        "Impor data yang akan digunakan untuk membuat model"
      ]
    },
    {
      "cell_type": "code",
      "metadata": {
        "id": "X4yjdoBnl9Xv"
      },
      "source": [
        "# library panda untuk menggunakan data frame\n",
        "import pandas as pd\n",
        "\n",
        "# Impor data dari excel xls ke Python\n",
        "# Pembaca dapat langsung menunjuk kepada file excel yang terletak di website pendamping buku ini\n",
        "# atau mengunduh terlebih dahulu dan menunjuk ke file excel di lokasi hard drive\n",
        "# contoh: df = pd.read_excel('C:\\User\\pembaca\\downloads\\Credit_Scoring_Dataset.xlsx')\n",
        "\n",
        "df = pd.read_excel('https://github.com/IndraLukasTjahaja/Digital_Credit_Risk/raw/main/Credit_Scoring_Dataset.xlsx')"
      ],
      "execution_count": 248,
      "outputs": []
    },
    {
      "cell_type": "markdown",
      "metadata": {
        "id": "V3eszqe1fhP_"
      },
      "source": [
        "## # 2.3.2.3 Struktur data"
      ]
    },
    {
      "cell_type": "code",
      "metadata": {
        "colab": {
          "base_uri": "https://localhost:8080/",
          "height": 505
        },
        "id": "xDekPk8lmZ3N",
        "outputId": "9024230b-b787-4092-e143-c98a4900e567"
      },
      "source": [
        "# Melihat sample dari dataset\n",
        "df.head(10) # Menampilkan 10 baris teratas dari dataframe df"
      ],
      "execution_count": 249,
      "outputs": [
        {
          "output_type": "execute_result",
          "data": {
            "text/html": [
              "<div>\n",
              "<style scoped>\n",
              "    .dataframe tbody tr th:only-of-type {\n",
              "        vertical-align: middle;\n",
              "    }\n",
              "\n",
              "    .dataframe tbody tr th {\n",
              "        vertical-align: top;\n",
              "    }\n",
              "\n",
              "    .dataframe thead th {\n",
              "        text-align: right;\n",
              "    }\n",
              "</style>\n",
              "<table border=\"1\" class=\"dataframe\">\n",
              "  <thead>\n",
              "    <tr style=\"text-align: right;\">\n",
              "      <th></th>\n",
              "      <th>ID</th>\n",
              "      <th>gagal_bayar</th>\n",
              "      <th>Lama_Cicilan</th>\n",
              "      <th>Tujuan_Pinjaman</th>\n",
              "      <th>Jumlah_Pinjaman</th>\n",
              "      <th>Pekerjaan</th>\n",
              "      <th>Pendapatan_perbulan</th>\n",
              "      <th>Lama_Bekerja</th>\n",
              "      <th>Status</th>\n",
              "      <th>Kepemilikan_Rumah</th>\n",
              "      <th>Alamat_Rumah</th>\n",
              "      <th>Alamat_Kantor</th>\n",
              "      <th>Usia</th>\n",
              "      <th>Lama_tinggal_ditempat_sekarang</th>\n",
              "      <th>SLIK_Kolektibilitas</th>\n",
              "      <th>SLIK_Cicilan_Bulanan</th>\n",
              "      <th>SLIK_Outstanding_CC</th>\n",
              "      <th>API_CreditScore_Vendor_A</th>\n",
              "      <th>API_CreditScore_Vendor_B</th>\n",
              "      <th>Device_Type</th>\n",
              "      <th>Device_Apps_Installed</th>\n",
              "      <th>Device_Active_Since</th>\n",
              "      <th>Device_Apps_Segmentation</th>\n",
              "      <th>Mobile_Provider</th>\n",
              "      <th>Mobile_Number_Active_Since</th>\n",
              "      <th>Email_Domain_Type</th>\n",
              "    </tr>\n",
              "  </thead>\n",
              "  <tbody>\n",
              "    <tr>\n",
              "      <th>0</th>\n",
              "      <td>ABC0001</td>\n",
              "      <td>0_Bayar</td>\n",
              "      <td>1</td>\n",
              "      <td>elektronik</td>\n",
              "      <td>500000</td>\n",
              "      <td>1_pegawai_tetap</td>\n",
              "      <td>5. &gt;20 juta</td>\n",
              "      <td>5_&gt;7_tahun_kerja</td>\n",
              "      <td>2_menikah</td>\n",
              "      <td>1_milik_sendiri</td>\n",
              "      <td>Daerah_3</td>\n",
              "      <td>Daerah_3</td>\n",
              "      <td>67.0</td>\n",
              "      <td>4_&gt;10_tahun</td>\n",
              "      <td>Kolek 1</td>\n",
              "      <td>859684.752267</td>\n",
              "      <td>0.000000e+00</td>\n",
              "      <td>305</td>\n",
              "      <td>192</td>\n",
              "      <td>Android</td>\n",
              "      <td>6</td>\n",
              "      <td>2_1_ke_3_tahun</td>\n",
              "      <td>Social_Media</td>\n",
              "      <td>Telco_A</td>\n",
              "      <td>1_Kurang_1_bulan</td>\n",
              "      <td>Public_Domain</td>\n",
              "    </tr>\n",
              "    <tr>\n",
              "      <th>1</th>\n",
              "      <td>ABC0002</td>\n",
              "      <td>1_Gagal</td>\n",
              "      <td>1</td>\n",
              "      <td>peralatan_rumahtangga</td>\n",
              "      <td>2000000</td>\n",
              "      <td>1_pegawai_tetap</td>\n",
              "      <td>1. &lt; 1 juta</td>\n",
              "      <td>3_1-4_tahun_kerja</td>\n",
              "      <td>1_belum_menikah</td>\n",
              "      <td>1_milik_sendiri</td>\n",
              "      <td>Daerah_2</td>\n",
              "      <td>Daerah_2</td>\n",
              "      <td>22.0</td>\n",
              "      <td>2_1-5_tahun</td>\n",
              "      <td>Kolek 3</td>\n",
              "      <td>743722.804144</td>\n",
              "      <td>1.301412e+06</td>\n",
              "      <td>252</td>\n",
              "      <td>86</td>\n",
              "      <td>IOS</td>\n",
              "      <td>9</td>\n",
              "      <td>3_Lebih_3_tahun</td>\n",
              "      <td>Games</td>\n",
              "      <td>Telco_A</td>\n",
              "      <td>1_Kurang_1_bulan</td>\n",
              "      <td>Public_Domain</td>\n",
              "    </tr>\n",
              "    <tr>\n",
              "      <th>2</th>\n",
              "      <td>ABC0003</td>\n",
              "      <td>0_Bayar</td>\n",
              "      <td>3</td>\n",
              "      <td>makanan</td>\n",
              "      <td>1000000</td>\n",
              "      <td>3_wiraswasta</td>\n",
              "      <td>1. &lt; 1 juta</td>\n",
              "      <td>4_4-7_tahun_kerja</td>\n",
              "      <td>2_menikah</td>\n",
              "      <td>1_milik_sendiri</td>\n",
              "      <td>Daerah_2</td>\n",
              "      <td>Daerah_1</td>\n",
              "      <td>49.0</td>\n",
              "      <td>3_5-10_tahun</td>\n",
              "      <td>Kolek 1</td>\n",
              "      <td>265387.462890</td>\n",
              "      <td>0.000000e+00</td>\n",
              "      <td>858</td>\n",
              "      <td>97</td>\n",
              "      <td>Android</td>\n",
              "      <td>36</td>\n",
              "      <td>3_Lebih_3_tahun</td>\n",
              "      <td>Games</td>\n",
              "      <td>Telco_A</td>\n",
              "      <td>2_Kurang_1_tahun</td>\n",
              "      <td>Public_Domain</td>\n",
              "    </tr>\n",
              "    <tr>\n",
              "      <th>3</th>\n",
              "      <td>ABC0004</td>\n",
              "      <td>0_Bayar</td>\n",
              "      <td>6</td>\n",
              "      <td>liburan</td>\n",
              "      <td>2000000</td>\n",
              "      <td>1_pegawai_tetap</td>\n",
              "      <td>1. &lt; 1 juta</td>\n",
              "      <td>4_4-7_tahun_kerja</td>\n",
              "      <td>2_menikah</td>\n",
              "      <td>3_bersama_keluarga</td>\n",
              "      <td>Daerah_1</td>\n",
              "      <td>Daerah_1</td>\n",
              "      <td>45.0</td>\n",
              "      <td>4_&gt;10_tahun</td>\n",
              "      <td>Kolek 3</td>\n",
              "      <td>443234.967513</td>\n",
              "      <td>8.094420e+05</td>\n",
              "      <td>108</td>\n",
              "      <td>159</td>\n",
              "      <td>Android</td>\n",
              "      <td>14</td>\n",
              "      <td>3_Lebih_3_tahun</td>\n",
              "      <td>Online_Lending</td>\n",
              "      <td>Telco_E</td>\n",
              "      <td>2_Kurang_1_tahun</td>\n",
              "      <td>Professional_Domain</td>\n",
              "    </tr>\n",
              "    <tr>\n",
              "      <th>4</th>\n",
              "      <td>ABC0005</td>\n",
              "      <td>1_Gagal</td>\n",
              "      <td>4</td>\n",
              "      <td>pendidikan</td>\n",
              "      <td>1000000</td>\n",
              "      <td>1_pegawai_tetap</td>\n",
              "      <td>1. &lt; 1 juta</td>\n",
              "      <td>3_1-4_tahun_kerja</td>\n",
              "      <td>2_menikah</td>\n",
              "      <td>3_bersama_keluarga</td>\n",
              "      <td>Daerah_3</td>\n",
              "      <td>Daerah_3</td>\n",
              "      <td>53.0</td>\n",
              "      <td>4_&gt;10_tahun</td>\n",
              "      <td>Kolek 2</td>\n",
              "      <td>102046.058576</td>\n",
              "      <td>7.548064e+05</td>\n",
              "      <td>487</td>\n",
              "      <td>63</td>\n",
              "      <td>Android</td>\n",
              "      <td>10</td>\n",
              "      <td>3_Lebih_3_tahun</td>\n",
              "      <td>Shopping</td>\n",
              "      <td>Telco_D</td>\n",
              "      <td>1_Kurang_1_bulan</td>\n",
              "      <td>Public_Domain</td>\n",
              "    </tr>\n",
              "    <tr>\n",
              "      <th>5</th>\n",
              "      <td>ABC0006</td>\n",
              "      <td>0_Bayar</td>\n",
              "      <td>5</td>\n",
              "      <td>makanan</td>\n",
              "      <td>500000</td>\n",
              "      <td>3_wiraswasta</td>\n",
              "      <td>5. &gt;20 juta</td>\n",
              "      <td>3_1-4_tahun_kerja</td>\n",
              "      <td>2_menikah</td>\n",
              "      <td>3_bersama_keluarga</td>\n",
              "      <td>Daerah_1</td>\n",
              "      <td>Daerah_2</td>\n",
              "      <td>35.0</td>\n",
              "      <td>4_&gt;10_tahun</td>\n",
              "      <td>Kolek 3</td>\n",
              "      <td>480608.200003</td>\n",
              "      <td>3.222612e+06</td>\n",
              "      <td>595</td>\n",
              "      <td>200</td>\n",
              "      <td>Android</td>\n",
              "      <td>5</td>\n",
              "      <td>3_Lebih_3_tahun</td>\n",
              "      <td>Social_Media</td>\n",
              "      <td>Telco_A</td>\n",
              "      <td>2_Kurang_1_tahun</td>\n",
              "      <td>Public_Domain</td>\n",
              "    </tr>\n",
              "    <tr>\n",
              "      <th>6</th>\n",
              "      <td>ABC0007</td>\n",
              "      <td>0_Bayar</td>\n",
              "      <td>1</td>\n",
              "      <td>liburan</td>\n",
              "      <td>500000</td>\n",
              "      <td>1_pegawai_tetap</td>\n",
              "      <td>3. 5 - 10 juta</td>\n",
              "      <td>5_&gt;7_tahun_kerja</td>\n",
              "      <td>2_menikah</td>\n",
              "      <td>1_milik_sendiri</td>\n",
              "      <td>Daerah_2</td>\n",
              "      <td>Daerah_3</td>\n",
              "      <td>53.0</td>\n",
              "      <td>4_&gt;10_tahun</td>\n",
              "      <td>Kolek 3</td>\n",
              "      <td>133535.433266</td>\n",
              "      <td>4.303138e+05</td>\n",
              "      <td>334</td>\n",
              "      <td>172</td>\n",
              "      <td>Android</td>\n",
              "      <td>37</td>\n",
              "      <td>3_Lebih_3_tahun</td>\n",
              "      <td>Productivity</td>\n",
              "      <td>Telco_C</td>\n",
              "      <td>5_Lebih_5_tahun</td>\n",
              "      <td>Public_Domain</td>\n",
              "    </tr>\n",
              "    <tr>\n",
              "      <th>7</th>\n",
              "      <td>ABC0008</td>\n",
              "      <td>0_Bayar</td>\n",
              "      <td>5</td>\n",
              "      <td>buka_bisnis</td>\n",
              "      <td>500000</td>\n",
              "      <td>4_tidak_bekerja</td>\n",
              "      <td>1. &lt; 1 juta</td>\n",
              "      <td>3_1-4_tahun_kerja</td>\n",
              "      <td>2_menikah</td>\n",
              "      <td>2_sewa</td>\n",
              "      <td>Daerah_1</td>\n",
              "      <td>Daerah_1</td>\n",
              "      <td>35.0</td>\n",
              "      <td>2_1-5_tahun</td>\n",
              "      <td>Kolek 3</td>\n",
              "      <td>384367.579947</td>\n",
              "      <td>5.326622e+04</td>\n",
              "      <td>107</td>\n",
              "      <td>186</td>\n",
              "      <td>Android</td>\n",
              "      <td>35</td>\n",
              "      <td>3_Lebih_3_tahun</td>\n",
              "      <td>Productivity</td>\n",
              "      <td>Telco_E</td>\n",
              "      <td>5_Lebih_5_tahun</td>\n",
              "      <td>Public_Domain</td>\n",
              "    </tr>\n",
              "    <tr>\n",
              "      <th>8</th>\n",
              "      <td>ABC0009</td>\n",
              "      <td>0_Bayar</td>\n",
              "      <td>1</td>\n",
              "      <td>peralatan_rumahtangga</td>\n",
              "      <td>500000</td>\n",
              "      <td>3_wiraswasta</td>\n",
              "      <td>4. 10 - 20 juta</td>\n",
              "      <td>4_4-7_tahun_kerja</td>\n",
              "      <td>3_bercerai</td>\n",
              "      <td>1_milik_sendiri</td>\n",
              "      <td>Daerah_2</td>\n",
              "      <td>Daerah_1</td>\n",
              "      <td>61.0</td>\n",
              "      <td>4_&gt;10_tahun</td>\n",
              "      <td>Kolek 3</td>\n",
              "      <td>527874.467181</td>\n",
              "      <td>1.954899e+06</td>\n",
              "      <td>45</td>\n",
              "      <td>235</td>\n",
              "      <td>IOS</td>\n",
              "      <td>17</td>\n",
              "      <td>2_1_ke_3_tahun</td>\n",
              "      <td>Social_Media</td>\n",
              "      <td>Telco_A</td>\n",
              "      <td>3_1_ke_2_tahun</td>\n",
              "      <td>Public_Domain</td>\n",
              "    </tr>\n",
              "    <tr>\n",
              "      <th>9</th>\n",
              "      <td>ABC0010</td>\n",
              "      <td>1_Gagal</td>\n",
              "      <td>3</td>\n",
              "      <td>liburan</td>\n",
              "      <td>500000</td>\n",
              "      <td>4_tidak_bekerja</td>\n",
              "      <td>1. &lt; 1 juta</td>\n",
              "      <td>1_tidak_bekerja</td>\n",
              "      <td>3_bercerai</td>\n",
              "      <td>1_milik_sendiri</td>\n",
              "      <td>Daerah_2</td>\n",
              "      <td>Daerah_2</td>\n",
              "      <td>28.0</td>\n",
              "      <td>2_1-5_tahun</td>\n",
              "      <td>Kolek 1</td>\n",
              "      <td>226586.344920</td>\n",
              "      <td>0.000000e+00</td>\n",
              "      <td>254</td>\n",
              "      <td>285</td>\n",
              "      <td>Android</td>\n",
              "      <td>17</td>\n",
              "      <td>2_1_ke_3_tahun</td>\n",
              "      <td>Social_Media</td>\n",
              "      <td>Telco_C</td>\n",
              "      <td>1_Kurang_1_bulan</td>\n",
              "      <td>Public_Domain</td>\n",
              "    </tr>\n",
              "  </tbody>\n",
              "</table>\n",
              "</div>"
            ],
            "text/plain": [
              "        ID gagal_bayar  ...  Mobile_Number_Active_Since    Email_Domain_Type\n",
              "0  ABC0001     0_Bayar  ...            1_Kurang_1_bulan        Public_Domain\n",
              "1  ABC0002     1_Gagal  ...            1_Kurang_1_bulan        Public_Domain\n",
              "2  ABC0003     0_Bayar  ...            2_Kurang_1_tahun        Public_Domain\n",
              "3  ABC0004     0_Bayar  ...            2_Kurang_1_tahun  Professional_Domain\n",
              "4  ABC0005     1_Gagal  ...            1_Kurang_1_bulan        Public_Domain\n",
              "5  ABC0006     0_Bayar  ...            2_Kurang_1_tahun        Public_Domain\n",
              "6  ABC0007     0_Bayar  ...             5_Lebih_5_tahun        Public_Domain\n",
              "7  ABC0008     0_Bayar  ...             5_Lebih_5_tahun        Public_Domain\n",
              "8  ABC0009     0_Bayar  ...              3_1_ke_2_tahun        Public_Domain\n",
              "9  ABC0010     1_Gagal  ...            1_Kurang_1_bulan        Public_Domain\n",
              "\n",
              "[10 rows x 26 columns]"
            ]
          },
          "metadata": {},
          "execution_count": 249
        }
      ]
    },
    {
      "cell_type": "code",
      "metadata": {
        "colab": {
          "base_uri": "https://localhost:8080/"
        },
        "id": "GrGQd7ePjIka",
        "outputId": "37ebfda5-0efb-496a-a46e-83b1d2196018"
      },
      "source": [
        "# Melihat penjelasan singkat dan tipe data\n",
        "df.info()"
      ],
      "execution_count": 250,
      "outputs": [
        {
          "output_type": "stream",
          "name": "stdout",
          "text": [
            "<class 'pandas.core.frame.DataFrame'>\n",
            "RangeIndex: 1000 entries, 0 to 999\n",
            "Data columns (total 26 columns):\n",
            " #   Column                          Non-Null Count  Dtype  \n",
            "---  ------                          --------------  -----  \n",
            " 0   ID                              1000 non-null   object \n",
            " 1   gagal_bayar                     1000 non-null   object \n",
            " 2   Lama_Cicilan                    1000 non-null   int64  \n",
            " 3   Tujuan_Pinjaman                 1000 non-null   object \n",
            " 4   Jumlah_Pinjaman                 1000 non-null   int64  \n",
            " 5   Pekerjaan                       988 non-null    object \n",
            " 6   Pendapatan_perbulan             990 non-null    object \n",
            " 7   Lama_Bekerja                    973 non-null    object \n",
            " 8   Status                          996 non-null    object \n",
            " 9   Kepemilikan_Rumah               997 non-null    object \n",
            " 10  Alamat_Rumah                    1000 non-null   object \n",
            " 11  Alamat_Kantor                   1000 non-null   object \n",
            " 12  Usia                            999 non-null    float64\n",
            " 13  Lama_tinggal_ditempat_sekarang  998 non-null    object \n",
            " 14  SLIK_Kolektibilitas             1000 non-null   object \n",
            " 15  SLIK_Cicilan_Bulanan            1000 non-null   float64\n",
            " 16  SLIK_Outstanding_CC             1000 non-null   float64\n",
            " 17  API_CreditScore_Vendor_A        1000 non-null   int64  \n",
            " 18  API_CreditScore_Vendor_B        1000 non-null   int64  \n",
            " 19  Device_Type                     1000 non-null   object \n",
            " 20  Device_Apps_Installed           1000 non-null   int64  \n",
            " 21  Device_Active_Since             1000 non-null   object \n",
            " 22  Device_Apps_Segmentation        1000 non-null   object \n",
            " 23  Mobile_Provider                 1000 non-null   object \n",
            " 24  Mobile_Number_Active_Since      1000 non-null   object \n",
            " 25  Email_Domain_Type               1000 non-null   object \n",
            "dtypes: float64(3), int64(5), object(18)\n",
            "memory usage: 203.2+ KB\n"
          ]
        }
      ]
    },
    {
      "cell_type": "markdown",
      "metadata": {
        "id": "FRguzJvHfmVF"
      },
      "source": [
        "## # 2.3.2.4 Tipe data"
      ]
    },
    {
      "cell_type": "code",
      "metadata": {
        "id": "Mf2Ht_6cmehV"
      },
      "source": [
        "# Merubah tipe data menjadi tipe karakter \n",
        "df['ID'] = df.ID.astype('category')\n",
        "df['gagal_bayar'] = df.gagal_bayar.astype('category')\n",
        "df['Pekerjaan'] = df.Pekerjaan.astype('category')\n",
        "df['Tujuan_Pinjaman'] = df.Tujuan_Pinjaman.astype('category')\n",
        "df['Pendapatan_perbulan'] = df.Pendapatan_perbulan.astype('category')\n",
        "df['Lama_Bekerja'] = df.Lama_Bekerja.astype('category')\n",
        "df['Status'] = df.Status.astype('category')\n",
        "df['Kepemilikan_Rumah'] = df.Kepemilikan_Rumah.astype('category')\n",
        "df['Alamat_Rumah'] = df.Alamat_Rumah.astype('category')\n",
        "df['Alamat_Kantor'] = df.Alamat_Kantor.astype('category')\n",
        "df['Lama_tinggal_ditempat_sekarang'] = df.Lama_tinggal_ditempat_sekarang.astype('category')\n",
        "df['Device_Type'] = df.Device_Type.astype('category')\n",
        "df['Device_Active_Since'] = df.Device_Active_Since.astype('category')\n",
        "df['SLIK_Kolektibilitas'] = df.SLIK_Kolektibilitas.astype('category')\n",
        "df['Device_Apps_Segmentation'] = df.Device_Apps_Segmentation.astype('category')\n",
        "df['Mobile_Provider'] = df.Mobile_Provider.astype('category')\n",
        "df['Mobile_Number_Active_Since'] = df.Mobile_Number_Active_Since.astype('category')\n",
        "df['Email_Domain_Type'] = df.Email_Domain_Type.astype('category')\n",
        "\n",
        "# Merubah tipe data menjadi tipe karakter int64 untuk angka bulat\n",
        "df['API_CreditScore_Vendor_A'] = df.API_CreditScore_Vendor_A.astype('int64')\n",
        "df['API_CreditScore_Vendor_B'] = df.API_CreditScore_Vendor_B.astype('int64')\n",
        "df['Device_Apps_Installed'] = df.Device_Apps_Installed.astype('int64')\n",
        "\n",
        "# Merubah tipe data menjadi tipe karakter float64 untuk angka dengan koma\n",
        "# Jika dalam kolom tersebut terdapat null, maka harus di simpan dalam tipe float\n",
        "df['Lama_Cicilan'] = df.Lama_Cicilan.astype('float64')\n",
        "df['Usia'] = df.Usia.astype('float64')\n",
        "df['Jumlah_Pinjaman'] = df.Jumlah_Pinjaman.astype('float64')\n",
        "df['SLIK_Cicilan_Bulanan'] = df.SLIK_Cicilan_Bulanan.astype('float64')\n",
        "df['SLIK_Outstanding_CC'] = df.SLIK_Outstanding_CC.astype('float64')"
      ],
      "execution_count": 251,
      "outputs": []
    },
    {
      "cell_type": "markdown",
      "metadata": {
        "id": "TUopkF91gkJh"
      },
      "source": [
        "## 2.3.2.5.3 Mengidentifikasi outlier dan validitas data"
      ]
    },
    {
      "cell_type": "code",
      "metadata": {
        "colab": {
          "base_uri": "https://localhost:8080/",
          "height": 283
        },
        "id": "WUD8I46sekc6",
        "outputId": "33bc85a7-78ee-4bec-f773-8f9f189d5984"
      },
      "source": [
        "df.boxplot(column=['Usia'])"
      ],
      "execution_count": 252,
      "outputs": [
        {
          "output_type": "execute_result",
          "data": {
            "text/plain": [
              "<matplotlib.axes._subplots.AxesSubplot at 0x7f01109fa050>"
            ]
          },
          "metadata": {},
          "execution_count": 252
        },
        {
          "output_type": "display_data",
          "data": {
            "image/png": "[encoded data removed]",
            "text/plain": [
              "<Figure size 432x288 with 1 Axes>"
            ]
          },
          "metadata": {
            "needs_background": "light"
          }
        }
      ]
    },
    {
      "cell_type": "markdown",
      "metadata": {
        "id": "i3Kjx2z1gr7D"
      },
      "source": [
        "## Latihan membuat Box Plot"
      ]
    },
    {
      "cell_type": "code",
      "metadata": {
        "id": "wGUM9qPO8SIv"
      },
      "source": [
        "# Latihan untuk boxplot variabel SLIK_Cicilan_Bulanan\n",
        "# Tulis kode disini\n",
        "\n"
      ],
      "execution_count": 253,
      "outputs": []
    },
    {
      "cell_type": "code",
      "metadata": {
        "id": "SuZre_suM2w1"
      },
      "source": [
        "# Latihan untuk boxplot variabel SLIK_Outstanding_CC\n",
        "# Tulis kode disini\n",
        "\n"
      ],
      "execution_count": 254,
      "outputs": []
    },
    {
      "cell_type": "markdown",
      "metadata": {
        "id": "r2dLfIxig1hP"
      },
      "source": [
        "# Missing Data Treatment (Apa yang harus dilakukan terhadap data yang kosong?)"
      ]
    },
    {
      "cell_type": "markdown",
      "metadata": {
        "id": "RCVxCTb-gvRu"
      },
      "source": [
        "## 2.3.2.5.4.1 Imputasi baris data yang kosong dengan asumsi nilai\n"
      ]
    },
    {
      "cell_type": "code",
      "metadata": {
        "colab": {
          "base_uri": "https://localhost:8080/"
        },
        "id": "w5L8DvciYr0X",
        "outputId": "81e8cebf-4405-43ad-84ac-9d2d19743ecf"
      },
      "source": [
        "# Koding berikut menggantikan missing value dari semua variabel dengan\n",
        "# nilai yang paling sering muncul (modus) untuk variabel kategori dan nilai rata-rata untuk variabel numerik\n",
        "\n",
        "# Memisahkan variabel kategori dengan variabel numerik\n",
        "df_numerik = df.select_dtypes(include=['float64','int64','int'])\n",
        "df_kategori = df.select_dtypes(exclude = ['float64','int64','int'])\n",
        "\n",
        "# Untuk variabel numerik, data yang kosong diganti dengan nilai rata-rata\n",
        "for kolom in df_numerik.columns:\n",
        "  df_numerik[kolom].fillna(df_numerik[kolom].mean(), inplace=True)\n",
        "\n",
        "# Untuk variabel kategori, data yang kosong diganti dengan nilai modus\n",
        "for kolom in df_kategori.columns:\n",
        "  df_kategori[kolom].fillna(df_kategori[kolom].mode()[0], inplace=True)\n",
        "\n",
        "# Menggabungkan dataset variabel kategori dan dengan variabel numerik\n",
        "df_pembersihan_1 = pd.concat([df_numerik, df_kategori], axis = 1)"
      ],
      "execution_count": 255,
      "outputs": [
        {
          "output_type": "stream",
          "name": "stderr",
          "text": [
            "/usr/local/lib/python3.7/dist-packages/pandas/core/series.py:4536: SettingWithCopyWarning: \n",
            "A value is trying to be set on a copy of a slice from a DataFrame\n",
            "\n",
            "See the caveats in the documentation: https://pandas.pydata.org/pandas-docs/stable/user_guide/indexing.html#returning-a-view-versus-a-copy\n",
            "  downcast=downcast,\n"
          ]
        }
      ]
    },
    {
      "cell_type": "markdown",
      "metadata": {
        "id": "12H53azahbxl"
      },
      "source": [
        "## # 2.3.2.5.4.2 Tidak menggunakan baris data yang kosong (Drop Data)\n"
      ]
    },
    {
      "cell_type": "code",
      "metadata": {
        "id": "kX5J6yALYy48"
      },
      "source": [
        "# Menggunakan fungsi dropna() untuk menghapus semua baris yang memiliki data kosong\n",
        "df_pembersihan_2 = df.dropna()"
      ],
      "execution_count": 256,
      "outputs": []
    },
    {
      "cell_type": "markdown",
      "metadata": {
        "id": "6B6XandThftC"
      },
      "source": [
        "## 2.3.2.5.4.3 Tidak menggunakan kolom data yang kosong (Drop Variable)\n"
      ]
    },
    {
      "cell_type": "code",
      "metadata": {
        "id": "GCNAZFB_Y6-G"
      },
      "source": [
        "# Menggunakan fungsi dropna(axis=’columns’) untuk menghapus kolom yang memiliki data kosong\n",
        "df_pembersihan_3 = df.dropna(axis='columns')"
      ],
      "execution_count": 257,
      "outputs": []
    },
    {
      "cell_type": "markdown",
      "metadata": {
        "id": "4SJasWmnhjZ2"
      },
      "source": [
        "## 2.3.2.5.4.4 Kategorikan data yang kosong (Flag)"
      ]
    },
    {
      "cell_type": "code",
      "metadata": {
        "colab": {
          "base_uri": "https://localhost:8080/"
        },
        "id": "y6J9LrueZIQS",
        "outputId": "f1f19f2d-cbcd-4921-d895-1ea9ab502958"
      },
      "source": [
        "# Koding berikut memberikan tanda flagging untuk baris data yang berisikan baris data kosong\n",
        "\n",
        "# Memisahkan variabel kategori dengan variabel numerik\n",
        "df_numerik = df.select_dtypes(include=['float64','int64','int'])\n",
        "df_kategori = df.select_dtypes(exclude = ['float64','int64','int'])\n",
        "\n",
        "for kolom in df_numerik.columns:\n",
        "  # Membuat kolom baru untuk baris data yang kosong\n",
        "  df_numerik[kolom+\"_missing\"] = df_numerik[kolom].isnull()\n",
        "  df_numerik[kolom].fillna(0, inplace=True)\n",
        "\n",
        "for kolom in df_kategori.columns:\n",
        "  # Kolom kategori harus secara eksplisit menambahkan data kategori baru\n",
        "  df_kategori[kolom] = df_kategori[kolom].cat.add_categories(\"00_Data_Kosong\")\n",
        "  df_kategori[kolom].fillna(\"00_Data_Kosong\", inplace=True)\n",
        "\n",
        "# Menggabungkan dataset variabel kategori dan dengan variabel numerik\n",
        "df_pembersihan_4 = pd.concat([df_numerik, df_kategori], axis = 1)"
      ],
      "execution_count": 258,
      "outputs": [
        {
          "output_type": "stream",
          "name": "stderr",
          "text": [
            "/usr/local/lib/python3.7/dist-packages/ipykernel_launcher.py:9: SettingWithCopyWarning: \n",
            "A value is trying to be set on a copy of a slice from a DataFrame.\n",
            "Try using .loc[row_indexer,col_indexer] = value instead\n",
            "\n",
            "See the caveats in the documentation: https://pandas.pydata.org/pandas-docs/stable/user_guide/indexing.html#returning-a-view-versus-a-copy\n",
            "  if __name__ == '__main__':\n",
            "/usr/local/lib/python3.7/dist-packages/pandas/core/series.py:4536: SettingWithCopyWarning: \n",
            "A value is trying to be set on a copy of a slice from a DataFrame\n",
            "\n",
            "See the caveats in the documentation: https://pandas.pydata.org/pandas-docs/stable/user_guide/indexing.html#returning-a-view-versus-a-copy\n",
            "  downcast=downcast,\n",
            "/usr/local/lib/python3.7/dist-packages/ipykernel_launcher.py:14: SettingWithCopyWarning: \n",
            "A value is trying to be set on a copy of a slice from a DataFrame.\n",
            "Try using .loc[row_indexer,col_indexer] = value instead\n",
            "\n",
            "See the caveats in the documentation: https://pandas.pydata.org/pandas-docs/stable/user_guide/indexing.html#returning-a-view-versus-a-copy\n",
            "  \n"
          ]
        }
      ]
    },
    {
      "cell_type": "code",
      "metadata": {
        "id": "Fsj2A6lYZDgj"
      },
      "source": [
        "# Melanjutkan proses dengan asumsi bahwa baris data yang kosong tidak signifikan dan tidak akan\n",
        "# terjadi baris data yang kosong lagi\n",
        "\n",
        "df_clean = df_pembersihan_2"
      ],
      "execution_count": 259,
      "outputs": []
    },
    {
      "cell_type": "code",
      "metadata": {
        "id": "NvdzMWh7H4Eo"
      },
      "source": [
        "# Menghapus indeks dari data yang telah dibuang\n",
        "# Langkah ini harus dilakukan karena penghapusan baris telah dilakukan, tapi indeks belum direset\n",
        "# Pembaca dapat verifikasi perbedaan total indeks sebelum dan sesudah reset, dengan menggunakan info\n",
        "# Jika reset tidak dilakukan, bisa terjadi kesalahan data di langkah-langkah berikutnya\n",
        "\n",
        "df_clean = df_clean.reset_index(drop=True)"
      ],
      "execution_count": 260,
      "outputs": []
    },
    {
      "cell_type": "markdown",
      "metadata": {
        "id": "ynlPrujPhrrt"
      },
      "source": [
        "# Data Eksplorasi (Explanatory Data Analysis atau EDA)"
      ]
    },
    {
      "cell_type": "markdown",
      "metadata": {
        "id": "S-MbaFDAhxHn"
      },
      "source": [
        "## 2.3.2.5.5.1 EDA Analisa dasar variabel untuk gagal_bayar"
      ]
    },
    {
      "cell_type": "code",
      "metadata": {
        "colab": {
          "base_uri": "https://localhost:8080/"
        },
        "id": "qW5t7UwfES8v",
        "outputId": "c42a9dfd-80d2-4cdf-81f7-cb9547c4bd4a"
      },
      "source": [
        "# Untuk melihat frekuensi dari variabel gagal_bayar\n",
        "print(df_clean['gagal_bayar'].value_counts())\n",
        "\n",
        "# Untuk melihat proporsi (dalam persentase) dari variabel gagal_bayar\n",
        "print(df_clean['gagal_bayar'].value_counts(normalize=True) * 100)"
      ],
      "execution_count": 261,
      "outputs": [
        {
          "output_type": "stream",
          "name": "stdout",
          "text": [
            "0_Bayar    670\n",
            "1_Gagal    278\n",
            "Name: gagal_bayar, dtype: int64\n",
            "0_Bayar    70.675105\n",
            "1_Gagal    29.324895\n",
            "Name: gagal_bayar, dtype: float64\n"
          ]
        }
      ]
    },
    {
      "cell_type": "markdown",
      "metadata": {
        "id": "y-XqBSpJi9eh"
      },
      "source": [
        "## 2.3.2.5.5.2 Exploratory Data Analysis untuk SLIK_Kolektabilitas\n"
      ]
    },
    {
      "cell_type": "code",
      "metadata": {
        "id": "zjuNAMQGE5L6",
        "colab": {
          "base_uri": "https://localhost:8080/"
        },
        "outputId": "f326628d-7bd4-4acb-f59c-206319b0a80b"
      },
      "source": [
        "# Untuk melihat frekuensi dari variabel SLIK_Kolektabilitas\n",
        "print(df_clean['SLIK_Kolektibilitas'].value_counts())\n",
        "\n",
        "# Untuk melihat proporsi (dalam persentase) dari variabel SLIK_Kolektabilitas\n",
        "print(df_clean['SLIK_Kolektibilitas'].value_counts(normalize=True) * 100)"
      ],
      "execution_count": 262,
      "outputs": [
        {
          "output_type": "stream",
          "name": "stdout",
          "text": [
            "Kolek 3            483\n",
            "Kolek 1            270\n",
            "Kolek 2             84\n",
            "Tidak_Ditemukan     49\n",
            "Kolek 5             48\n",
            "Kolek 4             14\n",
            "Name: SLIK_Kolektibilitas, dtype: int64\n",
            "Kolek 3            50.949367\n",
            "Kolek 1            28.481013\n",
            "Kolek 2             8.860759\n",
            "Tidak_Ditemukan     5.168776\n",
            "Kolek 5             5.063291\n",
            "Kolek 4             1.476793\n",
            "Name: SLIK_Kolektibilitas, dtype: float64\n"
          ]
        }
      ]
    },
    {
      "cell_type": "code",
      "metadata": {
        "id": "zESKaaoCOZO3",
        "colab": {
          "base_uri": "https://localhost:8080/"
        },
        "outputId": "e4aeaa7c-91e5-4869-f54e-887c7cd07fb7"
      },
      "source": [
        "# Berapa banyak yang gagal bayar dari masing-masing nilai SLIK Kolektabilitas\n",
        "print(pd.crosstab(df_clean['SLIK_Kolektibilitas'], df_clean['gagal_bayar']))\n",
        "\n",
        "# dalam proporsi persentase\n",
        "print(pd.crosstab(df_clean['SLIK_Kolektibilitas'],df_clean['gagal_bayar'],normalize='index',)*100)"
      ],
      "execution_count": 263,
      "outputs": [
        {
          "output_type": "stream",
          "name": "stdout",
          "text": [
            "gagal_bayar          0_Bayar  1_Gagal\n",
            "SLIK_Kolektibilitas                  \n",
            "Kolek 1                  229       41\n",
            "Kolek 2                   58       26\n",
            "Kolek 3                  333      150\n",
            "Kolek 4                    6        8\n",
            "Kolek 5                   21       27\n",
            "Tidak_Ditemukan           23       26\n",
            "gagal_bayar            0_Bayar    1_Gagal\n",
            "SLIK_Kolektibilitas                      \n",
            "Kolek 1              84.814815  15.185185\n",
            "Kolek 2              69.047619  30.952381\n",
            "Kolek 3              68.944099  31.055901\n",
            "Kolek 4              42.857143  57.142857\n",
            "Kolek 5              43.750000  56.250000\n",
            "Tidak_Ditemukan      46.938776  53.061224\n"
          ]
        }
      ]
    },
    {
      "cell_type": "markdown",
      "metadata": {
        "id": "e5Obp23kjSkZ"
      },
      "source": [
        "## 2.3.2.5.5.2 SLIK_Kolektibilitas Data Visualisasi"
      ]
    },
    {
      "cell_type": "code",
      "metadata": {
        "colab": {
          "base_uri": "https://localhost:8080/",
          "height": 0
        },
        "id": "T7qwqbQUYFWm",
        "outputId": "eff9afca-10fa-4ceb-9b4a-8978a1b90193"
      },
      "source": [
        "# Fungsi value_counts().plot(kind='bar')\n",
        "df_clean['SLIK_Kolektibilitas'].value_counts().plot(kind='bar')"
      ],
      "execution_count": 264,
      "outputs": [
        {
          "output_type": "execute_result",
          "data": {
            "text/plain": [
              "<matplotlib.axes._subplots.AxesSubplot at 0x7f010ffe6dd0>"
            ]
          },
          "metadata": {},
          "execution_count": 264
        },
        {
          "output_type": "display_data",
          "data": {
            "image/png": "[encoded data removed]",
            "text/plain": [
              "<Figure size 432x288 with 1 Axes>"
            ]
          },
          "metadata": {
            "needs_background": "light"
          }
        }
      ]
    },
    {
      "cell_type": "code",
      "metadata": {
        "colab": {
          "base_uri": "https://localhost:8080/",
          "height": 0
        },
        "id": "QEmk-BKSYpKH",
        "outputId": "0fbda977-1ced-4bb0-dfa3-25985073e997"
      },
      "source": [
        "# Menampilkan plot bar secara horizontal\n",
        "df_clean['SLIK_Kolektibilitas'].value_counts().plot(kind='barh')"
      ],
      "execution_count": 265,
      "outputs": [
        {
          "output_type": "execute_result",
          "data": {
            "text/plain": [
              "<matplotlib.axes._subplots.AxesSubplot at 0x7f010ffc5ad0>"
            ]
          },
          "metadata": {},
          "execution_count": 265
        },
        {
          "output_type": "display_data",
          "data": {
            "image/png": "[encoded data removed]",
            "text/plain": [
              "<Figure size 432x288 with 1 Axes>"
            ]
          },
          "metadata": {
            "needs_background": "light"
          }
        }
      ]
    },
    {
      "cell_type": "code",
      "metadata": {
        "colab": {
          "base_uri": "https://localhost:8080/",
          "height": 0
        },
        "id": "uILFhuMGZZRg",
        "outputId": "ae06acc5-dcc1-4486-df33-c0cb88ce5e41"
      },
      "source": [
        "# Nilai variabel SLIK_Kolektibilitas dan proporsi default secara plot bar\n",
        "pd.crosstab(df_clean['SLIK_Kolektibilitas'], df_clean['gagal_bayar']).plot(kind='barh', stacked=True)"
      ],
      "execution_count": 266,
      "outputs": [
        {
          "output_type": "execute_result",
          "data": {
            "text/plain": [
              "<matplotlib.axes._subplots.AxesSubplot at 0x7f0111632f50>"
            ]
          },
          "metadata": {},
          "execution_count": 266
        },
        {
          "output_type": "display_data",
          "data": {
            "image/png": "[encoded data removed]",
            "text/plain": [
              "<Figure size 432x288 with 1 Axes>"
            ]
          },
          "metadata": {
            "needs_background": "light"
          }
        }
      ]
    },
    {
      "cell_type": "code",
      "metadata": {
        "colab": {
          "base_uri": "https://localhost:8080/",
          "height": 0
        },
        "id": "s_i1FvMkZseF",
        "outputId": "f00b5c23-5978-40a6-ae3c-78eff142dfa3"
      },
      "source": [
        "# Nilai variabel SLIK_Kolektibilitas dan proporsi default secara plot bar, secara proporsi\n",
        "pd.crosstab(df_clean['SLIK_Kolektibilitas'], df_clean['gagal_bayar'], normalize='index').plot(kind='barh', stacked=True)"
      ],
      "execution_count": 267,
      "outputs": [
        {
          "output_type": "execute_result",
          "data": {
            "text/plain": [
              "<matplotlib.axes._subplots.AxesSubplot at 0x7f0110aa7d50>"
            ]
          },
          "metadata": {},
          "execution_count": 267
        },
        {
          "output_type": "display_data",
          "data": {
            "image/png": "[encoded data removed]",
            "text/plain": [
              "<Figure size 432x288 with 1 Axes>"
            ]
          },
          "metadata": {
            "needs_background": "light"
          }
        }
      ]
    },
    {
      "cell_type": "markdown",
      "metadata": {
        "id": "wHjaPO4ejaqY"
      },
      "source": [
        "## Latihan EDA untuk variabel kategori"
      ]
    },
    {
      "cell_type": "code",
      "metadata": {
        "id": "S0EttoEU8l38"
      },
      "source": [
        "# Latihan EDA untuk Tujuan_Pinjaman, Lama_Bekerja, atau variabel kategori / teks lainnya\n",
        "# Tulis kode disini\n",
        "\n"
      ],
      "execution_count": 268,
      "outputs": []
    },
    {
      "cell_type": "markdown",
      "metadata": {
        "id": "Z8LtJ3gdjdX6"
      },
      "source": [
        "## 2.3.2.5.5.3 Exploratory Data Analysis untuk Usia"
      ]
    },
    {
      "cell_type": "code",
      "metadata": {
        "colab": {
          "base_uri": "https://localhost:8080/",
          "height": 0
        },
        "id": "90J2yiiUYmY-",
        "outputId": "d8dfaa89-1020-4232-9a14-4be791f15fd6"
      },
      "source": [
        "# Rangkuman statistik untuk variabel numerik Usia\n",
        "print(df_clean['Usia'].describe())\n",
        "\n",
        "# Rangkuman statistik untuk variabel numerik Usia, berdasarkan default (gagal bayar atau tidak)\n",
        "df_clean.groupby('gagal_bayar')['Usia'].describe()"
      ],
      "execution_count": 269,
      "outputs": [
        {
          "output_type": "stream",
          "name": "stdout",
          "text": [
            "count    948.000000\n",
            "mean      35.548523\n",
            "std       11.335750\n",
            "min       19.000000\n",
            "25%       27.000000\n",
            "50%       33.000000\n",
            "75%       42.000000\n",
            "max       75.000000\n",
            "Name: Usia, dtype: float64\n"
          ]
        },
        {
          "output_type": "execute_result",
          "data": {
            "text/html": [
              "<div>\n",
              "<style scoped>\n",
              "    .dataframe tbody tr th:only-of-type {\n",
              "        vertical-align: middle;\n",
              "    }\n",
              "\n",
              "    .dataframe tbody tr th {\n",
              "        vertical-align: top;\n",
              "    }\n",
              "\n",
              "    .dataframe thead th {\n",
              "        text-align: right;\n",
              "    }\n",
              "</style>\n",
              "<table border=\"1\" class=\"dataframe\">\n",
              "  <thead>\n",
              "    <tr style=\"text-align: right;\">\n",
              "      <th></th>\n",
              "      <th>count</th>\n",
              "      <th>mean</th>\n",
              "      <th>std</th>\n",
              "      <th>min</th>\n",
              "      <th>25%</th>\n",
              "      <th>50%</th>\n",
              "      <th>75%</th>\n",
              "      <th>max</th>\n",
              "    </tr>\n",
              "    <tr>\n",
              "      <th>gagal_bayar</th>\n",
              "      <th></th>\n",
              "      <th></th>\n",
              "      <th></th>\n",
              "      <th></th>\n",
              "      <th></th>\n",
              "      <th></th>\n",
              "      <th></th>\n",
              "      <th></th>\n",
              "    </tr>\n",
              "  </thead>\n",
              "  <tbody>\n",
              "    <tr>\n",
              "      <th>0_Bayar</th>\n",
              "      <td>670.0</td>\n",
              "      <td>36.116418</td>\n",
              "      <td>11.239140</td>\n",
              "      <td>19.0</td>\n",
              "      <td>27.0</td>\n",
              "      <td>34.0</td>\n",
              "      <td>42.00</td>\n",
              "      <td>75.0</td>\n",
              "    </tr>\n",
              "    <tr>\n",
              "      <th>1_Gagal</th>\n",
              "      <td>278.0</td>\n",
              "      <td>34.179856</td>\n",
              "      <td>11.470415</td>\n",
              "      <td>19.0</td>\n",
              "      <td>25.0</td>\n",
              "      <td>31.0</td>\n",
              "      <td>40.75</td>\n",
              "      <td>74.0</td>\n",
              "    </tr>\n",
              "  </tbody>\n",
              "</table>\n",
              "</div>"
            ],
            "text/plain": [
              "             count       mean        std   min   25%   50%    75%   max\n",
              "gagal_bayar                                                            \n",
              "0_Bayar      670.0  36.116418  11.239140  19.0  27.0  34.0  42.00  75.0\n",
              "1_Gagal      278.0  34.179856  11.470415  19.0  25.0  31.0  40.75  74.0"
            ]
          },
          "metadata": {},
          "execution_count": 269
        }
      ]
    },
    {
      "cell_type": "code",
      "metadata": {
        "colab": {
          "base_uri": "https://localhost:8080/",
          "height": 0
        },
        "id": "V0mG8ys3aeq0",
        "outputId": "b7c8a6c3-d7d1-44c8-8030-3f1b9ce37204"
      },
      "source": [
        "# Fungsi distplot() dari library seaborn\n",
        "# Perhatikan bahwa distribusi plot harus tidak memiliki data kosong / missing value.\n",
        "# Oleh karena itu harus menambahkan fungsi dropna() untuk secara sementara tidak\n",
        "# mengikutsertakan missing value dalam pembuatan plot distribusi\n",
        "\n",
        "import matplotlib.pyplot as plt\n",
        "import seaborn as sns\n",
        "\n",
        "fig, ax = plt.subplots(figsize=(15,15))\n",
        "sns.distplot(df_clean['Usia'].dropna(), ax=ax).set_title('Distribution Plot')"
      ],
      "execution_count": 270,
      "outputs": [
        {
          "output_type": "stream",
          "name": "stderr",
          "text": [
            "/usr/local/lib/python3.7/dist-packages/seaborn/distributions.py:2619: FutureWarning: `distplot` is a deprecated function and will be removed in a future version. Please adapt your code to use either `displot` (a figure-level function with similar flexibility) or `histplot` (an axes-level function for histograms).\n",
            "  warnings.warn(msg, FutureWarning)\n"
          ]
        },
        {
          "output_type": "execute_result",
          "data": {
            "text/plain": [
              "Text(0.5, 1.0, 'Distribution Plot')"
            ]
          },
          "metadata": {},
          "execution_count": 270
        },
        {
          "output_type": "display_data",
          "data": {
            "image/png": "[encoded data removed]",
            "text/plain": [
              "<Figure size 1080x1080 with 1 Axes>"
            ]
          },
          "metadata": {
            "needs_background": "light"
          }
        }
      ]
    },
    {
      "cell_type": "code",
      "metadata": {
        "id": "K1JubColf4xI",
        "colab": {
          "base_uri": "https://localhost:8080/",
          "height": 0
        },
        "outputId": "827c7b15-6168-40ea-ebf9-29153eb2450c"
      },
      "source": [
        "# Menambahkan by di fungsi boxplot untuk membagi boxplot berdasarkan gagal_bayar\n",
        "df_clean.boxplot(by='gagal_bayar',column=['Usia'])"
      ],
      "execution_count": 271,
      "outputs": [
        {
          "output_type": "stream",
          "name": "stderr",
          "text": [
            "/usr/local/lib/python3.7/dist-packages/numpy/core/_asarray.py:83: VisibleDeprecationWarning: Creating an ndarray from ragged nested sequences (which is a list-or-tuple of lists-or-tuples-or ndarrays with different lengths or shapes) is deprecated. If you meant to do this, you must specify 'dtype=object' when creating the ndarray\n",
            "  return array(a, dtype, copy=False, order=order)\n"
          ]
        },
        {
          "output_type": "execute_result",
          "data": {
            "text/plain": [
              "<matplotlib.axes._subplots.AxesSubplot at 0x7f0110b78810>"
            ]
          },
          "metadata": {},
          "execution_count": 271
        },
        {
          "output_type": "display_data",
          "data": {
            "image/png": "[encoded data removed]",
            "text/plain": [
              "<Figure size 432x288 with 1 Axes>"
            ]
          },
          "metadata": {
            "needs_background": "light"
          }
        }
      ]
    },
    {
      "cell_type": "markdown",
      "metadata": {
        "id": "VRrUeXK_kdnC"
      },
      "source": [
        "## Latihan EDA untuk variabel Numerik"
      ]
    },
    {
      "cell_type": "code",
      "metadata": {
        "id": "AtuTbwnrTjmX"
      },
      "source": [
        "# Latihan untuk rangkuman analisa dan visualisasi untuk variabel SLIK_Cicilan_Bulanan, SLIK_Outstanding_CC, Lama_Cicilan, dan Jumlah_Pinjaman\n",
        "# Tulis kode disini\n",
        "\n"
      ],
      "execution_count": 272,
      "outputs": []
    },
    {
      "cell_type": "markdown",
      "metadata": {
        "id": "mLdW1nh6lSri"
      },
      "source": [
        "## Korelasi"
      ]
    },
    {
      "cell_type": "code",
      "metadata": {
        "id": "5lZPEAen-nxN"
      },
      "source": [
        "import numpy as np\n",
        "\n",
        "# Untuk dapat melakukan analisa statistik, harus mengubah variabel gagal_bayar dari string menjadi angka (integer)\n",
        "# Mengubah target variabel gagal_bayar menjadi angka 0 dan 1\n",
        "conditions = [\n",
        "             df_clean['gagal_bayar'] == '1_Gagal', \n",
        "             df_clean['gagal_bayar'] == '0_Bayar'\n",
        "             ]\n",
        "\n",
        "choices     = [\n",
        "             1,\n",
        "             0\n",
        "             ]\n",
        "df_clean['default'] = np.select(conditions,choices, default = 0)"
      ],
      "execution_count": 273,
      "outputs": []
    },
    {
      "cell_type": "code",
      "metadata": {
        "id": "HNjGTaQp_BaM",
        "colab": {
          "base_uri": "https://localhost:8080/"
        },
        "outputId": "55cb17af-a0b2-4a95-b679-4e5e2e0c1331"
      },
      "source": [
        "# Menghitung korelasi antara variabel Usia dengan default\n",
        "print(df_clean['default'].corr(df_clean['Usia']))"
      ],
      "execution_count": 274,
      "outputs": [
        {
          "output_type": "stream",
          "name": "stdout",
          "text": [
            "-0.0778147171989035\n"
          ]
        }
      ]
    },
    {
      "cell_type": "code",
      "metadata": {
        "colab": {
          "base_uri": "https://localhost:8080/"
        },
        "id": "84joxnCJCThc",
        "outputId": "e1f59c89-ad2f-4f58-9470-d95d6bfc1e1e"
      },
      "source": [
        "from scipy import stats\n",
        "\n",
        "# Uji coba hipotesis apakah ada perbedaan nilai rata-rata variabel \n",
        "# Usia dengan default (gagal bayar dan tidak gagal bayar)\n",
        "stats.ttest_ind( df_clean[df_clean.default == 0].Usia,\n",
        "             \tdf_clean[df_clean.default == 1].Usia, nan_policy='omit')"
      ],
      "execution_count": 275,
      "outputs": [
        {
          "output_type": "execute_result",
          "data": {
            "text/plain": [
              "Ttest_indResult(statistic=2.400635164816287, pvalue=0.016558910387081596)"
            ]
          },
          "metadata": {},
          "execution_count": 275
        }
      ]
    },
    {
      "cell_type": "markdown",
      "metadata": {
        "id": "wm-kQAHrlfH8"
      },
      "source": [
        "## 2.3.2.5.6 Memahami korelasi antar variabel dan dengan target"
      ]
    },
    {
      "cell_type": "code",
      "metadata": {
        "colab": {
          "base_uri": "https://localhost:8080/",
          "height": 0
        },
        "id": "zeTbQamD1XoF",
        "outputId": "5dffba30-aa1c-4e6f-aad7-cf77fc3fcb6b"
      },
      "source": [
        "# Korelasi Antar semua Variabel numerik\n",
        "import seaborn as sns\n",
        "corr = df_clean.corr()\n",
        "corr"
      ],
      "execution_count": 276,
      "outputs": [
        {
          "output_type": "execute_result",
          "data": {
            "text/html": [
              "<div>\n",
              "<style scoped>\n",
              "    .dataframe tbody tr th:only-of-type {\n",
              "        vertical-align: middle;\n",
              "    }\n",
              "\n",
              "    .dataframe tbody tr th {\n",
              "        vertical-align: top;\n",
              "    }\n",
              "\n",
              "    .dataframe thead th {\n",
              "        text-align: right;\n",
              "    }\n",
              "</style>\n",
              "<table border=\"1\" class=\"dataframe\">\n",
              "  <thead>\n",
              "    <tr style=\"text-align: right;\">\n",
              "      <th></th>\n",
              "      <th>Lama_Cicilan</th>\n",
              "      <th>Jumlah_Pinjaman</th>\n",
              "      <th>Usia</th>\n",
              "      <th>SLIK_Cicilan_Bulanan</th>\n",
              "      <th>SLIK_Outstanding_CC</th>\n",
              "      <th>API_CreditScore_Vendor_A</th>\n",
              "      <th>API_CreditScore_Vendor_B</th>\n",
              "      <th>Device_Apps_Installed</th>\n",
              "      <th>default</th>\n",
              "    </tr>\n",
              "  </thead>\n",
              "  <tbody>\n",
              "    <tr>\n",
              "      <th>Lama_Cicilan</th>\n",
              "      <td>1.000000</td>\n",
              "      <td>0.298788</td>\n",
              "      <td>0.029419</td>\n",
              "      <td>0.000481</td>\n",
              "      <td>0.029004</td>\n",
              "      <td>-0.012322</td>\n",
              "      <td>-0.028463</td>\n",
              "      <td>-0.057698</td>\n",
              "      <td>0.021000</td>\n",
              "    </tr>\n",
              "    <tr>\n",
              "      <th>Jumlah_Pinjaman</th>\n",
              "      <td>0.298788</td>\n",
              "      <td>1.000000</td>\n",
              "      <td>0.041210</td>\n",
              "      <td>-0.031538</td>\n",
              "      <td>-0.007841</td>\n",
              "      <td>0.013080</td>\n",
              "      <td>-0.020965</td>\n",
              "      <td>-0.026660</td>\n",
              "      <td>0.132585</td>\n",
              "    </tr>\n",
              "    <tr>\n",
              "      <th>Usia</th>\n",
              "      <td>0.029419</td>\n",
              "      <td>0.041210</td>\n",
              "      <td>1.000000</td>\n",
              "      <td>0.007345</td>\n",
              "      <td>-0.008791</td>\n",
              "      <td>0.018705</td>\n",
              "      <td>0.018308</td>\n",
              "      <td>0.032119</td>\n",
              "      <td>-0.077815</td>\n",
              "    </tr>\n",
              "    <tr>\n",
              "      <th>SLIK_Cicilan_Bulanan</th>\n",
              "      <td>0.000481</td>\n",
              "      <td>-0.031538</td>\n",
              "      <td>0.007345</td>\n",
              "      <td>1.000000</td>\n",
              "      <td>0.317872</td>\n",
              "      <td>0.034330</td>\n",
              "      <td>-0.056521</td>\n",
              "      <td>-0.003362</td>\n",
              "      <td>0.181373</td>\n",
              "    </tr>\n",
              "    <tr>\n",
              "      <th>SLIK_Outstanding_CC</th>\n",
              "      <td>0.029004</td>\n",
              "      <td>-0.007841</td>\n",
              "      <td>-0.008791</td>\n",
              "      <td>0.317872</td>\n",
              "      <td>1.000000</td>\n",
              "      <td>-0.035197</td>\n",
              "      <td>-0.004624</td>\n",
              "      <td>-0.054377</td>\n",
              "      <td>0.185339</td>\n",
              "    </tr>\n",
              "    <tr>\n",
              "      <th>API_CreditScore_Vendor_A</th>\n",
              "      <td>-0.012322</td>\n",
              "      <td>0.013080</td>\n",
              "      <td>0.018705</td>\n",
              "      <td>0.034330</td>\n",
              "      <td>-0.035197</td>\n",
              "      <td>1.000000</td>\n",
              "      <td>-0.000716</td>\n",
              "      <td>0.040767</td>\n",
              "      <td>-0.038087</td>\n",
              "    </tr>\n",
              "    <tr>\n",
              "      <th>API_CreditScore_Vendor_B</th>\n",
              "      <td>-0.028463</td>\n",
              "      <td>-0.020965</td>\n",
              "      <td>0.018308</td>\n",
              "      <td>-0.056521</td>\n",
              "      <td>-0.004624</td>\n",
              "      <td>-0.000716</td>\n",
              "      <td>1.000000</td>\n",
              "      <td>-0.018533</td>\n",
              "      <td>-0.160338</td>\n",
              "    </tr>\n",
              "    <tr>\n",
              "      <th>Device_Apps_Installed</th>\n",
              "      <td>-0.057698</td>\n",
              "      <td>-0.026660</td>\n",
              "      <td>0.032119</td>\n",
              "      <td>-0.003362</td>\n",
              "      <td>-0.054377</td>\n",
              "      <td>0.040767</td>\n",
              "      <td>-0.018533</td>\n",
              "      <td>1.000000</td>\n",
              "      <td>-0.132190</td>\n",
              "    </tr>\n",
              "    <tr>\n",
              "      <th>default</th>\n",
              "      <td>0.021000</td>\n",
              "      <td>0.132585</td>\n",
              "      <td>-0.077815</td>\n",
              "      <td>0.181373</td>\n",
              "      <td>0.185339</td>\n",
              "      <td>-0.038087</td>\n",
              "      <td>-0.160338</td>\n",
              "      <td>-0.132190</td>\n",
              "      <td>1.000000</td>\n",
              "    </tr>\n",
              "  </tbody>\n",
              "</table>\n",
              "</div>"
            ],
            "text/plain": [
              "                          Lama_Cicilan  ...   default\n",
              "Lama_Cicilan                  1.000000  ...  0.021000\n",
              "Jumlah_Pinjaman               0.298788  ...  0.132585\n",
              "Usia                          0.029419  ... -0.077815\n",
              "SLIK_Cicilan_Bulanan          0.000481  ...  0.181373\n",
              "SLIK_Outstanding_CC           0.029004  ...  0.185339\n",
              "API_CreditScore_Vendor_A     -0.012322  ... -0.038087\n",
              "API_CreditScore_Vendor_B     -0.028463  ... -0.160338\n",
              "Device_Apps_Installed        -0.057698  ... -0.132190\n",
              "default                       0.021000  ...  1.000000\n",
              "\n",
              "[9 rows x 9 columns]"
            ]
          },
          "metadata": {},
          "execution_count": 276
        }
      ]
    },
    {
      "cell_type": "code",
      "metadata": {
        "colab": {
          "base_uri": "https://localhost:8080/",
          "height": 0
        },
        "id": "L1bmRBmC8B9g",
        "outputId": "26d800d4-3ba8-4c55-e920-46b565255088"
      },
      "source": [
        "# Korelasi secara visualisasi\n",
        "sns.heatmap(corr, xticklabels=corr.columns.values, yticklabels=corr.columns.values)"
      ],
      "execution_count": 277,
      "outputs": [
        {
          "output_type": "execute_result",
          "data": {
            "text/plain": [
              "<matplotlib.axes._subplots.AxesSubplot at 0x7f010f7d3110>"
            ]
          },
          "metadata": {},
          "execution_count": 277
        },
        {
          "output_type": "display_data",
          "data": {
            "image/png": "[encoded data removed]",
            "text/plain": [
              "<Figure size 432x288 with 2 Axes>"
            ]
          },
          "metadata": {
            "needs_background": "light"
          }
        }
      ]
    },
    {
      "cell_type": "markdown",
      "metadata": {
        "id": "uPHUOv9lllM1"
      },
      "source": [
        "## Latihan Korelasi"
      ]
    },
    {
      "cell_type": "code",
      "metadata": {
        "id": "GYGvQAjevc21"
      },
      "source": [
        "# Latihan untuk korelasi untuk variabel API_CreditScore_Vendor_A dan Lama_Cicilan\n",
        "# Tulis kode disini\n",
        "# Kesimpulan yang didapatkan?\n"
      ],
      "execution_count": 278,
      "outputs": []
    },
    {
      "cell_type": "code",
      "metadata": {
        "id": "iV4srE0Jyz54"
      },
      "source": [
        "# Latihan uji coba hipotesis untuk API_CreditScore_Vendor_A dan Lama_Cicilan\n",
        "# Tulis kode disini\n",
        "# Kesimpulan yang didapatkan?\n",
        "\n"
      ],
      "execution_count": 279,
      "outputs": []
    },
    {
      "cell_type": "markdown",
      "metadata": {
        "id": "Fa1Y90PHlyyR"
      },
      "source": [
        "## 2.3.2.5.6.2 Memahami korelasi antar variabel independent kategori\n"
      ]
    },
    {
      "cell_type": "code",
      "metadata": {
        "id": "DINJuDJSjV3r",
        "colab": {
          "base_uri": "https://localhost:8080/",
          "height": 0
        },
        "outputId": "656631a4-b460-4455-eec6-9936964bdf1a"
      },
      "source": [
        "# Memisahkan variabel kategori dengan variabel numerik\n",
        "df_numerik = df_clean.select_dtypes(include=['float64','int64','int'])\n",
        "df_kategori = df_clean.select_dtypes(exclude = ['float64','int64','int'])\n",
        "\n",
        "# Menghapus kolom yang tidak berkaitan dengan korelasi antar variabel independent\n",
        "df_kategori.drop(columns=['ID', 'gagal_bayar'], inplace=True)\n",
        "\n",
        "from sklearn.feature_selection import chi2\n",
        "import numpy as np\n",
        "import pandas as pd\n",
        "import matplotlib.pyplot as plt\n",
        "import seaborn as sns\n",
        "\n",
        "df = pd.get_dummies(data = df_kategori)\n",
        "\n",
        "# Kode Python berdasarkan referensi dari https://www.analyticsvidhya.com/blog/2021/06/decoding-the-chi-square-test%E2%80%8A-%E2%80%8Ause-along-with-implementation-and-visualization/\n",
        "resultant = pd.DataFrame(data=[(0 for i in range(len(df.columns))) for i in range(len(df.columns))], \n",
        "                         columns=list(df.columns))\n",
        "resultant.set_index(pd.Index(list(df.columns)), inplace = True)\n",
        "for i in list(df.columns):\n",
        "    for j in list(df.columns):\n",
        "        if i != j:\n",
        "            chi2_val, p_val = chi2(np.array(df[i]).reshape(-1, 1), np.array(df[j]).reshape(-1, 1))\n",
        "            resultant.loc[i,j] = p_val\n",
        "print(resultant)\n",
        "\n",
        "# Untuk memudahkan membaca hasil, maka disimpan dalam bentuk csv dan didownload\n",
        "from google.colab import files\n",
        "resultant.to_csv('chi_square.csv') \n",
        "files.download('chi_square.csv')"
      ],
      "execution_count": 280,
      "outputs": [
        {
          "output_type": "stream",
          "name": "stderr",
          "text": [
            "/usr/local/lib/python3.7/dist-packages/pandas/core/frame.py:4174: SettingWithCopyWarning: \n",
            "A value is trying to be set on a copy of a slice from a DataFrame\n",
            "\n",
            "See the caveats in the documentation: https://pandas.pydata.org/pandas-docs/stable/user_guide/indexing.html#returning-a-view-versus-a-copy\n",
            "  errors=errors,\n"
          ]
        },
        {
          "output_type": "stream",
          "name": "stdout",
          "text": [
            "                                            Tujuan_Pinjaman_buka_bisnis  ...  Email_Domain_Type_Public_Domain\n",
            "Tujuan_Pinjaman_buka_bisnis                                0.000000e+00  ...                     4.236873e-04\n",
            "Tujuan_Pinjaman_elektronik                                 3.736414e-22  ...                     8.344980e-04\n",
            "Tujuan_Pinjaman_liburan                                    1.432841e-05  ...                     7.020366e-02\n",
            "Tujuan_Pinjaman_makanan                                    1.027722e-06  ...                     2.353050e-01\n",
            "Tujuan_Pinjaman_pendidikan                                 3.761034e-05  ...                     3.820163e-01\n",
            "...                                                                 ...  ...                              ...\n",
            "Mobile_Number_Active_Since_3_1_ke_2_tahun                  5.577441e-01  ...                     1.663092e-01\n",
            "Mobile_Number_Active_Since_4_2_ke_5_tahun                  1.438647e-01  ...                     2.431699e-01\n",
            "Mobile_Number_Active_Since_5_Lebih_5_tahun                 3.201663e-01  ...                     4.911474e-01\n",
            "Email_Domain_Type_Professional_Domain                      4.347997e-04  ...                    4.893445e-169\n",
            "Email_Domain_Type_Public_Domain                            8.854035e-02  ...                     0.000000e+00\n",
            "\n",
            "[66 rows x 66 columns]\n"
          ]
        },
        {
          "output_type": "display_data",
          "data": {
            "application/javascript": [
              "\n",
              "    async function download(id, filename, size) {\n",
              "      if (!google.colab.kernel.accessAllowed) {\n",
              "        return;\n",
              "      }\n",
              "      const div = document.createElement('div');\n",
              "      const label = document.createElement('label');\n",
              "      label.textContent = `Downloading \"${filename}\": `;\n",
              "      div.appendChild(label);\n",
              "      const progress = document.createElement('progress');\n",
              "      progress.max = size;\n",
              "      div.appendChild(progress);\n",
              "      document.body.appendChild(div);\n",
              "\n",
              "      const buffers = [];\n",
              "      let downloaded = 0;\n",
              "\n",
              "      const channel = await google.colab.kernel.comms.open(id);\n",
              "      // Send a message to notify the kernel that we're ready.\n",
              "      channel.send({})\n",
              "\n",
              "      for await (const message of channel.messages) {\n",
              "        // Send a message to notify the kernel that we're ready.\n",
              "        channel.send({})\n",
              "        if (message.buffers) {\n",
              "          for (const buffer of message.buffers) {\n",
              "            buffers.push(buffer);\n",
              "            downloaded += buffer.byteLength;\n",
              "            progress.value = downloaded;\n",
              "          }\n",
              "        }\n",
              "      }\n",
              "      const blob = new Blob(buffers, {type: 'application/binary'});\n",
              "      const a = document.createElement('a');\n",
              "      a.href = window.URL.createObjectURL(blob);\n",
              "      a.download = filename;\n",
              "      div.appendChild(a);\n",
              "      a.click();\n",
              "      div.remove();\n",
              "    }\n",
              "  "
            ],
            "text/plain": [
              "<IPython.core.display.Javascript object>"
            ]
          },
          "metadata": {}
        },
        {
          "output_type": "display_data",
          "data": {
            "application/javascript": [
              "download(\"download_2dbdabac-511b-4dd0-8627-deb731130544\", \"chi_square.csv\", 87989)"
            ],
            "text/plain": [
              "<IPython.core.display.Javascript object>"
            ]
          },
          "metadata": {}
        }
      ]
    },
    {
      "cell_type": "markdown",
      "metadata": {
        "id": "fbJNZCXTnsQ2"
      },
      "source": [
        "## 2.3.2.5.7.3 Penggunaan WOE dan IV dalam Scorecard\n"
      ]
    },
    {
      "cell_type": "code",
      "metadata": {
        "id": "6YN3IBO10GRR",
        "colab": {
          "base_uri": "https://localhost:8080/"
        },
        "outputId": "803e0d67-bf50-44d6-e2b3-da2289a912d5"
      },
      "source": [
        "# Reference https://stackoverflow.com/questions/60892714/how-to-get-the-weight-of-evidence-woe-and-information-value-iv-in-python-pan\n",
        "\n",
        "df_woe_iv = (pd.crosstab(df_clean['SLIK_Kolektibilitas'],df_clean['default'],normalize='columns')\n",
        "             .assign(woe=lambda dfx: np.log(dfx[1] / dfx[0]))\n",
        "             .assign(iv=lambda dfx: np.sum(dfx['woe']*\n",
        "                                           (dfx[1]-dfx[0]))))\n",
        "\n",
        "print(df_woe_iv)"
      ],
      "execution_count": 281,
      "outputs": [
        {
          "output_type": "stream",
          "name": "stdout",
          "text": [
            "default                     0         1       woe        iv\n",
            "SLIK_Kolektibilitas                                        \n",
            "Kolek 1              0.341791  0.147482 -0.840493  0.324213\n",
            "Kolek 2              0.086567  0.093525  0.077310  0.324213\n",
            "Kolek 3              0.497015  0.539568  0.082149  0.324213\n",
            "Kolek 4              0.008955  0.028777  1.167339  0.324213\n",
            "Kolek 5              0.031343  0.097122  1.130971  0.324213\n",
            "Tidak_Ditemukan      0.034328  0.093525  1.002259  0.324213\n"
          ]
        }
      ]
    },
    {
      "cell_type": "code",
      "metadata": {
        "id": "k7PpZqehERWC",
        "colab": {
          "base_uri": "https://localhost:8080/"
        },
        "outputId": "d5be8dd1-d629-490b-e330-46ae25bf62b3"
      },
      "source": [
        "# Variabel SLIK_Kolektibilitas\n",
        "\n",
        "conditions = [\n",
        "             ( df_clean['SLIK_Kolektibilitas'] == 'Kolek 1' ),\n",
        "             ( df_clean['SLIK_Kolektibilitas'] == 'Kolek 2' ) | ( df_clean['SLIK_Kolektibilitas'] == 'Kolek 3' ),\n",
        "             ( df_clean['SLIK_Kolektibilitas'] == 'Kolek 4' ) | ( df_clean['SLIK_Kolektibilitas'] == 'Kolek 5' ),\n",
        "             ( df_clean['SLIK_Kolektibilitas'] == 'Tidak_Ditemukan' )\n",
        "             ]\n",
        "\n",
        "choices = [\n",
        "          'Kolek 1',\n",
        "          'Kolek 2&3',\n",
        "          'Kolek 4&5',\n",
        "          'Kolek Tidak_Ditemukan'\n",
        "          ]\n",
        "\n",
        "df_clean['SLIK_Kolektibilitas_Bin'] = np.select(conditions, choices)\n",
        "\n",
        "# Untuk melihat proporsi (dalam persentase) dari variabel Usia\n",
        "print(df_clean['SLIK_Kolektibilitas_Bin'].value_counts(normalize=True) * 100)\n",
        "\n",
        "df_woe_iv = (pd.crosstab(df_clean['SLIK_Kolektibilitas_Bin'],df_clean['default'],normalize='columns')\n",
        "             .assign(woe=lambda dfx: np.log(dfx[1] / dfx[0]))\n",
        "             .assign(iv=lambda dfx: np.sum(dfx['woe']*\n",
        "                                           (dfx[1]-dfx[0]))))\n",
        "\n",
        "print(df_woe_iv)\n",
        "\n",
        "conditions = [\n",
        "             ( df_clean['SLIK_Kolektibilitas'] == 'Kolek 1' ),\n",
        "             ( df_clean['SLIK_Kolektibilitas'] == 'Kolek 2' ) | ( df_clean['SLIK_Kolektibilitas'] == 'Kolek 3' ),\n",
        "             ( df_clean['SLIK_Kolektibilitas'] == 'Kolek 4' ) | ( df_clean['SLIK_Kolektibilitas'] == 'Kolek 5' ),\n",
        "             ( df_clean['SLIK_Kolektibilitas'] == 'Tidak_Ditemukan' )\n",
        "             ]\n",
        "\n",
        "choices = [\n",
        "          -0.8405,\n",
        "          0.0814,\n",
        "          1.1392,\n",
        "          1.0023\n",
        "          ]\n",
        "\n",
        "df_clean['SLIK_Kolektibilitas_WOE'] = np.select(conditions, choices)"
      ],
      "execution_count": 282,
      "outputs": [
        {
          "output_type": "stream",
          "name": "stdout",
          "text": [
            "Kolek 2&3                59.810127\n",
            "Kolek 1                  28.481013\n",
            "Kolek 4&5                 6.540084\n",
            "Kolek Tidak_Ditemukan     5.168776\n",
            "Name: SLIK_Kolektibilitas_Bin, dtype: float64\n",
            "default                         0         1       woe        iv\n",
            "SLIK_Kolektibilitas_Bin                                        \n",
            "Kolek 1                  0.341791  0.147482 -0.840493  0.324191\n",
            "Kolek 2&3                0.583582  0.633094  0.081433  0.324191\n",
            "Kolek 4&5                0.040299  0.125899  1.139168  0.324191\n",
            "Kolek Tidak_Ditemukan    0.034328  0.093525  1.002259  0.324191\n"
          ]
        }
      ]
    },
    {
      "cell_type": "code",
      "metadata": {
        "id": "NuuEAUKA2cOJ",
        "colab": {
          "base_uri": "https://localhost:8080/"
        },
        "outputId": "2c79498f-351a-49af-8424-86d15016aa25"
      },
      "source": [
        "# Variabel Usia dengan WOE dan IV yang belum dioptimumkan\n",
        "\n",
        "conditions = [\n",
        "             ( df_clean['Usia'] <= 23 ),\n",
        "             ( df_clean['Usia'] >= 24 ) & ( df_clean['Usia'] <= 26),\n",
        "             ( df_clean['Usia'] >= 27 ) & ( df_clean['Usia'] <= 28 ),\n",
        "             ( df_clean['Usia'] >= 29 ) & ( df_clean['Usia'] <= 31 ),\n",
        "             ( df_clean['Usia'] >= 32 ) & ( df_clean['Usia'] <= 34 ),\n",
        "             ( df_clean['Usia'] >= 35 ) & ( df_clean['Usia'] <= 37 ),\n",
        "             ( df_clean['Usia'] >= 38 ) & ( df_clean['Usia'] <= 42 ),\n",
        "             ( df_clean['Usia'] >= 43 ) & ( df_clean['Usia'] <= 48 ),\n",
        "             ( df_clean['Usia'] >= 49 ) & ( df_clean['Usia'] <= 55 ),\n",
        "             ( df_clean['Usia'] >= 56 )\n",
        "             ]\n",
        "\n",
        "choices = [\n",
        "          '01.<=23',\n",
        "          '02.24-26',\n",
        "          '03.27-28',\n",
        "          '04.29-31',\n",
        "          '05.32-34',\n",
        "          '06.35-37',\n",
        "          '07.38-42',\n",
        "          '08.43-48',\n",
        "          '09.49-55',\n",
        "          '10.>=56'\n",
        "          ]\n",
        "df_clean['Usia_Bin'] = np.select(conditions, choices)\n",
        "\n",
        "# Untuk melihat proporsi (dalam persentase) dari variabel Usia\n",
        "print(df_clean['Usia_Bin'].value_counts(normalize=True) * 100)\n",
        "\n",
        "print(pd.crosstab(df_clean['Usia_Bin'], df_clean['default']))\n",
        "\n",
        "df_woe_iv = (pd.crosstab(df_clean['Usia_Bin'],df_clean['default'],normalize='columns')\n",
        "             .assign(woe=lambda dfx: np.log(dfx[1] / dfx[0]))\n",
        "             .assign(iv=lambda dfx: np.sum(dfx['woe']*\n",
        "                                           (dfx[1]-dfx[0]))))\n",
        "\n",
        "print(df_woe_iv)"
      ],
      "execution_count": 283,
      "outputs": [
        {
          "output_type": "stream",
          "name": "stdout",
          "text": [
            "02.24-26    13.924051\n",
            "07.38-42    11.392405\n",
            "04.29-31    11.181435\n",
            "06.35-37    10.654008\n",
            "01.<=23     10.548523\n",
            "08.43-48     9.704641\n",
            "05.32-34     9.704641\n",
            "03.27-28     9.071730\n",
            "10.>=56      6.962025\n",
            "09.49-55     6.856540\n",
            "Name: Usia_Bin, dtype: float64\n",
            "default    0   1\n",
            "Usia_Bin        \n",
            "01.<=23   60  40\n",
            "02.24-26  82  50\n",
            "03.27-28  62  24\n",
            "04.29-31  75  31\n",
            "05.32-34  63  29\n",
            "06.35-37  83  18\n",
            "07.38-42  80  28\n",
            "08.43-48  68  24\n",
            "09.49-55  50  15\n",
            "10.>=56   47  19\n",
            "default          0         1       woe        iv\n",
            "Usia_Bin                                        \n",
            "01.<=23   0.089552  0.143885  0.474191  0.100136\n",
            "02.24-26  0.122388  0.179856  0.384960  0.100136\n",
            "03.27-28  0.092537  0.086331 -0.069424  0.100136\n",
            "04.29-31  0.111940  0.111511 -0.003844  0.100136\n",
            "05.32-34  0.094030  0.104317  0.103818  0.100136\n",
            "06.35-37  0.123881  0.064748 -0.648812  0.100136\n",
            "07.38-42  0.119403  0.100719 -0.170166  0.100136\n",
            "08.43-48  0.101493  0.086331 -0.161797  0.100136\n",
            "09.49-55  0.074627  0.053957 -0.324316  0.100136\n",
            "10.>=56   0.070149  0.068345 -0.026052  0.100136\n"
          ]
        }
      ]
    },
    {
      "cell_type": "code",
      "metadata": {
        "id": "BETSmws_CDAx",
        "colab": {
          "base_uri": "https://localhost:8080/"
        },
        "outputId": "23093050-aa48-4b3d-9828-cd9834d52fce"
      },
      "source": [
        "# Variabel Usia dengan WOE dan IV yang dioptimumkan\n",
        "\n",
        "conditions = [\n",
        "             ( df_clean['Usia'] <= 23 ),\n",
        "             ( df_clean['Usia'] >= 24 ) & ( df_clean['Usia'] <= 34),\n",
        "             ( df_clean['Usia'] >= 35 ) & ( df_clean['Usia'] <= 55 ),\n",
        "             ( df_clean['Usia'] >= 56 )\n",
        "             ]\n",
        "\n",
        "choices = [\n",
        "          '1.<=23',\n",
        "          '2.24-34',\n",
        "          '3.35-55',\n",
        "          '6.>=56'\n",
        "          ]\n",
        "df_clean['Usia_Bin'] = np.select(conditions, choices)\n",
        "\n",
        "# Untuk melihat proporsi (dalam persentase) dari variabel Usia\n",
        "print(df_clean['Usia_Bin'].value_counts(normalize=True) * 100)\n",
        "\n",
        "print(pd.crosstab(df_clean['Usia_Bin'], df_clean['default']))\n",
        "\n",
        "df_woe_iv = (pd.crosstab(df_clean['Usia_Bin'],df_clean['default'],normalize='columns')\n",
        "             .assign(woe=lambda dfx: np.log(dfx[1] / dfx[0]))\n",
        "             .assign(iv=lambda dfx: np.sum(dfx['woe']*\n",
        "                                           (dfx[1]-dfx[0]))))\n",
        "\n",
        "print(df_woe_iv)\n",
        "\n",
        "conditions = [\n",
        "             ( df_clean['Usia'] <= 23 ),\n",
        "             ( df_clean['Usia'] >= 24 ) & ( df_clean['Usia'] <= 34),\n",
        "             ( df_clean['Usia'] >= 35 ) & ( df_clean['Usia'] <= 55 ),\n",
        "             ( df_clean['Usia'] >= 56 )\n",
        "             ]\n",
        "\n",
        "choices = [\n",
        "          0.474191,\n",
        "          0.135589,\n",
        "          -0.316047,\n",
        "          -0.026052\n",
        "          ]\n",
        "df_clean['Usia_WOE'] = np.select(conditions, choices)"
      ],
      "execution_count": 284,
      "outputs": [
        {
          "output_type": "stream",
          "name": "stdout",
          "text": [
            "2.24-34    43.881857\n",
            "3.35-55    38.607595\n",
            "1.<=23     10.548523\n",
            "6.>=56      6.962025\n",
            "Name: Usia_Bin, dtype: float64\n",
            "default     0    1\n",
            "Usia_Bin          \n",
            "1.<=23     60   40\n",
            "2.24-34   282  134\n",
            "3.35-55   281   85\n",
            "6.>=56     47   19\n",
            "default          0         1       woe        iv\n",
            "Usia_Bin                                        \n",
            "1.<=23    0.089552  0.143885  0.474191  0.070016\n",
            "2.24-34   0.420896  0.482014  0.135589  0.070016\n",
            "3.35-55   0.419403  0.305755 -0.316047  0.070016\n",
            "6.>=56    0.070149  0.068345 -0.026052  0.070016\n"
          ]
        }
      ]
    },
    {
      "cell_type": "markdown",
      "metadata": {
        "id": "LR1tqMXv4O5-"
      },
      "source": [
        "# Pembuatan WOE untuk variabel lainnya"
      ]
    },
    {
      "cell_type": "code",
      "metadata": {
        "id": "S1RnjSNufIqe",
        "colab": {
          "base_uri": "https://localhost:8080/"
        },
        "outputId": "54da56ae-1c83-46e7-a2a0-79dc5a9a06eb"
      },
      "source": [
        "# Variabel Tujuan_Pinjaman\n",
        "\n",
        "# Untuk melihat proporsi (dalam persentase) dari variabel Tujuan_Pinjaman\n",
        "print(df_clean['Tujuan_Pinjaman'].value_counts(normalize=True) * 100)\n",
        "\n",
        "df_woe_iv = (pd.crosstab(df_clean['Tujuan_Pinjaman'],df_clean['default'],normalize='columns')\n",
        "             .assign(woe=lambda dfx: np.log(dfx[1] / dfx[0]))\n",
        "             .assign(iv=lambda dfx: np.sum(dfx['woe']*\n",
        "                                           (dfx[1]-dfx[0]))))\n",
        "\n",
        "print(df_woe_iv)\n",
        "\n",
        "conditions = [\n",
        "             ( (df_clean['Tujuan_Pinjaman'] == 'pendidikan') ), \n",
        "             ( df_clean['Tujuan_Pinjaman'] == 'buka_bisnis' ),\n",
        "             ( (df_clean['Tujuan_Pinjaman'] == 'liburan') ),\n",
        "             ( (df_clean['Tujuan_Pinjaman'] == 'elektronik')   ), \n",
        "             ( df_clean['Tujuan_Pinjaman'] == 'peralatan_rumahtangga' ),\n",
        "             ( df_clean['Tujuan_Pinjaman'] == 'makanan' )\n",
        "             ]\n",
        "\n",
        "choices = [\n",
        "          '1.pendidikan',\n",
        "          '2.buka_bisnis',\n",
        "          '3.liburan',\n",
        "          '4.elektronik',\n",
        "          '5.peralatan_rumahtangga',\n",
        "          '6.makanan'\n",
        "          ]\n",
        "df_clean['Tujuan_Pinjaman_Bin'] = np.select(conditions, choices)\n",
        "\n",
        "print(pd.crosstab(df_clean['Tujuan_Pinjaman_Bin'], df_clean['default']))\n",
        "\n",
        "df_woe_iv = (pd.crosstab(df_clean['Tujuan_Pinjaman_Bin'],df_clean['default'],normalize='columns')\n",
        "             .assign(woe=lambda dfx: np.log(dfx[1] / dfx[0]))\n",
        "             .assign(iv=lambda dfx: np.sum(dfx['woe']*\n",
        "                                           (dfx[1]-dfx[0]))))\n",
        "print(df_woe_iv)\n",
        "\n",
        "conditions = [\n",
        "             ( (df_clean['Tujuan_Pinjaman'] == 'pendidikan') ), \n",
        "             ( df_clean['Tujuan_Pinjaman'] == 'buka_bisnis' ),\n",
        "             ( (df_clean['Tujuan_Pinjaman'] == 'liburan') ),\n",
        "             ( (df_clean['Tujuan_Pinjaman'] == 'elektronik')   ), \n",
        "             ( df_clean['Tujuan_Pinjaman'] == 'peralatan_rumahtangga' ),\n",
        "             ( df_clean['Tujuan_Pinjaman'] == 'makanan' )\n",
        "             ]\n",
        "\n",
        "choices = [\n",
        "          -0.8,\n",
        "          -0.5,\n",
        "          -0.3,\n",
        "          0.4,\n",
        "          0.5,\n",
        "          0.8\n",
        "          ]\n",
        "df_clean['Tujuan_Pinjaman_WOE'] = np.select(conditions, choices)\n"
      ],
      "execution_count": 285,
      "outputs": [
        {
          "output_type": "stream",
          "name": "stdout",
          "text": [
            "elektronik               43.037975\n",
            "buka_bisnis              18.670886\n",
            "makanan                  10.970464\n",
            "peralatan_rumahtangga    10.864979\n",
            "liburan                   8.649789\n",
            "pendidikan                7.805907\n",
            "Name: Tujuan_Pinjaman, dtype: float64\n",
            "default                       0         1       woe        iv\n",
            "Tujuan_Pinjaman                                              \n",
            "buka_bisnis            0.200000  0.154676 -0.256983  0.068185\n",
            "elektronik             0.425373  0.442446  0.039352  0.068185\n",
            "liburan                0.089552  0.079137 -0.123646  0.068185\n",
            "makanan                0.092537  0.151079  0.490192  0.068185\n",
            "pendidikan             0.089552  0.050360 -0.575631  0.068185\n",
            "peralatan_rumahtangga  0.102985  0.122302  0.171911  0.068185\n",
            "default                    0    1\n",
            "Tujuan_Pinjaman_Bin              \n",
            "1.pendidikan              60   14\n",
            "2.buka_bisnis            134   43\n",
            "3.liburan                 60   22\n",
            "4.elektronik             285  123\n",
            "5.peralatan_rumahtangga   69   34\n",
            "6.makanan                 62   42\n",
            "default                         0         1       woe        iv\n",
            "Tujuan_Pinjaman_Bin                                            \n",
            "1.pendidikan             0.089552  0.050360 -0.575631  0.068185\n",
            "2.buka_bisnis            0.200000  0.154676 -0.256983  0.068185\n",
            "3.liburan                0.089552  0.079137 -0.123646  0.068185\n",
            "4.elektronik             0.425373  0.442446  0.039352  0.068185\n",
            "5.peralatan_rumahtangga  0.102985  0.122302  0.171911  0.068185\n",
            "6.makanan                0.092537  0.151079  0.490192  0.068185\n"
          ]
        }
      ]
    },
    {
      "cell_type": "code",
      "metadata": {
        "id": "z0ckyODs6nXq",
        "colab": {
          "base_uri": "https://localhost:8080/"
        },
        "outputId": "1303a676-f548-408b-a1a0-b69d2d9920eb"
      },
      "source": [
        "# Variabel API_CreditScore_Vendor_A\n",
        "\n",
        "conditions = [\n",
        "             ( df_clean['API_CreditScore_Vendor_A'] <= 250 ), \n",
        "             ( df_clean['API_CreditScore_Vendor_A'] <= 750 ),\n",
        "             ( df_clean['API_CreditScore_Vendor_A'] > 750 )\n",
        "             ]\n",
        "\n",
        "choices = [\n",
        "          '01.0-250',\n",
        "          '02.250-750',\n",
        "          '03.>750'\n",
        "          ]\n",
        "df_clean['API_CreditScore_Vendor_A_Bin'] = np.select(conditions, choices)\n",
        "\n",
        "print(pd.crosstab(df_clean['API_CreditScore_Vendor_A_Bin'], df_clean['default']))\n",
        "\n",
        "# Untuk melihat proporsi (dalam persentase) dari variabel API_CreditScore_Vendor_A_Bin\n",
        "print(df_clean['API_CreditScore_Vendor_A_Bin'].value_counts(normalize=True) * 100)\n",
        "\n",
        "df_woe_iv = (pd.crosstab(df_clean['API_CreditScore_Vendor_A_Bin'],df_clean['default'],normalize='columns')\n",
        "             .assign(woe=lambda dfx: np.log(dfx[1] / dfx[0]))\n",
        "             .assign(iv=lambda dfx: np.sum(dfx['woe']*\n",
        "                                           (dfx[1]-dfx[0]))))\n",
        "print(df_woe_iv)\n",
        "\n",
        "conditions = [\n",
        "             ( df_clean['API_CreditScore_Vendor_A'] <= 250 ), \n",
        "             ( df_clean['API_CreditScore_Vendor_A'] <= 750 ),\n",
        "             ( df_clean['API_CreditScore_Vendor_A'] > 750 )\n",
        "             ]\n",
        "\n",
        "choices = [\n",
        "          0.137238,\n",
        "          -0.026325,\n",
        "          -0.315583\n",
        "          ]\n",
        "df_clean['API_CreditScore_Vendor_A_WOE'] = np.select(conditions, choices)"
      ],
      "execution_count": 286,
      "outputs": [
        {
          "output_type": "stream",
          "name": "stdout",
          "text": [
            "default                         0    1\n",
            "API_CreditScore_Vendor_A_Bin          \n",
            "01.0-250                      208   99\n",
            "02.250-750                    386  156\n",
            "03.>750                        76   23\n",
            "02.250-750    57.172996\n",
            "01.0-250      32.383966\n",
            "03.>750       10.443038\n",
            "Name: API_CreditScore_Vendor_A_Bin, dtype: float64\n",
            "default                              0         1       woe        iv\n",
            "API_CreditScore_Vendor_A_Bin                                        \n",
            "01.0-250                      0.310448  0.356115  0.137238  0.016349\n",
            "02.250-750                    0.576119  0.561151 -0.026325  0.016349\n",
            "03.>750                       0.113433  0.082734 -0.315583  0.016349\n"
          ]
        }
      ]
    },
    {
      "cell_type": "code",
      "metadata": {
        "id": "Wyxe7td1mvkC",
        "colab": {
          "base_uri": "https://localhost:8080/"
        },
        "outputId": "611e8cb6-b3a4-4ba9-c406-df7e24284d15"
      },
      "source": [
        "# Variabel Lama_Cicilan\n",
        "\n",
        "# Untuk melihat proporsi (dalam persentase) dari variabel Lama_Cicilan\n",
        "print(df_clean['Lama_Cicilan'].value_counts(normalize=True) * 100)\n",
        "\n",
        "df_woe_iv = (pd.crosstab(df_clean['Lama_Cicilan'],df_clean['default'],normalize='columns')\n",
        "             .assign(woe=lambda dfx: np.log(dfx[1] / dfx[0]))\n",
        "             .assign(iv=lambda dfx: np.sum(dfx['woe']*\n",
        "                                           (dfx[1]-dfx[0]))))\n",
        "\n",
        "print(df_woe_iv)\n",
        "\n",
        "conditions = [\n",
        "             ( df_clean['Lama_Cicilan'] == 1 ), \n",
        "             ( df_clean['Lama_Cicilan'] == 2 ), \n",
        "             ( df_clean['Lama_Cicilan'] == 3 ), \n",
        "             ( df_clean['Lama_Cicilan'] == 4 ), \n",
        "             ( df_clean['Lama_Cicilan'] == 5 ), \n",
        "             ( df_clean['Lama_Cicilan'] == 6 )\n",
        "             ]\n",
        "\n",
        "choices = [\n",
        "          '1_bulan',\n",
        "          '2_bulan',\n",
        "          '3_bulan',\n",
        "          '4_bulan',\n",
        "          '5_bulan',\n",
        "          '6_bulan'\n",
        "          ]\n",
        "df_clean['Lama_Cicilan_Bin'] = np.select(conditions, choices)\n",
        "\n",
        "print(pd.crosstab(df_clean['Lama_Cicilan_Bin'], df_clean['default']))\n",
        "\n",
        "df_woe_iv = (pd.crosstab(df_clean['Lama_Cicilan_Bin'],df_clean['default'],normalize='columns')\n",
        "             .assign(woe=lambda dfx: np.log(dfx[1] / dfx[0]))\n",
        "             .assign(iv=lambda dfx: np.sum(dfx['woe']*\n",
        "                                           (dfx[1]-dfx[0]))))\n",
        "print(df_woe_iv)\n",
        "\n",
        "conditions = [\n",
        "             ( df_clean['Lama_Cicilan'] == 1 ), \n",
        "             ( df_clean['Lama_Cicilan'] == 2 ), \n",
        "             ( df_clean['Lama_Cicilan'] == 3 ), \n",
        "             ( df_clean['Lama_Cicilan'] == 4 ), \n",
        "             ( df_clean['Lama_Cicilan'] == 5 ), \n",
        "             ( df_clean['Lama_Cicilan'] == 6 )\n",
        "             ]\n",
        "\n",
        "choices = [\n",
        "          0.261630,\n",
        "          -0.610435,\n",
        "          -0.094903,\n",
        "          -0.564457,\n",
        "          -0.357106,\n",
        "          0.348352\n",
        "          ]\n",
        "df_clean['Lama_Cicilan_WOE'] = np.select(conditions, choices)"
      ],
      "execution_count": 287,
      "outputs": [
        {
          "output_type": "stream",
          "name": "stdout",
          "text": [
            "6.0    24.789030\n",
            "3.0    23.101266\n",
            "1.0    22.890295\n",
            "4.0    11.603376\n",
            "2.0     9.177215\n",
            "5.0     8.438819\n",
            "Name: Lama_Cicilan, dtype: float64\n",
            "default              0         1       woe        iv\n",
            "Lama_Cicilan                                        \n",
            "1.0           0.210448  0.273381  0.261630  0.122392\n",
            "2.0           0.105970  0.057554 -0.610435  0.122392\n",
            "3.0           0.237313  0.215827 -0.094903  0.122392\n",
            "4.0           0.132836  0.075540 -0.564457  0.122392\n",
            "5.0           0.092537  0.064748 -0.357106  0.122392\n",
            "6.0           0.220896  0.312950  0.348352  0.122392\n",
            "default             0   1\n",
            "Lama_Cicilan_Bin         \n",
            "1_bulan           141  76\n",
            "2_bulan            71  16\n",
            "3_bulan           159  60\n",
            "4_bulan            89  21\n",
            "5_bulan            62  18\n",
            "6_bulan           148  87\n",
            "default                  0         1       woe        iv\n",
            "Lama_Cicilan_Bin                                        \n",
            "1_bulan           0.210448  0.273381  0.261630  0.122392\n",
            "2_bulan           0.105970  0.057554 -0.610435  0.122392\n",
            "3_bulan           0.237313  0.215827 -0.094903  0.122392\n",
            "4_bulan           0.132836  0.075540 -0.564457  0.122392\n",
            "5_bulan           0.092537  0.064748 -0.357106  0.122392\n",
            "6_bulan           0.220896  0.312950  0.348352  0.122392\n"
          ]
        }
      ]
    },
    {
      "cell_type": "code",
      "metadata": {
        "id": "lxWSC99NrNRO",
        "colab": {
          "base_uri": "https://localhost:8080/"
        },
        "outputId": "1fa4ff96-e073-4ca2-af50-8d3cca9a3d95"
      },
      "source": [
        "# Variabel Device_Apps_Segmentation\n",
        "\n",
        "# Untuk melihat proporsi (dalam persentase) dari variabel Device_Apps_Segmentation\n",
        "print(df_clean['Device_Apps_Segmentation'].value_counts(normalize=True) * 100)\n",
        "\n",
        "df_woe_iv = (pd.crosstab(df_clean['Device_Apps_Segmentation'],df_clean['default'],normalize='columns')\n",
        "             .assign(woe=lambda dfx: np.log(dfx[1] / dfx[0]))\n",
        "             .assign(iv=lambda dfx: np.sum(dfx['woe']*\n",
        "                                           (dfx[1]-dfx[0]))))\n",
        "\n",
        "print(df_woe_iv)\n",
        "\n",
        "conditions = [\n",
        "             ( df_clean['Device_Apps_Segmentation'] == 'Productivity' ), \n",
        "             ( df_clean['Device_Apps_Segmentation'] == 'Social_Media' ), \n",
        "             ( df_clean['Device_Apps_Segmentation'] == 'Shopping' ), \n",
        "             ( df_clean['Device_Apps_Segmentation'] == 'Games' ), \n",
        "             ( df_clean['Device_Apps_Segmentation'] == 'Online_Lending' )\n",
        "             ]\n",
        "\n",
        "choices = [\n",
        "          'Productivity',\n",
        "          'Social_Media',\n",
        "          'Shopping',\n",
        "          'Games',\n",
        "          'Online_Lending'\n",
        "          ]\n",
        "df_clean['Device_Apps_Segmentation_Bin'] = np.select(conditions, choices)\n",
        "\n",
        "print(pd.crosstab(df_clean['Device_Apps_Segmentation_Bin'], df_clean['default']))\n",
        "\n",
        "df_woe_iv = (pd.crosstab(df_clean['Device_Apps_Segmentation_Bin'],df_clean['default'],normalize='columns')\n",
        "             .assign(woe=lambda dfx: np.log(dfx[1] / dfx[0]))\n",
        "             .assign(iv=lambda dfx: np.sum(dfx['woe']*\n",
        "                                           (dfx[1]-dfx[0]))))\n",
        "print(df_woe_iv)\n",
        "\n",
        "conditions = [\n",
        "             ( df_clean['Device_Apps_Segmentation'] == 'Productivity' ), \n",
        "             ( df_clean['Device_Apps_Segmentation'] == 'Social_Media' ), \n",
        "             ( df_clean['Device_Apps_Segmentation'] == 'Shopping' ), \n",
        "             ( df_clean['Device_Apps_Segmentation'] == 'Games' ), \n",
        "             ( df_clean['Device_Apps_Segmentation'] == 'Online_Lending' )\n",
        "             ]\n",
        "\n",
        "choices = [\n",
        "          -0.384035,\n",
        "          -0.044447,\n",
        "          -0.280831,\n",
        "          0.141253,\n",
        "          0.711034\n",
        "          ]\n",
        "df_clean['Device_Apps_Segmentation_WOE'] = np.select(conditions, choices)"
      ],
      "execution_count": 288,
      "outputs": [
        {
          "output_type": "stream",
          "name": "stdout",
          "text": [
            "Social_Media      37.869198\n",
            "Shopping          20.780591\n",
            "Games             17.616034\n",
            "Productivity      12.447257\n",
            "Online_Lending    11.286920\n",
            "Name: Device_Apps_Segmentation, dtype: float64\n",
            "default                          0         1       woe       iv\n",
            "Device_Apps_Segmentation                                       \n",
            "Games                     0.168657  0.194245  0.141253  0.10034\n",
            "Online_Lending            0.086567  0.176259  0.711034  0.10034\n",
            "Productivity              0.137313  0.093525 -0.384035  0.10034\n",
            "Shopping                  0.223881  0.169065 -0.280831  0.10034\n",
            "Social_Media              0.383582  0.366906 -0.044447  0.10034\n",
            "default                         0    1\n",
            "Device_Apps_Segmentation_Bin          \n",
            "Games                         113   54\n",
            "Online_Lending                 58   49\n",
            "Productivity                   92   26\n",
            "Shopping                      150   47\n",
            "Social_Media                  257  102\n",
            "default                              0         1       woe       iv\n",
            "Device_Apps_Segmentation_Bin                                       \n",
            "Games                         0.168657  0.194245  0.141253  0.10034\n",
            "Online_Lending                0.086567  0.176259  0.711034  0.10034\n",
            "Productivity                  0.137313  0.093525 -0.384035  0.10034\n",
            "Shopping                      0.223881  0.169065 -0.280831  0.10034\n",
            "Social_Media                  0.383582  0.366906 -0.044447  0.10034\n"
          ]
        }
      ]
    },
    {
      "cell_type": "code",
      "metadata": {
        "id": "rP359J4H9kC4",
        "colab": {
          "base_uri": "https://localhost:8080/"
        },
        "outputId": "8efa96ec-7778-46af-f05b-53f82179814c"
      },
      "source": [
        "# Variabel API_CreditScore_Vendor_B\n",
        "\n",
        "conditions = [\n",
        "             ( df_clean['API_CreditScore_Vendor_B'] <= 100 ),\n",
        "             ( df_clean['API_CreditScore_Vendor_B'] <= 175 ),\n",
        "             ( df_clean['API_CreditScore_Vendor_B'] <= 225 ),\n",
        "             ( df_clean['API_CreditScore_Vendor_B'] <= 299 ),\n",
        "             ( df_clean['API_CreditScore_Vendor_B'] > 299 )\n",
        "             ]\n",
        "\n",
        "choices = [\n",
        "          '1.0-100',\n",
        "          '2.101-175',\n",
        "          '3.176-225',\n",
        "          '4.226-299',\n",
        "          '5.>299'\n",
        "          ]\n",
        "df_clean['API_CreditScore_Vendor_B_Bin'] = np.select(conditions, choices)\n",
        "\n",
        "print(pd.crosstab(df_clean['API_CreditScore_Vendor_B_Bin'], df_clean['default']))\n",
        "\n",
        "# Untuk melihat proporsi (dalam persentase) dari variabel API_CreditScore_Vendor_A_Bin\n",
        "print(df_clean['API_CreditScore_Vendor_B_Bin'].value_counts(normalize=True) * 100)\n",
        "\n",
        "df_woe_iv = (pd.crosstab(df_clean['API_CreditScore_Vendor_B_Bin'],df_clean['default'],normalize='columns')\n",
        "             .assign(woe=lambda dfx: np.log(dfx[1] / dfx[0]))\n",
        "             .assign(iv=lambda dfx: np.sum(dfx['woe']*\n",
        "                                           (dfx[1]-dfx[0]))))\n",
        "print(df_woe_iv)\n",
        "\n",
        "conditions = [\n",
        "             ( df_clean['API_CreditScore_Vendor_B'] <= 100 ),\n",
        "             ( df_clean['API_CreditScore_Vendor_B'] <= 175 ),\n",
        "             ( df_clean['API_CreditScore_Vendor_B'] <= 225 ),\n",
        "             ( df_clean['API_CreditScore_Vendor_B'] <= 299 ),\n",
        "             ( df_clean['API_CreditScore_Vendor_B'] > 299 )\n",
        "             ]\n",
        "\n",
        "choices = [\n",
        "          0.290050,\n",
        "          0.218945,\n",
        "          0.148043,\n",
        "          0.123331,\n",
        "          -2.850045\n",
        "          ]\n",
        "df_clean['API_CreditScore_Vendor_B_WOE'] = np.select(conditions, choices)"
      ],
      "execution_count": 289,
      "outputs": [
        {
          "output_type": "stream",
          "name": "stdout",
          "text": [
            "default                         0   1\n",
            "API_CreditScore_Vendor_B_Bin         \n",
            "1.0-100                       110  61\n",
            "2.101-175                     182  94\n",
            "3.176-225                     106  51\n",
            "4.226-299                     147  69\n",
            "5.>299                        125   3\n",
            "2.101-175    29.113924\n",
            "4.226-299    22.784810\n",
            "1.0-100      18.037975\n",
            "3.176-225    16.561181\n",
            "5.>299       13.502110\n",
            "Name: API_CreditScore_Vendor_B_Bin, dtype: float64\n",
            "default                              0         1       woe        iv\n",
            "API_CreditScore_Vendor_B_Bin                                        \n",
            "1.0-100                       0.164179  0.219424  0.290050  0.538839\n",
            "2.101-175                     0.271642  0.338129  0.218945  0.538839\n",
            "3.176-225                     0.158209  0.183453  0.148043  0.538839\n",
            "4.226-299                     0.219403  0.248201  0.123331  0.538839\n",
            "5.>299                        0.186567  0.010791 -2.850045  0.538839\n"
          ]
        }
      ]
    },
    {
      "cell_type": "code",
      "metadata": {
        "id": "z2Zp_hwRf4P5",
        "colab": {
          "base_uri": "https://localhost:8080/"
        },
        "outputId": "3ef9a960-91d9-479e-e3eb-71c807369eed"
      },
      "source": [
        "# Variabel Mobile_Provider\n",
        "\n",
        "# Untuk melihat proporsi (dalam persentase) dari variabel Device_Apps_Segmentation\n",
        "print(df_clean['Mobile_Provider'].value_counts(normalize=True) * 100)\n",
        "\n",
        "print(pd.crosstab(df_clean['Mobile_Provider'], df_clean['default']))\n",
        "\n",
        "df_woe_iv = (pd.crosstab(df_clean['Mobile_Provider'],df_clean['default'],normalize='columns')\n",
        "             .assign(woe=lambda dfx: np.log(dfx[1] / dfx[0]))\n",
        "             .assign(iv=lambda dfx: np.sum(dfx['woe']*\n",
        "                                           (dfx[1]-dfx[0]))))\n",
        "\n",
        "print(df_woe_iv)\n",
        "\n",
        "conditions = [\n",
        "             ( df_clean['Mobile_Provider'] == 'Telco_A' ), \n",
        "             ( df_clean['Mobile_Provider'] == 'Telco_B' ), \n",
        "             ( df_clean['Mobile_Provider'] == 'Telco_C' ), \n",
        "             ( df_clean['Mobile_Provider'] == 'Telco_D' ), \n",
        "             ( df_clean['Mobile_Provider'] == 'Telco_E' )\n",
        "             ]\n",
        "\n",
        "choices = [\n",
        "          'Telco_A',\n",
        "          'Telco_B',\n",
        "          'Telco_C',\n",
        "          'Telco_D',\n",
        "          'Telco_E'\n",
        "          ]\n",
        "df_clean['Mobile_Provider_Bin'] = np.select(conditions, choices)\n",
        "\n",
        "\n",
        "conditions = [\n",
        "             ( df_clean['Mobile_Provider'] == 'Telco_A' ), \n",
        "             ( df_clean['Mobile_Provider'] == 'Telco_B' ), \n",
        "             ( df_clean['Mobile_Provider'] == 'Telco_C' ), \n",
        "             ( df_clean['Mobile_Provider'] == 'Telco_D' ), \n",
        "             ( df_clean['Mobile_Provider'] == 'Telco_E' )\n",
        "             ]\n",
        "\n",
        "choices = [\n",
        "          -0.434317,\n",
        "          -0.059624,\n",
        "          -0.171553,\n",
        "          0.389450,\n",
        "          0.995488\n",
        "          ]\n",
        "df_clean['Mobile_Provider_WOE'] = np.select(conditions, choices)"
      ],
      "execution_count": 290,
      "outputs": [
        {
          "output_type": "stream",
          "name": "stdout",
          "text": [
            "Telco_A    42.827004\n",
            "Telco_B    16.139241\n",
            "Telco_C    14.662447\n",
            "Telco_D    13.607595\n",
            "Telco_E    12.763713\n",
            "Name: Mobile_Provider, dtype: float64\n",
            "default            0   1\n",
            "Mobile_Provider         \n",
            "Telco_A          320  86\n",
            "Telco_B          110  43\n",
            "Telco_C          103  36\n",
            "Telco_D           80  49\n",
            "Telco_E           57  64\n",
            "default                 0         1       woe        iv\n",
            "Mobile_Provider                                        \n",
            "Telco_A          0.477612  0.309353 -0.434317  0.244431\n",
            "Telco_B          0.164179  0.154676 -0.059624  0.244431\n",
            "Telco_C          0.153731  0.129496 -0.171553  0.244431\n",
            "Telco_D          0.119403  0.176259  0.389450  0.244431\n",
            "Telco_E          0.085075  0.230216  0.995488  0.244431\n"
          ]
        }
      ]
    },
    {
      "cell_type": "code",
      "metadata": {
        "id": "5nY0_Su0_nBB",
        "colab": {
          "base_uri": "https://localhost:8080/"
        },
        "outputId": "47a8a034-1e9c-4583-8dc6-2a6f1ee8ae36"
      },
      "source": [
        "# Variabel Device_Apps_Installed\n",
        "\n",
        "conditions = [\n",
        "             ( df_clean['Device_Apps_Installed'] <= 5 ),\n",
        "             ( df_clean['Device_Apps_Installed'] <= 10 ),\n",
        "             ( df_clean['Device_Apps_Installed'] <= 15 ),\n",
        "             ( df_clean['Device_Apps_Installed'] <= 20 ),\n",
        "             ( df_clean['Device_Apps_Installed'] <= 30 ),\n",
        "             ( df_clean['Device_Apps_Installed'] > 30 )\n",
        "             ]\n",
        "\n",
        "choices = [\n",
        "          '1.0-5',\n",
        "          '2.5-10',\n",
        "          '3.10-15',\n",
        "          '4.15-20',\n",
        "          '5.20-30',\n",
        "          '6.>30'\n",
        "          ]\n",
        "df_clean['Device_Apps_Installed_Bin'] = np.select(conditions, choices)\n",
        "\n",
        "print(pd.crosstab(df_clean['Device_Apps_Installed_Bin'], df_clean['default']))\n",
        "\n",
        "# Untuk melihat proporsi (dalam persentase) dari variabel API_CreditScore_Vendor_A_Bin\n",
        "print(df_clean['Device_Apps_Installed_Bin'].value_counts(normalize=True) * 100)\n",
        "\n",
        "df_woe_iv = (pd.crosstab(df_clean['Device_Apps_Installed_Bin'],df_clean['default'],normalize='columns')\n",
        "             .assign(woe=lambda dfx: np.log(dfx[1] / dfx[0]))\n",
        "             .assign(iv=lambda dfx: np.sum(dfx['woe']*\n",
        "                                           (dfx[1]-dfx[0]))))\n",
        "print(df_woe_iv)\n",
        "\n",
        "conditions = [\n",
        "             ( df_clean['Device_Apps_Installed'] <= 5 ),\n",
        "             ( df_clean['Device_Apps_Installed'] <= 10 ),\n",
        "             ( df_clean['Device_Apps_Installed'] <= 15 ),\n",
        "             ( df_clean['Device_Apps_Installed'] <= 20 ),\n",
        "             ( df_clean['Device_Apps_Installed'] <= 30 ),\n",
        "             ( df_clean['Device_Apps_Installed'] > 30 )\n",
        "             ]\n",
        "\n",
        "choices = [\n",
        "          0.583391,\n",
        "          0.234828,\n",
        "          0.195478,\n",
        "          -0.057468,\n",
        "          -0.104180,\n",
        "          -0.781075\n",
        "          ]\n",
        "df_clean['Device_Apps_Installed_WOE'] = np.select(conditions, choices)"
      ],
      "execution_count": 291,
      "outputs": [
        {
          "output_type": "stream",
          "name": "stdout",
          "text": [
            "default                      0   1\n",
            "Device_Apps_Installed_Bin         \n",
            "1.0-5                       39  29\n",
            "2.5-10                     101  53\n",
            "3.10-15                    111  56\n",
            "4.15-20                     97  38\n",
            "5.20-30                    222  83\n",
            "6.>30                      100  19\n",
            "5.20-30    32.172996\n",
            "3.10-15    17.616034\n",
            "2.5-10     16.244726\n",
            "4.15-20    14.240506\n",
            "6.>30      12.552743\n",
            "1.0-5       7.172996\n",
            "Name: Device_Apps_Installed_Bin, dtype: float64\n",
            "default                           0         1       woe        iv\n",
            "Device_Apps_Installed_Bin                                        \n",
            "1.0-5                      0.058209  0.104317  0.583391  0.110336\n",
            "2.5-10                     0.150746  0.190647  0.234828  0.110336\n",
            "3.10-15                    0.165672  0.201439  0.195478  0.110336\n",
            "4.15-20                    0.144776  0.136691 -0.057468  0.110336\n",
            "5.20-30                    0.331343  0.298561 -0.104180  0.110336\n",
            "6.>30                      0.149254  0.068345 -0.781075  0.110336\n"
          ]
        }
      ]
    },
    {
      "cell_type": "code",
      "metadata": {
        "id": "n3pJLqyN_tW-",
        "colab": {
          "base_uri": "https://localhost:8080/"
        },
        "outputId": "a3273e40-dc48-4ec7-869d-097f0ad2f9e9"
      },
      "source": [
        "# Variabel Device_Active_Since\n",
        "\n",
        "# Untuk melihat proporsi (dalam persentase) dari variabel Device_Active_Since\n",
        "print(df_clean['Device_Active_Since'].value_counts(normalize=True) * 100)\n",
        "\n",
        "print(pd.crosstab(df_clean['Device_Active_Since'], df_clean['default']))\n",
        "\n",
        "df_woe_iv = (pd.crosstab(df_clean['Device_Active_Since'],df_clean['default'],normalize='columns')\n",
        "             .assign(woe=lambda dfx: np.log(dfx[1] / dfx[0]))\n",
        "             .assign(iv=lambda dfx: np.sum(dfx['woe']*\n",
        "                                           (dfx[1]-dfx[0]))))\n",
        "\n",
        "print(df_woe_iv)\n",
        "\n",
        "conditions = [\n",
        "             ( df_clean['Device_Active_Since'] == '1_Kurang_1_tahun' ), \n",
        "             ( df_clean['Device_Active_Since'] == '2_1_ke_3_tahun' ), \n",
        "             ( df_clean['Device_Active_Since'] == '3_Lebih_3_tahun' )\n",
        "             ]\n",
        "\n",
        "choices = [\n",
        "          '1_Kurang_1_tahun',\n",
        "          '2_1_ke_3_tahun',\n",
        "          '3_Lebih_3_tahun'\n",
        "          ]\n",
        "df_clean['Device_Active_Since_Bin'] = np.select(conditions, choices)\n",
        "\n",
        "\n",
        "conditions = [\n",
        "             ( df_clean['Device_Active_Since'] == '1_Kurang_1_tahun' ), \n",
        "             ( df_clean['Device_Active_Since'] == '2_1_ke_3_tahun' ), \n",
        "             ( df_clean['Device_Active_Since'] == '3_Lebih_3_tahun' )\n",
        "             ]\n",
        "\n",
        "choices = [\n",
        "          -0.041500,\n",
        "          -0.124465,\n",
        "          0.169268\n",
        "          ]\n",
        "df_clean['Device_Active_Since_WOE'] = np.select(conditions, choices)\n"
      ],
      "execution_count": 292,
      "outputs": [
        {
          "output_type": "stream",
          "name": "stdout",
          "text": [
            "2_1_ke_3_tahun      47.995781\n",
            "3_Lebih_3_tahun     36.814346\n",
            "1_Kurang_1_tahun    15.189873\n",
            "Name: Device_Active_Since, dtype: float64\n",
            "default                0    1\n",
            "Device_Active_Since          \n",
            "1_Kurang_1_tahun     103   41\n",
            "2_1_ke_3_tahun       333  122\n",
            "3_Lebih_3_tahun      234  115\n",
            "default                     0         1       woe        iv\n",
            "Device_Active_Since                                        \n",
            "1_Kurang_1_tahun     0.153731  0.147482 -0.041500  0.018402\n",
            "2_1_ke_3_tahun       0.497015  0.438849 -0.124465  0.018402\n",
            "3_Lebih_3_tahun      0.349254  0.413669  0.169268  0.018402\n"
          ]
        }
      ]
    },
    {
      "cell_type": "code",
      "metadata": {
        "id": "94nCahAKCrIH",
        "colab": {
          "base_uri": "https://localhost:8080/"
        },
        "outputId": "9408ad2e-ad43-4816-f1f9-bc5d0233e943"
      },
      "source": [
        "# Variabel Mobile_Number_Active_Since\n",
        "\n",
        "# Untuk melihat proporsi (dalam persentase) dari variabel Device_Active_Since\n",
        "print(df_clean['Mobile_Number_Active_Since'].value_counts(normalize=True) * 100)\n",
        "\n",
        "print(pd.crosstab(df_clean['Mobile_Number_Active_Since'], df_clean['default']))\n",
        "\n",
        "df_woe_iv = (pd.crosstab(df_clean['Mobile_Number_Active_Since'],df_clean['default'],normalize='columns')\n",
        "             .assign(woe=lambda dfx: np.log(dfx[1] / dfx[0]))\n",
        "             .assign(iv=lambda dfx: np.sum(dfx['woe']*\n",
        "                                           (dfx[1]-dfx[0]))))\n",
        "\n",
        "print(df_woe_iv)\n",
        "\n",
        "conditions = [\n",
        "             ( df_clean['Mobile_Number_Active_Since'] == '1_Kurang_1_bulan' ), \n",
        "             ( df_clean['Mobile_Number_Active_Since'] == '2_Kurang_1_tahun' ), \n",
        "             ( df_clean['Mobile_Number_Active_Since'] == '3_1_ke_2_tahun' ),\n",
        "             ( df_clean['Mobile_Number_Active_Since'] == '4_2_ke_5_tahun' ),\n",
        "             ( df_clean['Mobile_Number_Active_Since'] == '5_Lebih_5_tahun' )\n",
        "             ]\n",
        "\n",
        "choices = [\n",
        "          '1_Kurang_1_bulan',\n",
        "          '2_Kurang_1_tahun',\n",
        "          '3_1_ke_2_tahun',\n",
        "          '4_2_ke_5_tahun',\n",
        "          '5_Lebih_5_tahun',\n",
        "          ]\n",
        "df_clean['Mobile_Number_Active_Since_Bin'] = np.select(conditions, choices)\n",
        "\n",
        "\n",
        "conditions = [\n",
        "             ( df_clean['Mobile_Number_Active_Since'] == '1_Kurang_1_bulan' ), \n",
        "             ( df_clean['Mobile_Number_Active_Since'] == '2_Kurang_1_tahun' ), \n",
        "             ( df_clean['Mobile_Number_Active_Since'] == '3_1_ke_2_tahun' ),\n",
        "             ( df_clean['Mobile_Number_Active_Since'] == '4_2_ke_5_tahun' ),\n",
        "             ( df_clean['Mobile_Number_Active_Since'] == '5_Lebih_5_tahun' )\n",
        "             ]\n",
        "\n",
        "choices = [\n",
        "          0.407297,\n",
        "          0.238695,\n",
        "          -0.074022,\n",
        "          -0.362057,\n",
        "          -0.624421\n",
        "          ]\n",
        "df_clean['Mobile_Number_Active_Since_WOE'] = np.select(conditions, choices)"
      ],
      "execution_count": 293,
      "outputs": [
        {
          "output_type": "stream",
          "name": "stdout",
          "text": [
            "1_Kurang_1_bulan    29.113924\n",
            "5_Lebih_5_tahun     18.565401\n",
            "4_2_ke_5_tahun      18.354430\n",
            "2_Kurang_1_tahun    18.037975\n",
            "3_1_ke_2_tahun      15.928270\n",
            "Name: Mobile_Number_Active_Since, dtype: float64\n",
            "default                       0    1\n",
            "Mobile_Number_Active_Since          \n",
            "1_Kurang_1_bulan            170  106\n",
            "2_Kurang_1_tahun            112   59\n",
            "3_1_ke_2_tahun              109   42\n",
            "4_2_ke_5_tahun              135   39\n",
            "5_Lebih_5_tahun             144   32\n",
            "default                            0         1       woe       iv\n",
            "Mobile_Number_Active_Since                                       \n",
            "1_Kurang_1_bulan            0.253731  0.381295  0.407297  0.14806\n",
            "2_Kurang_1_tahun            0.167164  0.212230  0.238695  0.14806\n",
            "3_1_ke_2_tahun              0.162687  0.151079 -0.074022  0.14806\n",
            "4_2_ke_5_tahun              0.201493  0.140288 -0.362057  0.14806\n",
            "5_Lebih_5_tahun             0.214925  0.115108 -0.624421  0.14806\n"
          ]
        }
      ]
    },
    {
      "cell_type": "markdown",
      "metadata": {
        "id": "Rf3CvR4En0bw"
      },
      "source": [
        "## 2.3.3.1.1 Variabel Debt Burden Ratio (DBR)"
      ]
    },
    {
      "cell_type": "code",
      "metadata": {
        "id": "ugFhwCFJq3C1"
      },
      "source": [
        "conditions = [\n",
        "             ( df_clean['Pendapatan_perbulan'] == '1. < 1 juta' ),\n",
        "             ( df_clean['Pendapatan_perbulan'] == '2. 1 - 5 juta' ),\n",
        "             ( df_clean['Pendapatan_perbulan'] == '3. 5 - 10 juta' ),\n",
        "             ( df_clean['Pendapatan_perbulan'] == '4. 10 - 20 juta' ),\n",
        "             ( df_clean['Pendapatan_perbulan'] == '5. >20 juta' )\n",
        "             ]\n",
        "\n",
        "choices = [\n",
        "          ( (df_clean['SLIK_Cicilan_Bulanan'] + (df_clean['SLIK_Outstanding_CC'] * 0.1) ) / 1000000 ),\n",
        "          ( (df_clean['SLIK_Cicilan_Bulanan'] + (df_clean['SLIK_Outstanding_CC'] * 0.1) ) / 5000000 ),\n",
        "          ( (df_clean['SLIK_Cicilan_Bulanan'] + (df_clean['SLIK_Outstanding_CC'] * 0.1) ) / 10000000 ),\n",
        "          ( (df_clean['SLIK_Cicilan_Bulanan'] + (df_clean['SLIK_Outstanding_CC'] * 0.1) ) / 20000000 ),\n",
        "          ( (df_clean['SLIK_Cicilan_Bulanan'] + (df_clean['SLIK_Outstanding_CC'] * 0.1) ) / 30000000 )\n",
        "          ]\n",
        "df_clean['DBR'] = np.select(conditions, choices)"
      ],
      "execution_count": 294,
      "outputs": []
    },
    {
      "cell_type": "markdown",
      "metadata": {
        "id": "Xt_8etPjn5Oc"
      },
      "source": [
        "## 2.3.3.1.2 Apakah alamat kantor dan rumah berdekatan?\n"
      ]
    },
    {
      "cell_type": "code",
      "metadata": {
        "id": "dWiNIMfWtwly"
      },
      "source": [
        "conditions = [\n",
        "             ( df_clean['Alamat_Rumah'] == df_clean['Alamat_Kantor'] ),\n",
        "             ( df_clean['Alamat_Rumah'] != df_clean['Alamat_Kantor'] ),\n",
        "             ]\n",
        "\n",
        "choices = [\n",
        "          '1.Rumah_Kantor_Dekat',\n",
        "          '2.Rumah_Kantor_Jauh'\n",
        "          ]\n",
        "df_clean['Alamat_Rumah_Kantor'] = np.select(conditions, choices)"
      ],
      "execution_count": 295,
      "outputs": []
    },
    {
      "cell_type": "code",
      "metadata": {
        "id": "4g1-7WIpDb5m",
        "colab": {
          "base_uri": "https://localhost:8080/"
        },
        "outputId": "37eecfde-d69e-4e38-f390-bda5cfe84f2e"
      },
      "source": [
        "# Variabel DBR\n",
        "\n",
        "conditions = [\n",
        "             ( df_clean['DBR'] <= 0.00 ),\n",
        "             ( df_clean['DBR'] <= 0.10 ),\n",
        "             ( df_clean['DBR'] <= 0.20 ),\n",
        "             ( df_clean['DBR'] <= 0.30 ),\n",
        "             ( df_clean['DBR'] <= 0.40 ),\n",
        "             ( df_clean['DBR'] <= 0.50 ),\n",
        "             ( df_clean['DBR'] <= 0.60 ),\n",
        "             ( df_clean['DBR'] > 0.60 )\n",
        "             ]\n",
        "\n",
        "choices = [\n",
        "          '1.0%',\n",
        "          '2.0-10%',\n",
        "          '3.10-20%',\n",
        "          '4.20-30%',\n",
        "          '5.30-40%',\n",
        "          '6.40-50%',\n",
        "          '7.50-60%',\n",
        "          '8.>60%',\n",
        "          ]\n",
        "df_clean['DBR_Bin'] = np.select(conditions, choices)\n",
        "\n",
        "print(pd.crosstab(df_clean['DBR_Bin'], df_clean['default']))\n",
        "\n",
        "# Untuk melihat proporsi (dalam persentase) dari variabel API_CreditScore_Vendor_A_Bin\n",
        "print(df_clean['DBR_Bin'].value_counts(normalize=True) * 100)\n",
        "\n",
        "df_woe_iv = (pd.crosstab(df_clean['DBR_Bin'],df_clean['default'],normalize='columns')\n",
        "             .assign(woe=lambda dfx: np.log(dfx[1] / dfx[0]))\n",
        "             .assign(iv=lambda dfx: np.sum(dfx['woe']*\n",
        "                                           (dfx[1]-dfx[0]))))\n",
        "print(df_woe_iv)\n",
        "\n",
        "conditions = [\n",
        "             ( df_clean['DBR'] <= 0.0 ),\n",
        "             ( df_clean['DBR'] <= 0.1 ),\n",
        "             ( df_clean['DBR'] <= 0.2 ),\n",
        "             ( df_clean['DBR'] <= 0.3 ),\n",
        "             ( df_clean['DBR'] <= 0.4 ),\n",
        "             ( df_clean['DBR'] <= 0.5 ),\n",
        "             ( df_clean['DBR'] <= 0.6 ),\n",
        "             ( df_clean['DBR'] > 0.6 )\n",
        "             ]\n",
        "\n",
        "choices = [\n",
        "          1.145360,\n",
        "          -0.814122,\n",
        "          -0.303039,\n",
        "          -0.036634,\n",
        "          -0.072352,\n",
        "          0.062895,\n",
        "          0.142058,\n",
        "          0.728616,\n",
        "          ]\n",
        "df_clean['DBR_WOE'] = np.select(conditions, choices)"
      ],
      "execution_count": 296,
      "outputs": [
        {
          "output_type": "stream",
          "name": "stdout",
          "text": [
            "default     0   1\n",
            "DBR_Bin          \n",
            "1.0%       23  30\n",
            "2.0-10%   272  50\n",
            "3.10-20%   62  19\n",
            "4.20-30%   60  24\n",
            "5.30-40%   57  22\n",
            "6.40-50%   43  19\n",
            "7.50-60%   46  22\n",
            "8.>60%    107  92\n",
            "2.0-10%     33.966245\n",
            "8.>60%      20.991561\n",
            "4.20-30%     8.860759\n",
            "3.10-20%     8.544304\n",
            "5.30-40%     8.333333\n",
            "7.50-60%     7.172996\n",
            "6.40-50%     6.540084\n",
            "1.0%         5.590717\n",
            "Name: DBR_Bin, dtype: float64\n",
            "default          0         1       woe        iv\n",
            "DBR_Bin                                         \n",
            "1.0%      0.034328  0.107914  1.145360  0.402759\n",
            "2.0-10%   0.405970  0.179856 -0.814122  0.402759\n",
            "3.10-20%  0.092537  0.068345 -0.303039  0.402759\n",
            "4.20-30%  0.089552  0.086331 -0.036634  0.402759\n",
            "5.30-40%  0.085075  0.079137 -0.072352  0.402759\n",
            "6.40-50%  0.064179  0.068345  0.062895  0.402759\n",
            "7.50-60%  0.068657  0.079137  0.142058  0.402759\n",
            "8.>60%    0.159701  0.330935  0.728616  0.402759\n"
          ]
        }
      ]
    },
    {
      "cell_type": "code",
      "metadata": {
        "colab": {
          "base_uri": "https://localhost:8080/"
        },
        "id": "cgPQ19q6VEm7",
        "outputId": "210e2c45-ef3e-4f3d-f6df-d9f7a37fa435"
      },
      "source": [
        "# Variabel Alamat_Rumah_Kantor\n",
        "\n",
        "conditions = [\n",
        "             ( df_clean['Alamat_Rumah_Kantor'] == '1.Rumah_Kantor_Dekat' ),\n",
        "             ( df_clean['Alamat_Rumah_Kantor'] == '2.Rumah_Kantor_Jauh' )\n",
        "             ]\n",
        "\n",
        "choices = [\n",
        "          '1.Rumah_Kantor_Dekat',\n",
        "          '2.Rumah_Kantor_Jauh'\n",
        "          ]\n",
        "df_clean['Alamat_Rumah_Kantor_Bin'] = np.select(conditions, choices)\n",
        "\n",
        "print(pd.crosstab(df_clean['Alamat_Rumah_Kantor_Bin'], df_clean['default']))\n",
        "\n",
        "# Untuk melihat proporsi (dalam persentase) dari variabel API_CreditScore_Vendor_A_Bin\n",
        "print(df_clean['Alamat_Rumah_Kantor_Bin'].value_counts(normalize=True) * 100)\n",
        "\n",
        "df_woe_iv = (pd.crosstab(df_clean['Alamat_Rumah_Kantor_Bin'],df_clean['default'],normalize='columns')\n",
        "             .assign(woe=lambda dfx: np.log(dfx[1] / dfx[0]))\n",
        "             .assign(iv=lambda dfx: np.sum(dfx['woe']*\n",
        "                                           (dfx[1]-dfx[0]))))\n",
        "print(df_woe_iv)\n",
        "\n",
        "conditions = [\n",
        "             ( df_clean['Alamat_Rumah_Kantor'] == '1.Rumah_Kantor_Dekat' ),\n",
        "             ( df_clean['Alamat_Rumah_Kantor'] == '2.Rumah_Kantor_Jauh' )\n",
        "             ]\n",
        "\n",
        "choices = [\n",
        "          -0.313143,\n",
        "          0.092824\n",
        "          ]\n",
        "df_clean['Alamat_Rumah_Kantor_WOE'] = np.select(conditions, choices)"
      ],
      "execution_count": 297,
      "outputs": [
        {
          "output_type": "stream",
          "name": "stdout",
          "text": [
            "default                    0    1\n",
            "Alamat_Rumah_Kantor_Bin          \n",
            "1.Rumah_Kantor_Dekat     178   54\n",
            "2.Rumah_Kantor_Jauh      492  224\n",
            "2.Rumah_Kantor_Jauh     75.527426\n",
            "1.Rumah_Kantor_Dekat    24.472574\n",
            "Name: Alamat_Rumah_Kantor_Bin, dtype: float64\n",
            "default                         0         1       woe        iv\n",
            "Alamat_Rumah_Kantor_Bin                                        \n",
            "1.Rumah_Kantor_Dekat     0.265672  0.194245 -0.313143  0.028997\n",
            "2.Rumah_Kantor_Jauh      0.734328  0.805755  0.092824  0.028997\n"
          ]
        }
      ]
    },
    {
      "cell_type": "markdown",
      "metadata": {
        "id": "6fqNpS1Rn-Ap"
      },
      "source": [
        "## Latihan membuat variabel baru usia dan status\n"
      ]
    },
    {
      "cell_type": "code",
      "metadata": {
        "id": "_wSXIbYKA359"
      },
      "source": [
        "# Latihan membuat variabel baru usia dan status\n",
        "# Koding disini\n",
        "\n"
      ],
      "execution_count": 298,
      "outputs": []
    },
    {
      "cell_type": "markdown",
      "metadata": {
        "id": "f_sqDR6M48Qq"
      },
      "source": [
        "# Proses Modeling"
      ]
    },
    {
      "cell_type": "markdown",
      "metadata": {
        "id": "KSIy6eo85Awm"
      },
      "source": [
        "## Persiapan membuat model: Memilih Variabel Input"
      ]
    },
    {
      "cell_type": "code",
      "metadata": {
        "id": "JfIGL2QLrioC"
      },
      "source": [
        "# Persiapan membuat model\n",
        "# Memilih variabel yang akan diinput ke dalam model\n",
        "# Contoh hanya menggunakan 3 variabel input saja: SLIK_Kolektibilitas, DBR, dan Usia\n",
        "\n",
        "df_model_WOE = df_clean[['default','SLIK_Kolektibilitas_WOE','DBR_WOE','Usia_WOE']]\n",
        "df_model_Bin = df_clean[['default','SLIK_Kolektibilitas_Bin','DBR_Bin','Usia_Bin']]\n",
        "df_model = df_clean[['default','SLIK_Kolektibilitas','DBR','Usia']]"
      ],
      "execution_count": 299,
      "outputs": []
    },
    {
      "cell_type": "code",
      "metadata": {
        "id": "nmsU_19IWKun"
      },
      "source": [
        "# Dalam contoh ini tidak ada oversampling/undersampling"
      ],
      "execution_count": 300,
      "outputs": []
    },
    {
      "cell_type": "markdown",
      "metadata": {
        "id": "xNLiPNrW5Wb_"
      },
      "source": [
        "## Membagi dataset menjadi train dan test"
      ]
    },
    {
      "cell_type": "code",
      "metadata": {
        "id": "PX536cJfs5sI"
      },
      "source": [
        "# Membagi dataset menjadi development(train) dan test\n",
        "\n",
        "y = df_model_WOE.loc[:,'default']\n",
        "X = df_model_WOE.loc[:,df_model_WOE.columns != 'default']\n",
        "\n",
        "from sklearn.model_selection import train_test_split\n",
        "X_train, X_test, y_train, y_test = train_test_split(X, y, test_size=0.30, random_state=42)\n",
        "\n",
        "# Dalam bentuk dataframe lengkap\n",
        "df_train = pd.concat([X_train, y_train], axis = 1)\n",
        "df_test = pd.concat([X_test, y_test], axis = 1)\n",
        "\n",
        "# Menghapus indeks dari data yang telah dibuang\n",
        "df_train = df_train.reset_index(drop=True)\n",
        "df_test = df_test.reset_index(drop=True)"
      ],
      "execution_count": 301,
      "outputs": []
    },
    {
      "cell_type": "markdown",
      "metadata": {
        "id": "E6HELMO65atK"
      },
      "source": [
        "## Modeling dengan logistic regression"
      ]
    },
    {
      "cell_type": "code",
      "metadata": {
        "id": "4ogRrGGQtHnd",
        "colab": {
          "base_uri": "https://localhost:8080/",
          "height": 377
        },
        "outputId": "fd5a94c8-c242-4fc8-a3d5-d1899ae1bcab"
      },
      "source": [
        "# Membuat scorecard dengan menggunakan algoritma logistic regression\n",
        "from sklearn.linear_model import LogisticRegression\n",
        "lr = LogisticRegression() \n",
        "lr.fit(X_train, y_train)\n",
        "\n",
        "print('Coefficient: ', lr.feature_names_in_, lr.coef_)\n",
        "print('Intercept: ', lr.intercept_)\n",
        "print(lr.classes_)\n",
        "\n",
        "# Jika ingin mengetahui detail dari regresi logistik\n",
        "import numpy as np\n",
        "import statsmodels.api as sm\n",
        "\n",
        "model = sm.Logit(y_train, X_train)\n",
        "result = model.fit()\n",
        "\n",
        "result.summary()"
      ],
      "execution_count": 302,
      "outputs": [
        {
          "output_type": "stream",
          "name": "stdout",
          "text": [
            "Coefficient:  ['SLIK_Kolektibilitas_WOE' 'DBR_WOE' 'Usia_WOE'] [[0.86139349 0.87926071 0.42979569]]\n",
            "Intercept:  [-0.82758583]\n",
            "[0 1]\n",
            "Optimization terminated successfully.\n",
            "         Current function value: 0.606180\n",
            "         Iterations 5\n"
          ]
        },
        {
          "output_type": "execute_result",
          "data": {
            "text/html": [
              "<table class=\"simpletable\">\n",
              "<caption>Logit Regression Results</caption>\n",
              "<tr>\n",
              "  <th>Dep. Variable:</th>        <td>default</td>     <th>  No. Observations:  </th>  <td>   663</td> \n",
              "</tr>\n",
              "<tr>\n",
              "  <th>Model:</th>                 <td>Logit</td>      <th>  Df Residuals:      </th>  <td>   660</td> \n",
              "</tr>\n",
              "<tr>\n",
              "  <th>Method:</th>                 <td>MLE</td>       <th>  Df Model:          </th>  <td>     2</td> \n",
              "</tr>\n",
              "<tr>\n",
              "  <th>Date:</th>            <td>Sun, 28 Nov 2021</td> <th>  Pseudo R-squ.:     </th> <td>0.003675</td>\n",
              "</tr>\n",
              "<tr>\n",
              "  <th>Time:</th>                <td>14:24:28</td>     <th>  Log-Likelihood:    </th> <td> -401.90</td>\n",
              "</tr>\n",
              "<tr>\n",
              "  <th>converged:</th>             <td>True</td>       <th>  LL-Null:           </th> <td> -403.38</td>\n",
              "</tr>\n",
              "<tr>\n",
              "  <th>Covariance Type:</th>     <td>nonrobust</td>    <th>  LLR p-value:       </th>  <td>0.2271</td> \n",
              "</tr>\n",
              "</table>\n",
              "<table class=\"simpletable\">\n",
              "<tr>\n",
              "             <td></td>                <th>coef</th>     <th>std err</th>      <th>z</th>      <th>P>|z|</th>  <th>[0.025</th>    <th>0.975]</th>  \n",
              "</tr>\n",
              "<tr>\n",
              "  <th>SLIK_Kolektibilitas_WOE</th> <td>    0.9444</td> <td>    0.159</td> <td>    5.928</td> <td> 0.000</td> <td>    0.632</td> <td>    1.257</td>\n",
              "</tr>\n",
              "<tr>\n",
              "  <th>DBR_WOE</th>                 <td>    0.9797</td> <td>    0.138</td> <td>    7.084</td> <td> 0.000</td> <td>    0.709</td> <td>    1.251</td>\n",
              "</tr>\n",
              "<tr>\n",
              "  <th>Usia_WOE</th>                <td>    0.4661</td> <td>    0.324</td> <td>    1.438</td> <td> 0.150</td> <td>   -0.169</td> <td>    1.101</td>\n",
              "</tr>\n",
              "</table>"
            ],
            "text/plain": [
              "<class 'statsmodels.iolib.summary.Summary'>\n",
              "\"\"\"\n",
              "                           Logit Regression Results                           \n",
              "==============================================================================\n",
              "Dep. Variable:                default   No. Observations:                  663\n",
              "Model:                          Logit   Df Residuals:                      660\n",
              "Method:                           MLE   Df Model:                            2\n",
              "Date:                Sun, 28 Nov 2021   Pseudo R-squ.:                0.003675\n",
              "Time:                        14:24:28   Log-Likelihood:                -401.90\n",
              "converged:                       True   LL-Null:                       -403.38\n",
              "Covariance Type:            nonrobust   LLR p-value:                    0.2271\n",
              "===========================================================================================\n",
              "                              coef    std err          z      P>|z|      [0.025      0.975]\n",
              "-------------------------------------------------------------------------------------------\n",
              "SLIK_Kolektibilitas_WOE     0.9444      0.159      5.928      0.000       0.632       1.257\n",
              "DBR_WOE                     0.9797      0.138      7.084      0.000       0.709       1.251\n",
              "Usia_WOE                    0.4661      0.324      1.438      0.150      -0.169       1.101\n",
              "===========================================================================================\n",
              "\"\"\""
            ]
          },
          "metadata": {},
          "execution_count": 302
        }
      ]
    },
    {
      "cell_type": "code",
      "metadata": {
        "id": "znh3oQHT5iMz",
        "colab": {
          "base_uri": "https://localhost:8080/"
        },
        "outputId": "b899b754-b523-40db-e7d5-105313393e99"
      },
      "source": [
        "train_predict = lr.predict(X_train)\n",
        "test_predict = lr.predict(X_test)\n",
        "print(test_predict)\n",
        "# Cara adalah 0 jika bayar, dan 1 jika default"
      ],
      "execution_count": 303,
      "outputs": [
        {
          "output_type": "stream",
          "name": "stdout",
          "text": [
            "[0 0 1 0 0 0 0 0 0 0 0 0 0 0 0 0 0 0 0 1 0 0 1 0 0 0 0 0 0 0 0 0 1 0 0 0 0\n",
            " 1 0 0 0 1 0 0 0 0 0 0 0 0 0 0 0 0 0 1 0 0 0 0 0 0 1 0 0 1 0 0 0 0 0 0 0 0\n",
            " 0 0 0 0 0 0 0 0 0 0 0 1 0 0 0 0 0 0 0 0 0 0 0 0 0 0 0 0 0 0 0 0 0 0 1 0 0\n",
            " 0 0 0 1 0 0 0 1 0 1 0 0 0 0 0 0 0 0 1 1 0 1 0 1 0 0 0 0 0 0 0 0 0 0 1 1 0\n",
            " 0 0 0 0 0 0 1 0 0 0 0 0 0 0 0 0 0 0 0 0 0 0 1 0 0 0 1 1 0 0 0 0 0 0 0 0 0\n",
            " 0 1 0 0 0 1 0 0 0 0 0 0 0 1 0 0 0 0 0 0 0 0 0 0 0 0 0 0 0 0 0 1 0 0 0 0 0\n",
            " 0 0 0 0 0 0 0 0 0 0 0 0 0 0 0 0 0 0 0 1 0 1 0 0 0 0 0 0 0 0 0 0 1 1 0 0 0\n",
            " 0 0 0 0 0 0 1 0 0 0 1 0 0 0 0 0 0 0 0 1 0 0 0 0 0 0]\n"
          ]
        }
      ]
    },
    {
      "cell_type": "code",
      "metadata": {
        "id": "2M8VyKMB6L9O",
        "colab": {
          "base_uri": "https://localhost:8080/"
        },
        "outputId": "6d5270fc-055d-43ee-d861-e939a793856f"
      },
      "source": [
        "test_pred_proba = lr.predict_proba(X_test)\n",
        "print(test_pred_proba)\n",
        "# Cara bacanya adalah 0.635 adalah probabilitas 0 dan 0.364 adaalah probabilitas 1\n",
        "# Dengan mengacu probabilitas 1 diatas 0.5 maka default / 1"
      ],
      "execution_count": 304,
      "outputs": [
        {
          "output_type": "stream",
          "name": "stdout",
          "text": [
            "[[0.76128807 0.23871193]\n",
            " [0.68196331 0.31803669]\n",
            " [0.47826863 0.52173137]\n",
            " [0.80812584 0.19187416]\n",
            " [0.68196331 0.31803669]\n",
            " [0.79712241 0.20287759]\n",
            " [0.70112653 0.29887347]\n",
            " [0.71616446 0.28383554]\n",
            " [0.63975174 0.36024826]\n",
            " [0.80455626 0.19544374]\n",
            " [0.88731536 0.11268464]\n",
            " [0.87586834 0.12413166]\n",
            " [0.69804444 0.30195556]\n",
            " [0.8332905  0.1667095 ]\n",
            " [0.76128807 0.23871193]\n",
            " [0.7806552  0.2193448 ]\n",
            " [0.74015595 0.25984405]\n",
            " [0.68196331 0.31803669]\n",
            " [0.56283126 0.43716874]\n",
            " [0.28760935 0.71239065]\n",
            " [0.80455626 0.19544374]\n",
            " [0.80455626 0.19544374]\n",
            " [0.24952739 0.75047261]\n",
            " [0.80455626 0.19544374]\n",
            " [0.68196331 0.31803669]\n",
            " [0.84808163 0.15191837]\n",
            " [0.74015595 0.25984405]\n",
            " [0.64241789 0.35758211]\n",
            " [0.83567593 0.16432407]\n",
            " [0.66976854 0.33023146]\n",
            " [0.68196331 0.31803669]\n",
            " [0.68317425 0.31682575]\n",
            " [0.24952739 0.75047261]\n",
            " [0.80455626 0.19544374]\n",
            " [0.91707466 0.08292534]\n",
            " [0.74015595 0.25984405]\n",
            " [0.63975174 0.36024826]\n",
            " [0.28760935 0.71239065]\n",
            " [0.80455626 0.19544374]\n",
            " [0.56283126 0.43716874]\n",
            " [0.80455626 0.19544374]\n",
            " [0.42363297 0.57636703]\n",
            " [0.7806552  0.2193448 ]\n",
            " [0.63975174 0.36024826]\n",
            " [0.62336045 0.37663955]\n",
            " [0.72250478 0.27749522]\n",
            " [0.80455626 0.19544374]\n",
            " [0.90106702 0.09893298]\n",
            " [0.77256924 0.22743076]\n",
            " [0.80455626 0.19544374]\n",
            " [0.51463317 0.48536683]\n",
            " [0.87586834 0.12413166]\n",
            " [0.51463317 0.48536683]\n",
            " [0.53196186 0.46803814]\n",
            " [0.8332905  0.1667095 ]\n",
            " [0.28760935 0.71239065]\n",
            " [0.84808163 0.15191837]\n",
            " [0.80814636 0.19185364]\n",
            " [0.72250478 0.27749522]\n",
            " [0.51143257 0.48856743]\n",
            " [0.84808163 0.15191837]\n",
            " [0.8332905  0.1667095 ]\n",
            " [0.34107183 0.65892817]\n",
            " [0.84808163 0.15191837]\n",
            " [0.85317982 0.14682018]\n",
            " [0.28760935 0.71239065]\n",
            " [0.62207433 0.37792567]\n",
            " [0.58863045 0.41136955]\n",
            " [0.67511322 0.32488678]\n",
            " [0.51463317 0.48536683]\n",
            " [0.53196186 0.46803814]\n",
            " [0.90106702 0.09893298]\n",
            " [0.71547808 0.28452192]\n",
            " [0.81524995 0.18475005]\n",
            " [0.71547808 0.28452192]\n",
            " [0.67511322 0.32488678]\n",
            " [0.90106702 0.09893298]\n",
            " [0.51463317 0.48536683]\n",
            " [0.63975174 0.36024826]\n",
            " [0.80455626 0.19544374]\n",
            " [0.70112653 0.29887347]\n",
            " [0.8332905  0.1667095 ]\n",
            " [0.91707466 0.08292534]\n",
            " [0.8520838  0.1479162 ]\n",
            " [0.91707466 0.08292534]\n",
            " [0.47826863 0.52173137]\n",
            " [0.69804444 0.30195556]\n",
            " [0.63975174 0.36024826]\n",
            " [0.62207433 0.37792567]\n",
            " [0.65563266 0.34436734]\n",
            " [0.80455626 0.19544374]\n",
            " [0.90708993 0.09291007]\n",
            " [0.74015595 0.25984405]\n",
            " [0.56283126 0.43716874]\n",
            " [0.80812584 0.19187416]\n",
            " [0.76128807 0.23871193]\n",
            " [0.64241789 0.35758211]\n",
            " [0.51463317 0.48536683]\n",
            " [0.8332905  0.1667095 ]\n",
            " [0.80455626 0.19544374]\n",
            " [0.63975174 0.36024826]\n",
            " [0.91707466 0.08292534]\n",
            " [0.79712241 0.20287759]\n",
            " [0.51143257 0.48856743]\n",
            " [0.91707466 0.08292534]\n",
            " [0.56283126 0.43716874]\n",
            " [0.68196331 0.31803669]\n",
            " [0.8332905  0.1667095 ]\n",
            " [0.28760935 0.71239065]\n",
            " [0.91707466 0.08292534]\n",
            " [0.82671418 0.17328582]\n",
            " [0.67511322 0.32488678]\n",
            " [0.51463317 0.48536683]\n",
            " [0.80455626 0.19544374]\n",
            " [0.47826863 0.52173137]\n",
            " [0.80455626 0.19544374]\n",
            " [0.8332905  0.1667095 ]\n",
            " [0.74015595 0.25984405]\n",
            " [0.39823613 0.60176387]\n",
            " [0.8332905  0.1667095 ]\n",
            " [0.46297466 0.53702534]\n",
            " [0.58863045 0.41136955]\n",
            " [0.51463317 0.48536683]\n",
            " [0.71616446 0.28383554]\n",
            " [0.51463317 0.48536683]\n",
            " [0.80455626 0.19544374]\n",
            " [0.56283126 0.43716874]\n",
            " [0.68196331 0.31803669]\n",
            " [0.80455626 0.19544374]\n",
            " [0.47826863 0.52173137]\n",
            " [0.46297466 0.53702534]\n",
            " [0.65563266 0.34436734]\n",
            " [0.28760935 0.71239065]\n",
            " [0.90106702 0.09893298]\n",
            " [0.24952739 0.75047261]\n",
            " [0.80455626 0.19544374]\n",
            " [0.51463317 0.48536683]\n",
            " [0.69804444 0.30195556]\n",
            " [0.90106702 0.09893298]\n",
            " [0.64241789 0.35758211]\n",
            " [0.7806552  0.2193448 ]\n",
            " [0.65563266 0.34436734]\n",
            " [0.78456678 0.21543322]\n",
            " [0.68196331 0.31803669]\n",
            " [0.63975174 0.36024826]\n",
            " [0.47826863 0.52173137]\n",
            " [0.29888089 0.70111911]\n",
            " [0.71547808 0.28452192]\n",
            " [0.56283126 0.43716874]\n",
            " [0.72425023 0.27574977]\n",
            " [0.80455626 0.19544374]\n",
            " [0.64241789 0.35758211]\n",
            " [0.90708993 0.09291007]\n",
            " [0.63975174 0.36024826]\n",
            " [0.28760935 0.71239065]\n",
            " [0.68317425 0.31682575]\n",
            " [0.72425023 0.27574977]\n",
            " [0.91707466 0.08292534]\n",
            " [0.70112653 0.29887347]\n",
            " [0.8332905  0.1667095 ]\n",
            " [0.90106702 0.09893298]\n",
            " [0.65563266 0.34436734]\n",
            " [0.8332905  0.1667095 ]\n",
            " [0.5136119  0.4863881 ]\n",
            " [0.70112653 0.29887347]\n",
            " [0.85317982 0.14682018]\n",
            " [0.68317425 0.31682575]\n",
            " [0.70112653 0.29887347]\n",
            " [0.83646007 0.16353993]\n",
            " [0.51463317 0.48536683]\n",
            " [0.34107183 0.65892817]\n",
            " [0.80455626 0.19544374]\n",
            " [0.68317425 0.31682575]\n",
            " [0.80455626 0.19544374]\n",
            " [0.28760935 0.71239065]\n",
            " [0.47826863 0.52173137]\n",
            " [0.56283126 0.43716874]\n",
            " [0.91707466 0.08292534]\n",
            " [0.80455626 0.19544374]\n",
            " [0.8332905  0.1667095 ]\n",
            " [0.5136119  0.4863881 ]\n",
            " [0.90106702 0.09893298]\n",
            " [0.8332905  0.1667095 ]\n",
            " [0.90708993 0.09291007]\n",
            " [0.67511322 0.32488678]\n",
            " [0.8332905  0.1667095 ]\n",
            " [0.24952739 0.75047261]\n",
            " [0.63975174 0.36024826]\n",
            " [0.81868789 0.18131211]\n",
            " [0.91707466 0.08292534]\n",
            " [0.24952739 0.75047261]\n",
            " [0.71616446 0.28383554]\n",
            " [0.5136119  0.4863881 ]\n",
            " [0.56283126 0.43716874]\n",
            " [0.90106702 0.09893298]\n",
            " [0.90106702 0.09893298]\n",
            " [0.64241789 0.35758211]\n",
            " [0.74015595 0.25984405]\n",
            " [0.47826863 0.52173137]\n",
            " [0.84808163 0.15191837]\n",
            " [0.83646007 0.16353993]\n",
            " [0.91707466 0.08292534]\n",
            " [0.8332905  0.1667095 ]\n",
            " [0.66773255 0.33226745]\n",
            " [0.8332905  0.1667095 ]\n",
            " [0.69683717 0.30316283]\n",
            " [0.71616446 0.28383554]\n",
            " [0.85317982 0.14682018]\n",
            " [0.71616446 0.28383554]\n",
            " [0.90106702 0.09893298]\n",
            " [0.80455626 0.19544374]\n",
            " [0.8520838  0.1479162 ]\n",
            " [0.8332905  0.1667095 ]\n",
            " [0.65563266 0.34436734]\n",
            " [0.56283126 0.43716874]\n",
            " [0.51463317 0.48536683]\n",
            " [0.29888089 0.70111911]\n",
            " [0.83567593 0.16432407]\n",
            " [0.68196331 0.31803669]\n",
            " [0.71616446 0.28383554]\n",
            " [0.80455626 0.19544374]\n",
            " [0.67511322 0.32488678]\n",
            " [0.60557684 0.39442316]\n",
            " [0.71616446 0.28383554]\n",
            " [0.56283126 0.43716874]\n",
            " [0.66773255 0.33226745]\n",
            " [0.8520838  0.1479162 ]\n",
            " [0.67511322 0.32488678]\n",
            " [0.83646007 0.16353993]\n",
            " [0.72250478 0.27749522]\n",
            " [0.69016189 0.30983811]\n",
            " [0.5136119  0.4863881 ]\n",
            " [0.63975174 0.36024826]\n",
            " [0.80455626 0.19544374]\n",
            " [0.68317425 0.31682575]\n",
            " [0.84808163 0.15191837]\n",
            " [0.87586834 0.12413166]\n",
            " [0.51463317 0.48536683]\n",
            " [0.8332905  0.1667095 ]\n",
            " [0.74015595 0.25984405]\n",
            " [0.68196331 0.31803669]\n",
            " [0.47826863 0.52173137]\n",
            " [0.71616446 0.28383554]\n",
            " [0.42363297 0.57636703]\n",
            " [0.70112653 0.29887347]\n",
            " [0.70112653 0.29887347]\n",
            " [0.69426042 0.30573958]\n",
            " [0.91707466 0.08292534]\n",
            " [0.65563266 0.34436734]\n",
            " [0.80455626 0.19544374]\n",
            " [0.51463317 0.48536683]\n",
            " [0.85317982 0.14682018]\n",
            " [0.87586834 0.12413166]\n",
            " [0.7806552  0.2193448 ]\n",
            " [0.47826863 0.52173137]\n",
            " [0.22327812 0.77672188]\n",
            " [0.8332905  0.1667095 ]\n",
            " [0.82135023 0.17864977]\n",
            " [0.67511322 0.32488678]\n",
            " [0.70112653 0.29887347]\n",
            " [0.60557684 0.39442316]\n",
            " [0.69426042 0.30573958]\n",
            " [0.82135023 0.17864977]\n",
            " [0.80455626 0.19544374]\n",
            " [0.71616446 0.28383554]\n",
            " [0.47826863 0.52173137]\n",
            " [0.72250478 0.27749522]\n",
            " [0.90106702 0.09893298]\n",
            " [0.82591206 0.17408794]\n",
            " [0.24952739 0.75047261]\n",
            " [0.8313177  0.1686823 ]\n",
            " [0.8332905  0.1667095 ]\n",
            " [0.72425023 0.27574977]\n",
            " [0.81524995 0.18475005]\n",
            " [0.76128807 0.23871193]\n",
            " [0.76128807 0.23871193]\n",
            " [0.8332905  0.1667095 ]\n",
            " [0.90708993 0.09291007]\n",
            " [0.28760935 0.71239065]\n",
            " [0.67511322 0.32488678]\n",
            " [0.62336045 0.37663955]\n",
            " [0.56283126 0.43716874]\n",
            " [0.8332905  0.1667095 ]\n",
            " [0.7806552  0.2193448 ]\n",
            " [0.74015595 0.25984405]]\n"
          ]
        }
      ]
    },
    {
      "cell_type": "code",
      "metadata": {
        "id": "Hl8xWP_u7BET",
        "colab": {
          "base_uri": "https://localhost:8080/"
        },
        "outputId": "ff7aabaa-d301-47fc-a9a4-d2a14b269aa0"
      },
      "source": [
        "# Bagaimana cara tahu bahwa model itu bagus atau tidak?\n",
        "# Pembahasan di bagian evaluasi model\n",
        "# koding nya adalah\n",
        "from sklearn.metrics import classification_report\n",
        "from sklearn.metrics import confusion_matrix\n",
        "# Obtain the results from the classification report and confusion matrix \n",
        "print('Classifcation report:\\n', classification_report(y_test, test_predict))\n",
        "conf_mat = confusion_matrix(y_true=y_test, y_pred=test_predict)\n",
        "print('Confusion matrix:\\n', conf_mat)\n",
        "\n",
        "# Print ROC_AUC score using probabilities\n",
        "from sklearn.metrics import r2_score, classification_report, confusion_matrix, accuracy_score, roc_auc_score, roc_curve, precision_recall_curve, average_precision_score\n",
        "print('ROC Score:', roc_auc_score(y_test, test_pred_proba[:, 1]))"
      ],
      "execution_count": 305,
      "outputs": [
        {
          "output_type": "stream",
          "name": "stdout",
          "text": [
            "Classifcation report:\n",
            "               precision    recall  f1-score   support\n",
            "\n",
            "           0       0.77      0.94      0.85       204\n",
            "           1       0.66      0.28      0.40        81\n",
            "\n",
            "    accuracy                           0.75       285\n",
            "   macro avg       0.71      0.61      0.62       285\n",
            "weighted avg       0.74      0.75      0.72       285\n",
            "\n",
            "Confusion matrix:\n",
            " [[192  12]\n",
            " [ 58  23]]\n",
            "ROC Score: 0.7135378842895184\n"
          ]
        }
      ]
    },
    {
      "cell_type": "markdown",
      "metadata": {
        "id": "QMUBI-kGx7lu"
      },
      "source": [
        "## Modeling logistic regression dengan Stepwise"
      ]
    },
    {
      "cell_type": "code",
      "metadata": {
        "id": "fDy2hUKGyBLI",
        "colab": {
          "base_uri": "https://localhost:8080/"
        },
        "outputId": "b911dcd8-89b8-41c9-c0a3-9328e0d573df"
      },
      "source": [
        "# Membuat scorecard dengan menggunakan algoritma logistic regression\n",
        "from sklearn.linear_model import LogisticRegression\n",
        "from sklearn.feature_selection import SequentialFeatureSelector\n",
        "\n",
        "lr = LogisticRegression()\n",
        "lr.fit(X_train, y_train)\n",
        "\n",
        "feature_names = np.array(X.columns)\n",
        "\n",
        "sfs_backward = SequentialFeatureSelector(\n",
        "    lr, n_features_to_select=None, direction=\"backward\"\n",
        ").fit(X_train, y_train)\n",
        "\n",
        "print(\n",
        "    'Variabel signifikan stepwise backward: ', feature_names[sfs_backward.get_support()]\n",
        ")\n",
        "\n",
        "sfs_forward = SequentialFeatureSelector(\n",
        "    lr, n_features_to_select=None, direction=\"forward\"\n",
        ").fit(X_train, y_train)\n",
        "\n",
        "print(\n",
        "    'Variabel signifikan stepwise forward: ', feature_names[sfs_forward.get_support()]\n",
        ")"
      ],
      "execution_count": 306,
      "outputs": [
        {
          "output_type": "stream",
          "name": "stdout",
          "text": [
            "Variabel signifikan stepwise backward:  ['SLIK_Kolektibilitas_WOE']\n",
            "Variabel signifikan stepwise forward:  ['SLIK_Kolektibilitas_WOE']\n"
          ]
        }
      ]
    },
    {
      "cell_type": "code",
      "metadata": {
        "id": "RhkwYEXo4bjS",
        "colab": {
          "base_uri": "https://localhost:8080/"
        },
        "outputId": "4c7d7014-cf1b-4ff3-97ec-6287dfb42d28"
      },
      "source": [
        "# Testing hasil stepwise\n",
        "\n",
        "df_step = df_clean[['SLIK_Kolektibilitas_WOE','DBR_WOE','Usia_WOE','Mobile_Provider_WOE','Device_Apps_Installed_WOE'\n",
        "                  ,'Mobile_Number_Active_Since_WOE','default'\n",
        "                  ]]\n",
        "\n",
        "# Membagi dataset menjadi development(train) dan test\n",
        "\n",
        "y_step = df_step.loc[:,'default']\n",
        "X_step = df_step.loc[:,df_step.columns != 'default']\n",
        "\n",
        "from sklearn.model_selection import train_test_split\n",
        "X_train_step, X_test_step, y_train_step, y_test_step = train_test_split(X_step, y_step, test_size=0.30, random_state=42)\n",
        "\n",
        "lr_step = LogisticRegression()\n",
        "lr_step.fit(X_train_step, y_train_step)\n",
        "\n",
        "test_predict_step = lr_step.predict(X_test_step)\n",
        "test_pred_proba_step = lr_step.predict_proba(X_test_step)\n",
        "\n",
        "# Bagaimana cara tahu bahwa model itu bagus atau tidak?\n",
        "# Pembahasan di bagian evaluasi model\n",
        "# koding nya adalah\n",
        "from sklearn.metrics import classification_report\n",
        "from sklearn.metrics import confusion_matrix\n",
        "# Obtain the results from the classification report and confusion matrix \n",
        "print('Classifcation report:\\n', classification_report(y_test_step, test_predict_step))\n",
        "conf_mat = confusion_matrix(y_true=y_test_step, y_pred=test_predict_step)\n",
        "print('Confusion matrix:\\n', conf_mat)\n",
        "\n",
        "# Print ROC_AUC score using probabilities\n",
        "from sklearn.metrics import r2_score, classification_report, confusion_matrix, accuracy_score, roc_auc_score, roc_curve, precision_recall_curve, average_precision_score\n",
        "print('ROC Score:', roc_auc_score(y_test_step, test_pred_proba_step[:, 1]))"
      ],
      "execution_count": 307,
      "outputs": [
        {
          "output_type": "stream",
          "name": "stdout",
          "text": [
            "Classifcation report:\n",
            "               precision    recall  f1-score   support\n",
            "\n",
            "           0       0.81      0.93      0.86       204\n",
            "           1       0.71      0.46      0.56        81\n",
            "\n",
            "    accuracy                           0.79       285\n",
            "   macro avg       0.76      0.69      0.71       285\n",
            "weighted avg       0.78      0.79      0.78       285\n",
            "\n",
            "Confusion matrix:\n",
            " [[189  15]\n",
            " [ 44  37]]\n",
            "ROC Score: 0.7784132171387074\n"
          ]
        }
      ]
    },
    {
      "cell_type": "markdown",
      "metadata": {
        "id": "z3p1c7BC-na0"
      },
      "source": [
        "## Membuat Scoring dari probabilitas"
      ]
    },
    {
      "cell_type": "code",
      "metadata": {
        "id": "Q-zRnxfztHXQ"
      },
      "source": [
        "# Membuat scoring\n",
        "P0 = 600 # Target Score\n",
        "PDO = 50 # Target Odds\n",
        "theta0 = 1.0/20 # Points double odds\n",
        "B = PDO/np.log(2)\n",
        "A = P0 + B * np.log(theta0)"
      ],
      "execution_count": 308,
      "outputs": []
    },
    {
      "cell_type": "code",
      "metadata": {
        "id": "D24tHBUgzqpb"
      },
      "source": [
        "train_pred_proba = lr.predict_proba(X_train)[:,1]\n",
        "train_log_pred = lr.predict_log_proba(X_train)[:,1]\n",
        "\n",
        "score = A - B*np.log(train_pred_proba/(1-train_pred_proba))\n",
        "score_from_log = (P0 - B * np.log(theta0)) - B * train_log_pred\n",
        "\n",
        "df_train_pred_proba = pd.DataFrame(train_pred_proba, columns=['train_pred_proba'])\n",
        "df_train_log_pred = pd.DataFrame(train_log_pred, columns=['Logit_Result'])\n",
        "\n",
        "df_train_score = pd.DataFrame(score, columns=['Score'])\n",
        "df_train_log_score = pd.DataFrame(score_from_log, columns=['Score_from_log'])\n",
        "\n",
        "# Menggabungkan dataset variabel kategori dari one hot encoding dengan variabel numerik\n",
        "df_model_result = pd.concat([df_train, df_train_pred_proba, df_train_log_pred, df_train_score, df_train_log_score], axis = 1)"
      ],
      "execution_count": 309,
      "outputs": []
    },
    {
      "cell_type": "code",
      "metadata": {
        "id": "i4ORyQnY17cV",
        "colab": {
          "base_uri": "https://localhost:8080/",
          "height": 0
        },
        "outputId": "da659699-d63d-46a3-b785-a2307dbd7d0e"
      },
      "source": [
        "# Untuk memudahkan membaca hasil, maka disimpan dalam bentuk csv dan didownload\n",
        "from google.colab import files\n",
        "df_model_result.to_csv('df_model_result.csv') \n",
        "files.download('df_model_result.csv')"
      ],
      "execution_count": 310,
      "outputs": [
        {
          "output_type": "display_data",
          "data": {
            "application/javascript": [
              "\n",
              "    async function download(id, filename, size) {\n",
              "      if (!google.colab.kernel.accessAllowed) {\n",
              "        return;\n",
              "      }\n",
              "      const div = document.createElement('div');\n",
              "      const label = document.createElement('label');\n",
              "      label.textContent = `Downloading \"${filename}\": `;\n",
              "      div.appendChild(label);\n",
              "      const progress = document.createElement('progress');\n",
              "      progress.max = size;\n",
              "      div.appendChild(progress);\n",
              "      document.body.appendChild(div);\n",
              "\n",
              "      const buffers = [];\n",
              "      let downloaded = 0;\n",
              "\n",
              "      const channel = await google.colab.kernel.comms.open(id);\n",
              "      // Send a message to notify the kernel that we're ready.\n",
              "      channel.send({})\n",
              "\n",
              "      for await (const message of channel.messages) {\n",
              "        // Send a message to notify the kernel that we're ready.\n",
              "        channel.send({})\n",
              "        if (message.buffers) {\n",
              "          for (const buffer of message.buffers) {\n",
              "            buffers.push(buffer);\n",
              "            downloaded += buffer.byteLength;\n",
              "            progress.value = downloaded;\n",
              "          }\n",
              "        }\n",
              "      }\n",
              "      const blob = new Blob(buffers, {type: 'application/binary'});\n",
              "      const a = document.createElement('a');\n",
              "      a.href = window.URL.createObjectURL(blob);\n",
              "      a.download = filename;\n",
              "      div.appendChild(a);\n",
              "      a.click();\n",
              "      div.remove();\n",
              "    }\n",
              "  "
            ],
            "text/plain": [
              "<IPython.core.display.Javascript object>"
            ]
          },
          "metadata": {}
        },
        {
          "output_type": "display_data",
          "data": {
            "application/javascript": [
              "download(\"download_fd731794-8b4f-4e3f-89e5-083589e9673c\", \"df_model_result.csv\", 71432)"
            ],
            "text/plain": [
              "<IPython.core.display.Javascript object>"
            ]
          },
          "metadata": {}
        }
      ]
    },
    {
      "cell_type": "markdown",
      "metadata": {
        "id": "6Yrg5Vhw-tSS"
      },
      "source": [
        "# Modeling Scorecard dengan Library scorecardpy"
      ]
    },
    {
      "cell_type": "markdown",
      "metadata": {
        "id": "E1AjHWU5-x6T"
      },
      "source": [
        "## Instalasi library"
      ]
    },
    {
      "cell_type": "code",
      "metadata": {
        "id": "PJQvue7xRdXo"
      },
      "source": [
        "# install scorecardpy\n",
        "!pip install -q scorecardpy\n",
        "#!pip install git+git://github.com/shichenxie/scorecardpy.git"
      ],
      "execution_count": 311,
      "outputs": []
    },
    {
      "cell_type": "markdown",
      "metadata": {
        "id": "5jPy9YPc-0Mx"
      },
      "source": [
        "## Persiapan Modeling, train dan test dataset, pembuatan binning dan EDA"
      ]
    },
    {
      "cell_type": "code",
      "metadata": {
        "id": "grWQnOiATS-S",
        "colab": {
          "base_uri": "https://localhost:8080/",
          "height": 0
        },
        "outputId": "021bfeed-427c-4a10-b5e1-e9499634c833"
      },
      "source": [
        "y = df_model_Bin.loc[:,'default']\n",
        "X = df_model_Bin.loc[:,df_model_WOE.columns != 'default']\n",
        "\n",
        "from sklearn.model_selection import train_test_split\n",
        "X_train, X_test, y_train, y_test = train_test_split(X, y, test_size=0.30, random_state=42)\n",
        "\n",
        "# Dalam bentuk dataframe lengkap\n",
        "df_train = pd.concat([X_train, y_train], axis = 1)\n",
        "df_test = pd.concat([X_test, y_test], axis = 1)\n",
        "\n",
        "# Menghapus indeks dari data yang telah dibuang\n",
        "df_train = df_train.reset_index(drop=True)\n",
        "df_test = df_test.reset_index(drop=True)\n",
        "\n",
        "# Credit Scoring using logistic regression with library scorecardpy\n",
        "import scorecardpy as scpy\n",
        "\n",
        "# Melakukan WOE binning\n",
        "bins = scpy.woebin(df_train, y = 'default')\n",
        "\n",
        "# Melakukan WOE binning dengan adjustment\n",
        "breaks_adj = {\n",
        "}\n",
        "bins_adj = scpy.woebin(df_train, y=\"default\", breaks_list=breaks_adj)\n",
        "\n",
        "scpy.woebin_plot(bins_adj)"
      ],
      "execution_count": 312,
      "outputs": [
        {
          "output_type": "stream",
          "name": "stdout",
          "text": [
            "[INFO] creating woe binning ...\n",
            "[INFO] creating woe binning ...\n"
          ]
        },
        {
          "output_type": "execute_result",
          "data": {
            "text/plain": [
              "{'DBR_Bin': <Figure size 432x288 with 2 Axes>,\n",
              " 'SLIK_Kolektibilitas_Bin': <Figure size 432x288 with 2 Axes>,\n",
              " 'Usia_Bin': <Figure size 432x288 with 2 Axes>}"
            ]
          },
          "metadata": {},
          "execution_count": 312
        },
        {
          "output_type": "display_data",
          "data": {
            "image/png": "[encoded data removed]",
            "text/plain": [
              "<Figure size 432x288 with 2 Axes>"
            ]
          },
          "metadata": {
            "needs_background": "light"
          }
        },
        {
          "output_type": "display_data",
          "data": {
            "image/png": "[encoded data removed]",
            "text/plain": [
              "<Figure size 432x288 with 2 Axes>"
            ]
          },
          "metadata": {
            "needs_background": "light"
          }
        },
        {
          "output_type": "display_data",
          "data": {
            "image/png": "[encoded data removed]",
            "text/plain": [
              "<Figure size 432x288 with 2 Axes>"
            ]
          },
          "metadata": {
            "needs_background": "light"
          }
        }
      ]
    },
    {
      "cell_type": "markdown",
      "metadata": {
        "id": "GVJTMVFh-8wx"
      },
      "source": [
        "## Pembuatan WOE secara otomatis"
      ]
    },
    {
      "cell_type": "code",
      "metadata": {
        "id": "l_4oFCg9T8ku",
        "colab": {
          "base_uri": "https://localhost:8080/"
        },
        "outputId": "be6b2c77-e8e7-4034-8882-65183307aa74"
      },
      "source": [
        "# contoh pembuatan tanpa test\n",
        "train = df_train\n",
        "test = df_test\n",
        "\n",
        "# converting train and test into woe values\n",
        "train_woe = scpy.woebin_ply(train, bins_adj)\n",
        "test_woe = scpy.woebin_ply(test, bins_adj)\n",
        "\n",
        "y_train = train_woe.loc[:,'default']\n",
        "X_train = train_woe.loc[:,train_woe.columns != 'default']\n",
        "y_test = test_woe.loc[:,'default']\n",
        "X_test = test_woe.loc[:,train_woe.columns != 'default']\n",
        "\n",
        "print(X_train)\n",
        "print(y_train)"
      ],
      "execution_count": 313,
      "outputs": [
        {
          "output_type": "stream",
          "name": "stdout",
          "text": [
            "[INFO] converting into woe values ...\n",
            "[INFO] converting into woe values ...\n",
            "     DBR_Bin_woe  Usia_Bin_woe  SLIK_Kolektibilitas_Bin_woe\n",
            "0       0.837992      0.136790                     1.125674\n",
            "1       0.074016      0.366286                     0.087792\n",
            "2       0.074016      0.136790                     0.087792\n",
            "3      -0.306623     -0.306259                    -0.881987\n",
            "4       0.837992      0.136790                     1.125674\n",
            "..           ...           ...                          ...\n",
            "658    -0.306623      0.136790                     0.087792\n",
            "659     0.074016      0.136790                     0.087792\n",
            "660    -0.848804      0.136790                     0.087792\n",
            "661     0.074016      0.136790                     0.087792\n",
            "662     0.837992     -0.306259                     1.125674\n",
            "\n",
            "[663 rows x 3 columns]\n",
            "0      0\n",
            "1      0\n",
            "2      0\n",
            "3      0\n",
            "4      1\n",
            "      ..\n",
            "658    0\n",
            "659    1\n",
            "660    0\n",
            "661    0\n",
            "662    1\n",
            "Name: default, Length: 663, dtype: int64\n"
          ]
        }
      ]
    },
    {
      "cell_type": "code",
      "metadata": {
        "id": "f0wDX1iuqVop",
        "colab": {
          "base_uri": "https://localhost:8080/",
          "height": 0
        },
        "outputId": "608c2010-acd3-4951-a75b-dfe3cfd99984"
      },
      "source": [
        "# Untuk memudahkan membaca hasil, maka disimpan dalam bentuk csv dan didownload\n",
        "from google.colab import files\n",
        "train_woe.to_csv('train_woe.csv') \n",
        "files.download('train_woe.csv')\n",
        "\n",
        "X_train.to_csv('X_train_scpy.csv') \n",
        "files.download('X_train_scpy.csv')"
      ],
      "execution_count": 314,
      "outputs": [
        {
          "output_type": "display_data",
          "data": {
            "application/javascript": [
              "\n",
              "    async function download(id, filename, size) {\n",
              "      if (!google.colab.kernel.accessAllowed) {\n",
              "        return;\n",
              "      }\n",
              "      const div = document.createElement('div');\n",
              "      const label = document.createElement('label');\n",
              "      label.textContent = `Downloading \"${filename}\": `;\n",
              "      div.appendChild(label);\n",
              "      const progress = document.createElement('progress');\n",
              "      progress.max = size;\n",
              "      div.appendChild(progress);\n",
              "      document.body.appendChild(div);\n",
              "\n",
              "      const buffers = [];\n",
              "      let downloaded = 0;\n",
              "\n",
              "      const channel = await google.colab.kernel.comms.open(id);\n",
              "      // Send a message to notify the kernel that we're ready.\n",
              "      channel.send({})\n",
              "\n",
              "      for await (const message of channel.messages) {\n",
              "        // Send a message to notify the kernel that we're ready.\n",
              "        channel.send({})\n",
              "        if (message.buffers) {\n",
              "          for (const buffer of message.buffers) {\n",
              "            buffers.push(buffer);\n",
              "            downloaded += buffer.byteLength;\n",
              "            progress.value = downloaded;\n",
              "          }\n",
              "        }\n",
              "      }\n",
              "      const blob = new Blob(buffers, {type: 'application/binary'});\n",
              "      const a = document.createElement('a');\n",
              "      a.href = window.URL.createObjectURL(blob);\n",
              "      a.download = filename;\n",
              "      div.appendChild(a);\n",
              "      a.click();\n",
              "      div.remove();\n",
              "    }\n",
              "  "
            ],
            "text/plain": [
              "<IPython.core.display.Javascript object>"
            ]
          },
          "metadata": {}
        },
        {
          "output_type": "display_data",
          "data": {
            "application/javascript": [
              "download(\"download_9a30b846-3233-40fd-b550-b8df2ea95a82\", \"train_woe.csv\", 43318)"
            ],
            "text/plain": [
              "<IPython.core.display.Javascript object>"
            ]
          },
          "metadata": {}
        },
        {
          "output_type": "display_data",
          "data": {
            "application/javascript": [
              "\n",
              "    async function download(id, filename, size) {\n",
              "      if (!google.colab.kernel.accessAllowed) {\n",
              "        return;\n",
              "      }\n",
              "      const div = document.createElement('div');\n",
              "      const label = document.createElement('label');\n",
              "      label.textContent = `Downloading \"${filename}\": `;\n",
              "      div.appendChild(label);\n",
              "      const progress = document.createElement('progress');\n",
              "      progress.max = size;\n",
              "      div.appendChild(progress);\n",
              "      document.body.appendChild(div);\n",
              "\n",
              "      const buffers = [];\n",
              "      let downloaded = 0;\n",
              "\n",
              "      const channel = await google.colab.kernel.comms.open(id);\n",
              "      // Send a message to notify the kernel that we're ready.\n",
              "      channel.send({})\n",
              "\n",
              "      for await (const message of channel.messages) {\n",
              "        // Send a message to notify the kernel that we're ready.\n",
              "        channel.send({})\n",
              "        if (message.buffers) {\n",
              "          for (const buffer of message.buffers) {\n",
              "            buffers.push(buffer);\n",
              "            downloaded += buffer.byteLength;\n",
              "            progress.value = downloaded;\n",
              "          }\n",
              "        }\n",
              "      }\n",
              "      const blob = new Blob(buffers, {type: 'application/binary'});\n",
              "      const a = document.createElement('a');\n",
              "      a.href = window.URL.createObjectURL(blob);\n",
              "      a.download = filename;\n",
              "      div.appendChild(a);\n",
              "      a.click();\n",
              "      div.remove();\n",
              "    }\n",
              "  "
            ],
            "text/plain": [
              "<IPython.core.display.Javascript object>"
            ]
          },
          "metadata": {}
        },
        {
          "output_type": "display_data",
          "data": {
            "application/javascript": [
              "download(\"download_ac7d314f-1409-46de-b58f-eb6de3d90474\", \"X_train_scpy.csv\", 41984)"
            ],
            "text/plain": [
              "<IPython.core.display.Javascript object>"
            ]
          },
          "metadata": {}
        }
      ]
    },
    {
      "cell_type": "markdown",
      "metadata": {
        "id": "eqLAa1Sc_CC9"
      },
      "source": [
        "## Model dengan logistic regression dan hasil Scorecard"
      ]
    },
    {
      "cell_type": "code",
      "metadata": {
        "id": "8fuClTgqXUzT",
        "colab": {
          "base_uri": "https://localhost:8080/",
          "height": 0
        },
        "outputId": "77a925fd-ea3b-4c42-fc24-e6b08583e5eb"
      },
      "source": [
        "# Membuat scorecard dengan menggunakan algoritma logistic regression\n",
        "from sklearn.linear_model import LogisticRegression\n",
        "lr = LogisticRegression()\n",
        "lr.fit(X_train, y_train)\n",
        "\n",
        "print(lr.coef_)\n",
        "\n",
        "# For those that want to know the statistic modeling\n",
        "import numpy as np\n",
        "import statsmodels.api as sm\n",
        "\n",
        "model = sm.Logit(y_train, X_train)\n",
        "result = model.fit()\n",
        "\n",
        "result.summary()"
      ],
      "execution_count": 315,
      "outputs": [
        {
          "output_type": "stream",
          "name": "stdout",
          "text": [
            "[[0.90319974 0.43565135 0.86649194]]\n",
            "Optimization terminated successfully.\n",
            "         Current function value: 0.606724\n",
            "         Iterations 5\n"
          ]
        },
        {
          "output_type": "execute_result",
          "data": {
            "text/html": [
              "<table class=\"simpletable\">\n",
              "<caption>Logit Regression Results</caption>\n",
              "<tr>\n",
              "  <th>Dep. Variable:</th>        <td>default</td>     <th>  No. Observations:  </th>  <td>   663</td> \n",
              "</tr>\n",
              "<tr>\n",
              "  <th>Model:</th>                 <td>Logit</td>      <th>  Df Residuals:      </th>  <td>   660</td> \n",
              "</tr>\n",
              "<tr>\n",
              "  <th>Method:</th>                 <td>MLE</td>       <th>  Df Model:          </th>  <td>     2</td> \n",
              "</tr>\n",
              "<tr>\n",
              "  <th>Date:</th>            <td>Sun, 28 Nov 2021</td> <th>  Pseudo R-squ.:     </th> <td>0.002782</td>\n",
              "</tr>\n",
              "<tr>\n",
              "  <th>Time:</th>                <td>14:24:35</td>     <th>  Log-Likelihood:    </th> <td> -402.26</td>\n",
              "</tr>\n",
              "<tr>\n",
              "  <th>converged:</th>             <td>True</td>       <th>  LL-Null:           </th> <td> -403.38</td>\n",
              "</tr>\n",
              "<tr>\n",
              "  <th>Covariance Type:</th>     <td>nonrobust</td>    <th>  LLR p-value:       </th>  <td>0.3255</td> \n",
              "</tr>\n",
              "</table>\n",
              "<table class=\"simpletable\">\n",
              "<tr>\n",
              "               <td></td>                  <th>coef</th>     <th>std err</th>      <th>z</th>      <th>P>|z|</th>  <th>[0.025</th>    <th>0.975]</th>  \n",
              "</tr>\n",
              "<tr>\n",
              "  <th>DBR_Bin_woe</th>                 <td>    0.9400</td> <td>    0.132</td> <td>    7.141</td> <td> 0.000</td> <td>    0.682</td> <td>    1.198</td>\n",
              "</tr>\n",
              "<tr>\n",
              "  <th>Usia_Bin_woe</th>                <td>    0.4435</td> <td>    0.352</td> <td>    1.261</td> <td> 0.207</td> <td>   -0.246</td> <td>    1.133</td>\n",
              "</tr>\n",
              "<tr>\n",
              "  <th>SLIK_Kolektibilitas_Bin_woe</th> <td>    0.9396</td> <td>    0.152</td> <td>    6.168</td> <td> 0.000</td> <td>    0.641</td> <td>    1.238</td>\n",
              "</tr>\n",
              "</table>"
            ],
            "text/plain": [
              "<class 'statsmodels.iolib.summary.Summary'>\n",
              "\"\"\"\n",
              "                           Logit Regression Results                           \n",
              "==============================================================================\n",
              "Dep. Variable:                default   No. Observations:                  663\n",
              "Model:                          Logit   Df Residuals:                      660\n",
              "Method:                           MLE   Df Model:                            2\n",
              "Date:                Sun, 28 Nov 2021   Pseudo R-squ.:                0.002782\n",
              "Time:                        14:24:35   Log-Likelihood:                -402.26\n",
              "converged:                       True   LL-Null:                       -403.38\n",
              "Covariance Type:            nonrobust   LLR p-value:                    0.3255\n",
              "===============================================================================================\n",
              "                                  coef    std err          z      P>|z|      [0.025      0.975]\n",
              "-----------------------------------------------------------------------------------------------\n",
              "DBR_Bin_woe                     0.9400      0.132      7.141      0.000       0.682       1.198\n",
              "Usia_Bin_woe                    0.4435      0.352      1.261      0.207      -0.246       1.133\n",
              "SLIK_Kolektibilitas_Bin_woe     0.9396      0.152      6.168      0.000       0.641       1.238\n",
              "===============================================================================================\n",
              "\"\"\""
            ]
          },
          "metadata": {},
          "execution_count": 315
        }
      ]
    },
    {
      "cell_type": "code",
      "metadata": {
        "id": "kaKJaG1q08UW",
        "colab": {
          "base_uri": "https://localhost:8080/",
          "height": 0
        },
        "outputId": "40548967-d09e-4f07-b4e0-f9d7ab507a1a"
      },
      "source": [
        "# predicted probability\n",
        "# predicted proability\n",
        "train_pred = lr.predict_proba(X_train)[:,1]\n",
        "test_pred = lr.predict_proba(X_test)[:,1]\n",
        "\n",
        "# performance ks & roc ------\n",
        "train_perf = scpy.perf_eva(y_train, train_pred, title = \"train\")\n",
        "test_perf = scpy.perf_eva(y_test, test_pred, title = \"test\")\n",
        "\n",
        "# score ------\n",
        "card = scpy.scorecard(bins_adj, lr, X_train.columns, points0=600, odds0=1/20, pdo=50, basepoints_eq0=False)\n",
        "# credit score\n",
        "train_score = scpy.scorecard_ply(train, card, print_step=0)\n",
        "test_score = scpy.scorecard_ply(test, card, print_step=0)\n",
        "\n",
        "# psi\n",
        "scpy.perf_psi(\n",
        "  score = {'train':train_score, 'test':test_score},\n",
        "  label = {'train':y_train, 'test':y_test}\n",
        ")\n",
        "\n",
        "print(train_score)"
      ],
      "execution_count": 316,
      "outputs": [
        {
          "output_type": "display_data",
          "data": {
            "image/png": "[encoded data removed]",
            "text/plain": [
              "<Figure size 432x288 with 2 Axes>"
            ]
          },
          "metadata": {
            "needs_background": "light"
          }
        },
        {
          "output_type": "display_data",
          "data": {
            "image/png": "[encoded data removed]",
            "text/plain": [
              "<Figure size 432x288 with 2 Axes>"
            ]
          },
          "metadata": {
            "needs_background": "light"
          }
        },
        {
          "output_type": "display_data",
          "data": {
            "image/png": "[encoded data removed]",
            "text/plain": [
              "<Figure size 432x288 with 2 Axes>"
            ]
          },
          "metadata": {
            "needs_background": "light"
          }
        },
        {
          "output_type": "stream",
          "name": "stdout",
          "text": [
            "     score\n",
            "0    316.0\n",
            "1    423.0\n",
            "2    431.0\n",
            "3    530.0\n",
            "4    316.0\n",
            "..     ...\n",
            "658  456.0\n",
            "659  431.0\n",
            "660  491.0\n",
            "661  431.0\n",
            "662  330.0\n",
            "\n",
            "[663 rows x 1 columns]\n"
          ]
        }
      ]
    },
    {
      "cell_type": "code",
      "metadata": {
        "id": "KOzZ-ips3QHo",
        "colab": {
          "base_uri": "https://localhost:8080/",
          "height": 0
        },
        "outputId": "f2e5f829-6448-4dd9-9d3d-62d05a2aecee"
      },
      "source": [
        "# Untuk memudahkan membaca hasil, maka disimpan dalam bentuk csv dan didownload\n",
        "from google.colab import files\n",
        "train_score.to_csv('train_score.csv') \n",
        "files.download('train_score.csv')"
      ],
      "execution_count": 317,
      "outputs": [
        {
          "output_type": "display_data",
          "data": {
            "application/javascript": [
              "\n",
              "    async function download(id, filename, size) {\n",
              "      if (!google.colab.kernel.accessAllowed) {\n",
              "        return;\n",
              "      }\n",
              "      const div = document.createElement('div');\n",
              "      const label = document.createElement('label');\n",
              "      label.textContent = `Downloading \"${filename}\": `;\n",
              "      div.appendChild(label);\n",
              "      const progress = document.createElement('progress');\n",
              "      progress.max = size;\n",
              "      div.appendChild(progress);\n",
              "      document.body.appendChild(div);\n",
              "\n",
              "      const buffers = [];\n",
              "      let downloaded = 0;\n",
              "\n",
              "      const channel = await google.colab.kernel.comms.open(id);\n",
              "      // Send a message to notify the kernel that we're ready.\n",
              "      channel.send({})\n",
              "\n",
              "      for await (const message of channel.messages) {\n",
              "        // Send a message to notify the kernel that we're ready.\n",
              "        channel.send({})\n",
              "        if (message.buffers) {\n",
              "          for (const buffer of message.buffers) {\n",
              "            buffers.push(buffer);\n",
              "            downloaded += buffer.byteLength;\n",
              "            progress.value = downloaded;\n",
              "          }\n",
              "        }\n",
              "      }\n",
              "      const blob = new Blob(buffers, {type: 'application/binary'});\n",
              "      const a = document.createElement('a');\n",
              "      a.href = window.URL.createObjectURL(blob);\n",
              "      a.download = filename;\n",
              "      div.appendChild(a);\n",
              "      a.click();\n",
              "      div.remove();\n",
              "    }\n",
              "  "
            ],
            "text/plain": [
              "<IPython.core.display.Javascript object>"
            ]
          },
          "metadata": {}
        },
        {
          "output_type": "display_data",
          "data": {
            "application/javascript": [
              "download(\"download_d48f225a-3e2c-4f80-939f-513072e6a81a\", \"train_score.csv\", 6527)"
            ],
            "text/plain": [
              "<IPython.core.display.Javascript object>"
            ]
          },
          "metadata": {}
        }
      ]
    },
    {
      "cell_type": "code",
      "metadata": {
        "id": "5ZeZoNpZXaVr",
        "colab": {
          "base_uri": "https://localhost:8080/",
          "height": 0
        },
        "outputId": "8bde840f-5f12-4913-fb51-6c25a682e6df"
      },
      "source": [
        "# For those that want to know the statistic modeling\n",
        "import numpy as np\n",
        "import statsmodels.api as sm\n",
        "\n",
        "model = sm.Logit(y_train, X_train)\n",
        "result = model.fit()\n",
        "\n",
        "result.summary()"
      ],
      "execution_count": 318,
      "outputs": [
        {
          "output_type": "stream",
          "name": "stdout",
          "text": [
            "Optimization terminated successfully.\n",
            "         Current function value: 0.606724\n",
            "         Iterations 5\n"
          ]
        },
        {
          "output_type": "execute_result",
          "data": {
            "text/html": [
              "<table class=\"simpletable\">\n",
              "<caption>Logit Regression Results</caption>\n",
              "<tr>\n",
              "  <th>Dep. Variable:</th>        <td>default</td>     <th>  No. Observations:  </th>  <td>   663</td> \n",
              "</tr>\n",
              "<tr>\n",
              "  <th>Model:</th>                 <td>Logit</td>      <th>  Df Residuals:      </th>  <td>   660</td> \n",
              "</tr>\n",
              "<tr>\n",
              "  <th>Method:</th>                 <td>MLE</td>       <th>  Df Model:          </th>  <td>     2</td> \n",
              "</tr>\n",
              "<tr>\n",
              "  <th>Date:</th>            <td>Sun, 28 Nov 2021</td> <th>  Pseudo R-squ.:     </th> <td>0.002782</td>\n",
              "</tr>\n",
              "<tr>\n",
              "  <th>Time:</th>                <td>14:24:37</td>     <th>  Log-Likelihood:    </th> <td> -402.26</td>\n",
              "</tr>\n",
              "<tr>\n",
              "  <th>converged:</th>             <td>True</td>       <th>  LL-Null:           </th> <td> -403.38</td>\n",
              "</tr>\n",
              "<tr>\n",
              "  <th>Covariance Type:</th>     <td>nonrobust</td>    <th>  LLR p-value:       </th>  <td>0.3255</td> \n",
              "</tr>\n",
              "</table>\n",
              "<table class=\"simpletable\">\n",
              "<tr>\n",
              "               <td></td>                  <th>coef</th>     <th>std err</th>      <th>z</th>      <th>P>|z|</th>  <th>[0.025</th>    <th>0.975]</th>  \n",
              "</tr>\n",
              "<tr>\n",
              "  <th>DBR_Bin_woe</th>                 <td>    0.9400</td> <td>    0.132</td> <td>    7.141</td> <td> 0.000</td> <td>    0.682</td> <td>    1.198</td>\n",
              "</tr>\n",
              "<tr>\n",
              "  <th>Usia_Bin_woe</th>                <td>    0.4435</td> <td>    0.352</td> <td>    1.261</td> <td> 0.207</td> <td>   -0.246</td> <td>    1.133</td>\n",
              "</tr>\n",
              "<tr>\n",
              "  <th>SLIK_Kolektibilitas_Bin_woe</th> <td>    0.9396</td> <td>    0.152</td> <td>    6.168</td> <td> 0.000</td> <td>    0.641</td> <td>    1.238</td>\n",
              "</tr>\n",
              "</table>"
            ],
            "text/plain": [
              "<class 'statsmodels.iolib.summary.Summary'>\n",
              "\"\"\"\n",
              "                           Logit Regression Results                           \n",
              "==============================================================================\n",
              "Dep. Variable:                default   No. Observations:                  663\n",
              "Model:                          Logit   Df Residuals:                      660\n",
              "Method:                           MLE   Df Model:                            2\n",
              "Date:                Sun, 28 Nov 2021   Pseudo R-squ.:                0.002782\n",
              "Time:                        14:24:37   Log-Likelihood:                -402.26\n",
              "converged:                       True   LL-Null:                       -403.38\n",
              "Covariance Type:            nonrobust   LLR p-value:                    0.3255\n",
              "===============================================================================================\n",
              "                                  coef    std err          z      P>|z|      [0.025      0.975]\n",
              "-----------------------------------------------------------------------------------------------\n",
              "DBR_Bin_woe                     0.9400      0.132      7.141      0.000       0.682       1.198\n",
              "Usia_Bin_woe                    0.4435      0.352      1.261      0.207      -0.246       1.133\n",
              "SLIK_Kolektibilitas_Bin_woe     0.9396      0.152      6.168      0.000       0.641       1.238\n",
              "===============================================================================================\n",
              "\"\"\""
            ]
          },
          "metadata": {},
          "execution_count": 318
        }
      ]
    },
    {
      "cell_type": "markdown",
      "metadata": {
        "id": "HsKrF9jIBQFF"
      },
      "source": [
        "# Contoh Perhitungan Scorecard secara Manual\n"
      ]
    },
    {
      "cell_type": "code",
      "metadata": {
        "id": "jvnhDQRyUKUi"
      },
      "source": [
        "# Persiapan membuat model\n",
        "# Memilih variabel yang akan diinput ke dalam model\n",
        "\n",
        "df_simple_WOE = df_clean[['default','SLIK_Kolektibilitas_WOE','DBR_WOE']]\n",
        "df_simple_Bin = df_clean[['default','SLIK_Kolektibilitas_Bin','DBR_Bin']]\n",
        "df_simple = df_clean[['default','SLIK_Kolektibilitas','DBR']]"
      ],
      "execution_count": 319,
      "outputs": []
    },
    {
      "cell_type": "code",
      "metadata": {
        "id": "lEIDygQGUioA"
      },
      "source": [
        "# Membagi dataset menjadi development(train) dan test\n",
        "\n",
        "y = df_simple_WOE.loc[:,'default']\n",
        "X = df_simple_WOE.loc[:,df_simple_WOE.columns != 'default']\n",
        "\n",
        "from sklearn.model_selection import train_test_split\n",
        "X_train, X_test, y_train, y_test = train_test_split(X, y, test_size=0.30, random_state=42)\n",
        "\n",
        "# Dalam bentuk dataframe lengkap\n",
        "df_train = pd.concat([X_train, y_train], axis = 1)\n",
        "df_test = pd.concat([X_test, y_test], axis = 1)\n",
        "\n",
        "# Menghapus indeks dari data yang telah dibuang\n",
        "df_train = df_train.reset_index(drop=True)\n",
        "df_test = df_test.reset_index(drop=True)"
      ],
      "execution_count": 320,
      "outputs": []
    },
    {
      "cell_type": "code",
      "metadata": {
        "id": "dMZ2oOT5Unpr",
        "colab": {
          "base_uri": "https://localhost:8080/",
          "height": 321
        },
        "outputId": "6c021ae1-e4ce-46c2-d908-d1a98904bafb"
      },
      "source": [
        "# Membuat scorecard dengan menggunakan algoritma logistic regression\n",
        "from sklearn.linear_model import LogisticRegression\n",
        "lr = LogisticRegression()\n",
        "lr.fit(X_train, y_train)\n",
        "\n",
        "print(lr.coef_)\n",
        "\n",
        "# For those that want to know the statistic modeling\n",
        "import numpy as np\n",
        "import statsmodels.api as sm\n",
        "\n",
        "model = sm.Logit(y_train, X_train)\n",
        "result = model.fit()\n",
        "\n",
        "result.summary()"
      ],
      "execution_count": 321,
      "outputs": [
        {
          "output_type": "stream",
          "name": "stdout",
          "text": [
            "[[0.87889744 0.89653491]]\n",
            "Optimization terminated successfully.\n",
            "         Current function value: 0.607740\n",
            "         Iterations 5\n"
          ]
        },
        {
          "output_type": "execute_result",
          "data": {
            "text/html": [
              "<table class=\"simpletable\">\n",
              "<caption>Logit Regression Results</caption>\n",
              "<tr>\n",
              "  <th>Dep. Variable:</th>        <td>default</td>     <th>  No. Observations:  </th>  <td>   663</td> \n",
              "</tr>\n",
              "<tr>\n",
              "  <th>Model:</th>                 <td>Logit</td>      <th>  Df Residuals:      </th>  <td>   661</td> \n",
              "</tr>\n",
              "<tr>\n",
              "  <th>Method:</th>                 <td>MLE</td>       <th>  Df Model:          </th>  <td>     1</td> \n",
              "</tr>\n",
              "<tr>\n",
              "  <th>Date:</th>            <td>Sun, 28 Nov 2021</td> <th>  Pseudo R-squ.:     </th> <td>0.001111</td>\n",
              "</tr>\n",
              "<tr>\n",
              "  <th>Time:</th>                <td>14:24:37</td>     <th>  Log-Likelihood:    </th> <td> -402.93</td>\n",
              "</tr>\n",
              "<tr>\n",
              "  <th>converged:</th>             <td>True</td>       <th>  LL-Null:           </th> <td> -403.38</td>\n",
              "</tr>\n",
              "<tr>\n",
              "  <th>Covariance Type:</th>     <td>nonrobust</td>    <th>  LLR p-value:       </th>  <td>0.3437</td> \n",
              "</tr>\n",
              "</table>\n",
              "<table class=\"simpletable\">\n",
              "<tr>\n",
              "             <td></td>                <th>coef</th>     <th>std err</th>      <th>z</th>      <th>P>|z|</th>  <th>[0.025</th>    <th>0.975]</th>  \n",
              "</tr>\n",
              "<tr>\n",
              "  <th>SLIK_Kolektibilitas_WOE</th> <td>    0.9720</td> <td>    0.158</td> <td>    6.136</td> <td> 0.000</td> <td>    0.662</td> <td>    1.283</td>\n",
              "</tr>\n",
              "<tr>\n",
              "  <th>DBR_WOE</th>                 <td>    0.9991</td> <td>    0.138</td> <td>    7.256</td> <td> 0.000</td> <td>    0.729</td> <td>    1.269</td>\n",
              "</tr>\n",
              "</table>"
            ],
            "text/plain": [
              "<class 'statsmodels.iolib.summary.Summary'>\n",
              "\"\"\"\n",
              "                           Logit Regression Results                           \n",
              "==============================================================================\n",
              "Dep. Variable:                default   No. Observations:                  663\n",
              "Model:                          Logit   Df Residuals:                      661\n",
              "Method:                           MLE   Df Model:                            1\n",
              "Date:                Sun, 28 Nov 2021   Pseudo R-squ.:                0.001111\n",
              "Time:                        14:24:37   Log-Likelihood:                -402.93\n",
              "converged:                       True   LL-Null:                       -403.38\n",
              "Covariance Type:            nonrobust   LLR p-value:                    0.3437\n",
              "===========================================================================================\n",
              "                              coef    std err          z      P>|z|      [0.025      0.975]\n",
              "-------------------------------------------------------------------------------------------\n",
              "SLIK_Kolektibilitas_WOE     0.9720      0.158      6.136      0.000       0.662       1.283\n",
              "DBR_WOE                     0.9991      0.138      7.256      0.000       0.729       1.269\n",
              "===========================================================================================\n",
              "\"\"\""
            ]
          },
          "metadata": {},
          "execution_count": 321
        }
      ]
    },
    {
      "cell_type": "code",
      "metadata": {
        "id": "3OqkxsyaUtNd"
      },
      "source": [
        "train_predict = lr.predict(X_train)\n",
        "test_predict = lr.predict(X_test)\n",
        "\n",
        "test_pred_proba = lr.predict_proba(X_test)"
      ],
      "execution_count": 322,
      "outputs": []
    },
    {
      "cell_type": "code",
      "metadata": {
        "id": "F3QtDJQSUz23",
        "colab": {
          "base_uri": "https://localhost:8080/",
          "height": 17
        },
        "outputId": "35dbbb85-83c6-4915-ec4f-c0d89b681b02"
      },
      "source": [
        "# Membuat scoring\n",
        "P0 = 600 # Target Score\n",
        "PDO = 50 # Target Odds\n",
        "theta0 = 1.0/20 # Points double odds\n",
        "B = PDO/np.log(2)\n",
        "A = P0 + B * np.log(theta0)\n",
        "\n",
        "train_pred_proba = lr.predict_proba(X_train)[:,1]\n",
        "train_log_pred = lr.predict_log_proba(X_train)[:,1]\n",
        "\n",
        "score = A - B*np.log(train_pred_proba/(1-train_pred_proba))\n",
        "score_from_log = (P0 - B * np.log(theta0)) - B * train_log_pred\n",
        "\n",
        "df_train_pred_proba = pd.DataFrame(train_pred_proba, columns=['train_pred_proba'])\n",
        "df_train_log_pred = pd.DataFrame(train_log_pred, columns=['Logit_Result'])\n",
        "\n",
        "df_train_score = pd.DataFrame(score, columns=['Score'])\n",
        "df_train_log_score = pd.DataFrame(score_from_log, columns=['Score_from_log'])\n",
        "\n",
        "# Menggabungkan dataset variabel kategori dari one hot encoding dengan variabel numerik\n",
        "df_model_result = pd.concat([df_train, df_train_pred_proba, df_train_log_pred, df_train_score, df_train_log_score], axis = 1)\n",
        "\n",
        "# Untuk memudahkan membaca hasil, maka disimpan dalam bentuk csv dan didownload\n",
        "from google.colab import files\n",
        "df_model_result.to_csv('df_model_result.csv') \n",
        "files.download('df_model_result.csv')"
      ],
      "execution_count": 323,
      "outputs": [
        {
          "output_type": "display_data",
          "data": {
            "application/javascript": [
              "\n",
              "    async function download(id, filename, size) {\n",
              "      if (!google.colab.kernel.accessAllowed) {\n",
              "        return;\n",
              "      }\n",
              "      const div = document.createElement('div');\n",
              "      const label = document.createElement('label');\n",
              "      label.textContent = `Downloading \"${filename}\": `;\n",
              "      div.appendChild(label);\n",
              "      const progress = document.createElement('progress');\n",
              "      progress.max = size;\n",
              "      div.appendChild(progress);\n",
              "      document.body.appendChild(div);\n",
              "\n",
              "      const buffers = [];\n",
              "      let downloaded = 0;\n",
              "\n",
              "      const channel = await google.colab.kernel.comms.open(id);\n",
              "      // Send a message to notify the kernel that we're ready.\n",
              "      channel.send({})\n",
              "\n",
              "      for await (const message of channel.messages) {\n",
              "        // Send a message to notify the kernel that we're ready.\n",
              "        channel.send({})\n",
              "        if (message.buffers) {\n",
              "          for (const buffer of message.buffers) {\n",
              "            buffers.push(buffer);\n",
              "            downloaded += buffer.byteLength;\n",
              "            progress.value = downloaded;\n",
              "          }\n",
              "        }\n",
              "      }\n",
              "      const blob = new Blob(buffers, {type: 'application/binary'});\n",
              "      const a = document.createElement('a');\n",
              "      a.href = window.URL.createObjectURL(blob);\n",
              "      a.download = filename;\n",
              "      div.appendChild(a);\n",
              "      a.click();\n",
              "      div.remove();\n",
              "    }\n",
              "  "
            ],
            "text/plain": [
              "<IPython.core.display.Javascript object>"
            ]
          },
          "metadata": {}
        },
        {
          "output_type": "display_data",
          "data": {
            "application/javascript": [
              "download(\"download_ce3249dd-edbb-4b9a-8ac3-f38987d0d6d6\", \"df_model_result.csv\", 65015)"
            ],
            "text/plain": [
              "<IPython.core.display.Javascript object>"
            ]
          },
          "metadata": {}
        }
      ]
    },
    {
      "cell_type": "code",
      "metadata": {
        "id": "v_WsAr5XVGZh",
        "colab": {
          "base_uri": "https://localhost:8080/",
          "height": 1000
        },
        "outputId": "9b113c6e-71ca-4f49-ff2b-edce291204f5"
      },
      "source": [
        "y = df_simple_Bin.loc[:,'default']\n",
        "X = df_simple_Bin.loc[:,df_simple_Bin.columns != 'default']\n",
        "\n",
        "from sklearn.model_selection import train_test_split\n",
        "X_train, X_test, y_train, y_test = train_test_split(X, y, test_size=0.30, random_state=42)\n",
        "\n",
        "# Dalam bentuk dataframe lengkap\n",
        "df_train = pd.concat([X_train, y_train], axis = 1)\n",
        "df_test = pd.concat([X_test, y_test], axis = 1)\n",
        "\n",
        "# Menghapus indeks dari data yang telah dibuang\n",
        "df_train = df_train.reset_index(drop=True)\n",
        "df_test = df_test.reset_index(drop=True)\n",
        "\n",
        "# Credit Scoring using logistic regression with library scorecardpy\n",
        "import scorecardpy as scpy\n",
        "\n",
        "# Melakukan WOE binning\n",
        "bins = scpy.woebin(df_train, y = 'default')\n",
        "\n",
        "# Melakukan WOE binning dengan adjustment\n",
        "breaks_adj = {\n",
        "    'SLIK_Kolektibilitas_Bin': ['Kolek 1','Kolek 2&3','Kolek 4&5','Kolek Tidak_Ditemukan'],\n",
        "    'DBR_Bin': [\"1.0%\", \"2.0-10%\",\"3.10-20%\",\"4.20-30%\",\"5.30-40%\",\"6.40-50%\",\"7.50-60%\",\"8.>60%\"]\n",
        "}\n",
        "bins_adj = scpy.woebin(df_train, y=\"default\", breaks_list=breaks_adj)\n",
        "\n",
        "train = df_train\n",
        "test = df_test\n",
        "\n",
        "# converting train and test into woe values\n",
        "train_woe = scpy.woebin_ply(train, bins_adj)\n",
        "test_woe = scpy.woebin_ply(test, bins_adj)\n",
        "\n",
        "\n",
        "y_train = train_woe.loc[:,'default']\n",
        "X_train = train_woe.loc[:,train_woe.columns != 'default']\n",
        "y_test = test_woe.loc[:,'default']\n",
        "X_test = test_woe.loc[:,train_woe.columns != 'default']\n",
        "\n",
        "# Membuat scorecard dengan menggunakan algoritma logistic regression\n",
        "from sklearn.linear_model import LogisticRegression\n",
        "lr = LogisticRegression(fit_intercept = True)\n",
        "lr.fit(X_train, y_train)\n",
        "\n",
        "print(lr.coef_)\n",
        "print(lr.get_params(deep=True))\n",
        "\n",
        "# predicted probability\n",
        "# predicted proability\n",
        "train_pred = lr.predict_proba(X_train)[:,1]\n",
        "test_pred = lr.predict_proba(X_test)[:,1]\n",
        "\n",
        "# performance ks & roc ------\n",
        "train_perf = scpy.perf_eva(y_train, train_pred, title = \"train\")\n",
        "test_perf = scpy.perf_eva(y_test, test_pred, title = \"test\")\n",
        "\n",
        "# score ------\n",
        "card = scpy.scorecard(bins_adj, lr, X_train.columns, points0=600, odds0=1/20, pdo=50, basepoints_eq0=False)\n",
        "print(card)\n",
        "\n",
        "# credit score\n",
        "train_score = scpy.scorecard_ply(train, card, print_step=0)\n",
        "test_score = scpy.scorecard_ply(test, card, print_step=0)\n",
        "\n",
        "# psi\n",
        "scpy.perf_psi(\n",
        "  score = {'train':train_score, 'test':test_score},\n",
        "  label = {'train':y_train, 'test':y_test}\n",
        ")\n",
        "\n",
        "# Dalam bentuk dataframe lengkap\n",
        "df_train_woe = pd.concat([train, train_woe, train_score], axis = 1)\n",
        "# Untuk memudahkan membaca hasil, maka disimpan dalam bentuk csv dan didownload\n",
        "from google.colab import files\n",
        "df_train_woe.to_csv('df_train_woe.csv') \n",
        "files.download('df_train_woe.csv')"
      ],
      "execution_count": 324,
      "outputs": [
        {
          "output_type": "stream",
          "name": "stdout",
          "text": [
            "[INFO] creating woe binning ...\n",
            "[INFO] creating woe binning ...\n",
            "[INFO] converting into woe values ...\n",
            "[INFO] converting into woe values ...\n",
            "[[0.91925143 0.88451201]]\n",
            "{'C': 1.0, 'class_weight': None, 'dual': False, 'fit_intercept': True, 'intercept_scaling': 1, 'l1_ratio': None, 'max_iter': 100, 'multi_class': 'auto', 'n_jobs': None, 'penalty': 'l2', 'random_state': None, 'solver': 'lbfgs', 'tol': 0.0001, 'verbose': 0, 'warm_start': False}\n"
          ]
        },
        {
          "output_type": "display_data",
          "data": {
            "image/png": "[encoded data removed]",
            "text/plain": [
              "<Figure size 432x288 with 2 Axes>"
            ]
          },
          "metadata": {
            "needs_background": "light"
          }
        },
        {
          "output_type": "display_data",
          "data": {
            "image/png": "[encoded data removed]",
            "text/plain": [
              "<Figure size 432x288 with 2 Axes>"
            ]
          },
          "metadata": {
            "needs_background": "light"
          }
        },
        {
          "output_type": "stream",
          "name": "stdout",
          "text": [
            "{'basepoints':      variable  bin  points\n",
            "0  basepoints  NaN     445, 'DBR_Bin':   variable       bin  points\n",
            "0  DBR_Bin      1.0%   -68.0\n",
            "1  DBR_Bin   2.0-10%    56.0\n",
            "2  DBR_Bin  3.10-20%    20.0\n",
            "3  DBR_Bin  4.20-30%   -15.0\n",
            "4  DBR_Bin  5.30-40%     0.0\n",
            "5  DBR_Bin  6.40-50%    -7.0\n",
            "6  DBR_Bin  7.50-60%     3.0\n",
            "7  DBR_Bin    8.>60%   -52.0, 'SLIK_Kolektibilitas_Bin':                    variable                    bin  points\n",
            "8   SLIK_Kolektibilitas_Bin                Kolek 1    56.0\n",
            "9   SLIK_Kolektibilitas_Bin              Kolek 2&3    -6.0\n",
            "10  SLIK_Kolektibilitas_Bin              Kolek 4&5   -82.0\n",
            "11  SLIK_Kolektibilitas_Bin  Kolek Tidak_Ditemukan   -59.0}\n"
          ]
        },
        {
          "output_type": "display_data",
          "data": {
            "image/png": "[encoded data removed]",
            "text/plain": [
              "<Figure size 432x288 with 2 Axes>"
            ]
          },
          "metadata": {
            "needs_background": "light"
          }
        },
        {
          "output_type": "display_data",
          "data": {
            "application/javascript": [
              "\n",
              "    async function download(id, filename, size) {\n",
              "      if (!google.colab.kernel.accessAllowed) {\n",
              "        return;\n",
              "      }\n",
              "      const div = document.createElement('div');\n",
              "      const label = document.createElement('label');\n",
              "      label.textContent = `Downloading \"${filename}\": `;\n",
              "      div.appendChild(label);\n",
              "      const progress = document.createElement('progress');\n",
              "      progress.max = size;\n",
              "      div.appendChild(progress);\n",
              "      document.body.appendChild(div);\n",
              "\n",
              "      const buffers = [];\n",
              "      let downloaded = 0;\n",
              "\n",
              "      const channel = await google.colab.kernel.comms.open(id);\n",
              "      // Send a message to notify the kernel that we're ready.\n",
              "      channel.send({})\n",
              "\n",
              "      for await (const message of channel.messages) {\n",
              "        // Send a message to notify the kernel that we're ready.\n",
              "        channel.send({})\n",
              "        if (message.buffers) {\n",
              "          for (const buffer of message.buffers) {\n",
              "            buffers.push(buffer);\n",
              "            downloaded += buffer.byteLength;\n",
              "            progress.value = downloaded;\n",
              "          }\n",
              "        }\n",
              "      }\n",
              "      const blob = new Blob(buffers, {type: 'application/binary'});\n",
              "      const a = document.createElement('a');\n",
              "      a.href = window.URL.createObjectURL(blob);\n",
              "      a.download = filename;\n",
              "      div.appendChild(a);\n",
              "      a.click();\n",
              "      div.remove();\n",
              "    }\n",
              "  "
            ],
            "text/plain": [
              "<IPython.core.display.Javascript object>"
            ]
          },
          "metadata": {}
        },
        {
          "output_type": "display_data",
          "data": {
            "application/javascript": [
              "download(\"download_49ad1187-8f28-4956-b640-43bc84a55a31\", \"df_train_woe.csv\", 47255)"
            ],
            "text/plain": [
              "<IPython.core.display.Javascript object>"
            ]
          },
          "metadata": {}
        }
      ]
    }
  ]
}