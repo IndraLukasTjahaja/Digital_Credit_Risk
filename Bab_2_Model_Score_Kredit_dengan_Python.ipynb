{
  "nbformat": 4,
  "nbformat_minor": 0,
  "metadata": {
    "colab": {
      "name": "Bab 2 - Model Score Kredit dengan Python.ipynb",
      "provenance": [],
      "include_colab_link": true
    },
    "kernelspec": {
      "name": "python3",
      "display_name": "Python 3"
    },
    "language_info": {
      "name": "python"
    }
  },
  "cells": [
    {
      "cell_type": "markdown",
      "metadata": {
        "id": "view-in-github",
        "colab_type": "text"
      },
      "source": [
        "<a href=\"https://colab.research.google.com/github/IndraLukasTjahaja/Digital_Credit_Risk/blob/main/Bab_2_Model_Score_Kredit_dengan_Python.ipynb\" target=\"_parent\"><img src=\"https://colab.research.google.com/assets/colab-badge.svg\" alt=\"Open In Colab\"/></a>"
      ]
    },
    {
      "cell_type": "markdown",
      "metadata": {
        "id": "cY2cb6kM055R"
      },
      "source": [
        "# Persiapan"
      ]
    },
    {
      "cell_type": "code",
      "metadata": {
        "id": "GlebNLne06za",
        "colab": {
          "base_uri": "https://localhost:8080/"
        },
        "outputId": "930f407e-d121-443b-85b7-bc3bc3fbfddf"
      },
      "source": [
        "# Memperbarui Library\n",
        "!pip install scikit-learn --upgrade\n",
        "\n",
        "import sklearn as skl\n",
        "print(skl. __version__) "
      ],
      "execution_count": 91,
      "outputs": [
        {
          "output_type": "stream",
          "name": "stdout",
          "text": [
            "Requirement already satisfied: scikit-learn in /usr/local/lib/python3.7/dist-packages (1.0.1)\n",
            "Requirement already satisfied: numpy>=1.14.6 in /usr/local/lib/python3.7/dist-packages (from scikit-learn) (1.19.5)\n",
            "Requirement already satisfied: threadpoolctl>=2.0.0 in /usr/local/lib/python3.7/dist-packages (from scikit-learn) (3.0.0)\n",
            "Requirement already satisfied: joblib>=0.11 in /usr/local/lib/python3.7/dist-packages (from scikit-learn) (1.1.0)\n",
            "Requirement already satisfied: scipy>=1.1.0 in /usr/local/lib/python3.7/dist-packages (from scikit-learn) (1.4.1)\n",
            "1.0.1\n"
          ]
        }
      ]
    },
    {
      "cell_type": "markdown",
      "metadata": {
        "id": "EDZ9tBVB9ziI"
      },
      "source": [
        "# Membaca Data"
      ]
    },
    {
      "cell_type": "markdown",
      "metadata": {
        "id": "63e2vWzFg-h7"
      },
      "source": [
        "## 2.3.2.1 Persiapan data dan impor ke Python\n",
        "\n",
        "Impor data yang akan digunakan untuk membuat model"
      ]
    },
    {
      "cell_type": "code",
      "metadata": {
        "id": "X4yjdoBnl9Xv"
      },
      "source": [
        "# library panda untuk menggunakan data frame\n",
        "import pandas as pd\n",
        "\n",
        "# Impor data dari excel xls ke Python\n",
        "# Pembaca dapat langsung menunjuk kepada file excel yang terletak di website pendamping buku ini\n",
        "# atau mengunduh terlebih dahulu dan menunjuk ke file excel di lokasi hard drive\n",
        "# contoh: df = pd.read_excel('C:\\User\\pembaca\\downloads\\Credit_Scoring_Dataset.xlsx')\n",
        "\n",
        "df = pd.read_excel('https://github.com/IndraLukasTjahaja/Digital_Credit_Risk/raw/main/Credit_Scoring_Dataset.xlsx')"
      ],
      "execution_count": 92,
      "outputs": []
    },
    {
      "cell_type": "markdown",
      "metadata": {
        "id": "V3eszqe1fhP_"
      },
      "source": [
        "## # 2.3.2.3 Struktur data"
      ]
    },
    {
      "cell_type": "code",
      "metadata": {
        "colab": {
          "base_uri": "https://localhost:8080/",
          "height": 505
        },
        "id": "xDekPk8lmZ3N",
        "outputId": "105ee904-4473-47c3-b5ad-fa4f72d8fec8"
      },
      "source": [
        "# Melihat sample dari dataset\n",
        "df.head(10) # Menampilkan 10 baris teratas dari dataframe df"
      ],
      "execution_count": 93,
      "outputs": [
        {
          "output_type": "execute_result",
          "data": {
            "text/html": [
              "<div>\n",
              "<style scoped>\n",
              "    .dataframe tbody tr th:only-of-type {\n",
              "        vertical-align: middle;\n",
              "    }\n",
              "\n",
              "    .dataframe tbody tr th {\n",
              "        vertical-align: top;\n",
              "    }\n",
              "\n",
              "    .dataframe thead th {\n",
              "        text-align: right;\n",
              "    }\n",
              "</style>\n",
              "<table border=\"1\" class=\"dataframe\">\n",
              "  <thead>\n",
              "    <tr style=\"text-align: right;\">\n",
              "      <th></th>\n",
              "      <th>ID</th>\n",
              "      <th>gagal_bayar</th>\n",
              "      <th>Lama_Cicilan</th>\n",
              "      <th>Tujuan_Pinjaman</th>\n",
              "      <th>Jumlah_Pinjaman</th>\n",
              "      <th>Pekerjaan</th>\n",
              "      <th>Pendapatan_perbulan</th>\n",
              "      <th>Lama_Bekerja</th>\n",
              "      <th>Status</th>\n",
              "      <th>Kepemilikan_Rumah</th>\n",
              "      <th>Alamat_Rumah</th>\n",
              "      <th>Alamat_Kantor</th>\n",
              "      <th>Usia</th>\n",
              "      <th>Lama_tinggal_ditempat_sekarang</th>\n",
              "      <th>SLIK_Kolektibilitas</th>\n",
              "      <th>SLIK_Cicilan_Bulanan</th>\n",
              "      <th>SLIK_Outstanding_CC</th>\n",
              "      <th>API_CreditScore_Vendor_A</th>\n",
              "      <th>API_CreditScore_Vendor_B</th>\n",
              "      <th>Device_Type</th>\n",
              "      <th>Device_Apps_Installed</th>\n",
              "      <th>Device_Active_Since</th>\n",
              "      <th>Device_Apps_Segmentation</th>\n",
              "      <th>Mobile_Provider</th>\n",
              "      <th>Mobile_Number_Active_Since</th>\n",
              "      <th>Email_Domain_Type</th>\n",
              "    </tr>\n",
              "  </thead>\n",
              "  <tbody>\n",
              "    <tr>\n",
              "      <th>0</th>\n",
              "      <td>ABC0001</td>\n",
              "      <td>0_Bayar</td>\n",
              "      <td>1</td>\n",
              "      <td>elektronik</td>\n",
              "      <td>500000</td>\n",
              "      <td>1_pegawai_tetap</td>\n",
              "      <td>5. &gt;20 juta</td>\n",
              "      <td>5_&gt;7_tahun_kerja</td>\n",
              "      <td>2_menikah</td>\n",
              "      <td>1_milik_sendiri</td>\n",
              "      <td>Daerah_3</td>\n",
              "      <td>Daerah_3</td>\n",
              "      <td>67.0</td>\n",
              "      <td>4_&gt;10_tahun</td>\n",
              "      <td>Kolek 1</td>\n",
              "      <td>859684.752267</td>\n",
              "      <td>0.000000e+00</td>\n",
              "      <td>305</td>\n",
              "      <td>192</td>\n",
              "      <td>Android</td>\n",
              "      <td>6</td>\n",
              "      <td>2_1_ke_3_tahun</td>\n",
              "      <td>Social_Media</td>\n",
              "      <td>Telco_A</td>\n",
              "      <td>1_Kurang_1_bulan</td>\n",
              "      <td>Public_Domain</td>\n",
              "    </tr>\n",
              "    <tr>\n",
              "      <th>1</th>\n",
              "      <td>ABC0002</td>\n",
              "      <td>1_Gagal</td>\n",
              "      <td>1</td>\n",
              "      <td>peralatan_rumahtangga</td>\n",
              "      <td>2000000</td>\n",
              "      <td>1_pegawai_tetap</td>\n",
              "      <td>1. &lt; 1 juta</td>\n",
              "      <td>3_1-4_tahun_kerja</td>\n",
              "      <td>1_belum_menikah</td>\n",
              "      <td>1_milik_sendiri</td>\n",
              "      <td>Daerah_2</td>\n",
              "      <td>Daerah_2</td>\n",
              "      <td>22.0</td>\n",
              "      <td>2_1-5_tahun</td>\n",
              "      <td>Kolek 3</td>\n",
              "      <td>743722.804144</td>\n",
              "      <td>1.301412e+06</td>\n",
              "      <td>252</td>\n",
              "      <td>86</td>\n",
              "      <td>IOS</td>\n",
              "      <td>9</td>\n",
              "      <td>3_Lebih_3_tahun</td>\n",
              "      <td>Games</td>\n",
              "      <td>Telco_A</td>\n",
              "      <td>1_Kurang_1_bulan</td>\n",
              "      <td>Public_Domain</td>\n",
              "    </tr>\n",
              "    <tr>\n",
              "      <th>2</th>\n",
              "      <td>ABC0003</td>\n",
              "      <td>0_Bayar</td>\n",
              "      <td>3</td>\n",
              "      <td>makanan</td>\n",
              "      <td>1000000</td>\n",
              "      <td>3_wiraswasta</td>\n",
              "      <td>1. &lt; 1 juta</td>\n",
              "      <td>4_4-7_tahun_kerja</td>\n",
              "      <td>2_menikah</td>\n",
              "      <td>1_milik_sendiri</td>\n",
              "      <td>Daerah_2</td>\n",
              "      <td>Daerah_1</td>\n",
              "      <td>49.0</td>\n",
              "      <td>3_5-10_tahun</td>\n",
              "      <td>Kolek 1</td>\n",
              "      <td>265387.462890</td>\n",
              "      <td>0.000000e+00</td>\n",
              "      <td>858</td>\n",
              "      <td>97</td>\n",
              "      <td>Android</td>\n",
              "      <td>36</td>\n",
              "      <td>3_Lebih_3_tahun</td>\n",
              "      <td>Games</td>\n",
              "      <td>Telco_A</td>\n",
              "      <td>2_Kurang_1_tahun</td>\n",
              "      <td>Public_Domain</td>\n",
              "    </tr>\n",
              "    <tr>\n",
              "      <th>3</th>\n",
              "      <td>ABC0004</td>\n",
              "      <td>0_Bayar</td>\n",
              "      <td>6</td>\n",
              "      <td>liburan</td>\n",
              "      <td>2000000</td>\n",
              "      <td>1_pegawai_tetap</td>\n",
              "      <td>1. &lt; 1 juta</td>\n",
              "      <td>4_4-7_tahun_kerja</td>\n",
              "      <td>2_menikah</td>\n",
              "      <td>3_bersama_keluarga</td>\n",
              "      <td>Daerah_1</td>\n",
              "      <td>Daerah_1</td>\n",
              "      <td>45.0</td>\n",
              "      <td>4_&gt;10_tahun</td>\n",
              "      <td>Kolek 3</td>\n",
              "      <td>443234.967513</td>\n",
              "      <td>8.094420e+05</td>\n",
              "      <td>108</td>\n",
              "      <td>159</td>\n",
              "      <td>Android</td>\n",
              "      <td>14</td>\n",
              "      <td>3_Lebih_3_tahun</td>\n",
              "      <td>Online_Lending</td>\n",
              "      <td>Telco_E</td>\n",
              "      <td>2_Kurang_1_tahun</td>\n",
              "      <td>Professional_Domain</td>\n",
              "    </tr>\n",
              "    <tr>\n",
              "      <th>4</th>\n",
              "      <td>ABC0005</td>\n",
              "      <td>1_Gagal</td>\n",
              "      <td>4</td>\n",
              "      <td>pendidikan</td>\n",
              "      <td>1000000</td>\n",
              "      <td>1_pegawai_tetap</td>\n",
              "      <td>1. &lt; 1 juta</td>\n",
              "      <td>3_1-4_tahun_kerja</td>\n",
              "      <td>2_menikah</td>\n",
              "      <td>3_bersama_keluarga</td>\n",
              "      <td>Daerah_3</td>\n",
              "      <td>Daerah_3</td>\n",
              "      <td>53.0</td>\n",
              "      <td>4_&gt;10_tahun</td>\n",
              "      <td>Kolek 2</td>\n",
              "      <td>102046.058576</td>\n",
              "      <td>7.548064e+05</td>\n",
              "      <td>487</td>\n",
              "      <td>63</td>\n",
              "      <td>Android</td>\n",
              "      <td>10</td>\n",
              "      <td>3_Lebih_3_tahun</td>\n",
              "      <td>Shopping</td>\n",
              "      <td>Telco_D</td>\n",
              "      <td>1_Kurang_1_bulan</td>\n",
              "      <td>Public_Domain</td>\n",
              "    </tr>\n",
              "    <tr>\n",
              "      <th>5</th>\n",
              "      <td>ABC0006</td>\n",
              "      <td>0_Bayar</td>\n",
              "      <td>5</td>\n",
              "      <td>makanan</td>\n",
              "      <td>500000</td>\n",
              "      <td>3_wiraswasta</td>\n",
              "      <td>5. &gt;20 juta</td>\n",
              "      <td>3_1-4_tahun_kerja</td>\n",
              "      <td>2_menikah</td>\n",
              "      <td>3_bersama_keluarga</td>\n",
              "      <td>Daerah_1</td>\n",
              "      <td>Daerah_2</td>\n",
              "      <td>35.0</td>\n",
              "      <td>4_&gt;10_tahun</td>\n",
              "      <td>Kolek 3</td>\n",
              "      <td>480608.200003</td>\n",
              "      <td>3.222612e+06</td>\n",
              "      <td>595</td>\n",
              "      <td>200</td>\n",
              "      <td>Android</td>\n",
              "      <td>5</td>\n",
              "      <td>3_Lebih_3_tahun</td>\n",
              "      <td>Social_Media</td>\n",
              "      <td>Telco_A</td>\n",
              "      <td>2_Kurang_1_tahun</td>\n",
              "      <td>Public_Domain</td>\n",
              "    </tr>\n",
              "    <tr>\n",
              "      <th>6</th>\n",
              "      <td>ABC0007</td>\n",
              "      <td>0_Bayar</td>\n",
              "      <td>1</td>\n",
              "      <td>liburan</td>\n",
              "      <td>500000</td>\n",
              "      <td>1_pegawai_tetap</td>\n",
              "      <td>3. 5 - 10 juta</td>\n",
              "      <td>5_&gt;7_tahun_kerja</td>\n",
              "      <td>2_menikah</td>\n",
              "      <td>1_milik_sendiri</td>\n",
              "      <td>Daerah_2</td>\n",
              "      <td>Daerah_3</td>\n",
              "      <td>53.0</td>\n",
              "      <td>4_&gt;10_tahun</td>\n",
              "      <td>Kolek 3</td>\n",
              "      <td>133535.433266</td>\n",
              "      <td>4.303138e+05</td>\n",
              "      <td>334</td>\n",
              "      <td>172</td>\n",
              "      <td>Android</td>\n",
              "      <td>37</td>\n",
              "      <td>3_Lebih_3_tahun</td>\n",
              "      <td>Productivity</td>\n",
              "      <td>Telco_C</td>\n",
              "      <td>5_Lebih_5_tahun</td>\n",
              "      <td>Public_Domain</td>\n",
              "    </tr>\n",
              "    <tr>\n",
              "      <th>7</th>\n",
              "      <td>ABC0008</td>\n",
              "      <td>0_Bayar</td>\n",
              "      <td>5</td>\n",
              "      <td>buka_bisnis</td>\n",
              "      <td>500000</td>\n",
              "      <td>4_tidak_bekerja</td>\n",
              "      <td>1. &lt; 1 juta</td>\n",
              "      <td>3_1-4_tahun_kerja</td>\n",
              "      <td>2_menikah</td>\n",
              "      <td>2_sewa</td>\n",
              "      <td>Daerah_1</td>\n",
              "      <td>Daerah_1</td>\n",
              "      <td>35.0</td>\n",
              "      <td>2_1-5_tahun</td>\n",
              "      <td>Kolek 3</td>\n",
              "      <td>384367.579947</td>\n",
              "      <td>5.326622e+04</td>\n",
              "      <td>107</td>\n",
              "      <td>186</td>\n",
              "      <td>Android</td>\n",
              "      <td>35</td>\n",
              "      <td>3_Lebih_3_tahun</td>\n",
              "      <td>Productivity</td>\n",
              "      <td>Telco_E</td>\n",
              "      <td>5_Lebih_5_tahun</td>\n",
              "      <td>Public_Domain</td>\n",
              "    </tr>\n",
              "    <tr>\n",
              "      <th>8</th>\n",
              "      <td>ABC0009</td>\n",
              "      <td>0_Bayar</td>\n",
              "      <td>1</td>\n",
              "      <td>peralatan_rumahtangga</td>\n",
              "      <td>500000</td>\n",
              "      <td>3_wiraswasta</td>\n",
              "      <td>4. 10 - 20 juta</td>\n",
              "      <td>4_4-7_tahun_kerja</td>\n",
              "      <td>3_bercerai</td>\n",
              "      <td>1_milik_sendiri</td>\n",
              "      <td>Daerah_2</td>\n",
              "      <td>Daerah_1</td>\n",
              "      <td>61.0</td>\n",
              "      <td>4_&gt;10_tahun</td>\n",
              "      <td>Kolek 3</td>\n",
              "      <td>527874.467181</td>\n",
              "      <td>1.954899e+06</td>\n",
              "      <td>45</td>\n",
              "      <td>235</td>\n",
              "      <td>IOS</td>\n",
              "      <td>17</td>\n",
              "      <td>2_1_ke_3_tahun</td>\n",
              "      <td>Social_Media</td>\n",
              "      <td>Telco_A</td>\n",
              "      <td>3_1_ke_2_tahun</td>\n",
              "      <td>Public_Domain</td>\n",
              "    </tr>\n",
              "    <tr>\n",
              "      <th>9</th>\n",
              "      <td>ABC0010</td>\n",
              "      <td>1_Gagal</td>\n",
              "      <td>3</td>\n",
              "      <td>liburan</td>\n",
              "      <td>500000</td>\n",
              "      <td>4_tidak_bekerja</td>\n",
              "      <td>1. &lt; 1 juta</td>\n",
              "      <td>1_tidak_bekerja</td>\n",
              "      <td>3_bercerai</td>\n",
              "      <td>1_milik_sendiri</td>\n",
              "      <td>Daerah_2</td>\n",
              "      <td>Daerah_2</td>\n",
              "      <td>28.0</td>\n",
              "      <td>2_1-5_tahun</td>\n",
              "      <td>Kolek 1</td>\n",
              "      <td>226586.344920</td>\n",
              "      <td>0.000000e+00</td>\n",
              "      <td>254</td>\n",
              "      <td>285</td>\n",
              "      <td>Android</td>\n",
              "      <td>17</td>\n",
              "      <td>2_1_ke_3_tahun</td>\n",
              "      <td>Social_Media</td>\n",
              "      <td>Telco_C</td>\n",
              "      <td>1_Kurang_1_bulan</td>\n",
              "      <td>Public_Domain</td>\n",
              "    </tr>\n",
              "  </tbody>\n",
              "</table>\n",
              "</div>"
            ],
            "text/plain": [
              "        ID gagal_bayar  ...  Mobile_Number_Active_Since    Email_Domain_Type\n",
              "0  ABC0001     0_Bayar  ...            1_Kurang_1_bulan        Public_Domain\n",
              "1  ABC0002     1_Gagal  ...            1_Kurang_1_bulan        Public_Domain\n",
              "2  ABC0003     0_Bayar  ...            2_Kurang_1_tahun        Public_Domain\n",
              "3  ABC0004     0_Bayar  ...            2_Kurang_1_tahun  Professional_Domain\n",
              "4  ABC0005     1_Gagal  ...            1_Kurang_1_bulan        Public_Domain\n",
              "5  ABC0006     0_Bayar  ...            2_Kurang_1_tahun        Public_Domain\n",
              "6  ABC0007     0_Bayar  ...             5_Lebih_5_tahun        Public_Domain\n",
              "7  ABC0008     0_Bayar  ...             5_Lebih_5_tahun        Public_Domain\n",
              "8  ABC0009     0_Bayar  ...              3_1_ke_2_tahun        Public_Domain\n",
              "9  ABC0010     1_Gagal  ...            1_Kurang_1_bulan        Public_Domain\n",
              "\n",
              "[10 rows x 26 columns]"
            ]
          },
          "metadata": {},
          "execution_count": 93
        }
      ]
    },
    {
      "cell_type": "code",
      "metadata": {
        "colab": {
          "base_uri": "https://localhost:8080/"
        },
        "id": "GrGQd7ePjIka",
        "outputId": "2b425711-b67f-4487-e6c0-9c920311f036"
      },
      "source": [
        "# Melihat penjelasan singkat dan tipe data\n",
        "df.info()"
      ],
      "execution_count": 94,
      "outputs": [
        {
          "output_type": "stream",
          "name": "stdout",
          "text": [
            "<class 'pandas.core.frame.DataFrame'>\n",
            "RangeIndex: 1000 entries, 0 to 999\n",
            "Data columns (total 26 columns):\n",
            " #   Column                          Non-Null Count  Dtype  \n",
            "---  ------                          --------------  -----  \n",
            " 0   ID                              1000 non-null   object \n",
            " 1   gagal_bayar                     1000 non-null   object \n",
            " 2   Lama_Cicilan                    1000 non-null   int64  \n",
            " 3   Tujuan_Pinjaman                 1000 non-null   object \n",
            " 4   Jumlah_Pinjaman                 1000 non-null   int64  \n",
            " 5   Pekerjaan                       988 non-null    object \n",
            " 6   Pendapatan_perbulan             990 non-null    object \n",
            " 7   Lama_Bekerja                    973 non-null    object \n",
            " 8   Status                          996 non-null    object \n",
            " 9   Kepemilikan_Rumah               997 non-null    object \n",
            " 10  Alamat_Rumah                    1000 non-null   object \n",
            " 11  Alamat_Kantor                   1000 non-null   object \n",
            " 12  Usia                            999 non-null    float64\n",
            " 13  Lama_tinggal_ditempat_sekarang  998 non-null    object \n",
            " 14  SLIK_Kolektibilitas             1000 non-null   object \n",
            " 15  SLIK_Cicilan_Bulanan            1000 non-null   float64\n",
            " 16  SLIK_Outstanding_CC             1000 non-null   float64\n",
            " 17  API_CreditScore_Vendor_A        1000 non-null   int64  \n",
            " 18  API_CreditScore_Vendor_B        1000 non-null   int64  \n",
            " 19  Device_Type                     1000 non-null   object \n",
            " 20  Device_Apps_Installed           1000 non-null   int64  \n",
            " 21  Device_Active_Since             1000 non-null   object \n",
            " 22  Device_Apps_Segmentation        1000 non-null   object \n",
            " 23  Mobile_Provider                 1000 non-null   object \n",
            " 24  Mobile_Number_Active_Since      1000 non-null   object \n",
            " 25  Email_Domain_Type               1000 non-null   object \n",
            "dtypes: float64(3), int64(5), object(18)\n",
            "memory usage: 203.2+ KB\n"
          ]
        }
      ]
    },
    {
      "cell_type": "markdown",
      "metadata": {
        "id": "FRguzJvHfmVF"
      },
      "source": [
        "## # 2.3.2.4 Tipe data"
      ]
    },
    {
      "cell_type": "code",
      "metadata": {
        "id": "Mf2Ht_6cmehV"
      },
      "source": [
        "# Merubah tipe data menjadi tipe karakter \n",
        "df['ID'] = df.ID.astype('category')\n",
        "df['gagal_bayar'] = df.gagal_bayar.astype('category')\n",
        "df['Pekerjaan'] = df.Pekerjaan.astype('category')\n",
        "df['Tujuan_Pinjaman'] = df.Tujuan_Pinjaman.astype('category')\n",
        "df['Pendapatan_perbulan'] = df.Pendapatan_perbulan.astype('category')\n",
        "df['Lama_Bekerja'] = df.Lama_Bekerja.astype('category')\n",
        "df['Status'] = df.Status.astype('category')\n",
        "df['Kepemilikan_Rumah'] = df.Kepemilikan_Rumah.astype('category')\n",
        "df['Alamat_Rumah'] = df.Alamat_Rumah.astype('category')\n",
        "df['Alamat_Kantor'] = df.Alamat_Kantor.astype('category')\n",
        "df['Lama_tinggal_ditempat_sekarang'] = df.Lama_tinggal_ditempat_sekarang.astype('category')\n",
        "df['Device_Type'] = df.Device_Type.astype('category')\n",
        "df['Device_Active_Since'] = df.Device_Active_Since.astype('category')\n",
        "df['SLIK_Kolektibilitas'] = df.SLIK_Kolektibilitas.astype('category')\n",
        "df['Device_Apps_Segmentation'] = df.Device_Apps_Segmentation.astype('category')\n",
        "df['Mobile_Provider'] = df.Mobile_Provider.astype('category')\n",
        "df['Mobile_Number_Active_Since'] = df.Mobile_Number_Active_Since.astype('category')\n",
        "df['Email_Domain_Type'] = df.Email_Domain_Type.astype('category')\n",
        "\n",
        "# Merubah tipe data menjadi tipe karakter int64 untuk angka bulat\n",
        "df['API_CreditScore_Vendor_A'] = df.API_CreditScore_Vendor_A.astype('int64')\n",
        "df['API_CreditScore_Vendor_B'] = df.API_CreditScore_Vendor_B.astype('int64')\n",
        "df['Device_Apps_Installed'] = df.Device_Apps_Installed.astype('int64')\n",
        "\n",
        "# Merubah tipe data menjadi tipe karakter float64 untuk angka dengan koma\n",
        "# Jika dalam kolom tersebut terdapat null, maka harus di simpan dalam tipe float\n",
        "df['Lama_Cicilan'] = df.Lama_Cicilan.astype('float64')\n",
        "df['Usia'] = df.Usia.astype('float64')\n",
        "df['Jumlah_Pinjaman'] = df.Jumlah_Pinjaman.astype('float64')\n",
        "df['SLIK_Cicilan_Bulanan'] = df.SLIK_Cicilan_Bulanan.astype('float64')\n",
        "df['SLIK_Outstanding_CC'] = df.SLIK_Outstanding_CC.astype('float64')"
      ],
      "execution_count": 95,
      "outputs": []
    },
    {
      "cell_type": "markdown",
      "metadata": {
        "id": "TUopkF91gkJh"
      },
      "source": [
        "## 2.3.2.5.3 Mengidentifikasi outlier dan validitas data"
      ]
    },
    {
      "cell_type": "code",
      "metadata": {
        "colab": {
          "base_uri": "https://localhost:8080/",
          "height": 283
        },
        "id": "WUD8I46sekc6",
        "outputId": "0b529661-6ed6-4e9b-80dd-e9dd9d1e7bb4"
      },
      "source": [
        "df.boxplot(column=['Usia'])"
      ],
      "execution_count": 96,
      "outputs": [
        {
          "output_type": "execute_result",
          "data": {
            "text/plain": [
              "<matplotlib.axes._subplots.AxesSubplot at 0x7ffb28898b50>"
            ]
          },
          "metadata": {},
          "execution_count": 96
        },
        {
          "output_type": "display_data",
          "data": {
            "image/png": "[encoded data removed]",
            "text/plain": [
              "<Figure size 432x288 with 1 Axes>"
            ]
          },
          "metadata": {
            "needs_background": "light"
          }
        }
      ]
    },
    {
      "cell_type": "markdown",
      "metadata": {
        "id": "i3Kjx2z1gr7D"
      },
      "source": [
        "## Latihan membuat Box Plot"
      ]
    },
    {
      "cell_type": "code",
      "metadata": {
        "id": "wGUM9qPO8SIv"
      },
      "source": [
        "# Latihan untuk boxplot variabel SLIK_Cicilan_Bulanan\n",
        "# Tulis kode disini\n",
        "\n"
      ],
      "execution_count": 97,
      "outputs": []
    },
    {
      "cell_type": "code",
      "metadata": {
        "id": "SuZre_suM2w1"
      },
      "source": [
        "# Latihan untuk boxplot variabel SLIK_Outstanding_CC\n",
        "# Tulis kode disini\n",
        "\n"
      ],
      "execution_count": 98,
      "outputs": []
    },
    {
      "cell_type": "markdown",
      "metadata": {
        "id": "r2dLfIxig1hP"
      },
      "source": [
        "# Missing Data Treatment (Apa yang harus dilakukan terhadap data yang kosong?)"
      ]
    },
    {
      "cell_type": "markdown",
      "metadata": {
        "id": "RCVxCTb-gvRu"
      },
      "source": [
        "## 2.3.2.5.4.1 Imputasi baris data yang kosong dengan asumsi nilai\n"
      ]
    },
    {
      "cell_type": "code",
      "metadata": {
        "id": "w5L8DvciYr0X",
        "outputId": "150d6eaa-9b24-40e1-b001-ba3bc4e18e18",
        "colab": {
          "base_uri": "https://localhost:8080/"
        }
      },
      "source": [
        "# Koding berikut menggantikan missing value dari semua variabel dengan\n",
        "# nilai yang paling sering muncul (modus) untuk variabel kategori dan nilai rata-rata untuk variabel numerik\n",
        "\n",
        "# Memisahkan variabel kategori dengan variabel numerik\n",
        "df_numerik = df.select_dtypes(include=['float64','int64','int'])\n",
        "df_kategori = df.select_dtypes(exclude = ['float64','int64','int'])\n",
        "\n",
        "# Untuk variabel numerik, data yang kosong diganti dengan nilai rata-rata\n",
        "for kolom in df_numerik.columns:\n",
        "  df_numerik[kolom].fillna(df_numerik[kolom].mean(), inplace=True)\n",
        "\n",
        "# Untuk variabel kategori, data yang kosong diganti dengan nilai modus\n",
        "for kolom in df_kategori.columns:\n",
        "  df_kategori[kolom].fillna(df_kategori[kolom].mode()[0], inplace=True)\n",
        "\n",
        "# Menggabungkan dataset variabel kategori dan dengan variabel numerik\n",
        "df_pembersihan_1 = pd.concat([df_numerik, df_kategori], axis = 1)"
      ],
      "execution_count": 99,
      "outputs": [
        {
          "output_type": "stream",
          "name": "stderr",
          "text": [
            "/usr/local/lib/python3.7/dist-packages/pandas/core/series.py:4536: SettingWithCopyWarning: \n",
            "A value is trying to be set on a copy of a slice from a DataFrame\n",
            "\n",
            "See the caveats in the documentation: https://pandas.pydata.org/pandas-docs/stable/user_guide/indexing.html#returning-a-view-versus-a-copy\n",
            "  downcast=downcast,\n"
          ]
        }
      ]
    },
    {
      "cell_type": "markdown",
      "metadata": {
        "id": "12H53azahbxl"
      },
      "source": [
        "## # 2.3.2.5.4.2 Tidak menggunakan baris data yang kosong (Drop Data)\n"
      ]
    },
    {
      "cell_type": "code",
      "metadata": {
        "id": "kX5J6yALYy48"
      },
      "source": [
        "# Menggunakan fungsi dropna() untuk menghapus semua baris yang memiliki data kosong\n",
        "df_pembersihan_2 = df.dropna()"
      ],
      "execution_count": 100,
      "outputs": []
    },
    {
      "cell_type": "markdown",
      "metadata": {
        "id": "6B6XandThftC"
      },
      "source": [
        "## 2.3.2.5.4.3 Tidak menggunakan kolom data yang kosong (Drop Variable)\n"
      ]
    },
    {
      "cell_type": "code",
      "metadata": {
        "id": "GCNAZFB_Y6-G"
      },
      "source": [
        "# Menggunakan fungsi dropna(axis=’columns’) untuk menghapus kolom yang memiliki data kosong\n",
        "df_pembersihan_3 = df.dropna(axis='columns')"
      ],
      "execution_count": 101,
      "outputs": []
    },
    {
      "cell_type": "markdown",
      "metadata": {
        "id": "4SJasWmnhjZ2"
      },
      "source": [
        "## 2.3.2.5.4.4 Kategorikan data yang kosong (Flag)"
      ]
    },
    {
      "cell_type": "code",
      "metadata": {
        "id": "y6J9LrueZIQS",
        "outputId": "68324bf4-ffcc-456a-866b-c7842f1a6d4e",
        "colab": {
          "base_uri": "https://localhost:8080/"
        }
      },
      "source": [
        "# Koding berikut memberikan tanda flagging untuk baris data yang berisikan baris data kosong\n",
        "\n",
        "# Memisahkan variabel kategori dengan variabel numerik\n",
        "df_numerik = df.select_dtypes(include=['float64','int64','int'])\n",
        "df_kategori = df.select_dtypes(exclude = ['float64','int64','int'])\n",
        "\n",
        "for kolom in df_numerik.columns:\n",
        "  # Membuat kolom baru untuk baris data yang kosong\n",
        "  df_numerik[kolom+\"_missing\"] = df_numerik[kolom].isnull()\n",
        "  df_numerik[kolom].fillna(0, inplace=True)\n",
        "\n",
        "for kolom in df_kategori.columns:\n",
        "  # Kolom kategori harus secara eksplisit menambahkan data kategori baru\n",
        "  df_kategori[kolom] = df_kategori[kolom].cat.add_categories(\"00_Data_Kosong\")\n",
        "  df_kategori[kolom].fillna(\"00_Data_Kosong\", inplace=True)\n",
        "\n",
        "# Menggabungkan dataset variabel kategori dan dengan variabel numerik\n",
        "df_pembersihan_4 = pd.concat([df_numerik, df_kategori], axis = 1)"
      ],
      "execution_count": 102,
      "outputs": [
        {
          "output_type": "stream",
          "name": "stderr",
          "text": [
            "/usr/local/lib/python3.7/dist-packages/ipykernel_launcher.py:9: SettingWithCopyWarning: \n",
            "A value is trying to be set on a copy of a slice from a DataFrame.\n",
            "Try using .loc[row_indexer,col_indexer] = value instead\n",
            "\n",
            "See the caveats in the documentation: https://pandas.pydata.org/pandas-docs/stable/user_guide/indexing.html#returning-a-view-versus-a-copy\n",
            "  if __name__ == '__main__':\n",
            "/usr/local/lib/python3.7/dist-packages/pandas/core/series.py:4536: SettingWithCopyWarning: \n",
            "A value is trying to be set on a copy of a slice from a DataFrame\n",
            "\n",
            "See the caveats in the documentation: https://pandas.pydata.org/pandas-docs/stable/user_guide/indexing.html#returning-a-view-versus-a-copy\n",
            "  downcast=downcast,\n",
            "/usr/local/lib/python3.7/dist-packages/ipykernel_launcher.py:14: SettingWithCopyWarning: \n",
            "A value is trying to be set on a copy of a slice from a DataFrame.\n",
            "Try using .loc[row_indexer,col_indexer] = value instead\n",
            "\n",
            "See the caveats in the documentation: https://pandas.pydata.org/pandas-docs/stable/user_guide/indexing.html#returning-a-view-versus-a-copy\n",
            "  \n"
          ]
        }
      ]
    },
    {
      "cell_type": "code",
      "metadata": {
        "id": "Fsj2A6lYZDgj"
      },
      "source": [
        "# Melanjutkan proses dengan asumsi bahwa baris data yang kosong tidak signifikan dan tidak akan\n",
        "# terjadi baris data yang kosong lagi\n",
        "\n",
        "df_clean = df_pembersihan_2"
      ],
      "execution_count": 103,
      "outputs": []
    },
    {
      "cell_type": "code",
      "metadata": {
        "id": "NvdzMWh7H4Eo"
      },
      "source": [
        "# Menghapus indeks dari data yang telah dibuang\n",
        "# Langkah ini harus dilakukan karena penghapusan baris telah dilakukan, tapi indeks belum direset\n",
        "# Pembaca dapat verifikasi perbedaan total indeks sebelum dan sesudah reset, dengan menggunakan info\n",
        "# Jika reset tidak dilakukan, bisa terjadi kesalahan data di langkah-langkah berikutnya\n",
        "\n",
        "df_clean = df_clean.reset_index(drop=True)"
      ],
      "execution_count": 104,
      "outputs": []
    },
    {
      "cell_type": "markdown",
      "metadata": {
        "id": "ynlPrujPhrrt"
      },
      "source": [
        "# Data Eksplorasi (Explanatory Data Analysis atau EDA)"
      ]
    },
    {
      "cell_type": "markdown",
      "metadata": {
        "id": "S-MbaFDAhxHn"
      },
      "source": [
        "## 2.3.2.5.5.1 EDA Analisa dasar variabel untuk gagal_bayar"
      ]
    },
    {
      "cell_type": "code",
      "metadata": {
        "id": "qW5t7UwfES8v",
        "outputId": "d16febc3-a95c-4446-ed65-a754210105e9",
        "colab": {
          "base_uri": "https://localhost:8080/"
        }
      },
      "source": [
        "# Untuk melihat frekuensi dari variabel gagal_bayar\n",
        "print(df_clean['gagal_bayar'].value_counts())\n",
        "\n",
        "# Untuk melihat proporsi (dalam persentase) dari variabel gagal_bayar\n",
        "print(df_clean['gagal_bayar'].value_counts(normalize=True) * 100)"
      ],
      "execution_count": 105,
      "outputs": [
        {
          "output_type": "stream",
          "name": "stdout",
          "text": [
            "0_Bayar    670\n",
            "1_Gagal    278\n",
            "Name: gagal_bayar, dtype: int64\n",
            "0_Bayar    70.675105\n",
            "1_Gagal    29.324895\n",
            "Name: gagal_bayar, dtype: float64\n"
          ]
        }
      ]
    },
    {
      "cell_type": "markdown",
      "metadata": {
        "id": "y-XqBSpJi9eh"
      },
      "source": [
        "## 2.3.2.5.5.2 Exploratory Data Analysis untuk SLIK_Kolektabilitas\n"
      ]
    },
    {
      "cell_type": "code",
      "metadata": {
        "id": "zjuNAMQGE5L6",
        "outputId": "c9fa7e54-7bb5-4587-c52d-b49ee11582cf",
        "colab": {
          "base_uri": "https://localhost:8080/"
        }
      },
      "source": [
        "# Untuk melihat frekuensi dari variabel SLIK_Kolektabilitas\n",
        "print(df_clean['SLIK_Kolektibilitas'].value_counts())\n",
        "\n",
        "# Untuk melihat proporsi (dalam persentase) dari variabel SLIK_Kolektabilitas\n",
        "print(df_clean['SLIK_Kolektibilitas'].value_counts(normalize=True) * 100)"
      ],
      "execution_count": 106,
      "outputs": [
        {
          "output_type": "stream",
          "name": "stdout",
          "text": [
            "Kolek 3            483\n",
            "Kolek 1            270\n",
            "Kolek 2             84\n",
            "Tidak_Ditemukan     49\n",
            "Kolek 5             48\n",
            "Kolek 4             14\n",
            "Name: SLIK_Kolektibilitas, dtype: int64\n",
            "Kolek 3            50.949367\n",
            "Kolek 1            28.481013\n",
            "Kolek 2             8.860759\n",
            "Tidak_Ditemukan     5.168776\n",
            "Kolek 5             5.063291\n",
            "Kolek 4             1.476793\n",
            "Name: SLIK_Kolektibilitas, dtype: float64\n"
          ]
        }
      ]
    },
    {
      "cell_type": "code",
      "metadata": {
        "id": "zESKaaoCOZO3",
        "outputId": "952f4dc9-a7fe-4f01-f9ab-c44d8aebb606",
        "colab": {
          "base_uri": "https://localhost:8080/"
        }
      },
      "source": [
        "# Berapa banyak yang gagal bayar dari masing-masing nilai SLIK Kolektabilitas\n",
        "print(pd.crosstab(df_clean['SLIK_Kolektibilitas'], df_clean['gagal_bayar']))\n",
        "\n",
        "# dalam proporsi persentase\n",
        "print(pd.crosstab(df_clean['SLIK_Kolektibilitas'],df_clean['gagal_bayar'],normalize='index',)*100)"
      ],
      "execution_count": 107,
      "outputs": [
        {
          "output_type": "stream",
          "name": "stdout",
          "text": [
            "gagal_bayar          0_Bayar  1_Gagal\n",
            "SLIK_Kolektibilitas                  \n",
            "Kolek 1                  229       41\n",
            "Kolek 2                   58       26\n",
            "Kolek 3                  333      150\n",
            "Kolek 4                    6        8\n",
            "Kolek 5                   21       27\n",
            "Tidak_Ditemukan           23       26\n",
            "gagal_bayar            0_Bayar    1_Gagal\n",
            "SLIK_Kolektibilitas                      \n",
            "Kolek 1              84.814815  15.185185\n",
            "Kolek 2              69.047619  30.952381\n",
            "Kolek 3              68.944099  31.055901\n",
            "Kolek 4              42.857143  57.142857\n",
            "Kolek 5              43.750000  56.250000\n",
            "Tidak_Ditemukan      46.938776  53.061224\n"
          ]
        }
      ]
    },
    {
      "cell_type": "markdown",
      "metadata": {
        "id": "e5Obp23kjSkZ"
      },
      "source": [
        "## 2.3.2.5.5.2 SLIK_Kolektibilitas Data Visualisasi"
      ]
    },
    {
      "cell_type": "code",
      "metadata": {
        "id": "T7qwqbQUYFWm",
        "outputId": "d6d0cae7-4942-4b56-8471-4b64a9ea3d13",
        "colab": {
          "base_uri": "https://localhost:8080/",
          "height": 0
        }
      },
      "source": [
        "# Fungsi value_counts().plot(kind='bar')\n",
        "df_clean['SLIK_Kolektibilitas'].value_counts().plot(kind='bar')"
      ],
      "execution_count": 108,
      "outputs": [
        {
          "output_type": "execute_result",
          "data": {
            "text/plain": [
              "<matplotlib.axes._subplots.AxesSubplot at 0x7ffb43419290>"
            ]
          },
          "metadata": {},
          "execution_count": 108
        },
        {
          "output_type": "display_data",
          "data": {
            "image/png": "[encoded data removed]",
            "text/plain": [
              "<Figure size 432x288 with 1 Axes>"
            ]
          },
          "metadata": {
            "needs_background": "light"
          }
        }
      ]
    },
    {
      "cell_type": "code",
      "metadata": {
        "id": "QEmk-BKSYpKH",
        "outputId": "aea5e3a1-c9f7-416a-83cf-df46f09d7b96",
        "colab": {
          "base_uri": "https://localhost:8080/",
          "height": 0
        }
      },
      "source": [
        "# Menampilkan plot bar secara horizontal\n",
        "df_clean['SLIK_Kolektibilitas'].value_counts().plot(kind='barh')"
      ],
      "execution_count": 109,
      "outputs": [
        {
          "output_type": "execute_result",
          "data": {
            "text/plain": [
              "<matplotlib.axes._subplots.AxesSubplot at 0x7ffb43497c90>"
            ]
          },
          "metadata": {},
          "execution_count": 109
        },
        {
          "output_type": "display_data",
          "data": {
            "image/png": "[encoded data removed]",
            "text/plain": [
              "<Figure size 432x288 with 1 Axes>"
            ]
          },
          "metadata": {
            "needs_background": "light"
          }
        }
      ]
    },
    {
      "cell_type": "code",
      "metadata": {
        "id": "uILFhuMGZZRg",
        "outputId": "2bb6968f-1a86-4773-8a1f-41eb5628f295",
        "colab": {
          "base_uri": "https://localhost:8080/",
          "height": 0
        }
      },
      "source": [
        "# Nilai variabel SLIK_Kolektibilitas dan proporsi default secara plot bar\n",
        "pd.crosstab(df_clean['SLIK_Kolektibilitas'], df_clean['gagal_bayar']).plot(kind='barh', stacked=True)"
      ],
      "execution_count": 110,
      "outputs": [
        {
          "output_type": "execute_result",
          "data": {
            "text/plain": [
              "<matplotlib.axes._subplots.AxesSubplot at 0x7ffb28588a10>"
            ]
          },
          "metadata": {},
          "execution_count": 110
        },
        {
          "output_type": "display_data",
          "data": {
            "image/png": "[encoded data removed]",
            "text/plain": [
              "<Figure size 432x288 with 1 Axes>"
            ]
          },
          "metadata": {
            "needs_background": "light"
          }
        }
      ]
    },
    {
      "cell_type": "code",
      "metadata": {
        "id": "s_i1FvMkZseF",
        "outputId": "42bc5800-9370-4143-f103-a196afdb9c96",
        "colab": {
          "base_uri": "https://localhost:8080/",
          "height": 0
        }
      },
      "source": [
        "# Nilai variabel SLIK_Kolektibilitas dan proporsi default secara plot bar, secara proporsi\n",
        "pd.crosstab(df_clean['SLIK_Kolektibilitas'], df_clean['gagal_bayar'], normalize='index').plot(kind='barh', stacked=True)"
      ],
      "execution_count": 111,
      "outputs": [
        {
          "output_type": "execute_result",
          "data": {
            "text/plain": [
              "<matplotlib.axes._subplots.AxesSubplot at 0x7ffb284bad50>"
            ]
          },
          "metadata": {},
          "execution_count": 111
        },
        {
          "output_type": "display_data",
          "data": {
            "image/png": "[encoded data removed]",
            "text/plain": [
              "<Figure size 432x288 with 1 Axes>"
            ]
          },
          "metadata": {
            "needs_background": "light"
          }
        }
      ]
    },
    {
      "cell_type": "markdown",
      "metadata": {
        "id": "wHjaPO4ejaqY"
      },
      "source": [
        "## Latihan EDA untuk variabel kategori"
      ]
    },
    {
      "cell_type": "code",
      "metadata": {
        "id": "S0EttoEU8l38"
      },
      "source": [
        "# Latihan EDA untuk Tujuan_Pinjaman, Lama_Bekerja, atau variabel kategori / teks lainnya\n",
        "# Tulis kode disini\n",
        "\n"
      ],
      "execution_count": 112,
      "outputs": []
    },
    {
      "cell_type": "markdown",
      "metadata": {
        "id": "Z8LtJ3gdjdX6"
      },
      "source": [
        "## 2.3.2.5.5.3 Exploratory Data Analysis untuk Usia"
      ]
    },
    {
      "cell_type": "code",
      "metadata": {
        "id": "90J2yiiUYmY-",
        "outputId": "6f89aacb-cf42-42d5-f809-36ea6442cbb0",
        "colab": {
          "base_uri": "https://localhost:8080/",
          "height": 0
        }
      },
      "source": [
        "# Rangkuman statistik untuk variabel numerik Usia\n",
        "print(df_clean['Usia'].describe())\n",
        "\n",
        "# Rangkuman statistik untuk variabel numerik Usia, berdasarkan default (gagal bayar atau tidak)\n",
        "df_clean.groupby('gagal_bayar')['Usia'].describe()"
      ],
      "execution_count": 113,
      "outputs": [
        {
          "output_type": "stream",
          "name": "stdout",
          "text": [
            "count    948.000000\n",
            "mean      35.548523\n",
            "std       11.335750\n",
            "min       19.000000\n",
            "25%       27.000000\n",
            "50%       33.000000\n",
            "75%       42.000000\n",
            "max       75.000000\n",
            "Name: Usia, dtype: float64\n"
          ]
        },
        {
          "output_type": "execute_result",
          "data": {
            "text/html": [
              "<div>\n",
              "<style scoped>\n",
              "    .dataframe tbody tr th:only-of-type {\n",
              "        vertical-align: middle;\n",
              "    }\n",
              "\n",
              "    .dataframe tbody tr th {\n",
              "        vertical-align: top;\n",
              "    }\n",
              "\n",
              "    .dataframe thead th {\n",
              "        text-align: right;\n",
              "    }\n",
              "</style>\n",
              "<table border=\"1\" class=\"dataframe\">\n",
              "  <thead>\n",
              "    <tr style=\"text-align: right;\">\n",
              "      <th></th>\n",
              "      <th>count</th>\n",
              "      <th>mean</th>\n",
              "      <th>std</th>\n",
              "      <th>min</th>\n",
              "      <th>25%</th>\n",
              "      <th>50%</th>\n",
              "      <th>75%</th>\n",
              "      <th>max</th>\n",
              "    </tr>\n",
              "    <tr>\n",
              "      <th>gagal_bayar</th>\n",
              "      <th></th>\n",
              "      <th></th>\n",
              "      <th></th>\n",
              "      <th></th>\n",
              "      <th></th>\n",
              "      <th></th>\n",
              "      <th></th>\n",
              "      <th></th>\n",
              "    </tr>\n",
              "  </thead>\n",
              "  <tbody>\n",
              "    <tr>\n",
              "      <th>0_Bayar</th>\n",
              "      <td>670.0</td>\n",
              "      <td>36.116418</td>\n",
              "      <td>11.239140</td>\n",
              "      <td>19.0</td>\n",
              "      <td>27.0</td>\n",
              "      <td>34.0</td>\n",
              "      <td>42.00</td>\n",
              "      <td>75.0</td>\n",
              "    </tr>\n",
              "    <tr>\n",
              "      <th>1_Gagal</th>\n",
              "      <td>278.0</td>\n",
              "      <td>34.179856</td>\n",
              "      <td>11.470415</td>\n",
              "      <td>19.0</td>\n",
              "      <td>25.0</td>\n",
              "      <td>31.0</td>\n",
              "      <td>40.75</td>\n",
              "      <td>74.0</td>\n",
              "    </tr>\n",
              "  </tbody>\n",
              "</table>\n",
              "</div>"
            ],
            "text/plain": [
              "             count       mean        std   min   25%   50%    75%   max\n",
              "gagal_bayar                                                            \n",
              "0_Bayar      670.0  36.116418  11.239140  19.0  27.0  34.0  42.00  75.0\n",
              "1_Gagal      278.0  34.179856  11.470415  19.0  25.0  31.0  40.75  74.0"
            ]
          },
          "metadata": {},
          "execution_count": 113
        }
      ]
    },
    {
      "cell_type": "code",
      "metadata": {
        "id": "V0mG8ys3aeq0",
        "outputId": "ac7daf06-f67d-4e03-de5e-0948c45026ee",
        "colab": {
          "base_uri": "https://localhost:8080/",
          "height": 0
        }
      },
      "source": [
        "# Fungsi distplot() dari library seaborn\n",
        "# Perhatikan bahwa distribusi plot harus tidak memiliki data kosong / missing value.\n",
        "# Oleh karena itu harus menambahkan fungsi dropna() untuk secara sementara tidak\n",
        "# mengikutsertakan missing value dalam pembuatan plot distribusi\n",
        "\n",
        "import matplotlib.pyplot as plt\n",
        "import seaborn as sns\n",
        "\n",
        "fig, ax = plt.subplots(figsize=(15,15))\n",
        "sns.distplot(df_clean['Usia'].dropna(), ax=ax).set_title('Distribution Plot')"
      ],
      "execution_count": 114,
      "outputs": [
        {
          "output_type": "stream",
          "name": "stderr",
          "text": [
            "/usr/local/lib/python3.7/dist-packages/seaborn/distributions.py:2619: FutureWarning: `distplot` is a deprecated function and will be removed in a future version. Please adapt your code to use either `displot` (a figure-level function with similar flexibility) or `histplot` (an axes-level function for histograms).\n",
            "  warnings.warn(msg, FutureWarning)\n"
          ]
        },
        {
          "output_type": "execute_result",
          "data": {
            "text/plain": [
              "Text(0.5, 1.0, 'Distribution Plot')"
            ]
          },
          "metadata": {},
          "execution_count": 114
        },
        {
          "output_type": "display_data",
          "data": {
            "image/png": "[encoded data removed]",
            "text/plain": [
              "<Figure size 1080x1080 with 1 Axes>"
            ]
          },
          "metadata": {
            "needs_background": "light"
          }
        }
      ]
    },
    {
      "cell_type": "code",
      "metadata": {
        "id": "K1JubColf4xI",
        "outputId": "0b76e427-527d-42b8-ae2c-c43ca1d6b558",
        "colab": {
          "base_uri": "https://localhost:8080/",
          "height": 0
        }
      },
      "source": [
        "# Menambahkan by di fungsi boxplot untuk membagi boxplot berdasarkan gagal_bayar\n",
        "df_clean.boxplot(by='gagal_bayar',column=['Usia'])"
      ],
      "execution_count": 115,
      "outputs": [
        {
          "output_type": "stream",
          "name": "stderr",
          "text": [
            "/usr/local/lib/python3.7/dist-packages/numpy/core/_asarray.py:83: VisibleDeprecationWarning: Creating an ndarray from ragged nested sequences (which is a list-or-tuple of lists-or-tuples-or ndarrays with different lengths or shapes) is deprecated. If you meant to do this, you must specify 'dtype=object' when creating the ndarray\n",
            "  return array(a, dtype, copy=False, order=order)\n"
          ]
        },
        {
          "output_type": "execute_result",
          "data": {
            "text/plain": [
              "<matplotlib.axes._subplots.AxesSubplot at 0x7ffb28379a10>"
            ]
          },
          "metadata": {},
          "execution_count": 115
        },
        {
          "output_type": "display_data",
          "data": {
            "image/png": "[encoded data removed]",
            "text/plain": [
              "<Figure size 432x288 with 1 Axes>"
            ]
          },
          "metadata": {
            "needs_background": "light"
          }
        }
      ]
    },
    {
      "cell_type": "markdown",
      "metadata": {
        "id": "VRrUeXK_kdnC"
      },
      "source": [
        "## Latihan EDA untuk variabel Numerik"
      ]
    },
    {
      "cell_type": "code",
      "metadata": {
        "id": "AtuTbwnrTjmX"
      },
      "source": [
        "# Latihan untuk rangkuman analisa dan visualisasi untuk variabel SLIK_Cicilan_Bulanan, SLIK_Outstanding_CC, Lama_Cicilan, dan Jumlah_Pinjaman\n",
        "# Tulis kode disini\n",
        "\n"
      ],
      "execution_count": 116,
      "outputs": []
    },
    {
      "cell_type": "markdown",
      "metadata": {
        "id": "mLdW1nh6lSri"
      },
      "source": [
        "## Korelasi"
      ]
    },
    {
      "cell_type": "code",
      "metadata": {
        "id": "5lZPEAen-nxN"
      },
      "source": [
        "import numpy as np\n",
        "\n",
        "# Untuk dapat melakukan analisa statistik, harus mengubah variabel gagal_bayar dari string menjadi angka (integer)\n",
        "# Mengubah target variabel gagal_bayar menjadi angka 0 dan 1\n",
        "conditions = [\n",
        "             df_clean['gagal_bayar'] == '1_Gagal', \n",
        "             df_clean['gagal_bayar'] == '0_Bayar'\n",
        "             ]\n",
        "\n",
        "choices     = [\n",
        "             1,\n",
        "             0\n",
        "             ]\n",
        "df_clean['default'] = np.select(conditions,choices, default = 0)"
      ],
      "execution_count": 117,
      "outputs": []
    },
    {
      "cell_type": "code",
      "metadata": {
        "id": "HNjGTaQp_BaM",
        "outputId": "9400b9fb-483d-4eaa-b919-9aeceb1f5345",
        "colab": {
          "base_uri": "https://localhost:8080/"
        }
      },
      "source": [
        "# Menghitung korelasi antara variabel Usia dengan default\n",
        "print(df_clean['default'].corr(df_clean['Usia']))"
      ],
      "execution_count": 118,
      "outputs": [
        {
          "output_type": "stream",
          "name": "stdout",
          "text": [
            "-0.0778147171989035\n"
          ]
        }
      ]
    },
    {
      "cell_type": "code",
      "metadata": {
        "id": "84joxnCJCThc",
        "outputId": "76b44711-481e-47cf-8638-13cd83d674c8",
        "colab": {
          "base_uri": "https://localhost:8080/"
        }
      },
      "source": [
        "from scipy import stats\n",
        "\n",
        "# Uji coba hipotesis apakah ada perbedaan nilai rata-rata variabel \n",
        "# Usia dengan default (gagal bayar dan tidak gagal bayar)\n",
        "stats.ttest_ind( df_clean[df_clean.default == 0].Usia,\n",
        "             \tdf_clean[df_clean.default == 1].Usia, nan_policy='omit')"
      ],
      "execution_count": 119,
      "outputs": [
        {
          "output_type": "execute_result",
          "data": {
            "text/plain": [
              "Ttest_indResult(statistic=2.400635164816287, pvalue=0.016558910387081596)"
            ]
          },
          "metadata": {},
          "execution_count": 119
        }
      ]
    },
    {
      "cell_type": "markdown",
      "metadata": {
        "id": "wm-kQAHrlfH8"
      },
      "source": [
        "## 2.3.2.5.6 Memahami korelasi antar variabel dan dengan target"
      ]
    },
    {
      "cell_type": "code",
      "metadata": {
        "id": "zeTbQamD1XoF",
        "outputId": "22e6533d-7036-4d48-ec92-c2f9d4a62f5c",
        "colab": {
          "base_uri": "https://localhost:8080/",
          "height": 0
        }
      },
      "source": [
        "# Korelasi Antar semua Variabel numerik\n",
        "import seaborn as sns\n",
        "corr = df_clean.corr()\n",
        "corr"
      ],
      "execution_count": 120,
      "outputs": [
        {
          "output_type": "execute_result",
          "data": {
            "text/html": [
              "<div>\n",
              "<style scoped>\n",
              "    .dataframe tbody tr th:only-of-type {\n",
              "        vertical-align: middle;\n",
              "    }\n",
              "\n",
              "    .dataframe tbody tr th {\n",
              "        vertical-align: top;\n",
              "    }\n",
              "\n",
              "    .dataframe thead th {\n",
              "        text-align: right;\n",
              "    }\n",
              "</style>\n",
              "<table border=\"1\" class=\"dataframe\">\n",
              "  <thead>\n",
              "    <tr style=\"text-align: right;\">\n",
              "      <th></th>\n",
              "      <th>Lama_Cicilan</th>\n",
              "      <th>Jumlah_Pinjaman</th>\n",
              "      <th>Usia</th>\n",
              "      <th>SLIK_Cicilan_Bulanan</th>\n",
              "      <th>SLIK_Outstanding_CC</th>\n",
              "      <th>API_CreditScore_Vendor_A</th>\n",
              "      <th>API_CreditScore_Vendor_B</th>\n",
              "      <th>Device_Apps_Installed</th>\n",
              "      <th>default</th>\n",
              "    </tr>\n",
              "  </thead>\n",
              "  <tbody>\n",
              "    <tr>\n",
              "      <th>Lama_Cicilan</th>\n",
              "      <td>1.000000</td>\n",
              "      <td>0.298788</td>\n",
              "      <td>0.029419</td>\n",
              "      <td>0.000481</td>\n",
              "      <td>0.029004</td>\n",
              "      <td>-0.012322</td>\n",
              "      <td>-0.028463</td>\n",
              "      <td>-0.057698</td>\n",
              "      <td>0.021000</td>\n",
              "    </tr>\n",
              "    <tr>\n",
              "      <th>Jumlah_Pinjaman</th>\n",
              "      <td>0.298788</td>\n",
              "      <td>1.000000</td>\n",
              "      <td>0.041210</td>\n",
              "      <td>-0.031538</td>\n",
              "      <td>-0.007841</td>\n",
              "      <td>0.013080</td>\n",
              "      <td>-0.020965</td>\n",
              "      <td>-0.026660</td>\n",
              "      <td>0.132585</td>\n",
              "    </tr>\n",
              "    <tr>\n",
              "      <th>Usia</th>\n",
              "      <td>0.029419</td>\n",
              "      <td>0.041210</td>\n",
              "      <td>1.000000</td>\n",
              "      <td>0.007345</td>\n",
              "      <td>-0.008791</td>\n",
              "      <td>0.018705</td>\n",
              "      <td>0.018308</td>\n",
              "      <td>0.032119</td>\n",
              "      <td>-0.077815</td>\n",
              "    </tr>\n",
              "    <tr>\n",
              "      <th>SLIK_Cicilan_Bulanan</th>\n",
              "      <td>0.000481</td>\n",
              "      <td>-0.031538</td>\n",
              "      <td>0.007345</td>\n",
              "      <td>1.000000</td>\n",
              "      <td>0.317872</td>\n",
              "      <td>0.034330</td>\n",
              "      <td>-0.056521</td>\n",
              "      <td>-0.003362</td>\n",
              "      <td>0.181373</td>\n",
              "    </tr>\n",
              "    <tr>\n",
              "      <th>SLIK_Outstanding_CC</th>\n",
              "      <td>0.029004</td>\n",
              "      <td>-0.007841</td>\n",
              "      <td>-0.008791</td>\n",
              "      <td>0.317872</td>\n",
              "      <td>1.000000</td>\n",
              "      <td>-0.035197</td>\n",
              "      <td>-0.004624</td>\n",
              "      <td>-0.054377</td>\n",
              "      <td>0.185339</td>\n",
              "    </tr>\n",
              "    <tr>\n",
              "      <th>API_CreditScore_Vendor_A</th>\n",
              "      <td>-0.012322</td>\n",
              "      <td>0.013080</td>\n",
              "      <td>0.018705</td>\n",
              "      <td>0.034330</td>\n",
              "      <td>-0.035197</td>\n",
              "      <td>1.000000</td>\n",
              "      <td>-0.000716</td>\n",
              "      <td>0.040767</td>\n",
              "      <td>-0.038087</td>\n",
              "    </tr>\n",
              "    <tr>\n",
              "      <th>API_CreditScore_Vendor_B</th>\n",
              "      <td>-0.028463</td>\n",
              "      <td>-0.020965</td>\n",
              "      <td>0.018308</td>\n",
              "      <td>-0.056521</td>\n",
              "      <td>-0.004624</td>\n",
              "      <td>-0.000716</td>\n",
              "      <td>1.000000</td>\n",
              "      <td>-0.018533</td>\n",
              "      <td>-0.160338</td>\n",
              "    </tr>\n",
              "    <tr>\n",
              "      <th>Device_Apps_Installed</th>\n",
              "      <td>-0.057698</td>\n",
              "      <td>-0.026660</td>\n",
              "      <td>0.032119</td>\n",
              "      <td>-0.003362</td>\n",
              "      <td>-0.054377</td>\n",
              "      <td>0.040767</td>\n",
              "      <td>-0.018533</td>\n",
              "      <td>1.000000</td>\n",
              "      <td>-0.132190</td>\n",
              "    </tr>\n",
              "    <tr>\n",
              "      <th>default</th>\n",
              "      <td>0.021000</td>\n",
              "      <td>0.132585</td>\n",
              "      <td>-0.077815</td>\n",
              "      <td>0.181373</td>\n",
              "      <td>0.185339</td>\n",
              "      <td>-0.038087</td>\n",
              "      <td>-0.160338</td>\n",
              "      <td>-0.132190</td>\n",
              "      <td>1.000000</td>\n",
              "    </tr>\n",
              "  </tbody>\n",
              "</table>\n",
              "</div>"
            ],
            "text/plain": [
              "                          Lama_Cicilan  ...   default\n",
              "Lama_Cicilan                  1.000000  ...  0.021000\n",
              "Jumlah_Pinjaman               0.298788  ...  0.132585\n",
              "Usia                          0.029419  ... -0.077815\n",
              "SLIK_Cicilan_Bulanan          0.000481  ...  0.181373\n",
              "SLIK_Outstanding_CC           0.029004  ...  0.185339\n",
              "API_CreditScore_Vendor_A     -0.012322  ... -0.038087\n",
              "API_CreditScore_Vendor_B     -0.028463  ... -0.160338\n",
              "Device_Apps_Installed        -0.057698  ... -0.132190\n",
              "default                       0.021000  ...  1.000000\n",
              "\n",
              "[9 rows x 9 columns]"
            ]
          },
          "metadata": {},
          "execution_count": 120
        }
      ]
    },
    {
      "cell_type": "code",
      "metadata": {
        "id": "L1bmRBmC8B9g",
        "outputId": "ae39ebbd-cf45-4b3e-949b-280e24480b12",
        "colab": {
          "base_uri": "https://localhost:8080/",
          "height": 0
        }
      },
      "source": [
        "# Korelasi secara visualisasi\n",
        "sns.heatmap(corr, xticklabels=corr.columns.values, yticklabels=corr.columns.values)"
      ],
      "execution_count": 121,
      "outputs": [
        {
          "output_type": "execute_result",
          "data": {
            "text/plain": [
              "<matplotlib.axes._subplots.AxesSubplot at 0x7ffb282f47d0>"
            ]
          },
          "metadata": {},
          "execution_count": 121
        },
        {
          "output_type": "display_data",
          "data": {
            "image/png": "[encoded data removed]",
            "text/plain": [
              "<Figure size 432x288 with 2 Axes>"
            ]
          },
          "metadata": {
            "needs_background": "light"
          }
        }
      ]
    },
    {
      "cell_type": "markdown",
      "metadata": {
        "id": "uPHUOv9lllM1"
      },
      "source": [
        "## Latihan Korelasi"
      ]
    },
    {
      "cell_type": "code",
      "metadata": {
        "id": "GYGvQAjevc21"
      },
      "source": [
        "# Latihan untuk korelasi untuk variabel API_CreditScore_Vendor_A dan Lama_Cicilan\n",
        "# Tulis kode disini\n",
        "# Kesimpulan yang didapatkan?\n"
      ],
      "execution_count": 122,
      "outputs": []
    },
    {
      "cell_type": "code",
      "metadata": {
        "id": "iV4srE0Jyz54"
      },
      "source": [
        "# Latihan uji coba hipotesis untuk API_CreditScore_Vendor_A dan Lama_Cicilan\n",
        "# Tulis kode disini\n",
        "# Kesimpulan yang didapatkan?\n",
        "\n"
      ],
      "execution_count": 123,
      "outputs": []
    },
    {
      "cell_type": "markdown",
      "metadata": {
        "id": "Fa1Y90PHlyyR"
      },
      "source": [
        "## 2.3.2.5.6.2 Memahami korelasi antar variabel independent kategori\n"
      ]
    },
    {
      "cell_type": "code",
      "metadata": {
        "id": "DINJuDJSjV3r",
        "outputId": "94aae3d5-4577-4393-c9e1-0bce9827b089",
        "colab": {
          "base_uri": "https://localhost:8080/",
          "height": 0
        }
      },
      "source": [
        "# Memisahkan variabel kategori dengan variabel numerik\n",
        "df_numerik = df_clean.select_dtypes(include=['float64','int64','int'])\n",
        "df_kategori = df_clean.select_dtypes(exclude = ['float64','int64','int'])\n",
        "\n",
        "# Menghapus kolom yang tidak berkaitan dengan korelasi antar variabel independent\n",
        "df_kategori.drop(columns=['ID', 'gagal_bayar'], inplace=True)\n",
        "\n",
        "from sklearn.feature_selection import chi2\n",
        "import numpy as np\n",
        "import pandas as pd\n",
        "import matplotlib.pyplot as plt\n",
        "import seaborn as sns\n",
        "\n",
        "df = pd.get_dummies(data = df_kategori)\n",
        "\n",
        "# Kode Python berdasarkan referensi dari https://www.analyticsvidhya.com/blog/2021/06/decoding-the-chi-square-test%E2%80%8A-%E2%80%8Ause-along-with-implementation-and-visualization/\n",
        "resultant = pd.DataFrame(data=[(0 for i in range(len(df.columns))) for i in range(len(df.columns))], \n",
        "                         columns=list(df.columns))\n",
        "resultant.set_index(pd.Index(list(df.columns)), inplace = True)\n",
        "for i in list(df.columns):\n",
        "    for j in list(df.columns):\n",
        "        if i != j:\n",
        "            chi2_val, p_val = chi2(np.array(df[i]).reshape(-1, 1), np.array(df[j]).reshape(-1, 1))\n",
        "            resultant.loc[i,j] = p_val\n",
        "print(resultant)\n",
        "\n",
        "# Untuk memudahkan membaca hasil, maka disimpan dalam bentuk csv dan didownload\n",
        "from google.colab import files\n",
        "resultant.to_csv('chi_square.csv') \n",
        "files.download('chi_square.csv')"
      ],
      "execution_count": 124,
      "outputs": [
        {
          "output_type": "stream",
          "name": "stderr",
          "text": [
            "/usr/local/lib/python3.7/dist-packages/pandas/core/frame.py:4174: SettingWithCopyWarning: \n",
            "A value is trying to be set on a copy of a slice from a DataFrame\n",
            "\n",
            "See the caveats in the documentation: https://pandas.pydata.org/pandas-docs/stable/user_guide/indexing.html#returning-a-view-versus-a-copy\n",
            "  errors=errors,\n"
          ]
        },
        {
          "output_type": "stream",
          "name": "stdout",
          "text": [
            "                                            Tujuan_Pinjaman_buka_bisnis  ...  Email_Domain_Type_Public_Domain\n",
            "Tujuan_Pinjaman_buka_bisnis                                0.000000e+00  ...                     4.236873e-04\n",
            "Tujuan_Pinjaman_elektronik                                 3.736414e-22  ...                     8.344980e-04\n",
            "Tujuan_Pinjaman_liburan                                    1.432841e-05  ...                     7.020366e-02\n",
            "Tujuan_Pinjaman_makanan                                    1.027722e-06  ...                     2.353050e-01\n",
            "Tujuan_Pinjaman_pendidikan                                 3.761034e-05  ...                     3.820163e-01\n",
            "...                                                                 ...  ...                              ...\n",
            "Mobile_Number_Active_Since_3_1_ke_2_tahun                  5.577441e-01  ...                     1.663092e-01\n",
            "Mobile_Number_Active_Since_4_2_ke_5_tahun                  1.438647e-01  ...                     2.431699e-01\n",
            "Mobile_Number_Active_Since_5_Lebih_5_tahun                 3.201663e-01  ...                     4.911474e-01\n",
            "Email_Domain_Type_Professional_Domain                      4.347997e-04  ...                    4.893445e-169\n",
            "Email_Domain_Type_Public_Domain                            8.854035e-02  ...                     0.000000e+00\n",
            "\n",
            "[66 rows x 66 columns]\n"
          ]
        },
        {
          "output_type": "display_data",
          "data": {
            "application/javascript": [
              "\n",
              "    async function download(id, filename, size) {\n",
              "      if (!google.colab.kernel.accessAllowed) {\n",
              "        return;\n",
              "      }\n",
              "      const div = document.createElement('div');\n",
              "      const label = document.createElement('label');\n",
              "      label.textContent = `Downloading \"${filename}\": `;\n",
              "      div.appendChild(label);\n",
              "      const progress = document.createElement('progress');\n",
              "      progress.max = size;\n",
              "      div.appendChild(progress);\n",
              "      document.body.appendChild(div);\n",
              "\n",
              "      const buffers = [];\n",
              "      let downloaded = 0;\n",
              "\n",
              "      const channel = await google.colab.kernel.comms.open(id);\n",
              "      // Send a message to notify the kernel that we're ready.\n",
              "      channel.send({})\n",
              "\n",
              "      for await (const message of channel.messages) {\n",
              "        // Send a message to notify the kernel that we're ready.\n",
              "        channel.send({})\n",
              "        if (message.buffers) {\n",
              "          for (const buffer of message.buffers) {\n",
              "            buffers.push(buffer);\n",
              "            downloaded += buffer.byteLength;\n",
              "            progress.value = downloaded;\n",
              "          }\n",
              "        }\n",
              "      }\n",
              "      const blob = new Blob(buffers, {type: 'application/binary'});\n",
              "      const a = document.createElement('a');\n",
              "      a.href = window.URL.createObjectURL(blob);\n",
              "      a.download = filename;\n",
              "      div.appendChild(a);\n",
              "      a.click();\n",
              "      div.remove();\n",
              "    }\n",
              "  "
            ],
            "text/plain": [
              "<IPython.core.display.Javascript object>"
            ]
          },
          "metadata": {}
        },
        {
          "output_type": "display_data",
          "data": {
            "application/javascript": [
              "download(\"download_d526d40b-f059-41fc-b7fd-0c79a2aa54c2\", \"chi_square.csv\", 87989)"
            ],
            "text/plain": [
              "<IPython.core.display.Javascript object>"
            ]
          },
          "metadata": {}
        }
      ]
    },
    {
      "cell_type": "markdown",
      "metadata": {
        "id": "fbJNZCXTnsQ2"
      },
      "source": [
        "## 2.3.2.5.7.3 Penggunaan WOE dan IV dalam Scorecard\n"
      ]
    },
    {
      "cell_type": "code",
      "metadata": {
        "id": "6YN3IBO10GRR",
        "outputId": "86db49de-a94c-46d7-ccfb-5bac779f6c85",
        "colab": {
          "base_uri": "https://localhost:8080/"
        }
      },
      "source": [
        "# Reference https://stackoverflow.com/questions/60892714/how-to-get-the-weight-of-evidence-woe-and-information-value-iv-in-python-pan\n",
        "\n",
        "df_woe_iv = (pd.crosstab(df_clean['SLIK_Kolektibilitas'],df_clean['default'],normalize='columns')\n",
        "             .assign(woe=lambda dfx: np.log(dfx[1] / dfx[0]))\n",
        "             .assign(iv=lambda dfx: np.sum(dfx['woe']*\n",
        "                                           (dfx[1]-dfx[0]))))\n",
        "\n",
        "print(df_woe_iv)"
      ],
      "execution_count": 125,
      "outputs": [
        {
          "output_type": "stream",
          "name": "stdout",
          "text": [
            "default                     0         1       woe        iv\n",
            "SLIK_Kolektibilitas                                        \n",
            "Kolek 1              0.341791  0.147482 -0.840493  0.324213\n",
            "Kolek 2              0.086567  0.093525  0.077310  0.324213\n",
            "Kolek 3              0.497015  0.539568  0.082149  0.324213\n",
            "Kolek 4              0.008955  0.028777  1.167339  0.324213\n",
            "Kolek 5              0.031343  0.097122  1.130971  0.324213\n",
            "Tidak_Ditemukan      0.034328  0.093525  1.002259  0.324213\n"
          ]
        }
      ]
    },
    {
      "cell_type": "code",
      "metadata": {
        "id": "k7PpZqehERWC",
        "outputId": "5a8e2562-cb2a-4970-a867-0436d25fc04c",
        "colab": {
          "base_uri": "https://localhost:8080/"
        }
      },
      "source": [
        "# Variabel SLIK_Kolektibilitas\n",
        "\n",
        "conditions = [\n",
        "             ( df_clean['SLIK_Kolektibilitas'] == 'Kolek 1' ),\n",
        "             ( df_clean['SLIK_Kolektibilitas'] == 'Kolek 2' ) | ( df_clean['SLIK_Kolektibilitas'] == 'Kolek 3' ),\n",
        "             ( df_clean['SLIK_Kolektibilitas'] == 'Kolek 4' ) | ( df_clean['SLIK_Kolektibilitas'] == 'Kolek 5' ),\n",
        "             ( df_clean['SLIK_Kolektibilitas'] == 'Tidak_Ditemukan' )\n",
        "             ]\n",
        "\n",
        "choices = [\n",
        "          'Kolek 1',\n",
        "          'Kolek 2&3',\n",
        "          'Kolek 4&5',\n",
        "          'Kolek Tidak_Ditemukan'\n",
        "          ]\n",
        "\n",
        "df_clean['SLIK_Kolektibilitas_Bin'] = np.select(conditions, choices)\n",
        "\n",
        "# Untuk melihat proporsi (dalam persentase) dari variabel Usia\n",
        "print(df_clean['SLIK_Kolektibilitas_Bin'].value_counts(normalize=True) * 100)\n",
        "\n",
        "df_woe_iv = (pd.crosstab(df_clean['SLIK_Kolektibilitas_Bin'],df_clean['default'],normalize='columns')\n",
        "             .assign(woe=lambda dfx: np.log(dfx[1] / dfx[0]))\n",
        "             .assign(iv=lambda dfx: np.sum(dfx['woe']*\n",
        "                                           (dfx[1]-dfx[0]))))\n",
        "\n",
        "print(df_woe_iv)\n",
        "\n",
        "conditions = [\n",
        "             ( df_clean['SLIK_Kolektibilitas'] == 'Kolek 1' ),\n",
        "             ( df_clean['SLIK_Kolektibilitas'] == 'Kolek 2' ) | ( df_clean['SLIK_Kolektibilitas'] == 'Kolek 3' ),\n",
        "             ( df_clean['SLIK_Kolektibilitas'] == 'Kolek 4' ) | ( df_clean['SLIK_Kolektibilitas'] == 'Kolek 5' ),\n",
        "             ( df_clean['SLIK_Kolektibilitas'] == 'Tidak_Ditemukan' )\n",
        "             ]\n",
        "\n",
        "choices = [\n",
        "          -0.8405,\n",
        "          0.0814,\n",
        "          1.1392,\n",
        "          1.0023\n",
        "          ]\n",
        "\n",
        "df_clean['SLIK_Kolektibilitas_WOE'] = np.select(conditions, choices)"
      ],
      "execution_count": 126,
      "outputs": [
        {
          "output_type": "stream",
          "name": "stdout",
          "text": [
            "Kolek 2&3                59.810127\n",
            "Kolek 1                  28.481013\n",
            "Kolek 4&5                 6.540084\n",
            "Kolek Tidak_Ditemukan     5.168776\n",
            "Name: SLIK_Kolektibilitas_Bin, dtype: float64\n",
            "default                         0         1       woe        iv\n",
            "SLIK_Kolektibilitas_Bin                                        \n",
            "Kolek 1                  0.341791  0.147482 -0.840493  0.324191\n",
            "Kolek 2&3                0.583582  0.633094  0.081433  0.324191\n",
            "Kolek 4&5                0.040299  0.125899  1.139168  0.324191\n",
            "Kolek Tidak_Ditemukan    0.034328  0.093525  1.002259  0.324191\n"
          ]
        }
      ]
    },
    {
      "cell_type": "code",
      "metadata": {
        "id": "NuuEAUKA2cOJ",
        "outputId": "799ee50b-d438-463f-d768-d758862c5fe6",
        "colab": {
          "base_uri": "https://localhost:8080/"
        }
      },
      "source": [
        "# Variabel Usia dengan WOE dan IV yang belum dioptimumkan\n",
        "\n",
        "conditions = [\n",
        "             ( df_clean['Usia'] <= 23 ),\n",
        "             ( df_clean['Usia'] >= 24 ) & ( df_clean['Usia'] <= 26),\n",
        "             ( df_clean['Usia'] >= 27 ) & ( df_clean['Usia'] <= 28 ),\n",
        "             ( df_clean['Usia'] >= 29 ) & ( df_clean['Usia'] <= 31 ),\n",
        "             ( df_clean['Usia'] >= 32 ) & ( df_clean['Usia'] <= 34 ),\n",
        "             ( df_clean['Usia'] >= 35 ) & ( df_clean['Usia'] <= 37 ),\n",
        "             ( df_clean['Usia'] >= 38 ) & ( df_clean['Usia'] <= 42 ),\n",
        "             ( df_clean['Usia'] >= 43 ) & ( df_clean['Usia'] <= 48 ),\n",
        "             ( df_clean['Usia'] >= 49 ) & ( df_clean['Usia'] <= 55 ),\n",
        "             ( df_clean['Usia'] >= 56 )\n",
        "             ]\n",
        "\n",
        "choices = [\n",
        "          '01.<=23',\n",
        "          '02.24-26',\n",
        "          '03.27-28',\n",
        "          '04.29-31',\n",
        "          '05.32-34',\n",
        "          '06.35-37',\n",
        "          '07.38-42',\n",
        "          '08.43-48',\n",
        "          '09.49-55',\n",
        "          '10.>=56'\n",
        "          ]\n",
        "df_clean['Usia_Bin'] = np.select(conditions, choices)\n",
        "\n",
        "# Untuk melihat proporsi (dalam persentase) dari variabel Usia\n",
        "print(df_clean['Usia_Bin'].value_counts(normalize=True) * 100)\n",
        "\n",
        "print(pd.crosstab(df_clean['Usia_Bin'], df_clean['default']))\n",
        "\n",
        "df_woe_iv = (pd.crosstab(df_clean['Usia_Bin'],df_clean['default'],normalize='columns')\n",
        "             .assign(woe=lambda dfx: np.log(dfx[1] / dfx[0]))\n",
        "             .assign(iv=lambda dfx: np.sum(dfx['woe']*\n",
        "                                           (dfx[1]-dfx[0]))))\n",
        "\n",
        "print(df_woe_iv)"
      ],
      "execution_count": 127,
      "outputs": [
        {
          "output_type": "stream",
          "name": "stdout",
          "text": [
            "02.24-26    13.924051\n",
            "07.38-42    11.392405\n",
            "04.29-31    11.181435\n",
            "06.35-37    10.654008\n",
            "01.<=23     10.548523\n",
            "08.43-48     9.704641\n",
            "05.32-34     9.704641\n",
            "03.27-28     9.071730\n",
            "10.>=56      6.962025\n",
            "09.49-55     6.856540\n",
            "Name: Usia_Bin, dtype: float64\n",
            "default    0   1\n",
            "Usia_Bin        \n",
            "01.<=23   60  40\n",
            "02.24-26  82  50\n",
            "03.27-28  62  24\n",
            "04.29-31  75  31\n",
            "05.32-34  63  29\n",
            "06.35-37  83  18\n",
            "07.38-42  80  28\n",
            "08.43-48  68  24\n",
            "09.49-55  50  15\n",
            "10.>=56   47  19\n",
            "default          0         1       woe        iv\n",
            "Usia_Bin                                        \n",
            "01.<=23   0.089552  0.143885  0.474191  0.100136\n",
            "02.24-26  0.122388  0.179856  0.384960  0.100136\n",
            "03.27-28  0.092537  0.086331 -0.069424  0.100136\n",
            "04.29-31  0.111940  0.111511 -0.003844  0.100136\n",
            "05.32-34  0.094030  0.104317  0.103818  0.100136\n",
            "06.35-37  0.123881  0.064748 -0.648812  0.100136\n",
            "07.38-42  0.119403  0.100719 -0.170166  0.100136\n",
            "08.43-48  0.101493  0.086331 -0.161797  0.100136\n",
            "09.49-55  0.074627  0.053957 -0.324316  0.100136\n",
            "10.>=56   0.070149  0.068345 -0.026052  0.100136\n"
          ]
        }
      ]
    },
    {
      "cell_type": "code",
      "metadata": {
        "id": "BETSmws_CDAx",
        "outputId": "a9248321-af8c-4b2a-8851-ef8612de2737",
        "colab": {
          "base_uri": "https://localhost:8080/"
        }
      },
      "source": [
        "# Variabel Usia dengan WOE dan IV yang dioptimumkan\n",
        "\n",
        "conditions = [\n",
        "             ( df_clean['Usia'] <= 23 ),\n",
        "             ( df_clean['Usia'] >= 24 ) & ( df_clean['Usia'] <= 34),\n",
        "             ( df_clean['Usia'] >= 35 ) & ( df_clean['Usia'] <= 55 ),\n",
        "             ( df_clean['Usia'] >= 56 )\n",
        "             ]\n",
        "\n",
        "choices = [\n",
        "          '1.<=23',\n",
        "          '2.24-34',\n",
        "          '3.35-55',\n",
        "          '4.>=56'\n",
        "          ]\n",
        "df_clean['Usia_Bin'] = np.select(conditions, choices)\n",
        "\n",
        "# Untuk melihat proporsi (dalam persentase) dari variabel Usia\n",
        "print(df_clean['Usia_Bin'].value_counts(normalize=True) * 100)\n",
        "\n",
        "print(pd.crosstab(df_clean['Usia_Bin'], df_clean['default']))\n",
        "\n",
        "df_woe_iv = (pd.crosstab(df_clean['Usia_Bin'],df_clean['default'],normalize='columns')\n",
        "             .assign(woe=lambda dfx: np.log(dfx[1] / dfx[0]))\n",
        "             .assign(iv=lambda dfx: np.sum(dfx['woe']*\n",
        "                                           (dfx[1]-dfx[0]))))\n",
        "\n",
        "print(df_woe_iv)\n",
        "\n",
        "conditions = [\n",
        "             ( df_clean['Usia'] <= 23 ),\n",
        "             ( df_clean['Usia'] >= 24 ) & ( df_clean['Usia'] <= 34),\n",
        "             ( df_clean['Usia'] >= 35 ) & ( df_clean['Usia'] <= 55 ),\n",
        "             ( df_clean['Usia'] >= 56 )\n",
        "             ]\n",
        "\n",
        "choices = [\n",
        "          0.474191,\n",
        "          0.135589,\n",
        "          -0.316047,\n",
        "          -0.026052\n",
        "          ]\n",
        "df_clean['Usia_WOE'] = np.select(conditions, choices)"
      ],
      "execution_count": 128,
      "outputs": [
        {
          "output_type": "stream",
          "name": "stdout",
          "text": [
            "2.24-34    43.881857\n",
            "3.35-55    38.607595\n",
            "1.<=23     10.548523\n",
            "4.>=56      6.962025\n",
            "Name: Usia_Bin, dtype: float64\n",
            "default     0    1\n",
            "Usia_Bin          \n",
            "1.<=23     60   40\n",
            "2.24-34   282  134\n",
            "3.35-55   281   85\n",
            "4.>=56     47   19\n",
            "default          0         1       woe        iv\n",
            "Usia_Bin                                        \n",
            "1.<=23    0.089552  0.143885  0.474191  0.070016\n",
            "2.24-34   0.420896  0.482014  0.135589  0.070016\n",
            "3.35-55   0.419403  0.305755 -0.316047  0.070016\n",
            "4.>=56    0.070149  0.068345 -0.026052  0.070016\n"
          ]
        }
      ]
    },
    {
      "cell_type": "markdown",
      "metadata": {
        "id": "LR1tqMXv4O5-"
      },
      "source": [
        "# Pembuatan WOE untuk variabel lainnya"
      ]
    },
    {
      "cell_type": "code",
      "metadata": {
        "id": "S1RnjSNufIqe",
        "outputId": "d04f45a7-c67c-4572-ee55-3246756baa31",
        "colab": {
          "base_uri": "https://localhost:8080/"
        }
      },
      "source": [
        "# Variabel Tujuan_Pinjaman\n",
        "\n",
        "# Untuk melihat proporsi (dalam persentase) dari variabel Tujuan_Pinjaman\n",
        "print(df_clean['Tujuan_Pinjaman'].value_counts(normalize=True) * 100)\n",
        "\n",
        "df_woe_iv = (pd.crosstab(df_clean['Tujuan_Pinjaman'],df_clean['default'],normalize='columns')\n",
        "             .assign(woe=lambda dfx: np.log(dfx[1] / dfx[0]))\n",
        "             .assign(iv=lambda dfx: np.sum(dfx['woe']*\n",
        "                                           (dfx[1]-dfx[0]))))\n",
        "\n",
        "print(df_woe_iv)\n",
        "\n",
        "conditions = [\n",
        "             ( (df_clean['Tujuan_Pinjaman'] == 'pendidikan') ), \n",
        "             ( df_clean['Tujuan_Pinjaman'] == 'buka_bisnis' ),\n",
        "             ( (df_clean['Tujuan_Pinjaman'] == 'liburan') ),\n",
        "             ( (df_clean['Tujuan_Pinjaman'] == 'elektronik')   ), \n",
        "             ( df_clean['Tujuan_Pinjaman'] == 'peralatan_rumahtangga' ),\n",
        "             ( df_clean['Tujuan_Pinjaman'] == 'makanan' )\n",
        "             ]\n",
        "\n",
        "choices = [\n",
        "          '1.pendidikan',\n",
        "          '2.buka_bisnis',\n",
        "          '3.liburan',\n",
        "          '4.elektronik',\n",
        "          '5.peralatan_rumahtangga',\n",
        "          '6.makanan'\n",
        "          ]\n",
        "df_clean['Tujuan_Pinjaman_Bin'] = np.select(conditions, choices)\n",
        "\n",
        "print(pd.crosstab(df_clean['Tujuan_Pinjaman_Bin'], df_clean['default']))\n",
        "\n",
        "df_woe_iv = (pd.crosstab(df_clean['Tujuan_Pinjaman_Bin'],df_clean['default'],normalize='columns')\n",
        "             .assign(woe=lambda dfx: np.log(dfx[1] / dfx[0]))\n",
        "             .assign(iv=lambda dfx: np.sum(dfx['woe']*\n",
        "                                           (dfx[1]-dfx[0]))))\n",
        "print(df_woe_iv)\n",
        "\n",
        "conditions = [\n",
        "             ( (df_clean['Tujuan_Pinjaman'] == 'pendidikan') ), \n",
        "             ( df_clean['Tujuan_Pinjaman'] == 'buka_bisnis' ),\n",
        "             ( (df_clean['Tujuan_Pinjaman'] == 'liburan') ),\n",
        "             ( (df_clean['Tujuan_Pinjaman'] == 'elektronik')   ), \n",
        "             ( df_clean['Tujuan_Pinjaman'] == 'peralatan_rumahtangga' ),\n",
        "             ( df_clean['Tujuan_Pinjaman'] == 'makanan' )\n",
        "             ]\n",
        "\n",
        "choices = [\n",
        "          -0.8,\n",
        "          -0.5,\n",
        "          -0.3,\n",
        "          0.4,\n",
        "          0.5,\n",
        "          0.8\n",
        "          ]\n",
        "df_clean['Tujuan_Pinjaman_WOE'] = np.select(conditions, choices)\n"
      ],
      "execution_count": 129,
      "outputs": [
        {
          "output_type": "stream",
          "name": "stdout",
          "text": [
            "elektronik               43.037975\n",
            "buka_bisnis              18.670886\n",
            "makanan                  10.970464\n",
            "peralatan_rumahtangga    10.864979\n",
            "liburan                   8.649789\n",
            "pendidikan                7.805907\n",
            "Name: Tujuan_Pinjaman, dtype: float64\n",
            "default                       0         1       woe        iv\n",
            "Tujuan_Pinjaman                                              \n",
            "buka_bisnis            0.200000  0.154676 -0.256983  0.068185\n",
            "elektronik             0.425373  0.442446  0.039352  0.068185\n",
            "liburan                0.089552  0.079137 -0.123646  0.068185\n",
            "makanan                0.092537  0.151079  0.490192  0.068185\n",
            "pendidikan             0.089552  0.050360 -0.575631  0.068185\n",
            "peralatan_rumahtangga  0.102985  0.122302  0.171911  0.068185\n",
            "default                    0    1\n",
            "Tujuan_Pinjaman_Bin              \n",
            "1.pendidikan              60   14\n",
            "2.buka_bisnis            134   43\n",
            "3.liburan                 60   22\n",
            "4.elektronik             285  123\n",
            "5.peralatan_rumahtangga   69   34\n",
            "6.makanan                 62   42\n",
            "default                         0         1       woe        iv\n",
            "Tujuan_Pinjaman_Bin                                            \n",
            "1.pendidikan             0.089552  0.050360 -0.575631  0.068185\n",
            "2.buka_bisnis            0.200000  0.154676 -0.256983  0.068185\n",
            "3.liburan                0.089552  0.079137 -0.123646  0.068185\n",
            "4.elektronik             0.425373  0.442446  0.039352  0.068185\n",
            "5.peralatan_rumahtangga  0.102985  0.122302  0.171911  0.068185\n",
            "6.makanan                0.092537  0.151079  0.490192  0.068185\n"
          ]
        }
      ]
    },
    {
      "cell_type": "code",
      "metadata": {
        "id": "z0ckyODs6nXq",
        "outputId": "c737866c-0c7b-4a8c-c1ec-ff62d493504a",
        "colab": {
          "base_uri": "https://localhost:8080/"
        }
      },
      "source": [
        "# Variabel API_CreditScore_Vendor_A\n",
        "\n",
        "conditions = [\n",
        "             ( df_clean['API_CreditScore_Vendor_A'] <= 250 ), \n",
        "             ( df_clean['API_CreditScore_Vendor_A'] <= 750 ),\n",
        "             ( df_clean['API_CreditScore_Vendor_A'] > 750 )\n",
        "             ]\n",
        "\n",
        "choices = [\n",
        "          '01.0-250',\n",
        "          '02.250-750',\n",
        "          '03.>750'\n",
        "          ]\n",
        "df_clean['API_CreditScore_Vendor_A_Bin'] = np.select(conditions, choices)\n",
        "\n",
        "print(pd.crosstab(df_clean['API_CreditScore_Vendor_A_Bin'], df_clean['default']))\n",
        "\n",
        "# Untuk melihat proporsi (dalam persentase) dari variabel API_CreditScore_Vendor_A_Bin\n",
        "print(df_clean['API_CreditScore_Vendor_A_Bin'].value_counts(normalize=True) * 100)\n",
        "\n",
        "df_woe_iv = (pd.crosstab(df_clean['API_CreditScore_Vendor_A_Bin'],df_clean['default'],normalize='columns')\n",
        "             .assign(woe=lambda dfx: np.log(dfx[1] / dfx[0]))\n",
        "             .assign(iv=lambda dfx: np.sum(dfx['woe']*\n",
        "                                           (dfx[1]-dfx[0]))))\n",
        "print(df_woe_iv)\n",
        "\n",
        "conditions = [\n",
        "             ( df_clean['API_CreditScore_Vendor_A'] <= 250 ), \n",
        "             ( df_clean['API_CreditScore_Vendor_A'] <= 750 ),\n",
        "             ( df_clean['API_CreditScore_Vendor_A'] > 750 )\n",
        "             ]\n",
        "\n",
        "choices = [\n",
        "          0.137238,\n",
        "          -0.026325,\n",
        "          -0.315583\n",
        "          ]\n",
        "df_clean['API_CreditScore_Vendor_A_WOE'] = np.select(conditions, choices)"
      ],
      "execution_count": 130,
      "outputs": [
        {
          "output_type": "stream",
          "name": "stdout",
          "text": [
            "default                         0    1\n",
            "API_CreditScore_Vendor_A_Bin          \n",
            "01.0-250                      208   99\n",
            "02.250-750                    386  156\n",
            "03.>750                        76   23\n",
            "02.250-750    57.172996\n",
            "01.0-250      32.383966\n",
            "03.>750       10.443038\n",
            "Name: API_CreditScore_Vendor_A_Bin, dtype: float64\n",
            "default                              0         1       woe        iv\n",
            "API_CreditScore_Vendor_A_Bin                                        \n",
            "01.0-250                      0.310448  0.356115  0.137238  0.016349\n",
            "02.250-750                    0.576119  0.561151 -0.026325  0.016349\n",
            "03.>750                       0.113433  0.082734 -0.315583  0.016349\n"
          ]
        }
      ]
    },
    {
      "cell_type": "code",
      "metadata": {
        "id": "Wyxe7td1mvkC",
        "outputId": "4e40821f-b9fd-4666-fbd3-09045d17c8ec",
        "colab": {
          "base_uri": "https://localhost:8080/"
        }
      },
      "source": [
        "# Variabel Lama_Cicilan\n",
        "\n",
        "# Untuk melihat proporsi (dalam persentase) dari variabel Lama_Cicilan\n",
        "print(df_clean['Lama_Cicilan'].value_counts(normalize=True) * 100)\n",
        "\n",
        "df_woe_iv = (pd.crosstab(df_clean['Lama_Cicilan'],df_clean['default'],normalize='columns')\n",
        "             .assign(woe=lambda dfx: np.log(dfx[1] / dfx[0]))\n",
        "             .assign(iv=lambda dfx: np.sum(dfx['woe']*\n",
        "                                           (dfx[1]-dfx[0]))))\n",
        "\n",
        "print(df_woe_iv)\n",
        "\n",
        "conditions = [\n",
        "             ( df_clean['Lama_Cicilan'] == 1 ), \n",
        "             ( df_clean['Lama_Cicilan'] == 2 ), \n",
        "             ( df_clean['Lama_Cicilan'] == 3 ), \n",
        "             ( df_clean['Lama_Cicilan'] == 4 ), \n",
        "             ( df_clean['Lama_Cicilan'] == 5 ), \n",
        "             ( df_clean['Lama_Cicilan'] == 6 )\n",
        "             ]\n",
        "\n",
        "choices = [\n",
        "          '1_bulan',\n",
        "          '2_bulan',\n",
        "          '3_bulan',\n",
        "          '4_bulan',\n",
        "          '5_bulan',\n",
        "          '6_bulan'\n",
        "          ]\n",
        "df_clean['Lama_Cicilan_Bin'] = np.select(conditions, choices)\n",
        "\n",
        "print(pd.crosstab(df_clean['Lama_Cicilan_Bin'], df_clean['default']))\n",
        "\n",
        "df_woe_iv = (pd.crosstab(df_clean['Lama_Cicilan_Bin'],df_clean['default'],normalize='columns')\n",
        "             .assign(woe=lambda dfx: np.log(dfx[1] / dfx[0]))\n",
        "             .assign(iv=lambda dfx: np.sum(dfx['woe']*\n",
        "                                           (dfx[1]-dfx[0]))))\n",
        "print(df_woe_iv)\n",
        "\n",
        "conditions = [\n",
        "             ( df_clean['Lama_Cicilan'] == 1 ), \n",
        "             ( df_clean['Lama_Cicilan'] == 2 ), \n",
        "             ( df_clean['Lama_Cicilan'] == 3 ), \n",
        "             ( df_clean['Lama_Cicilan'] == 4 ), \n",
        "             ( df_clean['Lama_Cicilan'] == 5 ), \n",
        "             ( df_clean['Lama_Cicilan'] == 6 )\n",
        "             ]\n",
        "\n",
        "choices = [\n",
        "          0.261630,\n",
        "          -0.610435,\n",
        "          -0.094903,\n",
        "          -0.564457,\n",
        "          -0.357106,\n",
        "          0.348352\n",
        "          ]\n",
        "df_clean['Lama_Cicilan_WOE'] = np.select(conditions, choices)"
      ],
      "execution_count": 131,
      "outputs": [
        {
          "output_type": "stream",
          "name": "stdout",
          "text": [
            "6.0    24.789030\n",
            "3.0    23.101266\n",
            "1.0    22.890295\n",
            "4.0    11.603376\n",
            "2.0     9.177215\n",
            "5.0     8.438819\n",
            "Name: Lama_Cicilan, dtype: float64\n",
            "default              0         1       woe        iv\n",
            "Lama_Cicilan                                        \n",
            "1.0           0.210448  0.273381  0.261630  0.122392\n",
            "2.0           0.105970  0.057554 -0.610435  0.122392\n",
            "3.0           0.237313  0.215827 -0.094903  0.122392\n",
            "4.0           0.132836  0.075540 -0.564457  0.122392\n",
            "5.0           0.092537  0.064748 -0.357106  0.122392\n",
            "6.0           0.220896  0.312950  0.348352  0.122392\n",
            "default             0   1\n",
            "Lama_Cicilan_Bin         \n",
            "1_bulan           141  76\n",
            "2_bulan            71  16\n",
            "3_bulan           159  60\n",
            "4_bulan            89  21\n",
            "5_bulan            62  18\n",
            "6_bulan           148  87\n",
            "default                  0         1       woe        iv\n",
            "Lama_Cicilan_Bin                                        \n",
            "1_bulan           0.210448  0.273381  0.261630  0.122392\n",
            "2_bulan           0.105970  0.057554 -0.610435  0.122392\n",
            "3_bulan           0.237313  0.215827 -0.094903  0.122392\n",
            "4_bulan           0.132836  0.075540 -0.564457  0.122392\n",
            "5_bulan           0.092537  0.064748 -0.357106  0.122392\n",
            "6_bulan           0.220896  0.312950  0.348352  0.122392\n"
          ]
        }
      ]
    },
    {
      "cell_type": "code",
      "metadata": {
        "id": "lxWSC99NrNRO",
        "outputId": "c5cc215f-8ea2-4f1e-c6ce-75bfc49c1ff0",
        "colab": {
          "base_uri": "https://localhost:8080/"
        }
      },
      "source": [
        "# Variabel Device_Apps_Segmentation\n",
        "\n",
        "# Untuk melihat proporsi (dalam persentase) dari variabel Device_Apps_Segmentation\n",
        "print(df_clean['Device_Apps_Segmentation'].value_counts(normalize=True) * 100)\n",
        "\n",
        "df_woe_iv = (pd.crosstab(df_clean['Device_Apps_Segmentation'],df_clean['default'],normalize='columns')\n",
        "             .assign(woe=lambda dfx: np.log(dfx[1] / dfx[0]))\n",
        "             .assign(iv=lambda dfx: np.sum(dfx['woe']*\n",
        "                                           (dfx[1]-dfx[0]))))\n",
        "\n",
        "print(df_woe_iv)\n",
        "\n",
        "conditions = [\n",
        "             ( df_clean['Device_Apps_Segmentation'] == 'Productivity' ), \n",
        "             ( df_clean['Device_Apps_Segmentation'] == 'Social_Media' ), \n",
        "             ( df_clean['Device_Apps_Segmentation'] == 'Shopping' ), \n",
        "             ( df_clean['Device_Apps_Segmentation'] == 'Games' ), \n",
        "             ( df_clean['Device_Apps_Segmentation'] == 'Online_Lending' )\n",
        "             ]\n",
        "\n",
        "choices = [\n",
        "          'Productivity',\n",
        "          'Social_Media',\n",
        "          'Shopping',\n",
        "          'Games',\n",
        "          'Online_Lending'\n",
        "          ]\n",
        "df_clean['Device_Apps_Segmentation_Bin'] = np.select(conditions, choices)\n",
        "\n",
        "print(pd.crosstab(df_clean['Device_Apps_Segmentation_Bin'], df_clean['default']))\n",
        "\n",
        "df_woe_iv = (pd.crosstab(df_clean['Device_Apps_Segmentation_Bin'],df_clean['default'],normalize='columns')\n",
        "             .assign(woe=lambda dfx: np.log(dfx[1] / dfx[0]))\n",
        "             .assign(iv=lambda dfx: np.sum(dfx['woe']*\n",
        "                                           (dfx[1]-dfx[0]))))\n",
        "print(df_woe_iv)\n",
        "\n",
        "conditions = [\n",
        "             ( df_clean['Device_Apps_Segmentation'] == 'Productivity' ), \n",
        "             ( df_clean['Device_Apps_Segmentation'] == 'Social_Media' ), \n",
        "             ( df_clean['Device_Apps_Segmentation'] == 'Shopping' ), \n",
        "             ( df_clean['Device_Apps_Segmentation'] == 'Games' ), \n",
        "             ( df_clean['Device_Apps_Segmentation'] == 'Online_Lending' )\n",
        "             ]\n",
        "\n",
        "choices = [\n",
        "          -0.384035,\n",
        "          -0.044447,\n",
        "          -0.280831,\n",
        "          0.141253,\n",
        "          0.711034\n",
        "          ]\n",
        "df_clean['Device_Apps_Segmentation_WOE'] = np.select(conditions, choices)"
      ],
      "execution_count": 132,
      "outputs": [
        {
          "output_type": "stream",
          "name": "stdout",
          "text": [
            "Social_Media      37.869198\n",
            "Shopping          20.780591\n",
            "Games             17.616034\n",
            "Productivity      12.447257\n",
            "Online_Lending    11.286920\n",
            "Name: Device_Apps_Segmentation, dtype: float64\n",
            "default                          0         1       woe       iv\n",
            "Device_Apps_Segmentation                                       \n",
            "Games                     0.168657  0.194245  0.141253  0.10034\n",
            "Online_Lending            0.086567  0.176259  0.711034  0.10034\n",
            "Productivity              0.137313  0.093525 -0.384035  0.10034\n",
            "Shopping                  0.223881  0.169065 -0.280831  0.10034\n",
            "Social_Media              0.383582  0.366906 -0.044447  0.10034\n",
            "default                         0    1\n",
            "Device_Apps_Segmentation_Bin          \n",
            "Games                         113   54\n",
            "Online_Lending                 58   49\n",
            "Productivity                   92   26\n",
            "Shopping                      150   47\n",
            "Social_Media                  257  102\n",
            "default                              0         1       woe       iv\n",
            "Device_Apps_Segmentation_Bin                                       \n",
            "Games                         0.168657  0.194245  0.141253  0.10034\n",
            "Online_Lending                0.086567  0.176259  0.711034  0.10034\n",
            "Productivity                  0.137313  0.093525 -0.384035  0.10034\n",
            "Shopping                      0.223881  0.169065 -0.280831  0.10034\n",
            "Social_Media                  0.383582  0.366906 -0.044447  0.10034\n"
          ]
        }
      ]
    },
    {
      "cell_type": "code",
      "metadata": {
        "id": "rP359J4H9kC4",
        "outputId": "65c8c61b-ba89-4d0d-d0a9-72217926de05",
        "colab": {
          "base_uri": "https://localhost:8080/"
        }
      },
      "source": [
        "# Variabel API_CreditScore_Vendor_B\n",
        "\n",
        "conditions = [\n",
        "             ( df_clean['API_CreditScore_Vendor_B'] <= 100 ),\n",
        "             ( df_clean['API_CreditScore_Vendor_B'] <= 175 ),\n",
        "             ( df_clean['API_CreditScore_Vendor_B'] <= 225 ),\n",
        "             ( df_clean['API_CreditScore_Vendor_B'] <= 299 ),\n",
        "             ( df_clean['API_CreditScore_Vendor_B'] > 299 )\n",
        "             ]\n",
        "\n",
        "choices = [\n",
        "          '1.0-100',\n",
        "          '2.101-175',\n",
        "          '3.176-225',\n",
        "          '4.226-299',\n",
        "          '5.>299'\n",
        "          ]\n",
        "df_clean['API_CreditScore_Vendor_B_Bin'] = np.select(conditions, choices)\n",
        "\n",
        "print(pd.crosstab(df_clean['API_CreditScore_Vendor_B_Bin'], df_clean['default']))\n",
        "\n",
        "# Untuk melihat proporsi (dalam persentase) dari variabel API_CreditScore_Vendor_A_Bin\n",
        "print(df_clean['API_CreditScore_Vendor_B_Bin'].value_counts(normalize=True) * 100)\n",
        "\n",
        "df_woe_iv = (pd.crosstab(df_clean['API_CreditScore_Vendor_B_Bin'],df_clean['default'],normalize='columns')\n",
        "             .assign(woe=lambda dfx: np.log(dfx[1] / dfx[0]))\n",
        "             .assign(iv=lambda dfx: np.sum(dfx['woe']*\n",
        "                                           (dfx[1]-dfx[0]))))\n",
        "print(df_woe_iv)\n",
        "\n",
        "conditions = [\n",
        "             ( df_clean['API_CreditScore_Vendor_B'] <= 100 ),\n",
        "             ( df_clean['API_CreditScore_Vendor_B'] <= 175 ),\n",
        "             ( df_clean['API_CreditScore_Vendor_B'] <= 225 ),\n",
        "             ( df_clean['API_CreditScore_Vendor_B'] <= 299 ),\n",
        "             ( df_clean['API_CreditScore_Vendor_B'] > 299 )\n",
        "             ]\n",
        "\n",
        "choices = [\n",
        "          0.290050,\n",
        "          0.218945,\n",
        "          0.148043,\n",
        "          0.123331,\n",
        "          -2.850045\n",
        "          ]\n",
        "df_clean['API_CreditScore_Vendor_B_WOE'] = np.select(conditions, choices)"
      ],
      "execution_count": 133,
      "outputs": [
        {
          "output_type": "stream",
          "name": "stdout",
          "text": [
            "default                         0   1\n",
            "API_CreditScore_Vendor_B_Bin         \n",
            "1.0-100                       110  61\n",
            "2.101-175                     182  94\n",
            "3.176-225                     106  51\n",
            "4.226-299                     147  69\n",
            "5.>299                        125   3\n",
            "2.101-175    29.113924\n",
            "4.226-299    22.784810\n",
            "1.0-100      18.037975\n",
            "3.176-225    16.561181\n",
            "5.>299       13.502110\n",
            "Name: API_CreditScore_Vendor_B_Bin, dtype: float64\n",
            "default                              0         1       woe        iv\n",
            "API_CreditScore_Vendor_B_Bin                                        \n",
            "1.0-100                       0.164179  0.219424  0.290050  0.538839\n",
            "2.101-175                     0.271642  0.338129  0.218945  0.538839\n",
            "3.176-225                     0.158209  0.183453  0.148043  0.538839\n",
            "4.226-299                     0.219403  0.248201  0.123331  0.538839\n",
            "5.>299                        0.186567  0.010791 -2.850045  0.538839\n"
          ]
        }
      ]
    },
    {
      "cell_type": "code",
      "metadata": {
        "id": "z2Zp_hwRf4P5",
        "outputId": "6a753261-b41a-4f9d-cbba-fa0efb317cbf",
        "colab": {
          "base_uri": "https://localhost:8080/"
        }
      },
      "source": [
        "# Variabel Mobile_Provider\n",
        "\n",
        "# Untuk melihat proporsi (dalam persentase) dari variabel Device_Apps_Segmentation\n",
        "print(df_clean['Mobile_Provider'].value_counts(normalize=True) * 100)\n",
        "\n",
        "print(pd.crosstab(df_clean['Mobile_Provider'], df_clean['default']))\n",
        "\n",
        "df_woe_iv = (pd.crosstab(df_clean['Mobile_Provider'],df_clean['default'],normalize='columns')\n",
        "             .assign(woe=lambda dfx: np.log(dfx[1] / dfx[0]))\n",
        "             .assign(iv=lambda dfx: np.sum(dfx['woe']*\n",
        "                                           (dfx[1]-dfx[0]))))\n",
        "\n",
        "print(df_woe_iv)\n",
        "\n",
        "conditions = [\n",
        "             ( df_clean['Mobile_Provider'] == 'Telco_A' ), \n",
        "             ( df_clean['Mobile_Provider'] == 'Telco_B' ), \n",
        "             ( df_clean['Mobile_Provider'] == 'Telco_C' ), \n",
        "             ( df_clean['Mobile_Provider'] == 'Telco_D' ), \n",
        "             ( df_clean['Mobile_Provider'] == 'Telco_E' )\n",
        "             ]\n",
        "\n",
        "choices = [\n",
        "          'Telco_A',\n",
        "          'Telco_B',\n",
        "          'Telco_C',\n",
        "          'Telco_D',\n",
        "          'Telco_E'\n",
        "          ]\n",
        "df_clean['Mobile_Provider_Bin'] = np.select(conditions, choices)\n",
        "\n",
        "\n",
        "conditions = [\n",
        "             ( df_clean['Mobile_Provider'] == 'Telco_A' ), \n",
        "             ( df_clean['Mobile_Provider'] == 'Telco_B' ), \n",
        "             ( df_clean['Mobile_Provider'] == 'Telco_C' ), \n",
        "             ( df_clean['Mobile_Provider'] == 'Telco_D' ), \n",
        "             ( df_clean['Mobile_Provider'] == 'Telco_E' )\n",
        "             ]\n",
        "\n",
        "choices = [\n",
        "          -0.434317,\n",
        "          -0.059624,\n",
        "          -0.171553,\n",
        "          0.389450,\n",
        "          0.995488\n",
        "          ]\n",
        "df_clean['Mobile_Provider_WOE'] = np.select(conditions, choices)"
      ],
      "execution_count": 134,
      "outputs": [
        {
          "output_type": "stream",
          "name": "stdout",
          "text": [
            "Telco_A    42.827004\n",
            "Telco_B    16.139241\n",
            "Telco_C    14.662447\n",
            "Telco_D    13.607595\n",
            "Telco_E    12.763713\n",
            "Name: Mobile_Provider, dtype: float64\n",
            "default            0   1\n",
            "Mobile_Provider         \n",
            "Telco_A          320  86\n",
            "Telco_B          110  43\n",
            "Telco_C          103  36\n",
            "Telco_D           80  49\n",
            "Telco_E           57  64\n",
            "default                 0         1       woe        iv\n",
            "Mobile_Provider                                        \n",
            "Telco_A          0.477612  0.309353 -0.434317  0.244431\n",
            "Telco_B          0.164179  0.154676 -0.059624  0.244431\n",
            "Telco_C          0.153731  0.129496 -0.171553  0.244431\n",
            "Telco_D          0.119403  0.176259  0.389450  0.244431\n",
            "Telco_E          0.085075  0.230216  0.995488  0.244431\n"
          ]
        }
      ]
    },
    {
      "cell_type": "code",
      "metadata": {
        "id": "5nY0_Su0_nBB",
        "outputId": "10598497-2809-49e3-c4e9-f52538a6e0b6",
        "colab": {
          "base_uri": "https://localhost:8080/"
        }
      },
      "source": [
        "# Variabel Device_Apps_Installed\n",
        "\n",
        "conditions = [\n",
        "             ( df_clean['Device_Apps_Installed'] <= 5 ),\n",
        "             ( df_clean['Device_Apps_Installed'] <= 10 ),\n",
        "             ( df_clean['Device_Apps_Installed'] <= 15 ),\n",
        "             ( df_clean['Device_Apps_Installed'] <= 20 ),\n",
        "             ( df_clean['Device_Apps_Installed'] <= 30 ),\n",
        "             ( df_clean['Device_Apps_Installed'] > 30 )\n",
        "             ]\n",
        "\n",
        "choices = [\n",
        "          '1.0-5',\n",
        "          '2.5-10',\n",
        "          '3.10-15',\n",
        "          '4.15-20',\n",
        "          '5.20-30',\n",
        "          '6.>30'\n",
        "          ]\n",
        "df_clean['Device_Apps_Installed_Bin'] = np.select(conditions, choices)\n",
        "\n",
        "print(pd.crosstab(df_clean['Device_Apps_Installed_Bin'], df_clean['default']))\n",
        "\n",
        "# Untuk melihat proporsi (dalam persentase) dari variabel API_CreditScore_Vendor_A_Bin\n",
        "print(df_clean['Device_Apps_Installed_Bin'].value_counts(normalize=True) * 100)\n",
        "\n",
        "df_woe_iv = (pd.crosstab(df_clean['Device_Apps_Installed_Bin'],df_clean['default'],normalize='columns')\n",
        "             .assign(woe=lambda dfx: np.log(dfx[1] / dfx[0]))\n",
        "             .assign(iv=lambda dfx: np.sum(dfx['woe']*\n",
        "                                           (dfx[1]-dfx[0]))))\n",
        "print(df_woe_iv)\n",
        "\n",
        "conditions = [\n",
        "             ( df_clean['Device_Apps_Installed'] <= 5 ),\n",
        "             ( df_clean['Device_Apps_Installed'] <= 10 ),\n",
        "             ( df_clean['Device_Apps_Installed'] <= 15 ),\n",
        "             ( df_clean['Device_Apps_Installed'] <= 20 ),\n",
        "             ( df_clean['Device_Apps_Installed'] <= 30 ),\n",
        "             ( df_clean['Device_Apps_Installed'] > 30 )\n",
        "             ]\n",
        "\n",
        "choices = [\n",
        "          0.583391,\n",
        "          0.234828,\n",
        "          0.195478,\n",
        "          -0.057468,\n",
        "          -0.104180,\n",
        "          -0.781075\n",
        "          ]\n",
        "df_clean['Device_Apps_Installed_WOE'] = np.select(conditions, choices)"
      ],
      "execution_count": 135,
      "outputs": [
        {
          "output_type": "stream",
          "name": "stdout",
          "text": [
            "default                      0   1\n",
            "Device_Apps_Installed_Bin         \n",
            "1.0-5                       39  29\n",
            "2.5-10                     101  53\n",
            "3.10-15                    111  56\n",
            "4.15-20                     97  38\n",
            "5.20-30                    222  83\n",
            "6.>30                      100  19\n",
            "5.20-30    32.172996\n",
            "3.10-15    17.616034\n",
            "2.5-10     16.244726\n",
            "4.15-20    14.240506\n",
            "6.>30      12.552743\n",
            "1.0-5       7.172996\n",
            "Name: Device_Apps_Installed_Bin, dtype: float64\n",
            "default                           0         1       woe        iv\n",
            "Device_Apps_Installed_Bin                                        \n",
            "1.0-5                      0.058209  0.104317  0.583391  0.110336\n",
            "2.5-10                     0.150746  0.190647  0.234828  0.110336\n",
            "3.10-15                    0.165672  0.201439  0.195478  0.110336\n",
            "4.15-20                    0.144776  0.136691 -0.057468  0.110336\n",
            "5.20-30                    0.331343  0.298561 -0.104180  0.110336\n",
            "6.>30                      0.149254  0.068345 -0.781075  0.110336\n"
          ]
        }
      ]
    },
    {
      "cell_type": "code",
      "metadata": {
        "id": "n3pJLqyN_tW-",
        "outputId": "6d4dedfe-9bc6-4deb-ca2f-531474338cbb",
        "colab": {
          "base_uri": "https://localhost:8080/"
        }
      },
      "source": [
        "# Variabel Device_Active_Since\n",
        "\n",
        "# Untuk melihat proporsi (dalam persentase) dari variabel Device_Active_Since\n",
        "print(df_clean['Device_Active_Since'].value_counts(normalize=True) * 100)\n",
        "\n",
        "print(pd.crosstab(df_clean['Device_Active_Since'], df_clean['default']))\n",
        "\n",
        "df_woe_iv = (pd.crosstab(df_clean['Device_Active_Since'],df_clean['default'],normalize='columns')\n",
        "             .assign(woe=lambda dfx: np.log(dfx[1] / dfx[0]))\n",
        "             .assign(iv=lambda dfx: np.sum(dfx['woe']*\n",
        "                                           (dfx[1]-dfx[0]))))\n",
        "\n",
        "print(df_woe_iv)\n",
        "\n",
        "conditions = [\n",
        "             ( df_clean['Device_Active_Since'] == '1_Kurang_1_tahun' ), \n",
        "             ( df_clean['Device_Active_Since'] == '2_1_ke_3_tahun' ), \n",
        "             ( df_clean['Device_Active_Since'] == '3_Lebih_3_tahun' )\n",
        "             ]\n",
        "\n",
        "choices = [\n",
        "          '1_Kurang_1_tahun',\n",
        "          '2_1_ke_3_tahun',\n",
        "          '3_Lebih_3_tahun'\n",
        "          ]\n",
        "df_clean['Device_Active_Since_Bin'] = np.select(conditions, choices)\n",
        "\n",
        "\n",
        "conditions = [\n",
        "             ( df_clean['Device_Active_Since'] == '1_Kurang_1_tahun' ), \n",
        "             ( df_clean['Device_Active_Since'] == '2_1_ke_3_tahun' ), \n",
        "             ( df_clean['Device_Active_Since'] == '3_Lebih_3_tahun' )\n",
        "             ]\n",
        "\n",
        "choices = [\n",
        "          -0.041500,\n",
        "          -0.124465,\n",
        "          0.169268\n",
        "          ]\n",
        "df_clean['Device_Active_Since_WOE'] = np.select(conditions, choices)\n"
      ],
      "execution_count": 136,
      "outputs": [
        {
          "output_type": "stream",
          "name": "stdout",
          "text": [
            "2_1_ke_3_tahun      47.995781\n",
            "3_Lebih_3_tahun     36.814346\n",
            "1_Kurang_1_tahun    15.189873\n",
            "Name: Device_Active_Since, dtype: float64\n",
            "default                0    1\n",
            "Device_Active_Since          \n",
            "1_Kurang_1_tahun     103   41\n",
            "2_1_ke_3_tahun       333  122\n",
            "3_Lebih_3_tahun      234  115\n",
            "default                     0         1       woe        iv\n",
            "Device_Active_Since                                        \n",
            "1_Kurang_1_tahun     0.153731  0.147482 -0.041500  0.018402\n",
            "2_1_ke_3_tahun       0.497015  0.438849 -0.124465  0.018402\n",
            "3_Lebih_3_tahun      0.349254  0.413669  0.169268  0.018402\n"
          ]
        }
      ]
    },
    {
      "cell_type": "code",
      "metadata": {
        "id": "94nCahAKCrIH",
        "outputId": "30d23119-ba61-491c-d090-88c8095cb0a9",
        "colab": {
          "base_uri": "https://localhost:8080/"
        }
      },
      "source": [
        "# Variabel Mobile_Number_Active_Since\n",
        "\n",
        "# Untuk melihat proporsi (dalam persentase) dari variabel Device_Active_Since\n",
        "print(df_clean['Mobile_Number_Active_Since'].value_counts(normalize=True) * 100)\n",
        "\n",
        "print(pd.crosstab(df_clean['Mobile_Number_Active_Since'], df_clean['default']))\n",
        "\n",
        "df_woe_iv = (pd.crosstab(df_clean['Mobile_Number_Active_Since'],df_clean['default'],normalize='columns')\n",
        "             .assign(woe=lambda dfx: np.log(dfx[1] / dfx[0]))\n",
        "             .assign(iv=lambda dfx: np.sum(dfx['woe']*\n",
        "                                           (dfx[1]-dfx[0]))))\n",
        "\n",
        "print(df_woe_iv)\n",
        "\n",
        "conditions = [\n",
        "             ( df_clean['Mobile_Number_Active_Since'] == '1_Kurang_1_bulan' ), \n",
        "             ( df_clean['Mobile_Number_Active_Since'] == '2_Kurang_1_tahun' ), \n",
        "             ( df_clean['Mobile_Number_Active_Since'] == '3_1_ke_2_tahun' ),\n",
        "             ( df_clean['Mobile_Number_Active_Since'] == '4_2_ke_5_tahun' ),\n",
        "             ( df_clean['Mobile_Number_Active_Since'] == '5_Lebih_5_tahun' )\n",
        "             ]\n",
        "\n",
        "choices = [\n",
        "          '1_Kurang_1_bulan',\n",
        "          '2_Kurang_1_tahun',\n",
        "          '3_1_ke_2_tahun',\n",
        "          '4_2_ke_5_tahun',\n",
        "          '5_Lebih_5_tahun',\n",
        "          ]\n",
        "df_clean['Mobile_Number_Active_Since_Bin'] = np.select(conditions, choices)\n",
        "\n",
        "\n",
        "conditions = [\n",
        "             ( df_clean['Mobile_Number_Active_Since'] == '1_Kurang_1_bulan' ), \n",
        "             ( df_clean['Mobile_Number_Active_Since'] == '2_Kurang_1_tahun' ), \n",
        "             ( df_clean['Mobile_Number_Active_Since'] == '3_1_ke_2_tahun' ),\n",
        "             ( df_clean['Mobile_Number_Active_Since'] == '4_2_ke_5_tahun' ),\n",
        "             ( df_clean['Mobile_Number_Active_Since'] == '5_Lebih_5_tahun' )\n",
        "             ]\n",
        "\n",
        "choices = [\n",
        "          0.407297,\n",
        "          0.238695,\n",
        "          -0.074022,\n",
        "          -0.362057,\n",
        "          -0.624421\n",
        "          ]\n",
        "df_clean['Mobile_Number_Active_Since_WOE'] = np.select(conditions, choices)"
      ],
      "execution_count": 137,
      "outputs": [
        {
          "output_type": "stream",
          "name": "stdout",
          "text": [
            "1_Kurang_1_bulan    29.113924\n",
            "5_Lebih_5_tahun     18.565401\n",
            "4_2_ke_5_tahun      18.354430\n",
            "2_Kurang_1_tahun    18.037975\n",
            "3_1_ke_2_tahun      15.928270\n",
            "Name: Mobile_Number_Active_Since, dtype: float64\n",
            "default                       0    1\n",
            "Mobile_Number_Active_Since          \n",
            "1_Kurang_1_bulan            170  106\n",
            "2_Kurang_1_tahun            112   59\n",
            "3_1_ke_2_tahun              109   42\n",
            "4_2_ke_5_tahun              135   39\n",
            "5_Lebih_5_tahun             144   32\n",
            "default                            0         1       woe       iv\n",
            "Mobile_Number_Active_Since                                       \n",
            "1_Kurang_1_bulan            0.253731  0.381295  0.407297  0.14806\n",
            "2_Kurang_1_tahun            0.167164  0.212230  0.238695  0.14806\n",
            "3_1_ke_2_tahun              0.162687  0.151079 -0.074022  0.14806\n",
            "4_2_ke_5_tahun              0.201493  0.140288 -0.362057  0.14806\n",
            "5_Lebih_5_tahun             0.214925  0.115108 -0.624421  0.14806\n"
          ]
        }
      ]
    },
    {
      "cell_type": "markdown",
      "metadata": {
        "id": "Rf3CvR4En0bw"
      },
      "source": [
        "## 2.3.3.1.1 Variabel Debt Burden Ratio (DBR)"
      ]
    },
    {
      "cell_type": "code",
      "metadata": {
        "id": "ugFhwCFJq3C1"
      },
      "source": [
        "conditions = [\n",
        "             ( df_clean['Pendapatan_perbulan'] == '1. < 1 juta' ),\n",
        "             ( df_clean['Pendapatan_perbulan'] == '2. 1 - 5 juta' ),\n",
        "             ( df_clean['Pendapatan_perbulan'] == '3. 5 - 10 juta' ),\n",
        "             ( df_clean['Pendapatan_perbulan'] == '4. 10 - 20 juta' ),\n",
        "             ( df_clean['Pendapatan_perbulan'] == '5. >20 juta' )\n",
        "             ]\n",
        "\n",
        "choices = [\n",
        "          ( (df_clean['SLIK_Cicilan_Bulanan'] + (df_clean['SLIK_Outstanding_CC'] * 0.1) ) / 1000000 ),\n",
        "          ( (df_clean['SLIK_Cicilan_Bulanan'] + (df_clean['SLIK_Outstanding_CC'] * 0.1) ) / 5000000 ),\n",
        "          ( (df_clean['SLIK_Cicilan_Bulanan'] + (df_clean['SLIK_Outstanding_CC'] * 0.1) ) / 10000000 ),\n",
        "          ( (df_clean['SLIK_Cicilan_Bulanan'] + (df_clean['SLIK_Outstanding_CC'] * 0.1) ) / 20000000 ),\n",
        "          ( (df_clean['SLIK_Cicilan_Bulanan'] + (df_clean['SLIK_Outstanding_CC'] * 0.1) ) / 30000000 )\n",
        "          ]\n",
        "df_clean['DBR'] = np.select(conditions, choices)"
      ],
      "execution_count": 138,
      "outputs": []
    },
    {
      "cell_type": "markdown",
      "metadata": {
        "id": "Xt_8etPjn5Oc"
      },
      "source": [
        "## 2.3.3.1.2 Apakah alamat kantor dan rumah berdekatan?\n"
      ]
    },
    {
      "cell_type": "code",
      "metadata": {
        "id": "dWiNIMfWtwly"
      },
      "source": [
        "conditions = [\n",
        "             ( df_clean['Alamat_Rumah'] == df_clean['Alamat_Kantor'] ),\n",
        "             ( df_clean['Alamat_Rumah'] != df_clean['Alamat_Kantor'] ),\n",
        "             ]\n",
        "\n",
        "choices = [\n",
        "          '1.Rumah_Kantor_Dekat',\n",
        "          '2.Rumah_Kantor_Jauh'\n",
        "          ]\n",
        "df_clean['Alamat_Rumah_Kantor'] = np.select(conditions, choices)"
      ],
      "execution_count": 139,
      "outputs": []
    },
    {
      "cell_type": "code",
      "metadata": {
        "id": "4g1-7WIpDb5m",
        "outputId": "99f66489-99ff-4294-d10c-3444b7053386",
        "colab": {
          "base_uri": "https://localhost:8080/"
        }
      },
      "source": [
        "# Variabel DBR\n",
        "\n",
        "conditions = [\n",
        "             ( df_clean['DBR'] <= 0.00 ),\n",
        "             ( df_clean['DBR'] <= 0.10 ),\n",
        "             ( df_clean['DBR'] <= 0.20 ),\n",
        "             ( df_clean['DBR'] <= 0.30 ),\n",
        "             ( df_clean['DBR'] <= 0.40 ),\n",
        "             ( df_clean['DBR'] <= 0.50 ),\n",
        "             ( df_clean['DBR'] <= 0.60 ),\n",
        "             ( df_clean['DBR'] > 0.60 )\n",
        "             ]\n",
        "\n",
        "choices = [\n",
        "          '1.0%',\n",
        "          '2.0-10%',\n",
        "          '3.10-20%',\n",
        "          '4.20-30%',\n",
        "          '5.30-40%',\n",
        "          '6.40-50%',\n",
        "          '7.50-60%',\n",
        "          '8.>60%',\n",
        "          ]\n",
        "df_clean['DBR_Bin'] = np.select(conditions, choices)\n",
        "\n",
        "print(pd.crosstab(df_clean['DBR_Bin'], df_clean['default']))\n",
        "\n",
        "# Untuk melihat proporsi (dalam persentase) dari variabel API_CreditScore_Vendor_A_Bin\n",
        "print(df_clean['DBR_Bin'].value_counts(normalize=True) * 100)\n",
        "\n",
        "df_woe_iv = (pd.crosstab(df_clean['DBR_Bin'],df_clean['default'],normalize='columns')\n",
        "             .assign(woe=lambda dfx: np.log(dfx[1] / dfx[0]))\n",
        "             .assign(iv=lambda dfx: np.sum(dfx['woe']*\n",
        "                                           (dfx[1]-dfx[0]))))\n",
        "print(df_woe_iv)\n",
        "\n",
        "conditions = [\n",
        "             ( df_clean['DBR'] <= 0.0 ),\n",
        "             ( df_clean['DBR'] <= 0.1 ),\n",
        "             ( df_clean['DBR'] <= 0.2 ),\n",
        "             ( df_clean['DBR'] <= 0.3 ),\n",
        "             ( df_clean['DBR'] <= 0.4 ),\n",
        "             ( df_clean['DBR'] <= 0.5 ),\n",
        "             ( df_clean['DBR'] <= 0.6 ),\n",
        "             ( df_clean['DBR'] > 0.6 )\n",
        "             ]\n",
        "\n",
        "choices = [\n",
        "          1.145360,\n",
        "          -0.814122,\n",
        "          -0.303039,\n",
        "          -0.036634,\n",
        "          -0.072352,\n",
        "          0.062895,\n",
        "          0.142058,\n",
        "          0.728616,\n",
        "          ]\n",
        "df_clean['DBR_WOE'] = np.select(conditions, choices)"
      ],
      "execution_count": 140,
      "outputs": [
        {
          "output_type": "stream",
          "name": "stdout",
          "text": [
            "default     0   1\n",
            "DBR_Bin          \n",
            "1.0%       23  30\n",
            "2.0-10%   272  50\n",
            "3.10-20%   62  19\n",
            "4.20-30%   60  24\n",
            "5.30-40%   57  22\n",
            "6.40-50%   43  19\n",
            "7.50-60%   46  22\n",
            "8.>60%    107  92\n",
            "2.0-10%     33.966245\n",
            "8.>60%      20.991561\n",
            "4.20-30%     8.860759\n",
            "3.10-20%     8.544304\n",
            "5.30-40%     8.333333\n",
            "7.50-60%     7.172996\n",
            "6.40-50%     6.540084\n",
            "1.0%         5.590717\n",
            "Name: DBR_Bin, dtype: float64\n",
            "default          0         1       woe        iv\n",
            "DBR_Bin                                         \n",
            "1.0%      0.034328  0.107914  1.145360  0.402759\n",
            "2.0-10%   0.405970  0.179856 -0.814122  0.402759\n",
            "3.10-20%  0.092537  0.068345 -0.303039  0.402759\n",
            "4.20-30%  0.089552  0.086331 -0.036634  0.402759\n",
            "5.30-40%  0.085075  0.079137 -0.072352  0.402759\n",
            "6.40-50%  0.064179  0.068345  0.062895  0.402759\n",
            "7.50-60%  0.068657  0.079137  0.142058  0.402759\n",
            "8.>60%    0.159701  0.330935  0.728616  0.402759\n"
          ]
        }
      ]
    },
    {
      "cell_type": "code",
      "metadata": {
        "id": "cgPQ19q6VEm7",
        "outputId": "d9a098f3-c6ce-4672-ef6d-1338e701e6fc",
        "colab": {
          "base_uri": "https://localhost:8080/"
        }
      },
      "source": [
        "# Variabel Alamat_Rumah_Kantor\n",
        "\n",
        "conditions = [\n",
        "             ( df_clean['Alamat_Rumah_Kantor'] == '1.Rumah_Kantor_Dekat' ),\n",
        "             ( df_clean['Alamat_Rumah_Kantor'] == '2.Rumah_Kantor_Jauh' )\n",
        "             ]\n",
        "\n",
        "choices = [\n",
        "          '1.Rumah_Kantor_Dekat',\n",
        "          '2.Rumah_Kantor_Jauh'\n",
        "          ]\n",
        "df_clean['Alamat_Rumah_Kantor_Bin'] = np.select(conditions, choices)\n",
        "\n",
        "print(pd.crosstab(df_clean['Alamat_Rumah_Kantor_Bin'], df_clean['default']))\n",
        "\n",
        "# Untuk melihat proporsi (dalam persentase) dari variabel API_CreditScore_Vendor_A_Bin\n",
        "print(df_clean['Alamat_Rumah_Kantor_Bin'].value_counts(normalize=True) * 100)\n",
        "\n",
        "df_woe_iv = (pd.crosstab(df_clean['Alamat_Rumah_Kantor_Bin'],df_clean['default'],normalize='columns')\n",
        "             .assign(woe=lambda dfx: np.log(dfx[1] / dfx[0]))\n",
        "             .assign(iv=lambda dfx: np.sum(dfx['woe']*\n",
        "                                           (dfx[1]-dfx[0]))))\n",
        "print(df_woe_iv)\n",
        "\n",
        "conditions = [\n",
        "             ( df_clean['Alamat_Rumah_Kantor'] == '1.Rumah_Kantor_Dekat' ),\n",
        "             ( df_clean['Alamat_Rumah_Kantor'] == '2.Rumah_Kantor_Jauh' )\n",
        "             ]\n",
        "\n",
        "choices = [\n",
        "          -0.313143,\n",
        "          0.092824\n",
        "          ]\n",
        "df_clean['Alamat_Rumah_Kantor_WOE'] = np.select(conditions, choices)"
      ],
      "execution_count": 141,
      "outputs": [
        {
          "output_type": "stream",
          "name": "stdout",
          "text": [
            "default                    0    1\n",
            "Alamat_Rumah_Kantor_Bin          \n",
            "1.Rumah_Kantor_Dekat     178   54\n",
            "2.Rumah_Kantor_Jauh      492  224\n",
            "2.Rumah_Kantor_Jauh     75.527426\n",
            "1.Rumah_Kantor_Dekat    24.472574\n",
            "Name: Alamat_Rumah_Kantor_Bin, dtype: float64\n",
            "default                         0         1       woe        iv\n",
            "Alamat_Rumah_Kantor_Bin                                        \n",
            "1.Rumah_Kantor_Dekat     0.265672  0.194245 -0.313143  0.028997\n",
            "2.Rumah_Kantor_Jauh      0.734328  0.805755  0.092824  0.028997\n"
          ]
        }
      ]
    },
    {
      "cell_type": "markdown",
      "metadata": {
        "id": "6fqNpS1Rn-Ap"
      },
      "source": [
        "## Latihan membuat variabel baru usia dan status\n"
      ]
    },
    {
      "cell_type": "code",
      "metadata": {
        "id": "_wSXIbYKA359"
      },
      "source": [
        "# Latihan membuat variabel baru usia dan status\n",
        "# Koding disini\n",
        "\n"
      ],
      "execution_count": 142,
      "outputs": []
    },
    {
      "cell_type": "markdown",
      "metadata": {
        "id": "f_sqDR6M48Qq"
      },
      "source": [
        "# Proses Modeling"
      ]
    },
    {
      "cell_type": "markdown",
      "metadata": {
        "id": "KSIy6eo85Awm"
      },
      "source": [
        "## Persiapan membuat model: Memilih Variabel Input"
      ]
    },
    {
      "cell_type": "code",
      "metadata": {
        "id": "JfIGL2QLrioC"
      },
      "source": [
        "# Persiapan membuat model\n",
        "# Memilih variabel yang akan diinput ke dalam model\n",
        "# Contoh hanya menggunakan 3 variabel input saja: SLIK_Kolektibilitas, DBR, dan Usia\n",
        "\n",
        "df_model_WOE = df_clean[['default','SLIK_Kolektibilitas_WOE','DBR_WOE','Usia_WOE']]\n",
        "df_model_Bin = df_clean[['default','SLIK_Kolektibilitas_Bin','DBR_Bin','Usia_Bin']]\n",
        "df_model = df_clean[['default','SLIK_Kolektibilitas','DBR','Usia']]"
      ],
      "execution_count": 143,
      "outputs": []
    },
    {
      "cell_type": "code",
      "metadata": {
        "id": "nmsU_19IWKun"
      },
      "source": [
        "# Dalam contoh ini tidak ada oversampling/undersampling"
      ],
      "execution_count": 144,
      "outputs": []
    },
    {
      "cell_type": "markdown",
      "metadata": {
        "id": "xNLiPNrW5Wb_"
      },
      "source": [
        "## Membagi dataset menjadi train dan test"
      ]
    },
    {
      "cell_type": "code",
      "metadata": {
        "id": "PX536cJfs5sI"
      },
      "source": [
        "# Membagi dataset menjadi development(train) dan test\n",
        "\n",
        "y = df_model_WOE.loc[:,'default']\n",
        "X = df_model_WOE.loc[:,df_model_WOE.columns != 'default']\n",
        "\n",
        "from sklearn.model_selection import train_test_split\n",
        "X_train, X_test, y_train, y_test = train_test_split(X, y, test_size=0.30, random_state=42)\n",
        "\n",
        "# Dalam bentuk dataframe lengkap\n",
        "df_train = pd.concat([X_train, y_train], axis = 1)\n",
        "df_test = pd.concat([X_test, y_test], axis = 1)\n",
        "\n",
        "# Menghapus indeks dari data yang telah dibuang\n",
        "df_train = df_train.reset_index(drop=True)\n",
        "df_test = df_test.reset_index(drop=True)"
      ],
      "execution_count": 145,
      "outputs": []
    },
    {
      "cell_type": "markdown",
      "metadata": {
        "id": "E6HELMO65atK"
      },
      "source": [
        "## Modeling dengan logistic regression"
      ]
    },
    {
      "cell_type": "code",
      "metadata": {
        "id": "4ogRrGGQtHnd",
        "outputId": "b49c3ea6-833b-4781-fa24-4d09b3460886",
        "colab": {
          "base_uri": "https://localhost:8080/",
          "height": 0
        }
      },
      "source": [
        "# Membuat scorecard dengan menggunakan algoritma logistic regression\n",
        "from sklearn.linear_model import LogisticRegression\n",
        "lr = LogisticRegression() \n",
        "lr.fit(X_train, y_train)\n",
        "\n",
        "print('Coefficient: ', lr.feature_names_in_, lr.coef_)\n",
        "print('Intercept: ', lr.intercept_)\n",
        "print(lr.classes_)\n",
        "\n",
        "# Jika ingin mengetahui detail dari regresi logistik\n",
        "import numpy as np\n",
        "import statsmodels.api as sm\n",
        "\n",
        "model = sm.Logit(y_train, X_train)\n",
        "result = model.fit()\n",
        "\n",
        "result.summary()"
      ],
      "execution_count": 146,
      "outputs": [
        {
          "output_type": "stream",
          "name": "stdout",
          "text": [
            "Coefficient:  ['SLIK_Kolektibilitas_WOE' 'DBR_WOE' 'Usia_WOE'] [[0.86139349 0.87926071 0.42979569]]\n",
            "Intercept:  [-0.82758583]\n",
            "[0 1]\n",
            "Optimization terminated successfully.\n",
            "         Current function value: 0.606180\n",
            "         Iterations 5\n"
          ]
        },
        {
          "output_type": "execute_result",
          "data": {
            "text/html": [
              "<table class=\"simpletable\">\n",
              "<caption>Logit Regression Results</caption>\n",
              "<tr>\n",
              "  <th>Dep. Variable:</th>        <td>default</td>     <th>  No. Observations:  </th>  <td>   663</td> \n",
              "</tr>\n",
              "<tr>\n",
              "  <th>Model:</th>                 <td>Logit</td>      <th>  Df Residuals:      </th>  <td>   660</td> \n",
              "</tr>\n",
              "<tr>\n",
              "  <th>Method:</th>                 <td>MLE</td>       <th>  Df Model:          </th>  <td>     2</td> \n",
              "</tr>\n",
              "<tr>\n",
              "  <th>Date:</th>            <td>Sun, 12 Dec 2021</td> <th>  Pseudo R-squ.:     </th> <td>0.003675</td>\n",
              "</tr>\n",
              "<tr>\n",
              "  <th>Time:</th>                <td>04:21:03</td>     <th>  Log-Likelihood:    </th> <td> -401.90</td>\n",
              "</tr>\n",
              "<tr>\n",
              "  <th>converged:</th>             <td>True</td>       <th>  LL-Null:           </th> <td> -403.38</td>\n",
              "</tr>\n",
              "<tr>\n",
              "  <th>Covariance Type:</th>     <td>nonrobust</td>    <th>  LLR p-value:       </th>  <td>0.2271</td> \n",
              "</tr>\n",
              "</table>\n",
              "<table class=\"simpletable\">\n",
              "<tr>\n",
              "             <td></td>                <th>coef</th>     <th>std err</th>      <th>z</th>      <th>P>|z|</th>  <th>[0.025</th>    <th>0.975]</th>  \n",
              "</tr>\n",
              "<tr>\n",
              "  <th>SLIK_Kolektibilitas_WOE</th> <td>    0.9444</td> <td>    0.159</td> <td>    5.928</td> <td> 0.000</td> <td>    0.632</td> <td>    1.257</td>\n",
              "</tr>\n",
              "<tr>\n",
              "  <th>DBR_WOE</th>                 <td>    0.9797</td> <td>    0.138</td> <td>    7.084</td> <td> 0.000</td> <td>    0.709</td> <td>    1.251</td>\n",
              "</tr>\n",
              "<tr>\n",
              "  <th>Usia_WOE</th>                <td>    0.4661</td> <td>    0.324</td> <td>    1.438</td> <td> 0.150</td> <td>   -0.169</td> <td>    1.101</td>\n",
              "</tr>\n",
              "</table>"
            ],
            "text/plain": [
              "<class 'statsmodels.iolib.summary.Summary'>\n",
              "\"\"\"\n",
              "                           Logit Regression Results                           \n",
              "==============================================================================\n",
              "Dep. Variable:                default   No. Observations:                  663\n",
              "Model:                          Logit   Df Residuals:                      660\n",
              "Method:                           MLE   Df Model:                            2\n",
              "Date:                Sun, 12 Dec 2021   Pseudo R-squ.:                0.003675\n",
              "Time:                        04:21:03   Log-Likelihood:                -401.90\n",
              "converged:                       True   LL-Null:                       -403.38\n",
              "Covariance Type:            nonrobust   LLR p-value:                    0.2271\n",
              "===========================================================================================\n",
              "                              coef    std err          z      P>|z|      [0.025      0.975]\n",
              "-------------------------------------------------------------------------------------------\n",
              "SLIK_Kolektibilitas_WOE     0.9444      0.159      5.928      0.000       0.632       1.257\n",
              "DBR_WOE                     0.9797      0.138      7.084      0.000       0.709       1.251\n",
              "Usia_WOE                    0.4661      0.324      1.438      0.150      -0.169       1.101\n",
              "===========================================================================================\n",
              "\"\"\""
            ]
          },
          "metadata": {},
          "execution_count": 146
        }
      ]
    },
    {
      "cell_type": "code",
      "metadata": {
        "id": "znh3oQHT5iMz",
        "outputId": "41af1381-cff9-4d97-f725-cdaec3621449",
        "colab": {
          "base_uri": "https://localhost:8080/"
        }
      },
      "source": [
        "train_predict = lr.predict(X_train)\n",
        "test_predict = lr.predict(X_test)\n",
        "print(test_predict)\n",
        "# Cara adalah 0 jika bayar, dan 1 jika default"
      ],
      "execution_count": 147,
      "outputs": [
        {
          "output_type": "stream",
          "name": "stdout",
          "text": [
            "[0 0 1 0 0 0 0 0 0 0 0 0 0 0 0 0 0 0 0 1 0 0 1 0 0 0 0 0 0 0 0 0 1 0 0 0 0\n",
            " 1 0 0 0 1 0 0 0 0 0 0 0 0 0 0 0 0 0 1 0 0 0 0 0 0 1 0 0 1 0 0 0 0 0 0 0 0\n",
            " 0 0 0 0 0 0 0 0 0 0 0 1 0 0 0 0 0 0 0 0 0 0 0 0 0 0 0 0 0 0 0 0 0 0 1 0 0\n",
            " 0 0 0 1 0 0 0 1 0 1 0 0 0 0 0 0 0 0 1 1 0 1 0 1 0 0 0 0 0 0 0 0 0 0 1 1 0\n",
            " 0 0 0 0 0 0 1 0 0 0 0 0 0 0 0 0 0 0 0 0 0 0 1 0 0 0 1 1 0 0 0 0 0 0 0 0 0\n",
            " 0 1 0 0 0 1 0 0 0 0 0 0 0 1 0 0 0 0 0 0 0 0 0 0 0 0 0 0 0 0 0 1 0 0 0 0 0\n",
            " 0 0 0 0 0 0 0 0 0 0 0 0 0 0 0 0 0 0 0 1 0 1 0 0 0 0 0 0 0 0 0 0 1 1 0 0 0\n",
            " 0 0 0 0 0 0 1 0 0 0 1 0 0 0 0 0 0 0 0 1 0 0 0 0 0 0]\n"
          ]
        }
      ]
    },
    {
      "cell_type": "code",
      "metadata": {
        "id": "2M8VyKMB6L9O",
        "outputId": "c1a02910-4999-4638-8322-c36684462ac7",
        "colab": {
          "base_uri": "https://localhost:8080/"
        }
      },
      "source": [
        "test_pred_proba = lr.predict_proba(X_test)\n",
        "print(test_pred_proba)\n",
        "# Cara bacanya adalah 0.635 adalah probabilitas 0 dan 0.364 adaalah probabilitas 1\n",
        "# Dengan mengacu probabilitas 1 diatas 0.5 maka default / 1"
      ],
      "execution_count": 148,
      "outputs": [
        {
          "output_type": "stream",
          "name": "stdout",
          "text": [
            "[[0.76128807 0.23871193]\n",
            " [0.68196331 0.31803669]\n",
            " [0.47826863 0.52173137]\n",
            " [0.80812584 0.19187416]\n",
            " [0.68196331 0.31803669]\n",
            " [0.79712241 0.20287759]\n",
            " [0.70112653 0.29887347]\n",
            " [0.71616446 0.28383554]\n",
            " [0.63975174 0.36024826]\n",
            " [0.80455626 0.19544374]\n",
            " [0.88731536 0.11268464]\n",
            " [0.87586834 0.12413166]\n",
            " [0.69804444 0.30195556]\n",
            " [0.8332905  0.1667095 ]\n",
            " [0.76128807 0.23871193]\n",
            " [0.7806552  0.2193448 ]\n",
            " [0.74015595 0.25984405]\n",
            " [0.68196331 0.31803669]\n",
            " [0.56283126 0.43716874]\n",
            " [0.28760935 0.71239065]\n",
            " [0.80455626 0.19544374]\n",
            " [0.80455626 0.19544374]\n",
            " [0.24952739 0.75047261]\n",
            " [0.80455626 0.19544374]\n",
            " [0.68196331 0.31803669]\n",
            " [0.84808163 0.15191837]\n",
            " [0.74015595 0.25984405]\n",
            " [0.64241789 0.35758211]\n",
            " [0.83567593 0.16432407]\n",
            " [0.66976854 0.33023146]\n",
            " [0.68196331 0.31803669]\n",
            " [0.68317425 0.31682575]\n",
            " [0.24952739 0.75047261]\n",
            " [0.80455626 0.19544374]\n",
            " [0.91707466 0.08292534]\n",
            " [0.74015595 0.25984405]\n",
            " [0.63975174 0.36024826]\n",
            " [0.28760935 0.71239065]\n",
            " [0.80455626 0.19544374]\n",
            " [0.56283126 0.43716874]\n",
            " [0.80455626 0.19544374]\n",
            " [0.42363297 0.57636703]\n",
            " [0.7806552  0.2193448 ]\n",
            " [0.63975174 0.36024826]\n",
            " [0.62336045 0.37663955]\n",
            " [0.72250478 0.27749522]\n",
            " [0.80455626 0.19544374]\n",
            " [0.90106702 0.09893298]\n",
            " [0.77256924 0.22743076]\n",
            " [0.80455626 0.19544374]\n",
            " [0.51463317 0.48536683]\n",
            " [0.87586834 0.12413166]\n",
            " [0.51463317 0.48536683]\n",
            " [0.53196186 0.46803814]\n",
            " [0.8332905  0.1667095 ]\n",
            " [0.28760935 0.71239065]\n",
            " [0.84808163 0.15191837]\n",
            " [0.80814636 0.19185364]\n",
            " [0.72250478 0.27749522]\n",
            " [0.51143257 0.48856743]\n",
            " [0.84808163 0.15191837]\n",
            " [0.8332905  0.1667095 ]\n",
            " [0.34107183 0.65892817]\n",
            " [0.84808163 0.15191837]\n",
            " [0.85317982 0.14682018]\n",
            " [0.28760935 0.71239065]\n",
            " [0.62207433 0.37792567]\n",
            " [0.58863045 0.41136955]\n",
            " [0.67511322 0.32488678]\n",
            " [0.51463317 0.48536683]\n",
            " [0.53196186 0.46803814]\n",
            " [0.90106702 0.09893298]\n",
            " [0.71547808 0.28452192]\n",
            " [0.81524995 0.18475005]\n",
            " [0.71547808 0.28452192]\n",
            " [0.67511322 0.32488678]\n",
            " [0.90106702 0.09893298]\n",
            " [0.51463317 0.48536683]\n",
            " [0.63975174 0.36024826]\n",
            " [0.80455626 0.19544374]\n",
            " [0.70112653 0.29887347]\n",
            " [0.8332905  0.1667095 ]\n",
            " [0.91707466 0.08292534]\n",
            " [0.8520838  0.1479162 ]\n",
            " [0.91707466 0.08292534]\n",
            " [0.47826863 0.52173137]\n",
            " [0.69804444 0.30195556]\n",
            " [0.63975174 0.36024826]\n",
            " [0.62207433 0.37792567]\n",
            " [0.65563266 0.34436734]\n",
            " [0.80455626 0.19544374]\n",
            " [0.90708993 0.09291007]\n",
            " [0.74015595 0.25984405]\n",
            " [0.56283126 0.43716874]\n",
            " [0.80812584 0.19187416]\n",
            " [0.76128807 0.23871193]\n",
            " [0.64241789 0.35758211]\n",
            " [0.51463317 0.48536683]\n",
            " [0.8332905  0.1667095 ]\n",
            " [0.80455626 0.19544374]\n",
            " [0.63975174 0.36024826]\n",
            " [0.91707466 0.08292534]\n",
            " [0.79712241 0.20287759]\n",
            " [0.51143257 0.48856743]\n",
            " [0.91707466 0.08292534]\n",
            " [0.56283126 0.43716874]\n",
            " [0.68196331 0.31803669]\n",
            " [0.8332905  0.1667095 ]\n",
            " [0.28760935 0.71239065]\n",
            " [0.91707466 0.08292534]\n",
            " [0.82671418 0.17328582]\n",
            " [0.67511322 0.32488678]\n",
            " [0.51463317 0.48536683]\n",
            " [0.80455626 0.19544374]\n",
            " [0.47826863 0.52173137]\n",
            " [0.80455626 0.19544374]\n",
            " [0.8332905  0.1667095 ]\n",
            " [0.74015595 0.25984405]\n",
            " [0.39823613 0.60176387]\n",
            " [0.8332905  0.1667095 ]\n",
            " [0.46297466 0.53702534]\n",
            " [0.58863045 0.41136955]\n",
            " [0.51463317 0.48536683]\n",
            " [0.71616446 0.28383554]\n",
            " [0.51463317 0.48536683]\n",
            " [0.80455626 0.19544374]\n",
            " [0.56283126 0.43716874]\n",
            " [0.68196331 0.31803669]\n",
            " [0.80455626 0.19544374]\n",
            " [0.47826863 0.52173137]\n",
            " [0.46297466 0.53702534]\n",
            " [0.65563266 0.34436734]\n",
            " [0.28760935 0.71239065]\n",
            " [0.90106702 0.09893298]\n",
            " [0.24952739 0.75047261]\n",
            " [0.80455626 0.19544374]\n",
            " [0.51463317 0.48536683]\n",
            " [0.69804444 0.30195556]\n",
            " [0.90106702 0.09893298]\n",
            " [0.64241789 0.35758211]\n",
            " [0.7806552  0.2193448 ]\n",
            " [0.65563266 0.34436734]\n",
            " [0.78456678 0.21543322]\n",
            " [0.68196331 0.31803669]\n",
            " [0.63975174 0.36024826]\n",
            " [0.47826863 0.52173137]\n",
            " [0.29888089 0.70111911]\n",
            " [0.71547808 0.28452192]\n",
            " [0.56283126 0.43716874]\n",
            " [0.72425023 0.27574977]\n",
            " [0.80455626 0.19544374]\n",
            " [0.64241789 0.35758211]\n",
            " [0.90708993 0.09291007]\n",
            " [0.63975174 0.36024826]\n",
            " [0.28760935 0.71239065]\n",
            " [0.68317425 0.31682575]\n",
            " [0.72425023 0.27574977]\n",
            " [0.91707466 0.08292534]\n",
            " [0.70112653 0.29887347]\n",
            " [0.8332905  0.1667095 ]\n",
            " [0.90106702 0.09893298]\n",
            " [0.65563266 0.34436734]\n",
            " [0.8332905  0.1667095 ]\n",
            " [0.5136119  0.4863881 ]\n",
            " [0.70112653 0.29887347]\n",
            " [0.85317982 0.14682018]\n",
            " [0.68317425 0.31682575]\n",
            " [0.70112653 0.29887347]\n",
            " [0.83646007 0.16353993]\n",
            " [0.51463317 0.48536683]\n",
            " [0.34107183 0.65892817]\n",
            " [0.80455626 0.19544374]\n",
            " [0.68317425 0.31682575]\n",
            " [0.80455626 0.19544374]\n",
            " [0.28760935 0.71239065]\n",
            " [0.47826863 0.52173137]\n",
            " [0.56283126 0.43716874]\n",
            " [0.91707466 0.08292534]\n",
            " [0.80455626 0.19544374]\n",
            " [0.8332905  0.1667095 ]\n",
            " [0.5136119  0.4863881 ]\n",
            " [0.90106702 0.09893298]\n",
            " [0.8332905  0.1667095 ]\n",
            " [0.90708993 0.09291007]\n",
            " [0.67511322 0.32488678]\n",
            " [0.8332905  0.1667095 ]\n",
            " [0.24952739 0.75047261]\n",
            " [0.63975174 0.36024826]\n",
            " [0.81868789 0.18131211]\n",
            " [0.91707466 0.08292534]\n",
            " [0.24952739 0.75047261]\n",
            " [0.71616446 0.28383554]\n",
            " [0.5136119  0.4863881 ]\n",
            " [0.56283126 0.43716874]\n",
            " [0.90106702 0.09893298]\n",
            " [0.90106702 0.09893298]\n",
            " [0.64241789 0.35758211]\n",
            " [0.74015595 0.25984405]\n",
            " [0.47826863 0.52173137]\n",
            " [0.84808163 0.15191837]\n",
            " [0.83646007 0.16353993]\n",
            " [0.91707466 0.08292534]\n",
            " [0.8332905  0.1667095 ]\n",
            " [0.66773255 0.33226745]\n",
            " [0.8332905  0.1667095 ]\n",
            " [0.69683717 0.30316283]\n",
            " [0.71616446 0.28383554]\n",
            " [0.85317982 0.14682018]\n",
            " [0.71616446 0.28383554]\n",
            " [0.90106702 0.09893298]\n",
            " [0.80455626 0.19544374]\n",
            " [0.8520838  0.1479162 ]\n",
            " [0.8332905  0.1667095 ]\n",
            " [0.65563266 0.34436734]\n",
            " [0.56283126 0.43716874]\n",
            " [0.51463317 0.48536683]\n",
            " [0.29888089 0.70111911]\n",
            " [0.83567593 0.16432407]\n",
            " [0.68196331 0.31803669]\n",
            " [0.71616446 0.28383554]\n",
            " [0.80455626 0.19544374]\n",
            " [0.67511322 0.32488678]\n",
            " [0.60557684 0.39442316]\n",
            " [0.71616446 0.28383554]\n",
            " [0.56283126 0.43716874]\n",
            " [0.66773255 0.33226745]\n",
            " [0.8520838  0.1479162 ]\n",
            " [0.67511322 0.32488678]\n",
            " [0.83646007 0.16353993]\n",
            " [0.72250478 0.27749522]\n",
            " [0.69016189 0.30983811]\n",
            " [0.5136119  0.4863881 ]\n",
            " [0.63975174 0.36024826]\n",
            " [0.80455626 0.19544374]\n",
            " [0.68317425 0.31682575]\n",
            " [0.84808163 0.15191837]\n",
            " [0.87586834 0.12413166]\n",
            " [0.51463317 0.48536683]\n",
            " [0.8332905  0.1667095 ]\n",
            " [0.74015595 0.25984405]\n",
            " [0.68196331 0.31803669]\n",
            " [0.47826863 0.52173137]\n",
            " [0.71616446 0.28383554]\n",
            " [0.42363297 0.57636703]\n",
            " [0.70112653 0.29887347]\n",
            " [0.70112653 0.29887347]\n",
            " [0.69426042 0.30573958]\n",
            " [0.91707466 0.08292534]\n",
            " [0.65563266 0.34436734]\n",
            " [0.80455626 0.19544374]\n",
            " [0.51463317 0.48536683]\n",
            " [0.85317982 0.14682018]\n",
            " [0.87586834 0.12413166]\n",
            " [0.7806552  0.2193448 ]\n",
            " [0.47826863 0.52173137]\n",
            " [0.22327812 0.77672188]\n",
            " [0.8332905  0.1667095 ]\n",
            " [0.82135023 0.17864977]\n",
            " [0.67511322 0.32488678]\n",
            " [0.70112653 0.29887347]\n",
            " [0.60557684 0.39442316]\n",
            " [0.69426042 0.30573958]\n",
            " [0.82135023 0.17864977]\n",
            " [0.80455626 0.19544374]\n",
            " [0.71616446 0.28383554]\n",
            " [0.47826863 0.52173137]\n",
            " [0.72250478 0.27749522]\n",
            " [0.90106702 0.09893298]\n",
            " [0.82591206 0.17408794]\n",
            " [0.24952739 0.75047261]\n",
            " [0.8313177  0.1686823 ]\n",
            " [0.8332905  0.1667095 ]\n",
            " [0.72425023 0.27574977]\n",
            " [0.81524995 0.18475005]\n",
            " [0.76128807 0.23871193]\n",
            " [0.76128807 0.23871193]\n",
            " [0.8332905  0.1667095 ]\n",
            " [0.90708993 0.09291007]\n",
            " [0.28760935 0.71239065]\n",
            " [0.67511322 0.32488678]\n",
            " [0.62336045 0.37663955]\n",
            " [0.56283126 0.43716874]\n",
            " [0.8332905  0.1667095 ]\n",
            " [0.7806552  0.2193448 ]\n",
            " [0.74015595 0.25984405]]\n"
          ]
        }
      ]
    },
    {
      "cell_type": "code",
      "metadata": {
        "id": "Hl8xWP_u7BET",
        "outputId": "24302265-44b6-4b0e-a6e5-83162c81f90c",
        "colab": {
          "base_uri": "https://localhost:8080/"
        }
      },
      "source": [
        "# Bagaimana cara tahu bahwa model itu bagus atau tidak?\n",
        "# Pembahasan di bagian evaluasi model\n",
        "# koding nya adalah\n",
        "from sklearn.metrics import classification_report\n",
        "from sklearn.metrics import confusion_matrix\n",
        "# Obtain the results from the classification report and confusion matrix \n",
        "print('Classifcation report:\\n', classification_report(y_test, test_predict))\n",
        "conf_mat = confusion_matrix(y_true=y_test, y_pred=test_predict)\n",
        "print('Confusion matrix:\\n', conf_mat)\n",
        "\n",
        "# Print ROC_AUC score using probabilities\n",
        "from sklearn.metrics import r2_score, classification_report, confusion_matrix, accuracy_score, roc_auc_score, roc_curve, precision_recall_curve, average_precision_score\n",
        "print('ROC Score:', roc_auc_score(y_test, test_pred_proba[:, 1]))"
      ],
      "execution_count": 149,
      "outputs": [
        {
          "output_type": "stream",
          "name": "stdout",
          "text": [
            "Classifcation report:\n",
            "               precision    recall  f1-score   support\n",
            "\n",
            "           0       0.77      0.94      0.85       204\n",
            "           1       0.66      0.28      0.40        81\n",
            "\n",
            "    accuracy                           0.75       285\n",
            "   macro avg       0.71      0.61      0.62       285\n",
            "weighted avg       0.74      0.75      0.72       285\n",
            "\n",
            "Confusion matrix:\n",
            " [[192  12]\n",
            " [ 58  23]]\n",
            "ROC Score: 0.7135378842895184\n"
          ]
        }
      ]
    },
    {
      "cell_type": "markdown",
      "metadata": {
        "id": "QMUBI-kGx7lu"
      },
      "source": [
        "## Modeling logistic regression dengan Stepwise"
      ]
    },
    {
      "cell_type": "code",
      "metadata": {
        "id": "fDy2hUKGyBLI",
        "outputId": "d688de9e-6b0b-4c58-b54f-535a6a0a6ea6",
        "colab": {
          "base_uri": "https://localhost:8080/"
        }
      },
      "source": [
        "# Membuat scorecard dengan menggunakan algoritma logistic regression\n",
        "from sklearn.linear_model import LogisticRegression\n",
        "from sklearn.feature_selection import SequentialFeatureSelector\n",
        "\n",
        "lr = LogisticRegression()\n",
        "lr.fit(X_train, y_train)\n",
        "\n",
        "feature_names = np.array(X.columns)\n",
        "\n",
        "sfs_backward = SequentialFeatureSelector(\n",
        "    lr, n_features_to_select=None, direction=\"backward\"\n",
        ").fit(X_train, y_train)\n",
        "\n",
        "print(\n",
        "    'Variabel signifikan stepwise backward: ', feature_names[sfs_backward.get_support()]\n",
        ")\n",
        "\n",
        "sfs_forward = SequentialFeatureSelector(\n",
        "    lr, n_features_to_select=None, direction=\"forward\"\n",
        ").fit(X_train, y_train)\n",
        "\n",
        "print(\n",
        "    'Variabel signifikan stepwise forward: ', feature_names[sfs_forward.get_support()]\n",
        ")"
      ],
      "execution_count": 150,
      "outputs": [
        {
          "output_type": "stream",
          "name": "stdout",
          "text": [
            "Variabel signifikan stepwise backward:  ['SLIK_Kolektibilitas_WOE']\n",
            "Variabel signifikan stepwise forward:  ['SLIK_Kolektibilitas_WOE']\n"
          ]
        }
      ]
    },
    {
      "cell_type": "code",
      "metadata": {
        "id": "RhkwYEXo4bjS",
        "outputId": "9c1a5baa-1e51-4a38-b014-d4038d519a8a",
        "colab": {
          "base_uri": "https://localhost:8080/"
        }
      },
      "source": [
        "# Testing hasil stepwise\n",
        "\n",
        "df_step = df_clean[['SLIK_Kolektibilitas_WOE','DBR_WOE','Usia_WOE','Mobile_Provider_WOE','Device_Apps_Installed_WOE'\n",
        "                  ,'Mobile_Number_Active_Since_WOE','default'\n",
        "                  ]]\n",
        "\n",
        "# Membagi dataset menjadi development(train) dan test\n",
        "\n",
        "y_step = df_step.loc[:,'default']\n",
        "X_step = df_step.loc[:,df_step.columns != 'default']\n",
        "\n",
        "from sklearn.model_selection import train_test_split\n",
        "X_train_step, X_test_step, y_train_step, y_test_step = train_test_split(X_step, y_step, test_size=0.30, random_state=42)\n",
        "\n",
        "lr_step = LogisticRegression()\n",
        "lr_step.fit(X_train_step, y_train_step)\n",
        "\n",
        "test_predict_step = lr_step.predict(X_test_step)\n",
        "test_pred_proba_step = lr_step.predict_proba(X_test_step)\n",
        "\n",
        "# Bagaimana cara tahu bahwa model itu bagus atau tidak?\n",
        "# Pembahasan di bagian evaluasi model\n",
        "# koding nya adalah\n",
        "from sklearn.metrics import classification_report\n",
        "from sklearn.metrics import confusion_matrix\n",
        "# Obtain the results from the classification report and confusion matrix \n",
        "print('Classifcation report:\\n', classification_report(y_test_step, test_predict_step))\n",
        "conf_mat = confusion_matrix(y_true=y_test_step, y_pred=test_predict_step)\n",
        "print('Confusion matrix:\\n', conf_mat)\n",
        "\n",
        "# Print ROC_AUC score using probabilities\n",
        "from sklearn.metrics import r2_score, classification_report, confusion_matrix, accuracy_score, roc_auc_score, roc_curve, precision_recall_curve, average_precision_score\n",
        "print('ROC Score:', roc_auc_score(y_test_step, test_pred_proba_step[:, 1]))"
      ],
      "execution_count": 151,
      "outputs": [
        {
          "output_type": "stream",
          "name": "stdout",
          "text": [
            "Classifcation report:\n",
            "               precision    recall  f1-score   support\n",
            "\n",
            "           0       0.81      0.93      0.86       204\n",
            "           1       0.71      0.46      0.56        81\n",
            "\n",
            "    accuracy                           0.79       285\n",
            "   macro avg       0.76      0.69      0.71       285\n",
            "weighted avg       0.78      0.79      0.78       285\n",
            "\n",
            "Confusion matrix:\n",
            " [[189  15]\n",
            " [ 44  37]]\n",
            "ROC Score: 0.7784132171387074\n"
          ]
        }
      ]
    },
    {
      "cell_type": "markdown",
      "metadata": {
        "id": "z3p1c7BC-na0"
      },
      "source": [
        "## Membuat Scoring dari probabilitas"
      ]
    },
    {
      "cell_type": "code",
      "metadata": {
        "id": "Q-zRnxfztHXQ"
      },
      "source": [
        "# Membuat scoring\n",
        "P0 = 600 # Target Score\n",
        "PDO = 50 # Target Odds\n",
        "theta0 = 1/4 # Points double odds\n",
        "B = PDO/np.log(2)\n",
        "A = P0 + B * np.log(theta0)"
      ],
      "execution_count": 152,
      "outputs": []
    },
    {
      "cell_type": "code",
      "metadata": {
        "id": "D24tHBUgzqpb"
      },
      "source": [
        "# Perhitungan manual untuk data train\n",
        "train_pred_proba = lr.predict_proba(X_train)[:,1]\n",
        "score = A - B*np.log(train_pred_proba/(1-train_pred_proba))\n",
        "df_train_pred_proba = pd.DataFrame(train_pred_proba, columns=['train_pred_proba'])\n",
        "df_train_score = pd.DataFrame(score, columns=['Score'])\n",
        "df_train_scoring_manual = pd.concat([df_train, df_train_pred_proba, df_train_score], axis = 1)\n",
        "\n",
        "# Perhitungan manual untuk data test\n",
        "test_pred_proba = lr.predict_proba(X_test)[:,1]\n",
        "score = A - B*np.log(test_pred_proba/(1-test_pred_proba))\n",
        "df_test_pred_proba = pd.DataFrame(test_pred_proba, columns=['test_pred_proba'])\n",
        "df_test_score = pd.DataFrame(score, columns=['Score'])\n",
        "df_test_scoring_manual = pd.concat([df_test, df_test_pred_proba, df_test_score], axis = 1)"
      ],
      "execution_count": 153,
      "outputs": []
    },
    {
      "cell_type": "code",
      "metadata": {
        "id": "i4ORyQnY17cV",
        "outputId": "35b612fb-8822-486e-c09d-83ef71be0c18",
        "colab": {
          "base_uri": "https://localhost:8080/",
          "height": 17
        }
      },
      "source": [
        "# Untuk memudahkan membaca hasil, maka disimpan dalam bentuk csv dan didownload\n",
        "from google.colab import files\n",
        "df_train_scoring_manual.to_csv('df_train_scoring_manual.csv') \n",
        "files.download('df_train_scoring_manual.csv')\n",
        "\n",
        "df_test_scoring_manual.to_csv('df_test_scoring_manual.csv') \n",
        "files.download('df_test_scoring_manual.csv')"
      ],
      "execution_count": 154,
      "outputs": [
        {
          "output_type": "display_data",
          "data": {
            "application/javascript": [
              "\n",
              "    async function download(id, filename, size) {\n",
              "      if (!google.colab.kernel.accessAllowed) {\n",
              "        return;\n",
              "      }\n",
              "      const div = document.createElement('div');\n",
              "      const label = document.createElement('label');\n",
              "      label.textContent = `Downloading \"${filename}\": `;\n",
              "      div.appendChild(label);\n",
              "      const progress = document.createElement('progress');\n",
              "      progress.max = size;\n",
              "      div.appendChild(progress);\n",
              "      document.body.appendChild(div);\n",
              "\n",
              "      const buffers = [];\n",
              "      let downloaded = 0;\n",
              "\n",
              "      const channel = await google.colab.kernel.comms.open(id);\n",
              "      // Send a message to notify the kernel that we're ready.\n",
              "      channel.send({})\n",
              "\n",
              "      for await (const message of channel.messages) {\n",
              "        // Send a message to notify the kernel that we're ready.\n",
              "        channel.send({})\n",
              "        if (message.buffers) {\n",
              "          for (const buffer of message.buffers) {\n",
              "            buffers.push(buffer);\n",
              "            downloaded += buffer.byteLength;\n",
              "            progress.value = downloaded;\n",
              "          }\n",
              "        }\n",
              "      }\n",
              "      const blob = new Blob(buffers, {type: 'application/binary'});\n",
              "      const a = document.createElement('a');\n",
              "      a.href = window.URL.createObjectURL(blob);\n",
              "      a.download = filename;\n",
              "      div.appendChild(a);\n",
              "      a.click();\n",
              "      div.remove();\n",
              "    }\n",
              "  "
            ],
            "text/plain": [
              "<IPython.core.display.Javascript object>"
            ]
          },
          "metadata": {}
        },
        {
          "output_type": "display_data",
          "data": {
            "application/javascript": [
              "download(\"download_23ed2bfd-cb51-486c-a4eb-cbbbb719c928\", \"df_train_scoring_manual.csv\", 46423)"
            ],
            "text/plain": [
              "<IPython.core.display.Javascript object>"
            ]
          },
          "metadata": {}
        },
        {
          "output_type": "display_data",
          "data": {
            "application/javascript": [
              "\n",
              "    async function download(id, filename, size) {\n",
              "      if (!google.colab.kernel.accessAllowed) {\n",
              "        return;\n",
              "      }\n",
              "      const div = document.createElement('div');\n",
              "      const label = document.createElement('label');\n",
              "      label.textContent = `Downloading \"${filename}\": `;\n",
              "      div.appendChild(label);\n",
              "      const progress = document.createElement('progress');\n",
              "      progress.max = size;\n",
              "      div.appendChild(progress);\n",
              "      document.body.appendChild(div);\n",
              "\n",
              "      const buffers = [];\n",
              "      let downloaded = 0;\n",
              "\n",
              "      const channel = await google.colab.kernel.comms.open(id);\n",
              "      // Send a message to notify the kernel that we're ready.\n",
              "      channel.send({})\n",
              "\n",
              "      for await (const message of channel.messages) {\n",
              "        // Send a message to notify the kernel that we're ready.\n",
              "        channel.send({})\n",
              "        if (message.buffers) {\n",
              "          for (const buffer of message.buffers) {\n",
              "            buffers.push(buffer);\n",
              "            downloaded += buffer.byteLength;\n",
              "            progress.value = downloaded;\n",
              "          }\n",
              "        }\n",
              "      }\n",
              "      const blob = new Blob(buffers, {type: 'application/binary'});\n",
              "      const a = document.createElement('a');\n",
              "      a.href = window.URL.createObjectURL(blob);\n",
              "      a.download = filename;\n",
              "      div.appendChild(a);\n",
              "      a.click();\n",
              "      div.remove();\n",
              "    }\n",
              "  "
            ],
            "text/plain": [
              "<IPython.core.display.Javascript object>"
            ]
          },
          "metadata": {}
        },
        {
          "output_type": "display_data",
          "data": {
            "application/javascript": [
              "download(\"download_d07e41a3-52ff-43e6-a355-28104b6e6aa4\", \"df_test_scoring_manual.csv\", 19916)"
            ],
            "text/plain": [
              "<IPython.core.display.Javascript object>"
            ]
          },
          "metadata": {}
        }
      ]
    },
    {
      "cell_type": "markdown",
      "metadata": {
        "id": "6Yrg5Vhw-tSS"
      },
      "source": [
        "## 2.3.4.4 Cara cepat membuat scorecard di Python: Library Scorecardpy"
      ]
    },
    {
      "cell_type": "markdown",
      "metadata": {
        "id": "E1AjHWU5-x6T"
      },
      "source": [
        "## Instalasi library"
      ]
    },
    {
      "cell_type": "code",
      "metadata": {
        "id": "PJQvue7xRdXo"
      },
      "source": [
        "# install scorecardpy\n",
        "!pip install -q scorecardpy\n",
        "#!pip install git+git://github.com/shichenxie/scorecardpy.git"
      ],
      "execution_count": 155,
      "outputs": []
    },
    {
      "cell_type": "markdown",
      "metadata": {
        "id": "5jPy9YPc-0Mx"
      },
      "source": [
        "## Persiapan Modeling, train dan test dataset, pembuatan binning dan EDA"
      ]
    },
    {
      "cell_type": "code",
      "source": [
        "# Persiapan pembuatan model untuk training dan test untuk scorecardpy\n",
        "import scorecardpy as scpy\n",
        "\n",
        "# Persiapan pembuatan model, membagi data menjadi data variabel independen dan variabel dependen\n",
        "y = df_model.loc[:,'default']\n",
        "X = df_model.loc[:,df_model.columns != 'default']\n",
        "\n",
        "# Persiapan pembuatan model untuk training dan test\n",
        "from sklearn.model_selection import train_test_split\n",
        "X_train, X_test, y_train, y_test = train_test_split(X, y, test_size=0.30, random_state=42)\n",
        "\n",
        "# Mengubah dataset train dan test dalam bentuk dataframe lengkap\n",
        "df_train = pd.concat([X_train, y_train], axis = 1)\n",
        "df_test = pd.concat([X_test, y_test], axis = 1)\n",
        "\n",
        "# Menghapus indeks dari data yang telah dibuang\n",
        "df_train = df_train.reset_index(drop=True)\n",
        "df_test = df_test.reset_index(drop=True)"
      ],
      "metadata": {
        "id": "I6N5FHkN5IgX"
      },
      "execution_count": 168,
      "outputs": []
    },
    {
      "cell_type": "code",
      "source": [
        "# Seleksi variabel secara otomatis melalui scorecardpy\n",
        "df_scorecardpy_selection = scpy.var_filter(df_model, y=\"default\")\n",
        "df_scorecardpy_selection.info()"
      ],
      "metadata": {
        "id": "Ivrt-Fx15sAQ",
        "outputId": "8e60a656-fb30-4119-e38d-8d33dfed4aad",
        "colab": {
          "base_uri": "https://localhost:8080/"
        }
      },
      "execution_count": 170,
      "outputs": [
        {
          "output_type": "stream",
          "name": "stdout",
          "text": [
            "[INFO] filtering variables ...\n",
            "<class 'pandas.core.frame.DataFrame'>\n",
            "RangeIndex: 948 entries, 0 to 947\n",
            "Data columns (total 3 columns):\n",
            " #   Column               Non-Null Count  Dtype   \n",
            "---  ------               --------------  -----   \n",
            " 0   Usia                 948 non-null    float64 \n",
            " 1   SLIK_Kolektibilitas  948 non-null    category\n",
            " 2   default              948 non-null    int64   \n",
            "dtypes: category(1), float64(1), int64(1)\n",
            "memory usage: 16.1 KB\n"
          ]
        }
      ]
    },
    {
      "cell_type": "code",
      "source": [
        "# Seleksi variabel secara otomatis melalui scorecardpy\n",
        "df_scorecardpy_selection = scpy.var_filter(df_clean, y=\"default\")\n",
        "df_scorecardpy_selection.info()"
      ],
      "metadata": {
        "id": "_fX5XuurB2Uu",
        "outputId": "38c8b81b-d857-49cb-8c9d-91b08865c2d6",
        "colab": {
          "base_uri": "https://localhost:8080/"
        }
      },
      "execution_count": 171,
      "outputs": [
        {
          "output_type": "stream",
          "name": "stdout",
          "text": [
            "[INFO] filtering variables ...\n",
            "<class 'pandas.core.frame.DataFrame'>\n",
            "RangeIndex: 948 entries, 0 to 947\n",
            "Data columns (total 43 columns):\n",
            " #   Column                          Non-Null Count  Dtype   \n",
            "---  ------                          --------------  -----   \n",
            " 0   Lama_Cicilan_WOE                948 non-null    float64 \n",
            " 1   Pendapatan_perbulan             948 non-null    category\n",
            " 2   Lama_Bekerja                    948 non-null    category\n",
            " 3   Kepemilikan_Rumah               948 non-null    category\n",
            " 4   Alamat_Rumah_Kantor_WOE         948 non-null    float64 \n",
            " 5   SLIK_Kolektibilitas_WOE         948 non-null    float64 \n",
            " 6   API_CreditScore_Vendor_A        948 non-null    int64   \n",
            " 7   Usia_WOE                        948 non-null    float64 \n",
            " 8   Mobile_Provider_WOE             948 non-null    float64 \n",
            " 9   Device_Apps_Segmentation_Bin    948 non-null    object  \n",
            " 10  Device_Type                     948 non-null    category\n",
            " 11  DBR_Bin                         948 non-null    object  \n",
            " 12  Alamat_Rumah_Kantor             948 non-null    object  \n",
            " 13  Device_Apps_Segmentation_WOE    948 non-null    float64 \n",
            " 14  Device_Apps_Installed_Bin       948 non-null    object  \n",
            " 15  gagal_bayar                     948 non-null    category\n",
            " 16  Usia                            948 non-null    float64 \n",
            " 17  Alamat_Rumah_Kantor_Bin         948 non-null    object  \n",
            " 18  SLIK_Kolektibilitas             948 non-null    category\n",
            " 19  Device_Apps_Installed           948 non-null    int64   \n",
            " 20  Tujuan_Pinjaman_WOE             948 non-null    float64 \n",
            " 21  Device_Apps_Segmentation        948 non-null    category\n",
            " 22  Device_Apps_Installed_WOE       948 non-null    float64 \n",
            " 23  Mobile_Number_Active_Since_Bin  948 non-null    object  \n",
            " 24  Tujuan_Pinjaman                 948 non-null    category\n",
            " 25  Mobile_Number_Active_Since_WOE  948 non-null    float64 \n",
            " 26  Usia_Bin                        948 non-null    object  \n",
            " 27  Mobile_Provider                 948 non-null    category\n",
            " 28  Tujuan_Pinjaman_Bin             948 non-null    object  \n",
            " 29  Mobile_Provider_Bin             948 non-null    object  \n",
            " 30  Jumlah_Pinjaman                 948 non-null    float64 \n",
            " 31  DBR_WOE                         948 non-null    float64 \n",
            " 32  Status                          948 non-null    category\n",
            " 33  SLIK_Kolektibilitas_Bin         948 non-null    object  \n",
            " 34  Lama_Cicilan_Bin                948 non-null    object  \n",
            " 35  SLIK_Outstanding_CC             948 non-null    float64 \n",
            " 36  API_CreditScore_Vendor_B        948 non-null    int64   \n",
            " 37  API_CreditScore_Vendor_B_WOE    948 non-null    float64 \n",
            " 38  Mobile_Number_Active_Since      948 non-null    category\n",
            " 39  Alamat_Kantor                   948 non-null    category\n",
            " 40  API_CreditScore_Vendor_B_Bin    948 non-null    object  \n",
            " 41  Lama_Cicilan                    948 non-null    float64 \n",
            " 42  default                         948 non-null    int64   \n",
            "dtypes: category(12), float64(15), int64(4), object(12)\n",
            "memory usage: 242.8+ KB\n"
          ]
        }
      ]
    },
    {
      "cell_type": "code",
      "source": [
        "# Eksplorasi dataset dengan menggunakan Melakukan WOE binning\n",
        "bins = scpy.woebin(df_model, y = 'default')\n",
        "scpy.woebin_plot(bins)"
      ],
      "metadata": {
        "id": "e-cGR-J5qVas",
        "outputId": "9efff06f-31bb-41a6-a9be-8dd400f3754d",
        "colab": {
          "base_uri": "https://localhost:8080/",
          "height": 879
        }
      },
      "execution_count": 172,
      "outputs": [
        {
          "output_type": "stream",
          "name": "stdout",
          "text": [
            "[INFO] creating woe binning ...\n"
          ]
        },
        {
          "output_type": "execute_result",
          "data": {
            "text/plain": [
              "{'DBR': <Figure size 432x288 with 2 Axes>,\n",
              " 'SLIK_Kolektibilitas': <Figure size 432x288 with 2 Axes>,\n",
              " 'Usia': <Figure size 432x288 with 2 Axes>}"
            ]
          },
          "metadata": {},
          "execution_count": 172
        },
        {
          "output_type": "display_data",
          "data": {
            "image/png": "[encoded data removed]",
            "text/plain": [
              "<Figure size 432x288 with 2 Axes>"
            ]
          },
          "metadata": {
            "needs_background": "light"
          }
        },
        {
          "output_type": "display_data",
          "data": {
            "image/png": "[encoded data removed]",
            "text/plain": [
              "<Figure size 432x288 with 2 Axes>"
            ]
          },
          "metadata": {
            "needs_background": "light"
          }
        },
        {
          "output_type": "display_data",
          "data": {
            "image/png": "[encoded data removed]",
            "text/plain": [
              "<Figure size 432x288 with 2 Axes>"
            ]
          },
          "metadata": {
            "needs_background": "light"
          }
        }
      ]
    },
    {
      "cell_type": "code",
      "source": [
        "# Melakukan WOE binning dengan adjustment\n",
        "breaks_adj = {\n",
        "  'SLIK_Kolektibilitas': ['Kolek 1','Kolek 2%,%Kolek 3','Kolek 4%,%Kolek 5','Tidak_Ditemukan'],\n",
        "  'DBR': [0.0000000000001,0.1,0.2,0.3,0.4,0.5,0.6],\n",
        "  'Usia': [24,35,56]\n",
        "}\n",
        "bins_adj = scpy.woebin(df_model, y=\"default\", breaks_list=breaks_adj)\n",
        "\n",
        "scpy.woebin_plot(bins_adj)"
      ],
      "metadata": {
        "id": "CVun2xuLCj_P",
        "outputId": "aca5596f-3fd1-4ac9-983a-2f204334b267",
        "colab": {
          "base_uri": "https://localhost:8080/",
          "height": 879
        }
      },
      "execution_count": 174,
      "outputs": [
        {
          "output_type": "stream",
          "name": "stdout",
          "text": [
            "[INFO] creating woe binning ...\n"
          ]
        },
        {
          "output_type": "execute_result",
          "data": {
            "text/plain": [
              "{'DBR': <Figure size 432x288 with 2 Axes>,\n",
              " 'SLIK_Kolektibilitas': <Figure size 432x288 with 2 Axes>,\n",
              " 'Usia': <Figure size 432x288 with 2 Axes>}"
            ]
          },
          "metadata": {},
          "execution_count": 174
        },
        {
          "output_type": "display_data",
          "data": {
            "image/png": "[encoded data removed]",
            "text/plain": [
              "<Figure size 432x288 with 2 Axes>"
            ]
          },
          "metadata": {
            "needs_background": "light"
          }
        },
        {
          "output_type": "display_data",
          "data": {
            "image/png": "[encoded data removed]",
            "text/plain": [
              "<Figure size 432x288 with 2 Axes>"
            ]
          },
          "metadata": {
            "needs_background": "light"
          }
        },
        {
          "output_type": "display_data",
          "data": {
            "image/png": "[encoded data removed]",
            "text/plain": [
              "<Figure size 432x288 with 2 Axes>"
            ]
          },
          "metadata": {
            "needs_background": "light"
          }
        }
      ]
    },
    {
      "cell_type": "code",
      "source": [
        "# Pembuatan WOE\n",
        "train = df_train\n",
        "test = df_test\n",
        "\n",
        "train_woe = scpy.woebin_ply(train, bins_adj)\n",
        "test_woe = scpy.woebin_ply(test, bins_adj)\n",
        "\n",
        "y_train = train_woe.loc[:,'default']\n",
        "X_train = train_woe.loc[:,train_woe.columns != 'default']\n",
        "y_test = test_woe.loc[:,'default']\n",
        "X_test = test_woe.loc[:,train_woe.columns != 'default']\n",
        "\n",
        "print(X_train)\n",
        "print(y_train)"
      ],
      "metadata": {
        "id": "3sEMTFCuvVGF",
        "outputId": "7e8fe31d-014a-45a7-f673-7e350620f335",
        "colab": {
          "base_uri": "https://localhost:8080/"
        }
      },
      "execution_count": 175,
      "outputs": [
        {
          "output_type": "stream",
          "name": "stdout",
          "text": [
            "[INFO] converting into woe values ...\n",
            "[INFO] converting into woe values ...\n",
            "     Usia_woe   DBR_woe  SLIK_Kolektibilitas_woe\n",
            "0    0.135589  1.145360                 1.002259\n",
            "1    0.474191 -0.036634                 0.081433\n",
            "2    0.135589 -0.072352                 0.081433\n",
            "3   -0.316047 -0.303039                -0.840493\n",
            "4    0.135589  1.145360                 1.002259\n",
            "..        ...       ...                      ...\n",
            "658  0.135589 -0.303039                 0.081433\n",
            "659  0.135589  0.142058                 0.081433\n",
            "660  0.135589 -0.814122                 0.081433\n",
            "661  0.135589  0.062895                 0.081433\n",
            "662 -0.316047  0.728616                 1.139168\n",
            "\n",
            "[663 rows x 3 columns]\n",
            "0      0\n",
            "1      0\n",
            "2      0\n",
            "3      0\n",
            "4      1\n",
            "      ..\n",
            "658    0\n",
            "659    1\n",
            "660    0\n",
            "661    0\n",
            "662    1\n",
            "Name: default, Length: 663, dtype: int64\n"
          ]
        },
        {
          "output_type": "stream",
          "name": "stderr",
          "text": [
            "/usr/local/lib/python3.7/dist-packages/pandas/core/indexing.py:1781: SettingWithCopyWarning: \n",
            "A value is trying to be set on a copy of a slice from a DataFrame.\n",
            "Try using .loc[row_indexer,col_indexer] = value instead\n",
            "\n",
            "See the caveats in the documentation: https://pandas.pydata.org/pandas-docs/stable/user_guide/indexing.html#returning-a-view-versus-a-copy\n",
            "  self.obj[item_labels[indexer[info_axis]]] = value\n"
          ]
        }
      ]
    },
    {
      "cell_type": "code",
      "source": [
        "# Membuat scorecard dengan menggunakan algoritma logistic regression\n",
        "from sklearn.linear_model import LogisticRegression\n",
        "lr = LogisticRegression()\n",
        "lr.fit(X_train, y_train)\n",
        "\n",
        "print('Coefficient: ', lr.feature_names_in_, lr.coef_)\n",
        "print('Intercept: ', lr.intercept_)"
      ],
      "metadata": {
        "id": "84ows9W5vQVh",
        "outputId": "0b0244c3-86eb-4eac-d030-82948e848b65",
        "colab": {
          "base_uri": "https://localhost:8080/"
        }
      },
      "execution_count": 176,
      "outputs": [
        {
          "output_type": "stream",
          "name": "stdout",
          "text": [
            "Coefficient:  ['Usia_woe' 'DBR_woe' 'SLIK_Kolektibilitas_woe'] [[0.42978425 0.87926751 0.86141653]]\n",
            "Intercept:  [-0.82760233]\n"
          ]
        }
      ]
    },
    {
      "cell_type": "code",
      "source": [
        "# Menerapkan hasil dari regresi logistik dan menghasilkan probabilitas\n",
        "train_pred = lr.predict_proba(X_train)[:,1]\n",
        "test_pred = lr.predict_proba(X_test)[:,1]\n",
        "\n",
        "# Pembuatan perhitungan scorecard\n",
        "card = scpy.scorecard(bins_adj, lr, X_train.columns, points0=600, odds0=1/4, pdo=50, basepoints_eq0=False)\n",
        "print(card)\n",
        "\n",
        "# Menerapkan scorecard kepada setiap baris data\n",
        "train_score = scpy.scorecard_ply(train, card, print_step=0)\n",
        "test_score = scpy.scorecard_ply(test, card, print_step=0)"
      ],
      "metadata": {
        "id": "cZPzB1OLSFgz",
        "outputId": "dc9a502b-481e-4a7c-c13e-75e9e16bc6e6",
        "colab": {
          "base_uri": "https://localhost:8080/"
        }
      },
      "execution_count": 180,
      "outputs": [
        {
          "output_type": "stream",
          "name": "stdout",
          "text": [
            "{'basepoints':      variable  bin  points\n",
            "0  basepoints  NaN     560, 'Usia':   variable          bin  points\n",
            "0     Usia  [-inf,24.0)   -15.0\n",
            "1     Usia  [24.0,35.0)    -4.0\n",
            "2     Usia  [35.0,56.0)    10.0\n",
            "3     Usia   [56.0,inf)     1.0, 'DBR':    variable           bin  points\n",
            "4       DBR  [-inf,1e-13)   -73.0\n",
            "5       DBR   [1e-13,0.1)    52.0\n",
            "6       DBR     [0.1,0.2)    19.0\n",
            "7       DBR     [0.2,0.3)     2.0\n",
            "8       DBR     [0.3,0.4)     5.0\n",
            "9       DBR     [0.4,0.5)    -4.0\n",
            "10      DBR     [0.5,0.6)    -9.0\n",
            "11      DBR     [0.6,inf)   -46.0, 'SLIK_Kolektibilitas':                variable                bin  points\n",
            "12  SLIK_Kolektibilitas            Kolek 1    52.0\n",
            "13  SLIK_Kolektibilitas  Kolek 2%,%Kolek 3    -5.0\n",
            "14  SLIK_Kolektibilitas  Kolek 4%,%Kolek 5   -71.0\n",
            "15  SLIK_Kolektibilitas    Tidak_Ditemukan   -62.0}\n"
          ]
        },
        {
          "output_type": "stream",
          "name": "stderr",
          "text": [
            "/usr/local/lib/python3.7/dist-packages/pandas/core/indexing.py:1781: SettingWithCopyWarning: \n",
            "A value is trying to be set on a copy of a slice from a DataFrame.\n",
            "Try using .loc[row_indexer,col_indexer] = value instead\n",
            "\n",
            "See the caveats in the documentation: https://pandas.pydata.org/pandas-docs/stable/user_guide/indexing.html#returning-a-view-versus-a-copy\n",
            "  self.obj[item_labels[indexer[info_axis]]] = value\n"
          ]
        }
      ]
    },
    {
      "cell_type": "code",
      "source": [
        "# evaluasi ks & roc ------\n",
        "train_perf = scpy.perf_eva(y_train, train_pred, title = \"train\")\n",
        "test_perf = scpy.perf_eva(y_test, test_pred, title = \"test\")\n",
        "\n",
        "# psi\n",
        "scpy.perf_psi(\n",
        "  score = {'train':train_score, 'test':test_score},\n",
        "  label = {'train':y_train, 'test':y_test}\n",
        ")"
      ],
      "metadata": {
        "id": "9pCUaI06TThl",
        "outputId": "ab784b84-26a6-424a-fb88-f6e1569b7344",
        "colab": {
          "base_uri": "https://localhost:8080/",
          "height": 759
        }
      },
      "execution_count": 181,
      "outputs": [
        {
          "output_type": "display_data",
          "data": {
            "image/png": "[encoded data removed]",
            "text/plain": [
              "<Figure size 432x288 with 2 Axes>"
            ]
          },
          "metadata": {
            "needs_background": "light"
          }
        },
        {
          "output_type": "display_data",
          "data": {
            "image/png": "[encoded data removed]",
            "text/plain": [
              "<Figure size 432x288 with 2 Axes>"
            ]
          },
          "metadata": {
            "needs_background": "light"
          }
        },
        {
          "output_type": "display_data",
          "data": {
            "image/png": "[encoded data removed]",
            "text/plain": [
              "<Figure size 432x288 with 2 Axes>"
            ]
          },
          "metadata": {
            "needs_background": "light"
          }
        },
        {
          "output_type": "execute_result",
          "data": {
            "text/plain": [
              "{'pic': {'score': <Figure size 432x288 with 2 Axes>},\n",
              " 'psi':   variable       PSI\n",
              " 0    score  0.009231}"
            ]
          },
          "metadata": {},
          "execution_count": 181
        }
      ]
    },
    {
      "cell_type": "markdown",
      "source": [
        "## 2.3.5 Evaluasi"
      ],
      "metadata": {
        "id": "OFA9bYxVb3m8"
      }
    },
    {
      "cell_type": "code",
      "source": [
        "# Menerapkan hasil dari regresi logistik dan menghasilkan probabilitas\n",
        "train_pred_proba = lr.predict_proba(X_train)[:,1]\n",
        "test_pred_proba = lr.predict_proba(X_test)[:,1]\n",
        "\n",
        "# Menerapkan hasil dari regresi logistik dan menghasilkan bayar (0) atau gagal (1)\n",
        "train_pred = lr.predict(X_train)\n",
        "test_pred = lr.predict(X_test)"
      ],
      "metadata": {
        "id": "OFgLr0iLb3M0"
      },
      "execution_count": 182,
      "outputs": []
    },
    {
      "cell_type": "code",
      "source": [
        "print(test_pred_proba)\n",
        "print(test_pred)"
      ],
      "metadata": {
        "id": "IYSz5XDNb3PR",
        "outputId": "3c140f3e-dbe1-417c-c0fb-aa021004fcf0",
        "colab": {
          "base_uri": "https://localhost:8080/"
        }
      },
      "execution_count": 183,
      "outputs": [
        {
          "output_type": "stream",
          "name": "stdout",
          "text": [
            "[0.23871477 0.31803924 0.52173483 0.19186963 0.31803924 0.20287259\n",
            " 0.29886796 0.28383902 0.36025127 0.19544476 0.11268052 0.12412858\n",
            " 0.30195943 0.16671111 0.23871477 0.21934526 0.25983997 0.31803924\n",
            " 0.43717435 0.71238706 0.19544476 0.19544476 0.75046838 0.19544476\n",
            " 0.31803924 0.15191492 0.25983997 0.35758401 0.16431988 0.3302248\n",
            " 0.31803924 0.31682969 0.75046838 0.19544476 0.08292288 0.25983997\n",
            " 0.36025127 0.71238706 0.19544476 0.43717435 0.19544476 0.57637191\n",
            " 0.21934526 0.36025127 0.3766336  0.2774986  0.19544476 0.09892964\n",
            " 0.22742467 0.19544476 0.48537124 0.12412858 0.48537124 0.46804296\n",
            " 0.16671111 0.71238706 0.15191492 0.19184888 0.2774986  0.48856368\n",
            " 0.15191492 0.16671111 0.65892614 0.15191492 0.14681599 0.71238706\n",
            " 0.37792789 0.41136249 0.32488942 0.48537124 0.46804296 0.09892964\n",
            " 0.28451691 0.18475128 0.28451691 0.32488942 0.09892964 0.48537124\n",
            " 0.36025127 0.19544476 0.29886796 0.16671111 0.08292288 0.14791278\n",
            " 0.08292288 0.52173483 0.30195943 0.36025127 0.37792789 0.34437033\n",
            " 0.19544476 0.09290705 0.25983997 0.43717435 0.19186963 0.23871477\n",
            " 0.35758401 0.48537124 0.16671111 0.19544476 0.36025127 0.08292288\n",
            " 0.20287259 0.48856368 0.08292288 0.43717435 0.31803924 0.16671111\n",
            " 0.71238706 0.08292288 0.17328212 0.32488942 0.48537124 0.19544476\n",
            " 0.52173483 0.19544476 0.16671111 0.25983997 0.6017585  0.16671111\n",
            " 0.53702034 0.41136249 0.48537124 0.28383902 0.48537124 0.19544476\n",
            " 0.43717435 0.31803924 0.19544476 0.52173483 0.53702034 0.34437033\n",
            " 0.71238706 0.09892964 0.75046838 0.19544476 0.48537124 0.30195943\n",
            " 0.09892964 0.35758401 0.21934526 0.34437033 0.21542739 0.31803924\n",
            " 0.36025127 0.52173483 0.70111614 0.28451691 0.43717435 0.27575188\n",
            " 0.19544476 0.35758401 0.09290705 0.36025127 0.71238706 0.31682969\n",
            " 0.27575188 0.08292288 0.29886796 0.16671111 0.09892964 0.34437033\n",
            " 0.16671111 0.48638277 0.29886796 0.14681599 0.31682969 0.29886796\n",
            " 0.16353643 0.48537124 0.65892614 0.19544476 0.31682969 0.19544476\n",
            " 0.71238706 0.52173483 0.43717435 0.08292288 0.19544476 0.16671111\n",
            " 0.48638277 0.09892964 0.16671111 0.09290705 0.32488942 0.16671111\n",
            " 0.75046838 0.36025127 0.18130781 0.08292288 0.75046838 0.28383902\n",
            " 0.48638277 0.43717435 0.09892964 0.09892964 0.35758401 0.25983997\n",
            " 0.52173483 0.15191492 0.16353643 0.08292288 0.16671111 0.33226296\n",
            " 0.16671111 0.30316567 0.28383902 0.14681599 0.28383902 0.09892964\n",
            " 0.19544476 0.14791278 0.16671111 0.34437033 0.43717435 0.48537124\n",
            " 0.70111614 0.16431988 0.31803924 0.28383902 0.19544476 0.32488942\n",
            " 0.39442537 0.28383902 0.43717435 0.33226296 0.14791278 0.32488942\n",
            " 0.16353643 0.2774986  0.30984105 0.48638277 0.36025127 0.19544476\n",
            " 0.31682969 0.15191492 0.12412858 0.48537124 0.16671111 0.25983997\n",
            " 0.31803924 0.52173483 0.28383902 0.57637191 0.29886796 0.29886796\n",
            " 0.30574101 0.08292288 0.34437033 0.19544476 0.48537124 0.14681599\n",
            " 0.12412858 0.21934526 0.52173483 0.77671729 0.16671111 0.17864509\n",
            " 0.32488942 0.29886796 0.39442537 0.30574101 0.17864509 0.19544476\n",
            " 0.28383902 0.52173483 0.2774986  0.09892964 0.1740833  0.75046838\n",
            " 0.16867807 0.16671111 0.27575188 0.18475128 0.23871477 0.23871477\n",
            " 0.16671111 0.09290705 0.71238706 0.32488942 0.3766336  0.43717435\n",
            " 0.16671111 0.21934526 0.25983997]\n",
            "[0 0 1 0 0 0 0 0 0 0 0 0 0 0 0 0 0 0 0 1 0 0 1 0 0 0 0 0 0 0 0 0 1 0 0 0 0\n",
            " 1 0 0 0 1 0 0 0 0 0 0 0 0 0 0 0 0 0 1 0 0 0 0 0 0 1 0 0 1 0 0 0 0 0 0 0 0\n",
            " 0 0 0 0 0 0 0 0 0 0 0 1 0 0 0 0 0 0 0 0 0 0 0 0 0 0 0 0 0 0 0 0 0 0 1 0 0\n",
            " 0 0 0 1 0 0 0 1 0 1 0 0 0 0 0 0 0 0 1 1 0 1 0 1 0 0 0 0 0 0 0 0 0 0 1 1 0\n",
            " 0 0 0 0 0 0 1 0 0 0 0 0 0 0 0 0 0 0 0 0 0 0 1 0 0 0 1 1 0 0 0 0 0 0 0 0 0\n",
            " 0 1 0 0 0 1 0 0 0 0 0 0 0 1 0 0 0 0 0 0 0 0 0 0 0 0 0 0 0 0 0 1 0 0 0 0 0\n",
            " 0 0 0 0 0 0 0 0 0 0 0 0 0 0 0 0 0 0 0 1 0 1 0 0 0 0 0 0 0 0 0 0 1 1 0 0 0\n",
            " 0 0 0 0 0 0 1 0 0 0 1 0 0 0 0 0 0 0 0 1 0 0 0 0 0 0]\n"
          ]
        }
      ]
    },
    {
      "cell_type": "markdown",
      "source": [
        "### 2.3.5.1 Evaluasi dengan Confusion Matrix"
      ],
      "metadata": {
        "id": "DDIbSU0adRY3"
      }
    },
    {
      "cell_type": "code",
      "source": [
        "from sklearn.metrics import confusion_matrix\n",
        "print(confusion_matrix(y_true=y_test, y_pred=test_pred))"
      ],
      "metadata": {
        "id": "_asIu7lRb3SM",
        "outputId": "6370b50d-6fc5-4134-ad81-79dfba1be7ff",
        "colab": {
          "base_uri": "https://localhost:8080/"
        }
      },
      "execution_count": 188,
      "outputs": [
        {
          "output_type": "stream",
          "name": "stdout",
          "text": [
            "[[192  12]\n",
            " [ 58  23]]\n"
          ]
        }
      ]
    },
    {
      "cell_type": "markdown",
      "source": [
        "### 2.3.5.2 Evaluasi dengan Classification Report"
      ],
      "metadata": {
        "id": "gROQAk0Sh1b1"
      }
    },
    {
      "cell_type": "code",
      "source": [
        "from sklearn.metrics import classification_report\n",
        "print(classification_report(y_true=y_test, y_pred=test_pred))"
      ],
      "metadata": {
        "id": "W3vuo3gSb3U2",
        "outputId": "fc6bad36-be82-48c7-e0c6-d10b4c247fb9",
        "colab": {
          "base_uri": "https://localhost:8080/"
        }
      },
      "execution_count": 189,
      "outputs": [
        {
          "output_type": "stream",
          "name": "stdout",
          "text": [
            "              precision    recall  f1-score   support\n",
            "\n",
            "           0       0.77      0.94      0.85       204\n",
            "           1       0.66      0.28      0.40        81\n",
            "\n",
            "    accuracy                           0.75       285\n",
            "   macro avg       0.71      0.61      0.62       285\n",
            "weighted avg       0.74      0.75      0.72       285\n",
            "\n"
          ]
        }
      ]
    },
    {
      "cell_type": "code",
      "source": [
        ""
      ],
      "metadata": {
        "id": "8V2v1FheSFkJ"
      },
      "execution_count": null,
      "outputs": []
    },
    {
      "cell_type": "code",
      "metadata": {
        "id": "grWQnOiATS-S",
        "outputId": "c2c073dc-74e9-47f4-dff6-21697a88e9ee",
        "colab": {
          "base_uri": "https://localhost:8080/",
          "height": 897
        }
      },
      "source": [
        "y = df_model_Bin.loc[:,'default']\n",
        "X = df_model_Bin.loc[:,df_model_Bin.columns != 'default']\n",
        "\n",
        "from sklearn.model_selection import train_test_split\n",
        "X_train, X_test, y_train, y_test = train_test_split(X, y, test_size=0.30, random_state=42)\n",
        "\n",
        "# Dalam bentuk dataframe lengkap\n",
        "df_train = pd.concat([X_train, y_train], axis = 1)\n",
        "df_test = pd.concat([X_test, y_test], axis = 1)\n",
        "\n",
        "# Menghapus indeks dari data yang telah dibuang\n",
        "df_train = df_train.reset_index(drop=True)\n",
        "df_test = df_test.reset_index(drop=True)\n",
        "\n",
        "# Credit Scoring using logistic regression with library scorecardpy\n",
        "import scorecardpy as scpy\n",
        "\n",
        "# Melakukan WOE binning\n",
        "bins = scpy.woebin(df_model_Bin, y = 'default')\n",
        "\n",
        "# Melakukan WOE binning dengan adjustment\n",
        "breaks_adj = {\n",
        "  'SLIK_Kolektibilitas_Bin': ['Kolek 1','Kolek 2&3','Kolek 4&5','Kolek Tidak_Ditemukan'],\n",
        "  'DBR_Bin': [\"1.0%\", \"2.0-10%\",\"3.10-20%\",\"4.20-30%\",\"5.30-40%\",\"6.40-50%\",\"7.50-60%\",\"8.>60%\"],\n",
        "  'Usia_Bin': [\"1.<=23\", \"2.24-34\",\"3.35-55\",\"4.>=56\"]\n",
        "}\n",
        "bins_adj = scpy.woebin(df_model_Bin, y=\"default\", breaks_list=breaks_adj)\n",
        "\n",
        "scpy.woebin_plot(bins_adj)"
      ],
      "execution_count": 158,
      "outputs": [
        {
          "output_type": "stream",
          "name": "stdout",
          "text": [
            "[INFO] creating woe binning ...\n",
            "[INFO] creating woe binning ...\n"
          ]
        },
        {
          "output_type": "execute_result",
          "data": {
            "text/plain": [
              "{'DBR_Bin': <Figure size 432x288 with 2 Axes>,\n",
              " 'SLIK_Kolektibilitas_Bin': <Figure size 432x288 with 2 Axes>,\n",
              " 'Usia_Bin': <Figure size 432x288 with 2 Axes>}"
            ]
          },
          "metadata": {},
          "execution_count": 158
        },
        {
          "output_type": "display_data",
          "data": {
            "image/png": "[encoded data removed]",
            "text/plain": [
              "<Figure size 432x288 with 2 Axes>"
            ]
          },
          "metadata": {
            "needs_background": "light"
          }
        },
        {
          "output_type": "display_data",
          "data": {
            "image/png": "[encoded data removed]",
            "text/plain": [
              "<Figure size 432x288 with 2 Axes>"
            ]
          },
          "metadata": {
            "needs_background": "light"
          }
        },
        {
          "output_type": "display_data",
          "data": {
            "image/png": "[encoded data removed]",
            "text/plain": [
              "<Figure size 432x288 with 2 Axes>"
            ]
          },
          "metadata": {
            "needs_background": "light"
          }
        }
      ]
    },
    {
      "cell_type": "code",
      "source": [
        "df_scorecardpy_selection = scpy.var_filter(df_model_Bin, y=\"default\")\n",
        "df_scorecardpy_selection.info()"
      ],
      "metadata": {
        "id": "H4kal2Kkp1tR",
        "outputId": "ecba19bf-dc17-461b-f150-a6205fbfea88",
        "colab": {
          "base_uri": "https://localhost:8080/"
        }
      },
      "execution_count": 159,
      "outputs": [
        {
          "output_type": "stream",
          "name": "stdout",
          "text": [
            "[INFO] filtering variables ...\n",
            "<class 'pandas.core.frame.DataFrame'>\n",
            "RangeIndex: 948 entries, 0 to 947\n",
            "Data columns (total 4 columns):\n",
            " #   Column                   Non-Null Count  Dtype \n",
            "---  ------                   --------------  ----- \n",
            " 0   SLIK_Kolektibilitas_Bin  948 non-null    object\n",
            " 1   DBR_Bin                  948 non-null    object\n",
            " 2   Usia_Bin                 948 non-null    object\n",
            " 3   default                  948 non-null    int64 \n",
            "dtypes: int64(1), object(3)\n",
            "memory usage: 29.8+ KB\n"
          ]
        }
      ]
    },
    {
      "cell_type": "markdown",
      "metadata": {
        "id": "GVJTMVFh-8wx"
      },
      "source": [
        "## Pembuatan WOE secara otomatis"
      ]
    },
    {
      "cell_type": "code",
      "metadata": {
        "id": "l_4oFCg9T8ku",
        "outputId": "5a0f28c3-6a90-47ca-e818-862a62554fd1",
        "colab": {
          "base_uri": "https://localhost:8080/"
        }
      },
      "source": [
        "# contoh pembuatan tanpa test\n",
        "train = df_train\n",
        "test = df_test\n",
        "\n",
        "# converting train and test into woe values\n",
        "train_woe = scpy.woebin_ply(train, bins_adj)\n",
        "test_woe = scpy.woebin_ply(test, bins_adj)\n",
        "\n",
        "y_train = train_woe.loc[:,'default']\n",
        "X_train = train_woe.loc[:,train_woe.columns != 'default']\n",
        "y_test = test_woe.loc[:,'default']\n",
        "X_test = test_woe.loc[:,train_woe.columns != 'default']\n",
        "\n",
        "print(X_train)\n",
        "print(y_train)"
      ],
      "execution_count": 160,
      "outputs": [
        {
          "output_type": "stream",
          "name": "stdout",
          "text": [
            "[INFO] converting into woe values ...\n",
            "[INFO] converting into woe values ...\n",
            "     SLIK_Kolektibilitas_Bin_woe  DBR_Bin_woe  Usia_Bin_woe\n",
            "0                       1.002259     1.145360      0.135589\n",
            "1                       0.081433    -0.036634      0.474191\n",
            "2                       0.081433    -0.072352      0.135589\n",
            "3                      -0.840493    -0.303039     -0.316047\n",
            "4                       1.002259     1.145360      0.135589\n",
            "..                           ...          ...           ...\n",
            "658                     0.081433    -0.303039      0.135589\n",
            "659                     0.081433     0.142058      0.135589\n",
            "660                     0.081433    -0.814122      0.135589\n",
            "661                     0.081433     0.062895      0.135589\n",
            "662                     1.139168     0.728616     -0.316047\n",
            "\n",
            "[663 rows x 3 columns]\n",
            "0      0\n",
            "1      0\n",
            "2      0\n",
            "3      0\n",
            "4      1\n",
            "      ..\n",
            "658    0\n",
            "659    1\n",
            "660    0\n",
            "661    0\n",
            "662    1\n",
            "Name: default, Length: 663, dtype: int64\n"
          ]
        }
      ]
    },
    {
      "cell_type": "markdown",
      "metadata": {
        "id": "eqLAa1Sc_CC9"
      },
      "source": [
        "## Model dengan logistic regression dan hasil Scorecard"
      ]
    },
    {
      "cell_type": "code",
      "metadata": {
        "id": "8fuClTgqXUzT",
        "outputId": "e37a9f94-82ad-4873-a661-8a40d7ca56a2",
        "colab": {
          "base_uri": "https://localhost:8080/",
          "height": 360
        }
      },
      "source": [
        "# Membuat scorecard dengan menggunakan algoritma logistic regression\n",
        "from sklearn.linear_model import LogisticRegression\n",
        "lr = LogisticRegression()\n",
        "lr.fit(X_train, y_train)\n",
        "\n",
        "print('Coefficient: ', lr.feature_names_in_, lr.coef_)\n",
        "print('Intercept: ', lr.intercept_)\n",
        "\n",
        "# For those that want to know the statistic modeling\n",
        "import numpy as np\n",
        "import statsmodels.api as sm\n",
        "\n",
        "model = sm.Logit(y_train, X_train)\n",
        "result = model.fit()\n",
        "\n",
        "result.summary()"
      ],
      "execution_count": 161,
      "outputs": [
        {
          "output_type": "stream",
          "name": "stdout",
          "text": [
            "Coefficient:  ['SLIK_Kolektibilitas_Bin_woe' 'DBR_Bin_woe' 'Usia_Bin_woe'] [[0.86141653 0.87926751 0.42978425]]\n",
            "Intercept:  [-0.82760233]\n",
            "Optimization terminated successfully.\n",
            "         Current function value: 0.606183\n",
            "         Iterations 5\n"
          ]
        },
        {
          "output_type": "execute_result",
          "data": {
            "text/html": [
              "<table class=\"simpletable\">\n",
              "<caption>Logit Regression Results</caption>\n",
              "<tr>\n",
              "  <th>Dep. Variable:</th>        <td>default</td>     <th>  No. Observations:  </th>  <td>   663</td> \n",
              "</tr>\n",
              "<tr>\n",
              "  <th>Model:</th>                 <td>Logit</td>      <th>  Df Residuals:      </th>  <td>   660</td> \n",
              "</tr>\n",
              "<tr>\n",
              "  <th>Method:</th>                 <td>MLE</td>       <th>  Df Model:          </th>  <td>     2</td> \n",
              "</tr>\n",
              "<tr>\n",
              "  <th>Date:</th>            <td>Sun, 12 Dec 2021</td> <th>  Pseudo R-squ.:     </th> <td>0.003671</td>\n",
              "</tr>\n",
              "<tr>\n",
              "  <th>Time:</th>                <td>04:21:12</td>     <th>  Log-Likelihood:    </th> <td> -401.90</td>\n",
              "</tr>\n",
              "<tr>\n",
              "  <th>converged:</th>             <td>True</td>       <th>  LL-Null:           </th> <td> -403.38</td>\n",
              "</tr>\n",
              "<tr>\n",
              "  <th>Covariance Type:</th>     <td>nonrobust</td>    <th>  LLR p-value:       </th>  <td>0.2274</td> \n",
              "</tr>\n",
              "</table>\n",
              "<table class=\"simpletable\">\n",
              "<tr>\n",
              "               <td></td>                  <th>coef</th>     <th>std err</th>      <th>z</th>      <th>P>|z|</th>  <th>[0.025</th>    <th>0.975]</th>  \n",
              "</tr>\n",
              "<tr>\n",
              "  <th>SLIK_Kolektibilitas_Bin_woe</th> <td>    0.9444</td> <td>    0.159</td> <td>    5.928</td> <td> 0.000</td> <td>    0.632</td> <td>    1.257</td>\n",
              "</tr>\n",
              "<tr>\n",
              "  <th>DBR_Bin_woe</th>                 <td>    0.9797</td> <td>    0.138</td> <td>    7.084</td> <td> 0.000</td> <td>    0.709</td> <td>    1.251</td>\n",
              "</tr>\n",
              "<tr>\n",
              "  <th>Usia_Bin_woe</th>                <td>    0.4661</td> <td>    0.324</td> <td>    1.438</td> <td> 0.150</td> <td>   -0.169</td> <td>    1.101</td>\n",
              "</tr>\n",
              "</table>"
            ],
            "text/plain": [
              "<class 'statsmodels.iolib.summary.Summary'>\n",
              "\"\"\"\n",
              "                           Logit Regression Results                           \n",
              "==============================================================================\n",
              "Dep. Variable:                default   No. Observations:                  663\n",
              "Model:                          Logit   Df Residuals:                      660\n",
              "Method:                           MLE   Df Model:                            2\n",
              "Date:                Sun, 12 Dec 2021   Pseudo R-squ.:                0.003671\n",
              "Time:                        04:21:12   Log-Likelihood:                -401.90\n",
              "converged:                       True   LL-Null:                       -403.38\n",
              "Covariance Type:            nonrobust   LLR p-value:                    0.2274\n",
              "===============================================================================================\n",
              "                                  coef    std err          z      P>|z|      [0.025      0.975]\n",
              "-----------------------------------------------------------------------------------------------\n",
              "SLIK_Kolektibilitas_Bin_woe     0.9444      0.159      5.928      0.000       0.632       1.257\n",
              "DBR_Bin_woe                     0.9797      0.138      7.084      0.000       0.709       1.251\n",
              "Usia_Bin_woe                    0.4661      0.324      1.438      0.150      -0.169       1.101\n",
              "===============================================================================================\n",
              "\"\"\""
            ]
          },
          "metadata": {},
          "execution_count": 161
        }
      ]
    },
    {
      "cell_type": "code",
      "metadata": {
        "id": "kaKJaG1q08UW",
        "outputId": "bd5c6100-1025-4bc6-fe5b-1c1acb31eb74",
        "colab": {
          "base_uri": "https://localhost:8080/",
          "height": 759
        }
      },
      "source": [
        "# predicted probability\n",
        "# predicted proability\n",
        "train_pred = lr.predict_proba(X_train)[:,1]\n",
        "test_pred = lr.predict_proba(X_test)[:,1]\n",
        "\n",
        "# performance ks & roc ------\n",
        "train_perf = scpy.perf_eva(y_train, train_pred, title = \"train\")\n",
        "test_perf = scpy.perf_eva(y_test, test_pred, title = \"test\")\n",
        "\n",
        "# score ------\n",
        "card = scpy.scorecard(bins_adj, lr, X_train.columns, points0=600, odds0=1/4, pdo=50, basepoints_eq0=False)\n",
        "# credit score\n",
        "train_score = scpy.scorecard_ply(train, card, print_step=0)\n",
        "test_score = scpy.scorecard_ply(test, card, print_step=0)\n",
        "\n",
        "# psi\n",
        "scpy.perf_psi(\n",
        "  score = {'train':train_score, 'test':test_score},\n",
        "  label = {'train':y_train, 'test':y_test}\n",
        ")"
      ],
      "execution_count": 162,
      "outputs": [
        {
          "output_type": "display_data",
          "data": {
            "image/png": "[encoded data removed]",
            "text/plain": [
              "<Figure size 432x288 with 2 Axes>"
            ]
          },
          "metadata": {
            "needs_background": "light"
          }
        },
        {
          "output_type": "display_data",
          "data": {
            "image/png": "[encoded data removed]",
            "text/plain": [
              "<Figure size 432x288 with 2 Axes>"
            ]
          },
          "metadata": {
            "needs_background": "light"
          }
        },
        {
          "output_type": "display_data",
          "data": {
            "image/png": "[encoded data removed]",
            "text/plain": [
              "<Figure size 432x288 with 2 Axes>"
            ]
          },
          "metadata": {
            "needs_background": "light"
          }
        },
        {
          "output_type": "execute_result",
          "data": {
            "text/plain": [
              "{'pic': {'score': <Figure size 432x288 with 2 Axes>},\n",
              " 'psi':   variable       PSI\n",
              " 0    score  0.009231}"
            ]
          },
          "metadata": {},
          "execution_count": 162
        }
      ]
    },
    {
      "cell_type": "code",
      "metadata": {
        "id": "KOzZ-ips3QHo",
        "outputId": "8be12c46-16f2-4c2f-9092-7b4738ab8cb2",
        "colab": {
          "base_uri": "https://localhost:8080/",
          "height": 17
        }
      },
      "source": [
        "df_train_prob = pd.DataFrame(train_pred, columns=['Probability'])\n",
        "train_scorecard = pd.concat([train_score, df_train_prob], axis = 1)\n",
        "\n",
        "# Untuk memudahkan membaca hasil, maka disimpan dalam bentuk csv dan didownload\n",
        "from google.colab import files\n",
        "train_scorecard.to_csv('train_scorecard.csv') \n",
        "files.download('train_scorecard.csv')\n",
        "\n",
        "test_score.to_csv('test_score.csv') \n",
        "files.download('test_score.csv')"
      ],
      "execution_count": 163,
      "outputs": [
        {
          "output_type": "display_data",
          "data": {
            "application/javascript": [
              "\n",
              "    async function download(id, filename, size) {\n",
              "      if (!google.colab.kernel.accessAllowed) {\n",
              "        return;\n",
              "      }\n",
              "      const div = document.createElement('div');\n",
              "      const label = document.createElement('label');\n",
              "      label.textContent = `Downloading \"${filename}\": `;\n",
              "      div.appendChild(label);\n",
              "      const progress = document.createElement('progress');\n",
              "      progress.max = size;\n",
              "      div.appendChild(progress);\n",
              "      document.body.appendChild(div);\n",
              "\n",
              "      const buffers = [];\n",
              "      let downloaded = 0;\n",
              "\n",
              "      const channel = await google.colab.kernel.comms.open(id);\n",
              "      // Send a message to notify the kernel that we're ready.\n",
              "      channel.send({})\n",
              "\n",
              "      for await (const message of channel.messages) {\n",
              "        // Send a message to notify the kernel that we're ready.\n",
              "        channel.send({})\n",
              "        if (message.buffers) {\n",
              "          for (const buffer of message.buffers) {\n",
              "            buffers.push(buffer);\n",
              "            downloaded += buffer.byteLength;\n",
              "            progress.value = downloaded;\n",
              "          }\n",
              "        }\n",
              "      }\n",
              "      const blob = new Blob(buffers, {type: 'application/binary'});\n",
              "      const a = document.createElement('a');\n",
              "      a.href = window.URL.createObjectURL(blob);\n",
              "      a.download = filename;\n",
              "      div.appendChild(a);\n",
              "      a.click();\n",
              "      div.remove();\n",
              "    }\n",
              "  "
            ],
            "text/plain": [
              "<IPython.core.display.Javascript object>"
            ]
          },
          "metadata": {}
        },
        {
          "output_type": "display_data",
          "data": {
            "application/javascript": [
              "download(\"download_c148a631-2a57-4a3f-a0f3-724c3018b470\", \"train_scorecard.csv\", 19476)"
            ],
            "text/plain": [
              "<IPython.core.display.Javascript object>"
            ]
          },
          "metadata": {}
        },
        {
          "output_type": "display_data",
          "data": {
            "application/javascript": [
              "\n",
              "    async function download(id, filename, size) {\n",
              "      if (!google.colab.kernel.accessAllowed) {\n",
              "        return;\n",
              "      }\n",
              "      const div = document.createElement('div');\n",
              "      const label = document.createElement('label');\n",
              "      label.textContent = `Downloading \"${filename}\": `;\n",
              "      div.appendChild(label);\n",
              "      const progress = document.createElement('progress');\n",
              "      progress.max = size;\n",
              "      div.appendChild(progress);\n",
              "      document.body.appendChild(div);\n",
              "\n",
              "      const buffers = [];\n",
              "      let downloaded = 0;\n",
              "\n",
              "      const channel = await google.colab.kernel.comms.open(id);\n",
              "      // Send a message to notify the kernel that we're ready.\n",
              "      channel.send({})\n",
              "\n",
              "      for await (const message of channel.messages) {\n",
              "        // Send a message to notify the kernel that we're ready.\n",
              "        channel.send({})\n",
              "        if (message.buffers) {\n",
              "          for (const buffer of message.buffers) {\n",
              "            buffers.push(buffer);\n",
              "            downloaded += buffer.byteLength;\n",
              "            progress.value = downloaded;\n",
              "          }\n",
              "        }\n",
              "      }\n",
              "      const blob = new Blob(buffers, {type: 'application/binary'});\n",
              "      const a = document.createElement('a');\n",
              "      a.href = window.URL.createObjectURL(blob);\n",
              "      a.download = filename;\n",
              "      div.appendChild(a);\n",
              "      a.click();\n",
              "      div.remove();\n",
              "    }\n",
              "  "
            ],
            "text/plain": [
              "<IPython.core.display.Javascript object>"
            ]
          },
          "metadata": {}
        },
        {
          "output_type": "display_data",
          "data": {
            "application/javascript": [
              "download(\"download_709226b2-ff16-4448-82d0-d695b79cbab0\", \"test_score.csv\", 2747)"
            ],
            "text/plain": [
              "<IPython.core.display.Javascript object>"
            ]
          },
          "metadata": {}
        }
      ]
    },
    {
      "cell_type": "code",
      "metadata": {
        "id": "5ZeZoNpZXaVr",
        "outputId": "9a0c1b96-6c23-45b2-a462-09c0386dfcda",
        "colab": {
          "base_uri": "https://localhost:8080/",
          "height": 325
        }
      },
      "source": [
        "# For those that want to know the statistic modeling\n",
        "import numpy as np\n",
        "import statsmodels.api as sm\n",
        "\n",
        "model = sm.Logit(y_train, X_train)\n",
        "result = model.fit()\n",
        "\n",
        "result.summary()"
      ],
      "execution_count": 164,
      "outputs": [
        {
          "output_type": "stream",
          "name": "stdout",
          "text": [
            "Optimization terminated successfully.\n",
            "         Current function value: 0.606183\n",
            "         Iterations 5\n"
          ]
        },
        {
          "output_type": "execute_result",
          "data": {
            "text/html": [
              "<table class=\"simpletable\">\n",
              "<caption>Logit Regression Results</caption>\n",
              "<tr>\n",
              "  <th>Dep. Variable:</th>        <td>default</td>     <th>  No. Observations:  </th>  <td>   663</td> \n",
              "</tr>\n",
              "<tr>\n",
              "  <th>Model:</th>                 <td>Logit</td>      <th>  Df Residuals:      </th>  <td>   660</td> \n",
              "</tr>\n",
              "<tr>\n",
              "  <th>Method:</th>                 <td>MLE</td>       <th>  Df Model:          </th>  <td>     2</td> \n",
              "</tr>\n",
              "<tr>\n",
              "  <th>Date:</th>            <td>Sun, 12 Dec 2021</td> <th>  Pseudo R-squ.:     </th> <td>0.003671</td>\n",
              "</tr>\n",
              "<tr>\n",
              "  <th>Time:</th>                <td>04:21:14</td>     <th>  Log-Likelihood:    </th> <td> -401.90</td>\n",
              "</tr>\n",
              "<tr>\n",
              "  <th>converged:</th>             <td>True</td>       <th>  LL-Null:           </th> <td> -403.38</td>\n",
              "</tr>\n",
              "<tr>\n",
              "  <th>Covariance Type:</th>     <td>nonrobust</td>    <th>  LLR p-value:       </th>  <td>0.2274</td> \n",
              "</tr>\n",
              "</table>\n",
              "<table class=\"simpletable\">\n",
              "<tr>\n",
              "               <td></td>                  <th>coef</th>     <th>std err</th>      <th>z</th>      <th>P>|z|</th>  <th>[0.025</th>    <th>0.975]</th>  \n",
              "</tr>\n",
              "<tr>\n",
              "  <th>SLIK_Kolektibilitas_Bin_woe</th> <td>    0.9444</td> <td>    0.159</td> <td>    5.928</td> <td> 0.000</td> <td>    0.632</td> <td>    1.257</td>\n",
              "</tr>\n",
              "<tr>\n",
              "  <th>DBR_Bin_woe</th>                 <td>    0.9797</td> <td>    0.138</td> <td>    7.084</td> <td> 0.000</td> <td>    0.709</td> <td>    1.251</td>\n",
              "</tr>\n",
              "<tr>\n",
              "  <th>Usia_Bin_woe</th>                <td>    0.4661</td> <td>    0.324</td> <td>    1.438</td> <td> 0.150</td> <td>   -0.169</td> <td>    1.101</td>\n",
              "</tr>\n",
              "</table>"
            ],
            "text/plain": [
              "<class 'statsmodels.iolib.summary.Summary'>\n",
              "\"\"\"\n",
              "                           Logit Regression Results                           \n",
              "==============================================================================\n",
              "Dep. Variable:                default   No. Observations:                  663\n",
              "Model:                          Logit   Df Residuals:                      660\n",
              "Method:                           MLE   Df Model:                            2\n",
              "Date:                Sun, 12 Dec 2021   Pseudo R-squ.:                0.003671\n",
              "Time:                        04:21:14   Log-Likelihood:                -401.90\n",
              "converged:                       True   LL-Null:                       -403.38\n",
              "Covariance Type:            nonrobust   LLR p-value:                    0.2274\n",
              "===============================================================================================\n",
              "                                  coef    std err          z      P>|z|      [0.025      0.975]\n",
              "-----------------------------------------------------------------------------------------------\n",
              "SLIK_Kolektibilitas_Bin_woe     0.9444      0.159      5.928      0.000       0.632       1.257\n",
              "DBR_Bin_woe                     0.9797      0.138      7.084      0.000       0.709       1.251\n",
              "Usia_Bin_woe                    0.4661      0.324      1.438      0.150      -0.169       1.101\n",
              "===============================================================================================\n",
              "\"\"\""
            ]
          },
          "metadata": {},
          "execution_count": 164
        }
      ]
    }
  ]
}