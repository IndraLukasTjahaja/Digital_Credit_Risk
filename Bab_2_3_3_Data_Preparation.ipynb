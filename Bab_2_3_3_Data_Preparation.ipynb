{
  "nbformat": 4,
  "nbformat_minor": 0,
  "metadata": {
    "colab": {
      "name": "Bab_2.3.3_Data_Preparation.ipynb",
      "provenance": [],
      "authorship_tag": "ABX9TyPyDQEbm+7RpKLWY2XVZnA+",
      "include_colab_link": true
    },
    "kernelspec": {
      "name": "python3",
      "display_name": "Python 3"
    },
    "language_info": {
      "name": "python"
    }
  },
  "cells": [
    {
      "cell_type": "markdown",
      "metadata": {
        "id": "view-in-github",
        "colab_type": "text"
      },
      "source": [
        "<a href=\"https://colab.research.google.com/github/IndraLukasTjahaja/Digital_Credit_Risk/blob/main/Bab_2_3_3_Data_Preparation.ipynb\" target=\"_parent\"><img src=\"https://colab.research.google.com/assets/colab-badge.svg\" alt=\"Open In Colab\"/></a>"
      ]
    },
    {
      "cell_type": "code",
      "metadata": {
        "id": "lijleEyYl6gW"
      },
      "source": [
        "# 2.3.2.1 Persiapan data dan impor ke Python"
      ],
      "execution_count": 33,
      "outputs": []
    },
    {
      "cell_type": "code",
      "metadata": {
        "id": "X4yjdoBnl9Xv"
      },
      "source": [
        "# 2.3.2.2 Impor data di Python\n",
        "\n",
        "# library panda untuk menggunakan data frame\n",
        "import pandas as pd\n",
        "\n",
        "# Impor data dari excel xls ke Python\n",
        "# Pembaca dapat langsung menunjuk kepada file excel yang terletak di website pendamping buku ini\n",
        "# atau mengunduh terlebih dahulu dan menunjuk ke file excel di lokasi hard drive\n",
        "# contoh: df = pd.read_excel('C:\\User\\pembaca\\downloads\\German_credit.xls')\n",
        "\n",
        "df = pd.read_excel('https://github.com/IndraLukasTjahaja/Digital_Credit_Risk/raw/main/Credit_Scoring_Dataset.xlsx')"
      ],
      "execution_count": 34,
      "outputs": []
    },
    {
      "cell_type": "code",
      "metadata": {
        "id": "Mf2Ht_6cmehV"
      },
      "source": [
        "# 2.3.2.4 Tipe data\n",
        "\n",
        "# Merubah tipe data menjadi tipe karakter kategori\n",
        "df['gagal_bayar'] = df.gagal_bayar.astype('category')\n",
        "df['Tujuan_Pinjaman'] = df.Tujuan_Pinjaman.astype('category')\n",
        "df['Status_Rekening_Bank'] = df.Status_Rekening_Bank.astype('category')\n",
        "df['Pendapatan_perbulan'] = df.Pendapatan_perbulan.astype('category')\n",
        "df['Lama_Bekerja'] = df.Lama_Bekerja.astype('category')\n",
        "df['Status'] = df.Status.astype('category')\n",
        "df['Kepemilikan_Rumah'] = df.Kepemilikan_Rumah.astype('category')\n",
        "df['Alamat_Rumah'] = df.Alamat_Rumah.astype('category')\n",
        "df['Alamat_Kantor'] = df.Alamat_Kantor.astype('category')\n",
        "df['Lama_tinggal_ditempat_sekarang'] = df.Lama_tinggal_ditempat_sekarang.astype('category')\n",
        "df['debt_burden_ratio'] = df.debt_burden_ratio.astype('category')\n",
        "df['Device_Type'] = df.Device_Type.astype('category')\n",
        "df['Device_Active_Since'] = df.Device_Active_Since.astype('category')\n",
        "df['SLIK_Kolektibilitas'] = df.SLIK_Kolektibilitas.astype('category')\n",
        "\n",
        "# Merubah tipe data menjadi tipe karakter int64\n",
        "# Gunakan intger untuk angka bulat\n",
        "df['API_CreditScore_Vendor_A'] = df.API_CreditScore_Vendor_A.astype('int64')\n",
        "df['API_CreditScore_Vendor_B'] = df.API_CreditScore_Vendor_B.astype('int64')\n",
        "df['Device_Apps_Installed'] = df.Device_Apps_Installed.astype('int64')\n",
        "\n",
        "# Merubah tipe data menjadi tipe karakter float64\n",
        "# Gunakan intger untuk angka dengan koma\n",
        "# Jika dalam kolom tersebut terdapat null, maka harus di simpan dalam tipe float\n",
        "df['Lama_Cicilan'] = df.Lama_Cicilan.astype('float64')\n",
        "df['Usia'] = df.Usia.astype('float64')\n",
        "df['Jumlah_Pinjaman'] = df.Jumlah_Pinjaman.astype('float64')\n",
        "df['SLIK_Outstanding'] = df.SLIK_Outstanding.astype('float64')"
      ],
      "execution_count": 35,
      "outputs": []
    },
    {
      "cell_type": "code",
      "metadata": {
        "id": "5lZPEAen-nxN"
      },
      "source": [
        "import numpy as np\n",
        "\n",
        "# Untuk dapat melakukan analisa statistik, harus mengubah variabel gagal_bayar dari string menjadi angka (integer)\n",
        "# Mengubah target variabel gagal_bayar menjadi angka 0 dan 1\n",
        "conditions = [\n",
        "             df['gagal_bayar'] == '1_Gagal', \n",
        "             df['gagal_bayar'] == '0_Bayar'\n",
        "             ]\n",
        "\n",
        "choices     = [\n",
        "             1,\n",
        "             0\n",
        "             ]\n",
        "df['default'] = np.select(conditions,choices, default = 0)"
      ],
      "execution_count": 36,
      "outputs": []
    },
    {
      "cell_type": "code",
      "metadata": {
        "id": "T3nlOOk9Wzd0"
      },
      "source": [
        "# 2.3.3.1 Membuat Variabel Baru\n",
        "df['cicilan_per_bulan'] = df['Jumlah_Pinjaman'] / df['Lama_Cicilan']"
      ],
      "execution_count": 37,
      "outputs": []
    },
    {
      "cell_type": "code",
      "metadata": {
        "colab": {
          "base_uri": "https://localhost:8080/"
        },
        "id": "Sy4ZdYx7orU3",
        "outputId": "e8923396-fc17-4a20-c8d4-b1137473c44d"
      },
      "source": [
        "# 2.3.3.2 Penanganan untuk data yang hilang (missing values)\n",
        "df.info()"
      ],
      "execution_count": 38,
      "outputs": [
        {
          "output_type": "stream",
          "text": [
            "<class 'pandas.core.frame.DataFrame'>\n",
            "RangeIndex: 1000 entries, 0 to 999\n",
            "Data columns (total 29 columns):\n",
            " #   Column                          Non-Null Count  Dtype   \n",
            "---  ------                          --------------  -----   \n",
            " 0   ID                              999 non-null    object  \n",
            " 1   gagal_bayar                     991 non-null    category\n",
            " 2   Lama_Cicilan                    981 non-null    float64 \n",
            " 3   Tujuan_Pinjaman                 995 non-null    category\n",
            " 4   Jumlah_Pinjaman                 1000 non-null   float64 \n",
            " 5   Pekerjaan                       987 non-null    object  \n",
            " 6   Status_Rekening_Bank            989 non-null    category\n",
            " 7   Pendapatan_perbulan             989 non-null    category\n",
            " 8   Lama_Bekerja                    972 non-null    category\n",
            " 9   Status                          995 non-null    category\n",
            " 10  Kepemilikan_Rumah               996 non-null    category\n",
            " 11  Alamat_Rumah                    1000 non-null   category\n",
            " 12  Alamat_Kantor                   1000 non-null   category\n",
            " 13  Usia                            998 non-null    float64 \n",
            " 14  Lama_tinggal_ditempat_sekarang  997 non-null    category\n",
            " 15  debt_burden_ratio               1000 non-null   category\n",
            " 16  SLIK_Kolektibilitas             947 non-null    category\n",
            " 17  SLIK_Outstanding                960 non-null    float64 \n",
            " 18  API_CreditScore_Vendor_A        1000 non-null   int64   \n",
            " 19  API_CreditScore_Vendor_B        1000 non-null   int64   \n",
            " 20  Device_Type                     1000 non-null   category\n",
            " 21  Device_Apps_Installed           1000 non-null   int64   \n",
            " 22  Device_Active_Since             1000 non-null   category\n",
            " 23  Device_Apps_Segmentation        1000 non-null   object  \n",
            " 24  Mobile_Provider                 1000 non-null   object  \n",
            " 25  Mobile_Number_Active_Since      1000 non-null   object  \n",
            " 26  Email_Domain_Type               1000 non-null   object  \n",
            " 27  default                         1000 non-null   int64   \n",
            " 28  cicilan_per_bulan               981 non-null    float64 \n",
            "dtypes: category(14), float64(5), int64(4), object(6)\n",
            "memory usage: 133.4+ KB\n"
          ],
          "name": "stdout"
        }
      ]
    },
    {
      "cell_type": "code",
      "metadata": {
        "colab": {
          "base_uri": "https://localhost:8080/"
        },
        "id": "-4xxUmkf4amk",
        "outputId": "3207ea50-dd64-497b-c7ac-79eeb832b561"
      },
      "source": [
        "# 2.3.3.2.1 Mengisi data kosong dengan data pengganti\n",
        "# Koding berikut menggantikan missing value dari semua variabel dengan\n",
        "# nilai yang paling sering muncul (modus) untuk variabel kategori dan nilai rata-rata untuk variabel numerik\n",
        "\n",
        "# Memisahkan variabel kategori dengan variabel numerik\n",
        "df_numerik = df.select_dtypes(include=['float64','int64','int'])\n",
        "df_kategori = df.select_dtypes(exclude = ['float64','int64','int'])\n",
        "\n",
        "for kolom in df_numerik.columns:\n",
        "  df_numerik[kolom].fillna(df_numerik[kolom].mean(), inplace=True)\n",
        "\n",
        "for kolom in df_kategori.columns:\n",
        "  df_kategori[kolom].fillna(df_kategori[kolom].mode()[0], inplace=True)\n",
        "\n",
        "# Menggabungkan dataset variabel kategori dan dengan variabel numerik\n",
        "df_persiapan_1 = pd.concat([df_numerik, df_kategori], axis = 1)\n",
        "\n",
        "print(df_persiapan_1.info())\n",
        "print(df_persiapan_1.head(5))"
      ],
      "execution_count": 39,
      "outputs": [
        {
          "output_type": "stream",
          "text": [
            "<class 'pandas.core.frame.DataFrame'>\n",
            "RangeIndex: 1000 entries, 0 to 999\n",
            "Data columns (total 29 columns):\n",
            " #   Column                          Non-Null Count  Dtype   \n",
            "---  ------                          --------------  -----   \n",
            " 0   Lama_Cicilan                    1000 non-null   float64 \n",
            " 1   Jumlah_Pinjaman                 1000 non-null   float64 \n",
            " 2   Usia                            1000 non-null   float64 \n",
            " 3   SLIK_Outstanding                1000 non-null   float64 \n",
            " 4   API_CreditScore_Vendor_A        1000 non-null   int64   \n",
            " 5   API_CreditScore_Vendor_B        1000 non-null   int64   \n",
            " 6   Device_Apps_Installed           1000 non-null   int64   \n",
            " 7   default                         1000 non-null   int64   \n",
            " 8   cicilan_per_bulan               1000 non-null   float64 \n",
            " 9   ID                              1000 non-null   object  \n",
            " 10  gagal_bayar                     1000 non-null   category\n",
            " 11  Tujuan_Pinjaman                 1000 non-null   category\n",
            " 12  Pekerjaan                       1000 non-null   object  \n",
            " 13  Status_Rekening_Bank            1000 non-null   category\n",
            " 14  Pendapatan_perbulan             1000 non-null   category\n",
            " 15  Lama_Bekerja                    1000 non-null   category\n",
            " 16  Status                          1000 non-null   category\n",
            " 17  Kepemilikan_Rumah               1000 non-null   category\n",
            " 18  Alamat_Rumah                    1000 non-null   category\n",
            " 19  Alamat_Kantor                   1000 non-null   category\n",
            " 20  Lama_tinggal_ditempat_sekarang  1000 non-null   category\n",
            " 21  debt_burden_ratio               1000 non-null   category\n",
            " 22  SLIK_Kolektibilitas             1000 non-null   category\n",
            " 23  Device_Type                     1000 non-null   category\n",
            " 24  Device_Active_Since             1000 non-null   category\n",
            " 25  Device_Apps_Segmentation        1000 non-null   object  \n",
            " 26  Mobile_Provider                 1000 non-null   object  \n",
            " 27  Mobile_Number_Active_Since      1000 non-null   object  \n",
            " 28  Email_Domain_Type               1000 non-null   object  \n",
            "dtypes: category(14), float64(5), int64(4), object(6)\n",
            "memory usage: 133.4+ KB\n",
            "None\n",
            "   Lama_Cicilan  ...    Email_Domain_Type\n",
            "0           6.0  ...        Public_Domain\n",
            "1          48.0  ...        Public_Domain\n",
            "2          12.0  ...        Public_Domain\n",
            "3          42.0  ...  Professional_Domain\n",
            "4          24.0  ...        Public_Domain\n",
            "\n",
            "[5 rows x 29 columns]\n"
          ],
          "name": "stdout"
        },
        {
          "output_type": "stream",
          "text": [
            "/usr/local/lib/python3.7/dist-packages/pandas/core/series.py:4536: SettingWithCopyWarning: \n",
            "A value is trying to be set on a copy of a slice from a DataFrame\n",
            "\n",
            "See the caveats in the documentation: https://pandas.pydata.org/pandas-docs/stable/user_guide/indexing.html#returning-a-view-versus-a-copy\n",
            "  downcast=downcast,\n"
          ],
          "name": "stderr"
        }
      ]
    },
    {
      "cell_type": "code",
      "metadata": {
        "colab": {
          "base_uri": "https://localhost:8080/"
        },
        "id": "9tUm--XBtOqK",
        "outputId": "94861187-a568-4932-ef44-6184158186a0"
      },
      "source": [
        "# 2.3.3.2.2 tidak menggunakan baris data yang kosong\n",
        "\n",
        "# Menggunakan fungsi dropna() untuk menghapus semua baris yang memiliki data kosong di salah satu kolomnya\n",
        "# Untuk membedakan data yang telah 'dibersihkan' maka kita membuat dataframe baru df_persiapan_2   \n",
        "df_persiapan_2 = df.dropna()\n",
        "\n",
        "# Cek hasil dari df2\n",
        "df_persiapan_2.info()"
      ],
      "execution_count": 40,
      "outputs": [
        {
          "output_type": "stream",
          "text": [
            "<class 'pandas.core.frame.DataFrame'>\n",
            "Int64Index: 874 entries, 0 to 999\n",
            "Data columns (total 29 columns):\n",
            " #   Column                          Non-Null Count  Dtype   \n",
            "---  ------                          --------------  -----   \n",
            " 0   ID                              874 non-null    object  \n",
            " 1   gagal_bayar                     874 non-null    category\n",
            " 2   Lama_Cicilan                    874 non-null    float64 \n",
            " 3   Tujuan_Pinjaman                 874 non-null    category\n",
            " 4   Jumlah_Pinjaman                 874 non-null    float64 \n",
            " 5   Pekerjaan                       874 non-null    object  \n",
            " 6   Status_Rekening_Bank            874 non-null    category\n",
            " 7   Pendapatan_perbulan             874 non-null    category\n",
            " 8   Lama_Bekerja                    874 non-null    category\n",
            " 9   Status                          874 non-null    category\n",
            " 10  Kepemilikan_Rumah               874 non-null    category\n",
            " 11  Alamat_Rumah                    874 non-null    category\n",
            " 12  Alamat_Kantor                   874 non-null    category\n",
            " 13  Usia                            874 non-null    float64 \n",
            " 14  Lama_tinggal_ditempat_sekarang  874 non-null    category\n",
            " 15  debt_burden_ratio               874 non-null    category\n",
            " 16  SLIK_Kolektibilitas             874 non-null    category\n",
            " 17  SLIK_Outstanding                874 non-null    float64 \n",
            " 18  API_CreditScore_Vendor_A        874 non-null    int64   \n",
            " 19  API_CreditScore_Vendor_B        874 non-null    int64   \n",
            " 20  Device_Type                     874 non-null    category\n",
            " 21  Device_Apps_Installed           874 non-null    int64   \n",
            " 22  Device_Active_Since             874 non-null    category\n",
            " 23  Device_Apps_Segmentation        874 non-null    object  \n",
            " 24  Mobile_Provider                 874 non-null    object  \n",
            " 25  Mobile_Number_Active_Since      874 non-null    object  \n",
            " 26  Email_Domain_Type               874 non-null    object  \n",
            " 27  default                         874 non-null    int64   \n",
            " 28  cicilan_per_bulan               874 non-null    float64 \n",
            "dtypes: category(14), float64(5), int64(4), object(6)\n",
            "memory usage: 123.6+ KB\n"
          ],
          "name": "stdout"
        }
      ]
    }
  ]
}